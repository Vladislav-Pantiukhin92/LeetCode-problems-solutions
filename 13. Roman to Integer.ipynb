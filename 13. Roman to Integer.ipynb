{
 "cells": [
  {
   "cell_type": "markdown",
   "id": "d5231fa6",
   "metadata": {},
   "source": [
    "### 13. Roman to Integer"
   ]
  },
  {
   "cell_type": "code",
   "execution_count": 136,
   "id": "db3c914c",
   "metadata": {},
   "outputs": [
    {
     "data": {
      "text/plain": [
       "1994"
      ]
     },
     "execution_count": 136,
     "metadata": {},
     "output_type": "execute_result"
    }
   ],
   "source": [
    "\"\"\"\n",
    "Roman numerals are represented by seven different symbols: I, V, X, L, C, D and M.\n",
    "Symbol       Value\n",
    "I             1\n",
    "V             5\n",
    "X             10\n",
    "L             50\n",
    "C             100\n",
    "D             500\n",
    "M             1000\n",
    "For example, 2 is written as II in Roman numeral, just two one's added together. \n",
    "12 is written as XII, which is simply X + II. The number 27 is written as XXVII, which is XX + V + II.\n",
    "Roman numerals are usually written largest to smallest from left to right. \n",
    "However, the numeral for four is not IIII. Instead, the number four is written as IV. \n",
    "Because the one is before the five we subtract it making four. \n",
    "The same principle applies to the number nine, which is written as IX. \n",
    "There are six instances where subtraction is used:\n",
    "\n",
    "I can be placed before V (5) and X (10) to make 4 and 9. \n",
    "X can be placed before L (50) and C (100) to make 40 and 90. \n",
    "C can be placed before D (500) and M (1000) to make 400 and 900.\n",
    "Given a roman numeral, convert it to an integer.\n",
    "Example 1:\n",
    "\n",
    "Input: s = \"III\"\n",
    "Output: 3\n",
    "Explanation: III = 3.\n",
    "Example 2:\n",
    "\n",
    "Input: s = \"LVIII\"\n",
    "Output: 58\n",
    "Explanation: L = 50, V= 5, III = 3.\n",
    "Example 3:\n",
    "\n",
    "Input: s = \"MCMXCIV\"\n",
    "Output: 1994\n",
    "Explanation: M = 1000, CM = 900, XC = 90 and IV = 4.\n",
    "\"\"\"\n",
    "\n",
    "class Solution:\n",
    "    def romanToInt(self, s: str) -> int:\n",
    "        # The key to solving this problem is to create the full-fledged dictionary for translating Roman \n",
    "        # numerals into decimal numbers\n",
    "        \n",
    "        romanNumerals = {\"M\": 1000, \"CM\": 900, \"D\": 500, \"CD\": 400, \n",
    "                          \"C\": 100, \"XC\": 90, \"L\": 50, \"XL\": 40,\n",
    "                          \"X\": 10, \"IX\": 9, \"V\": 5, \"IV\": 4, \"I\": 1}\n",
    "        i = 0\n",
    "        final_num = 0\n",
    "        # The most preferable option is to translate two Roman numerals at once (for that we check the \n",
    "        # existence of a certain Roman numerals' combination within the created dictionary)\n",
    "        while i < len(s):\n",
    "            if i + 1 < len(s) and s[i:i + 2] in romanNumerals:\n",
    "                final_num += romanNumerals[s[i:i + 2]] # If two-numerals' combination exists within the dictionary \n",
    "                # we translate exactly this combination from the dictionary into corresponding decimal numbers\n",
    "                i += 2\n",
    "            else: # If two-numerals' combination doesn't exist within the dictionary, we translate only one Roman \n",
    "                # numeral \n",
    "                final_num += romanNumerals[s[i]]\n",
    "                i += 1 \n",
    "        return final_num\n",
    "    \n",
    "a = Solution()\n",
    "a.romanToInt(\"MCMXCIV\")"
   ]
  }
 ],
 "metadata": {
  "kernelspec": {
   "display_name": "Python 3 (ipykernel)",
   "language": "python",
   "name": "python3"
  },
  "language_info": {
   "codemirror_mode": {
    "name": "ipython",
    "version": 3
   },
   "file_extension": ".py",
   "mimetype": "text/x-python",
   "name": "python",
   "nbconvert_exporter": "python",
   "pygments_lexer": "ipython3",
   "version": "3.9.7"
  }
 },
 "nbformat": 4,
 "nbformat_minor": 5
}
