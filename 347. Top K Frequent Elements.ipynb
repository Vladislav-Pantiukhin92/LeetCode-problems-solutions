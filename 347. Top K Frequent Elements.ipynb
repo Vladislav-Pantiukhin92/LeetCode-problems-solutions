{
 "cells": [
  {
   "cell_type": "markdown",
   "id": "34e7f882",
   "metadata": {},
   "source": [
    "### 347. Top K Frequent Elements"
   ]
  },
  {
   "cell_type": "code",
   "execution_count": 5,
   "id": "a8d16231",
   "metadata": {},
   "outputs": [
    {
     "data": {
      "text/plain": [
       "[2, 1]"
      ]
     },
     "execution_count": 5,
     "metadata": {},
     "output_type": "execute_result"
    }
   ],
   "source": [
    "\"\"\"\n",
    "Given an integer array nums and an integer k, return the k most frequent elements. \n",
    "You may return the answer in any order.\n",
    "Example 1:\n",
    "\n",
    "Input: nums = [1,1,1,2,2,3], k = 2\n",
    "Output: [1,2]\n",
    "Example 2:\n",
    "\n",
    "Input: nums = [1], k = 1\n",
    "Output: [1]\n",
    "\"\"\"\n",
    "\n",
    "from itertools import groupby # 'groupby' will be used to form the tuples (unique values + their occurencies)\n",
    "from operator import * # 'itemgetter' will be used to sort the array with regard to the specific argument\n",
    "\n",
    "class Solution:\n",
    "    def topKFrequent(self, nums: List[int], k: int) -> List[int]:\n",
    "        nums = sorted(nums)\n",
    "        result = []\n",
    "        final = []\n",
    "        for key, group in groupby(nums):\n",
    "            lst = [key, len(list(group))]\n",
    "            final.append(lst)\n",
    "        final = sorted(final, key=itemgetter(1))\n",
    "        # We are going to return the k elements (required slice) from the end(-1 - first element, etc.)\n",
    "        for j in final[-k:]:\n",
    "            result.append(j[0])\n",
    "        return result\n",
    "    \n",
    "a = Solution()\n",
    "a.topKFrequent([1,1,1,2,2,3], 2)"
   ]
  }
 ],
 "metadata": {
  "kernelspec": {
   "display_name": "Python 3 (ipykernel)",
   "language": "python",
   "name": "python3"
  },
  "language_info": {
   "codemirror_mode": {
    "name": "ipython",
    "version": 3
   },
   "file_extension": ".py",
   "mimetype": "text/x-python",
   "name": "python",
   "nbconvert_exporter": "python",
   "pygments_lexer": "ipython3",
   "version": "3.9.7"
  }
 },
 "nbformat": 4,
 "nbformat_minor": 5
}
