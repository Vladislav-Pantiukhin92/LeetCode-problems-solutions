{
 "cells": [
  {
   "cell_type": "markdown",
   "id": "fa203633",
   "metadata": {},
   "source": [
    "### 1002. Find Common Characters"
   ]
  },
  {
   "cell_type": "code",
   "execution_count": 143,
   "id": "92a84cd5",
   "metadata": {},
   "outputs": [
    {
     "data": {
      "text/plain": [
       "['c', 'o']"
      ]
     },
     "execution_count": 143,
     "metadata": {},
     "output_type": "execute_result"
    }
   ],
   "source": [
    "\"\"\"\n",
    "Given a string array words, return an array of all characters that show up \n",
    "in all strings within the words (including duplicates). You may return the answer in any order.\n",
    "Example 1:\n",
    "\n",
    "Input: words = [\"bella\",\"label\",\"roller\"]\n",
    "Output: [\"e\",\"l\",\"l\"]\n",
    "Example 2:\n",
    "\n",
    "Input: words = [\"cool\",\"lock\",\"cook\"]\n",
    "Output: [\"c\",\"o\"]\n",
    "\"\"\"\n",
    "\n",
    "class Solution:\n",
    "    def commonChars(self, words: List[str]) -> List[str]:\n",
    "        myDict = {} # The hashTable will be used\n",
    "        final = []\n",
    "        # Firstly, we focus only on the first element (word), because it is our initial map of key-value pairs\n",
    "        for i in words[0]:\n",
    "            if i not in myDict:\n",
    "                myDict[i] = 1\n",
    "            else:\n",
    "                myDict[i] += 1\n",
    "                \n",
    "        # During further iterations we only have to change values, which already exist within the hashTable\n",
    "        while len(words) > 1:\n",
    "            # We will use the stack structure to extract elements one-by-one (the first element should not be extracted\n",
    "            # because it has already been analyzed)\n",
    "            new_word = words.pop()\n",
    "            for i in myDict:\n",
    "                if i not in new_word:\n",
    "                    myDict[i] = 0 # If the value doesn't exist in other words, it means that the element is not common for all words\n",
    "                    # That is why, we annul the value\n",
    "                else:\n",
    "                    # In other cases we always convert the value to the smaller occurrence, if necessary\n",
    "                    if myDict[i] > new_word.count(i):\n",
    "                        myDict[i] = new_word.count(i)\n",
    "# As the optimal occurrence is determined, we use another 'for loop' to add the specific amount of elements to the final list\n",
    "        for j in myDict:\n",
    "            for _ in range(myDict[j]):\n",
    "                final.append(j)\n",
    "        return final\n",
    "    \n",
    "a = Solution()\n",
    "a.commonChars([\"cool\",\"lock\",\"cook\"])"
   ]
  }
 ],
 "metadata": {
  "kernelspec": {
   "display_name": "Python 3 (ipykernel)",
   "language": "python",
   "name": "python3"
  },
  "language_info": {
   "codemirror_mode": {
    "name": "ipython",
    "version": 3
   },
   "file_extension": ".py",
   "mimetype": "text/x-python",
   "name": "python",
   "nbconvert_exporter": "python",
   "pygments_lexer": "ipython3",
   "version": "3.9.7"
  }
 },
 "nbformat": 4,
 "nbformat_minor": 5
}
