{
 "cells": [
  {
   "cell_type": "markdown",
   "id": "907d6bd5",
   "metadata": {},
   "source": [
    "### 1009. Complement of Base 10 Integer"
   ]
  },
  {
   "cell_type": "code",
   "execution_count": 9,
   "id": "706a60ad",
   "metadata": {},
   "outputs": [
    {
     "data": {
      "text/plain": [
       "5"
      ]
     },
     "execution_count": 9,
     "metadata": {},
     "output_type": "execute_result"
    }
   ],
   "source": [
    "\"\"\"\n",
    "The complement of an integer is the integer you get when you flip all the 0's to 1's and all the 1's to 0's in its binary representation.\n",
    "For example, The integer 5 is \"101\" in binary and its complement is \"010\" which is the integer 2.\n",
    "Given an integer n, return its complement.\n",
    "Example 1:\n",
    "\n",
    "Input: n = 5\n",
    "Output: 2\n",
    "Explanation: 5 is \"101\" in binary, with complement \"010\" in binary, which is 2 in base-10.\n",
    "Example 2:\n",
    "\n",
    "Input: n = 7\n",
    "Output: 0\n",
    "Explanation: 7 is \"111\" in binary, with complement \"000\" in binary, which is 0 in base-10.\n",
    "Example 3:\n",
    "\n",
    "Input: n = 10\n",
    "Output: 5\n",
    "Explanation: 10 is \"1010\" in binary, with complement \"0101\" in binary, which is 5 in base-10.\n",
    "\"\"\"\n",
    "\n",
    "class Solution:\n",
    "    def bitwiseComplement(self, n: int) -> int:\n",
    "        if n == 0:\n",
    "            return 1\n",
    "        binary_repr = bin(n).lstrip(\"0b\") # Binary representation \n",
    "        table = str.maketrans(\"10\", \"01\") # The string translation method str.maketrans() is applied\n",
    "        return int(binary_repr.translate(table), 2) # Binary representation being turned into the decimal \n",
    "    # representation again\n",
    "    \n",
    "a = Solution()\n",
    "a.bitwiseComplement(10)"
   ]
  }
 ],
 "metadata": {
  "kernelspec": {
   "display_name": "Python 3 (ipykernel)",
   "language": "python",
   "name": "python3"
  },
  "language_info": {
   "codemirror_mode": {
    "name": "ipython",
    "version": 3
   },
   "file_extension": ".py",
   "mimetype": "text/x-python",
   "name": "python",
   "nbconvert_exporter": "python",
   "pygments_lexer": "ipython3",
   "version": "3.9.7"
  }
 },
 "nbformat": 4,
 "nbformat_minor": 5
}
