{
 "cells": [
  {
   "cell_type": "markdown",
   "id": "e8911392",
   "metadata": {},
   "source": [
    "### 1047. Remove All Adjacent Duplicates In String"
   ]
  },
  {
   "cell_type": "code",
   "execution_count": 90,
   "id": "fe76d748",
   "metadata": {},
   "outputs": [
    {
     "data": {
      "text/plain": [
       "'ca'"
      ]
     },
     "execution_count": 90,
     "metadata": {},
     "output_type": "execute_result"
    }
   ],
   "source": [
    "\"\"\"\n",
    "You are given a string s consisting of lowercase English letters. \n",
    "A duplicate removal consists of choosing two adjacent and equal letters and removing them.\n",
    "We repeatedly make duplicate removals on s until we no longer can.\n",
    "Return the final string after all such duplicate removals have been made. \n",
    "It can be proven that the answer is unique.\n",
    "Example 1:\n",
    "\n",
    "Input: s = \"abbaca\"\n",
    "Output: \"ca\"\n",
    "Explanation: \n",
    "For example, in \"abbaca\" we could remove \"bb\" since the letters are adjacent and equal, \n",
    "and this is the only possible move.  The result of this move is that the string is \"aaca\", \n",
    "of which only \"aa\" is possible, so the final string is \"ca\".\n",
    "Example 2:\n",
    "\n",
    "Input: s = \"azxxzy\"\n",
    "Output: \"ay\"\n",
    "\"\"\"\n",
    "\n",
    "from queue import LifoQueue # The stack module is going to be implemented for solving the problem\n",
    "\n",
    "class Solution:\n",
    "    def removeDuplicates(self, s: str) -> str:\n",
    "        lst = LifoQueue() # Let's initialize the stack structure\n",
    "        for i in s:\n",
    "            # If stack is empty, the first element should be added\n",
    "            if lst.empty():\n",
    "                lst.put(i)\n",
    "            else:\n",
    "            # If stack is not empty we compare the earliest stack element with 'i' from 'for loop'\n",
    "            # If these values are equal, it means that duplicates have been encountered, so we just continue\n",
    "            # looping because the stack element has already been removed from the list\n",
    "                curElement = lst.get()\n",
    "                if curElement == i:\n",
    "                    continue\n",
    "            # If these elements are different, it means there are no duplicates, so the new element should be added\n",
    "            # to the stack\n",
    "                else:\n",
    "                    lst.put(curElement)\n",
    "                    lst.put(i)\n",
    "        result = lst.queue\n",
    "        # Finally, the remaining elements from the stack are returned as a string output\n",
    "        return \"\".join(result)\n",
    "    \n",
    "a = Solution()\n",
    "a.removeDuplicates(\"abbaca\")"
   ]
  }
 ],
 "metadata": {
  "kernelspec": {
   "display_name": "Python 3 (ipykernel)",
   "language": "python",
   "name": "python3"
  },
  "language_info": {
   "codemirror_mode": {
    "name": "ipython",
    "version": 3
   },
   "file_extension": ".py",
   "mimetype": "text/x-python",
   "name": "python",
   "nbconvert_exporter": "python",
   "pygments_lexer": "ipython3",
   "version": "3.9.7"
  }
 },
 "nbformat": 4,
 "nbformat_minor": 5
}
