{
 "cells": [
  {
   "cell_type": "markdown",
   "id": "59a8a18a",
   "metadata": {},
   "source": [
    "### 1051. Height Checker"
   ]
  },
  {
   "cell_type": "code",
   "execution_count": 16,
   "id": "56f562fb",
   "metadata": {},
   "outputs": [
    {
     "data": {
      "text/plain": [
       "5"
      ]
     },
     "execution_count": 16,
     "metadata": {},
     "output_type": "execute_result"
    }
   ],
   "source": [
    "\"\"\"\n",
    "A school is trying to take an annual photo of all the students. The students are asked to stand \n",
    "in a single file line in non-decreasing order by height. Let this ordering be represented by the integer \n",
    "array expected where expected[i] is the expected height of the ith student in line.\n",
    "You are given an integer array heights representing the current order that the students are standing in. \n",
    "Each heights[i] is the height of the ith student in line (0-indexed).\n",
    "Return the number of indices where heights[i] != expected[i].\n",
    "Example 1:\n",
    "\n",
    "Input: heights = [1,1,4,2,1,3]\n",
    "Output: 3\n",
    "Explanation: \n",
    "heights:  [1,1,4,2,1,3]\n",
    "expected: [1,1,1,2,3,4]\n",
    "Indices 2, 4, and 5 do not match.\n",
    "Example 2:\n",
    "\n",
    "Input: heights = [5,1,2,3,4]\n",
    "Output: 5\n",
    "Explanation:\n",
    "heights:  [5,1,2,3,4]\n",
    "expected: [1,2,3,4,5]\n",
    "All indices do not match.\n",
    "Example 3:\n",
    "\n",
    "Input: heights = [1,2,3,4,5]\n",
    "Output: 0\n",
    "Explanation:\n",
    "heights:  [1,2,3,4,5]\n",
    "expected: [1,2,3,4,5]\n",
    "All indices match.\n",
    "\"\"\"\n",
    "\n",
    "class Solution:\n",
    "    def heightChecker(self, heights: List[int]) -> int:\n",
    "        expected = sorted(heights) # First of all, let's sort the input array in ascending order\n",
    "        # We are going to compare parallel elements of two arrays one by one\n",
    "        # If two different numbers are encountered - we count it as a disparity case\n",
    "        i = 0\n",
    "        j = 0\n",
    "        count = 0\n",
    "        while i < len(heights):\n",
    "            if heights[i] != expected[j]:\n",
    "                count += 1\n",
    "            i += 1\n",
    "            j += 1\n",
    "        return count # Finally the number of such discrepancies is returned\n",
    "    \n",
    "a = Solution()\n",
    "a.heightChecker([5,1,2,3,4])"
   ]
  }
 ],
 "metadata": {
  "kernelspec": {
   "display_name": "Python 3 (ipykernel)",
   "language": "python",
   "name": "python3"
  },
  "language_info": {
   "codemirror_mode": {
    "name": "ipython",
    "version": 3
   },
   "file_extension": ".py",
   "mimetype": "text/x-python",
   "name": "python",
   "nbconvert_exporter": "python",
   "pygments_lexer": "ipython3",
   "version": "3.9.7"
  }
 },
 "nbformat": 4,
 "nbformat_minor": 5
}
