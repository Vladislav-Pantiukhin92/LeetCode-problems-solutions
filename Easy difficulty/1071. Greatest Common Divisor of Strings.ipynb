{
 "cells": [
  {
   "cell_type": "markdown",
   "id": "ccad8471",
   "metadata": {},
   "source": [
    "### 1071. Greatest Common Divisor of Strings"
   ]
  },
  {
   "cell_type": "code",
   "execution_count": 4,
   "id": "7a87dec8",
   "metadata": {},
   "outputs": [
    {
     "data": {
      "text/plain": [
       "'AB'"
      ]
     },
     "execution_count": 4,
     "metadata": {},
     "output_type": "execute_result"
    }
   ],
   "source": [
    "\"\"\"\n",
    "For two strings s and t, we say \"t divides s\" if and only if s = t + ... + t (i.e., t is concatenated \n",
    "with itself one or more times).\n",
    "Given two strings str1 and str2, return the largest string x such that x divides both str1 and str2.\n",
    "\n",
    "Example 1:\n",
    "\n",
    "Input: str1 = \"ABCABC\", str2 = \"ABC\"\n",
    "Output: \"ABC\"\n",
    "Example 2:\n",
    "\n",
    "Input: str1 = \"ABABAB\", str2 = \"ABAB\"\n",
    "Output: \"AB\"\n",
    "Example 3:\n",
    "\n",
    "Input: str1 = \"LEET\", str2 = \"CODE\"\n",
    "Output: \"\"\n",
    "\"\"\"\n",
    "\n",
    "class Solution:\n",
    "    def gcdOfStrings(self, str1: str, str2: str) -> str:\n",
    "        if str1[0] != str2[0]: # If the first element of the first given input string != the first element of \n",
    "            # the second given input string - we return \"\"\n",
    "            return \"\"\n",
    "        i = j = 0 # The initial parameter of two pointers\n",
    "        # We should preserve the original composition of these two given input strings:\n",
    "        original1 = str1 # The original composition of the first string\n",
    "        original2 = str2 # The original composition of the second string\n",
    "        final = [] # It is the list container, which will store all possible string divisors\n",
    "        while i < len(original1) and j < len(original2):\n",
    "            # The string method 'str.replace()' will emulate the division function\n",
    "            curString1 = str1.replace(str1[0:i + 1], \"\")\n",
    "            curString2 = str2.replace(str2[0:j + 1], \"\")\n",
    "            # If, following the division process, we have only empty strings in both cases - we append the \n",
    "            # obtained string divisor\n",
    "            if not curString1 and not curString2:\n",
    "                final.append(original1[0:i + 1])\n",
    "            i += 1\n",
    "            j += 1\n",
    "            str1 = original1 # The original composition of the first string is restored\n",
    "            str2 = original2 # The original composition of the second string is restored\n",
    "        if final: # If the list contains string divisors, we return the longest one\n",
    "            return sorted(final, key=len)[-1]\n",
    "        return \"\" # Alternatively, we return an empty string\n",
    "    \n",
    "a = Solution()\n",
    "a.gcdOfStrings(\"ABABAB\", \"ABAB\")"
   ]
  }
 ],
 "metadata": {
  "kernelspec": {
   "display_name": "Python 3 (ipykernel)",
   "language": "python",
   "name": "python3"
  },
  "language_info": {
   "codemirror_mode": {
    "name": "ipython",
    "version": 3
   },
   "file_extension": ".py",
   "mimetype": "text/x-python",
   "name": "python",
   "nbconvert_exporter": "python",
   "pygments_lexer": "ipython3",
   "version": "3.9.7"
  }
 },
 "nbformat": 4,
 "nbformat_minor": 5
}
