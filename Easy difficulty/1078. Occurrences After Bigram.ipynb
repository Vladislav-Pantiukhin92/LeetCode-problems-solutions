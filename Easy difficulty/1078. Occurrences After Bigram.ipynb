{
 "cells": [
  {
   "cell_type": "markdown",
   "id": "1d96f6fe",
   "metadata": {},
   "source": [
    "### 1078. Occurrences After Bigram"
   ]
  },
  {
   "cell_type": "code",
   "execution_count": 18,
   "id": "9120f4a4",
   "metadata": {},
   "outputs": [
    {
     "data": {
      "text/plain": [
       "['we', 'rock']"
      ]
     },
     "execution_count": 18,
     "metadata": {},
     "output_type": "execute_result"
    }
   ],
   "source": [
    "\"\"\"\n",
    "Given two strings first and second, consider occurrences in some text of the form \"first second third\", \n",
    "where second comes immediately after first, and third comes immediately after second.\n",
    "Return an array of all the words third for each occurrence of \"first second third\".\n",
    "\n",
    "Example 1:\n",
    "Input: text = \"alice is a good girl she is a good student\", first = \"a\", second = \"good\"\n",
    "Output: [\"girl\",\"student\"]\n",
    "\n",
    "Example 2:\n",
    "Input: text = \"we will we will rock you\", first = \"we\", second = \"will\"\n",
    "Output: [\"we\",\"rock\"]\n",
    "\"\"\"\n",
    "\n",
    "from queue import Queue # We are going to create the queue structure for the purpose of finding the pertinent \n",
    "# return result\n",
    "\n",
    "class Solution:\n",
    "    def findOcurrences(self, text: str, first: str, second: str) -> List[str]:\n",
    "        chunk = f\"{first} {second}\" # It is the chunk of words, consisting of the first word and the second word\n",
    "        myQueue = Queue() # The queue structure is initialized\n",
    "        text = text.split() # The given input string is split into the separate words within the list\n",
    "        final = [] # It is the list container, which will store the 'third' occurrence\n",
    "        while text:\n",
    "            curWord = text.pop(0)\n",
    "            if myQueue.qsize() != 2: # While the queue structure has less than 2 words - we continue\n",
    "                myQueue.put(curWord)\n",
    "            else:\n",
    "                if f\"{myQueue.queue[0]} {myQueue.queue[1]}\" == chunk: # The string chunk, consisting of the first \n",
    "                    # word and the second word\n",
    "                    final.append(curWord) # The word is appended to the list, if the 'first' word and the 'second'\n",
    "                    # word meet the requirement\n",
    "                myQueue.get()\n",
    "                myQueue.put(curWord)\n",
    "        return final # The list with the 'third' components is returned\n",
    "    \n",
    "a = Solution()\n",
    "a.findOcurrences(\"we will we will rock you\", \"we\", \"will\")"
   ]
  }
 ],
 "metadata": {
  "kernelspec": {
   "display_name": "Python 3 (ipykernel)",
   "language": "python",
   "name": "python3"
  },
  "language_info": {
   "codemirror_mode": {
    "name": "ipython",
    "version": 3
   },
   "file_extension": ".py",
   "mimetype": "text/x-python",
   "name": "python",
   "nbconvert_exporter": "python",
   "pygments_lexer": "ipython3",
   "version": "3.9.7"
  }
 },
 "nbformat": 4,
 "nbformat_minor": 5
}
