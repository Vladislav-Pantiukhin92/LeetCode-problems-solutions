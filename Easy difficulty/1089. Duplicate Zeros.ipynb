{
 "cells": [
  {
   "cell_type": "markdown",
   "id": "3d28cd6a",
   "metadata": {},
   "source": [
    "### 1089. Duplicate Zeros"
   ]
  },
  {
   "cell_type": "code",
   "execution_count": 26,
   "id": "9acca04c",
   "metadata": {},
   "outputs": [
    {
     "data": {
      "text/plain": [
       "[1, 0, 0, 2, 3, 0, 0, 4]"
      ]
     },
     "execution_count": 26,
     "metadata": {},
     "output_type": "execute_result"
    }
   ],
   "source": [
    "\"\"\"\n",
    "Given a fixed-length integer array arr, duplicate each occurrence of zero, shifting the remaining elements to the right.\n",
    "Note that elements beyond the length of the original array are not written. Do the above modifications \n",
    "to the input array in place and do not return anything.\n",
    "Example 1:\n",
    "\n",
    "Input: arr = [1,0,2,3,0,4,5,0]\n",
    "Output: [1,0,0,2,3,0,0,4]\n",
    "Explanation: After calling your function, the input array is modified to: [1,0,0,2,3,0,0,4]\n",
    "Example 2:\n",
    "\n",
    "Input: arr = [1,2,3]\n",
    "Output: [1,2,3]\n",
    "Explanation: After calling your function, the input array is modified to: [1,2,3]\n",
    "\"\"\"\n",
    "\n",
    "class Solution:\n",
    "    def duplicateZeros(self, arr: List[int]) -> None:\n",
    "        # The simplest case is when there are no zeros within the input list\n",
    "        if arr.count(0) < 1:\n",
    "            return arr\n",
    "        # Otherwise, we create an empty list, which will store all numbers, including appended zeros\n",
    "        # This empty list can be modified and extended\n",
    "        my_list = []\n",
    "        for i in arr:\n",
    "            if i != 0:\n",
    "                my_list.append(i)\n",
    "            else:\n",
    "                my_list.extend([0, 0])\n",
    "        # When the created list is filled with all elements from the original array, including zero duplicates,\n",
    "        # we just replicate the content of this list for the original array:\n",
    "        for i in range(len(arr)):\n",
    "            arr[i] = my_list[i]\n",
    "        return arr\n",
    "    \n",
    "a = Solution()\n",
    "a.duplicateZeros([1,0,2,3,0,4,5,0])"
   ]
  }
 ],
 "metadata": {
  "kernelspec": {
   "display_name": "Python 3 (ipykernel)",
   "language": "python",
   "name": "python3"
  },
  "language_info": {
   "codemirror_mode": {
    "name": "ipython",
    "version": 3
   },
   "file_extension": ".py",
   "mimetype": "text/x-python",
   "name": "python",
   "nbconvert_exporter": "python",
   "pygments_lexer": "ipython3",
   "version": "3.9.7"
  }
 },
 "nbformat": 4,
 "nbformat_minor": 5
}
