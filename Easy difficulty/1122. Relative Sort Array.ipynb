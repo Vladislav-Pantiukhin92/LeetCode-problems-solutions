{
 "cells": [
  {
   "cell_type": "markdown",
   "id": "b9a1a6a7",
   "metadata": {},
   "source": [
    "### 1122. Relative Sort Array"
   ]
  },
  {
   "cell_type": "code",
   "execution_count": 279,
   "id": "9a199e2e",
   "metadata": {},
   "outputs": [
    {
     "data": {
      "text/plain": [
       "[2, 2, 2, 1, 4, 3, 3, 9, 6, 7, 19]"
      ]
     },
     "execution_count": 279,
     "metadata": {},
     "output_type": "execute_result"
    }
   ],
   "source": [
    "\"\"\"\n",
    "Given two arrays arr1 and arr2, the elements of arr2 are distinct, and all elements \n",
    "in arr2 are also in arr1.\n",
    "Sort the elements of arr1 such that the relative ordering of items in arr1 are the same as in arr2. \n",
    "Elements that do not appear in arr2 should be placed at the end of arr1 in ascending order.\n",
    "Example 1:\n",
    "\n",
    "Input: arr1 = [2,3,1,3,2,4,6,7,9,2,19], arr2 = [2,1,4,3,9,6]\n",
    "Output: [2,2,2,1,4,3,3,9,6,7,19]\n",
    "Example 2:\n",
    "\n",
    "Input: arr1 = [28,6,22,8,44,17], arr2 = [22,28,8,6]\n",
    "Output: [22,28,8,6,17,44]\n",
    "\"\"\"\n",
    "\n",
    "from collections import Counter # 'collections.Counter' will create the dictionary, where keys are elements\n",
    "# and values are their occurrences in the list\n",
    "\n",
    "class Solution:\n",
    "    def relativeSortArray(self, arr1: List[int], arr2: List[int]) -> List[int]:\n",
    "        myDict = dict(Counter(arr1))\n",
    "        final = [] # The container, which will store all elements\n",
    "        for i in arr2:\n",
    "            while myDict[i] > 0: # As long as the occurrence > 0, we continue adding duplicates to the final list\n",
    "                final.append(i)\n",
    "                # When the occurrence equals to 0, the key-value pair within the dictionary will be erased\n",
    "                myDict[i] -= 1\n",
    "            del myDict[i]\n",
    "            # The remaining values are numbers, which remain within the dictionary after all cases of key-value pairs' removal\n",
    "            # We add them as well after all main operations with arr2\n",
    "        remaining_values = []\n",
    "        for j in myDict:\n",
    "            for _ in range(myDict[j]):\n",
    "                remaining_values.append(j)\n",
    "        return final + sorted(remaining_values)\n",
    "    \n",
    "a = Solution()\n",
    "a.relativeSortArray([2,3,1,3,2,4,6,7,9,2,19], [2,1,4,3,9,6])"
   ]
  }
 ],
 "metadata": {
  "kernelspec": {
   "display_name": "Python 3 (ipykernel)",
   "language": "python",
   "name": "python3"
  },
  "language_info": {
   "codemirror_mode": {
    "name": "ipython",
    "version": 3
   },
   "file_extension": ".py",
   "mimetype": "text/x-python",
   "name": "python",
   "nbconvert_exporter": "python",
   "pygments_lexer": "ipython3",
   "version": "3.9.7"
  }
 },
 "nbformat": 4,
 "nbformat_minor": 5
}
