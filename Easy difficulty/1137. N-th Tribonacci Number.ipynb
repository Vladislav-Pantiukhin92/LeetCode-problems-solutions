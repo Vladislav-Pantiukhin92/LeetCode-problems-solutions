{
 "cells": [
  {
   "cell_type": "markdown",
   "id": "85f13441",
   "metadata": {},
   "source": [
    "### 1137. N-th Tribonacci Number"
   ]
  },
  {
   "cell_type": "code",
   "execution_count": 280,
   "id": "75edb8cb",
   "metadata": {},
   "outputs": [
    {
     "data": {
      "text/plain": [
       "1389537"
      ]
     },
     "execution_count": 280,
     "metadata": {},
     "output_type": "execute_result"
    }
   ],
   "source": [
    "\"\"\"\n",
    "The Tribonacci sequence Tn is defined as follows: \n",
    "T0 = 0, T1 = 1, T2 = 1, and Tn+3 = Tn + Tn+1 + Tn+2 for n >= 0.\n",
    "Given n, return the value of Tn.\n",
    "Example 1:\n",
    "\n",
    "Input: n = 4\n",
    "Output: 4\n",
    "Explanation:\n",
    "T_3 = 0 + 1 + 1 = 2\n",
    "T_4 = 1 + 1 + 2 = 4\n",
    "Example 2:\n",
    "\n",
    "Input: n = 25\n",
    "Output: 1389537\n",
    "\"\"\"\n",
    "\n",
    "class Solution:\n",
    "    def tribonacci(self, n: int) -> int:\n",
    "        # The solution for the problem can be found through the Dynamic Programming Bottom-Up Tabulation\n",
    "        trib_sequence = [0 for _ in range(38)]\n",
    "        trib_sequence[0], trib_sequence[1], trib_sequence[2] = 0, 1, 1\n",
    "        for i in range(3, n + 1):\n",
    "            trib_sequence[i] = trib_sequence[i - 1] + trib_sequence[i - 2] + trib_sequence[i - 3]\n",
    "        return trib_sequence[n]\n",
    "    \n",
    "a = Solution()\n",
    "a.tribonacci(25)"
   ]
  }
 ],
 "metadata": {
  "kernelspec": {
   "display_name": "Python 3 (ipykernel)",
   "language": "python",
   "name": "python3"
  },
  "language_info": {
   "codemirror_mode": {
    "name": "ipython",
    "version": 3
   },
   "file_extension": ".py",
   "mimetype": "text/x-python",
   "name": "python",
   "nbconvert_exporter": "python",
   "pygments_lexer": "ipython3",
   "version": "3.9.7"
  }
 },
 "nbformat": 4,
 "nbformat_minor": 5
}
