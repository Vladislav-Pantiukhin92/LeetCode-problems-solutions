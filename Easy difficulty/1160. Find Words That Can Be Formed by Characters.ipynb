{
 "cells": [
  {
   "cell_type": "markdown",
   "id": "e93985da",
   "metadata": {},
   "source": [
    "### 1160. Find Words That Can Be Formed by Characters"
   ]
  },
  {
   "cell_type": "code",
   "execution_count": 82,
   "id": "43a6a888",
   "metadata": {},
   "outputs": [
    {
     "data": {
      "text/plain": [
       "6"
      ]
     },
     "execution_count": 82,
     "metadata": {},
     "output_type": "execute_result"
    }
   ],
   "source": [
    "\"\"\"\n",
    "You are given an array of strings words and a string chars.\n",
    "A string is good if it can be formed by characters from chars (each character can only be used once).\n",
    "Return the sum of lengths of all good strings in words.\n",
    "Example 1:\n",
    "Input: words = [\"cat\",\"bt\",\"hat\",\"tree\"], chars = \"atach\"\n",
    "Output: 6\n",
    "Explanation: The strings that can be formed are \"cat\" and \"hat\" so the answer is 3 + 3 = 6.\n",
    "Example 2:\n",
    "Input: words = [\"hello\",\"world\",\"leetcode\"], chars = \"welldonehoneyr\"\n",
    "Output: 10\n",
    "Explanation: The strings that can be formed are \"hello\" and \"world\" so the answer is 5 + 5 = 10.\n",
    "\"\"\"\n",
    "\n",
    "from collections import Counter # 'collections.Counter' will make it possible to create the dictionary, where\n",
    "# keys are characters of the second argument and values are their occurrence\n",
    "\n",
    "class Solution:\n",
    "    def countCharacters(self, words: List[str], chars: str) -> int:\n",
    "        chars_dict = dict(Counter(chars)) # The dictionary is created\n",
    "        final = []\n",
    "# With the help of the 'for loop' we will compare two dictionaries - the dictionary of each element within \n",
    "# the input list and the dictionary of the second argument - 'chars'\n",
    "        for i in words:\n",
    "            goodStr = True\n",
    "            curDict = dict(Counter(i))\n",
    "            for j in curDict:\n",
    "        # The string is good, if keys of elements from the input list are within the dictionary 'chars', and their\n",
    "        # number doesn't exceed the amount within 'chars'\n",
    "                if j not in chars_dict or curDict[j] > chars_dict[j]:\n",
    "                    goodStr = False\n",
    "            if goodStr:\n",
    "                # If 'True', the length of each good string is added to the final list\n",
    "                final.append(len(i))\n",
    "        return sum(final) # The sum of all good strings' lengths within the final list is returned\n",
    "    \n",
    "a = Solution()\n",
    "a.countCharacters([\"cat\",\"bt\",\"hat\",\"tree\"], \"atach\")"
   ]
  }
 ],
 "metadata": {
  "kernelspec": {
   "display_name": "Python 3 (ipykernel)",
   "language": "python",
   "name": "python3"
  },
  "language_info": {
   "codemirror_mode": {
    "name": "ipython",
    "version": 3
   },
   "file_extension": ".py",
   "mimetype": "text/x-python",
   "name": "python",
   "nbconvert_exporter": "python",
   "pygments_lexer": "ipython3",
   "version": "3.9.7"
  }
 },
 "nbformat": 4,
 "nbformat_minor": 5
}
