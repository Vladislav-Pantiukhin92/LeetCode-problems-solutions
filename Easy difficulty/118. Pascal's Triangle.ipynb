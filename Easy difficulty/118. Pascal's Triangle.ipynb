{
 "cells": [
  {
   "cell_type": "markdown",
   "id": "ccad8471",
   "metadata": {},
   "source": [
    "### 118. Pascal's Triangle"
   ]
  },
  {
   "cell_type": "code",
   "execution_count": 2,
   "id": "029d7026",
   "metadata": {},
   "outputs": [
    {
     "data": {
      "text/plain": [
       "[[1], [1, 1], [1, 2, 1], [1, 3, 3, 1], [1, 4, 6, 4, 1]]"
      ]
     },
     "execution_count": 2,
     "metadata": {},
     "output_type": "execute_result"
    }
   ],
   "source": [
    "\"\"\"\n",
    "Given an integer numRows, return the first numRows of Pascal's triangle.\n",
    "In Pascal's triangle, each number is the sum of the two numbers directly above it as shown:\n",
    "\n",
    "Example 1:\n",
    "\n",
    "Input: numRows = 5\n",
    "Output: [[1],[1,1],[1,2,1],[1,3,3,1],[1,4,6,4,1]]\n",
    "Example 2:\n",
    "\n",
    "Input: numRows = 1\n",
    "Output: [[1]]\n",
    "\"\"\"\n",
    "\n",
    "from operator import * # 'operator.add' will execute the addition operation\n",
    "\n",
    "class Solution:\n",
    "    def generate(self, numRows: int) -> List[List[int]]:\n",
    "        if numRows == 1: # The basic case, when the given input == 1\n",
    "            return [[1]]\n",
    "        elif numRows == 2: # The basic case, when the given input == 2\n",
    "            return [[1], [1, 1]]\n",
    "        else: # Otherwise, we execute the following code:\n",
    "            initial = [[1], [1, 1]] # The initial number of basic numRows\n",
    "            count = 2\n",
    "            while count < numRows: # We execute the creation of all the next rows\n",
    "                last = initial[-1]\n",
    "                cur_list = []\n",
    "                i = 0\n",
    "                j = 1\n",
    "                while j < len(last):\n",
    "                    cur_list.append(add(last[i], last[j])) # The built row is appended to the initial basic list\n",
    "                    i += 1\n",
    "                    j += 1\n",
    "                cur_list = [1] + cur_list + [1] # It is necessary to add '1' to the front and to the end of the list\n",
    "                initial.append(cur_list)\n",
    "                count += 1\n",
    "            return initial # The final list is returned\n",
    "        \n",
    "a = Solution()\n",
    "a.generate(5)"
   ]
  }
 ],
 "metadata": {
  "kernelspec": {
   "display_name": "Python 3 (ipykernel)",
   "language": "python",
   "name": "python3"
  },
  "language_info": {
   "codemirror_mode": {
    "name": "ipython",
    "version": 3
   },
   "file_extension": ".py",
   "mimetype": "text/x-python",
   "name": "python",
   "nbconvert_exporter": "python",
   "pygments_lexer": "ipython3",
   "version": "3.9.7"
  }
 },
 "nbformat": 4,
 "nbformat_minor": 5
}
