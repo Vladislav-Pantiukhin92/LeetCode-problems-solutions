{
 "cells": [
  {
   "cell_type": "markdown",
   "id": "9f4711a2",
   "metadata": {},
   "source": [
    "### 1189. Maximum Number of Balloons"
   ]
  },
  {
   "cell_type": "code",
   "execution_count": 25,
   "id": "e747f30f",
   "metadata": {},
   "outputs": [
    {
     "data": {
      "text/plain": [
       "1"
      ]
     },
     "execution_count": 25,
     "metadata": {},
     "output_type": "execute_result"
    }
   ],
   "source": [
    "\"\"\"\n",
    "Given a string text, you want to use the characters of text to form as many instances of the word \"balloon\" as possible.\n",
    "You can use each character in text at most once. Return the maximum number of instances that can be formed.\n",
    "Example 1:\n",
    "Input: text = \"nlaebolko\"\n",
    "Output: 1\n",
    "Example 2:\n",
    "Input: text = \"loonbalxballpoon\"\n",
    "Output: 2\n",
    "Example 3:\n",
    "\n",
    "Input: text = \"leetcode\"\n",
    "Output: 0\n",
    "\"\"\"\n",
    "\n",
    "import re # Regular expressions will be used to remove redundant letters, which are not among letters of the \n",
    "# word 'balloon'\n",
    "from collections import Counter # 'collections.Counter' is utilized to create the dictionary, where keys are \n",
    "# letters and values are their occurrences \n",
    "\n",
    "class Solution:\n",
    "    def maxNumberOfBalloons(self, text: str) -> int:\n",
    "        word = \"balloon\" # The key word of the problem\n",
    "        string = \"\".join(re.findall(r\"[balon]\", text)) # All letters, which are not among the letters of the \n",
    "        # key word 'balloon', are erased from the input text\n",
    "        myDict = dict(Counter(string)) # The dictionary is created\n",
    "        instances = -1\n",
    "        while True: # Each loop is one instance of the word \"balloon\" within the string \n",
    "            instances += 1\n",
    "            for i in word: # The word will be completed if, during the single loop, all occurrences of letters \n",
    "                # are within the dictionary. If a letter is not among keys of the dictionary, we break the \n",
    "                # 'while loop' and return the accumulated amount of instances as a final result\n",
    "                if i in myDict: \n",
    "                    myDict[i] -= 1\n",
    "                    if myDict[i] == 0:\n",
    "                        del myDict[i]\n",
    "                else:\n",
    "                    return instances # The number of instances is returned\n",
    "a = Solution()\n",
    "a.maxNumberOfBalloons(\"nlaebolko\")"
   ]
  }
 ],
 "metadata": {
  "kernelspec": {
   "display_name": "Python 3 (ipykernel)",
   "language": "python",
   "name": "python3"
  },
  "language_info": {
   "codemirror_mode": {
    "name": "ipython",
    "version": 3
   },
   "file_extension": ".py",
   "mimetype": "text/x-python",
   "name": "python",
   "nbconvert_exporter": "python",
   "pygments_lexer": "ipython3",
   "version": "3.9.7"
  }
 },
 "nbformat": 4,
 "nbformat_minor": 5
}
