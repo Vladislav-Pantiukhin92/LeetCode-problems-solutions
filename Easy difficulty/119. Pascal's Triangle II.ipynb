{
 "cells": [
  {
   "cell_type": "markdown",
   "id": "ccad8471",
   "metadata": {},
   "source": [
    "### 119. Pascal's Triangle II"
   ]
  },
  {
   "cell_type": "code",
   "execution_count": 3,
   "id": "fc1c43b5",
   "metadata": {},
   "outputs": [
    {
     "data": {
      "text/plain": [
       "[1, 3, 3, 1]"
      ]
     },
     "execution_count": 3,
     "metadata": {},
     "output_type": "execute_result"
    }
   ],
   "source": [
    "\"\"\"\n",
    "Given an integer rowIndex, return the rowIndexth (0-indexed) row of the Pascal's triangle.\n",
    "In Pascal's triangle, each number is the sum of the two numbers directly above it as shown:\n",
    "Example 1:\n",
    "\n",
    "Input: rowIndex = 3\n",
    "Output: [1,3,3,1]\n",
    "Example 2:\n",
    "\n",
    "Input: rowIndex = 0\n",
    "Output: [1]\n",
    "Example 3:\n",
    "\n",
    "Input: rowIndex = 1\n",
    "Output: [1,1]\n",
    "\"\"\"\n",
    "\n",
    "from operator import * # 'operator.add' will implement the addition operation\n",
    "\n",
    "class Solution:\n",
    "    def getRow(self, rowIndex: int) -> List[int]:\n",
    "        initial = [[1], [1, 1]] # The initial basic rows of the Pascal's triangle\n",
    "        if rowIndex < 2: # The basic case, when the given input index touches upon only the first or\n",
    "            # the second row\n",
    "            return initial[rowIndex] # In these cases, the relevant row is returned\n",
    "        else: # The case, when the given input index > 1\n",
    "            curIndex = 1 # The initial index equals to 1\n",
    "            while curIndex < rowIndex: # We are going to create the new rows of the Pascal's triangle\n",
    "                last = initial[-1]\n",
    "                i = 0\n",
    "                j = 1\n",
    "                cur_list = []\n",
    "                while j < len(last):\n",
    "                    cur_list.append(add(last[i], last[j]))\n",
    "                    i += 1\n",
    "                    j += 1\n",
    "                cur_list = [1] + cur_list + [1] # Besides, it is necessary to add '1' as the first and the last element\n",
    "                initial.append(cur_list) # The newly generated row is appended to the list\n",
    "                curIndex += 1 # The corresponding index is increased by 1\n",
    "            return initial[curIndex] # The row, based upon the given input index, is finally returned\n",
    "        \n",
    "a = Solution()\n",
    "a.getRow(3)"
   ]
  }
 ],
 "metadata": {
  "kernelspec": {
   "display_name": "Python 3 (ipykernel)",
   "language": "python",
   "name": "python3"
  },
  "language_info": {
   "codemirror_mode": {
    "name": "ipython",
    "version": 3
   },
   "file_extension": ".py",
   "mimetype": "text/x-python",
   "name": "python",
   "nbconvert_exporter": "python",
   "pygments_lexer": "ipython3",
   "version": "3.9.7"
  }
 },
 "nbformat": 4,
 "nbformat_minor": 5
}
