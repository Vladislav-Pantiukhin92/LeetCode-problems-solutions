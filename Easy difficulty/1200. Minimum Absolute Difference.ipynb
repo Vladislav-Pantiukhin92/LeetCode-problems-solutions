{
 "cells": [
  {
   "cell_type": "markdown",
   "id": "ccad8471",
   "metadata": {},
   "source": [
    "### 1200. Minimum Absolute Difference"
   ]
  },
  {
   "cell_type": "code",
   "execution_count": 6,
   "id": "67d73aca",
   "metadata": {},
   "outputs": [
    {
     "data": {
      "text/plain": [
       "[[1, 2], [2, 3], [3, 4]]"
      ]
     },
     "execution_count": 6,
     "metadata": {},
     "output_type": "execute_result"
    }
   ],
   "source": [
    "from operator import * # 'operator.eq' will be used as a comparision operator, as well as 'operator.sub' will \n",
    "# be utilized as a subtraction operator\n",
    "\n",
    "class Solution:\n",
    "    def minimumAbsDifference(self, arr):\n",
    "        arr = sorted(arr) # The given input array is sorted\n",
    "        final = [] # The list, which will store adjacent elements with minDifference between them\n",
    "        i = 0\n",
    "        j = 1\n",
    "        minDiff = float(\"inf\") # The initial minDifference is the positive infinity\n",
    "        while j < len(arr): # The 'while loop' to calculate the minDifference within the sorted given input array\n",
    "            minDiff = min(minDiff, sub(arr[j], arr[i]))\n",
    "            i += 1\n",
    "            j += 1\n",
    "        i = 0\n",
    "        j = 1\n",
    "        # As the minDifference is already found - we append all adjacent elements with the minDifference between them\n",
    "        while j < len(arr):\n",
    "            if eq(minDiff, sub(arr[j], arr[i])): # If the gap between two adjacent elements == the minDifference, such \n",
    "                # an iterable is appended to the list\n",
    "                final.append([arr[i], arr[j]])\n",
    "            i += 1\n",
    "            j += 1\n",
    "        return final # The list with all the relevant iterables is finally returned\n",
    "    \n",
    "a = Solution()\n",
    "a.minimumAbsDifference([4,2,1,3])"
   ]
  }
 ],
 "metadata": {
  "kernelspec": {
   "display_name": "Python 3 (ipykernel)",
   "language": "python",
   "name": "python3"
  },
  "language_info": {
   "codemirror_mode": {
    "name": "ipython",
    "version": 3
   },
   "file_extension": ".py",
   "mimetype": "text/x-python",
   "name": "python",
   "nbconvert_exporter": "python",
   "pygments_lexer": "ipython3",
   "version": "3.9.7"
  }
 },
 "nbformat": 4,
 "nbformat_minor": 5
}
