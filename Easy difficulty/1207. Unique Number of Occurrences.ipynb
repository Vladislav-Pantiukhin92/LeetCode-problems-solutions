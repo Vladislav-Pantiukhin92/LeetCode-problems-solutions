{
 "cells": [
  {
   "cell_type": "markdown",
   "id": "073b8172",
   "metadata": {},
   "source": [
    "### 1207. Unique Number of Occurrences"
   ]
  },
  {
   "cell_type": "code",
   "execution_count": 35,
   "id": "80c71d63",
   "metadata": {},
   "outputs": [
    {
     "data": {
      "text/plain": [
       "True"
      ]
     },
     "execution_count": 35,
     "metadata": {},
     "output_type": "execute_result"
    }
   ],
   "source": [
    "\"\"\"\n",
    "Given an array of integers arr, return true if the number of occurrences of each value \n",
    "in the array is unique, or false otherwise.\n",
    "Example 1:\n",
    "\n",
    "Input: arr = [1,2,2,1,1,3]\n",
    "Output: true\n",
    "Explanation: The value 1 has 3 occurrences, 2 has 2 and 3 has 1. No two values have the same number of occurrences.\n",
    "Example 2:\n",
    "\n",
    "Input: arr = [1,2]\n",
    "Output: false\n",
    "Example 3:\n",
    "\n",
    "Input: arr = [-3,0,1,-3,1,1,1,-3,10,0]\n",
    "Output: true\n",
    "\"\"\"\n",
    "\n",
    "from collections import Counter # 'collections.Counter' creates the dictionary with elements as keys and their \n",
    "# occurrences as values\n",
    "\n",
    "class Solution:\n",
    "    def uniqueOccurrences(self, arr: List[int]) -> bool:\n",
    "        # As the dictionary is already initialized we need just the list of values (without keys)\n",
    "        occurrence_lst = list(dict(Counter(arr)).values())\n",
    "        # Set structure helps to remove duplicates\n",
    "        # If there are duplicates, then, the number of occurrences is not unique, othwerwise it is unique\n",
    "        initial_length = len(occurrence_lst)\n",
    "        set_length = len(set(occurrence_lst))\n",
    "        if initial_length == set_length:\n",
    "            return True\n",
    "        return False\n",
    "    \n",
    "a = Solution()\n",
    "a.uniqueOccurrences([-3,0,1,-3,1,1,1,-3,10,0])"
   ]
  }
 ],
 "metadata": {
  "kernelspec": {
   "display_name": "Python 3 (ipykernel)",
   "language": "python",
   "name": "python3"
  },
  "language_info": {
   "codemirror_mode": {
    "name": "ipython",
    "version": 3
   },
   "file_extension": ".py",
   "mimetype": "text/x-python",
   "name": "python",
   "nbconvert_exporter": "python",
   "pygments_lexer": "ipython3",
   "version": "3.9.7"
  }
 },
 "nbformat": 4,
 "nbformat_minor": 5
}
