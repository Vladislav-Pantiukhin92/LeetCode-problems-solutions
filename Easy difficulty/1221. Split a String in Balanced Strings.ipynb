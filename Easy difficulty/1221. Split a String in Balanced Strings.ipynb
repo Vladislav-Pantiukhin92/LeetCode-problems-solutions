{
 "cells": [
  {
   "cell_type": "markdown",
   "id": "f47f5297",
   "metadata": {},
   "source": [
    "### 1221. Split a String in Balanced Strings"
   ]
  },
  {
   "cell_type": "code",
   "execution_count": 88,
   "id": "95d013b6",
   "metadata": {},
   "outputs": [
    {
     "data": {
      "text/plain": [
       "4"
      ]
     },
     "execution_count": 88,
     "metadata": {},
     "output_type": "execute_result"
    }
   ],
   "source": [
    "\"\"\"\n",
    "Balanced strings are those that have an equal quantity of 'L' and 'R' characters.\n",
    "Given a balanced string s, split it in the maximum amount of balanced strings.\n",
    "Return the maximum amount of split balanced strings.\n",
    "Example 1:\n",
    "Input: s = \"RLRRLLRLRL\"\n",
    "Output: 4\n",
    "Explanation: s can be split into \"RL\", \"RRLL\", \"RL\", \"RL\", each substring contains same number of 'L' and 'R'.\n",
    "Example 2:\n",
    "\n",
    "Input: s = \"RLLLLRRRLR\"\n",
    "Output: 3\n",
    "Explanation: s can be split into \"RL\", \"LLLRRR\", \"LR\", each substring contains same number of 'L' and 'R'.\n",
    "Example 3:\n",
    "\n",
    "Input: s = \"LLLLRRRR\"\n",
    "Output: 1\n",
    "Explanation: s can be split into \"LLLLRRRR\".\n",
    "\"\"\"\n",
    "\n",
    "class Solution:\n",
    "    def balancedStringSplit(self, s: str) -> int:\n",
    "        final = [] # The container, which will preserve all balanced strings\n",
    "        string = \"\" # The variable, which will preserve the current string option\n",
    "        r_amount = 0 # The variable will count \"R\" values\n",
    "        l_amount = 0 # The variable will count \"L\" values\n",
    "        # Through 'for loop' we are going to count values of different type (\"l\" or \"R\")\n",
    "        # 'String' variable will store the letters while the number of \"L\" and \"R\" values is different\n",
    "        # When their number is equal, it means that we have the new balanced string, so we add the new balanced string \n",
    "        # to the final array and start from scratch again (while 'for loop' continues)\n",
    "        for i in s:\n",
    "            if i == \"R\":\n",
    "                r_amount += 1\n",
    "                string += i\n",
    "            else:\n",
    "                l_amount += 1\n",
    "                string += i\n",
    "            if r_amount == l_amount:\n",
    "                final.append(string)\n",
    "                string = \"\"\n",
    "        return len(final)\n",
    "    \n",
    "a = Solution()\n",
    "a.balancedStringSplit(\"RLRRLLRLRL\")"
   ]
  }
 ],
 "metadata": {
  "kernelspec": {
   "display_name": "Python 3 (ipykernel)",
   "language": "python",
   "name": "python3"
  },
  "language_info": {
   "codemirror_mode": {
    "name": "ipython",
    "version": 3
   },
   "file_extension": ".py",
   "mimetype": "text/x-python",
   "name": "python",
   "nbconvert_exporter": "python",
   "pygments_lexer": "ipython3",
   "version": "3.9.7"
  }
 },
 "nbformat": 4,
 "nbformat_minor": 5
}
