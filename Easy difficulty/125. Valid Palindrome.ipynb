{
 "cells": [
  {
   "cell_type": "markdown",
   "id": "ec5eb79b",
   "metadata": {},
   "source": [
    "### 125. Valid Palindrome"
   ]
  },
  {
   "cell_type": "code",
   "execution_count": 276,
   "id": "61ddae99",
   "metadata": {},
   "outputs": [
    {
     "data": {
      "text/plain": [
       "True"
      ]
     },
     "execution_count": 276,
     "metadata": {},
     "output_type": "execute_result"
    }
   ],
   "source": [
    "import re # Regular expressions to extract only alphanumeric characters\n",
    "\n",
    "class Solution:\n",
    "    def isPalindrome(self, s: str) -> bool:\n",
    "        # Extraction of alphanumeric characters + convertion to lowercase letters\n",
    "        result = \"\".join(re.findall(r\"[A-Za-z0-9]\", s)).lower()\n",
    "        maxLength = 0\n",
    "        for i in range(len(result)):\n",
    "            l, r = i, i # Case with odd-numbered strings\n",
    "            while l >= 0 and r < len(result) and result[l] == result[r]:\n",
    "                if (r - l) + 1 > maxLength:\n",
    "                    maxLength = (r - l) + 1\n",
    "                l -= 1\n",
    "                r += 1\n",
    "\n",
    "        for i in range(len(result)):\n",
    "            l, r = i, i + 1 # Case with even-numbered strings\n",
    "            while l >= 0 and r < len(result) and result[l] == result[r]:\n",
    "                if (r - l) + 1 > maxLength:\n",
    "                    maxLength = (r - l) + 1\n",
    "                l -= 1\n",
    "                r += 1\n",
    "        # If the maxLength equals to the string itself, then the entire string is a palindrome\n",
    "        if maxLength == len(result):\n",
    "            return True\n",
    "        return False\n",
    "    \n",
    "a = Solution()\n",
    "a.isPalindrome(\"A man, a plan, a canal: Panama\")"
   ]
  }
 ],
 "metadata": {
  "kernelspec": {
   "display_name": "Python 3 (ipykernel)",
   "language": "python",
   "name": "python3"
  },
  "language_info": {
   "codemirror_mode": {
    "name": "ipython",
    "version": 3
   },
   "file_extension": ".py",
   "mimetype": "text/x-python",
   "name": "python",
   "nbconvert_exporter": "python",
   "pygments_lexer": "ipython3",
   "version": "3.9.7"
  }
 },
 "nbformat": 4,
 "nbformat_minor": 5
}
