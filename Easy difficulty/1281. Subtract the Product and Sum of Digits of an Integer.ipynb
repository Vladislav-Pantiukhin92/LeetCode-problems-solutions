{
 "cells": [
  {
   "cell_type": "markdown",
   "id": "4c6db668",
   "metadata": {},
   "source": [
    "### 1281. Subtract the Product and Sum of Digits of an Integer"
   ]
  },
  {
   "cell_type": "code",
   "execution_count": 33,
   "id": "db91967f",
   "metadata": {},
   "outputs": [
    {
     "data": {
      "text/plain": [
       "15"
      ]
     },
     "execution_count": 33,
     "metadata": {},
     "output_type": "execute_result"
    }
   ],
   "source": [
    "\"\"\"\n",
    "Given an integer number n, return the difference between the product \n",
    "of its digits and the sum of its digits.\n",
    "Example 1:\n",
    "\n",
    "Input: n = 234\n",
    "Output: 15 \n",
    "Explanation: \n",
    "Product of digits = 2 * 3 * 4 = 24 \n",
    "Sum of digits = 2 + 3 + 4 = 9 \n",
    "Result = 24 - 9 = 15\n",
    "Example 2:\n",
    "\n",
    "Input: n = 4421\n",
    "Output: 21\n",
    "Explanation: \n",
    "Product of digits = 4 * 4 * 2 * 1 = 32 \n",
    "Sum of digits = 4 + 4 + 2 + 1 = 11 \n",
    "Result = 32 - 11 = 21\n",
    "\"\"\"\n",
    "\n",
    "from functools import reduce # 'functools.reduce' will apply the function (in this case, addition or product function)\n",
    "# to all elements of the list, obtained from division of input digits\n",
    "\n",
    "class Solution:\n",
    "    def subtractProductAndSum(self, n: int) -> int:\n",
    "        # To obtain the sequence of digits it is necessary to change the data type (integer -> string) as well as\n",
    "        # to split number of the string type into its digits\n",
    "        the_list = list(map(int, list(str(n))))\n",
    "        return reduce(lambda x, y: x * y, the_list) - reduce(lambda x, y: x + y, the_list)\n",
    "    \n",
    "a = Solution()\n",
    "a.subtractProductAndSum(234)"
   ]
  }
 ],
 "metadata": {
  "kernelspec": {
   "display_name": "Python 3 (ipykernel)",
   "language": "python",
   "name": "python3"
  },
  "language_info": {
   "codemirror_mode": {
    "name": "ipython",
    "version": 3
   },
   "file_extension": ".py",
   "mimetype": "text/x-python",
   "name": "python",
   "nbconvert_exporter": "python",
   "pygments_lexer": "ipython3",
   "version": "3.9.7"
  }
 },
 "nbformat": 4,
 "nbformat_minor": 5
}
