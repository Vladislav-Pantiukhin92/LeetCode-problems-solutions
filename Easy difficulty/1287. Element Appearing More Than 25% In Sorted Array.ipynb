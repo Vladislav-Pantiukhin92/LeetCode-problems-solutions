{
 "cells": [
  {
   "cell_type": "markdown",
   "id": "970df458",
   "metadata": {},
   "source": [
    "### 1287. Element Appearing More Than 25% In Sorted Array"
   ]
  },
  {
   "cell_type": "code",
   "execution_count": 80,
   "id": "78b35f10",
   "metadata": {},
   "outputs": [
    {
     "data": {
      "text/plain": [
       "6"
      ]
     },
     "execution_count": 80,
     "metadata": {},
     "output_type": "execute_result"
    }
   ],
   "source": [
    "\"\"\"\n",
    "Given an integer array sorted in non-decreasing order, there is exactly one integer in the array that \n",
    "occurs more than 25% of the time, return that integer.\n",
    "Example 1:\n",
    "\n",
    "Input: arr = [1,2,2,6,6,6,6,7,10]\n",
    "Output: 6\n",
    "Example 2:\n",
    "\n",
    "Input: arr = [1,1]\n",
    "Output: 1\n",
    "\"\"\"\n",
    "\n",
    "# 'itertools.groupby' will group elements and return their consecutive occurrence within the input array\n",
    "from itertools import groupby\n",
    "# In view of the fact that the input array is already sorted - we need to return the maxOccurrence of an \n",
    "# element. To make it happen it is feasible to utilize the 'itertools.groupby'\n",
    "\n",
    "class Solution:\n",
    "    def findSpecialInteger(self, arr: List[int]) -> int:\n",
    "        maxOccur = 0 # The initial consecutive occurrence is 0\n",
    "        for key, group in groupby(arr):\n",
    "            curList = list(group)\n",
    "            if len(curList) > maxOccur: # We are going to find the maxOccurrence and finally return it\n",
    "            # While looping over the input array, if necessary, the occurrence is updated. It is important \n",
    "            # to finally return the maxResult\n",
    "                maxOccur = len(curList)\n",
    "                maxElem = key\n",
    "        return maxElem # The maxResult is returned\n",
    "    \n",
    "a = Solution()\n",
    "a.findSpecialInteger([1,2,2,6,6,6,6,7,10])"
   ]
  }
 ],
 "metadata": {
  "kernelspec": {
   "display_name": "Python 3 (ipykernel)",
   "language": "python",
   "name": "python3"
  },
  "language_info": {
   "codemirror_mode": {
    "name": "ipython",
    "version": 3
   },
   "file_extension": ".py",
   "mimetype": "text/x-python",
   "name": "python",
   "nbconvert_exporter": "python",
   "pygments_lexer": "ipython3",
   "version": "3.9.7"
  }
 },
 "nbformat": 4,
 "nbformat_minor": 5
}
