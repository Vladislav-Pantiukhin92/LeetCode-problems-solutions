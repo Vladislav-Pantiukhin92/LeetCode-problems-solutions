{
 "cells": [
  {
   "cell_type": "markdown",
   "id": "bf7aca4c",
   "metadata": {},
   "source": [
    "### 1295. Find Numbers with Even Number of Digits"
   ]
  },
  {
   "cell_type": "code",
   "execution_count": 9,
   "id": "924e2c62",
   "metadata": {},
   "outputs": [
    {
     "data": {
      "text/plain": [
       "1"
      ]
     },
     "execution_count": 9,
     "metadata": {},
     "output_type": "execute_result"
    }
   ],
   "source": [
    "\"\"\"\n",
    "Given an array nums of integers, return how many of them contain an even number of digits.\n",
    "Example 1:\n",
    "\n",
    "Input: nums = [12,345,2,6,7896]\n",
    "Output: 2\n",
    "Explanation: \n",
    "12 contains 2 digits (even number of digits). \n",
    "345 contains 3 digits (odd number of digits). \n",
    "2 contains 1 digit (odd number of digits). \n",
    "6 contains 1 digit (odd number of digits). \n",
    "7896 contains 4 digits (even number of digits). \n",
    "Therefore only 12 and 7896 contain an even number of digits.\n",
    "Example 2:\n",
    "\n",
    "Input: nums = [555,901,482,1771]\n",
    "Output: 1 \n",
    "Explanation: \n",
    "Only 1771 contains an even number of digits.\n",
    "\"\"\"\n",
    "\n",
    "class Solution:\n",
    "    def findNumbers(self, nums: List[int]) -> int:\n",
    "        nums = list(map(str, nums)) # To work with integers it is necessary to change the data type by transforming \n",
    "        # numbers into the string type\n",
    "        result = list(filter(lambda x: len(x) % 2 == 0, nums)) # After that, using the 'filter' function we remove \n",
    "        # all elements with the odd number of digits\n",
    "        return len(result) # The final result is the length of the filtered array\n",
    "    \n",
    "a = Solution()\n",
    "a.findNumbers([555,901,482,1771])"
   ]
  }
 ],
 "metadata": {
  "kernelspec": {
   "display_name": "Python 3 (ipykernel)",
   "language": "python",
   "name": "python3"
  },
  "language_info": {
   "codemirror_mode": {
    "name": "ipython",
    "version": 3
   },
   "file_extension": ".py",
   "mimetype": "text/x-python",
   "name": "python",
   "nbconvert_exporter": "python",
   "pygments_lexer": "ipython3",
   "version": "3.9.7"
  }
 },
 "nbformat": 4,
 "nbformat_minor": 5
}
