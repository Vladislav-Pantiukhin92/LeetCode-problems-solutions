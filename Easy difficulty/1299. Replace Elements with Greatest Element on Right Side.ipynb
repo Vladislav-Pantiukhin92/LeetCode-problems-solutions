{
 "cells": [
  {
   "cell_type": "markdown",
   "id": "6b186441",
   "metadata": {},
   "source": [
    "### 1299. Replace Elements with Greatest Element on Right Side"
   ]
  },
  {
   "cell_type": "code",
   "execution_count": 56,
   "id": "13af33ae",
   "metadata": {},
   "outputs": [
    {
     "data": {
      "text/plain": [
       "[18, 6, 6, 6, 1, -1]"
      ]
     },
     "execution_count": 56,
     "metadata": {},
     "output_type": "execute_result"
    }
   ],
   "source": [
    "\"\"\"\n",
    "Given an array arr, replace every element in that array with the greatest element among the elements to \n",
    "its right, and replace the last element with -1.\n",
    "After doing so, return the array.\n",
    "Example 1:\n",
    "\n",
    "Input: arr = [17,18,5,4,6,1]\n",
    "Output: [18,6,6,6,1,-1]\n",
    "Explanation: \n",
    "- index 0 --> the greatest element to the right of index 0 is index 1 (18).\n",
    "- index 1 --> the greatest element to the right of index 1 is index 4 (6).\n",
    "- index 2 --> the greatest element to the right of index 2 is index 4 (6).\n",
    "- index 3 --> the greatest element to the right of index 3 is index 4 (6).\n",
    "- index 4 --> the greatest element to the right of index 4 is index 5 (1).\n",
    "- index 5 --> there are no elements to the right of index 5, so we put -1.\n",
    "Example 2:\n",
    "\n",
    "Input: arr = [400]\n",
    "Output: [-1]\n",
    "Explanation: There are no elements to the right of index 0.\n",
    "\"\"\"\n",
    "\n",
    "class Solution:\n",
    "    def replaceElements(self, arr: List[int]) -> List[int]:\n",
    "        length = len(arr) # The length of the input array\n",
    "        final = [0] * length # We create the new array, filled initially with 0s\n",
    "        final[length - 1] = -1 # Let's define the last element (-1) in advance\n",
    "        # After that we pick out the maxElement from each slice of the array through the 'for loop'\n",
    "        for i, j in enumerate(arr):\n",
    "            if i == length - 1:\n",
    "                break\n",
    "            curSlice = arr[i + 1:] # The slice is determined\n",
    "            maxElement = max(curSlice) # The maxElement is chosen from each slice\n",
    "            final[i] = maxElement\n",
    "        return final # The final filled array is returned\n",
    "    \n",
    "a = Solution()\n",
    "a.replaceElements([17,18,5,4,6,1])"
   ]
  }
 ],
 "metadata": {
  "kernelspec": {
   "display_name": "Python 3 (ipykernel)",
   "language": "python",
   "name": "python3"
  },
  "language_info": {
   "codemirror_mode": {
    "name": "ipython",
    "version": 3
   },
   "file_extension": ".py",
   "mimetype": "text/x-python",
   "name": "python",
   "nbconvert_exporter": "python",
   "pygments_lexer": "ipython3",
   "version": "3.9.7"
  }
 },
 "nbformat": 4,
 "nbformat_minor": 5
}
