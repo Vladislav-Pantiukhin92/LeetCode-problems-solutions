{
 "cells": [
  {
   "cell_type": "markdown",
   "id": "dc25c724",
   "metadata": {},
   "source": [
    "### 1304. Find N Unique Integers Sum up to Zero"
   ]
  },
  {
   "cell_type": "code",
   "execution_count": 17,
   "id": "d54bfab7",
   "metadata": {},
   "outputs": [
    {
     "data": {
      "text/plain": [
       "[1, -1, 2, -2, 0]"
      ]
     },
     "execution_count": 17,
     "metadata": {},
     "output_type": "execute_result"
    }
   ],
   "source": [
    "\"\"\"\n",
    "Given an integer n, return any array containing n unique integers such that they add up to 0.\n",
    "Example 1:\n",
    "\n",
    "Input: n = 5\n",
    "Output: [-7,-1,1,3,4]\n",
    "Explanation: These arrays also are accepted [-5,-1,1,2,3] , [-3,-1,2,-2,4].\n",
    "Example 2:\n",
    "\n",
    "Input: n = 3\n",
    "Output: [-1,0,1]\n",
    "Example 3:\n",
    "\n",
    "Input: n = 1\n",
    "Output: [0]\n",
    "\"\"\"\n",
    "\n",
    "from operator import * # 'operator.neg' will make the number negative (with \"-\")\n",
    "\n",
    "class Solution:\n",
    "    def sumZero(self, n: int):\n",
    "        final = [] # The list container, which will store the specific amount of numbers\n",
    "        loop = n // 2 # Let's calculate the loop for appending all necessary numbers\n",
    "        for i in range(1, loop + 1):\n",
    "            final.append(i) # We append simultaneously the same negative and positive number\n",
    "            final.append(neg(i))\n",
    "        if n % 2 == 0: # If the 'n' parameter is even, we just return the final list of numeric elements\n",
    "            return final\n",
    "        final.append(0) # If the 'n' parameter is odd, we need to append one more number - the best option, of\n",
    "        # course, is 0 (the neutral number). After that we return the final list with numeric elements\n",
    "        return final\n",
    "    \n",
    "a = Solution()\n",
    "a.sumZero(5)"
   ]
  }
 ],
 "metadata": {
  "kernelspec": {
   "display_name": "Python 3 (ipykernel)",
   "language": "python",
   "name": "python3"
  },
  "language_info": {
   "codemirror_mode": {
    "name": "ipython",
    "version": 3
   },
   "file_extension": ".py",
   "mimetype": "text/x-python",
   "name": "python",
   "nbconvert_exporter": "python",
   "pygments_lexer": "ipython3",
   "version": "3.9.7"
  }
 },
 "nbformat": 4,
 "nbformat_minor": 5
}
