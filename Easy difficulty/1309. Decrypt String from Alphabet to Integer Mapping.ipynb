{
 "cells": [
  {
   "cell_type": "markdown",
   "id": "58c93901",
   "metadata": {},
   "source": [
    "### 1309. Decrypt String from Alphabet to Integer Mapping"
   ]
  },
  {
   "cell_type": "code",
   "execution_count": 181,
   "id": "6ad17151",
   "metadata": {},
   "outputs": [
    {
     "data": {
      "text/plain": [
       "'acz'"
      ]
     },
     "execution_count": 181,
     "metadata": {},
     "output_type": "execute_result"
    }
   ],
   "source": [
    "\"\"\"\n",
    "You are given a string s formed by digits and '#'. We want to map s to English lowercase \n",
    "characters as follows:\n",
    "\n",
    "Characters ('a' to 'i') are represented by ('1' to '9') respectively.\n",
    "Characters ('j' to 'z') are represented by ('10#' to '26#') respectively.\n",
    "Return the string formed after mapping.\n",
    "The test cases are generated so that a unique mapping will always exist.\n",
    "Example 1:\n",
    "\n",
    "Input: s = \"10#11#12\"\n",
    "Output: \"jkab\"\n",
    "Explanation: \"j\" -> \"10#\" , \"k\" -> \"11#\" , \"a\" -> \"1\" , \"b\" -> \"2\".\n",
    "Example 2:\n",
    "\n",
    "Input: s = \"1326#\"\n",
    "Output: \"acz\"\n",
    "\"\"\"\n",
    "\n",
    "import string # Let's import the English alphabet \n",
    "import re # Let's use regular expressions as well \n",
    "\n",
    "class Solution:\n",
    "    def freqAlphabets(self, s: str) -> str:\n",
    "        hashTable = {} # The dictionary is created, it sets up the mapping of keys (English letters) to \n",
    "        # values (indices with or without '#')\n",
    "        lowercase_ = string.ascii_lowercase # 26 English letters are imported\n",
    "        # First of all, the dictionary is filled with relevant key-value pairs\n",
    "        for i, j in enumerate(lowercase_, 1):\n",
    "            if i <= 9: # If the index is less than 10, the key is added without \"#\"\n",
    "                hashTable[str(i)] = j\n",
    "            else:\n",
    "                hashTable[str(i) + \"#\"] = j # If the index is 10 or bigger, the key is added with \"#\"\n",
    "        # Initially, we replace two-digit numbers (with \"#\") with the corresponding letter through regexp patterns\n",
    "        two_digits = re.findall(r\"\\d{2}\\#\", s)\n",
    "        if two_digits:\n",
    "            for i in two_digits:\n",
    "                s = re.sub(i, hashTable[i], s)\n",
    "        one_digit = re.findall(r\"\\d\", s)\n",
    "        # After that we replace remaining, one-digit numbers (without \"#\") with the corresponding letters \n",
    "        # through regexp patterns as well\n",
    "        for i in one_digit:\n",
    "            s = s.replace(i, hashTable[i])\n",
    "        return s # The final result is returned\n",
    "    \n",
    "a = Solution()\n",
    "a.freqAlphabets(\"1326#\")"
   ]
  }
 ],
 "metadata": {
  "kernelspec": {
   "display_name": "Python 3 (ipykernel)",
   "language": "python",
   "name": "python3"
  },
  "language_info": {
   "codemirror_mode": {
    "name": "ipython",
    "version": 3
   },
   "file_extension": ".py",
   "mimetype": "text/x-python",
   "name": "python",
   "nbconvert_exporter": "python",
   "pygments_lexer": "ipython3",
   "version": "3.9.7"
  }
 },
 "nbformat": 4,
 "nbformat_minor": 5
}
