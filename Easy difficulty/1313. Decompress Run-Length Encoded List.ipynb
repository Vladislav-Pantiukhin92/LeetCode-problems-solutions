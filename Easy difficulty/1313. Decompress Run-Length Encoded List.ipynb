{
 "cells": [
  {
   "cell_type": "markdown",
   "id": "dcac00aa",
   "metadata": {},
   "source": [
    "### 1313. Decompress Run-Length Encoded List"
   ]
  },
  {
   "cell_type": "code",
   "execution_count": 3,
   "id": "d3d32ad8",
   "metadata": {},
   "outputs": [
    {
     "data": {
      "text/plain": [
       "[1, 3, 3]"
      ]
     },
     "execution_count": 3,
     "metadata": {},
     "output_type": "execute_result"
    }
   ],
   "source": [
    "\"\"\"\n",
    "We are given a list nums of integers representing a list compressed with run-length encoding.\n",
    "Consider each adjacent pair of elements [freq, val] = [nums[2*i], nums[2*i+1]] (with i >= 0).  \n",
    "For each such pair, there are freq elements with value val concatenated in a sublist. \n",
    "Concatenate all the sublists from left to right to generate the decompressed list.\n",
    "\n",
    "Return the decompressed list.\n",
    "Example 1:\n",
    "\n",
    "Input: nums = [1,2,3,4]\n",
    "Output: [2,4,4,4]\n",
    "Explanation: The first pair [1,2] means we have freq = 1 and val = 2 so we generate the array [2].\n",
    "The second pair [3,4] means we have freq = 3 and val = 4 so we generate [4,4,4].\n",
    "At the end the concatenation [2] + [4,4,4] is [2,4,4,4].\n",
    "Example 2:\n",
    "\n",
    "Input: nums = [1,1,2,3]\n",
    "Output: [1,3,3]\n",
    "\"\"\"\n",
    "\n",
    "class Solution:\n",
    "    def decompressRLElist(self, nums: List[int]) -> List[int]:\n",
    "        final = [] # The list container, which is to be returned\n",
    "        # Two pointers to iterate over pairs of adjacent elements\n",
    "        i = 0 # The first pointer\n",
    "        j = 1 # The second pointer\n",
    "        while j < len(nums):\n",
    "            final.extend([nums[j]] * nums[i]) # Freq * value. The obtained result is appended to the list\n",
    "        # All the pointers are moved forward\n",
    "            i += 2\n",
    "            j += 2\n",
    "        return final # The final result is returned\n",
    "    \n",
    "a = Solution()\n",
    "a.decompressRLElist([1,1,2,3])"
   ]
  }
 ],
 "metadata": {
  "kernelspec": {
   "display_name": "Python 3 (ipykernel)",
   "language": "python",
   "name": "python3"
  },
  "language_info": {
   "codemirror_mode": {
    "name": "ipython",
    "version": 3
   },
   "file_extension": ".py",
   "mimetype": "text/x-python",
   "name": "python",
   "nbconvert_exporter": "python",
   "pygments_lexer": "ipython3",
   "version": "3.9.7"
  }
 },
 "nbformat": 4,
 "nbformat_minor": 5
}
