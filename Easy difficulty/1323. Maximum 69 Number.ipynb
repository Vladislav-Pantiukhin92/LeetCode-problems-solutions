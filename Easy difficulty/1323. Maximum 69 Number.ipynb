{
 "cells": [
  {
   "cell_type": "markdown",
   "id": "92e1d267",
   "metadata": {},
   "source": [
    "### 1323. Maximum 69 Number"
   ]
  },
  {
   "cell_type": "code",
   "execution_count": 3,
   "id": "5b11c37b",
   "metadata": {},
   "outputs": [
    {
     "data": {
      "text/plain": [
       "9999"
      ]
     },
     "execution_count": 3,
     "metadata": {},
     "output_type": "execute_result"
    }
   ],
   "source": [
    "\"\"\"\n",
    "You are given a positive integer num consisting only of digits 6 and 9.\n",
    "Return the maximum number you can get by changing at most one digit (6 becomes 9, and 9 becomes 6).\n",
    "Example 1:\n",
    "\n",
    "Input: num = 9669\n",
    "Output: 9969\n",
    "Explanation: \n",
    "Changing the first digit results in 6669.\n",
    "Changing the second digit results in 9969.\n",
    "Changing the third digit results in 9699.\n",
    "Changing the fourth digit results in 9666.\n",
    "The maximum number is 9969.\n",
    "Example 2:\n",
    "\n",
    "Input: num = 9996\n",
    "Output: 9999\n",
    "Explanation: Changing the last digit 6 to 9 results in the maximum number.\n",
    "Example 3:\n",
    "\n",
    "Input: num = 9999\n",
    "Output: 9999\n",
    "Explanation: It is better not to apply any change.\n",
    "\"\"\"\n",
    "\n",
    "class Solution:\n",
    "    def maximum69Number (self, num: int) -> int:\n",
    "        # We will need only one operation: as digit \"9\" is always bigger than the digit \"6\", we have just\n",
    "        # to transform the first \"6\" (which was met during the left-to-right iteration) into the digit \"9\"\n",
    "        # and return the final result\n",
    "        num = list(str(num)) # To identify numbers it is necessary to use the list type or string type\n",
    "        if all(i == \"9\" for i in num): # The case when all digits within the input integer are nines, so\n",
    "            # there is nothing to change, this is why we return the input integer as the output result\n",
    "            return int(\"\".join(num))\n",
    "        else:\n",
    "            for i in range(len(num)): # If something has to be changed - we replace the first \"6\" with \"9\"\n",
    "                if num[i] == \"6\":\n",
    "                    num[i] = \"9\"\n",
    "                    break \n",
    "            return int(\"\".join(num)) # The final result is the integer type again\n",
    "        \n",
    "a = Solution()\n",
    "a.maximum69Number(9996)"
   ]
  }
 ],
 "metadata": {
  "kernelspec": {
   "display_name": "Python 3 (ipykernel)",
   "language": "python",
   "name": "python3"
  },
  "language_info": {
   "codemirror_mode": {
    "name": "ipython",
    "version": 3
   },
   "file_extension": ".py",
   "mimetype": "text/x-python",
   "name": "python",
   "nbconvert_exporter": "python",
   "pygments_lexer": "ipython3",
   "version": "3.9.7"
  }
 },
 "nbformat": 4,
 "nbformat_minor": 5
}
