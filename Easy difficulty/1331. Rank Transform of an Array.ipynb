{
 "cells": [
  {
   "cell_type": "markdown",
   "id": "04ba5949",
   "metadata": {},
   "source": [
    "### 1331. Rank Transform of an Array"
   ]
  },
  {
   "cell_type": "code",
   "execution_count": 79,
   "id": "cc67a520",
   "metadata": {},
   "outputs": [
    {
     "data": {
      "text/plain": [
       "[5, 3, 4, 2, 8, 6, 7, 1, 3]"
      ]
     },
     "execution_count": 79,
     "metadata": {},
     "output_type": "execute_result"
    }
   ],
   "source": [
    "\"\"\"\n",
    "Given an array of integers arr, replace each element with its rank.\n",
    "The rank represents how large the element is. The rank has the following rules:\n",
    "Rank is an integer starting from 1.\n",
    "The larger the element, the larger the rank. If two elements are equal, their rank must be the same.\n",
    "Rank should be as small as possible.\n",
    "Example 1:\n",
    "\n",
    "Input: arr = [40,10,20,30]\n",
    "Output: [4,1,2,3]\n",
    "Explanation: 40 is the largest element. 10 is the smallest. 20 is the second smallest. 30 is the third \n",
    "smallest.\n",
    "Example 2:\n",
    "\n",
    "Input: arr = [100,100,100]\n",
    "Output: [1,1,1]\n",
    "Explanation: Same elements share the same rank.\n",
    "Example 3:\n",
    "\n",
    "Input: arr = [37,12,28,9,100,56,80,5,12]\n",
    "Output: [5,3,4,2,8,6,7,1,3]\n",
    "\"\"\"\n",
    "\n",
    "from itertools import count # 'itertools.count' will help to build the zip_list with elements and their indices\n",
    "\n",
    "class Solution:\n",
    "    def arrayRankTransform(self, arr: List[int]) -> List[int]:\n",
    "    # Let's create the zip_list with elements of the input list and their corresponding indices\n",
    "        aggregate_lst = list(zip(arr, count()))\n",
    "    # On top of that, let's build the new array, which will be initially filled with 0s. The length of this \n",
    "    # array is the length of the input list\n",
    "        final = [0] * len(arr)\n",
    "    # We should sort the zip_list in ascending order. As all sorted iterables contain not only elements, but also \n",
    "    # their corresponding indices, we will be able to restore the rank of elements within the recently initialized array\n",
    "        sort_list = sorted(aggregate_lst)\n",
    "        prevElem = None # It is necessary to take into account the fact that some elements may have duplicates, \n",
    "        # so their rank will be the same (this is why, we will compare each element with the previous one)\n",
    "        rank = 1\n",
    "    # Through the 'for loop' we will identify the rank of each number and add it to the recently initialized array \n",
    "    # (0s will be replaced with the relevant rank)\n",
    "        for i, j in sort_list:\n",
    "            if i != prevElem:\n",
    "                final[j] = rank \n",
    "                rank += 1\n",
    "                prevElem = i\n",
    "            else:\n",
    "                final[j] = rank - 1\n",
    "                prevElem = i\n",
    "        return final # The list with ranks is returned\n",
    "    \n",
    "a = Solution()\n",
    "a.arrayRankTransform([37,12,28,9,100,56,80,5,12])"
   ]
  }
 ],
 "metadata": {
  "kernelspec": {
   "display_name": "Python 3 (ipykernel)",
   "language": "python",
   "name": "python3"
  },
  "language_info": {
   "codemirror_mode": {
    "name": "ipython",
    "version": 3
   },
   "file_extension": ".py",
   "mimetype": "text/x-python",
   "name": "python",
   "nbconvert_exporter": "python",
   "pygments_lexer": "ipython3",
   "version": "3.9.7"
  }
 },
 "nbformat": 4,
 "nbformat_minor": 5
}
