{
 "cells": [
  {
   "cell_type": "markdown",
   "id": "9f01e4d1",
   "metadata": {},
   "source": [
    "### 1337. The K Weakest Rows in a Matrix"
   ]
  },
  {
   "cell_type": "code",
   "execution_count": 3,
   "id": "f7349ed6",
   "metadata": {},
   "outputs": [
    {
     "data": {
      "text/plain": [
       "[2, 0, 3]"
      ]
     },
     "execution_count": 3,
     "metadata": {},
     "output_type": "execute_result"
    }
   ],
   "source": [
    "\"\"\"\n",
    "You are given an m x n binary matrix mat of 1's (representing soldiers) and 0's (representing civilians). \n",
    "The soldiers are positioned in front of the civilians. That is, all the 1's will appear to the left of \n",
    "all the 0's in each row.\n",
    "A row i is weaker than a row j if one of the following is true:\n",
    "The number of soldiers in row i is less than the number of soldiers in row j.\n",
    "Both rows have the same number of soldiers and i < j.\n",
    "Return the indices of the k weakest rows in the matrix ordered from weakest to strongest.\n",
    "Example 1:\n",
    "\n",
    "Input: mat = \n",
    "[[1,1,0,0,0],\n",
    " [1,1,1,1,0],\n",
    " [1,0,0,0,0],\n",
    " [1,1,0,0,0],\n",
    " [1,1,1,1,1]], \n",
    "k = 3\n",
    "Output: [2,0,3]\n",
    "Explanation: \n",
    "The number of soldiers in each row is: \n",
    "- Row 0: 2 \n",
    "- Row 1: 4 \n",
    "- Row 2: 1 \n",
    "- Row 3: 2 \n",
    "- Row 4: 5 \n",
    "The rows ordered from weakest to strongest are [2,0,3,1,4].\n",
    "Example 2:\n",
    "\n",
    "Input: mat = \n",
    "[[1,0,0,0],\n",
    " [1,1,1,1],\n",
    " [1,0,0,0],\n",
    " [1,0,0,0]], \n",
    "k = 2\n",
    "Output: [0,2]\n",
    "Explanation: \n",
    "The number of soldiers in each row is: \n",
    "- Row 0: 1 \n",
    "- Row 1: 4 \n",
    "- Row 2: 1 \n",
    "- Row 3: 1 \n",
    "The rows ordered from weakest to strongest are [0,2,3,1].\n",
    "\"\"\"\n",
    "mat = [[1,1,0,0,0],[1,1,1,1,0],[1,0,0,0,0],[1,1,0,0,0],[1,1,1,1,1]]\n",
    "\n",
    "\n",
    "from functools import reduce # 'functools.reduce' will help to merge string digits into the while number\n",
    "from itertools import count # 'itertools.count' will help to create tuples with elements and their indices\n",
    "\n",
    "class Solution:\n",
    "    def kWeakestRows(self, mat: List[List[int]], k: int) -> List[int]:\n",
    "        # It is important to understand that the lesser 1s within an iterable, the smaller the number itself\n",
    "        # So currently it is necessary to transform iterables with digits into the integer numbers:\n",
    "        my_list = list(map(lambda x: list(map(lambda y: str(y), x)), mat))\n",
    "        my_list = list(map(lambda x: reduce(lambda i, j: i + j, x), my_list))\n",
    "        my_list = list(map(int, my_list)) # Integer transformation\n",
    "        my_list = sorted(list(zip(my_list, count()))) # Through the 'zip' function we merge integers and their\n",
    "        # indices within a tuple\n",
    "        # The final step is to sort the list of tuples and extract the essential slice with the help of the 'k' variable\n",
    "        mySlice = list(map(lambda x: x[1], my_list[:k]))\n",
    "        return mySlice\n",
    "    \n",
    "a = Solution()\n",
    "a.kWeakestRows(mat, 3)"
   ]
  }
 ],
 "metadata": {
  "kernelspec": {
   "display_name": "Python 3 (ipykernel)",
   "language": "python",
   "name": "python3"
  },
  "language_info": {
   "codemirror_mode": {
    "name": "ipython",
    "version": 3
   },
   "file_extension": ".py",
   "mimetype": "text/x-python",
   "name": "python",
   "nbconvert_exporter": "python",
   "pygments_lexer": "ipython3",
   "version": "3.9.7"
  }
 },
 "nbformat": 4,
 "nbformat_minor": 5
}
