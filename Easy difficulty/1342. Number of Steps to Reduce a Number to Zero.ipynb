{
 "cells": [
  {
   "cell_type": "markdown",
   "id": "14a72043",
   "metadata": {},
   "source": [
    "### 1342. Number of Steps to Reduce a Number to Zero"
   ]
  },
  {
   "cell_type": "code",
   "execution_count": 65,
   "id": "cfd4dd00",
   "metadata": {},
   "outputs": [
    {
     "data": {
      "text/plain": [
       "12"
      ]
     },
     "execution_count": 65,
     "metadata": {},
     "output_type": "execute_result"
    }
   ],
   "source": [
    "\"\"\"\n",
    "Given an integer num, return the number of steps to reduce it to zero.\n",
    "In one step, if the current number is even, you have to divide it by 2, \n",
    "otherwise, you have to subtract 1 from it.\n",
    "Example 1:\n",
    "\n",
    "Input: num = 14\n",
    "Output: 6\n",
    "Explanation: \n",
    "Step 1) 14 is even; divide by 2 and obtain 7. \n",
    "Step 2) 7 is odd; subtract 1 and obtain 6.\n",
    "Step 3) 6 is even; divide by 2 and obtain 3. \n",
    "Step 4) 3 is odd; subtract 1 and obtain 2. \n",
    "Step 5) 2 is even; divide by 2 and obtain 1. \n",
    "Step 6) 1 is odd; subtract 1 and obtain 0.\n",
    "Example 2:\n",
    "\n",
    "Input: num = 8\n",
    "Output: 4\n",
    "Explanation: \n",
    "Step 1) 8 is even; divide by 2 and obtain 4. \n",
    "Step 2) 4 is even; divide by 2 and obtain 2. \n",
    "Step 3) 2 is even; divide by 2 and obtain 1. \n",
    "Step 4) 1 is odd; subtract 1 and obtain 0.\n",
    "Example 3:\n",
    "\n",
    "Input: num = 123\n",
    "Output: 12\n",
    "\"\"\"\n",
    "\n",
    "class Solution:\n",
    "    def numberOfSteps(self, num: int) -> int:\n",
    "        steps = 0 # The initial amount of steps equals to 0\n",
    "        while num != 0: # The loop is valid while the input number != 0\n",
    "            if num % 2 == 0: # The case when the number is even\n",
    "                num //= 2\n",
    "                steps += 1\n",
    "            else: # The case when the number is odd\n",
    "                num -= 1\n",
    "                steps += 1\n",
    "        return steps # The final result\n",
    "    \n",
    "a = Solution()\n",
    "a.numberOfSteps(123)"
   ]
  }
 ],
 "metadata": {
  "kernelspec": {
   "display_name": "Python 3 (ipykernel)",
   "language": "python",
   "name": "python3"
  },
  "language_info": {
   "codemirror_mode": {
    "name": "ipython",
    "version": 3
   },
   "file_extension": ".py",
   "mimetype": "text/x-python",
   "name": "python",
   "nbconvert_exporter": "python",
   "pygments_lexer": "ipython3",
   "version": "3.9.7"
  }
 },
 "nbformat": 4,
 "nbformat_minor": 5
}
