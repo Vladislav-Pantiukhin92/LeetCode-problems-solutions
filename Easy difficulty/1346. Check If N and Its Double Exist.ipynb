{
 "cells": [
  {
   "cell_type": "markdown",
   "id": "0f382d6c",
   "metadata": {},
   "source": [
    "### 1346. Check If N and Its Double Exist"
   ]
  },
  {
   "cell_type": "code",
   "execution_count": 43,
   "id": "44398da5",
   "metadata": {},
   "outputs": [
    {
     "data": {
      "text/plain": [
       "True"
      ]
     },
     "execution_count": 43,
     "metadata": {},
     "output_type": "execute_result"
    }
   ],
   "source": [
    "\"\"\"\n",
    "Given an array arr of integers, check if there exists two integers N and M such that \n",
    "N is the double of M ( i.e. N = 2 * M).\n",
    "More formally check if there exists two indices i and j such that :\n",
    "\n",
    "i != j\n",
    "0 <= i, j < arr.length\n",
    "arr[i] == 2 * arr[j]\n",
    "Example 1:\n",
    "\n",
    "Input: arr = [10,2,5,3]\n",
    "Output: true\n",
    "Explanation: N = 10 is the double of M = 5,that is, 10 = 2 * 5.\n",
    "Example 2:\n",
    "\n",
    "Input: arr = [7,1,14,11]\n",
    "Output: true\n",
    "Explanation: N = 14 is the double of M = 7,that is, 14 = 2 * 7.\n",
    "Example 3:\n",
    "\n",
    "Input: arr = [3,1,7,11]\n",
    "Output: false\n",
    "Explanation: In this case does not exist N and M, such that N = 2 * M.\n",
    "\"\"\"\n",
    "\n",
    "import numpy as np\n",
    "\n",
    "class Solution:\n",
    "    def checkIfExist(self, arr: List[int]) -> bool:\n",
    "        if arr.count(0) >= 2: # The special case - when there are two zeros within the input list - return True\n",
    "            return True\n",
    "        # Let's arrange the list of even numbers - an even number can imply that it is a double of the original number\n",
    "        evenNums = list(filter(lambda x: x % 2 == 0, arr))\n",
    "        if len(evenNums) < 1: # If the list of even numbers is empty - there are no N and its double\n",
    "            return False\n",
    "        else:\n",
    "            # As a numpy array we can divide the list by two (all elements of the list will be divided by two)\n",
    "            numpy_arr = np.array(evenNums) / 2\n",
    "            # If there is a number, which can be met within the input list as well, - return True, otherwise - \n",
    "            # return False\n",
    "            for i in numpy_arr:\n",
    "                if i in arr and i != 0:\n",
    "                    return True\n",
    "            return False\n",
    "        \n",
    "a = Solution()\n",
    "a.checkIfExist([7,1,14,11])"
   ]
  }
 ],
 "metadata": {
  "kernelspec": {
   "display_name": "Python 3 (ipykernel)",
   "language": "python",
   "name": "python3"
  },
  "language_info": {
   "codemirror_mode": {
    "name": "ipython",
    "version": 3
   },
   "file_extension": ".py",
   "mimetype": "text/x-python",
   "name": "python",
   "nbconvert_exporter": "python",
   "pygments_lexer": "ipython3",
   "version": "3.9.7"
  }
 },
 "nbformat": 4,
 "nbformat_minor": 5
}
