{
 "cells": [
  {
   "cell_type": "markdown",
   "id": "288fb506",
   "metadata": {},
   "source": [
    "### 1351. Count Negative Numbers in a Sorted Matrix"
   ]
  },
  {
   "cell_type": "code",
   "execution_count": 98,
   "id": "32d7ce4f",
   "metadata": {},
   "outputs": [
    {
     "data": {
      "text/plain": [
       "8"
      ]
     },
     "execution_count": 98,
     "metadata": {},
     "output_type": "execute_result"
    }
   ],
   "source": [
    "\"\"\"\n",
    "Given a m x n matrix grid which is sorted in non-increasing order both row-wise and column-wise, \n",
    "return the number of negative numbers in grid.\n",
    "Example 1:\n",
    "\n",
    "Input: grid = [[4,3,2,-1],[3,2,1,-1],[1,1,-1,-2],[-1,-1,-2,-3]]\n",
    "Output: 8\n",
    "Explanation: There are 8 negatives number in the matrix.\n",
    "Example 2:\n",
    "\n",
    "Input: grid = [[3,2],[1,0]]\n",
    "Output: 0\n",
    "\"\"\"\n",
    "\n",
    "from itertools import chain # 'chain.from_iterable' will transform the input into the 1-D array\n",
    "\n",
    "class Solution:\n",
    "    def countNegatives(self, grid: List[List[int]]) -> int:\n",
    "        myList = list(chain.from_iterable(grid)) # The input matrix was transformed into the 1-D array\n",
    "        final = len(list(filter(lambda x: x < 0, myList))) # 'filter' function removes all positive numbers\n",
    "        return final # We return the length of the final list with only negative numbers\n",
    "    \n",
    "a = Solution()\n",
    "a.countNegatives([[4,3,2,-1],[3,2,1,-1],[1,1,-1,-2],[-1,-1,-2,-3]])"
   ]
  }
 ],
 "metadata": {
  "kernelspec": {
   "display_name": "Python 3 (ipykernel)",
   "language": "python",
   "name": "python3"
  },
  "language_info": {
   "codemirror_mode": {
    "name": "ipython",
    "version": 3
   },
   "file_extension": ".py",
   "mimetype": "text/x-python",
   "name": "python",
   "nbconvert_exporter": "python",
   "pygments_lexer": "ipython3",
   "version": "3.9.7"
  }
 },
 "nbformat": 4,
 "nbformat_minor": 5
}
