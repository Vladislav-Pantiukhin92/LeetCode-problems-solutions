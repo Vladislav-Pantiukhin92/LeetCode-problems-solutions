{
 "cells": [
  {
   "cell_type": "markdown",
   "id": "6bc0dd4d",
   "metadata": {},
   "source": [
    "### 1356. Sort Integers by The Number of 1 Bits"
   ]
  },
  {
   "cell_type": "code",
   "execution_count": 1,
   "id": "01d08e4b",
   "metadata": {},
   "outputs": [
    {
     "data": {
      "text/plain": [
       "[1, 2, 4, 8, 16, 32, 64, 128, 256, 512, 1024]"
      ]
     },
     "execution_count": 1,
     "metadata": {},
     "output_type": "execute_result"
    }
   ],
   "source": [
    "\"\"\"\n",
    "You are given an integer array arr. Sort the integers in the array in ascending order by the number \n",
    "of 1's in their binary representation and in case of two or more integers have the same number of 1's you \n",
    "have to sort them in ascending order.\n",
    "Return the array after sorting it.\n",
    "Example 1:\n",
    "\n",
    "Input: arr = [0,1,2,3,4,5,6,7,8]\n",
    "Output: [0,1,2,4,8,3,5,6,7]\n",
    "Explantion: [0] is the only integer with 0 bits.\n",
    "[1,2,4,8] all have 1 bit.\n",
    "[3,5,6] have 2 bits.\n",
    "[7] has 3 bits.\n",
    "The sorted array by bits is [0,1,2,4,8,3,5,6,7]\n",
    "Example 2:\n",
    "\n",
    "Input: arr = [1024,512,256,128,64,32,16,8,4,2,1]\n",
    "Output: [1,2,4,8,16,32,64,128,256,512,1024]\n",
    "Explantion: All integers have 1 bit in the binary representation, you should just sort them in ascending order.\n",
    "\"\"\"\n",
    "\n",
    "class Solution:\n",
    "    def sortByBits(self, arr: List[int]) -> List[int]:\n",
    "    # First of all, let's transform all integers into their binary representation through the 'map' function\n",
    "        binary_arr = list(map(lambda x: bin(x).lstrip(\"0b\"), arr))\n",
    "    # The following step is to count the number of '1' within the binary representation of integers\n",
    "        number_of_ones = list(map(lambda y: y.count(\"1\"), binary_arr))\n",
    "    # Right now we have two lists - the first one is the original array and the second one is the array with the \n",
    "    # specific number of \"1\" within each binary representation\n",
    "        zip_list = sorted(list(zip(number_of_ones, arr))) # We are going to create the zip_list with the aforementioned \n",
    "        # arrays, as well as it is important to sort this zip_list in ascending order\n",
    "        result = list(map(lambda x: x[1], zip_list)) # Eventually we have the proper order of elements. The final operation is \n",
    "        # to eliminate some superfluous elements from iterables - the second argument (the number of \"1\" in binary \n",
    "        # representation)\n",
    "        return result # The final result is returned\n",
    "        \n",
    "a = Solution()\n",
    "a.sortByBits([1024,512,256,128,64,32,16,8,4,2,1])"
   ]
  }
 ],
 "metadata": {
  "kernelspec": {
   "display_name": "Python 3 (ipykernel)",
   "language": "python",
   "name": "python3"
  },
  "language_info": {
   "codemirror_mode": {
    "name": "ipython",
    "version": 3
   },
   "file_extension": ".py",
   "mimetype": "text/x-python",
   "name": "python",
   "nbconvert_exporter": "python",
   "pygments_lexer": "ipython3",
   "version": "3.9.7"
  }
 },
 "nbformat": 4,
 "nbformat_minor": 5
}
