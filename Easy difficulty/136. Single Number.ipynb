{
 "cells": [
  {
   "cell_type": "markdown",
   "id": "d7731aab",
   "metadata": {},
   "source": [
    "### 136. Single Number"
   ]
  },
  {
   "cell_type": "code",
   "execution_count": 73,
   "id": "ccba4c6b",
   "metadata": {},
   "outputs": [
    {
     "data": {
      "text/plain": [
       "4"
      ]
     },
     "execution_count": 73,
     "metadata": {},
     "output_type": "execute_result"
    }
   ],
   "source": [
    "\"\"\"\n",
    "Given a non-empty array of integers nums, every element appears twice except for one. Find that single one.\n",
    "You must implement a solution with a linear runtime complexity and use only constant extra space.\n",
    "Example 1:\n",
    "\n",
    "Input: nums = [2,2,1]\n",
    "Output: 1\n",
    "Example 2:\n",
    "\n",
    "Input: nums = [4,1,2,1,2]\n",
    "Output: 4\n",
    "Example 3:\n",
    "\n",
    "Input: nums = [1]\n",
    "Output: 1\n",
    "\"\"\"\n",
    "\n",
    "class Solution:\n",
    "    def singleNumber(self, nums: List[int]) -> int:\n",
    "    # Let's create the hashTable (dictionary), where keys are elements within the array and values are their occurences\n",
    "        hashTable = {} \n",
    "        for i in nums:\n",
    "            if i not in hashTable:\n",
    "                hashTable[i] = 1 # If the key is not within the array, we add the key with the occurence = 1\n",
    "            else:\n",
    "                hashTable[i] += 1 # If the key is already within the array, we just increase the occurence by 1\n",
    "        for j in hashTable:\n",
    "            if hashTable[j] == 1:\n",
    "                return j # Finally we return the key, equaling to 1\n",
    "            \n",
    "a = Solution()\n",
    "a.singleNumber([4,1,2,1,2])"
   ]
  }
 ],
 "metadata": {
  "kernelspec": {
   "display_name": "Python 3 (ipykernel)",
   "language": "python",
   "name": "python3"
  },
  "language_info": {
   "codemirror_mode": {
    "name": "ipython",
    "version": 3
   },
   "file_extension": ".py",
   "mimetype": "text/x-python",
   "name": "python",
   "nbconvert_exporter": "python",
   "pygments_lexer": "ipython3",
   "version": "3.9.7"
  }
 },
 "nbformat": 4,
 "nbformat_minor": 5
}
