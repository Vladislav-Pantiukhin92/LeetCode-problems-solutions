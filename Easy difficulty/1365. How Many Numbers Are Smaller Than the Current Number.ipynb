{
 "cells": [
  {
   "cell_type": "markdown",
   "id": "af4024a0",
   "metadata": {},
   "source": [
    "### 1365. How Many Numbers Are Smaller Than the Current Number"
   ]
  },
  {
   "cell_type": "code",
   "execution_count": 86,
   "id": "960da53d",
   "metadata": {},
   "outputs": [
    {
     "data": {
      "text/plain": [
       "[4, 0, 1, 1, 3]"
      ]
     },
     "execution_count": 86,
     "metadata": {},
     "output_type": "execute_result"
    }
   ],
   "source": [
    "\"\"\"\n",
    "Given the array nums, for each nums[i] find out how many numbers in the array are smaller than it. \n",
    "That is, for each nums[i] you have to count the number of valid j's such that j != i and nums[j] < nums[i].\n",
    "Return the answer in an array.\n",
    "Example 1:\n",
    "\n",
    "Input: nums = [8,1,2,2,3]\n",
    "Output: [4,0,1,1,3]\n",
    "Explanation: \n",
    "For nums[0]=8 there exist four smaller numbers than it (1, 2, 2 and 3). \n",
    "For nums[1]=1 does not exist any smaller number than it.\n",
    "For nums[2]=2 there exist one smaller number than it (1). \n",
    "For nums[3]=2 there exist one smaller number than it (1). \n",
    "For nums[4]=3 there exist three smaller numbers than it (1, 2 and 2).\n",
    "Example 2:\n",
    "\n",
    "Input: nums = [6,5,4,8]\n",
    "Output: [2,1,0,3]\n",
    "Example 3:\n",
    "\n",
    "Input: nums = [7,7,7,7]\n",
    "Output: [0,0,0,0]\n",
    "\"\"\"\n",
    "\n",
    "class Solution:\n",
    "    def smallerNumbersThanCurrent(self, nums: List[int]) -> List[int]:\n",
    "        # Let's create the array, where each element will equal to None\n",
    "        # We are going to fill out this array later\n",
    "        outputArray = [None] * len(nums)\n",
    "        newNums = nums.copy()\n",
    "        # It is much more efficient to monitor smaller elements of each number within the sorted array\n",
    "        # So the Shell Sort algorithm will be used to sort this array \n",
    "        def shellSort(array):\n",
    "            # We are comparing the elements at a certain distance\n",
    "            gap = len(array) // 2\n",
    "            while gap > 0:\n",
    "                for i in range(gap, len(array)):\n",
    "                    j = i\n",
    "                    while j >= gap and array[j - gap] > array[j]:\n",
    "                        array[j - gap], array[j] = array[j], array[j - gap]\n",
    "                        j -= gap\n",
    "                gap //= 2\n",
    "            return array\n",
    "        sortedArray = shellSort(nums)\n",
    "        # When the sorted array is obtained, we count the elements before each element, thus obtaining the number\n",
    "        # of smaller elements\n",
    "        ind = 0\n",
    "        while ind < len(newNums):\n",
    "            curElement = newNums[ind]\n",
    "            # Index of each element in the sorted array == the number of smaller elements before each element\n",
    "            curIndex = sortedArray.index(curElement)\n",
    "            # Knowing the result it is possible then to fill out the outputArray\n",
    "            outputArray[ind] = curIndex\n",
    "            ind += 1\n",
    "        return outputArray\n",
    "    \n",
    "a = Solution()\n",
    "a.smallerNumbersThanCurrent([8,1,2,2,3])"
   ]
  }
 ],
 "metadata": {
  "kernelspec": {
   "display_name": "Python 3 (ipykernel)",
   "language": "python",
   "name": "python3"
  },
  "language_info": {
   "codemirror_mode": {
    "name": "ipython",
    "version": 3
   },
   "file_extension": ".py",
   "mimetype": "text/x-python",
   "name": "python",
   "nbconvert_exporter": "python",
   "pygments_lexer": "ipython3",
   "version": "3.9.7"
  }
 },
 "nbformat": 4,
 "nbformat_minor": 5
}
