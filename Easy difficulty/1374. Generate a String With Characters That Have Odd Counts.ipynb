{
 "cells": [
  {
   "cell_type": "markdown",
   "id": "5cccddf0",
   "metadata": {},
   "source": [
    "### 1374. Generate a String With Characters That Have Odd Counts"
   ]
  },
  {
   "cell_type": "code",
   "execution_count": 183,
   "id": "c7aba184",
   "metadata": {},
   "outputs": [
    {
     "data": {
      "text/plain": [
       "'ab'"
      ]
     },
     "execution_count": 183,
     "metadata": {},
     "output_type": "execute_result"
    }
   ],
   "source": [
    "\"\"\"\n",
    "Given an integer n, return a string with n characters such that each character in such string occurs an \n",
    "odd number of times.\n",
    "\n",
    "The returned string must contain only lowercase English letters. If there are multiples valid strings, \n",
    "return any of them.  \n",
    "Example 1:\n",
    "\n",
    "Input: n = 4\n",
    "Output: \"pppz\"\n",
    "Explanation: \"pppz\" is a valid string since the character 'p' occurs three times and the character \n",
    "'z' occurs once. Note that there are many other valid strings such as \"ohhh\" and \"love\".\n",
    "Example 2:\n",
    "\n",
    "Input: n = 2\n",
    "Output: \"xy\"\n",
    "Explanation: \"xy\" is a valid string since the characters 'x' and 'y' occur once. Note that there are \n",
    "many other valid strings such as \"ag\" and \"ur\".\n",
    "Example 3:\n",
    "\n",
    "Input: n = 7\n",
    "Output: \"holasss\"\n",
    "\"\"\"\n",
    "\n",
    "class Solution:\n",
    "    def generateTheString(self, n: int) -> str:\n",
    "        # In view of the fact the any string of the similar pattern can be returned, it is possible to use\n",
    "        # the following simplified procedure:\n",
    "        if n % 2 == 0: # If 'n' is even - we return the string (length == 'n'), consisting of one letter (the length of \n",
    "            # which is n - 1) plus another 1 letter (for example, \"a\" and \"b\")\n",
    "            return \"a\" * (n - 1) + \"b\"\n",
    "        else:\n",
    "            # If the 'n' is odd - we return the string with the length == 'n', consisting of only one letter\n",
    "            return \"a\" * n\n",
    "        \n",
    "a = Solution()\n",
    "a.generateTheString(2)"
   ]
  }
 ],
 "metadata": {
  "kernelspec": {
   "display_name": "Python 3 (ipykernel)",
   "language": "python",
   "name": "python3"
  },
  "language_info": {
   "codemirror_mode": {
    "name": "ipython",
    "version": 3
   },
   "file_extension": ".py",
   "mimetype": "text/x-python",
   "name": "python",
   "nbconvert_exporter": "python",
   "pygments_lexer": "ipython3",
   "version": "3.9.7"
  }
 },
 "nbformat": 4,
 "nbformat_minor": 5
}
