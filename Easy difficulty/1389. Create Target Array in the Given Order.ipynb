{
 "cells": [
  {
   "cell_type": "markdown",
   "id": "8b635c38",
   "metadata": {},
   "source": [
    "### 1389. Create Target Array in the Given Order"
   ]
  },
  {
   "cell_type": "code",
   "execution_count": 48,
   "id": "f8edce11",
   "metadata": {},
   "outputs": [
    {
     "data": {
      "text/plain": [
       "[0, 4, 1, 3, 2]"
      ]
     },
     "execution_count": 48,
     "metadata": {},
     "output_type": "execute_result"
    }
   ],
   "source": [
    "\"\"\"\n",
    "Given two arrays of integers nums and index. Your task is to create target array under the following rules:\n",
    "Initially target array is empty.\n",
    "From left to right read nums[i] and index[i], insert at index index[i] the value nums[i] in target array.\n",
    "Repeat the previous step until there are no elements to read in nums and index.\n",
    "Return the target array.\n",
    "It is guaranteed that the insertion operations will be valid.\n",
    "Example 1:\n",
    "\n",
    "Input: nums = [0,1,2,3,4], index = [0,1,2,2,1]\n",
    "Output: [0,4,1,3,2]\n",
    "Explanation:\n",
    "nums       index     target\n",
    "0            0        [0]\n",
    "1            1        [0,1]\n",
    "2            2        [0,1,2]\n",
    "3            2        [0,1,3,2]\n",
    "4            1        [0,4,1,3,2]\n",
    "Example 2:\n",
    "\n",
    "Input: nums = [1,2,3,4,0], index = [0,1,2,3,0]\n",
    "Output: [0,1,2,3,4]\n",
    "Explanation:\n",
    "nums       index     target\n",
    "1            0        [1]\n",
    "2            1        [1,2]\n",
    "3            2        [1,2,3]\n",
    "4            3        [1,2,3,4]\n",
    "0            0        [0,1,2,3,4]\n",
    "Example 3:\n",
    "\n",
    "Input: nums = [1], index = [0]\n",
    "Output: [1]\n",
    "\n",
    "\"\"\"\n",
    "class Solution:\n",
    "    def createTargetArray(self, nums, index):\n",
    "        # Let's create the target_array, filled initially with zeros\n",
    "        target_array = [0 for _ in range(len(nums))]\n",
    "        j = 0\n",
    "        # Through the list.insert() we are going to replicate values from 'nums' and indices from 'index'\n",
    "        for i in index:\n",
    "            target_array.insert(i, nums[j])\n",
    "            j += 1\n",
    "        # Zeros are still within the list, so it is necessary to remove the superfluous slice\n",
    "        target_array = target_array[:len(nums)]\n",
    "        return target_array\n",
    "    \n",
    "a = Solution()\n",
    "a.createTargetArray([0,1,2,3,4], [0,1,2,2,1])"
   ]
  }
 ],
 "metadata": {
  "kernelspec": {
   "display_name": "Python 3 (ipykernel)",
   "language": "python",
   "name": "python3"
  },
  "language_info": {
   "codemirror_mode": {
    "name": "ipython",
    "version": 3
   },
   "file_extension": ".py",
   "mimetype": "text/x-python",
   "name": "python",
   "nbconvert_exporter": "python",
   "pygments_lexer": "ipython3",
   "version": "3.9.7"
  }
 },
 "nbformat": 4,
 "nbformat_minor": 5
}
