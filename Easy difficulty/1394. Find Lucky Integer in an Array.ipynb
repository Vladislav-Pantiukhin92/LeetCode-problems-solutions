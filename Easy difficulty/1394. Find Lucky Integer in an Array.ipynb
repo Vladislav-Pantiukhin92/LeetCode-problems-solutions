{
 "cells": [
  {
   "cell_type": "markdown",
   "id": "3aed033b",
   "metadata": {},
   "source": [
    "### 1394. Find Lucky Integer in an Array"
   ]
  },
  {
   "cell_type": "code",
   "execution_count": 5,
   "id": "c96d9d2f",
   "metadata": {},
   "outputs": [
    {
     "data": {
      "text/plain": [
       "3"
      ]
     },
     "execution_count": 5,
     "metadata": {},
     "output_type": "execute_result"
    }
   ],
   "source": [
    "\"\"\"\n",
    "Given an array of integers arr, a lucky integer is an integer that has a frequency in the array equal \n",
    "to its value.\n",
    "Return the largest lucky integer in the array. If there is no lucky integer return -1.\n",
    "Example 1:\n",
    "\n",
    "Input: arr = [2,2,3,4]\n",
    "Output: 2\n",
    "Explanation: The only lucky number in the array is 2 because frequency[2] == 2.\n",
    "Example 2:\n",
    "\n",
    "Input: arr = [1,2,2,3,3,3]\n",
    "Output: 3\n",
    "Explanation: 1, 2 and 3 are all lucky numbers, return the largest of them.\n",
    "Example 3:\n",
    "\n",
    "Input: arr = [2,2,2,3,3]\n",
    "Output: -1\n",
    "Explanation: There are no lucky numbers in the array.\n",
    "\"\"\"\n",
    "\n",
    "from collections import Counter # 'collections.Counter' will launch the dictionary with elements as keys and \n",
    "# elements' occurrences as values\n",
    "from operator import * # 'operator.itemgetter' will sort the list of tuples in proper order (focus on the \n",
    "# second argument)\n",
    "\n",
    "\n",
    "class Solution:\n",
    "    def findLucky(self, arr: List[int]) -> int:\n",
    "        items_lst = sorted(list(dict(Counter(arr)).items()), key=itemgetter(1)) # The created dictionary with \n",
    "        # elements and their occurrences is transformed into the list of tuples, where each tuple contains an\n",
    "        # element and its occurrence within the input list\n",
    "        lucky_int = -1 # If the variable won't be updated - we return -1\n",
    "        for i, j in items_lst: # As the list of tuples is sorted in ascending order, we can be certain that, \n",
    "            # if there are several lucky numbers in the list, the biggest one among them will be surely taken\n",
    "            if i == j:\n",
    "                lucky_int = i\n",
    "        return lucky_int\n",
    "    \n",
    "a = Solution()\n",
    "a.findLucky([1,2,2,3,3,3])"
   ]
  }
 ],
 "metadata": {
  "kernelspec": {
   "display_name": "Python 3 (ipykernel)",
   "language": "python",
   "name": "python3"
  },
  "language_info": {
   "codemirror_mode": {
    "name": "ipython",
    "version": 3
   },
   "file_extension": ".py",
   "mimetype": "text/x-python",
   "name": "python",
   "nbconvert_exporter": "python",
   "pygments_lexer": "ipython3",
   "version": "3.9.7"
  }
 },
 "nbformat": 4,
 "nbformat_minor": 5
}
