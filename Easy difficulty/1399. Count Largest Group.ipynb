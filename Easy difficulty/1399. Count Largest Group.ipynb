{
 "cells": [
  {
   "cell_type": "markdown",
   "id": "dcac00aa",
   "metadata": {},
   "source": [
    "### 1399. Count Largest Group"
   ]
  },
  {
   "cell_type": "code",
   "execution_count": 2,
   "id": "9bf57eb0",
   "metadata": {},
   "outputs": [
    {
     "data": {
      "text/plain": [
       "4"
      ]
     },
     "execution_count": 2,
     "metadata": {},
     "output_type": "execute_result"
    }
   ],
   "source": [
    "\"\"\"\n",
    "You are given an integer n.\n",
    "Each number from 1 to n is grouped according to the sum of its digits.\n",
    "Return the number of groups that have the largest size.\n",
    "\n",
    "Example 1:\n",
    "\n",
    "Input: n = 13\n",
    "Output: 4\n",
    "Explanation: There are 9 groups in total, they are grouped according sum of its digits of numbers from 1 to 13:\n",
    "[1,10], [2,11], [3,12], [4,13], [5], [6], [7], [8], [9].\n",
    "There are 4 groups with largest size.\n",
    "Example 2:\n",
    "\n",
    "Input: n = 2\n",
    "Output: 2\n",
    "Explanation: There are 2 groups [1], [2] of size 1.\n",
    "\"\"\"\n",
    "\n",
    "from itertools import groupby # 'itertools.groupby' will group the same elements\n",
    "from operator import * # 'operator.eq' is aimed at comparing the values\n",
    "\n",
    "class Solution:\n",
    "    def countLargestGroup(self, n: int) -> int:\n",
    "        maxSeq = 0 # The initial length of the longest sequence\n",
    "        longest = 0 # The number of all the longest sequences\n",
    "# With the use of the 'map' function, we split integers into digits and sum them\n",
    "        range_list = sorted(list(map(lambda x: sum(list(map(int, list(x)))), list(map(str, list(range(1, n + 1)))))))\n",
    "        # We need to find the length of the longest sequence\n",
    "        for key, group in groupby(range_list):\n",
    "            curSlice = list(group)\n",
    "            maxSeq = max(maxSeq, len(curSlice))\n",
    "# As the length of the longest sequence is found - we find the number of all the longest sequences:\n",
    "        for key, group in groupby(range_list):\n",
    "            curSlice = list(group)\n",
    "            if eq(len(curSlice), maxSeq):\n",
    "                longest += 1\n",
    "        return longest # The final result is returned\n",
    "    \n",
    "a = Solution()\n",
    "a.countLargestGroup(13)"
   ]
  }
 ],
 "metadata": {
  "kernelspec": {
   "display_name": "Python 3 (ipykernel)",
   "language": "python",
   "name": "python3"
  },
  "language_info": {
   "codemirror_mode": {
    "name": "ipython",
    "version": 3
   },
   "file_extension": ".py",
   "mimetype": "text/x-python",
   "name": "python",
   "nbconvert_exporter": "python",
   "pygments_lexer": "ipython3",
   "version": "3.9.7"
  }
 },
 "nbformat": 4,
 "nbformat_minor": 5
}
