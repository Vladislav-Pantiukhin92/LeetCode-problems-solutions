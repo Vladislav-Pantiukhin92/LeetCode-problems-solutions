{
 "cells": [
  {
   "cell_type": "markdown",
   "id": "8832f882",
   "metadata": {},
   "source": [
    "### 14. Longest Common Prefix"
   ]
  },
  {
   "cell_type": "code",
   "execution_count": 124,
   "id": "f71ba6a8",
   "metadata": {},
   "outputs": [
    {
     "data": {
      "text/plain": [
       "'fl'"
      ]
     },
     "execution_count": 124,
     "metadata": {},
     "output_type": "execute_result"
    }
   ],
   "source": [
    "\"\"\"\n",
    "Write a function to find the longest common prefix string amongst an array of strings.\n",
    "If there is no common prefix, return an empty string \"\".\n",
    "\n",
    "Example 1:\n",
    "\n",
    "Input: strs = [\"flower\",\"flow\",\"flight\"]\n",
    "Output: \"fl\"\n",
    "Example 2:\n",
    "\n",
    "Input: strs = [\"dog\",\"racecar\",\"car\"]\n",
    "Output: \"\"\n",
    "Explanation: There is no common prefix among the input strings.\n",
    "\"\"\"\n",
    "\n",
    "class Solution:\n",
    "    def longestCommonPrefix(strs: List[str]) -> str:\n",
    "        # First of all, let's find the length of the smallest word\n",
    "        # The smallest word in the sorted array is the first element\n",
    "        length = len(sorted(strs, key=len)[0])\n",
    "        final = \"\"\n",
    "        index = 0\n",
    "        # While index < the length of the smallest word, we will iterate over each symbol of all elements\n",
    "        # It is obvious that the prefix cannot be longer than the length of the smallest word\n",
    "        while index < length:\n",
    "            my_set = set()\n",
    "            for word in strs:\n",
    "                my_set.add(word[index]) # If the value in the prefix of all words is the same, the set length will be < 2\n",
    "            if len(my_set) < 2:\n",
    "                final += \"\".join(list(my_set)) # The set structure should be transformed into the string type through the list type\n",
    "            else:\n",
    "                return final\n",
    "            index += 1\n",
    "        return final\n",
    "               \n",
    "a = Solution()\n",
    "a.longestCommonPrefix([\"flower\",\"flow\",\"flight\"])"
   ]
  }
 ],
 "metadata": {
  "kernelspec": {
   "display_name": "Python 3 (ipykernel)",
   "language": "python",
   "name": "python3"
  },
  "language_info": {
   "codemirror_mode": {
    "name": "ipython",
    "version": 3
   },
   "file_extension": ".py",
   "mimetype": "text/x-python",
   "name": "python",
   "nbconvert_exporter": "python",
   "pygments_lexer": "ipython3",
   "version": "3.9.7"
  }
 },
 "nbformat": 4,
 "nbformat_minor": 5
}
