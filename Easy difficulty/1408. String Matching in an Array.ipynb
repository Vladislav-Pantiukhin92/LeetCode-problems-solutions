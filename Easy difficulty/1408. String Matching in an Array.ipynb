{
 "cells": [
  {
   "cell_type": "markdown",
   "id": "835a4235",
   "metadata": {},
   "source": [
    "### 1408. String Matching in an Array"
   ]
  },
  {
   "cell_type": "code",
   "execution_count": 60,
   "id": "10a2bb63",
   "metadata": {},
   "outputs": [
    {
     "data": {
      "text/plain": [
       "['et', 'code']"
      ]
     },
     "execution_count": 60,
     "metadata": {},
     "output_type": "execute_result"
    }
   ],
   "source": [
    "\"\"\"\n",
    "Given an array of string words. Return all strings in words which is substring of another word in any order. \n",
    "String words[i] is substring of words[j], if can be obtained removing some characters to left and/or \n",
    "right side of words[j].\n",
    "Example 1:\n",
    "\n",
    "Input: words = [\"mass\",\"as\",\"hero\",\"superhero\"]\n",
    "Output: [\"as\",\"hero\"]\n",
    "Explanation: \"as\" is substring of \"mass\" and \"hero\" is substring of \"superhero\".\n",
    "[\"hero\",\"as\"] is also a valid answer.\n",
    "Example 2:\n",
    "\n",
    "Input: words = [\"leetcode\",\"et\",\"code\"]\n",
    "Output: [\"et\",\"code\"]\n",
    "Explanation: \"et\", \"code\" are substring of \"leetcode\".\n",
    "Example 3:\n",
    "\n",
    "Input: words = [\"blue\",\"green\",\"bu\"]\n",
    "Output: []\n",
    "\"\"\"\n",
    "\n",
    "class Solution:\n",
    "    def stringMatching(self, words: List[str]) -> List[str]:\n",
    "# To solve the problem the input array should be sorted, using the very focus on the length of elements\n",
    "        words = sorted(list(words), key=len)\n",
    "        final = [] # The list container will store substrings, which should be finally returned\n",
    "        i = len(words) - 1\n",
    "        while i >= 0:\n",
    "            for j in words[:i]:\n",
    "                result = words[i].find(j) # With the string method str.find() we check the substring condition\n",
    "                # If the substring condition doesn't equal to -1 - the substring is added to the list container\n",
    "                # If the string doesn't contain a substring - the feedback is -1\n",
    "                if result != -1:\n",
    "                    if j not in final:\n",
    "                        final.append(j)\n",
    "            i -= 1\n",
    "        return final # The list with substrings is returned\n",
    "    \n",
    "a = Solution()\n",
    "a.stringMatching([\"leetcode\",\"et\",\"code\"])"
   ]
  }
 ],
 "metadata": {
  "kernelspec": {
   "display_name": "Python 3 (ipykernel)",
   "language": "python",
   "name": "python3"
  },
  "language_info": {
   "codemirror_mode": {
    "name": "ipython",
    "version": 3
   },
   "file_extension": ".py",
   "mimetype": "text/x-python",
   "name": "python",
   "nbconvert_exporter": "python",
   "pygments_lexer": "ipython3",
   "version": "3.9.7"
  }
 },
 "nbformat": 4,
 "nbformat_minor": 5
}
