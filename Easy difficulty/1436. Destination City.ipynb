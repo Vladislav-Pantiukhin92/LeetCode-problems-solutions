{
 "cells": [
  {
   "cell_type": "markdown",
   "id": "305072b6",
   "metadata": {},
   "source": [
    "### 1436. Destination City"
   ]
  },
  {
   "cell_type": "code",
   "execution_count": 8,
   "id": "9b86d0e1",
   "metadata": {},
   "outputs": [
    {
     "data": {
      "text/plain": [
       "'Sao Paulo'"
      ]
     },
     "execution_count": 8,
     "metadata": {},
     "output_type": "execute_result"
    }
   ],
   "source": [
    "\"\"\"\n",
    "You are given the array paths, where paths[i] = [cityAi, cityBi] means there exists a direct path \n",
    "going from cityAi to cityBi. Return the destination city, that is, the city without any path outgoing \n",
    "to another city.\n",
    "It is guaranteed that the graph of paths forms a line without any loop, therefore, there will be exactly \n",
    "one destination city.\n",
    "Example 1:\n",
    "\n",
    "Input: paths = [[\"London\",\"New York\"],[\"New York\",\"Lima\"],[\"Lima\",\"Sao Paulo\"]]\n",
    "Output: \"Sao Paulo\" \n",
    "Explanation: Starting at \"London\" city you will reach \"Sao Paulo\" city which is the destination city. Your trip consist of: \"London\" -> \"New York\" -> \"Lima\" -> \"Sao Paulo\".\n",
    "Example 2:\n",
    "\n",
    "Input: paths = [[\"B\",\"C\"],[\"D\",\"B\"],[\"C\",\"A\"]]\n",
    "Output: \"A\"\n",
    "Explanation: All possible trips are: \n",
    "\"D\" -> \"B\" -> \"C\" -> \"A\". \n",
    "\"B\" -> \"C\" -> \"A\". \n",
    "\"C\" -> \"A\". \n",
    "\"A\". \n",
    "Clearly the destination city is \"A\".\n",
    "Example 3:\n",
    "\n",
    "Input: paths = [[\"A\",\"Z\"]]\n",
    "Output: \"Z\"\n",
    "\"\"\"\n",
    "\n",
    "class Solution:\n",
    "    def destCity(self, paths: List[List[str]]) -> str:\n",
    "        destination_dict = {} # Let's create the dictionary, where the first element of each iterable within the \n",
    "        # input list is the key and the last element of each iterable within the input list is the value\n",
    "        for i in paths:\n",
    "            if i[0] not in destination_dict:\n",
    "                destination_dict[i[0]] = [i[1]]\n",
    "            else:\n",
    "                destination_dict[i[0]].append(i[1])\n",
    "        paths = list(set(sum(paths, []))) # We are going to remove duplicates, create the simple (not 2-D) \n",
    "        # list of all cities\n",
    "        for i in paths:\n",
    "            if i not in destination_dict:\n",
    "                return i # Our return element is the element, which is not among keys of the created dictionary\n",
    "a = Solution()\n",
    "a.destCity([[\"London\",\"New York\"],[\"New York\",\"Lima\"],[\"Lima\",\"Sao Paulo\"]])"
   ]
  }
 ],
 "metadata": {
  "kernelspec": {
   "display_name": "Python 3 (ipykernel)",
   "language": "python",
   "name": "python3"
  },
  "language_info": {
   "codemirror_mode": {
    "name": "ipython",
    "version": 3
   },
   "file_extension": ".py",
   "mimetype": "text/x-python",
   "name": "python",
   "nbconvert_exporter": "python",
   "pygments_lexer": "ipython3",
   "version": "3.9.7"
  }
 },
 "nbformat": 4,
 "nbformat_minor": 5
}
