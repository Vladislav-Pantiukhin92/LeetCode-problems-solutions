{
 "cells": [
  {
   "cell_type": "markdown",
   "id": "202a1cd1",
   "metadata": {},
   "source": [
    "### 1437. Check If All 1's Are at Least Length K Places Away"
   ]
  },
  {
   "cell_type": "code",
   "execution_count": null,
   "id": "cede4ad7",
   "metadata": {},
   "outputs": [],
   "source": [
    "\"\"\"\n",
    "Given an binary array nums and an integer k, return true if all 1's are at least k places away from each \n",
    "other, otherwise return false.\n",
    "Example 1:\n",
    "\n",
    "Input: nums = [1,0,0,0,1,0,0,1], k = 2\n",
    "Output: true\n",
    "Explanation: Each of the 1s are at least 2 places away from each other.\n",
    "Example 2:\n",
    "\n",
    "Input: nums = [1,0,0,1,0,1], k = 2\n",
    "Output: false\n",
    "Explanation: The second 1 and third 1 are only one apart from each other.\n",
    "\"\"\"\n",
    "\n",
    "from operator import * # 'operator.sub' will be used to carry out the subtraction operation\n",
    "\n",
    "class Solution:\n",
    "    def kLengthApart(self, nums: List[int], k: int) -> bool:\n",
    "        if k == 0: # If the 'k' parameter equals to 0, we return True\n",
    "            return True\n",
    "    # We should understand that the distance between 1s is valid if the difference between the larger index of '1'\n",
    "    # and the smaller index of '1' is, at least, k + 1\n",
    "        indices = [] # The list container, which will store indices of 1s\n",
    "        for i, j in enumerate(nums):\n",
    "            if j == 1:\n",
    "                indices.append(i)\n",
    "        if len(indices) < 2: # If the list container comprises less than 2 indices - we return True\n",
    "            return True\n",
    "        i = 0\n",
    "        j = 1\n",
    "        while j < len(indices):\n",
    "            if sub(indices[j], indices[i]) < k + 1: # If we have, at least, one distance, which is smaller than k + 1 - \n",
    "                # we return False\n",
    "                return False\n",
    "            i += 1\n",
    "            j += 1\n",
    "        return True # If all distances of indices meet the valid requirement - finally, we return True"
   ]
  }
 ],
 "metadata": {
  "kernelspec": {
   "display_name": "Python 3 (ipykernel)",
   "language": "python",
   "name": "python3"
  },
  "language_info": {
   "codemirror_mode": {
    "name": "ipython",
    "version": 3
   },
   "file_extension": ".py",
   "mimetype": "text/x-python",
   "name": "python",
   "nbconvert_exporter": "python",
   "pygments_lexer": "ipython3",
   "version": "3.9.7"
  }
 },
 "nbformat": 4,
 "nbformat_minor": 5
}
