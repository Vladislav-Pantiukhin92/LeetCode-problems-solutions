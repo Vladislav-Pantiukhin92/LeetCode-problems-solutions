{
 "cells": [
  {
   "cell_type": "markdown",
   "id": "5e4aab37",
   "metadata": {},
   "source": [
    "### 1446. Consecutive Characters"
   ]
  },
  {
   "cell_type": "code",
   "execution_count": 30,
   "id": "53d0cb95",
   "metadata": {},
   "outputs": [
    {
     "data": {
      "text/plain": [
       "5"
      ]
     },
     "execution_count": 30,
     "metadata": {},
     "output_type": "execute_result"
    }
   ],
   "source": [
    "\"\"\"\n",
    "The power of the string is the maximum length of a non-empty substring that contains only one unique \n",
    "character.\n",
    "Given a string s, return the power of s.\n",
    "Example 1:\n",
    "\n",
    "Input: s = \"leetcode\"\n",
    "Output: 2\n",
    "Explanation: The substring \"ee\" is of length 2 with the character 'e' only.\n",
    "Example 2:\n",
    "\n",
    "Input: s = \"abbcccddddeeeeedcba\"\n",
    "Output: 5\n",
    "Explanation: The substring \"eeeee\" is of length 5 with the character 'e' only.\n",
    "\"\"\"\n",
    "\n",
    "from itertools import groupby # 'itertools.groupby' will group unique values and their occurrences\n",
    "\n",
    "class Solution:\n",
    "    def maxPower(self, s: str) -> int:\n",
    "        maxLength = 0\n",
    "        for key, group in groupby(s): # Through the 'itertools.groupby' it is feasible to find the maxSequence\n",
    "            # of one unique character and finally return it\n",
    "            curLength = len(list(group))\n",
    "            if curLength > maxLength:\n",
    "                maxLength = curLength\n",
    "        return maxLength\n",
    "    \n",
    "a = Solution()\n",
    "a.maxPower(\"abbcccddddeeeeedcba\")"
   ]
  }
 ],
 "metadata": {
  "kernelspec": {
   "display_name": "Python 3 (ipykernel)",
   "language": "python",
   "name": "python3"
  },
  "language_info": {
   "codemirror_mode": {
    "name": "ipython",
    "version": 3
   },
   "file_extension": ".py",
   "mimetype": "text/x-python",
   "name": "python",
   "nbconvert_exporter": "python",
   "pygments_lexer": "ipython3",
   "version": "3.9.7"
  }
 },
 "nbformat": 4,
 "nbformat_minor": 5
}
