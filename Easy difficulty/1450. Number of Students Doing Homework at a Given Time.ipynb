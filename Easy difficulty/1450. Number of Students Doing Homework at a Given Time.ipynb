{
 "cells": [
  {
   "cell_type": "markdown",
   "id": "327459d8",
   "metadata": {},
   "source": [
    "### 1450. Number of Students Doing Homework at a Given Time"
   ]
  },
  {
   "cell_type": "code",
   "execution_count": 53,
   "id": "35fa5c3b",
   "metadata": {},
   "outputs": [
    {
     "data": {
      "text/plain": [
       "1"
      ]
     },
     "execution_count": 53,
     "metadata": {},
     "output_type": "execute_result"
    }
   ],
   "source": [
    "\"\"\"\n",
    "Given two integer arrays startTime and endTime and given an integer queryTime.\n",
    "The ith student started doing their homework at the time startTime[i] and finished it at time endTime[i].\n",
    "Return the number of students doing their homework at time queryTime. More formally, return the number \n",
    "of students where queryTime lays in the interval [startTime[i], endTime[i]] inclusive.\n",
    "Example 1:\n",
    "\n",
    "Input: startTime = [1,2,3], endTime = [3,2,7], queryTime = 4\n",
    "Output: 1\n",
    "Explanation: We have 3 students where:\n",
    "The first student started doing homework at time 1 and finished at time 3 and wasn't doing anything at time 4.\n",
    "The second student started doing homework at time 2 and finished at time 2 and also wasn't doing anything at time 4.\n",
    "The third student started doing homework at time 3 and finished at time 7 and was the only student doing homework at time 4.\n",
    "Example 2:\n",
    "\n",
    "Input: startTime = [4], endTime = [4], queryTime = 4\n",
    "Output: 1\n",
    "Explanation: The only student was doing their homework at the queryTime.\n",
    "\"\"\"\n",
    "\n",
    "class Solution:\n",
    "    def busyStudent(self, startTime: List[int], endTime: List[int], queryTime: int) -> int:\n",
    "# This time we plan to generate numeric ranges [startTime, endTime + 1] inclusively \n",
    "        i = 0\n",
    "        j = 0\n",
    "        final = [] # The list container will store True or False values: True - if \"queryTime\" within the range,\n",
    "        # and False - if \"queryTime\" beyond the range\n",
    "        while i < len(startTime):\n",
    "            curRange = list(range(startTime[i], endTime[j] + 1))\n",
    "            result = queryTime in curRange # The 'result' variable represents a True/False value\n",
    "            final += [result] # The list stores the result\n",
    "            i += 1\n",
    "            j += 1\n",
    "        return final.count(True) # Finally, the number of True values is counted and returned\n",
    "    \n",
    "a = Solution()\n",
    "a.busyStudent([1,2,3], endTime = [3,2,7], queryTime = 4)"
   ]
  }
 ],
 "metadata": {
  "kernelspec": {
   "display_name": "Python 3 (ipykernel)",
   "language": "python",
   "name": "python3"
  },
  "language_info": {
   "codemirror_mode": {
    "name": "ipython",
    "version": 3
   },
   "file_extension": ".py",
   "mimetype": "text/x-python",
   "name": "python",
   "nbconvert_exporter": "python",
   "pygments_lexer": "ipython3",
   "version": "3.9.7"
  }
 },
 "nbformat": 4,
 "nbformat_minor": 5
}
