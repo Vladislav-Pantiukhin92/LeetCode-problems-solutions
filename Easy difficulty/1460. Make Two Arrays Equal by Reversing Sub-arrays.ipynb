{
 "cells": [
  {
   "cell_type": "markdown",
   "id": "6f2cd50b",
   "metadata": {},
   "source": [
    "### 1460. Make Two Arrays Equal by Reversing Sub-arrays"
   ]
  },
  {
   "cell_type": "code",
   "execution_count": 44,
   "id": "07badc99",
   "metadata": {},
   "outputs": [
    {
     "data": {
      "text/plain": [
       "False"
      ]
     },
     "execution_count": 44,
     "metadata": {},
     "output_type": "execute_result"
    }
   ],
   "source": [
    "\"\"\"\n",
    "You are given two integer arrays of equal length target and arr. In one step, you can select any \n",
    "non-empty sub-array of arr and reverse it. You are allowed to make any number of steps.\n",
    "Return true if you can make arr equal to target or false otherwise.\n",
    "Example 1:\n",
    "\n",
    "Input: target = [1,2,3,4], arr = [2,4,1,3]\n",
    "Output: true\n",
    "Explanation: You can follow the next steps to convert arr to target:\n",
    "1- Reverse sub-array [2,4,1], arr becomes [1,4,2,3]\n",
    "2- Reverse sub-array [4,2], arr becomes [1,2,4,3]\n",
    "3- Reverse sub-array [4,3], arr becomes [1,2,3,4]\n",
    "There are multiple ways to convert arr to target, this is not the only way to do so.\n",
    "Example 2:\n",
    "\n",
    "Input: target = [7], arr = [7]\n",
    "Output: true\n",
    "Explanation: arr is equal to target without any reverses.\n",
    "Example 3:\n",
    "\n",
    "Input: target = [3,7,9], arr = [3,7,11]\n",
    "Output: false\n",
    "Explanation: arr does not have value 9 and it can never be converted to target.\n",
    "\"\"\"\n",
    "\n",
    "from collections import Counter # 'collections.Counter' will create two dictionaries for both input arrays, where\n",
    "# keys are elements and values are their occurrences within the input arrays\n",
    "\n",
    "class Solution:\n",
    "    def canBeEqual(self, target: List[int], arr: List[int]) -> bool:\n",
    "        myDict1 = dict(Counter(target))\n",
    "        myDict2 = dict(Counter(arr))\n",
    "    # The main principle is not about reversing subarrays, but about the equal number of the same elements \n",
    "    # within the input arrays, so if two dictionaries are equal, then we return True, otherwise, we return False\n",
    "        return myDict1 == myDict2\n",
    "    \n",
    "a = Solution()\n",
    "a.canBeEqual([3,7,9], [3,7,11])"
   ]
  }
 ],
 "metadata": {
  "kernelspec": {
   "display_name": "Python 3 (ipykernel)",
   "language": "python",
   "name": "python3"
  },
  "language_info": {
   "codemirror_mode": {
    "name": "ipython",
    "version": 3
   },
   "file_extension": ".py",
   "mimetype": "text/x-python",
   "name": "python",
   "nbconvert_exporter": "python",
   "pygments_lexer": "ipython3",
   "version": "3.9.7"
  }
 },
 "nbformat": 4,
 "nbformat_minor": 5
}
