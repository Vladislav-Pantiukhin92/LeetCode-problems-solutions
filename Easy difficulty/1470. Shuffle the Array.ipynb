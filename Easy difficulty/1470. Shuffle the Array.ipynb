{
 "cells": [
  {
   "cell_type": "markdown",
   "id": "c5033486",
   "metadata": {},
   "source": [
    "### 1470. Shuffle the Array"
   ]
  },
  {
   "cell_type": "code",
   "execution_count": 79,
   "id": "b95e1320",
   "metadata": {},
   "outputs": [
    {
     "data": {
      "text/plain": [
       "[2, 3, 5, 4, 1, 7]"
      ]
     },
     "execution_count": 79,
     "metadata": {},
     "output_type": "execute_result"
    }
   ],
   "source": [
    "\"\"\"\n",
    "Given the array nums consisting of 2n elements in the form [x1,x2,...,xn,y1,y2,...,yn].\n",
    "Return the array in the form [x1,y1,x2,y2,...,xn,yn].\n",
    "\n",
    "Example 1:\n",
    "Input: nums = [2,5,1,3,4,7], n = 3\n",
    "Output: [2,3,5,4,1,7] \n",
    "Explanation: Since x1=2, x2=5, x3=1, y1=3, y2=4, y3=7 then the answer is [2,3,5,4,1,7].\n",
    "Example 2:\n",
    "\n",
    "Input: nums = [1,2,3,4,4,3,2,1], n = 4\n",
    "Output: [1,4,2,3,3,2,4,1]\n",
    "Example 3:\n",
    "\n",
    "Input: nums = [1,1,2,2], n = 2\n",
    "Output: [1,2,1,2]\n",
    "\"\"\"\n",
    "\n",
    "class Solution:\n",
    "    def shuffle(self, nums: List[int], n: int) -> List[int]:\n",
    "        # Two slices are prepared\n",
    "        x_array = nums[:n] # The first slice is from the beginning to n (excluding n)\n",
    "        y_array = nums[n:] # The second slice is from n (including n) to the end\n",
    "        final = []\n",
    "        # Two pointers to iterate over two slices\n",
    "        i = 0 \n",
    "        j = 0\n",
    "        while i < len(x_array):\n",
    "            final += [x_array[i]]\n",
    "            final += [y_array[j]]\n",
    "            i += 1\n",
    "            j += 1\n",
    "        return final\n",
    "    \n",
    "a = Solution()\n",
    "a.shuffle([2,5,1,3,4,7], 3)"
   ]
  }
 ],
 "metadata": {
  "kernelspec": {
   "display_name": "Python 3 (ipykernel)",
   "language": "python",
   "name": "python3"
  },
  "language_info": {
   "codemirror_mode": {
    "name": "ipython",
    "version": 3
   },
   "file_extension": ".py",
   "mimetype": "text/x-python",
   "name": "python",
   "nbconvert_exporter": "python",
   "pygments_lexer": "ipython3",
   "version": "3.9.7"
  }
 },
 "nbformat": 4,
 "nbformat_minor": 5
}
