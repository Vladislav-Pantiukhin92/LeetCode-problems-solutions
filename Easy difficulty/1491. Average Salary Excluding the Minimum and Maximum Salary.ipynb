{
 "cells": [
  {
   "cell_type": "markdown",
   "id": "c29b2725",
   "metadata": {},
   "source": [
    "### 1491. Average Salary Excluding the Minimum and Maximum Salary"
   ]
  },
  {
   "cell_type": "code",
   "execution_count": 31,
   "id": "5e2e5315",
   "metadata": {},
   "outputs": [
    {
     "data": {
      "text/plain": [
       "2000"
      ]
     },
     "execution_count": 31,
     "metadata": {},
     "output_type": "execute_result"
    }
   ],
   "source": [
    "\"\"\"\n",
    "You are given an array of unique integers salary where salary[i] is the salary of the ith employee.\n",
    "Return the average salary of employees excluding the minimum and maximum salary. Answers within 10-5 of \n",
    "the actual answer will be accepted.\n",
    "Example 1:\n",
    "\n",
    "Input: salary = [4000,3000,1000,2000]\n",
    "Output: 2500.00000\n",
    "Explanation: Minimum salary and maximum salary are 1000 and 4000 respectively.\n",
    "Average salary excluding minimum and maximum salary is (2000+3000) / 2 = 2500\n",
    "Example 2:\n",
    "\n",
    "Input: salary = [1000,2000,3000]\n",
    "Output: 2000.00000\n",
    "Explanation: Minimum salary and maximum salary are 1000 and 3000 respectively.\n",
    "Average salary excluding minimum and maximum salary is (2000) / 1 = 2000\n",
    "\"\"\"\n",
    "\n",
    "from statistics import mean # The module will help to calculate the mean value of the input list without\n",
    "# the minElement as well as the maxElement\n",
    "\n",
    "class Solution:\n",
    "    def average(self, salary: List[int]) -> float:\n",
    "        # To find the minElement and maxElement it is important to sort the array\n",
    "        salary = sorted(salary)\n",
    "        salary.pop(0) # The first element within the sorted array is the minElement - it is removed\n",
    "        salary.pop() # The last element within the sorted array is the maxElement - it is removed as well\n",
    "        return mean(salary) # The final step is to figure out the mean value of the list and return it\n",
    "    \n",
    "a = Solution()\n",
    "a.average([1000,2000,3000])"
   ]
  }
 ],
 "metadata": {
  "kernelspec": {
   "display_name": "Python 3 (ipykernel)",
   "language": "python",
   "name": "python3"
  },
  "language_info": {
   "codemirror_mode": {
    "name": "ipython",
    "version": 3
   },
   "file_extension": ".py",
   "mimetype": "text/x-python",
   "name": "python",
   "nbconvert_exporter": "python",
   "pygments_lexer": "ipython3",
   "version": "3.9.7"
  }
 },
 "nbformat": 4,
 "nbformat_minor": 5
}
