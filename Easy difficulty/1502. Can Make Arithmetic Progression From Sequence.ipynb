{
 "cells": [
  {
   "cell_type": "markdown",
   "id": "7c2b5471",
   "metadata": {},
   "source": [
    "### 1502. Can Make Arithmetic Progression From Sequence"
   ]
  },
  {
   "cell_type": "code",
   "execution_count": 83,
   "id": "f2dc927e",
   "metadata": {},
   "outputs": [
    {
     "data": {
      "text/plain": [
       "True"
      ]
     },
     "execution_count": 83,
     "metadata": {},
     "output_type": "execute_result"
    }
   ],
   "source": [
    "\"\"\"\n",
    "A sequence of numbers is called an arithmetic progression if the difference between any two consecutive \n",
    "elements is the same.\n",
    "Given an array of numbers arr, return true if the array can be rearranged to form an arithmetic \n",
    "progression. Otherwise, return false.\n",
    "Example 1:\n",
    "\n",
    "Input: arr = [3,5,1]\n",
    "Output: true\n",
    "Explanation: We can reorder the elements as [1,3,5] or [5,3,1] with differences 2 and -2 respectively, \n",
    "between each consecutive elements.\n",
    "Example 2:\n",
    "\n",
    "Input: arr = [1,2,4]\n",
    "Output: false\n",
    "Explanation: There is no way to reorder the elements to obtain an arithmetic progression.\n",
    "\"\"\"\n",
    "\n",
    "class Solution:\n",
    "    def canMakeArithmeticProgression(self, arr: List[int]) -> bool:\n",
    "# To determine the existence of an arithmetic progression, first of all, we need to sort the input list\n",
    "# Let's sort the input list through the Quick Sort algorithm\n",
    "        def quick_sort(array): # The Quick Sort algorithm \n",
    "            if len(array) < 2: # The array is already sorted if it contains < 2 elements, so we return it\n",
    "                return array\n",
    "            else:\n",
    "                pivot = array[0] # The pivot element is chosen\n",
    "                # We build three lists:\n",
    "                smaller = [i for i in array if i < pivot] # The first list with elements, which are smaller\n",
    "                # than the pivot element\n",
    "                equal = [i for i in array if i == pivot] # The second list with elements, which are equal to \n",
    "                # the pivot element\n",
    "                greater = [i for i in array if i > pivot] # The third list with elements, which are larger than \n",
    "                # the pivot element\n",
    "                # The recursive division and final sort\n",
    "                return quick_sort(smaller) + equal + quick_sort(greater)\n",
    "            \n",
    "        sortArr = quick_sort(arr) # The array, sorted in ascending order, is obtained\n",
    "        # The next essential operation is to calculate the step of an arithmetic progression\n",
    "        # The step is: (maxElement - minElement) // (length of the sorted array - 1)\n",
    "        minElem = sortArr[0] # The first element is the minElement of the sorted array\n",
    "        maxElem = sortArr[-1] # The last element is the maxElement of the sorted array\n",
    "        # Calculation of the step:\n",
    "        step = (maxElem - minElem) // (len(sortArr) - 1)\n",
    "        i = 0\n",
    "        # Through the 'while loop' we are going to restore an arithmetic progression with the calculated step\n",
    "        while i < len(sortArr) - 1:\n",
    "        # If we have discrepancies with an arithmetic progression and the calculated step - we return False\n",
    "            if sortArr[i] + step != sortArr[i + 1]:\n",
    "                return False\n",
    "            i += 1\n",
    "        return True # If an arithmetic progression with the calculated step is restored without errors - we return True\n",
    "    \n",
    "a = Solution()\n",
    "a.canMakeArithmeticProgression([3,5,1])"
   ]
  }
 ],
 "metadata": {
  "kernelspec": {
   "display_name": "Python 3 (ipykernel)",
   "language": "python",
   "name": "python3"
  },
  "language_info": {
   "codemirror_mode": {
    "name": "ipython",
    "version": 3
   },
   "file_extension": ".py",
   "mimetype": "text/x-python",
   "name": "python",
   "nbconvert_exporter": "python",
   "pygments_lexer": "ipython3",
   "version": "3.9.7"
  }
 },
 "nbformat": 4,
 "nbformat_minor": 5
}
