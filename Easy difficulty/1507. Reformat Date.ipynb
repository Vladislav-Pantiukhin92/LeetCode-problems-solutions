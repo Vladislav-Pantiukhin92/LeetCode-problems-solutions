{
 "cells": [
  {
   "cell_type": "markdown",
   "id": "efa17e08",
   "metadata": {},
   "source": [
    "### 1507. Reformat Date"
   ]
  },
  {
   "cell_type": "code",
   "execution_count": 3,
   "id": "0c863f19",
   "metadata": {},
   "outputs": [
    {
     "data": {
      "text/plain": [
       "'2052-10-20'"
      ]
     },
     "execution_count": 3,
     "metadata": {},
     "output_type": "execute_result"
    }
   ],
   "source": [
    "\"\"\"\n",
    "Given a date string in the form Day Month Year, where:\n",
    "Day is in the set {\"1st\", \"2nd\", \"3rd\", \"4th\", ..., \"30th\", \"31st\"}.\n",
    "Month is in the set {\"Jan\", \"Feb\", \"Mar\", \"Apr\", \"May\", \"Jun\", \"Jul\", \"Aug\", \"Sep\", \"Oct\", \"Nov\", \"Dec\"}.\n",
    "Year is in the range [1900, 2100].\n",
    "Convert the date string to the format YYYY-MM-DD, where:\n",
    "\n",
    "YYYY denotes the 4 digit year.\n",
    "MM denotes the 2 digit month.\n",
    "DD denotes the 2 digit day.\n",
    " \n",
    "Example 1:\n",
    "\n",
    "Input: date = \"20th Oct 2052\"\n",
    "Output: \"2052-10-20\"\n",
    "Example 2:\n",
    "\n",
    "Input: date = \"6th Jun 1933\"\n",
    "Output: \"1933-06-06\"\n",
    "Example 3:\n",
    "\n",
    "Input: date = \"26th May 1960\"\n",
    "Output: \"1960-05-26\"\n",
    "\"\"\"\n",
    "\n",
    "import re # Regular expressions will be used to extract the chunk of digits from the day option (digits will be \n",
    "# extracted without \"th\", \"st\", \"nd\", etc.)\n",
    "\n",
    "class Solution:\n",
    "    def reformatDate(self, date: str) -> str:\n",
    "        # Let's create the dictionary, where keys are the string representation of months and values are the \n",
    "        # digital representation of months (with leading zeros):\n",
    "        # With the help of this dictionary we can be able easily to convert the month string for the final result\n",
    "        monthDict = {\"Jan\": \"01\", \"Feb\": \"02\", \"Mar\": \"03\", \"Apr\": \"04\",\n",
    "        \"May\": \"05\", \"Jun\": \"06\", \"Jul\": \"07\", \"Aug\": \"08\", \"Sep\": \"09\",\n",
    "        \"Oct\": \"10\", \"Nov\": \"11\", \"Dec\": \"12\"  }\n",
    "        final = [] # The list container for the final result\n",
    "        list_date = date.split() # We have the input string. Now it is necessary to split the input string to obtain \n",
    "        # the list of elements (day - month - year)\n",
    "        year = list_date[2] # The third argument of the list is a year. We append it to the final array without changes\n",
    "        final.append(year)\n",
    "        month = monthDict[list_date[1]] # The second argument of the list is a month. With the help of the \n",
    "        # created dictionary we obtain the numeric month representation and append it to the final array\n",
    "        final.append(month)\n",
    "    # Through the regular expressions we extract exclusively the digits from the days string and append the \n",
    "    # chunk to the final array\n",
    "        day = \"\".join(re.findall(r\"\\d+\", list_date[0]))\n",
    "        day = day.zfill(2) # The string method is essential if we have 1-character digit as a day\n",
    "        final.append(day)\n",
    "        return \"-\".join(final) # The final result is the string mergence with \"-\"\n",
    "    \n",
    "a = Solution()\n",
    "a.reformatDate(\"20th Oct 2052\")"
   ]
  }
 ],
 "metadata": {
  "kernelspec": {
   "display_name": "Python 3 (ipykernel)",
   "language": "python",
   "name": "python3"
  },
  "language_info": {
   "codemirror_mode": {
    "name": "ipython",
    "version": 3
   },
   "file_extension": ".py",
   "mimetype": "text/x-python",
   "name": "python",
   "nbconvert_exporter": "python",
   "pygments_lexer": "ipython3",
   "version": "3.9.7"
  }
 },
 "nbformat": 4,
 "nbformat_minor": 5
}
