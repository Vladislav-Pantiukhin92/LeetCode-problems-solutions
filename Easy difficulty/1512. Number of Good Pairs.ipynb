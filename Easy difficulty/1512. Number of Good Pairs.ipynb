{
 "cells": [
  {
   "cell_type": "markdown",
   "id": "f989887c",
   "metadata": {},
   "source": [
    "### 1512. Number of Good Pairs"
   ]
  },
  {
   "cell_type": "code",
   "execution_count": 23,
   "id": "8a0f0d84",
   "metadata": {},
   "outputs": [
    {
     "data": {
      "text/plain": [
       "4"
      ]
     },
     "execution_count": 23,
     "metadata": {},
     "output_type": "execute_result"
    }
   ],
   "source": [
    "\"\"\"\n",
    "Given an array of integers nums, return the number of good pairs.\n",
    "A pair (i, j) is called good if nums[i] == nums[j] and i < j.\n",
    "Example 1:\n",
    "\n",
    "Input: nums = [1,2,3,1,1,3]\n",
    "Output: 4\n",
    "Explanation: There are 4 good pairs (0,3), (0,4), (3,4), (2,5) 0-indexed.\n",
    "Example 2:\n",
    "\n",
    "Input: nums = [1,1,1,1]\n",
    "Output: 6\n",
    "Explanation: Each pair in the array are good.\n",
    "Example 3:\n",
    "\n",
    "Input: nums = [1,2,3]\n",
    "Output: 0\n",
    "\"\"\"\n",
    "\n",
    "class Solution:\n",
    "    def numIdenticalPairs(self, nums: List[int]) -> int:\n",
    "        final = []\n",
    "        # 'enumerate' function makes it possible to iterate over both elements and indices \n",
    "        for i, j in enumerate(nums):\n",
    "            for k, v in enumerate(nums):\n",
    "                if j == v and k > i:\n",
    "                    if [i, k] not in final:\n",
    "                        final.append([i, k]) # All the suitable pairs are stored within the array\n",
    "        return len(final) # Eventually, the result is the length of the aforementioned array\n",
    "    \n",
    "a = Solution()\n",
    "a.numIdenticalPairs([1,2,3,1,1,3])"
   ]
  }
 ],
 "metadata": {
  "kernelspec": {
   "display_name": "Python 3 (ipykernel)",
   "language": "python",
   "name": "python3"
  },
  "language_info": {
   "codemirror_mode": {
    "name": "ipython",
    "version": 3
   },
   "file_extension": ".py",
   "mimetype": "text/x-python",
   "name": "python",
   "nbconvert_exporter": "python",
   "pygments_lexer": "ipython3",
   "version": "3.9.7"
  }
 },
 "nbformat": 4,
 "nbformat_minor": 5
}
