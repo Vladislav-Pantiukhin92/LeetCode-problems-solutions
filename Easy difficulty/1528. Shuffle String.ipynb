{
 "cells": [
  {
   "cell_type": "markdown",
   "id": "8e180cf2",
   "metadata": {},
   "source": [
    "### 1528. Shuffle String"
   ]
  },
  {
   "cell_type": "code",
   "execution_count": 78,
   "id": "befae165",
   "metadata": {},
   "outputs": [
    {
     "data": {
      "text/plain": [
       "'leetcode'"
      ]
     },
     "execution_count": 78,
     "metadata": {},
     "output_type": "execute_result"
    }
   ],
   "source": [
    "\"\"\"\n",
    "You are given a string s and an integer array indices of the same length. \n",
    "The string s will be shuffled such that the character at the ith position moves to indices[i] in the shuffled string.\n",
    "Return the shuffled string.\n",
    "\n",
    "Example 1:\n",
    "Input: s = \"codeleet\", indices = [4,5,6,7,0,2,1,3]\n",
    "Output: \"leetcode\"\n",
    "Explanation: As shown, \"codeleet\" becomes \"leetcode\" after shuffling.\n",
    "Example 2:\n",
    "\n",
    "Input: s = \"abc\", indices = [0,1,2]\n",
    "Output: \"abc\"\n",
    "Explanation: After shuffling, each character remains in its position.\n",
    "\"\"\"\n",
    "\n",
    "from operator import * # 'operator.itemgetter' to sort the array as regards the second argument ([1])\n",
    "\n",
    "class Solution:\n",
    "    def restoreString(self, s: str, indices: List[int]) -> str:\n",
    "        # We merge the string and the list of indices \n",
    "        # When the list of indices is being sorted (in ascending order), the list of letters within the string \n",
    "        # is being sorted as well \n",
    "        result = sorted(list(zip(s, indices)), key=itemgetter(1))\n",
    "        # The final step is to take the first argument ([0]) and merge the sorted letters into the string output\n",
    "        return \"\".join(list(map(lambda x: x[0], result)))\n",
    "    \n",
    "a = Solution()\n",
    "a.restoreString(\"codeleet\", [4,5,6,7,0,2,1,3])"
   ]
  }
 ],
 "metadata": {
  "kernelspec": {
   "display_name": "Python 3 (ipykernel)",
   "language": "python",
   "name": "python3"
  },
  "language_info": {
   "codemirror_mode": {
    "name": "ipython",
    "version": 3
   },
   "file_extension": ".py",
   "mimetype": "text/x-python",
   "name": "python",
   "nbconvert_exporter": "python",
   "pygments_lexer": "ipython3",
   "version": "3.9.7"
  }
 },
 "nbformat": 4,
 "nbformat_minor": 5
}
