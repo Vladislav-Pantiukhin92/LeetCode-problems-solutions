{
 "cells": [
  {
   "cell_type": "markdown",
   "id": "359efd9e",
   "metadata": {},
   "source": [
    "### 1539. Kth Missing Positive Number"
   ]
  },
  {
   "cell_type": "code",
   "execution_count": 21,
   "id": "f317370f",
   "metadata": {},
   "outputs": [
    {
     "data": {
      "text/plain": [
       "9"
      ]
     },
     "execution_count": 21,
     "metadata": {},
     "output_type": "execute_result"
    }
   ],
   "source": [
    "\"\"\"\n",
    "Given an array arr of positive integers sorted in a strictly increasing order, and an integer k.\n",
    "Return the kth positive integer that is missing from this array.\n",
    "Example 1:\n",
    "\n",
    "Input: arr = [2,3,4,7,11], k = 5\n",
    "Output: 9\n",
    "Explanation: The missing positive integers are [1,5,6,8,9,10,12,13,...]. The 5th missing positive \n",
    "integer is 9.\n",
    "Example 2:\n",
    "\n",
    "Input: arr = [1,2,3,4], k = 2\n",
    "Output: 6\n",
    "Explanation: The missing positive integers are [5,6,7,...]. The 2nd missing positive integer is 6.\n",
    "\"\"\"\n",
    "\n",
    "from math import * # 'math.sqrt()' function will be used\n",
    "\n",
    "class Solution:\n",
    "    def findKthPositive(self, arr: List[int], k: int) -> int:\n",
    "        if len(arr) < 2: # The simplest case is when the input list contains only one element and the 'k'\n",
    "            # parameter is 1 as well:\n",
    "            if arr[0] == 1:\n",
    "                return 2\n",
    "            return 1\n",
    "    # We are going to utilize the search algorithm to verify the existence of numbers within the input list:\n",
    "        def jump_search(array, target): # The Jump Search function, which will verify the existence of the certain \n",
    "            # number within the input list\n",
    "    # The Jump Search algorithm selects the relevant segment, where the sought-after number can be located, as well \n",
    "    # as after that the Linear Search algorithm is used for the final verification:\n",
    "            length = len(array)\n",
    "            step = int(sqrt(length))\n",
    "            prev = 0\n",
    "            while array[int(min(step, length) - 1)] < target: # The relevant segment is being identified and selected\n",
    "                prev = step\n",
    "                step += int(sqrt(length))\n",
    "                if step >= length:\n",
    "                    break\n",
    "            while array[prev] < target: # The Linear Search algorithm \n",
    "                prev += 1\n",
    "                if prev == min(step, length):\n",
    "                    return False\n",
    "            if array[prev] == target:\n",
    "                return True\n",
    "            return False\n",
    "        \n",
    "        count = 1\n",
    "        final = []\n",
    "        while len(final) != k:\n",
    "            result = jump_search(arr, count) # If a number exists within the input list, the Jump Search function returns True\n",
    "            # Otherwise, the function returns False. As a result of that, the number is added to the list\n",
    "            # When the length of the list equals to the 'k' parameter - we return the last element from the list\n",
    "            if result is False:\n",
    "                final.append(count)\n",
    "            count += 1\n",
    "        return final[-1]\n",
    "    \n",
    "a = Solution()\n",
    "a.findKthPositive([2,3,4,7,11], 5)"
   ]
  }
 ],
 "metadata": {
  "kernelspec": {
   "display_name": "Python 3 (ipykernel)",
   "language": "python",
   "name": "python3"
  },
  "language_info": {
   "codemirror_mode": {
    "name": "ipython",
    "version": 3
   },
   "file_extension": ".py",
   "mimetype": "text/x-python",
   "name": "python",
   "nbconvert_exporter": "python",
   "pygments_lexer": "ipython3",
   "version": "3.9.7"
  }
 },
 "nbformat": 4,
 "nbformat_minor": 5
}
