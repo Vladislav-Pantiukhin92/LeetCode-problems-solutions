{
 "cells": [
  {
   "cell_type": "markdown",
   "id": "766b46de",
   "metadata": {},
   "source": [
    "### 1544. Make The String Great"
   ]
  },
  {
   "cell_type": "code",
   "execution_count": 29,
   "id": "0ae48029",
   "metadata": {},
   "outputs": [
    {
     "data": {
      "text/plain": [
       "'leetcode'"
      ]
     },
     "execution_count": 29,
     "metadata": {},
     "output_type": "execute_result"
    }
   ],
   "source": [
    "\"\"\"\n",
    "Given a string s of lower and upper case English letters.\n",
    "A good string is a string which doesn't have two adjacent characters s[i] and s[i + 1] where:\n",
    "0 <= i <= s.length - 2\n",
    "s[i] is a lower-case letter and s[i + 1] is the same letter but in upper-case or vice-versa.\n",
    "To make the string good, you can choose two adjacent characters that make the string bad and remove them. \n",
    "You can keep doing this until the string becomes good.\n",
    "\n",
    "Return the string after making it good. The answer is guaranteed to be unique under the given constraints.\n",
    "Notice that an empty string is also good.\n",
    "Example 1:\n",
    "\n",
    "Input: s = \"leEeetcode\"\n",
    "Output: \"leetcode\"\n",
    "Explanation: In the first step, either you choose i = 1 or i = 2, both will result \"leEeetcode\" to be reduced to \"leetcode\".\n",
    "Example 2:\n",
    "\n",
    "Input: s = \"abBAcC\"\n",
    "Output: \"\"\n",
    "Explanation: We have many possible scenarios, and all lead to the same answer. For example:\n",
    "\"abBAcC\" --> \"aAcC\" --> \"cC\" --> \"\"\n",
    "\"abBAcC\" --> \"abBA\" --> \"aA\" --> \"\"\n",
    "Example 3:\n",
    "\n",
    "Input: s = \"s\"\n",
    "Output: \"s\"\n",
    "\"\"\"\n",
    "\n",
    "import re # With the assistance of regular expressions we are going to replace relevant patterns ('lowercase + \n",
    "# uppercase' or 'uppercase + lowercase')\n",
    "\n",
    "class Solution:\n",
    "    def makeGood(self, s: str) -> str:\n",
    "        # The simplest case is when the input string is totally uppercase or lowercase. In this case \n",
    "        # we return the original string without any changes\n",
    "        if s.islower():\n",
    "            return s\n",
    "        elif s.isupper():\n",
    "            return s\n",
    "        else:\n",
    "            # If it is not the case, we select each unique combination, using the letters of the input string\n",
    "            # and pass each combination on to the 're.sub' from regular expressions\n",
    "            letters = sorted(list(set(s.lower())))\n",
    "            while True:\n",
    "                count = 0\n",
    "                for i in letters:\n",
    "                    pattern1 = i + i.upper()\n",
    "                    pattern2 = i.upper() + i\n",
    "                    result = re.sub(pattern1, \"\", s)\n",
    "                    result = re.sub(pattern2, \"\", result)\n",
    "                    if s != result:\n",
    "                        s = result\n",
    "                        count += 1\n",
    "                if count == 0:\n",
    "                    break\n",
    "            return s\n",
    "        \n",
    "a = Solution()\n",
    "a.makeGood(\"leEeetcode\")"
   ]
  }
 ],
 "metadata": {
  "kernelspec": {
   "display_name": "Python 3 (ipykernel)",
   "language": "python",
   "name": "python3"
  },
  "language_info": {
   "codemirror_mode": {
    "name": "ipython",
    "version": 3
   },
   "file_extension": ".py",
   "mimetype": "text/x-python",
   "name": "python",
   "nbconvert_exporter": "python",
   "pygments_lexer": "ipython3",
   "version": "3.9.7"
  }
 },
 "nbformat": 4,
 "nbformat_minor": 5
}
