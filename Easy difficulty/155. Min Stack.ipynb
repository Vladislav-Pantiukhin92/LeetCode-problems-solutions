{
 "cells": [
  {
   "cell_type": "markdown",
   "id": "7aacc9e2",
   "metadata": {},
   "source": [
    "### 155. Min Stack"
   ]
  },
  {
   "cell_type": "code",
   "execution_count": null,
   "id": "686bf4b9",
   "metadata": {},
   "outputs": [],
   "source": [
    "\"\"\"\n",
    "Design a stack that supports push, pop, top, and retrieving the minimum element in constant time.\n",
    "Implement the MinStack class:\n",
    "\n",
    "MinStack() initializes the stack object.\n",
    "void push(int val) pushes the element val onto the stack.\n",
    "void pop() removes the element on the top of the stack.\n",
    "int top() gets the top element of the stack.\n",
    "int getMin() retrieves the minimum element in the stack.\n",
    "\n",
    "Example 1:\n",
    "\n",
    "Input\n",
    "[\"MinStack\",\"push\",\"push\",\"push\",\"getMin\",\"pop\",\"top\",\"getMin\"]\n",
    "[[],[-2],[0],[-3],[],[],[],[]]\n",
    "\n",
    "Output\n",
    "[null,null,null,null,-3,null,0,-2]\n",
    "\n",
    "Explanation\n",
    "MinStack minStack = new MinStack();\n",
    "minStack.push(-2);\n",
    "minStack.push(0);\n",
    "minStack.push(-3);\n",
    "minStack.getMin(); // return -3\n",
    "minStack.pop();\n",
    "minStack.top();    // return 0\n",
    "minStack.getMin(); // return -2\n",
    "\"\"\"\n",
    "\n",
    "class MinStack:\n",
    "\n",
    "    def __init__(self): # Initialization of the MinStack\n",
    "        self.stack = [] # The stack as a list\n",
    "        self.size = 0 # The current length is 0\n",
    "        \n",
    "    def push(self, val: int) -> None: # The method will push the current element inside the stack\n",
    "        self.stack.append(val)\n",
    "        self.size += 1 # The current length is increased by 1\n",
    "\n",
    "    def pop(self) -> None: # Removal of the last element \n",
    "        self.stack.pop()\n",
    "        self.size -= 1  # The current length is decreased by 1\n",
    "\n",
    "    def top(self) -> int: # The method shows the next element for extraction\n",
    "        return self.stack[-1]\n",
    "\n",
    "    def getMin(self) -> int: # The method shows the minElement inside the stack\n",
    "        return min(self.stack)"
   ]
  }
 ],
 "metadata": {
  "kernelspec": {
   "display_name": "Python 3 (ipykernel)",
   "language": "python",
   "name": "python3"
  },
  "language_info": {
   "codemirror_mode": {
    "name": "ipython",
    "version": 3
   },
   "file_extension": ".py",
   "mimetype": "text/x-python",
   "name": "python",
   "nbconvert_exporter": "python",
   "pygments_lexer": "ipython3",
   "version": "3.9.7"
  }
 },
 "nbformat": 4,
 "nbformat_minor": 5
}
