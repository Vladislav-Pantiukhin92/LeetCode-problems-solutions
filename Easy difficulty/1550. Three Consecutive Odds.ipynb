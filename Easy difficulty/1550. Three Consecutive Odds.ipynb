{
 "cells": [
  {
   "cell_type": "markdown",
   "id": "d3eec911",
   "metadata": {},
   "source": [
    "### 1550. Three Consecutive Odds"
   ]
  },
  {
   "cell_type": "code",
   "execution_count": 67,
   "id": "710b8084",
   "metadata": {},
   "outputs": [
    {
     "data": {
      "text/plain": [
       "True"
      ]
     },
     "execution_count": 67,
     "metadata": {},
     "output_type": "execute_result"
    }
   ],
   "source": [
    "\"\"\"\n",
    "Given an integer array arr, return true if there are three consecutive odd numbers in the array. \n",
    "Otherwise, return false.\n",
    "Example 1:\n",
    "\n",
    "Input: arr = [2,6,4,1]\n",
    "Output: false\n",
    "Explanation: There are no three consecutive odds.\n",
    "Example 2:\n",
    "\n",
    "Input: arr = [1,2,34,3,4,5,7,23,12]\n",
    "Output: true\n",
    "Explanation: [5,7,23] are three consecutive odds.\n",
    "\"\"\"\n",
    "\n",
    "import re # Regular expressions will help to find odd_numbered patterns \n",
    "\n",
    "class Solution:\n",
    "    def threeConsecutiveOdds(self, arr: List[int]) -> bool:\n",
    "        my_list = list(map(lambda x: x % 2, arr)) # Firstly, we are going to use modulo operation for each element\n",
    "        # If the number is even - 0 will be returned, otherwise non-zero digit will be returned\n",
    "        my_list = \"\".join(list(map(str, my_list))) # We can merge the transformed array of elements into the string of \n",
    "        # digits\n",
    "        result = re.findall(r\"[^0]{3}\", my_list) # Through regexp patterns substring with 3 non-zero characters is to be found\n",
    "        if result: # If the substring is found - return True\n",
    "            return True\n",
    "        return False # If the substring is not found - return False\n",
    "    \n",
    "a = Solution()\n",
    "a.threeConsecutiveOdds([1,2,34,3,4,5,7,23,12])"
   ]
  }
 ],
 "metadata": {
  "kernelspec": {
   "display_name": "Python 3 (ipykernel)",
   "language": "python",
   "name": "python3"
  },
  "language_info": {
   "codemirror_mode": {
    "name": "ipython",
    "version": 3
   },
   "file_extension": ".py",
   "mimetype": "text/x-python",
   "name": "python",
   "nbconvert_exporter": "python",
   "pygments_lexer": "ipython3",
   "version": "3.9.7"
  }
 },
 "nbformat": 4,
 "nbformat_minor": 5
}
