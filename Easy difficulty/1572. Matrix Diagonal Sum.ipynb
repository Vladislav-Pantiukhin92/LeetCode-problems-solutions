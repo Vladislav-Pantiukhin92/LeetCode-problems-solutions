{
 "cells": [
  {
   "cell_type": "markdown",
   "id": "dcac00aa",
   "metadata": {},
   "source": [
    "### 1572. Matrix Diagonal Sum"
   ]
  },
  {
   "cell_type": "code",
   "execution_count": 5,
   "id": "4f751d48",
   "metadata": {},
   "outputs": [
    {
     "data": {
      "text/plain": [
       "8"
      ]
     },
     "execution_count": 5,
     "metadata": {},
     "output_type": "execute_result"
    }
   ],
   "source": [
    "\"\"\"\n",
    "Given a square matrix mat, return the sum of the matrix diagonals.\n",
    "Only include the sum of all the elements on the primary diagonal and all the elements on the secondary \n",
    "diagonal that are not part of the primary diagonal.\n",
    "\n",
    "Example 1:\n",
    "Input: mat = [[1,2,3],\n",
    "              [4,5,6],\n",
    "              [7,8,9]]\n",
    "Output: 25\n",
    "Explanation: Diagonals sum: 1 + 5 + 9 + 3 + 7 = 25\n",
    "Notice that element mat[1][1] = 5 is counted only once.\n",
    "\n",
    "Example 2:\n",
    "Input: mat = [[1,1,1,1],\n",
    "              [1,1,1,1],\n",
    "              [1,1,1,1],\n",
    "              [1,1,1,1]]\n",
    "Output: 8\n",
    "\n",
    "Example 3:\n",
    "Input: mat = [[5]]\n",
    "Output: 5\n",
    "\"\"\"\n",
    "\n",
    "from operator import * # 'operator.eq' will compare values\n",
    "\n",
    "class Solution:\n",
    "    def diagonalSum(self, mat: List[List[int]]) -> int:\n",
    "        start = 0 # The start index\n",
    "        end = len(mat[0]) - 1 # The end index\n",
    "        final = [] # It is the list container\n",
    "        if len(mat[0]) % 2 != 0: # The case, when the length of matrix rows is odd (then, the middle element \n",
    "            # is added only once)\n",
    "            for sublist in mat:\n",
    "                if not eq(start, end): \n",
    "                    final.extend([sublist[start], sublist[end]]) # All diagonal elements are added to the list\n",
    "                else: # The middle element is added only once\n",
    "                    final.append(sublist[start])\n",
    "                start += 1\n",
    "                end -= 1\n",
    "        else: # The case, when the length of matrix rows is even (then, the common middle element doesn't exist at all)\n",
    "            for sublist in mat:\n",
    "                final.extend([sublist[start], sublist[end]]) # All diagonal elements are added to the list\n",
    "                start += 1\n",
    "                end -= 1\n",
    "        return sum(final) # The sum of elements is finally returned\n",
    "\n",
    "    \n",
    "mat = [[1,1,1,1], [1,1,1,1],[1,1,1,1],[1,1,1,1]]\n",
    "a = Solution()\n",
    "a.diagonalSum(mat)"
   ]
  }
 ],
 "metadata": {
  "kernelspec": {
   "display_name": "Python 3 (ipykernel)",
   "language": "python",
   "name": "python3"
  },
  "language_info": {
   "codemirror_mode": {
    "name": "ipython",
    "version": 3
   },
   "file_extension": ".py",
   "mimetype": "text/x-python",
   "name": "python",
   "nbconvert_exporter": "python",
   "pygments_lexer": "ipython3",
   "version": "3.9.7"
  }
 },
 "nbformat": 4,
 "nbformat_minor": 5
}
