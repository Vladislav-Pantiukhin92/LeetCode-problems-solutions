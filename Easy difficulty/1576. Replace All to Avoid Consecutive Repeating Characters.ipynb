{
 "cells": [
  {
   "cell_type": "markdown",
   "id": "2e92e954",
   "metadata": {},
   "source": [
    "### 1576. Replace All ?'s to Avoid Consecutive Repeating Characters"
   ]
  },
  {
   "cell_type": "code",
   "execution_count": 34,
   "id": "869e0dce",
   "metadata": {},
   "outputs": [
    {
     "data": {
      "text/plain": [
       "'azs'"
      ]
     },
     "execution_count": 34,
     "metadata": {},
     "output_type": "execute_result"
    }
   ],
   "source": [
    "\"\"\"\n",
    "Given a string s containing only lowercase English letters and the '?' character, convert all the '?' \n",
    "characters into lowercase letters such that the final string does not contain any consecutive repeating \n",
    "characters. You cannot modify the non '?' characters.\n",
    "It is guaranteed that there are no consecutive repeating characters in the given string except for '?'.\n",
    "Return the final string after all the conversions (possibly zero) have been made. If there is more than \n",
    "one solution, return any of them. It can be shown that an answer is always possible with the given constraints.\n",
    "Example 1:\n",
    "\n",
    "Input: s = \"?zs\"\n",
    "Output: \"azs\"\n",
    "Explanation: There are 25 solutions for this problem. From \"azs\" to \"yzs\", all are valid. Only \"z\" is an invalid modification as the string will consist of consecutive repeating characters in \"zzs\".\n",
    "Example 2:\n",
    "\n",
    "Input: s = \"ubv?w\"\n",
    "Output: \"ubvaw\"\n",
    "Explanation: There are 24 solutions for this problem. Only \"v\" and \"w\" are invalid modifications as the strings will consist of consecutive repeating characters in \"ubvvw\" and \"ubvww\".\n",
    "\"\"\"\n",
    "\n",
    "import string # The string module to import the English lowercase letters\n",
    "\n",
    "class Solution:\n",
    "    def modifyString(self, s: str) -> str:\n",
    "        if s == \"?\": # The case, when the input string contains only one value - \"?\" - we can just return any \n",
    "            # letter, for example, \"a\"\n",
    "            return \"a\"\n",
    "        if all(i == \"?\" for i in s): # If the input string contains only such values as \"?\" - then we replace it \n",
    "            # with \"ab\" and select the specific slice\n",
    "            result = \"ab\" * len(s)\n",
    "            return result[:len(s)]\n",
    "                \n",
    "        # To solve the problem it is necessary to create two stacks - the first stack will accept elements and the \n",
    "        # second stack will pop elements. At the same time we will choose the letter, based upon the last element \n",
    "        # of the first stack and the first element of the second stack\n",
    "        \n",
    "        stack_1 = [] # The first stack\n",
    "        stack_2 = list(s) # The second stack\n",
    "        letters = string.ascii_lowercase # The English lowercase alphabet\n",
    "        # We are going to take elements from the second stack and add them to the first stack (the loop will work \n",
    "        # while the second stack contains elements)\n",
    "        while stack_2:\n",
    "            curElement = stack_2.pop(0)\n",
    "            if curElement.isalpha(): # Here we just add all alphabetic values to the first stack\n",
    "                stack_1.append(curElement)\n",
    "            else: # Below we have to deal with \"?\"\n",
    "                if stack_1 and stack_2: # If both stacks contain elements - we have to choose a letter, which is \n",
    "                    # different from the last element of the first stack and the first element of the second stack\n",
    "                    for i in letters:\n",
    "                        if i != stack_1[-1] and i != stack_2[0]:\n",
    "                            stack_1.append(i)\n",
    "                            break\n",
    "                # If the first stack is empty and the second stack still contains all elements - we choose a letter, \n",
    "                # which is different from the first element of the last stack\n",
    "                elif not stack_1 and stack_2:\n",
    "                    for i in letters:\n",
    "                        if i != stack_2[0]:\n",
    "                            stack_1.append(i)\n",
    "                            break \n",
    "                elif stack_1 and not stack_2: # The case, when the second stack has no elements anymore, and we need to \n",
    "                    # add the last element to the first stack - a letter will be chosen, depending upon the last element \n",
    "                    # of the first stack\n",
    "                    for i in letters:\n",
    "                        if i != stack_1[-1]:\n",
    "                            stack_1.append(i)\n",
    "                            break \n",
    "        return \"\".join(stack_1) # Finally, the first transformed stack as a string type is returned\n",
    "    \n",
    "a = Solution()\n",
    "a.modifyString(\"?zs\")"
   ]
  }
 ],
 "metadata": {
  "kernelspec": {
   "display_name": "Python 3 (ipykernel)",
   "language": "python",
   "name": "python3"
  },
  "language_info": {
   "codemirror_mode": {
    "name": "ipython",
    "version": 3
   },
   "file_extension": ".py",
   "mimetype": "text/x-python",
   "name": "python",
   "nbconvert_exporter": "python",
   "pygments_lexer": "ipython3",
   "version": "3.9.7"
  }
 },
 "nbformat": 4,
 "nbformat_minor": 5
}
