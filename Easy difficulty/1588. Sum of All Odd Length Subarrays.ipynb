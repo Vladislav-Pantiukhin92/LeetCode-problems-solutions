{
 "cells": [
  {
   "cell_type": "markdown",
   "id": "44a39d35",
   "metadata": {},
   "source": [
    "### 1588. Sum of All Odd Length Subarrays"
   ]
  },
  {
   "cell_type": "code",
   "execution_count": 19,
   "id": "6a20a621",
   "metadata": {},
   "outputs": [
    {
     "data": {
      "text/plain": [
       "66"
      ]
     },
     "execution_count": 19,
     "metadata": {},
     "output_type": "execute_result"
    }
   ],
   "source": [
    "\"\"\"\n",
    "Given an array of positive integers arr, return the sum of all possible odd-length subarrays of arr.\n",
    "A subarray is a contiguous subsequence of the array.\n",
    "Example 1:\n",
    "\n",
    "Input: arr = [1,4,2,5,3]\n",
    "Output: 58\n",
    "Explanation: The odd-length subarrays of arr and their sums are:\n",
    "[1] = 1\n",
    "[4] = 4\n",
    "[2] = 2\n",
    "[5] = 5\n",
    "[3] = 3\n",
    "[1,4,2] = 7\n",
    "[4,2,5] = 11\n",
    "[2,5,3] = 10\n",
    "[1,4,2,5,3] = 15\n",
    "If we add all these together we get 1 + 4 + 2 + 5 + 3 + 7 + 11 + 10 + 15 = 58\n",
    "Example 2:\n",
    "\n",
    "Input: arr = [1,2]\n",
    "Output: 3\n",
    "Explanation: There are only 2 subarrays of odd length, [1] and [2]. Their sum is 3.\n",
    "Example 3:\n",
    "\n",
    "Input: arr = [10,11,12]\n",
    "Output: 66\n",
    "\"\"\"\n",
    "\n",
    "from functools import reduce # 'functools.reduce' is aimed at adding elements of iterables together\n",
    "\n",
    "class Solution:\n",
    "    def sumOddLengthSubarrays(self, arr: List[int]) -> int:\n",
    "        final = []\n",
    "        # We are going to utilize the nested 'for loop' to cover all existing odd-length subarrays\n",
    "        for i in range(len(arr) - 2):\n",
    "            for j in range(i + 2, len(arr), 2):\n",
    "                curArr = arr[i:j + 1]\n",
    "                final.append(curArr) # Each odd-length subarray is added to the list container\n",
    "        final.append(arr)\n",
    "        # When all odd-length subarrays are added to the final list, it is time to summarize the list content\n",
    "        my_list = list(map(lambda x: reduce(lambda i, j: i + j, x), final))\n",
    "        return sum(my_list) # The final result is returned\n",
    "    \n",
    "a = Solution()\n",
    "a.sumOddLengthSubarrays([10,11,12])"
   ]
  }
 ],
 "metadata": {
  "kernelspec": {
   "display_name": "Python 3 (ipykernel)",
   "language": "python",
   "name": "python3"
  },
  "language_info": {
   "codemirror_mode": {
    "name": "ipython",
    "version": 3
   },
   "file_extension": ".py",
   "mimetype": "text/x-python",
   "name": "python",
   "nbconvert_exporter": "python",
   "pygments_lexer": "ipython3",
   "version": "3.9.7"
  }
 },
 "nbformat": 4,
 "nbformat_minor": 5
}
