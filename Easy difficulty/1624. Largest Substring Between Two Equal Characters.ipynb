{
 "cells": [
  {
   "cell_type": "markdown",
   "id": "fe600046",
   "metadata": {},
   "source": [
    "### 1624. Largest Substring Between Two Equal Characters"
   ]
  },
  {
   "cell_type": "code",
   "execution_count": 18,
   "id": "c39607cd",
   "metadata": {},
   "outputs": [
    {
     "data": {
      "text/plain": [
       "2"
      ]
     },
     "execution_count": 18,
     "metadata": {},
     "output_type": "execute_result"
    }
   ],
   "source": [
    "\"\"\"\n",
    "Given a string s, return the length of the longest substring between two equal characters, excluding the \n",
    "two characters. If there is no such substring return -1.\n",
    "A substring is a contiguous sequence of characters within a string.\n",
    "Example 1:\n",
    "\n",
    "Input: s = \"aa\"\n",
    "Output: 0\n",
    "Explanation: The optimal substring here is an empty substring between the two 'a's.\n",
    "Example 2:\n",
    "\n",
    "Input: s = \"abca\"\n",
    "Output: 2\n",
    "Explanation: The optimal substring here is \"bc\".\n",
    "Example 3:\n",
    "\n",
    "Input: s = \"cbzxy\"\n",
    "Output: -1\n",
    "Explanation: There are no characters that appear twice in s.\n",
    "\"\"\"\n",
    "\n",
    "class Solution:\n",
    "    def maxLengthBetweenEqualCharacters(self, s: str) -> int:\n",
    "        myDict = {} # We will use the dictionary for counting the occurrence of characters. If the occurrence \n",
    "        # is larger than 1, it means that we have the certain distance between duplicates within the input string.\n",
    "        # With the assistance of the 'enumerate' function we will be able to store the character of the given input \n",
    "        # string as a key and the list of characters' indices within the given input string as a value\n",
    "        for i, j in enumerate(s):\n",
    "            if j not in myDict: # Character is a dictionary key, and the list of character's indices is a dictionary value\n",
    "                myDict[j] = [i]\n",
    "            else:\n",
    "                myDict[j].append(i)\n",
    "        longestSub = -1\n",
    "        for i in myDict:\n",
    "            if len(myDict[i]) > 1: # We are going to consider only characters with duplicates (the list length > 1)\n",
    "                curList = myDict[i]\n",
    "                # To calculate the distance we take the first index position and the last index position of the \n",
    "                # certain character, as well as we find the index difference - 1\n",
    "                first = curList[0]\n",
    "                last = curList[-1]\n",
    "                distance = (last - first) - 1\n",
    "                if distance > longestSub: # The default longest substring is -1, if the larger index distance is found, -\n",
    "                    # the longest substring is updated\n",
    "                    longestSub = distance\n",
    "        return longestSub # The length of the longest substring is returned\n",
    "    \n",
    "a = Solution()\n",
    "a.maxLengthBetweenEqualCharacters(\"abca\")"
   ]
  }
 ],
 "metadata": {
  "kernelspec": {
   "display_name": "Python 3 (ipykernel)",
   "language": "python",
   "name": "python3"
  },
  "language_info": {
   "codemirror_mode": {
    "name": "ipython",
    "version": 3
   },
   "file_extension": ".py",
   "mimetype": "text/x-python",
   "name": "python",
   "nbconvert_exporter": "python",
   "pygments_lexer": "ipython3",
   "version": "3.9.7"
  }
 },
 "nbformat": 4,
 "nbformat_minor": 5
}
