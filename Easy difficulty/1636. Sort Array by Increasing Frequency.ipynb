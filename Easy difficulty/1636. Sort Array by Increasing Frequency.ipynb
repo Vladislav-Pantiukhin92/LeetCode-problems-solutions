{
 "cells": [
  {
   "cell_type": "markdown",
   "id": "d59aadcb",
   "metadata": {},
   "source": [
    "### 1636. Sort Array by Increasing Frequency"
   ]
  },
  {
   "cell_type": "code",
   "execution_count": 31,
   "id": "f4cd52ab",
   "metadata": {},
   "outputs": [
    {
     "data": {
      "text/plain": [
       "[3, 1, 1, 2, 2, 2]"
      ]
     },
     "execution_count": 31,
     "metadata": {},
     "output_type": "execute_result"
    }
   ],
   "source": [
    "\"\"\"\n",
    "Given an array of integers nums, sort the array in increasing order based on the frequency \n",
    "of the values. If multiple values have the same frequency, sort them in decreasing order.\n",
    "Return the sorted array.\n",
    "Example 1:\n",
    "\n",
    "Input: nums = [1,1,2,2,2,3]\n",
    "Output: [3,1,1,2,2,2]\n",
    "Explanation: '3' has a frequency of 1, '1' has a frequency of 2, and '2' has a frequency of 3.\n",
    "Example 2:\n",
    "\n",
    "Input: nums = [2,3,1,3,2]\n",
    "Output: [1,3,3,2,2]\n",
    "Explanation: '2' and '3' both have a frequency of 2, so they are sorted in decreasing order.\n",
    "Example 3:\n",
    "\n",
    "Input: nums = [-1,1,-6,4,5,-6,1,4,1]\n",
    "Output: [5,-1,4,4,-6,-6,1,1,1]\n",
    "\"\"\"\n",
    "\n",
    "from collections import Counter # 'collections.Counter' will make dictionary of values' occurrences \n",
    "from operator import * # 'operator.itemgetter' will sort the array in proper order\n",
    "from itertools import groupby # 'itertools.groupby' will arrange values with regard to their uniqueness and the number of occurrences\n",
    "\n",
    "class Solution:\n",
    "    def frequencySort(self, nums: List[int]) -> List[int]:\n",
    "        final = [] # The container, which will store the final result\n",
    "        # Now it is necessary to transform the dictionary into the list of tuples with key-value pairs\n",
    "        myDict = sorted(dict(Counter(nums)).items(), key=itemgetter(1))\n",
    "        # Now we are grouping the elements with 'itertools.groupby'\n",
    "        key_func = lambda x: x[1]\n",
    "        for key, group in groupby(myDict, key=key_func):\n",
    "              # If occurrence is the same, then, we sort these elements in descending order\n",
    "            current = sorted(list(group), reverse=True)\n",
    "        # Now we have the properly sorted list of tuples, where the first argument is the element itself and the second argument 
            # is the number of occurrences\n",
    "        # Now it is time to fill the final list with all the occurrences in proper order\n",
    "            for i in current:\n",
    "                for _ in range(key):\n",
    "                    final.append(i[0])\n",
    "        return final\n",
    "    \n",
    "a = Solution()\n",
    "a.frequencySort([1,1,2,2,2,3])"
   ]
  }
 ],
 "metadata": {
  "kernelspec": {
   "display_name": "Python 3 (ipykernel)",
   "language": "python",
   "name": "python3"
  },
  "language_info": {
   "codemirror_mode": {
    "name": "ipython",
    "version": 3
   },
   "file_extension": ".py",
   "mimetype": "text/x-python",
   "name": "python",
   "nbconvert_exporter": "python",
   "pygments_lexer": "ipython3",
   "version": "3.9.7"
  }
 },
 "nbformat": 4,
 "nbformat_minor": 5
}
