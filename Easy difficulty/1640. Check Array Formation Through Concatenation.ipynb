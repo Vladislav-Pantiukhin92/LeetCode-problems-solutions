{
 "cells": [
  {
   "cell_type": "markdown",
   "id": "98dd84d5",
   "metadata": {},
   "source": [
    "### 1640. Check Array Formation Through Concatenation"
   ]
  },
  {
   "cell_type": "code",
   "execution_count": 30,
   "id": "bebe74c6",
   "metadata": {},
   "outputs": [
    {
     "data": {
      "text/plain": [
       "True"
      ]
     },
     "execution_count": 30,
     "metadata": {},
     "output_type": "execute_result"
    }
   ],
   "source": [
    "\"\"\"\n",
    "You are given an array of distinct integers arr and an array of integer arrays pieces, where the integers \n",
    "in pieces are distinct. Your goal is to form arr by concatenating the arrays in pieces in any order. \n",
    "However, you are not allowed to reorder the integers in each array pieces[i].\n",
    "\n",
    "Return true if it is possible to form the array arr from pieces. Otherwise, return false.\n",
    "Example 1:\n",
    "\n",
    "Input: arr = [15,88], pieces = [[88],[15]]\n",
    "Output: true\n",
    "Explanation: Concatenate [15] then [88]\n",
    "Example 2:\n",
    "\n",
    "Input: arr = [49,18,16], pieces = [[16,18,49]]\n",
    "Output: false\n",
    "Explanation: Even though the numbers match, we cannot reorder pieces[0].\n",
    "Example 3:\n",
    "\n",
    "Input: arr = [91,4,64,78], pieces = [[78],[4,64],[91]]\n",
    "Output: true\n",
    "Explanation: Concatenate [91] then [4,64] then [78]\n",
    "\"\"\"\n",
    "\n",
    "# The major principle of the solution is to analyze only those iterables within the list, which contain more than \n",
    "# 1 element. It is necessary to inspect the order of their elements: if order of the elements is the same \n",
    "# as within the input list - then we return True, otherwise we return False \n",
    "# As for the iterables with only 1 element - it is unnecessary to check them at all\n",
    "\n",
    "class Solution:\n",
    "    def canFormArray(self, arr: List[int], pieces: List[List[int]]) -> bool:\n",
    "        new_arr1 = sorted(arr.copy())\n",
    "        new_arr2 = sorted(sum(pieces, []))\n",
    "        i = 0\n",
    "        j = 0\n",
    "        while i < len(new_arr1):\n",
    "            if new_arr1[i] != new_arr2[j]:\n",
    "                return False\n",
    "            i += 1\n",
    "            j += 1\n",
    "        my_list = []\n",
    "        \n",
    "        for i in pieces:\n",
    "            if len(i) > 1:\n",
    "                my_list.append(i)\n",
    "        for i in my_list:\n",
    "            curSlice = i\n",
    "            m = 0\n",
    "            n = len(curSlice)\n",
    "            while curSlice[0] != arr[m]:\n",
    "                m += 1\n",
    "            if curSlice != arr[m:m + n]:\n",
    "                return False\n",
    "        return True\n",
    "    \n",
    "a = Solution()\n",
    "a.canFormArray([91,4,64,78], [[78],[4,64],[91]])"
   ]
  }
 ],
 "metadata": {
  "kernelspec": {
   "display_name": "Python 3 (ipykernel)",
   "language": "python",
   "name": "python3"
  },
  "language_info": {
   "codemirror_mode": {
    "name": "ipython",
    "version": 3
   },
   "file_extension": ".py",
   "mimetype": "text/x-python",
   "name": "python",
   "nbconvert_exporter": "python",
   "pygments_lexer": "ipython3",
   "version": "3.9.7"
  }
 },
 "nbformat": 4,
 "nbformat_minor": 5
}
