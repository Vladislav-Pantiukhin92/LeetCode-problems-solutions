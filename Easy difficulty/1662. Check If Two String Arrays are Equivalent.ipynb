{
 "cells": [
  {
   "cell_type": "markdown",
   "id": "511bce29",
   "metadata": {},
   "source": [
    "### 1662. Check If Two String Arrays are Equivalent"
   ]
  },
  {
   "cell_type": "code",
   "execution_count": 6,
   "id": "6970446c",
   "metadata": {},
   "outputs": [
    {
     "data": {
      "text/plain": [
       "True"
      ]
     },
     "execution_count": 6,
     "metadata": {},
     "output_type": "execute_result"
    }
   ],
   "source": [
    "\"\"\"\n",
    "Given two string arrays word1 and word2, return true if the two arrays represent the same string, \n",
    "and false otherwise.\n",
    "A string is represented by an array if the array elements concatenated in order forms the string.\n",
    "\n",
    "Example 1:\n",
    "\n",
    "Input: word1 = [\"ab\", \"c\"], word2 = [\"a\", \"bc\"]\n",
    "Output: true\n",
    "Explanation:\n",
    "word1 represents string \"ab\" + \"c\" -> \"abc\"\n",
    "word2 represents string \"a\" + \"bc\" -> \"abc\"\n",
    "The strings are the same, so return true.\n",
    "Example 2:\n",
    "\n",
    "Input: word1 = [\"a\", \"cb\"], word2 = [\"ab\", \"c\"]\n",
    "Output: false\n",
    "Example 3:\n",
    "\n",
    "Input: word1  = [\"abc\", \"d\", \"defg\"], word2 = [\"abcddefg\"]\n",
    "Output: true\n",
    "\"\"\"\n",
    "\n",
    "import numpy as np\n",
    "class Solution:\n",
    "    def arrayStringsAreEqual(self, word1: List[str], word2: List[str]) -> bool:\n",
    "        string1 = \"\".join(word1) # Transformation of the list into the string type\n",
    "        string2 = \"\".join(word2) # Transformation of the list into the string type\n",
    "        if len(string1) != len(string2): # It is quite obviuos that the different length means that strings are different\n",
    "            return False\n",
    "        # Let's create the 2-D array with the size 'm x n', where 'm' is the size of the first string, and 'n' is the size of the second string\n",
    "        matrix = np.zeros((len(string1) + 1, len(string2) + 1))\n",
    "        for i in range(1, len(string1) + 1):\n",
    "            for j in range(1, len(string2) + 1):\n",
    "                # We fill out the current square by increasing the previous value by 1 when the same letters are met\n",
    "                if string1[i - 1] == string2[j - 1]:\n",
    "                    matrix[i][j] = matrix[i - 1][j - 1] + 1\n",
    "                else:\n",
    "                    # And we fill out nothing when the different letters are met\n",
    "                    matrix[i][j] = 0\n",
    "        # The final result is the location xy, where x - the length of the first string, and y - the length of the second string\n",
    "        if int(matrix[len(string1)][len(string2)]) == len(string1):\n",
    "            return True\n",
    "        return False\n",
    "    \n",
    "a = Solution()\n",
    "a.arrayStringsAreEqual([\"abc\", \"d\", \"defg\"], [\"abcddefg\"])"
   ]
  }
 ],
 "metadata": {
  "kernelspec": {
   "display_name": "Python 3 (ipykernel)",
   "language": "python",
   "name": "python3"
  },
  "language_info": {
   "codemirror_mode": {
    "name": "ipython",
    "version": 3
   },
   "file_extension": ".py",
   "mimetype": "text/x-python",
   "name": "python",
   "nbconvert_exporter": "python",
   "pygments_lexer": "ipython3",
   "version": "3.9.7"
  }
 },
 "nbformat": 4,
 "nbformat_minor": 5
}
