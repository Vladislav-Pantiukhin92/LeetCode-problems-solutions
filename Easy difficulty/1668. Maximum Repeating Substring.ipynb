{
 "cells": [
  {
   "cell_type": "markdown",
   "id": "dcac00aa",
   "metadata": {},
   "source": [
    "### 1668. Maximum Repeating Substring"
   ]
  },
  {
   "cell_type": "code",
   "execution_count": 8,
   "id": "bef0a98d",
   "metadata": {},
   "outputs": [
    {
     "data": {
      "text/plain": [
       "2"
      ]
     },
     "execution_count": 8,
     "metadata": {},
     "output_type": "execute_result"
    }
   ],
   "source": [
    "\"\"\"\n",
    "For a string sequence, a string word is k-repeating if word concatenated k times is a substring of \n",
    "sequence. The word's maximum k-repeating value is the highest value k where word is k-repeating in \n",
    "sequence. If word is not a substring of sequence, word's maximum k-repeating value is 0.\n",
    "Given strings sequence and word, return the maximum k-repeating value of word in sequence.\n",
    "\n",
    "Example 1:\n",
    "\n",
    "Input: sequence = \"ababc\", word = \"ab\"\n",
    "Output: 2\n",
    "Explanation: \"abab\" is a substring in \"ababc\".\n",
    "\n",
    "Example 2:\n",
    "Input: sequence = \"ababc\", word = \"ba\"\n",
    "Output: 1\n",
    "Explanation: \"ba\" is a substring in \"ababc\". \"baba\" is not a substring in \"ababc\".\n",
    "\n",
    "Example 3:\n",
    "Input: sequence = \"ababc\", word = \"ac\"\n",
    "Output: 0\n",
    "Explanation: \"ac\" is not a substring in \"ababc\". \n",
    "\"\"\"\n",
    "\n",
    "class Solution:\n",
    "    def maxRepeating(self, sequence: str, word: str) -> int:\n",
    "        repeat = 0 # The initial number of repeat chunks is 0\n",
    "        chunk = word\n",
    "    # The following condition is to be met: the length of the substring <= the length of the sequence and \n",
    "    # the string method 'str.find()' won't return -1. In this case, the number of repeat chunks is increased by 1\n",
    "        while len(word) <= len(sequence) and sequence.find(word) != -1:\n",
    "            repeat += 1\n",
    "            word += chunk\n",
    "        return repeat # The total number of repeat chunks is returned\n",
    "    \n",
    "a = Solution()\n",
    "a.maxRepeating(\"ababc\", \"ab\")"
   ]
  }
 ],
 "metadata": {
  "kernelspec": {
   "display_name": "Python 3 (ipykernel)",
   "language": "python",
   "name": "python3"
  },
  "language_info": {
   "codemirror_mode": {
    "name": "ipython",
    "version": 3
   },
   "file_extension": ".py",
   "mimetype": "text/x-python",
   "name": "python",
   "nbconvert_exporter": "python",
   "pygments_lexer": "ipython3",
   "version": "3.9.7"
  }
 },
 "nbformat": 4,
 "nbformat_minor": 5
}
