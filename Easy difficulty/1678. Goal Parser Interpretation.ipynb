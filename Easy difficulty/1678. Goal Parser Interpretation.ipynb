{
 "cells": [
  {
   "cell_type": "markdown",
   "id": "5493dc85",
   "metadata": {},
   "source": [
    "### 1678. Goal Parser Interpretation"
   ]
  },
  {
   "cell_type": "code",
   "execution_count": 2,
   "id": "8328c5e4",
   "metadata": {},
   "outputs": [
    {
     "data": {
      "text/plain": [
       "'alGalooG'"
      ]
     },
     "execution_count": 2,
     "metadata": {},
     "output_type": "execute_result"
    }
   ],
   "source": [
    "\"\"\"\n",
    "You own a Goal Parser that can interpret a string command. The command consists of \n",
    "an alphabet of \"G\", \"()\" and/or \"(al)\" in some order. The Goal Parser will interpret \n",
    "\"G\" as the string \"G\", \"()\" as the string \"o\", and \"(al)\" as the string \"al\". \n",
    "The interpreted strings are then concatenated in the original order.\n",
    "Given the string command, return the Goal Parser's interpretation of command.\n",
    "Example 1:\n",
    "\n",
    "Input: command = \"G()(al)\"\n",
    "Output: \"Goal\"\n",
    "Explanation: The Goal Parser interprets the command as follows:\n",
    "G -> G\n",
    "() -> o\n",
    "(al) -> al\n",
    "The final concatenated result is \"Goal\".\n",
    "Example 2:\n",
    "\n",
    "Input: command = \"G()()()()(al)\"\n",
    "Output: \"Gooooal\"\n",
    "Example 3:\n",
    "\n",
    "Input: command = \"(al)G(al)()()G\"\n",
    "Output: \"alGalooG\"\n",
    "\"\"\"\n",
    "\n",
    "class Solution:\n",
    "    def interpret(self, command: str) -> str:\n",
    "        # The easiest implementation is through the use of the string method str.replace()\n",
    "        final = command.replace(\"()\", \"o\").replace(\"(al)\", \"al\")\n",
    "        return final\n",
    "a = Solution()\n",
    "a.interpret(\"(al)G(al)()()G\")"
   ]
  }
 ],
 "metadata": {
  "kernelspec": {
   "display_name": "Python 3 (ipykernel)",
   "language": "python",
   "name": "python3"
  },
  "language_info": {
   "codemirror_mode": {
    "name": "ipython",
    "version": 3
   },
   "file_extension": ".py",
   "mimetype": "text/x-python",
   "name": "python",
   "nbconvert_exporter": "python",
   "pygments_lexer": "ipython3",
   "version": "3.9.7"
  }
 },
 "nbformat": 4,
 "nbformat_minor": 5
}
