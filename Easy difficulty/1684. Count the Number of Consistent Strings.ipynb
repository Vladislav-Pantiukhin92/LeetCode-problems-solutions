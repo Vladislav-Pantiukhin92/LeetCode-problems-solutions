{
 "cells": [
  {
   "cell_type": "markdown",
   "id": "d3a0f733",
   "metadata": {},
   "source": [
    "### 1684. Count the Number of Consistent Strings"
   ]
  },
  {
   "cell_type": "code",
   "execution_count": 4,
   "id": "808cfe4f",
   "metadata": {},
   "outputs": [
    {
     "data": {
      "text/plain": [
       "7"
      ]
     },
     "execution_count": 4,
     "metadata": {},
     "output_type": "execute_result"
    }
   ],
   "source": [
    "\"\"\"\n",
    "You are given a string allowed consisting of distinct characters and an array of strings words. \n",
    "A string is consistent if all characters in the string appear in the string allowed.\n",
    "Return the number of consistent strings in the array words.\n",
    "Example 1:\n",
    "\n",
    "Input: allowed = \"ab\", words = [\"ad\",\"bd\",\"aaab\",\"baa\",\"badab\"]\n",
    "Output: 2\n",
    "Explanation: Strings \"aaab\" and \"baa\" are consistent since they only contain characters 'a' and 'b'.\n",
    "Example 2:\n",
    "\n",
    "Input: allowed = \"abc\", words = [\"a\",\"b\",\"c\",\"ab\",\"ac\",\"bc\",\"abc\"]\n",
    "Output: 7\n",
    "Explanation: All strings are consistent.\n",
    "Example 3:\n",
    "\n",
    "Input: allowed = \"cad\", words = [\"cc\",\"acd\",\"b\",\"ba\",\"bac\",\"bad\",\"ac\",\"d\"]\n",
    "Output: 4\n",
    "Explanation: Strings \"cc\", \"acd\", \"ac\", and \"d\" are consistent.\n",
    "\"\"\"\n",
    "\n",
    "class Solution:\n",
    "    def countConsistentStrings(self, allowed: str, words: List[str]) -> int:\n",
    "        allowed = set(allowed) # We need to take into consideration only distinct values, so in this case\n",
    "        # duplicates are not important. We can remove them through the set structure both in 'allowed' and within \n",
    "        # the input list\n",
    "        words = list(map(lambda x: set(x), words))\n",
    "        count = 0\n",
    "        for i in words:\n",
    "            if i.issubset(allowed): # To count relevant words we use the set method set1.subset(set2) - if \n",
    "        # one chunk of letters is a subset of another bigger chunk of letters - return True, so we need to count \n",
    "        # the number of 'True' and return the final result\n",
    "                count += 1\n",
    "        return count # The final 'count' result is returned\n",
    "    \n",
    "a = Solution()\n",
    "a.countConsistentStrings(\"abc\", [\"a\",\"b\",\"c\",\"ab\",\"ac\",\"bc\",\"abc\"])"
   ]
  }
 ],
 "metadata": {
  "kernelspec": {
   "display_name": "Python 3 (ipykernel)",
   "language": "python",
   "name": "python3"
  },
  "language_info": {
   "codemirror_mode": {
    "name": "ipython",
    "version": 3
   },
   "file_extension": ".py",
   "mimetype": "text/x-python",
   "name": "python",
   "nbconvert_exporter": "python",
   "pygments_lexer": "ipython3",
   "version": "3.9.7"
  }
 },
 "nbformat": 4,
 "nbformat_minor": 5
}
