{
 "cells": [
  {
   "cell_type": "markdown",
   "id": "a3196b1f",
   "metadata": {},
   "source": [
    "### 169. Majority Element"
   ]
  },
  {
   "cell_type": "code",
   "execution_count": 59,
   "id": "83b7fe37",
   "metadata": {},
   "outputs": [
    {
     "data": {
      "text/plain": [
       "2"
      ]
     },
     "execution_count": 59,
     "metadata": {},
     "output_type": "execute_result"
    }
   ],
   "source": [
    "\"\"\"\n",
    "Given an array nums of size n, return the majority element.\n",
    "The majority element is the element that appears more than ⌊n / 2⌋ times. \n",
    "You may assume that the majority element always exists in the array.\n",
    "\n",
    "Example 1:\n",
    "\n",
    "Input: nums = [3,2,3]\n",
    "Output: 3\n",
    "Example 2:\n",
    "\n",
    "Input: nums = [2,2,1,1,1,2,2]\n",
    "Output: 2\n",
    "\"\"\"\n",
    "\n",
    "from itertools import groupby # 'itertools.groupby' will determine the unique keys and their occurences within the array\n",
    "\n",
    "class Solution:\n",
    "    def majorityElement(self, nums: List[int]) -> int:\n",
    "        sortedArray = sorted(nums) # To determine all the occurences within the array it is necessary to sort the sequence\n",
    "        length = len(nums)\n",
    "        for key, group in groupby(sortedArray): # The 'group' variable is responsible for the number of occurences\n",
    "            if len(list(group)) > length / 2: # In view of the fact that only the one option meets the requirement, we return it\n",
    "                return key\n",
    "a = Solution()\n",
    "a.majorityElement([2,2,1,1,1,2,2])"
   ]
  }
 ],
 "metadata": {
  "kernelspec": {
   "display_name": "Python 3 (ipykernel)",
   "language": "python",
   "name": "python3"
  },
  "language_info": {
   "codemirror_mode": {
    "name": "ipython",
    "version": 3
   },
   "file_extension": ".py",
   "mimetype": "text/x-python",
   "name": "python",
   "nbconvert_exporter": "python",
   "pygments_lexer": "ipython3",
   "version": "3.9.7"
  }
 },
 "nbformat": 4,
 "nbformat_minor": 5
}
