{
 "cells": [
  {
   "cell_type": "markdown",
   "id": "3b0a37cc",
   "metadata": {},
   "source": [
    "### 1704. Determine if String Halves Are Alike"
   ]
  },
  {
   "cell_type": "code",
   "execution_count": 138,
   "id": "ed4a77a6",
   "metadata": {},
   "outputs": [
    {
     "data": {
      "text/plain": [
       "False"
      ]
     },
     "execution_count": 138,
     "metadata": {},
     "output_type": "execute_result"
    }
   ],
   "source": [
    "\"\"\"\n",
    "You are given a string s of even length. Split this string into two halves of equal lengths, \n",
    "and let a be the first half and b be the second half.\n",
    "Two strings are alike if they have the same number of vowels ('a', 'e', 'i', 'o', 'u', 'A', 'E', 'I', 'O', 'U'). Notice that s contains uppercase and lowercase letters.\n",
    "Return true if a and b are alike. Otherwise, return false.\n",
    "Example 1:\n",
    "\n",
    "Input: s = \"book\"\n",
    "Output: true\n",
    "Explanation: a = \"bo\" and b = \"ok\". a has 1 vowel and b has 1 vowel. Therefore, they are alike.\n",
    "Example 2:\n",
    "\n",
    "Input: s = \"textbook\"\n",
    "Output: false\n",
    "Explanation: a = \"text\" and b = \"book\". a has 1 vowel whereas b has 2. Therefore, they are not alike.\n",
    "Notice that the vowel o is counted twice.\n",
    "\"\"\"\n",
    "\n",
    "import string # It is necessary to import the lowercase English alphabet\n",
    "\n",
    "class Solution:\n",
    "    def halvesAreAlike(self, s: str) -> bool:\n",
    "        # We can remove vowels\n",
    "        # We will compare each element with the consonant string\n",
    "        consonants = \"\".join(string.ascii_lowercase.translate(str.maketrans(\"aeiou\", \"     \")))\n",
    "        # As it doesn't matter whether we encounter the uppercase or lowercase letter, it is possible to convert \n",
    "        # all the letters to the same case \n",
    "        s = s.casefold() # We can pick out the lowercase option\n",
    "        middle = len(s) // 2 # Let's divide the list into two equal parts\n",
    "        string_a = s[:middle] # The left part\n",
    "        string_b = s[middle:] # The right part\n",
    "        count_a = 0 # The variable will store vowels of the left part\n",
    "        count_b = 0 # The variable will store vowels of the right part\n",
    "        i = 0 \n",
    "        j = 0 \n",
    "        while i < len(string_a):\n",
    "            if string_a[i] not in consonants:\n",
    "                count_a += 1\n",
    "            if string_b[j] not in consonants:\n",
    "                count_b += 1\n",
    "            i += 1\n",
    "            j += 1\n",
    "        return count_a == count_b # We return True only if two variables store the same result\n",
    "    \n",
    "a = Solution()\n",
    "a.halvesAreAlike(\"textbook\")"
   ]
  }
 ],
 "metadata": {
  "kernelspec": {
   "display_name": "Python 3 (ipykernel)",
   "language": "python",
   "name": "python3"
  },
  "language_info": {
   "codemirror_mode": {
    "name": "ipython",
    "version": 3
   },
   "file_extension": ".py",
   "mimetype": "text/x-python",
   "name": "python",
   "nbconvert_exporter": "python",
   "pygments_lexer": "ipython3",
   "version": "3.9.7"
  }
 },
 "nbformat": 4,
 "nbformat_minor": 5
}
