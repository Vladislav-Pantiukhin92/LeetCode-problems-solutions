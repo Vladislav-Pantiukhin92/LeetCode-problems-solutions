{
 "cells": [
  {
   "cell_type": "markdown",
   "id": "57ce5723",
   "metadata": {},
   "source": [
    "### 1748. Sum of Unique Elements"
   ]
  },
  {
   "cell_type": "code",
   "execution_count": 75,
   "id": "d3238337",
   "metadata": {},
   "outputs": [
    {
     "data": {
      "text/plain": [
       "4"
      ]
     },
     "execution_count": 75,
     "metadata": {},
     "output_type": "execute_result"
    }
   ],
   "source": [
    "\"\"\"\n",
    "You are given an integer array nums. The unique elements of an array are the elements that appear \n",
    "exactly once in the array.\n",
    "Return the sum of all the unique elements of nums.\n",
    "\n",
    "Example 1:\n",
    "Input: nums = [1,2,3,2]\n",
    "Output: 4\n",
    "Explanation: The unique elements are [1,3], and the sum is 4.\n",
    "Example 2:\n",
    "\n",
    "Input: nums = [1,1,1,1,1]\n",
    "Output: 0\n",
    "Explanation: There are no unique elements, and the sum is 0.\n",
    "Example 3:\n",
    "\n",
    "Input: nums = [1,2,3,4,5]\n",
    "Output: 15\n",
    "Explanation: The unique elements are [1,2,3,4,5], and the sum is 15.\n",
    "\"\"\"\n",
    "\n",
    "class Solution:\n",
    "    def sumOfUnique(self, nums: List[int]) -> int:\n",
    "# Let's initialize the hashTable (dictionary), where keys are the elements within the array and values are their occurences\n",
    "        hashTable = {} \n",
    "        sum = 0 # The variable 'sum' will accumulate the final result, which should be returned\n",
    "        for i in nums:\n",
    "            if i not in hashTable: # If the key is not within the array, we add the key with the occurence = 1\n",
    "                hashTable[i] = 1\n",
    "            else:\n",
    "                hashTable[i] += 1 # If the key is already within the array, we just increase the occurence by 1\n",
    "        for j in hashTable:\n",
    "            if hashTable[j] == 1: # We are interested only in the keys, which reflect the value 1\n",
    "                sum += j\n",
    "        return sum # The final result will be returned\n",
    "    \n",
    "a = Solution()\n",
    "a.sumOfUnique([1,2,3,2])"
   ]
  }
 ],
 "metadata": {
  "kernelspec": {
   "display_name": "Python 3 (ipykernel)",
   "language": "python",
   "name": "python3"
  },
  "language_info": {
   "codemirror_mode": {
    "name": "ipython",
    "version": 3
   },
   "file_extension": ".py",
   "mimetype": "text/x-python",
   "name": "python",
   "nbconvert_exporter": "python",
   "pygments_lexer": "ipython3",
   "version": "3.9.7"
  }
 },
 "nbformat": 4,
 "nbformat_minor": 5
}
