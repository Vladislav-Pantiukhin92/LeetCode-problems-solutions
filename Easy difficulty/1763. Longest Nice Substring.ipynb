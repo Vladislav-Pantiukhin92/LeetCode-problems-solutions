{
 "cells": [
  {
   "cell_type": "markdown",
   "id": "ccad8471",
   "metadata": {},
   "source": [
    "### 1763. Longest Nice Substring"
   ]
  },
  {
   "cell_type": "code",
   "execution_count": 1,
   "id": "7535b921",
   "metadata": {},
   "outputs": [
    {
     "data": {
      "text/plain": [
       "'aAa'"
      ]
     },
     "execution_count": 1,
     "metadata": {},
     "output_type": "execute_result"
    }
   ],
   "source": [
    "\"\"\"\n",
    "A string s is nice if, for every letter of the alphabet that s contains, it appears both in uppercase and \n",
    "lowercase. For example, \"abABB\" is nice because 'A' and 'a' appear, and 'B' and 'b' appear. However, \n",
    "\"abA\" is not because 'b' appears, but 'B' does not.\n",
    "\n",
    "Given a string s, return the longest substring of s that is nice. If there are multiple, return the \n",
    "substring of the earliest occurrence. If there are none, return an empty string.\n",
    "Example 1:\n",
    "\n",
    "Input: s = \"YazaAay\"\n",
    "Output: \"aAa\"\n",
    "Explanation: \"aAa\" is a nice string because 'A/a' is the only letter of the alphabet in s, and both \n",
    "'A' and 'a' appear.\n",
    "\"aAa\" is the longest nice substring.\n",
    "Example 2:\n",
    "\n",
    "Input: s = \"Bb\"\n",
    "Output: \"Bb\"\n",
    "Explanation: \"Bb\" is a nice string because both 'B' and 'b' appear. The whole string is a substring.\n",
    "Example 3:\n",
    "\n",
    "Input: s = \"c\"\n",
    "Output: \"\"\n",
    "Explanation: There are no nice substrings.\n",
    "\"\"\"\n",
    "\n",
    "from collections import Counter # 'collections.Counter' will create the occurrence dictionary with letters\n",
    "from operator import * # 'operator.eq' will be used to compare elements/values\n",
    "\n",
    "class Solution:\n",
    "    def longestNiceSubstring(self, s: str) -> str:\n",
    "        i = 0\n",
    "        final = [] # It is the list container, which will store all the pertinent string chunks\n",
    "        while i < len(s): # We will inspect all the slices within the given input string\n",
    "            j = i + 1\n",
    "            while j < len(s):\n",
    "                curSlice = s[i:j + 1] # The slice from the given input string\n",
    "                myDict = dict(Counter(curSlice)) # The corresponding dictionary, based upon the generated slice, \n",
    "                # is being created\n",
    "                niceSub = True\n",
    "                for letter in myDict:\n",
    "                    if letter.swapcase() not in myDict: # If one letter in both cases doesn't exist within the \n",
    "                        # dictionary - the loop is to be broken\n",
    "                        niceSub = False\n",
    "                        break\n",
    "                if niceSub: # If all letters in both cases (lowercase and uppercase) exist within the dictionary - \n",
    "                    # the letter slice is appended to the list container\n",
    "                    final.append(curSlice)\n",
    "                j += 1\n",
    "            i += 1\n",
    "        if not final: # If the list doesn't contain string slices at all - we return an empty string \"\"\n",
    "            return \"\"\n",
    "    # Alternatively, we reach out to the longest ones\n",
    "        max_len = len(max(final, key=len))\n",
    "        for i in final:\n",
    "            if eq(len(i), max_len):\n",
    "                return i # Finally we return the earliest and the longest string chunk\n",
    "            \n",
    "a = Solution()\n",
    "a.longestNiceSubstring(\"YazaAay\")"
   ]
  }
 ],
 "metadata": {
  "kernelspec": {
   "display_name": "Python 3 (ipykernel)",
   "language": "python",
   "name": "python3"
  },
  "language_info": {
   "codemirror_mode": {
    "name": "ipython",
    "version": 3
   },
   "file_extension": ".py",
   "mimetype": "text/x-python",
   "name": "python",
   "nbconvert_exporter": "python",
   "pygments_lexer": "ipython3",
   "version": "3.9.7"
  }
 },
 "nbformat": 4,
 "nbformat_minor": 5
}
