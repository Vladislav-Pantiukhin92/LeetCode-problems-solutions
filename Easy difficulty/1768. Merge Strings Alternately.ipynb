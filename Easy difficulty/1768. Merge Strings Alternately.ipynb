{
 "cells": [
  {
   "cell_type": "markdown",
   "id": "357a1a3d",
   "metadata": {},
   "source": [
    "### 1768. Merge Strings Alternately"
   ]
  },
  {
   "cell_type": "code",
   "execution_count": 60,
   "id": "1c738daa",
   "metadata": {},
   "outputs": [
    {
     "data": {
      "text/plain": [
       "'apbqcd'"
      ]
     },
     "execution_count": 60,
     "metadata": {},
     "output_type": "execute_result"
    }
   ],
   "source": [
    "\"\"\"\n",
    "You are given two strings word1 and word2. Merge the strings by adding letters in alternating order, \n",
    "starting with word1. If a string is longer than the other, append the additional letters onto the end of \n",
    "the merged string.\n",
    "Return the merged string.\n",
    "Example 1:\n",
    "\n",
    "Input: word1 = \"abc\", word2 = \"pqr\"\n",
    "Output: \"apbqcr\"\n",
    "Explanation: The merged string will be merged as so:\n",
    "word1:  a   b   c\n",
    "word2:    p   q   r\n",
    "merged: a p b q c r\n",
    "Example 2:\n",
    "\n",
    "Input: word1 = \"ab\", word2 = \"pqrs\"\n",
    "Output: \"apbqrs\"\n",
    "Explanation: Notice that as word2 is longer, \"rs\" is appended to the end.\n",
    "word1:  a   b \n",
    "word2:    p   q   r   s\n",
    "merged: a p b q   r   s\n",
    "Example 3:\n",
    "\n",
    "Input: word1 = \"abcd\", word2 = \"pq\"\n",
    "Output: \"apbqcd\"\n",
    "Explanation: Notice that as word1 is longer, \"cd\" is appended to the end.\n",
    "word1:  a   b   c   d\n",
    "word2:    p   q \n",
    "merged: a p b q c   d\n",
    "\"\"\"\n",
    "\n",
    "from itertools import zip_longest # 'itertools.zip_longest' will be effective in case of different-length input strings\n",
    "from itertools import starmap # 'itertools.starmap' will combine elements within tuples (merge combination elements)\n",
    "\n",
    "class Solution:\n",
    "    def mergeAlternately(self, word1: str, word2: str) -> str:\n",
    "        result = list(zip_longest(word1, word2, fillvalue=\"\")) # Let's combine the characters of two input strings\n",
    "        # The length of two strings can be different, that is why it is necessary to add some default values to the \n",
    "        # shorter string through 'itertools.zip_longest'\n",
    "        result = list(starmap(lambda x, y: x + y, result)) # Coalescence of elements within an iterable\n",
    "        return \"\".join(result) # Finally the transformation into the string type for the return result\n",
    "    \n",
    "a = Solution()\n",
    "a.mergeAlternately(\"abcd\", \"pq\")"
   ]
  }
 ],
 "metadata": {
  "kernelspec": {
   "display_name": "Python 3 (ipykernel)",
   "language": "python",
   "name": "python3"
  },
  "language_info": {
   "codemirror_mode": {
    "name": "ipython",
    "version": 3
   },
   "file_extension": ".py",
   "mimetype": "text/x-python",
   "name": "python",
   "nbconvert_exporter": "python",
   "pygments_lexer": "ipython3",
   "version": "3.9.7"
  }
 },
 "nbformat": 4,
 "nbformat_minor": 5
}
