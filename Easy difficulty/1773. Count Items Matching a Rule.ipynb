{
 "cells": [
  {
   "cell_type": "markdown",
   "id": "23b89cb7",
   "metadata": {},
   "source": [
    "### 1773. Count Items Matching a Rule"
   ]
  },
  {
   "cell_type": "code",
   "execution_count": 51,
   "id": "9a84f210",
   "metadata": {},
   "outputs": [
    {
     "data": {
      "text/plain": [
       "2"
      ]
     },
     "execution_count": 51,
     "metadata": {},
     "output_type": "execute_result"
    }
   ],
   "source": [
    "\"\"\"\n",
    "You are given an array items, where each items[i] = [typei, colori, namei] describes the type, color, \n",
    "and name of the ith item. You are also given a rule represented by two strings, ruleKey and ruleValue.\n",
    "The ith item is said to match the rule if one of the following is true:\n",
    "\n",
    "ruleKey == \"type\" and ruleValue == typei.\n",
    "ruleKey == \"color\" and ruleValue == colori.\n",
    "ruleKey == \"name\" and ruleValue == namei.\n",
    "Return the number of items that match the given rule.\n",
    "Example 1:\n",
    "\n",
    "Input: items = [[\"phone\",\"blue\",\"pixel\"],[\"computer\",\"silver\",\"lenovo\"],[\"phone\",\"gold\",\"iphone\"]], ruleKey = \"color\", ruleValue = \"silver\"\n",
    "Output: 1\n",
    "Explanation: There is only one item matching the given rule, which is [\"computer\",\"silver\",\"lenovo\"].\n",
    "Example 2:\n",
    "\n",
    "Input: items = [[\"phone\",\"blue\",\"pixel\"],[\"computer\",\"silver\",\"phone\"],[\"phone\",\"gold\",\"iphone\"]], ruleKey = \"type\", ruleValue = \"phone\"\n",
    "Output: 2\n",
    "Explanation: There are only two items matching the given rule, which are [\"phone\",\"blue\",\"pixel\"] and [\"phone\",\"gold\",\"iphone\"]. Note that the item [\"computer\",\"silver\",\"phone\"] does not match.\n",
    "\"\"\"\n",
    "\n",
    "class Solution:\n",
    "    def countMatches(self, items, ruleKey: str, ruleValue: str) -> int:\n",
    "        # We immediately should identify the index location of the ruleKey, this is why we create the dictionary, \n",
    "        # where keys are \"type\", \"color\" and \"name\" and values are the index location within iterables\n",
    "        ruleKey_dict = {\"type\": 0, \n",
    "                       \"color\": 1,\n",
    "                        \"name\": 2}\n",
    "        \n",
    "        index = ruleKey_dict[ruleKey] # The index location is identified \n",
    "        match = 0\n",
    "        for i in items: # With the help of the 'for loop' we can count the number of matches within each iterable of \n",
    "            # the input list\n",
    "            if i[index] == ruleValue:\n",
    "                match += 1\n",
    "        return match # Finally, the number of matches is returned\n",
    "    \n",
    "a = Solution()\n",
    "a.countMatches([[\"phone\",\"blue\",\"pixel\"],[\"computer\",\"silver\",\"phone\"],[\"phone\",\"gold\",\"iphone\"]], ruleKey = \"type\", ruleValue = \"phone\")"
   ]
  }
 ],
 "metadata": {
  "kernelspec": {
   "display_name": "Python 3 (ipykernel)",
   "language": "python",
   "name": "python3"
  },
  "language_info": {
   "codemirror_mode": {
    "name": "ipython",
    "version": 3
   },
   "file_extension": ".py",
   "mimetype": "text/x-python",
   "name": "python",
   "nbconvert_exporter": "python",
   "pygments_lexer": "ipython3",
   "version": "3.9.7"
  }
 },
 "nbformat": 4,
 "nbformat_minor": 5
}
