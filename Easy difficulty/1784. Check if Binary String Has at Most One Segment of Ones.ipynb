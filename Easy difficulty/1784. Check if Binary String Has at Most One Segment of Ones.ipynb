{
 "cells": [
  {
   "cell_type": "markdown",
   "id": "092477d5",
   "metadata": {},
   "source": [
    "### 1784. Check if Binary String Has at Most One Segment of Ones"
   ]
  },
  {
   "cell_type": "code",
   "execution_count": 56,
   "id": "42d54781",
   "metadata": {},
   "outputs": [
    {
     "data": {
      "text/plain": [
       "False"
      ]
     },
     "execution_count": 56,
     "metadata": {},
     "output_type": "execute_result"
    }
   ],
   "source": [
    "\"\"\"\n",
    "Given a binary string s without leading zeros, return true if s contains at most one contiguous segment \n",
    "of ones. Otherwise, return false.\n",
    "Example 1:\n",
    "\n",
    "Input: s = \"1001\"\n",
    "Output: false\n",
    "Explanation: The ones do not form a contiguous segment.\n",
    "Example 2:\n",
    "\n",
    "Input: s = \"110\"\n",
    "Output: true\n",
    "\"\"\"\n",
    "\n",
    "import re # With the help of regular expressions it is possible to determine the number of chunks with \"1\"\n",
    "\n",
    "class Solution:\n",
    "    def checkOnesSegment(self, s: str) -> bool:\n",
    "        result = re.findall(r\"[1]+\", s) # Let's extract all chunks of \"1\"\n",
    "        return len(result) == 1 # The final result is the length of the obtained list with chunks of \"1\"\n",
    "    \n",
    "a = Solution()\n",
    "a.checkOnesSegment(\"1001\")"
   ]
  }
 ],
 "metadata": {
  "kernelspec": {
   "display_name": "Python 3 (ipykernel)",
   "language": "python",
   "name": "python3"
  },
  "language_info": {
   "codemirror_mode": {
    "name": "ipython",
    "version": 3
   },
   "file_extension": ".py",
   "mimetype": "text/x-python",
   "name": "python",
   "nbconvert_exporter": "python",
   "pygments_lexer": "ipython3",
   "version": "3.9.7"
  }
 },
 "nbformat": 4,
 "nbformat_minor": 5
}
