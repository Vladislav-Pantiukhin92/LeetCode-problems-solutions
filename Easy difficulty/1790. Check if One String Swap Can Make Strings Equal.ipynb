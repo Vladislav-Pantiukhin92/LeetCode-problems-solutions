{
 "cells": [
  {
   "cell_type": "markdown",
   "id": "cafd8ac6",
   "metadata": {},
   "source": [
    "### 1790. Check if One String Swap Can Make Strings Equal"
   ]
  },
  {
   "cell_type": "code",
   "execution_count": 10,
   "id": "53990166",
   "metadata": {},
   "outputs": [
    {
     "data": {
      "text/plain": [
       "True"
      ]
     },
     "execution_count": 10,
     "metadata": {},
     "output_type": "execute_result"
    }
   ],
   "source": [
    "\"\"\"\n",
    "You are given two strings s1 and s2 of equal length. A string swap is an operation where you choose two \n",
    "indices in a string (not necessarily different) and swap the characters at these indices.\n",
    "Return true if it is possible to make both strings equal by performing at most one string swap on exactly \n",
    "one of the strings. Otherwise, return false.\n",
    "Example 1:\n",
    "\n",
    "Input: s1 = \"bank\", s2 = \"kanb\"\n",
    "Output: true\n",
    "Explanation: For example, swap the first character with the last character of s2 to make \"bank\".\n",
    "Example 2:\n",
    "\n",
    "Input: s1 = \"attack\", s2 = \"defend\"\n",
    "Output: false\n",
    "Explanation: It is impossible to make them equal with one string swap.\n",
    "Example 3:\n",
    "\n",
    "Input: s1 = \"kelb\", s2 = \"kelb\"\n",
    "Output: true\n",
    "Explanation: The two strings are already equal, so no string swap operation is required.\n",
    "\"\"\"\n",
    "\n",
    "from collections import Counter # 'collections.Counter' is to be used to count the keys (elements)\n",
    "from operator import * # 'operator.eq' is to be used to compare given input strings\n",
    "\n",
    "class Solution:\n",
    "    def areAlmostEqual(self, s1: str, s2: str) -> bool:\n",
    "    # First of all, we return False right off the bat if two given input strings contain some different characters\n",
    "        dict1 = dict(Counter(s1)) # The first dictionary to count distinct letters\n",
    "        dict2 = dict(Counter(s2)) # The second dictionary to count distinct letters\n",
    "        if not eq(dict1, dict2): # If these dictionaries are not equal - we return False immediately \n",
    "            return False\n",
    "        required = len(s1) - 2 # It is the required threshold (the similarity degree), beyond which the return result \n",
    "        # is False ('one string swap' means that, at most, two characters are out of place/location)\n",
    "        def distance_func(string1, string2): # The function, aimed at calculating the similarity degree of the two \n",
    "            # given input strings\n",
    "            i = 0\n",
    "            j = 0\n",
    "            count = 0\n",
    "            while i < len(string1):\n",
    "                if string1[i] == string2[j]: # If case of similarity, the similarity degree is increased by 1\n",
    "                    count += 1\n",
    "                i += 1\n",
    "                j += 1\n",
    "            return count # The final similarity degree is returned\n",
    "        similarity = distance_func(s1, s2)\n",
    "        if similarity >= required: # If the similarity degree is larger than or equal to the 'required' parameter - \n",
    "            # we return True\n",
    "            return True\n",
    "        # Otherwise, we return False\n",
    "        return False\n",
    "    \n",
    "a = Solution()\n",
    "a.areAlmostEqual(\"kelb\", \"kelb\")"
   ]
  }
 ],
 "metadata": {
  "kernelspec": {
   "display_name": "Python 3 (ipykernel)",
   "language": "python",
   "name": "python3"
  },
  "language_info": {
   "codemirror_mode": {
    "name": "ipython",
    "version": 3
   },
   "file_extension": ".py",
   "mimetype": "text/x-python",
   "name": "python",
   "nbconvert_exporter": "python",
   "pygments_lexer": "ipython3",
   "version": "3.9.7"
  }
 },
 "nbformat": 4,
 "nbformat_minor": 5
}
