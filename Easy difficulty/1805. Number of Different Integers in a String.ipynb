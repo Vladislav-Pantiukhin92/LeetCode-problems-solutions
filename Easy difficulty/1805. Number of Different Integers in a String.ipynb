{
 "cells": [
  {
   "cell_type": "markdown",
   "id": "36f4413f",
   "metadata": {},
   "source": [
    "### 1805. Number of Different Integers in a String"
   ]
  },
  {
   "cell_type": "code",
   "execution_count": 45,
   "id": "a2573c51",
   "metadata": {},
   "outputs": [
    {
     "data": {
      "text/plain": [
       "2"
      ]
     },
     "execution_count": 45,
     "metadata": {},
     "output_type": "execute_result"
    }
   ],
   "source": [
    "\"\"\"\n",
    "You are given a string word that consists of digits and lowercase English letters.\n",
    "You will replace every non-digit character with a space. For example, \"a123bc34d8ef34\" will become \" \n",
    "123  34 8  34\". Notice that you are left with some integers that are separated by at least one space: \n",
    "\"123\", \"34\", \"8\", and \"34\".\n",
    "Return the number of different integers after performing the replacement operations on word.\n",
    "Two integers are considered different if their decimal representations without any leading zeros are different.\n",
    "Example 1:\n",
    "\n",
    "Input: word = \"a123bc34d8ef34\"\n",
    "Output: 3\n",
    "Explanation: The three different integers are \"123\", \"34\", and \"8\". Notice that \"34\" is only counted once.\n",
    "Example 2:\n",
    "\n",
    "Input: word = \"leet1234code234\"\n",
    "Output: 2\n",
    "Example 3:\n",
    "\n",
    "Input: word = \"a1b01c001\"\n",
    "Output: 1\n",
    "Explanation: The three integers \"1\", \"01\", and \"001\" all represent the same integer because\n",
    "the leading zeros are ignored when comparing their decimal values.\n",
    "\"\"\"\n",
    "\n",
    "import re # Regular expressions\n",
    "\n",
    "\n",
    "class Solution:\n",
    "    def numDifferentIntegers(self, word: str) -> int:\n",
    "        string_digits = re.findall(r\"\\d+\", word) # This regexp pattern extracts all digit chunks \n",
    "        # The list of string digit chunks is transformed into the list of integers\n",
    "        integers = set(list(map(int, string_digits))) # Through the applied set structure only unique integers remain\n",
    "        return len(integers) # Finally, the length of the list with unique integers is returned\n",
    "    \n",
    "a = Solution()\n",
    "a.numDifferentIntegers(\"leet1234code234\")"
   ]
  }
 ],
 "metadata": {
  "kernelspec": {
   "display_name": "Python 3 (ipykernel)",
   "language": "python",
   "name": "python3"
  },
  "language_info": {
   "codemirror_mode": {
    "name": "ipython",
    "version": 3
   },
   "file_extension": ".py",
   "mimetype": "text/x-python",
   "name": "python",
   "nbconvert_exporter": "python",
   "pygments_lexer": "ipython3",
   "version": "3.9.7"
  }
 },
 "nbformat": 4,
 "nbformat_minor": 5
}
