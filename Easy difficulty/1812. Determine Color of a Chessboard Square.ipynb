{
 "cells": [
  {
   "cell_type": "markdown",
   "id": "232623fd",
   "metadata": {},
   "source": [
    "### 1812. Determine Color of a Chessboard Square"
   ]
  },
  {
   "cell_type": "code",
   "execution_count": 1,
   "id": "bd744f92",
   "metadata": {},
   "outputs": [
    {
     "data": {
      "text/plain": [
       "True"
      ]
     },
     "execution_count": 1,
     "metadata": {},
     "output_type": "execute_result"
    }
   ],
   "source": [
    "\"\"\"\n",
    "You are given coordinates, a string that represents the coordinates of a square of the chessboard. \n",
    "Below is a chessboard for your reference.\n",
    "Return true if the square is white, and false if the square is black.\n",
    "The coordinate will always represent a valid chessboard square. The coordinate will always have the \n",
    "letter first, and the number second.\n",
    "Example 1:\n",
    "\n",
    "Input: coordinates = \"a1\"\n",
    "Output: false\n",
    "Explanation: From the chessboard above, the square with coordinates \"a1\" is black, so return false.\n",
    "Example 2:\n",
    "\n",
    "Input: coordinates = \"h3\"\n",
    "Output: true\n",
    "Explanation: From the chessboard above, the square with coordinates \"h3\" is white, so return true.\n",
    "Example 3:\n",
    "\n",
    "Input: coordinates = \"c7\"\n",
    "Output: false\n",
    "\"\"\"\n",
    "\n",
    "from itertools import count\n",
    "\n",
    "class Solution:\n",
    "    def squareIsWhite(self, coordinates: str) -> bool:\n",
    "    # To solve this problem let's figure out the pattern with regard to coordinates\n",
    "    # For example, the return result (True or False) may depend upon the parity (both the letter and the number\n",
    "    # should be even or odd to return False, otherwise - in case of \"odd + even\" we return True)\n",
    "        letters = \"abcdefgh\"\n",
    "        zip_list = list(zip(letters, count(1)))\n",
    "        \n",
    "        curLetter = coordinates[0]\n",
    "        curDigit = int(coordinates[1])\n",
    "        for i in zip_list:\n",
    "            if i[0] == curLetter:\n",
    "                number = i[1]\n",
    "                break \n",
    "        if curDigit % 2 == 0 and number % 2 == 0: # Both arguments are even - we return False\n",
    "            return False\n",
    "        elif curDigit % 2 != 0 and number % 2 != 0: # Both arguments are odd - we return False as well\n",
    "            return False\n",
    "        else:\n",
    "            return True # In other case, we return True (when one argument is odd and another one is even)\n",
    "        \n",
    "a = Solution()\n",
    "a.squareIsWhite(\"h3\")"
   ]
  }
 ],
 "metadata": {
  "kernelspec": {
   "display_name": "Python 3 (ipykernel)",
   "language": "python",
   "name": "python3"
  },
  "language_info": {
   "codemirror_mode": {
    "name": "ipython",
    "version": 3
   },
   "file_extension": ".py",
   "mimetype": "text/x-python",
   "name": "python",
   "nbconvert_exporter": "python",
   "pygments_lexer": "ipython3",
   "version": "3.9.7"
  }
 },
 "nbformat": 4,
 "nbformat_minor": 5
}
