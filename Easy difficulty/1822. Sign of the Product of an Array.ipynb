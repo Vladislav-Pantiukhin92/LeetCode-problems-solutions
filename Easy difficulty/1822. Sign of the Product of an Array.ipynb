{
 "cells": [
  {
   "cell_type": "markdown",
   "id": "ff457579",
   "metadata": {},
   "source": [
    "### 1822. Sign of the Product of an Array"
   ]
  },
  {
   "cell_type": "code",
   "execution_count": 28,
   "id": "ddc28b02",
   "metadata": {},
   "outputs": [
    {
     "data": {
      "text/plain": [
       "0"
      ]
     },
     "execution_count": 28,
     "metadata": {},
     "output_type": "execute_result"
    }
   ],
   "source": [
    "\"\"\"\n",
    "There is a function signFunc(x) that returns:\n",
    "1 if x is positive.\n",
    "-1 if x is negative.\n",
    "0 if x is equal to 0.\n",
    "You are given an integer array nums. Let product be the product of all values in the array nums.\n",
    "Return signFunc(product).\n",
    "Example 1:\n",
    "\n",
    "Input: nums = [-1,-2,-3,-4,3,2,1]\n",
    "Output: 1\n",
    "Explanation: The product of all values in the array is 144, and signFunc(144) = 1\n",
    "Example 2:\n",
    "\n",
    "Input: nums = [1,5,0,2,-3]\n",
    "Output: 0\n",
    "Explanation: The product of all values in the array is 0, and signFunc(0) = 0\n",
    "Example 3:\n",
    "\n",
    "Input: nums = [-1,1,-1,1,-1]\n",
    "Output: -1\n",
    "Explanation: The product of all values in the array is -1, and signFunc(-1) = -1\n",
    "\"\"\"\n",
    "\n",
    "from functools import reduce # With the assistance of 'functools.reduce' we can multiply all elements, \n",
    "# obtain the product as well as return the respective final result\n",
    "\n",
    "class Solution:\n",
    "    def arraySign(self, nums: List[int]) -> int:\n",
    "        result = reduce(lambda x, y: x * y, nums)\n",
    "        if result == 0:\n",
    "            return 0\n",
    "        elif result > 0:\n",
    "            return 1\n",
    "        return -1\n",
    "        \n",
    "a = Solution()\n",
    "a.arraySign([1,5,0,2,-3])"
   ]
  }
 ],
 "metadata": {
  "kernelspec": {
   "display_name": "Python 3 (ipykernel)",
   "language": "python",
   "name": "python3"
  },
  "language_info": {
   "codemirror_mode": {
    "name": "ipython",
    "version": 3
   },
   "file_extension": ".py",
   "mimetype": "text/x-python",
   "name": "python",
   "nbconvert_exporter": "python",
   "pygments_lexer": "ipython3",
   "version": "3.9.7"
  }
 },
 "nbformat": 4,
 "nbformat_minor": 5
}
