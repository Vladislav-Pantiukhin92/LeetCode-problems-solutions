{
 "cells": [
  {
   "cell_type": "markdown",
   "id": "4dcd8e6a",
   "metadata": {},
   "source": [
    "### 1827. Minimum Operations to Make the Array Increasing"
   ]
  },
  {
   "cell_type": "code",
   "execution_count": 6,
   "id": "f633995b",
   "metadata": {},
   "outputs": [
    {
     "data": {
      "text/plain": [
       "14"
      ]
     },
     "execution_count": 6,
     "metadata": {},
     "output_type": "execute_result"
    }
   ],
   "source": [
    "\"\"\"\n",
    "You are given an integer array nums (0-indexed). In one operation, you can choose an element of the array \n",
    "and increment it by 1.\n",
    "For example, if nums = [1,2,3], you can choose to increment nums[1] to make nums = [1,3,3].\n",
    "Return the minimum number of operations needed to make nums strictly increasing.\n",
    "An array nums is strictly increasing if nums[i] < nums[i+1] for all 0 <= i < nums.length - 1.\n",
    "An array of length 1 is trivially strictly increasing.\n",
    "Example 1:\n",
    "\n",
    "Input: nums = [1,1,1]\n",
    "Output: 3\n",
    "Explanation: You can do the following operations:\n",
    "1) Increment nums[2], so nums becomes [1,1,2].\n",
    "2) Increment nums[1], so nums becomes [1,2,2].\n",
    "3) Increment nums[2], so nums becomes [1,2,3].\n",
    "Example 2:\n",
    "\n",
    "Input: nums = [1,5,2,4,1]\n",
    "Output: 14\n",
    "Example 3:\n",
    "\n",
    "Input: nums = [8]\n",
    "Output: 0\n",
    "\"\"\"\n",
    "\n",
    "class Solution:\n",
    "    def minOperations(self, nums: List[int]) -> int:\n",
    "        if len(nums) == 1: # It is logical to suggest that the return result is 0, if the input list contains\n",
    "            # only 1 element (lists with 0 or 1 element are already by default sorted)\n",
    "            return 0\n",
    "        else:\n",
    "            # Otherwise, we are going to loop over pairs of elements (adjacent numbers) with two variables\n",
    "            # If the previous number >= the next number - the number of operations equals to the subtraction \n",
    "            # result of these elements and plus 1 (just 'plus 1' because we are looking for the minimum amount \n",
    "            # of operations)\n",
    "            operations = 0\n",
    "            i = 0\n",
    "            j = 1\n",
    "            while j < len(nums):\n",
    "                if nums[i] < nums[j]:\n",
    "                    i += 1\n",
    "                    j += 1\n",
    "                else:\n",
    "                    curOperations = ((nums[i] - nums[j]) + 1)\n",
    "                    nums[j] = (nums[j] + curOperations)\n",
    "                    operations += curOperations\n",
    "                    i += 1\n",
    "                    j += 1\n",
    "        return operations # Finally, the total amount of operations is returned\n",
    "    \n",
    "a = Solution()\n",
    "a.minOperations([1,5,2,4,1])"
   ]
  }
 ],
 "metadata": {
  "kernelspec": {
   "display_name": "Python 3 (ipykernel)",
   "language": "python",
   "name": "python3"
  },
  "language_info": {
   "codemirror_mode": {
    "name": "ipython",
    "version": 3
   },
   "file_extension": ".py",
   "mimetype": "text/x-python",
   "name": "python",
   "nbconvert_exporter": "python",
   "pygments_lexer": "ipython3",
   "version": "3.9.7"
  }
 },
 "nbformat": 4,
 "nbformat_minor": 5
}
