{
 "cells": [
  {
   "cell_type": "markdown",
   "id": "687d8505",
   "metadata": {},
   "source": [
    "### 1832. Check if the Sentence Is Pangram"
   ]
  },
  {
   "cell_type": "code",
   "execution_count": 97,
   "id": "efb779f0",
   "metadata": {},
   "outputs": [
    {
     "data": {
      "text/plain": [
       "True"
      ]
     },
     "execution_count": 97,
     "metadata": {},
     "output_type": "execute_result"
    }
   ],
   "source": [
    "\"\"\"\n",
    "A pangram is a sentence where every letter of the English alphabet appears at least once.\n",
    "Given a string sentence containing only lowercase English letters, return true if sentence \n",
    "is a pangram, or false otherwise.\n",
    "Example 1:\n",
    "\n",
    "Input: sentence = \"thequickbrownfoxjumpsoverthelazydog\"\n",
    "Output: true\n",
    "Explanation: sentence contains at least one of every letter of the English alphabet.\n",
    "Example 2:\n",
    "\n",
    "Input: sentence = \"leetcode\"\n",
    "Output: false\n",
    "\"\"\"\n",
    "\n",
    "import string # To verify the pangram status it is necessary to import the English lowercase alphabet \n",
    "import re # 're.fullmatch' will inspect the similarity of two inputs\n",
    "\n",
    "\n",
    "class Solution:\n",
    "    def checkIfPangram(self, sentence: str) -> bool:\n",
    "        english_alphabet = string.ascii_lowercase # Let's import the English lowercase alphabet\n",
    "        # As the sentence may have duplicates, we can remove them through the implementation of set structure\n",
    "        # We can sort the sentence and create the new alphabet\n",
    "        # The final step is to check the similarity between two alphabets\n",
    "        sentence = \"\".join(sorted(list(set(sentence))))\n",
    "        if re.fullmatch(english_alphabet, sentence):\n",
    "            return True\n",
    "        return False\n",
    "    \n",
    "a = Solution()\n",
    "a.checkIfPangram(\"thequickbrownfoxjumpsoverthelazydog\")"
   ]
  }
 ],
 "metadata": {
  "kernelspec": {
   "display_name": "Python 3 (ipykernel)",
   "language": "python",
   "name": "python3"
  },
  "language_info": {
   "codemirror_mode": {
    "name": "ipython",
    "version": 3
   },
   "file_extension": ".py",
   "mimetype": "text/x-python",
   "name": "python",
   "nbconvert_exporter": "python",
   "pygments_lexer": "ipython3",
   "version": "3.9.7"
  }
 },
 "nbformat": 4,
 "nbformat_minor": 5
}
