{
 "cells": [
  {
   "cell_type": "markdown",
   "id": "442642eb",
   "metadata": {},
   "source": [
    "### 1844. Replace All Digits with Characters"
   ]
  },
  {
   "cell_type": "code",
   "execution_count": 161,
   "id": "b1596dc6",
   "metadata": {},
   "outputs": [
    {
     "data": {
      "text/plain": [
       "'abbdcfdhe'"
      ]
     },
     "execution_count": 161,
     "metadata": {},
     "output_type": "execute_result"
    }
   ],
   "source": [
    "\"\"\"\n",
    "You are given a 0-indexed string s that has lowercase English letters in its even indices and digits \n",
    "in its odd indices.\n",
    "There is a function shift(c, x), where c is a character and x is a digit, that returns the xth \n",
    "character after c.\n",
    "For example, shift('a', 5) = 'f' and shift('x', 0) = 'x'.\n",
    "For every odd index i, you want to replace the digit s[i] with shift(s[i-1], s[i]).\n",
    "Return s after replacing all digits. It is guaranteed that shift(s[i-1], s[i]) will never exceed 'z'.\n",
    "Example 1:\n",
    "\n",
    "Input: s = \"a1c1e1\"\n",
    "Output: \"abcdef\"\n",
    "Explanation: The digits are replaced as follows:\n",
    "- s[1] -> shift('a',1) = 'b'\n",
    "- s[3] -> shift('c',1) = 'd'\n",
    "- s[5] -> shift('e',1) = 'f'\n",
    "Example 2:\n",
    "\n",
    "Input: s = \"a1b2c3d4e\"\n",
    "Output: \"abbdcfdhe\"\n",
    "Explanation: The digits are replaced as follows:\n",
    "- s[1] -> shift('a',1) = 'b'\n",
    "- s[3] -> shift('b',2) = 'd'\n",
    "- s[5] -> shift('c',3) = 'f'\n",
    "- s[7] -> shift('d',4) = 'h'\n",
    "\"\"\"\n",
    "\n",
    "import string # Let's import the English alphabet (all 26 English letters)\n",
    "\n",
    "class Solution:\n",
    "    def replaceDigits(self, s: str) -> str:\n",
    "        lowercase_ = string.ascii_lowercase # The English alphabet\n",
    "        final = \"\" # The final return string\n",
    "        for i, j in enumerate(s): # 'enumerate' function will help to identify the index and make the final \n",
    "            # decision upon its parity\n",
    "            if i % 2 == 0: # In this case just the letter is added to the final string\n",
    "                final += j\n",
    "            else:\n",
    "                # In other case, we find the relevant letter as a result of the previous letter's forward shift\n",
    "                letter = lowercase_[lowercase_.index(final[-1]) + int(j)]\n",
    "                final += letter\n",
    "        return final # The final string is returned\n",
    "    \n",
    "a = Solution()\n",
    "a.replaceDigits(\"a1b2c3d4e\")"
   ]
  }
 ],
 "metadata": {
  "kernelspec": {
   "display_name": "Python 3 (ipykernel)",
   "language": "python",
   "name": "python3"
  },
  "language_info": {
   "codemirror_mode": {
    "name": "ipython",
    "version": 3
   },
   "file_extension": ".py",
   "mimetype": "text/x-python",
   "name": "python",
   "nbconvert_exporter": "python",
   "pygments_lexer": "ipython3",
   "version": "3.9.7"
  }
 },
 "nbformat": 4,
 "nbformat_minor": 5
}
