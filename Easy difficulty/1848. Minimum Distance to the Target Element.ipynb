{
 "cells": [
  {
   "cell_type": "markdown",
   "id": "7436a5b0",
   "metadata": {},
   "source": [
    "### 1848. Minimum Distance to the Target Element"
   ]
  },
  {
   "cell_type": "code",
   "execution_count": 28,
   "id": "69600659",
   "metadata": {},
   "outputs": [
    {
     "data": {
      "text/plain": [
       "1"
      ]
     },
     "execution_count": 28,
     "metadata": {},
     "output_type": "execute_result"
    }
   ],
   "source": [
    "\"\"\"\n",
    "Given an integer array nums (0-indexed) and two integers target and start, find an index i such that \n",
    "nums[i] == target and abs(i - start) is minimized. Note that abs(x) is the absolute value of x.\n",
    "Return abs(i - start).\n",
    "It is guaranteed that target exists in nums.\n",
    "Example 1:\n",
    "\n",
    "Input: nums = [1,2,3,4,5], target = 5, start = 3\n",
    "Output: 1\n",
    "Explanation: nums[4] = 5 is the only value equal to target, so the answer is abs(4 - 3) = 1.\n",
    "Example 2:\n",
    "\n",
    "Input: nums = [1], target = 1, start = 0\n",
    "Output: 0\n",
    "Explanation: nums[0] = 1 is the only value equal to target, so the answer is abs(0 - 0) = 0.\n",
    "Example 3:\n",
    "\n",
    "Input: nums = [1,1,1,1,1,1,1,1,1,1], target = 1, start = 0\n",
    "Output: 0\n",
    "Explanation: Every value of nums is 1, but nums[0] minimizes abs(i - start), which is abs(0 - 0) = 0.\n",
    "\"\"\"\n",
    "\n",
    "from itertools import count # 'itertools.count' will be used to create the zip_list with elements and their indices\n",
    "\n",
    "class Solution:\n",
    "    def getMinDistance(self, nums: List[int], target: int, start: int) -> int:\n",
    "        my_list = list(zip(nums, count())) # The list with iterables (element + its index) is created\n",
    "        def filter_func(x): # Let's create the function, which will remove all elements, which do not equal \n",
    "            # to the target element\n",
    "            if x[0] == target:\n",
    "                return 1\n",
    "            return 0\n",
    "        my_list = list(filter(filter_func, my_list)) # The implementation of the aforementioned function\n",
    "        indices = list(map(lambda x: x[1], my_list)) # The next step is to eliminate elements themselves from the list\n",
    "        # So finally only indices of the pertinent elements remain in the list\n",
    "        minimized = float(\"inf\")\n",
    "        # The final operation is to loop over all indices of the list and figure out the most appropriate index option\n",
    "        for i in indices:\n",
    "            if abs(i - start) < minimized:\n",
    "                minimized = abs(i - start)\n",
    "        return minimized\n",
    "\n",
    "a = Solution()\n",
    "a.getMinDistance([1,2,3,4,5], 5, 3)"
   ]
  }
 ],
 "metadata": {
  "kernelspec": {
   "display_name": "Python 3 (ipykernel)",
   "language": "python",
   "name": "python3"
  },
  "language_info": {
   "codemirror_mode": {
    "name": "ipython",
    "version": 3
   },
   "file_extension": ".py",
   "mimetype": "text/x-python",
   "name": "python",
   "nbconvert_exporter": "python",
   "pygments_lexer": "ipython3",
   "version": "3.9.7"
  }
 },
 "nbformat": 4,
 "nbformat_minor": 5
}
