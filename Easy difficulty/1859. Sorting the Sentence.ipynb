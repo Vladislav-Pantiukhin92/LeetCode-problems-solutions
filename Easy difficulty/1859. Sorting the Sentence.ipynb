{
 "cells": [
  {
   "cell_type": "markdown",
   "id": "51502b96",
   "metadata": {},
   "source": [
    "### 1859. Sorting the Sentence"
   ]
  },
  {
   "cell_type": "code",
   "execution_count": 273,
   "id": "1bb2224b",
   "metadata": {},
   "outputs": [
    {
     "name": "stdout",
     "output_type": "stream",
     "text": [
      "This is a sentence\n"
     ]
    }
   ],
   "source": [
    "\"\"\"\n",
    "A sentence is a list of words that are separated by a single space with no leading or trailing spaces. \n",
    "Each word consists of lowercase and uppercase English letters.\n",
    "A sentence can be shuffled by appending the 1-indexed word position to each word then rearranging \n",
    "the words in the sentence.\n",
    "For example, the sentence \"This is a sentence\" can be shuffled as \"sentence4 a3 is2 This1\" or \"is2 sentence4 This1 a3\".\n",
    "Given a shuffled sentence s containing no more than 9 words, reconstruct and return the original sentence.\n",
    "Example 1:\n",
    "\n",
    "Input: s = \"is2 sentence4 This1 a3\"\n",
    "Output: \"This is a sentence\"\n",
    "Explanation: Sort the words in s to their original positions \"This1 is2 a3 sentence4\", then remove the numbers.\n",
    "Example 2:\n",
    "\n",
    "Input: s = \"Myself2 Me1 I4 and3\"\n",
    "Output: \"Me Myself and I\"\n",
    "Explanation: Sort the words in s to their original positions \"Me1 Myself2 and3 I4\", then remove the numbers.\n",
    "\"\"\"\n",
    "\n",
    "# SOLUTION №1\n",
    "\n",
    "class Solution:\n",
    "    def sortSentence(self, s: str) -> str:\n",
    "        my_list = s.split() # It is necessary to split the input string into the list of words\n",
    "        # After that it is possible to use a sort algorithm (in this case, the Bubble Sort algorithm)\n",
    "        # to insert elements in proper order (while sorting, the focus exclusively on the last character - digit)\n",
    "        for i in range(len(my_list)):\n",
    "            for j in range(len(my_list) - i - 1):\n",
    "                if int(my_list[j][-1]) > int(my_list[j + 1][-1]):\n",
    "                    temp = my_list[j]\n",
    "                    my_list[j] = my_list[j + 1]\n",
    "                    my_list[j + 1] = temp\n",
    "        # The final step is to remove digits and transform the list into the output string\n",
    "        final = list(map(lambda x: x[:-1], my_list))\n",
    "        return \" \".join(final)\n",
    "    \n",
    "a = Solution()\n",
    "print(a.sortSentence(\"is2 sentence4 This1 a3\"))"
   ]
  },
  {
   "cell_type": "code",
   "execution_count": 274,
   "id": "5608d9ac",
   "metadata": {},
   "outputs": [
    {
     "data": {
      "text/plain": [
       "'This is a sentence'"
      ]
     },
     "execution_count": 274,
     "metadata": {},
     "output_type": "execute_result"
    }
   ],
   "source": [
    "# SOLUTION №2\n",
    "\n",
    "import re # Regular expressions\n",
    "from operator import *\n",
    "\n",
    "class Solution:\n",
    "    def sortSentence(self, s: str) -> str:\n",
    "        # Two lists are formed: the first one is a list with digits, the second one is a list with words\n",
    "        digits = re.findall(r\"\\d+\", s)\n",
    "        words = re.findall(r\"[A-Za-z]+\", s)\n",
    "        # Zip_list (list of tuples) is created and sorted\n",
    "        aggregation_list = list(map(lambda x: x[0], sorted(list(zip(words, digits)), key=itemgetter(1))))\n",
    "        # Finally, the list of tuples is transformed into the output string\n",
    "        return \" \".join(aggregation_list)\n",
    "    \n",
    "a = Solution()\n",
    "a.sortSentence(\"is2 sentence4 This1 a3\")"
   ]
  },
  {
   "cell_type": "code",
   "execution_count": 275,
   "id": "e5bc41f6",
   "metadata": {},
   "outputs": [
    {
     "data": {
      "text/plain": [
       "'This is a sentence'"
      ]
     },
     "execution_count": 275,
     "metadata": {},
     "output_type": "execute_result"
    }
   ],
   "source": [
    "# SOLUTION №3\n",
    "\n",
    "class Solution:\n",
    "    def sortSentence(self, s: str) -> str:\n",
    "        # The input string is transformed into the list of words and simultaneously it is sorted in accordance with the\n",
    "        # final character\n",
    "        my_list = sorted(s.split(), key=lambda x: x[-1])\n",
    "        # The final digit characters are removed\n",
    "        final = list(map(lambda x: x[:-1], my_list))\n",
    "        # The list is transformed into the string again\n",
    "        return \" \".join(final)\n",
    "    \n",
    "a = Solution()\n",
    "a.sortSentence(\"is2 sentence4 This1 a3\")"
   ]
  },
  {
   "cell_type": "code",
   "execution_count": 276,
   "id": "a45cd754",
   "metadata": {},
   "outputs": [
    {
     "data": {
      "text/plain": [
       "'This is a sentence'"
      ]
     },
     "execution_count": 276,
     "metadata": {},
     "output_type": "execute_result"
    }
   ],
   "source": [
    "# SOLUTION №4\n",
    "\n",
    "class Solution:\n",
    "    def sortSentence(self, s: str) -> str:\n",
    "        my_list = s.split() # Again the list of words is obtained\n",
    "        # The count begins \n",
    "        curOrder = 1\n",
    "        final = []\n",
    "        # Digits at the end of words are compared with the initialized count \n",
    "        # If the corresponding digit is found, then, the relevant word is inserted properly\n",
    "        while curOrder <= len(my_list):\n",
    "            for j in my_list:\n",
    "                if j.endswith(str(curOrder)):\n",
    "                    j = j.rstrip(str(curOrder))\n",
    "                    final.append(j)\n",
    "                    break\n",
    "            curOrder += 1\n",
    "            # The string output as well\n",
    "        return \" \".join(final)\n",
    "    \n",
    "a = Solution()\n",
    "a.sortSentence(\"is2 sentence4 This1 a3\")"
   ]
  }
 ],
 "metadata": {
  "kernelspec": {
   "display_name": "Python 3 (ipykernel)",
   "language": "python",
   "name": "python3"
  },
  "language_info": {
   "codemirror_mode": {
    "name": "ipython",
    "version": 3
   },
   "file_extension": ".py",
   "mimetype": "text/x-python",
   "name": "python",
   "nbconvert_exporter": "python",
   "pygments_lexer": "ipython3",
   "version": "3.9.7"
  }
 },
 "nbformat": 4,
 "nbformat_minor": 5
}
