{
 "cells": [
  {
   "cell_type": "markdown",
   "id": "fddd9c07",
   "metadata": {},
   "source": [
    "### 1869. Longer Contiguous Segments of Ones than Zeros"
   ]
  },
  {
   "cell_type": "code",
   "execution_count": 58,
   "id": "c88d2774",
   "metadata": {},
   "outputs": [
    {
     "data": {
      "text/plain": [
       "False"
      ]
     },
     "execution_count": 58,
     "metadata": {},
     "output_type": "execute_result"
    }
   ],
   "source": [
    "\"\"\"\n",
    "Given a binary string s, return true if the longest contiguous segment of 1's is strictly longer than \n",
    "the longest contiguous segment of 0's in s, or return false otherwise.\n",
    "For example, in s = \"110100010\" the longest continuous segment of 1s has length 2, and the longest \n",
    "continuous segment of 0s has length 3.\n",
    "Note that if there are no 0's, then the longest continuous segment of 0's is considered to have a \n",
    "length 0. The same applies if there is no 1's.\n",
    "Example 1:\n",
    "\n",
    "Input: s = \"1101\"\n",
    "Output: true\n",
    "Explanation:\n",
    "The longest contiguous segment of 1s has length 2: \"1101\"\n",
    "The longest contiguous segment of 0s has length 1: \"1101\"\n",
    "The segment of 1s is longer, so return true.\n",
    "Example 2:\n",
    "\n",
    "Input: s = \"111000\"\n",
    "Output: false\n",
    "Explanation:\n",
    "The longest contiguous segment of 1s has length 3: \"111000\"\n",
    "The longest contiguous segment of 0s has length 3: \"111000\"\n",
    "The segment of 1s is not longer, so return false.\n",
    "Example 3:\n",
    "\n",
    "Input: s = \"110100010\"\n",
    "Output: false\n",
    "Explanation:\n",
    "The longest contiguous segment of 1s has length 2: \"110100010\"\n",
    "The longest contiguous segment of 0s has length 3: \"110100010\"\n",
    "The segment of 1s is not longer, so return false.\n",
    "\"\"\"\n",
    "\n",
    "import re # Regular expressions will help to extract chunks of \"1\" and \"0\"\n",
    "\n",
    "class Solution:\n",
    "    def checkZeroOnes(self, s: str) -> bool:\n",
    "        list_1 = sorted(re.findall(r\"[1]+\", s), key=len) # Chunks of \"1\", sorted with regard to the length         \n",
    "        list_0 = sorted(re.findall(r\"[0]+\", s), key=len) # Chunks of \"0\", sorted with regard to the length\n",
    "        if not list_1: # If the input string doesn't contain ones - the number of zeros is bigger - return False\n",
    "            return False\n",
    "        elif not list_0: # If the input string doesn't contain zeros - the number of ones is bigger - return True\n",
    "            return True\n",
    "        else:\n",
    "            # Otherwise, we take the longest chunks (the last elements within both sorted lists) and compare them\n",
    "            longest_1 = list_1[-1]\n",
    "            longest_0 = list_0[-1]\n",
    "            return len(longest_1) > len(longest_0)\n",
    "        \n",
    "a = Solution()\n",
    "a.checkZeroOnes(\"110100010\")"
   ]
  }
 ],
 "metadata": {
  "kernelspec": {
   "display_name": "Python 3 (ipykernel)",
   "language": "python",
   "name": "python3"
  },
  "language_info": {
   "codemirror_mode": {
    "name": "ipython",
    "version": 3
   },
   "file_extension": ".py",
   "mimetype": "text/x-python",
   "name": "python",
   "nbconvert_exporter": "python",
   "pygments_lexer": "ipython3",
   "version": "3.9.7"
  }
 },
 "nbformat": 4,
 "nbformat_minor": 5
}
