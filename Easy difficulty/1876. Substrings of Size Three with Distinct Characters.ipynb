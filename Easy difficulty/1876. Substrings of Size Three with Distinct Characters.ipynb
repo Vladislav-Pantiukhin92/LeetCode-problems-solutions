{
 "cells": [
  {
   "cell_type": "markdown",
   "id": "33bc81bf",
   "metadata": {},
   "source": [
    "### 1876. Substrings of Size Three with Distinct Characters"
   ]
  },
  {
   "cell_type": "code",
   "execution_count": 4,
   "id": "c84fdeea",
   "metadata": {},
   "outputs": [
    {
     "data": {
      "text/plain": [
       "4"
      ]
     },
     "execution_count": 4,
     "metadata": {},
     "output_type": "execute_result"
    }
   ],
   "source": [
    "\"\"\"\n",
    "A string is good if there are no repeated characters.\n",
    "Given a string s, return the number of good substrings of length three in s.\n",
    "Note that if there are multiple occurrences of the same substring, every occurrence should be counted.\n",
    "A substring is a contiguous sequence of characters in a string.\n",
    "Example 1:\n",
    "\n",
    "Input: s = \"xyzzaz\"\n",
    "Output: 1\n",
    "Explanation: There are 4 substrings of size 3: \"xyz\", \"yzz\", \"zza\", and \"zaz\". \n",
    "The only good substring of length 3 is \"xyz\".\n",
    "Example 2:\n",
    "\n",
    "Input: s = \"aababcabc\"\n",
    "Output: 4\n",
    "Explanation: There are 7 substrings of size 3: \"aab\", \"aba\", \"bab\", \"abc\", \"bca\", \"cab\", and \"abc\".\n",
    "The good substrings are \"abc\", \"bca\", \"cab\", and \"abc\".\n",
    "\"\"\"\n",
    "\n",
    "class Solution:\n",
    "    def countGoodSubstrings(self, s: str) -> int:\n",
    "        goodSub = 0 # We are going to count the number of good strings\n",
    "        # In order to solve the problem we need to use two variables with 3-characters gap\n",
    "        # Each time we will compare two lengths: the length of the ordinary slice within [i:j] and the length\n",
    "        # of the slice set (which removes duplicates)\n",
    "        i = 0 \n",
    "        j = 3\n",
    "        while j <= len(s):\n",
    "            subString = s[i:j]\n",
    "            if len(subString) == len(set(subString)): # The set structure will show duplicates within the string slice\n",
    "                # If two lengths are different, it means the the slice contains duplicates, so it is not a good string\n",
    "                goodSub += 1 # If two lengths are equal, it means that no duplicates were removed, so it is a good string\n",
    "            i += 1\n",
    "            j += 1\n",
    "        return goodSub\n",
    "    \n",
    "a = Solution()\n",
    "a.countGoodSubstrings(\"aababcabc\")"
   ]
  }
 ],
 "metadata": {
  "kernelspec": {
   "display_name": "Python 3 (ipykernel)",
   "language": "python",
   "name": "python3"
  },
  "language_info": {
   "codemirror_mode": {
    "name": "ipython",
    "version": 3
   },
   "file_extension": ".py",
   "mimetype": "text/x-python",
   "name": "python",
   "nbconvert_exporter": "python",
   "pygments_lexer": "ipython3",
   "version": "3.9.7"
  }
 },
 "nbformat": 4,
 "nbformat_minor": 5
}
