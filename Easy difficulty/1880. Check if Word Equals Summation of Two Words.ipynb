{
 "cells": [
  {
   "cell_type": "markdown",
   "id": "41d0f6d5",
   "metadata": {},
   "source": [
    "### 1880. Check if Word Equals Summation of Two Words"
   ]
  },
  {
   "cell_type": "code",
   "execution_count": 55,
   "id": "e016da33",
   "metadata": {},
   "outputs": [
    {
     "data": {
      "text/plain": [
       "True"
      ]
     },
     "execution_count": 55,
     "metadata": {},
     "output_type": "execute_result"
    }
   ],
   "source": [
    "\"\"\"\n",
    "The letter value of a letter is its position in the alphabet starting from 0 (i.e. 'a' -> 0, 'b' -> 1, 'c' -> 2, etc.).\n",
    "The numerical value of some string of lowercase English letters s is the concatenation of the letter \n",
    "values of each letter in s, which is then converted into an integer.\n",
    "For example, if s = \"acb\", we concatenate each letter's letter value, resulting in \"021\". \n",
    "After converting it, we get 21.\n",
    "You are given three strings firstWord, secondWord, and targetWord, each consisting of lowercase \n",
    "English letters 'a' through 'j' inclusive.\n",
    "Return true if the summation of the numerical values of firstWord and secondWord equals the numerical \n",
    "value of targetWord, or false otherwise.\n",
    "Example 1:\n",
    "\n",
    "Input: firstWord = \"acb\", secondWord = \"cba\", targetWord = \"cdb\"\n",
    "Output: true\n",
    "Explanation:\n",
    "The numerical value of firstWord is \"acb\" -> \"021\" -> 21.\n",
    "The numerical value of secondWord is \"cba\" -> \"210\" -> 210.\n",
    "The numerical value of targetWord is \"cdb\" -> \"231\" -> 231.\n",
    "We return true because 21 + 210 == 231.\n",
    "Example 2:\n",
    "\n",
    "Input: firstWord = \"aaa\", secondWord = \"a\", targetWord = \"aab\"\n",
    "Output: false\n",
    "Explanation: \n",
    "The numerical value of firstWord is \"aaa\" -> \"000\" -> 0.\n",
    "The numerical value of secondWord is \"a\" -> \"0\" -> 0.\n",
    "The numerical value of targetWord is \"aab\" -> \"001\" -> 1.\n",
    "We return false because 0 + 0 != 1.\n",
    "Example 3:\n",
    "\n",
    "Input: firstWord = \"aaa\", secondWord = \"a\", targetWord = \"aaaa\"\n",
    "Output: true\n",
    "Explanation: \n",
    "The numerical value of firstWord is \"aaa\" -> \"000\" -> 0.\n",
    "The numerical value of secondWord is \"a\" -> \"0\" -> 0.\n",
    "The numerical value of targetWord is \"aaaa\" -> \"0000\" -> 0.\n",
    "We return true because 0 + 0 == 0.\n",
    "\"\"\"\n",
    "\n",
    "import string # Let's import the English alphabet (26 letters)\n",
    "import re # Regular expressions will help to inspect the similarity of two strings\n",
    "\n",
    "class Solution:\n",
    "    def isSumEqual(self, firstWord: str, secondWord: str, targetWord: str) -> bool:\n",
    "        alphabet = string.ascii_lowercase # The English alphabet\n",
    "        num_range = list(map(str, list(range(0, 27)))) # The corresponding numeric representation of letters\n",
    "        num_repr = dict(list(zip(alphabet, num_range))) # We are going to create the dictionary with letters\n",
    "        # as keys and numeric representation as values\n",
    "        # The following step is to transform the input strings into integers, which are to be added together\n",
    "        convert1 = int(\"\".join(list(map(lambda x: num_repr[x], list(firstWord)))))\n",
    "        convert2 = int(\"\".join(list(map(lambda x: num_repr[x], list(secondWord)))))\n",
    "        sum_res = str(convert1 + convert2)\n",
    "        target_sum = \"\"\n",
    "        for i in targetWord: # The target word is transformed as well to check the compatibility of two strings\n",
    "            target_sum += num_repr[i]\n",
    "        target_sum = str(int(target_sum))\n",
    "        \n",
    "        if re.fullmatch(sum_res, target_sum): # With the help of regular expressions we can be able to establish \n",
    "            # the total similarity of two obtained strings and return True or False respectively\n",
    "            return True\n",
    "        return False\n",
    "    \n",
    "a = Solution()\n",
    "a.isSumEqual(\"aaa\", \"a\", \"aaaa\")"
   ]
  }
 ],
 "metadata": {
  "kernelspec": {
   "display_name": "Python 3 (ipykernel)",
   "language": "python",
   "name": "python3"
  },
  "language_info": {
   "codemirror_mode": {
    "name": "ipython",
    "version": 3
   },
   "file_extension": ".py",
   "mimetype": "text/x-python",
   "name": "python",
   "nbconvert_exporter": "python",
   "pygments_lexer": "ipython3",
   "version": "3.9.7"
  }
 },
 "nbformat": 4,
 "nbformat_minor": 5
}
