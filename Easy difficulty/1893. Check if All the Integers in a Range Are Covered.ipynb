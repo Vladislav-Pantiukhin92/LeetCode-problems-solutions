{
 "cells": [
  {
   "cell_type": "markdown",
   "id": "6e989ee7",
   "metadata": {},
   "source": [
    "### 1893. Check if All the Integers in a Range Are Covered"
   ]
  },
  {
   "cell_type": "code",
   "execution_count": 18,
   "id": "e7885d3d",
   "metadata": {},
   "outputs": [
    {
     "data": {
      "text/plain": [
       "True"
      ]
     },
     "execution_count": 18,
     "metadata": {},
     "output_type": "execute_result"
    }
   ],
   "source": [
    "\"\"\"\n",
    "You are given a 2D integer array ranges and two integers left and right. Each ranges[i] = [starti, endi] \n",
    "represents an inclusive interval between starti and endi.\n",
    "Return true if each integer in the inclusive range [left, right] is covered by at least one interval in \n",
    "ranges. Return false otherwise.\n",
    "An integer x is covered by an interval ranges[i] = [starti, endi] if starti <= x <= endi.\n",
    "Example 1:\n",
    "\n",
    "Input: ranges = [[1,2],[3,4],[5,6]], left = 2, right = 5\n",
    "Output: true\n",
    "Explanation: Every integer between 2 and 5 is covered:\n",
    "- 2 is covered by the first range.\n",
    "- 3 and 4 are covered by the second range.\n",
    "- 5 is covered by the third range.\n",
    "Example 2:\n",
    "\n",
    "Input: ranges = [[1,10],[10,20]], left = 21, right = 21\n",
    "Output: false\n",
    "Explanation: 21 is not covered by any range.\n",
    "\"\"\"\n",
    "\n",
    "class Solution:\n",
    "    def isCovered(self, ranges: List[List[int]], left: int, right: int) -> bool:\n",
    "        sequence = list(range(left, right + 1)) # Let's reproduce the sequence of numbers from left to right \n",
    "        # inclusively\n",
    "        for i in ranges: # As we have the reproduced sequence of numbers right now - we will compare elements\n",
    "            # from each range and elements from the input sequence\n",
    "            start = i[0]\n",
    "            end = i[1] + 1\n",
    "            curRange = list(range(start, end))\n",
    "            for i in curRange: # If an element from the range exists within the sequence - we remove it from \n",
    "                # the sequence\n",
    "                 if i in sequence:\n",
    "                        sequence.remove(i)\n",
    "        if sequence: # Finally, we return True if the sequence contains nothing, and we return False, if the \n",
    "            # sequence still contains some elements\n",
    "            return False\n",
    "        return True\n",
    "    \n",
    "a = Solution()\n",
    "a.isCovered([[1,2],[3,4],[5,6]], 2, 5)"
   ]
  }
 ],
 "metadata": {
  "kernelspec": {
   "display_name": "Python 3 (ipykernel)",
   "language": "python",
   "name": "python3"
  },
  "language_info": {
   "codemirror_mode": {
    "name": "ipython",
    "version": 3
   },
   "file_extension": ".py",
   "mimetype": "text/x-python",
   "name": "python",
   "nbconvert_exporter": "python",
   "pygments_lexer": "ipython3",
   "version": "3.9.7"
  }
 },
 "nbformat": 4,
 "nbformat_minor": 5
}
