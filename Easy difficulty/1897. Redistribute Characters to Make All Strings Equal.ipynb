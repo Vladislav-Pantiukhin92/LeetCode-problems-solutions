{
 "cells": [
  {
   "cell_type": "markdown",
   "id": "d0dd0eba",
   "metadata": {},
   "source": [
    "### 1897. Redistribute Characters to Make All Strings Equal"
   ]
  },
  {
   "cell_type": "code",
   "execution_count": 68,
   "id": "0a4cc9de",
   "metadata": {},
   "outputs": [
    {
     "data": {
      "text/plain": [
       "True"
      ]
     },
     "execution_count": 68,
     "metadata": {},
     "output_type": "execute_result"
    }
   ],
   "source": [
    "\"\"\"\n",
    "You are given an array of strings words (0-indexed).\n",
    "In one operation, pick two distinct indices i and j, where words[i] is a non-empty string, and move any \n",
    "character from words[i] to any position in words[j].\n",
    "Return true if you can make every string in words equal using any number of operations, and false otherwise.\n",
    "Example 1:\n",
    "\n",
    "Input: words = [\"abc\",\"aabc\",\"bc\"]\n",
    "Output: true\n",
    "Explanation: Move the first 'a' in words[1] to the front of words[2],\n",
    "to make words[1] = \"abc\" and words[2] = \"abc\".\n",
    "All the strings are now equal to \"abc\", so return true.\n",
    "Example 2:\n",
    "\n",
    "Input: words = [\"ab\",\"a\"]\n",
    "Output: false\n",
    "Explanation: It is impossible to make all the strings equal using the operation.\n",
    "\"\"\"\n",
    "\n",
    "from collections import Counter # 'collections.Counter' will count the occurrence of letters; this number\n",
    "# will be used to determine the possibility of making all strings equal \n",
    "\n",
    "class Solution:\n",
    "    def makeEqual(self, words: List[str]) -> bool:\n",
    "        length = len(words) # We need to know the number of words within the input list\n",
    "        words = \"\".join(words) # We merge all words together\n",
    "        occurrenceDict = dict(Counter(words)) # The dictionary with occurrences is created\n",
    "        for i in occurrenceDict:\n",
    "        # If we have a remainder from the below-mentioned division - the return result is False\n",
    "            if occurrenceDict[i] % length != 0:\n",
    "                return False\n",
    "        # Otherwise, we return True\n",
    "        return True\n",
    "    \n",
    "a = Solution()\n",
    "a.makeEqual([\"abc\",\"aabc\",\"bc\"])"
   ]
  }
 ],
 "metadata": {
  "kernelspec": {
   "display_name": "Python 3 (ipykernel)",
   "language": "python",
   "name": "python3"
  },
  "language_info": {
   "codemirror_mode": {
    "name": "ipython",
    "version": 3
   },
   "file_extension": ".py",
   "mimetype": "text/x-python",
   "name": "python",
   "nbconvert_exporter": "python",
   "pygments_lexer": "ipython3",
   "version": "3.9.7"
  }
 },
 "nbformat": 4,
 "nbformat_minor": 5
}
