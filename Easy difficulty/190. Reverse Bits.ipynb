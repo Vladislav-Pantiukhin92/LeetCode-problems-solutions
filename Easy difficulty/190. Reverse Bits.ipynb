{
 "cells": [
  {
   "cell_type": "markdown",
   "id": "ccad8471",
   "metadata": {},
   "source": [
    "### 190. Reverse Bits"
   ]
  },
  {
   "cell_type": "code",
   "execution_count": 4,
   "id": "fb933acd",
   "metadata": {},
   "outputs": [
    {
     "data": {
      "text/plain": [
       "964176192"
      ]
     },
     "execution_count": 4,
     "metadata": {},
     "output_type": "execute_result"
    }
   ],
   "source": [
    "\"\"\"\n",
    "Reverse bits of a given 32 bits unsigned integer.\n",
    "Example 1:\n",
    "\n",
    "Input: n = 00000010100101000001111010011100\n",
    "Output:    964176192 (00111001011110000010100101000000)\n",
    "Explanation: The input binary string 00000010100101000001111010011100 represents the unsigned integer \n",
    "43261596, so return 964176192 which its binary representation is 00111001011110000010100101000000.\n",
    "Example 2:\n",
    "\n",
    "Input: n = 11111111111111111111111111111101\n",
    "Output:   3221225471 (10111111111111111111111111111111)\n",
    "Explanation: The input binary string 11111111111111111111111111111101 represents the unsigned integer \n",
    "4294967293, so return 3221225471 which its binary representation is 10111111111111111111111111111111.\n",
    "\"\"\"\n",
    "\n",
    "class Solution:\n",
    "    def reverseBits(self, n: int) -> int:\n",
    "    # The given input integer is transformed into its binary representation (with the relevant amount of zeros\n",
    "    # in front of it). The binary representation is reversed and transformed into the integer type again.\n",
    "        n = bin(n).lstrip(\"0b\").zfill(32)[::-1]\n",
    "        return int(n, 2) # The obtained integer is returned\n",
    "    \n",
    "a = Solution()\n",
    "a.reverseBits(43261596)"
   ]
  }
 ],
 "metadata": {
  "kernelspec": {
   "display_name": "Python 3 (ipykernel)",
   "language": "python",
   "name": "python3"
  },
  "language_info": {
   "codemirror_mode": {
    "name": "ipython",
    "version": 3
   },
   "file_extension": ".py",
   "mimetype": "text/x-python",
   "name": "python",
   "nbconvert_exporter": "python",
   "pygments_lexer": "ipython3",
   "version": "3.9.7"
  }
 },
 "nbformat": 4,
 "nbformat_minor": 5
}
