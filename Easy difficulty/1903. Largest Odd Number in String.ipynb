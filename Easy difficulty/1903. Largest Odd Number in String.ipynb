{
 "cells": [
  {
   "cell_type": "markdown",
   "id": "ccad8471",
   "metadata": {},
   "source": [
    "### 1903. Largest Odd Number in String"
   ]
  },
  {
   "cell_type": "code",
   "execution_count": 5,
   "id": "ee651354",
   "metadata": {},
   "outputs": [
    {
     "data": {
      "text/plain": [
       "'21'"
      ]
     },
     "execution_count": 5,
     "metadata": {},
     "output_type": "execute_result"
    }
   ],
   "source": [
    "\"\"\"\n",
    "You are given a string num, representing a large integer. Return the largest-valued odd integer \n",
    "(as a string) that is a non-empty substring of num, or an empty string \"\" if no odd integer exists.\n",
    "A substring is a contiguous sequence of characters within a string.\n",
    "\n",
    "Example 1:\n",
    "\n",
    "Input: num = \"52\"\n",
    "Output: \"5\"\n",
    "Explanation: The only non-empty substrings are \"5\", \"2\", and \"52\". \"5\" is the only odd number.\n",
    "Example 2:\n",
    "\n",
    "Input: num = \"4206\"\n",
    "Output: \"\"\n",
    "Explanation: There are no odd numbers in \"4206\".\n",
    "Example 3:\n",
    "\n",
    "Input: num = \"35427\"\n",
    "Output: \"35427\"\n",
    "Explanation: \"35427\" is already an odd number.\n",
    "\"\"\"\n",
    "\n",
    "class Solution:\n",
    "    def largestOddNumber(self, num: str) -> str:\n",
    "        if len(num) == 1 and int(num) % 2 == 0: # If the length of the given input string is just 1, and the \n",
    "            # string number is even - we return an empty string \"\"\n",
    "            return \"\"\n",
    "        indices = [] # It is the list container, which will store indices of string numbers, which are odd\n",
    "        for i, j in enumerate(num): # The 'enumerate' function is to be used to iterate both over indices and elements\n",
    "            if int(j) % 2 != 0:\n",
    "                indices.append(i) # All the indices are appended to the list container\n",
    "        if not indices: # If the list with indices contains nothing - we return an empty string \"\"\n",
    "            return \"\"\n",
    "        end = indices[-1] # Otherwise, we return the slice from the start of the string till the last index within the \n",
    "        # list with indices\n",
    "        return num[:end + 1]\n",
    "\n",
    "\n",
    "a = Solution()\n",
    "a.largestOddNumber(\"21\")"
   ]
  }
 ],
 "metadata": {
  "kernelspec": {
   "display_name": "Python 3 (ipykernel)",
   "language": "python",
   "name": "python3"
  },
  "language_info": {
   "codemirror_mode": {
    "name": "ipython",
    "version": 3
   },
   "file_extension": ".py",
   "mimetype": "text/x-python",
   "name": "python",
   "nbconvert_exporter": "python",
   "pygments_lexer": "ipython3",
   "version": "3.9.7"
  }
 },
 "nbformat": 4,
 "nbformat_minor": 5
}
