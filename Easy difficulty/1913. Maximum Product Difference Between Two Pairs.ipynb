{
 "cells": [
  {
   "cell_type": "markdown",
   "id": "85f344a5",
   "metadata": {},
   "source": [
    "### 1913. Maximum Product Difference Between Two Pairs"
   ]
  },
  {
   "cell_type": "code",
   "execution_count": 5,
   "id": "fca243eb",
   "metadata": {},
   "outputs": [
    {
     "data": {
      "text/plain": [
       "64"
      ]
     },
     "execution_count": 5,
     "metadata": {},
     "output_type": "execute_result"
    }
   ],
   "source": [
    "\"\"\"\n",
    "The product difference between two pairs (a, b) and (c, d) is defined as (a * b) - (c * d).\n",
    "For example, the product difference between (5, 6) and (2, 7) is (5 * 6) - (2 * 7) = 16.\n",
    "Given an integer array nums, choose four distinct indices w, x, y, and z such that the product difference \n",
    "between pairs (nums[w], nums[x]) and (nums[y], nums[z]) is maximized.\n",
    "Return the maximum such product difference.\n",
    "Example 1:\n",
    "\n",
    "Input: nums = [5,6,2,7,4]\n",
    "Output: 34\n",
    "Explanation: We can choose indices 1 and 3 for the first pair (6, 7) and indices 2 and 4 for the second pair (2, 4).\n",
    "The product difference is (6 * 7) - (2 * 4) = 34.\n",
    "Example 2:\n",
    "\n",
    "Input: nums = [4,2,5,9,7,4,8]\n",
    "Output: 64\n",
    "Explanation: We can choose indices 3 and 6 for the first pair (9, 8) and indices 1 and 5 for the second pair (2, 4).\n",
    "The product difference is (9 * 8) - (2 * 4) = 64.\n",
    "\"\"\"\n",
    "\n",
    "from heapq import nlargest # 'heapq.nlargest' will find the certain amount of maxElements within the input list\n",
    "from heapq import nsmallest # 'heapq.nsmallest' will find the certain amount of minElements within the input list\n",
    "from functools import reduce # 'functools.reduce' will execute the product operation within an iterable of the list\n",
    "\n",
    "class Solution:\n",
    "    def maxProductDifference(self, nums: List[int]) -> int:\n",
    "        largest_product = reduce(lambda x, y: x * y, nlargest(2, nums)) # We find two the largest elements within \n",
    "        # the input list, as well as we calculate their product\n",
    "        smallest_product = reduce(lambda x, y: x * y, nsmallest(2, nums)) # We find two the smallest elements within \n",
    "        # the input list, as well as we calculate their product\n",
    "        return largest_product - smallest_product # The final result is the difference between the largest product \n",
    "    # and the smallest product\n",
    "    \n",
    "a = Solution()\n",
    "a.maxProductDifference([4,2,5,9,7,4,8])"
   ]
  }
 ],
 "metadata": {
  "kernelspec": {
   "display_name": "Python 3 (ipykernel)",
   "language": "python",
   "name": "python3"
  },
  "language_info": {
   "codemirror_mode": {
    "name": "ipython",
    "version": 3
   },
   "file_extension": ".py",
   "mimetype": "text/x-python",
   "name": "python",
   "nbconvert_exporter": "python",
   "pygments_lexer": "ipython3",
   "version": "3.9.7"
  }
 },
 "nbformat": 4,
 "nbformat_minor": 5
}
