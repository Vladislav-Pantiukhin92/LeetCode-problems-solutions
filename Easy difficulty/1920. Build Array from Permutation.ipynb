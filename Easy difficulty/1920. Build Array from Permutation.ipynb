{
 "cells": [
  {
   "cell_type": "markdown",
   "id": "fc426651",
   "metadata": {},
   "source": [
    "### 1920. Build Array from Permutation"
   ]
  },
  {
   "cell_type": "code",
   "execution_count": 72,
   "id": "85355a03",
   "metadata": {},
   "outputs": [
    {
     "data": {
      "text/plain": [
       "[4, 5, 0, 1, 2, 3]"
      ]
     },
     "execution_count": 72,
     "metadata": {},
     "output_type": "execute_result"
    }
   ],
   "source": [
    "\"\"\"\n",
    "Given a zero-based permutation nums (0-indexed), build an array ans of the same length where ans[i] = \n",
    "nums[nums[i]] for each 0 <= i < nums.length and return it.\n",
    "A zero-based permutation nums is an array of distinct integers from 0 to nums.length - 1 (inclusive).\n",
    "Example 1:\n",
    "\n",
    "Input: nums = [0,2,1,5,3,4]\n",
    "Output: [0,1,2,4,5,3]\n",
    "Explanation: The array ans is built as follows: \n",
    "ans = [nums[nums[0]], nums[nums[1]], nums[nums[2]], nums[nums[3]], nums[nums[4]], nums[nums[5]]]\n",
    "    = [nums[0], nums[2], nums[1], nums[5], nums[3], nums[4]]\n",
    "    = [0,1,2,4,5,3]\n",
    "Example 2:\n",
    "\n",
    "Input: nums = [5,0,1,2,3,4]\n",
    "Output: [4,5,0,1,2,3]\n",
    "Explanation: The array ans is built as follows:\n",
    "ans = [nums[nums[0]], nums[nums[1]], nums[nums[2]], nums[nums[3]], nums[nums[4]], nums[nums[5]]]\n",
    "    = [nums[5], nums[0], nums[1], nums[2], nums[3], nums[4]]\n",
    "    = [4,5,0,1,2,3]\n",
    "\"\"\"\n",
    "\n",
    "class Solution:\n",
    "    def buildArray(self, nums: List[int]) -> List[int]:\n",
    "        final_arr = [0 for _ in range(len(nums))] # First of all, let's create the final array, which will\n",
    "        # initially store only default values - zeros\n",
    "        for i, j in enumerate(nums): # The 'enumerate' function will iterate over both indices and values, so \n",
    "            # the relevant values will be replicated within the final array\n",
    "            final_arr[i] = nums[nums[i]]\n",
    "        return final_arr # The final array is returned\n",
    "    \n",
    "a = Solution()\n",
    "a.buildArray([5,0,1,2,3,4])"
   ]
  }
 ],
 "metadata": {
  "kernelspec": {
   "display_name": "Python 3 (ipykernel)",
   "language": "python",
   "name": "python3"
  },
  "language_info": {
   "codemirror_mode": {
    "name": "ipython",
    "version": 3
   },
   "file_extension": ".py",
   "mimetype": "text/x-python",
   "name": "python",
   "nbconvert_exporter": "python",
   "pygments_lexer": "ipython3",
   "version": "3.9.7"
  }
 },
 "nbformat": 4,
 "nbformat_minor": 5
}
