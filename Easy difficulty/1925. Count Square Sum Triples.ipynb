{
 "cells": [
  {
   "cell_type": "markdown",
   "id": "ccad8471",
   "metadata": {},
   "source": [
    "### 1925. Count Square Sum Triples"
   ]
  },
  {
   "cell_type": "code",
   "execution_count": 4,
   "id": "7531e47c",
   "metadata": {},
   "outputs": [
    {
     "data": {
      "text/plain": [
       "4"
      ]
     },
     "execution_count": 4,
     "metadata": {},
     "output_type": "execute_result"
    }
   ],
   "source": [
    "\"\"\"\n",
    "A square triple (a,b,c) is a triple where a, b, and c are integers and a2 + b2 = c2.\n",
    "Given an integer n, return the number of square triples such that 1 <= a, b, c <= n.\n",
    "Example 1:\n",
    "\n",
    "Input: n = 5\n",
    "Output: 2\n",
    "Explanation: The square triples are (3,4,5) and (4,3,5).\n",
    "Example 2:\n",
    "\n",
    "Input: n = 10\n",
    "Output: 4\n",
    "Explanation: The square triples are (3,4,5), (4,3,5), (6,8,10), and (8,6,10).\n",
    "\"\"\"\n",
    "\n",
    "class Solution:\n",
    "    def countTriples(self, n: int) -> int:\n",
    "    # First of all, the range of numbers from 1 to 'n' inclusively is being generated, and all elements are \n",
    "    # squared\n",
    "        mySeq = list(map(lambda x: pow(x, 2), list(range(1, n + 1)))) # The list generation\n",
    "        square_triples = 0 # The initial number of square triples\n",
    "        while mySeq: # Through the 'while loop' we will find all the pertinent triples\n",
    "            c = mySeq.pop() # The prospective 'c' is popped\n",
    "            for i in mySeq: # Here we are going to find both 'a' and 'b'\n",
    "                if c - i in mySeq:\n",
    "                    square_triples += 1 # The number of triples is increased by 1\n",
    "        return square_triples # The final number of square triples is returned\n",
    "    \n",
    "a = Solution()\n",
    "a.countTriples(10)"
   ]
  }
 ],
 "metadata": {
  "kernelspec": {
   "display_name": "Python 3 (ipykernel)",
   "language": "python",
   "name": "python3"
  },
  "language_info": {
   "codemirror_mode": {
    "name": "ipython",
    "version": 3
   },
   "file_extension": ".py",
   "mimetype": "text/x-python",
   "name": "python",
   "nbconvert_exporter": "python",
   "pygments_lexer": "ipython3",
   "version": "3.9.7"
  }
 },
 "nbformat": 4,
 "nbformat_minor": 5
}
