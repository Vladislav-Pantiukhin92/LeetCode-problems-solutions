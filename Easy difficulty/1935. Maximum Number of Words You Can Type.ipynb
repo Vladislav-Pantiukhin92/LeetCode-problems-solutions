{
 "cells": [
  {
   "cell_type": "markdown",
   "id": "1f2b856e",
   "metadata": {},
   "source": [
    "### 1935. Maximum Number of Words You Can Type"
   ]
  },
  {
   "cell_type": "code",
   "execution_count": 29,
   "id": "7f12cd01",
   "metadata": {},
   "outputs": [
    {
     "data": {
      "text/plain": [
       "1"
      ]
     },
     "execution_count": 29,
     "metadata": {},
     "output_type": "execute_result"
    }
   ],
   "source": [
    "\"\"\"\n",
    "There is a malfunctioning keyboard where some letter keys do not work. All other keys on the keyboard work properly.\n",
    "Given a string text of words separated by a single space (no leading or trailing spaces) and a string \n",
    "brokenLetters of all distinct letter keys that are broken, return the number of words in text you can \n",
    "fully type using this keyboard.\n",
    "Example 1:\n",
    "\n",
    "Input: text = \"hello world\", brokenLetters = \"ad\"\n",
    "Output: 1\n",
    "Explanation: We cannot type \"world\" because the 'd' key is broken.\n",
    "Example 2:\n",
    "\n",
    "Input: text = \"leet code\", brokenLetters = \"lt\"\n",
    "Output: 1\n",
    "Explanation: We cannot type \"leet\" because the 'l' and 't' keys are broken.\n",
    "Example 3:\n",
    "\n",
    "Input: text = \"leet code\", brokenLetters = \"e\"\n",
    "Output: 0\n",
    "Explanation: We cannot type either word because the 'e' key is broken.\n",
    "\"\"\"\n",
    "\n",
    "class Solution:\n",
    "    def canBeTypedWords(self, text: str, brokenLetters: str) -> int:\n",
    "        # To identify all 'broken' words we can use the string method str.replace()\n",
    "        for i in brokenLetters:\n",
    "            text = text.replace(i, \"0\") # With the assistance of the aforementioned string method we will be \n",
    "            # able to replace a broken letter within a word with a digit (for example, in our case it is \"0\")\n",
    "        valid_words = 0\n",
    "        text = text.split() # The next step is to split the string to obtain the list of words\n",
    "        # The final stage is to loop over all words within the obtained list and check whether the word consists \n",
    "        # exclusively of English letters or not (it is attained through the another string method - str.isalpha())\n",
    "        for j in text:\n",
    "            if j.isalpha():\n",
    "                valid_words += 1 # In the meantime, the 'Counter' is switched on to count valid words\n",
    "        return valid_words # The final result (the number of valid words) is returned\n",
    "    \n",
    "a = Solution()\n",
    "a.canBeTypedWords(\"hello world\", \"ad\")"
   ]
  }
 ],
 "metadata": {
  "kernelspec": {
   "display_name": "Python 3 (ipykernel)",
   "language": "python",
   "name": "python3"
  },
  "language_info": {
   "codemirror_mode": {
    "name": "ipython",
    "version": 3
   },
   "file_extension": ".py",
   "mimetype": "text/x-python",
   "name": "python",
   "nbconvert_exporter": "python",
   "pygments_lexer": "ipython3",
   "version": "3.9.7"
  }
 },
 "nbformat": 4,
 "nbformat_minor": 5
}
