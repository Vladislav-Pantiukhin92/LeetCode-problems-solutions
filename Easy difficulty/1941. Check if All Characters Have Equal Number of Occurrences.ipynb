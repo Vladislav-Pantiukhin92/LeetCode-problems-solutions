{
 "cells": [
  {
   "cell_type": "markdown",
   "id": "b3a78b08",
   "metadata": {},
   "source": [
    "### 1941. Check if All Characters Have Equal Number of Occurrences"
   ]
  },
  {
   "cell_type": "code",
   "execution_count": 58,
   "id": "aeb085a0",
   "metadata": {},
   "outputs": [
    {
     "data": {
      "text/plain": [
       "False"
      ]
     },
     "execution_count": 58,
     "metadata": {},
     "output_type": "execute_result"
    }
   ],
   "source": [
    "\"\"\"\n",
    "Given a string s, return true if s is a good string, or false otherwise.\n",
    "A string s is good if all the characters that appear in s have the same number of occurrences \n",
    "(i.e., the same frequency).\n",
    "Example 1:\n",
    "\n",
    "Input: s = \"abacbc\"\n",
    "Output: true\n",
    "Explanation: The characters that appear in s are 'a', 'b', and 'c'. All characters occur 2 times in s.\n",
    "Example 2:\n",
    "\n",
    "Input: s = \"aaabb\"\n",
    "Output: false\n",
    "Explanation: The characters that appear in s are 'a' and 'b'.\n",
    "'a' occurs 3 times while 'b' occurs 2 times, which is not the same number of times.\n",
    "\"\"\"\n",
    "\n",
    "from collections import Counter # 'collections.Counter' will count and accumulate all occurrences of characters\n",
    "\n",
    "class Solution:\n",
    "    def areOccurrencesEqual(self, s: str) -> bool:\n",
    "        # We are going to transform the dictionary into the list of values\n",
    "        occurrence_lst = list(dict(Counter(s)).values())\n",
    "        # We can apply the set structure, which removes duplicates, so if the length will be > 1 - return False,\n",
    "        # otherwise, - return True\n",
    "        if len(set(occurrence_lst)) == 1:\n",
    "            return True\n",
    "        return False\n",
    "    \n",
    "a = Solution()\n",
    "a.areOccurrencesEqual(\"aaabb\")"
   ]
  }
 ],
 "metadata": {
  "kernelspec": {
   "display_name": "Python 3 (ipykernel)",
   "language": "python",
   "name": "python3"
  },
  "language_info": {
   "codemirror_mode": {
    "name": "ipython",
    "version": 3
   },
   "file_extension": ".py",
   "mimetype": "text/x-python",
   "name": "python",
   "nbconvert_exporter": "python",
   "pygments_lexer": "ipython3",
   "version": "3.9.7"
  }
 },
 "nbformat": 4,
 "nbformat_minor": 5
}
