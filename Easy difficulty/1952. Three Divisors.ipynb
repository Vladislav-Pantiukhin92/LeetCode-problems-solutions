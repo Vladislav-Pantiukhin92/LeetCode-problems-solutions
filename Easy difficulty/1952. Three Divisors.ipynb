{
 "cells": [
  {
   "cell_type": "markdown",
   "id": "ccad8471",
   "metadata": {},
   "source": [
    "### 1952. Three Divisors"
   ]
  },
  {
   "cell_type": "code",
   "execution_count": 3,
   "id": "c21cb252",
   "metadata": {},
   "outputs": [
    {
     "data": {
      "text/plain": [
       "True"
      ]
     },
     "execution_count": 3,
     "metadata": {},
     "output_type": "execute_result"
    }
   ],
   "source": [
    "\"\"\"\n",
    "Given an integer n, return true if n has exactly three positive divisors. Otherwise, return false.\n",
    "An integer m is a divisor of n if there exists an integer k such that n = k * m.\n",
    "\n",
    "Example 1:\n",
    "\n",
    "Input: n = 2\n",
    "Output: false\n",
    "Explantion: 2 has only two divisors: 1 and 2.\n",
    "Example 2:\n",
    "\n",
    "Input: n = 4\n",
    "Output: true\n",
    "Explantion: 4 has three divisors: 1, 2, and 4.\n",
    "\"\"\"\n",
    "\n",
    "class Solution:\n",
    "    def isThree(self, n: int) -> bool:\n",
    "        limit = n // 2 # We are not going to take into account the given input number itself, as well as 1\n",
    "        # So it is necessary to find just one more divisor - no more and no less\n",
    "        pos_div = 0 # The initial number of divisors is 0\n",
    "        while limit > 1:\n",
    "            if n % limit == 0: # The divisibility verification\n",
    "                pos_div += 1\n",
    "            limit -= 1\n",
    "        if pos_div != 1: # If, following the code implementation, we have only one divisor - we return True, \n",
    "            # alternatively we return False\n",
    "            return False\n",
    "        return True\n",
    "\n",
    "a = Solution()\n",
    "a.isThree(4)"
   ]
  }
 ],
 "metadata": {
  "kernelspec": {
   "display_name": "Python 3 (ipykernel)",
   "language": "python",
   "name": "python3"
  },
  "language_info": {
   "codemirror_mode": {
    "name": "ipython",
    "version": 3
   },
   "file_extension": ".py",
   "mimetype": "text/x-python",
   "name": "python",
   "nbconvert_exporter": "python",
   "pygments_lexer": "ipython3",
   "version": "3.9.7"
  }
 },
 "nbformat": 4,
 "nbformat_minor": 5
}
