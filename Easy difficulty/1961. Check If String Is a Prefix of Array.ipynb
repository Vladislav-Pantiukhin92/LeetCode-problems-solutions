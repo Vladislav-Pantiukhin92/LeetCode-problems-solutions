{
 "cells": [
  {
   "cell_type": "markdown",
   "id": "2d34aad3",
   "metadata": {},
   "source": [
    "### 1961. Check If String Is a Prefix of Array"
   ]
  },
  {
   "cell_type": "code",
   "execution_count": 11,
   "id": "4ff5c0f2",
   "metadata": {},
   "outputs": [
    {
     "data": {
      "text/plain": [
       "True"
      ]
     },
     "execution_count": 11,
     "metadata": {},
     "output_type": "execute_result"
    }
   ],
   "source": [
    "\"\"\"\n",
    "Given a string s and an array of strings words, determine whether s is a prefix string of words.\n",
    "A string s is a prefix string of words if s can be made by concatenating the first \n",
    "k strings in words for some positive k no larger than words.length.\n",
    "Return true if s is a prefix string of words, or false otherwise.\n",
    "Example 1:\n",
    "\n",
    "Input: s = \"iloveleetcode\", words = [\"i\",\"love\",\"leetcode\",\"apples\"]\n",
    "Output: true\n",
    "Explanation:\n",
    "s can be made by concatenating \"i\", \"love\", and \"leetcode\" together.\n",
    "Example 2:\n",
    "\n",
    "Input: s = \"iloveleetcode\", words = [\"apples\",\"i\",\"love\",\"leetcode\"]\n",
    "Output: false\n",
    "Explanation:\n",
    "It is impossible to make s using a prefix of arr.\n",
    "\"\"\"\n",
    "\n",
    "import re # Regular expressions\n",
    "\n",
    "class Solution:\n",
    "    def isPrefixString(self, s: str, words: List[str]) -> bool:\n",
    "        # We are going to concatenate words from the input list of strings (one by one) while the length of 's'\n",
    "        # is smaller than the length of all concatenated words from the input list of strings\n",
    "        s_length = len(s)\n",
    "        curLength = 0\n",
    "        curString = \"\"\n",
    "        index = 0\n",
    "        while index < len(words) and curLength < s_length:\n",
    "            curString += words[index]\n",
    "            curLength = len(curString)\n",
    "            index += 1\n",
    "        # 're.fullmatch()' will verify the similarity\n",
    "        if re.fullmatch(s, curString):\n",
    "            return True\n",
    "        return False\n",
    "    \n",
    "a = Solution()\n",
    "a.isPrefixString(\"iloveleetcode\", [\"i\",\"love\",\"leetcode\",\"apples\"])"
   ]
  }
 ],
 "metadata": {
  "kernelspec": {
   "display_name": "Python 3 (ipykernel)",
   "language": "python",
   "name": "python3"
  },
  "language_info": {
   "codemirror_mode": {
    "name": "ipython",
    "version": 3
   },
   "file_extension": ".py",
   "mimetype": "text/x-python",
   "name": "python",
   "nbconvert_exporter": "python",
   "pygments_lexer": "ipython3",
   "version": "3.9.7"
  }
 },
 "nbformat": 4,
 "nbformat_minor": 5
}
