{
 "cells": [
  {
   "cell_type": "markdown",
   "id": "b9f587fe",
   "metadata": {},
   "source": [
    "### 1967. Number of Strings That Appear as Substrings in Word"
   ]
  },
  {
   "cell_type": "code",
   "execution_count": 96,
   "id": "2f9716b2",
   "metadata": {},
   "outputs": [
    {
     "data": {
      "text/plain": [
       "3"
      ]
     },
     "execution_count": 96,
     "metadata": {},
     "output_type": "execute_result"
    }
   ],
   "source": [
    "\"\"\"\n",
    "Given an array of strings patterns and a string word, return the number of strings \n",
    "in patterns that exist as a substring in word.\n",
    "A substring is a contiguous sequence of characters within a string.\n",
    "Example 1:\n",
    "\n",
    "Input: patterns = [\"a\",\"abc\",\"bc\",\"d\"], word = \"abc\"\n",
    "Output: 3\n",
    "Explanation:\n",
    "- \"a\" appears as a substring in \"abc\".\n",
    "- \"abc\" appears as a substring in \"abc\".\n",
    "- \"bc\" appears as a substring in \"abc\".\n",
    "- \"d\" does not appear as a substring in \"abc\".\n",
    "3 of the strings in patterns appear as a substring in word.\n",
    "Example 2:\n",
    "\n",
    "Input: patterns = [\"a\",\"b\",\"c\"], word = \"aaaaabbbbb\"\n",
    "Output: 2\n",
    "Explanation:\n",
    "- \"a\" appears as a substring in \"aaaaabbbbb\".\n",
    "- \"b\" appears as a substring in \"aaaaabbbbb\".\n",
    "- \"c\" does not appear as a substring in \"aaaaabbbbb\".\n",
    "2 of the strings in patterns appear as a substring in word.\n",
    "Example 3:\n",
    "\n",
    "Input: patterns = [\"a\",\"a\",\"a\"], word = \"ab\"\n",
    "Output: 3\n",
    "Explanation: Each of the patterns appears as a substring in word \"ab\".\n",
    "\"\"\"\n",
    "\n",
    "class Solution:\n",
    "    def numOfStrings(self, patterns: List[str], word: str) -> int:\n",
    "        final = 0\n",
    "        # While executing the 'for loop' we verify the existence of each pattern in the word\n",
    "        for i in patterns:\n",
    "            if i in word:\n",
    "                final += 1\n",
    "        return final\n",
    "    \n",
    "a = Solution()\n",
    "a.numOfStrings([\"a\",\"abc\",\"bc\",\"d\"], \"abc\")"
   ]
  }
 ],
 "metadata": {
  "kernelspec": {
   "display_name": "Python 3 (ipykernel)",
   "language": "python",
   "name": "python3"
  },
  "language_info": {
   "codemirror_mode": {
    "name": "ipython",
    "version": 3
   },
   "file_extension": ".py",
   "mimetype": "text/x-python",
   "name": "python",
   "nbconvert_exporter": "python",
   "pygments_lexer": "ipython3",
   "version": "3.9.7"
  }
 },
 "nbformat": 4,
 "nbformat_minor": 5
}
