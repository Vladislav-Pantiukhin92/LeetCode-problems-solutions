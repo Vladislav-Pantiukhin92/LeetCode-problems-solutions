{
 "cells": [
  {
   "cell_type": "markdown",
   "id": "24f23439",
   "metadata": {},
   "source": [
    "### 1979. Find Greatest Common Divisor of Array"
   ]
  },
  {
   "cell_type": "code",
   "execution_count": 291,
   "id": "ab4cef47",
   "metadata": {},
   "outputs": [
    {
     "data": {
      "text/plain": [
       "1"
      ]
     },
     "execution_count": 291,
     "metadata": {},
     "output_type": "execute_result"
    }
   ],
   "source": [
    "\"\"\"\n",
    "Given an integer array nums, return the greatest common divisor of the smallest number and largest number in nums.\n",
    "The greatest common divisor of two numbers is the largest positive integer that evenly divides both numbers.\n",
    "Example 1:\n",
    "\n",
    "Input: nums = [2,5,6,9,10]\n",
    "Output: 2\n",
    "Explanation:\n",
    "The smallest number in nums is 2.\n",
    "The largest number in nums is 10.\n",
    "The greatest common divisor of 2 and 10 is 2.\n",
    "Example 2:\n",
    "\n",
    "Input: nums = [7,5,6,8,3]\n",
    "Output: 1\n",
    "Explanation:\n",
    "The smallest number in nums is 3.\n",
    "The largest number in nums is 8.\n",
    "The greatest common divisor of 3 and 8 is 1.\n",
    "Example 3:\n",
    "\n",
    "Input: nums = [3,3]\n",
    "Output: 3\n",
    "Explanation:\n",
    "The smallest number in nums is 3.\n",
    "The largest number in nums is 3.\n",
    "The greatest common divisor of 3 and 3 is 3.\n",
    "\"\"\"\n",
    "\n",
    "# SOLUTION №1\n",
    "\n",
    "from math import * # 'gcd' function will return the greatest common divisor of two numbers\n",
    "from heapq import nlargest # it returns the largest number in the list\n",
    "from heapq import nsmallest # it returns the smallest number in the list\n",
    "\n",
    "class Solution:\n",
    "    def findGCD(self, nums: List[int]) -> int:\n",
    "        maxValue = nlargest(1, nums)[0] # The maxElement is obtained\n",
    "        minValue = nsmallest(1, nums)[0] # The minElement is obtained\n",
    "        return gcd(maxValue, minValue)\n",
    "    \n",
    "a = Solution()\n",
    "a.findGCD([7,5,6,8,3])"
   ]
  },
  {
   "cell_type": "code",
   "execution_count": 294,
   "id": "6b80d2d8",
   "metadata": {},
   "outputs": [
    {
     "data": {
      "text/plain": [
       "1"
      ]
     },
     "execution_count": 294,
     "metadata": {},
     "output_type": "execute_result"
    }
   ],
   "source": [
    "# SOLUTION №2\n",
    "\n",
    "class Solution:\n",
    "    def findGCD(self, nums: List[int]) -> int:\n",
    "        # It is possible to find the minElement and maxElement within the sorted array\n",
    "        sorted_list = sorted(nums) \n",
    "        maxValue = sorted_list[-1] # maxElement is the last element within the sorted array\n",
    "        minValue = sorted_list[0] # minElement is the first element within the sorted array\n",
    "        a = maxValue\n",
    "        b = minValue\n",
    "        # To find the greatest common divisor the Euclidean algorithm can be utilized \n",
    "        # Implementation of the Euclidean algorithm through subtraction\n",
    "        while a != b:\n",
    "            if a > b:\n",
    "                a -= b\n",
    "            else:\n",
    "                b -= a\n",
    "        return a\n",
    "    \n",
    "a = Solution()\n",
    "a.findGCD([7,5,6,8,3])"
   ]
  },
  {
   "cell_type": "code",
   "execution_count": 295,
   "id": "5c817b6c",
   "metadata": {},
   "outputs": [
    {
     "data": {
      "text/plain": [
       "1"
      ]
     },
     "execution_count": 295,
     "metadata": {},
     "output_type": "execute_result"
    }
   ],
   "source": [
    "# SOLUTION №3\n",
    "\n",
    "class Solution:\n",
    "    def findGCD(self, nums: List[int]) -> int:\n",
    "        minValue = min(nums) # The minElement is found\n",
    "        maxValue = max(nums) # The maxElement is found\n",
    "        a = minValue\n",
    "        b = maxValue\n",
    "        # To find the greatest common divisor the Euclidean algorithm can be utilized \n",
    "        # Implementation of the Euclidean algorithm through division\n",
    "        while a > 0 and b > 0:\n",
    "            if a > b:\n",
    "                a %= b \n",
    "            else:\n",
    "                b %= a \n",
    "        return a + b\n",
    "    \n",
    "a = Solution()\n",
    "a.findGCD([7,5,6,8,3])"
   ]
  }
 ],
 "metadata": {
  "kernelspec": {
   "display_name": "Python 3 (ipykernel)",
   "language": "python",
   "name": "python3"
  },
  "language_info": {
   "codemirror_mode": {
    "name": "ipython",
    "version": 3
   },
   "file_extension": ".py",
   "mimetype": "text/x-python",
   "name": "python",
   "nbconvert_exporter": "python",
   "pygments_lexer": "ipython3",
   "version": "3.9.7"
  }
 },
 "nbformat": 4,
 "nbformat_minor": 5
}
