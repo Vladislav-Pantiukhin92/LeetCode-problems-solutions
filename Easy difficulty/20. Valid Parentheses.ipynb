{
 "cells": [
  {
   "cell_type": "markdown",
   "id": "ed5dc978",
   "metadata": {},
   "source": [
    "### 20. Valid Parentheses"
   ]
  },
  {
   "cell_type": "code",
   "execution_count": 281,
   "id": "79e0473e",
   "metadata": {},
   "outputs": [
    {
     "name": "stdout",
     "output_type": "stream",
     "text": [
      "True\n"
     ]
    }
   ],
   "source": [
    "\"\"\"\n",
    "Given a string s containing just the characters '(', ')', '{', '}', '[' and ']', \n",
    "determine if the input string is valid.\n",
    "An input string is valid if:\n",
    "Open brackets must be closed by the same type of brackets.\n",
    "Open brackets must be closed in the correct order.\n",
    "\n",
    "Example 1:\n",
    "\n",
    "Input: s = \"()\"\n",
    "Output: true\n",
    "Example 2:\n",
    "\n",
    "Input: s = \"()[]{}\"\n",
    "Output: true\n",
    "Example 3:\n",
    "\n",
    "Input: s = \"(]\"\n",
    "Output: false\n",
    "\"\"\"\n",
    "\n",
    "from queue import LifoQueue # Stack structure to verify valid parentheses\n",
    "from collections import deque # 'deque' to pop the element from the left side\n",
    "\n",
    "class Solution:\n",
    "    def isValid(self, s: str) -> bool:\n",
    "        false_brackets = [\")\", \"}\", \"]\"] # We return False when these brackets are added to the empty stack\n",
    "        true_brackets1 = [\"()\", \"{}\", \"[]\"] # True brackets if left and right brackets are combined together\n",
    "        true_brackets2 = [\"(\", \"{\", \"[\"] # True brackets if we will add these brackets to the stack\n",
    "        lst = deque(s)\n",
    "        stack = LifoQueue() # Let's initialize the stack structure\n",
    "        while lst: # While the input is non-empty, the addition and extraction of elements are underway\n",
    "            if stack.empty(): \n",
    "                bracket = lst.popleft()\n",
    "                if bracket in false_brackets:\n",
    "                    return False # The sequence is non-valid when the empty stack contains an element \n",
    "                # from the false_brackets list\n",
    "                else:\n",
    "                    stack.put(bracket) # Otherwise, we add an element to the stack\n",
    "            else: # If stack is a non-empty structure, then, we try to combine the left and right brackets\n",
    "                bracket = lst.popleft()\n",
    "                if bracket in true_brackets2: # We continue adding elements if brackets are from the\n",
    "                    #true_brackets2 list\n",
    "                    stack.put(bracket)\n",
    "                else:\n",
    "                    stack_bracket = stack.get()\n",
    "                    if stack_bracket + bracket not in true_brackets1: # If the combination is a proper, \n",
    "                        # full-fledged bracket pair, we simply continue to execute the current 'while loop'\n",
    "                        # Otherwise, we return False\n",
    "                        return False\n",
    "        if stack.empty(): # If the input list as well as the stack are empty, it means, errors were not raised - return True            \n",
    "            return True\n",
    "        return False # If stack still contains elements, the sequence is non-valid - return False\n",
    "\n",
    "a = Solution()\n",
    "print(a.isValid(\"{[]}\"))"
   ]
  }
 ],
 "metadata": {
  "kernelspec": {
   "display_name": "Python 3 (ipykernel)",
   "language": "python",
   "name": "python3"
  },
  "language_info": {
   "codemirror_mode": {
    "name": "ipython",
    "version": 3
   },
   "file_extension": ".py",
   "mimetype": "text/x-python",
   "name": "python",
   "nbconvert_exporter": "python",
   "pygments_lexer": "ipython3",
   "version": "3.9.7"
  }
 },
 "nbformat": 4,
 "nbformat_minor": 5
}
