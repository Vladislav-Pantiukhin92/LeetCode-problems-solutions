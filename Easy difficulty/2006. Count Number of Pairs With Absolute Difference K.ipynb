{
 "cells": [
  {
   "cell_type": "markdown",
   "id": "39f10d9e",
   "metadata": {},
   "source": [
    "### 2006. Count Number of Pairs With Absolute Difference K"
   ]
  },
  {
   "cell_type": "code",
   "execution_count": 46,
   "id": "379cc075",
   "metadata": {},
   "outputs": [
    {
     "data": {
      "text/plain": [
       "3"
      ]
     },
     "execution_count": 46,
     "metadata": {},
     "output_type": "execute_result"
    }
   ],
   "source": [
    "\"\"\"\n",
    "Given an integer array nums and an integer k, return the number of pairs (i, j) \n",
    "where i < j such that |nums[i] - nums[j]| == k.\n",
    "The value of |x| is defined as:\n",
    "\n",
    "x if x >= 0.\n",
    "-x if x < 0.\n",
    "Example 1:\n",
    "\n",
    "Input: nums = [1,2,2,1], k = 1\n",
    "Output: 4\n",
    "Explanation: The pairs with an absolute difference of 1 are:\n",
    "- [1,2,2,1]\n",
    "- [1,2,2,1]\n",
    "- [1,2,2,1]\n",
    "- [1,2,2,1]\n",
    "Example 2:\n",
    "\n",
    "Input: nums = [1,3], k = 3\n",
    "Output: 0\n",
    "Explanation: There are no pairs with an absolute difference of 3.\n",
    "Example 3:\n",
    "\n",
    "Input: nums = [3,2,1,5,4], k = 2\n",
    "Output: 3\n",
    "Explanation: The pairs with an absolute difference of 2 are:\n",
    "- [3,2,1,5,4]\n",
    "- [3,2,1,5,4]\n",
    "- [3,2,1,5,4]\n",
    "\"\"\"\n",
    "\n",
    "from itertools import combinations # 'itertools.combinations' will help to create unique pairs of numbers\n",
    "from itertools import starmap # 'itertools.starmap' will help to find the absolute difference in pairs\n",
    "\n",
    "class Solution:\n",
    "    def countKDifference(self, nums: List[int], k: int) -> int:\n",
    "        my_list = list(combinations(nums, 2)) # Let's create the unique numeric pairs\n",
    "        final = list(starmap(lambda x, y: abs(x - y), my_list)) # We find the absolute difference\n",
    "        return final.count(k) # We return the number of times the numeric difference is met within the final list\n",
    "\n",
    "a = Solution()\n",
    "a.countKDifference([3,2,1,5,4], 2)"
   ]
  }
 ],
 "metadata": {
  "kernelspec": {
   "display_name": "Python 3 (ipykernel)",
   "language": "python",
   "name": "python3"
  },
  "language_info": {
   "codemirror_mode": {
    "name": "ipython",
    "version": 3
   },
   "file_extension": ".py",
   "mimetype": "text/x-python",
   "name": "python",
   "nbconvert_exporter": "python",
   "pygments_lexer": "ipython3",
   "version": "3.9.7"
  }
 },
 "nbformat": 4,
 "nbformat_minor": 5
}
