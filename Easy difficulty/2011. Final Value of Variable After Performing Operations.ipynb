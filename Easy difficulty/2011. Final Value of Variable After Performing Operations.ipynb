{
 "cells": [
  {
   "cell_type": "markdown",
   "id": "d0f06e74",
   "metadata": {},
   "source": [
    "### 2011. Final Value of Variable After Performing Operations"
   ]
  },
  {
   "cell_type": "code",
   "execution_count": 7,
   "id": "dc710914",
   "metadata": {},
   "outputs": [
    {
     "data": {
      "text/plain": [
       "1"
      ]
     },
     "execution_count": 7,
     "metadata": {},
     "output_type": "execute_result"
    }
   ],
   "source": [
    "\"\"\"\n",
    "There is a programming language with only four operations and one variable X:\n",
    "++X and X++ increments the value of the variable X by 1.\n",
    "--X and X-- decrements the value of the variable X by 1.\n",
    "Initially, the value of X is 0.\n",
    "Given an array of strings operations containing a list of operations, return the final value of X after performing all the operations.\n",
    "Example:\n",
    "\n",
    "Input: operations = [\"--X\",\"X++\",\"X++\"]\n",
    "Output: 1\n",
    "Explanation: The operations are performed as follows:\n",
    "Initially, X = 0.\n",
    "--X: X is decremented by 1, X =  0 - 1 = -1.\n",
    "X++: X is incremented by 1, X = -1 + 1 =  0.\n",
    "X++: X is incremented by 1, X =  0 + 1 =  1.\n",
    "\"\"\"\n",
    "\n",
    "from functools import reduce # 'functools.reduce' applies the function (in our case, addition function) to \n",
    "# elements of the list\n",
    "\n",
    "class Solution:\n",
    "    def finalValueAfterOperations(self, operations: List[str]) -> int:\n",
    "        string_input = \" \".join(operations) # Let's transform the list of string elements into the string\n",
    "        string_input = string_input.replace(\"X++\", \"1\").replace(\"++X\", \"1\") # All string elements are replaced\n",
    "        # with the corresponding integers in the string form\n",
    "        string_input = string_input.replace(\"--X\", \"-1\").replace(\"X--\", \"-1\")\n",
    "        # Following the replacement all string elements are transformed into integers\n",
    "        integer_input = list(map(int, string_input.split()))\n",
    "        # Addition function is applied; as a result of that, the sum result as an integer is returned\n",
    "        return reduce(lambda x, y: x + y, integer_input)\n",
    "    \n",
    "a = Solution()\n",
    "a.finalValueAfterOperations([\"--X\",\"X++\",\"X++\"])"
   ]
  }
 ],
 "metadata": {
  "kernelspec": {
   "display_name": "Python 3 (ipykernel)",
   "language": "python",
   "name": "python3"
  },
  "language_info": {
   "codemirror_mode": {
    "name": "ipython",
    "version": 3
   },
   "file_extension": ".py",
   "mimetype": "text/x-python",
   "name": "python",
   "nbconvert_exporter": "python",
   "pygments_lexer": "ipython3",
   "version": "3.9.7"
  }
 },
 "nbformat": 4,
 "nbformat_minor": 5
}
