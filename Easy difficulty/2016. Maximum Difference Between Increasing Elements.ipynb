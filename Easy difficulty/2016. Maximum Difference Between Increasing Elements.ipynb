{
 "cells": [
  {
   "cell_type": "markdown",
   "id": "3ee52331",
   "metadata": {},
   "source": [
    "### 2016. Maximum Difference Between Increasing Elements"
   ]
  },
  {
   "cell_type": "code",
   "execution_count": 21,
   "id": "789f3f3a",
   "metadata": {},
   "outputs": [
    {
     "data": {
      "text/plain": [
       "4"
      ]
     },
     "execution_count": 21,
     "metadata": {},
     "output_type": "execute_result"
    }
   ],
   "source": [
    "\"\"\"\n",
    "Given a 0-indexed integer array nums of size n, find the maximum difference between nums[i] \n",
    "and nums[j] (i.e., nums[j] - nums[i]), such that 0 <= i < j < n and nums[i] < nums[j].\n",
    "Return the maximum difference. If no such i and j exists, return -1.\n",
    "Example 1:\n",
    "\n",
    "Input: nums = [7,1,5,4]\n",
    "Output: 4\n",
    "Explanation:\n",
    "The maximum difference occurs with i = 1 and j = 2, nums[j] - nums[i] = 5 - 1 = 4.\n",
    "Note that with i = 1 and j = 0, the difference nums[j] - nums[i] = 7 - 1 = 6, but i > j, so it is \n",
    "not valid.\n",
    "Example 2:\n",
    "\n",
    "Input: nums = [9,4,3,2]\n",
    "Output: -1\n",
    "Explanation:\n",
    "There is no i and j such that i < j and nums[i] < nums[j].\n",
    "Example 3:\n",
    "\n",
    "Input: nums = [1,5,2,10]\n",
    "Output: 9\n",
    "Explanation:\n",
    "The maximum difference occurs with i = 0 and j = 3, nums[j] - nums[i] = 10 - 1 = 9.\n",
    "\"\"\"\n",
    "\n",
    "class Solution:\n",
    "    def maximumDifference(self, nums: List[int]) -> int:\n",
    "        differences = [] # Let's initialize the list container, which will store all valid differences\n",
    "        # between elements of the input array\n",
    "        # Through the 'for loop' each number will have the next greatest element within the sorted array\n",
    "        for i in range(1, len(nums)):\n",
    "            first = nums[i - 1]\n",
    "            second = sorted(nums[i:])[-1]\n",
    "            if second > first: # The difference will exist if there is a gap between the first and the second numbers\n",
    "                diff = second - first\n",
    "                differences.append(diff)\n",
    "        if differences: # Now all differences are inside the list container\n",
    "            return max(differences) # We need to return the maxElement/maxDifference\n",
    "        else:\n",
    "            return -1 # It may be possible that the list container is empty. It means that there are no\n",
    "        # differences, so we return -1\n",
    "        \n",
    "a = Solution()\n",
    "a.maximumDifference([7,1,5,4])"
   ]
  }
 ],
 "metadata": {
  "kernelspec": {
   "display_name": "Python 3 (ipykernel)",
   "language": "python",
   "name": "python3"
  },
  "language_info": {
   "codemirror_mode": {
    "name": "ipython",
    "version": 3
   },
   "file_extension": ".py",
   "mimetype": "text/x-python",
   "name": "python",
   "nbconvert_exporter": "python",
   "pygments_lexer": "ipython3",
   "version": "3.9.7"
  }
 },
 "nbformat": 4,
 "nbformat_minor": 5
}
