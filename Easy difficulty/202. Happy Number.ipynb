{
 "cells": [
  {
   "cell_type": "markdown",
   "id": "418d972e",
   "metadata": {},
   "source": [
    "### 202. Happy Number"
   ]
  },
  {
   "cell_type": "code",
   "execution_count": 1,
   "id": "e1ca3d88",
   "metadata": {},
   "outputs": [
    {
     "data": {
      "text/plain": [
       "True"
      ]
     },
     "execution_count": 1,
     "metadata": {},
     "output_type": "execute_result"
    }
   ],
   "source": [
    "\"\"\"\n",
    "Write an algorithm to determine if a number n is happy.\n",
    "A happy number is a number defined by the following process:\n",
    "Starting with any positive integer, replace the number by the sum of the squares of its digits.\n",
    "Repeat the process until the number equals 1 (where it will stay), or it loops endlessly \n",
    "in a cycle which does not include 1.\n",
    "Those numbers for which this process ends in 1 are happy.\n",
    "Return true if n is a happy number, and false if not.\n",
    "Example 1:\n",
    "\n",
    "Input: n = 19\n",
    "Output: true\n",
    "Explanation:\n",
    "12 + 92 = 82\n",
    "82 + 22 = 68\n",
    "62 + 82 = 100\n",
    "12 + 02 + 02 = 1\n",
    "Example 2:\n",
    "\n",
    "Input: n = 2\n",
    "Output: false\n",
    "\"\"\"\n",
    "\n",
    "class Solution: # We are going to use the simple brute-force approach\n",
    "    def isHappy(self, n: int) -> bool:\n",
    "        count = 0\n",
    "        # To avoid the infinite loop it might be possible to establish the threshold for cycles (for example, 10000)\n",
    "        while count < 10000:\n",
    "            # Transformation of the input number: string_number -> list_number -> summation of square digits within the list\n",
    "            n = list(map(int, list(str(n))))\n",
    "            n = sum(list(map(lambda x: x ** 2, n)))\n",
    "            count += 1\n",
    "            if n == 1:\n",
    "                return True  \n",
    "        return False \n",
    "\n",
    "a = Solution()\n",
    "a.isHappy(19)"
   ]
  }
 ],
 "metadata": {
  "kernelspec": {
   "display_name": "Python 3 (ipykernel)",
   "language": "python",
   "name": "python3"
  },
  "language_info": {
   "codemirror_mode": {
    "name": "ipython",
    "version": 3
   },
   "file_extension": ".py",
   "mimetype": "text/x-python",
   "name": "python",
   "nbconvert_exporter": "python",
   "pygments_lexer": "ipython3",
   "version": "3.9.7"
  }
 },
 "nbformat": 4,
 "nbformat_minor": 5
}
