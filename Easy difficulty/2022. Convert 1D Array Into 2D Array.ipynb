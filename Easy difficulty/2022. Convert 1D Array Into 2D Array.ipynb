{
 "cells": [
  {
   "cell_type": "markdown",
   "id": "ccad8471",
   "metadata": {},
   "source": [
    "### 2022. Convert 1D Array Into 2D Array"
   ]
  },
  {
   "cell_type": "code",
   "execution_count": 1,
   "id": "7e9586db",
   "metadata": {},
   "outputs": [
    {
     "data": {
      "text/plain": [
       "[]"
      ]
     },
     "execution_count": 1,
     "metadata": {},
     "output_type": "execute_result"
    }
   ],
   "source": [
    "\"\"\"\n",
    "You are given a 0-indexed 1-dimensional (1D) integer array original, and two integers, m and n. \n",
    "You are tasked with creating a 2-dimensional (2D) array with m rows and n columns using all the elements \n",
    "from original.\n",
    "The elements from indices 0 to n - 1 (inclusive) of original should form the first row of the constructed \n",
    "2D array, the elements from indices n to 2 * n - 1 (inclusive) should form the second row of the \n",
    "constructed 2D array, and so on.\n",
    "\n",
    "Return an m x n 2D array constructed according to the above procedure, or an empty 2D array if it is \n",
    "impossible.\n",
    "Example 1:\n",
    "\n",
    "Input: original = [1,2,3,4], m = 2, n = 2\n",
    "Output: [[1,2],[3,4]]\n",
    "Explanation: The constructed 2D array should contain 2 rows and 2 columns.\n",
    "The first group of n=2 elements in original, [1,2], becomes the first row in the constructed 2D array.\n",
    "The second group of n=2 elements in original, [3,4], becomes the second row in the constructed 2D array.\n",
    "Example 2:\n",
    "\n",
    "Input: original = [1,2,3], m = 1, n = 3\n",
    "Output: [[1,2,3]]\n",
    "Explanation: The constructed 2D array should contain 1 row and 3 columns.\n",
    "Put all three elements in original into the first row of the constructed 2D array.\n",
    "Example 3:\n",
    "\n",
    "Input: original = [1,2], m = 1, n = 1\n",
    "Output: []\n",
    "Explanation: There are 2 elements in original.\n",
    "It is impossible to fit 2 elements in a 1x1 2D array, so return an empty 2D array.\n",
    "\"\"\"\n",
    "\n",
    "class Solution:\n",
    "    def construct2DArray(self, original: List[int], m: int, n: int) -> List[List[int]]:\n",
    "        length = len(original) # The length of the original input array\n",
    "        if length / m != n: # The case, when it is impossible to create the required 2D-array, so we return \n",
    "            # just an empty list\n",
    "            return []\n",
    "        final = [] # Alternatively, we create the list container, which will store the required number of rows\n",
    "        i = 0\n",
    "        j = n\n",
    "        while j < length + 1: # The 'while loop' to append the required number of rows\n",
    "            final.append(original[i:j]) # All the rows are appended to the list\n",
    "            i += n\n",
    "            j += n\n",
    "        return final # The final list with all the corresponding rows and columns is returned\n",
    "    \n",
    "a = Solution()\n",
    "a.construct2DArray([1,2], 1, 1)"
   ]
  },
  {
   "cell_type": "code",
   "execution_count": null,
   "id": "64c775c3",
   "metadata": {},
   "outputs": [],
   "source": []
  }
 ],
 "metadata": {
  "kernelspec": {
   "display_name": "Python 3 (ipykernel)",
   "language": "python",
   "name": "python3"
  },
  "language_info": {
   "codemirror_mode": {
    "name": "ipython",
    "version": 3
   },
   "file_extension": ".py",
   "mimetype": "text/x-python",
   "name": "python",
   "nbconvert_exporter": "python",
   "pygments_lexer": "ipython3",
   "version": "3.9.7"
  }
 },
 "nbformat": 4,
 "nbformat_minor": 5
}
