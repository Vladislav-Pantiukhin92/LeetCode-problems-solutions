{
 "cells": [
  {
   "cell_type": "markdown",
   "id": "cafd8ac6",
   "metadata": {},
   "source": [
    "### 2032. Two Out of Three"
   ]
  },
  {
   "cell_type": "code",
   "execution_count": 8,
   "id": "6dea8902",
   "metadata": {},
   "outputs": [
    {
     "data": {
      "text/plain": [
       "[]"
      ]
     },
     "execution_count": 8,
     "metadata": {},
     "output_type": "execute_result"
    }
   ],
   "source": [
    "\"\"\"\n",
    "Given three integer arrays nums1, nums2, and nums3, return a distinct array containing all the values \n",
    "that are present in at least two out of the three arrays. You may return the values in any order.\n",
    "Example 1:\n",
    "\n",
    "Input: nums1 = [1,1,3,2], nums2 = [2,3], nums3 = [3]\n",
    "Output: [3,2]\n",
    "Explanation: The values that are present in at least two arrays are:\n",
    "- 3, in all three arrays.\n",
    "- 2, in nums1 and nums2.\n",
    "Example 2:\n",
    "\n",
    "Input: nums1 = [3,1], nums2 = [2,3], nums3 = [1,2]\n",
    "Output: [2,3,1]\n",
    "Explanation: The values that are present in at least two arrays are:\n",
    "- 2, in nums2 and nums3.\n",
    "- 3, in nums1 and nums2.\n",
    "- 1, in nums1 and nums3.\n",
    "Example 3:\n",
    "\n",
    "Input: nums1 = [1,2,2], nums2 = [4,3,3], nums3 = [5]\n",
    "Output: []\n",
    "Explanation: No value is present in at least two arrays.\n",
    "\"\"\"\n",
    "\n",
    "class Solution:\n",
    "    def twoOutOfThree(self, nums1, nums2, nums3):\n",
    "# With the help of the set method 'set1.intersection(set2)' we are going to find the overlapping elements:\n",
    "        distinct1 = list(set(nums1).intersection(set(nums2))) # The overlapping elements of 'nums1' and 'nums2'\n",
    "        distinct2 = list(set(nums2).intersection(set(nums3))) # The overlapping elements of 'nums2' and 'nums3'\n",
    "        distinct3 = list(set(nums1).intersection(set(nums3))) # The overlapping elements of 'nums1' and 'nums3'\n",
    "        # Finally, we concatenate three lists and return the obtained result\n",
    "        return list(set(distinct1 + distinct2 + distinct3))\n",
    "    \n",
    "a = Solution()\n",
    "a.twoOutOfThree([1,2,2], [4,3,3], [5])"
   ]
  }
 ],
 "metadata": {
  "kernelspec": {
   "display_name": "Python 3 (ipykernel)",
   "language": "python",
   "name": "python3"
  },
  "language_info": {
   "codemirror_mode": {
    "name": "ipython",
    "version": 3
   },
   "file_extension": ".py",
   "mimetype": "text/x-python",
   "name": "python",
   "nbconvert_exporter": "python",
   "pygments_lexer": "ipython3",
   "version": "3.9.7"
  }
 },
 "nbformat": 4,
 "nbformat_minor": 5
}
