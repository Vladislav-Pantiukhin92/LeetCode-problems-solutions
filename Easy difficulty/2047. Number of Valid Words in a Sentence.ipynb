{
 "cells": [
  {
   "cell_type": "markdown",
   "id": "603f690d",
   "metadata": {},
   "source": [
    "### 2047. Number of Valid Words in a Sentence"
   ]
  },
  {
   "cell_type": "code",
   "execution_count": 35,
   "id": "dafc7e93",
   "metadata": {},
   "outputs": [
    {
     "data": {
      "text/plain": [
       "3"
      ]
     },
     "execution_count": 35,
     "metadata": {},
     "output_type": "execute_result"
    }
   ],
   "source": [
    "\"\"\"\n",
    "A sentence consists of lowercase letters ('a' to 'z'), digits ('0' to '9'), hyphens ('-'), punctuation \n",
    "marks ('!', '.', and ','), and spaces (' ') only. Each sentence can be broken down into one or more \n",
    "tokens separated by one or more spaces ' '.\n",
    "A token is a valid word if all three of the following are true:\n",
    "\n",
    "It only contains lowercase letters, hyphens, and/or punctuation (no digits).\n",
    "There is at most one hyphen '-'. If present, it must be surrounded by lowercase characters (\"a-b\" is \n",
    "valid, but \"-ab\" and \"ab-\" are not valid).\n",
    "There is at most one punctuation mark. If present, it must be at the end of the token (\"ab,\", \"cd!\", \n",
    "and \".\" are valid, but \"a!b\" and \"c.,\" are not valid).\n",
    "Examples of valid words include \"a-b.\", \"afad\", \"ba-c\", \"a!\", and \"!\".\n",
    "Given a string sentence, return the number of valid words in sentence.\n",
    "Example 1:\n",
    "\n",
    "Input: sentence = \"cat and  dog\"\n",
    "Output: 3\n",
    "Explanation: The valid words in the sentence are \"cat\", \"and\", and \"dog\".\n",
    "Example 2:\n",
    "\n",
    "Input: sentence = \"!this  1-s b8d!\"\n",
    "Output: 0\n",
    "Explanation: There are no valid words in the sentence.\n",
    "\"!this\" is invalid because it starts with a punctuation mark.\n",
    "\"1-s\" and \"b8d\" are invalid because they contain digits.\n",
    "Example 3:\n",
    "\n",
    "Input: sentence = \"alice and  bob are playing stone-game10\"\n",
    "Output: 5\n",
    "Explanation: The valid words in the sentence are \"alice\", \"and\", \"bob\", \"are\", and \"playing\".\n",
    "\"stone-game10\" is invalid because it contains digits.\n",
    "\"\"\"\n",
    "\n",
    "import re # Regular expressions will inspect the validity of words\n",
    "\n",
    "class Solution:\n",
    "    def countValidWords(self, sentence: str) -> int:\n",
    "        sentence = sentence.split() # To inspect the validity of words, first of all, it is necessary to \n",
    "        # split the input string into the list of words\n",
    "        def filter_func(x): # 'Function' to remove non-valid words\n",
    "            digits = re.findall(r\"\\d\", x) # It verifies the existence of digits within the input string\n",
    "            if digits:\n",
    "                return 0 \n",
    "            hyphen = re.findall(r\"\\-\", x) # It verifies the existence and location of hyphens within the input string\n",
    "            if len(hyphen) == 1:\n",
    "                dash = re.findall(r\"[a-z]\\-[a-z]\", x)\n",
    "                if not dash:\n",
    "                    return 0\n",
    "            elif len(hyphen) >= 2:\n",
    "                return 0\n",
    "            punctuation = re.findall(r\"[!.,]\", x) # It verifies the existence and location of punctuation marks within \n",
    "            # the input string\n",
    "            if len(punctuation) == 1:\n",
    "                punctuation = re.findall(r\"[!.,]$\", x)\n",
    "                if not punctuation:\n",
    "                    return 0\n",
    "            elif len(punctuation) >= 2:\n",
    "                return 0\n",
    "            return 1\n",
    "        # The 'filter' function will remove all non-valid words, so the final result is the length of the list \n",
    "        tokens = len(list(filter(filter_func, sentence)))\n",
    "        return tokens\n",
    "    \n",
    "a = Solution()\n",
    "a.countValidWords(\"cat and  dog\")"
   ]
  }
 ],
 "metadata": {
  "kernelspec": {
   "display_name": "Python 3 (ipykernel)",
   "language": "python",
   "name": "python3"
  },
  "language_info": {
   "codemirror_mode": {
    "name": "ipython",
    "version": 3
   },
   "file_extension": ".py",
   "mimetype": "text/x-python",
   "name": "python",
   "nbconvert_exporter": "python",
   "pygments_lexer": "ipython3",
   "version": "3.9.7"
  }
 },
 "nbformat": 4,
 "nbformat_minor": 5
}
