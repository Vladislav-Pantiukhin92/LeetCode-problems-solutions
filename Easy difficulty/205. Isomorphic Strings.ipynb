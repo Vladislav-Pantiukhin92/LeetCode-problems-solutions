{
 "cells": [
  {
   "cell_type": "markdown",
   "id": "de38132e",
   "metadata": {},
   "source": [
    "### 205. Isomorphic Strings"
   ]
  },
  {
   "cell_type": "code",
   "execution_count": 4,
   "id": "23466dcf",
   "metadata": {},
   "outputs": [
    {
     "data": {
      "text/plain": [
       "True"
      ]
     },
     "execution_count": 4,
     "metadata": {},
     "output_type": "execute_result"
    }
   ],
   "source": [
    "\"\"\"\n",
    "Given two strings s and t, determine if they are isomorphic.\n",
    "Two strings s and t are isomorphic if the characters in s can be replaced to get t.\n",
    "All occurrences of a character must be replaced with another character while preserving \n",
    "the order of characters. No two characters may map to the same character, but a character may map to itself.\n",
    "Example 1:\n",
    "\n",
    "Input: s = \"egg\", t = \"add\"\n",
    "Output: true\n",
    "Example 2:\n",
    "\n",
    "Input: s = \"foo\", t = \"bar\"\n",
    "Output: false\n",
    "Example 3:\n",
    "\n",
    "Input: s = \"paper\", t = \"title\"\n",
    "Output: true\n",
    "\"\"\"\n",
    "\n",
    "class Solution:\n",
    "    def isIsomorphic(self, s: str, t: str) -> bool:\n",
    "        # Logically speaking, it is obvious that different string lengths mean that we return False\n",
    "        s = list(s)\n",
    "        t = list(t)\n",
    "        if len(s) != len(t):\n",
    "            return False\n",
    "        hashTable = {} # It is better to initialize the hashTable, where the unique translation of keys\n",
    "        # and values is being made\n",
    "        i = 0\n",
    "        j = 0\n",
    "        # During the 'while loop' if the key-value translation is non-unique - we return False again\n",
    "        while i < len(s):\n",
    "            if i not in hashTable:\n",
    "                hashTable[s[i]] = t[j]\n",
    "            else:\n",
    "                if hashTable[s[i]] != t[j]:\n",
    "                    return False\n",
    "            i += 1\n",
    "            j += 1\n",
    "# The same False result if the key uniqueness doesn't meet the value uniqueness \n",
    "        list_keys = list(hashTable.keys())\n",
    "        list_values = list(hashTable.values())\n",
    "        if len(set(list_keys)) != len(set(list_values)):\n",
    "            return False\n",
    "        final = []\n",
    "# Finally, if the new string, obtained as a result of hashTable translations, equals to the input string 't' - True, otherwise - False\n",
    "        for i in s:\n",
    "            final.append(hashTable[i])\n",
    "        if \"\".join(t) == \"\".join(final):\n",
    "            return True\n",
    "        return False\n",
    "    \n",
    "a = Solution()\n",
    "a.isIsomorphic(\"paper\", \"title\")"
   ]
  }
 ],
 "metadata": {
  "kernelspec": {
   "display_name": "Python 3 (ipykernel)",
   "language": "python",
   "name": "python3"
  },
  "language_info": {
   "codemirror_mode": {
    "name": "ipython",
    "version": 3
   },
   "file_extension": ".py",
   "mimetype": "text/x-python",
   "name": "python",
   "nbconvert_exporter": "python",
   "pygments_lexer": "ipython3",
   "version": "3.9.7"
  }
 },
 "nbformat": 4,
 "nbformat_minor": 5
}
