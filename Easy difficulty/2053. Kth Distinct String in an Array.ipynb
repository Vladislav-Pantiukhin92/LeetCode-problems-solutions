{
 "cells": [
  {
   "cell_type": "markdown",
   "id": "283ab17e",
   "metadata": {},
   "source": [
    "### 2053. Kth Distinct String in an Array"
   ]
  },
  {
   "cell_type": "code",
   "execution_count": 4,
   "id": "1330b028",
   "metadata": {},
   "outputs": [
    {
     "data": {
      "text/plain": [
       "'a'"
      ]
     },
     "execution_count": 4,
     "metadata": {},
     "output_type": "execute_result"
    }
   ],
   "source": [
    "\"\"\"\n",
    "A distinct string is a string that is present only once in an array.\n",
    "Given an array of strings arr, and an integer k, return the kth distinct string present in arr. \n",
    "If there are fewer than k distinct strings, return an empty string \"\".\n",
    "Note that the strings are considered in the order in which they appear in the array.\n",
    "Example 1:\n",
    "\n",
    "Input: arr = [\"d\",\"b\",\"c\",\"b\",\"c\",\"a\"], k = 2\n",
    "Output: \"a\"\n",
    "Explanation:\n",
    "The only distinct strings in arr are \"d\" and \"a\".\n",
    "\"d\" appears 1st, so it is the 1st distinct string.\n",
    "\"a\" appears 2nd, so it is the 2nd distinct string.\n",
    "Since k == 2, \"a\" is returned. \n",
    "Example 2:\n",
    "\n",
    "Input: arr = [\"aaa\",\"aa\",\"a\"], k = 1\n",
    "Output: \"aaa\"\n",
    "Explanation:\n",
    "All strings in arr are distinct, so the 1st string \"aaa\" is returned.\n",
    "Example 3:\n",
    "\n",
    "Input: arr = [\"a\",\"b\",\"a\"], k = 3\n",
    "Output: \"\"\n",
    "Explanation:\n",
    "The only distinct string is \"b\". Since there are fewer than 3 distinct strings, we return an empty string \"\".\n",
    "\"\"\"\n",
    "\n",
    "from collections import Counter # The initialized dictionary will show the unique keys and their occurrences\n",
    "from operator import * # 'operator.itemgetter' will be of assistance with regard to sorting of tuples within the list\n",
    "\n",
    "\n",
    "class Solution:\n",
    "    def kthDistinct(self, arr: List[str], k: int) -> str:\n",
    "        myDict = dict(Counter(arr)) # The dictionary, where keys are list elements and values are their occurrences\n",
    "        # After that, the dictionary will be transformed into the list of tuples, each tuple contains the unique key as well \n",
    "        # as the corresponding value\n",
    "        # The 'filter' function removes all tuples with values (that is, occurrences) > 1\n",
    "        filtered_lst = list(filter(lambda x: x[1] == 1, list(myDict.items())))\n",
    "        # If the number of remaining elements is smaller than 'k', it is obvious that just \"\" will be returned\n",
    "        if len(filtered_lst) < k:\n",
    "            return \"\"\n",
    "        # Otherwise, the corresponding index is to be returned\n",
    "        return filtered_lst[k - 1][0]\n",
    "    \n",
    "a = Solution()\n",
    "a.kthDistinct([\"d\",\"b\",\"c\",\"b\",\"c\",\"a\"], 2)"
   ]
  }
 ],
 "metadata": {
  "kernelspec": {
   "display_name": "Python 3 (ipykernel)",
   "language": "python",
   "name": "python3"
  },
  "language_info": {
   "codemirror_mode": {
    "name": "ipython",
    "version": 3
   },
   "file_extension": ".py",
   "mimetype": "text/x-python",
   "name": "python",
   "nbconvert_exporter": "python",
   "pygments_lexer": "ipython3",
   "version": "3.9.7"
  }
 },
 "nbformat": 4,
 "nbformat_minor": 5
}
