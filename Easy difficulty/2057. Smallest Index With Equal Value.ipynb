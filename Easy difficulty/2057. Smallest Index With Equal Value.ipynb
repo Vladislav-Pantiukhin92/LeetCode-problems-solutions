{
 "cells": [
  {
   "cell_type": "markdown",
   "id": "6f490d0f",
   "metadata": {},
   "source": [
    "### 2057. Smallest Index With Equal Value"
   ]
  },
  {
   "cell_type": "code",
   "execution_count": 10,
   "id": "78adfcb3",
   "metadata": {},
   "outputs": [
    {
     "data": {
      "text/plain": [
       "0"
      ]
     },
     "execution_count": 10,
     "metadata": {},
     "output_type": "execute_result"
    }
   ],
   "source": [
    "\"\"\"\n",
    "Given a 0-indexed integer array nums, return the smallest index i of nums such that i mod 10 == nums[i], \n",
    "or -1 if such index does not exist.\n",
    "x mod y denotes the remainder when x is divided by y.\n",
    "Example 1:\n",
    "\n",
    "Input: nums = [0,1,2]\n",
    "Output: 0\n",
    "Explanation: \n",
    "i=0: 0 mod 10 = 0 == nums[0].\n",
    "i=1: 1 mod 10 = 1 == nums[1].\n",
    "i=2: 2 mod 10 = 2 == nums[2].\n",
    "All indices have i mod 10 == nums[i], so we return the smallest index 0.\n",
    "Example 2:\n",
    "\n",
    "Input: nums = [4,3,2,1]\n",
    "Output: 2\n",
    "Explanation: \n",
    "i=0: 0 mod 10 = 0 != nums[0].\n",
    "i=1: 1 mod 10 = 1 != nums[1].\n",
    "i=2: 2 mod 10 = 2 == nums[2].\n",
    "i=3: 3 mod 10 = 3 != nums[3].\n",
    "2 is the only index which has i mod 10 == nums[i].\n",
    "Example 3:\n",
    "\n",
    "Input: nums = [1,2,3,4,5,6,7,8,9,0]\n",
    "Output: -1\n",
    "Explanation: No index satisfies i mod 10 == nums[i].\n",
    "\"\"\"\n",
    "\n",
    "from operator import * # We will import modulo operation\n",
    "\n",
    "\n",
    "class Solution:\n",
    "    def smallestEqual(self, nums: List[int]) -> int:\n",
    "        smallest = -1 # The smallest index is -1 by default at the beginning of the code\n",
    "        for i in range(len(nums) - 1, -1, -1):\n",
    "            # We are going to loop over elements, starting from the end of the input list of integers\n",
    "            result = mod(i, 10) # Import of the modulo operation\n",
    "            if result == nums[i]:\n",
    "                smallest = i\n",
    "        return smallest # It doesn't matter whether we updated the variable or not, anyway we return it (with -1 or\n",
    "    # some other indices)\n",
    "\n",
    "a = Solution()\n",
    "a.smallestEqual([0,1,2])"
   ]
  }
 ],
 "metadata": {
  "kernelspec": {
   "display_name": "Python 3 (ipykernel)",
   "language": "python",
   "name": "python3"
  },
  "language_info": {
   "codemirror_mode": {
    "name": "ipython",
    "version": 3
   },
   "file_extension": ".py",
   "mimetype": "text/x-python",
   "name": "python",
   "nbconvert_exporter": "python",
   "pygments_lexer": "ipython3",
   "version": "3.9.7"
  }
 },
 "nbformat": 4,
 "nbformat_minor": 5
}
