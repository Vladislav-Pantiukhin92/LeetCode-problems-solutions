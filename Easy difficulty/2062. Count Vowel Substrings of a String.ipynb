{
 "cells": [
  {
   "cell_type": "markdown",
   "id": "cafd8ac6",
   "metadata": {},
   "source": [
    "### 2062. Count Vowel Substrings of a String"
   ]
  },
  {
   "cell_type": "code",
   "execution_count": 9,
   "id": "2ef153f2",
   "metadata": {},
   "outputs": [
    {
     "data": {
      "text/plain": [
       "7"
      ]
     },
     "execution_count": 9,
     "metadata": {},
     "output_type": "execute_result"
    }
   ],
   "source": [
    "\"\"\"\n",
    "A substring is a contiguous (non-empty) sequence of characters within a string.\n",
    "A vowel substring is a substring that only consists of vowels ('a', 'e', 'i', 'o', and 'u') \n",
    "and has all five vowels present in it.\n",
    "Given a string word, return the number of vowel substrings in word.\n",
    "Example 1:\n",
    "Input: word = \"aeiouu\"\n",
    "Output: 2\n",
    "Explanation: The vowel substrings of word are as follows (underlined):\n",
    "- \"aeiouu\"\n",
    "- \"aeiouu\"\n",
    "\n",
    "Example 2:\n",
    "Input: word = \"unicornarihan\"\n",
    "Output: 0\n",
    "Explanation: Not all 5 vowels are present, so there are no vowel substrings.\n",
    "\n",
    "Example 3:\n",
    "Input: word = \"cuaieuouac\"\n",
    "Output: 7\n",
    "Explanation: The vowel substrings of word are as follows (underlined):\n",
    "- \"cuaieuouac\"\n",
    "- \"cuaieuouac\"\n",
    "- \"cuaieuouac\"\n",
    "- \"cuaieuouac\"\n",
    "- \"cuaieuouac\"\n",
    "- \"cuaieuouac\"\n",
    "- \"cuaieuouac\"\n",
    "\"\"\"\n",
    "\n",
    "from collections import Counter # 'collections.Counter' will count letters and their occurrence within the \n",
    "# given input string\n",
    "from operator import * # 'operator.eq' will compare elements\n",
    "\n",
    "class Solution:\n",
    "    def countVowelSubstrings(self, word: str) -> int:\n",
    "        length = len(word) # The length of the given input string\n",
    "        count = 0 # The initial number of substrings is 0\n",
    "        if length < 5: # If the length is smaller than 5 - we return 0\n",
    "            return 0\n",
    "        vowels = [\"a\",\"e\",\"i\",\"o\",\"u\"] # The list with all essential vowels\n",
    "    # Using the nested iteration process, we find all substrings with the full vowels' sequence\n",
    "        i = 0\n",
    "        while i < len(word):\n",
    "            j = i + 4 \n",
    "            while j < len(word):\n",
    "                subString = word[i:j + 1] # The substring as a slice of letters\n",
    "                letters = sorted(list(dict(Counter(subString)).keys())) # The range of vowels is obtained\n",
    "                if eq(vowels, letters): # We need to compare two vowels' ranges\n",
    "                    count += 1\n",
    "                j += 1\n",
    "            i += 1\n",
    "        return count # The number of substrings is returned\n",
    "    \n",
    "a = Solution()\n",
    "a.countVowelSubstrings(\"cuaieuouac\")"
   ]
  }
 ],
 "metadata": {
  "kernelspec": {
   "display_name": "Python 3 (ipykernel)",
   "language": "python",
   "name": "python3"
  },
  "language_info": {
   "codemirror_mode": {
    "name": "ipython",
    "version": 3
   },
   "file_extension": ".py",
   "mimetype": "text/x-python",
   "name": "python",
   "nbconvert_exporter": "python",
   "pygments_lexer": "ipython3",
   "version": "3.9.7"
  }
 },
 "nbformat": 4,
 "nbformat_minor": 5
}
