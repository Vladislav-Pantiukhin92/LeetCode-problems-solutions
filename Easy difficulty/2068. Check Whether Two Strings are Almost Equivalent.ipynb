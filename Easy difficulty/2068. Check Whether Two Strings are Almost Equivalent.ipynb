{
 "cells": [
  {
   "cell_type": "markdown",
   "id": "72b469e8",
   "metadata": {},
   "source": [
    "### 2068. Check Whether Two Strings are Almost Equivalent"
   ]
  },
  {
   "cell_type": "code",
   "execution_count": 84,
   "id": "14acbe7e",
   "metadata": {},
   "outputs": [
    {
     "data": {
      "text/plain": [
       "False"
      ]
     },
     "execution_count": 84,
     "metadata": {},
     "output_type": "execute_result"
    }
   ],
   "source": [
    "\"\"\"\n",
    "Two strings word1 and word2 are considered almost equivalent if the differences between the frequencies \n",
    "of each letter from 'a' to 'z' between word1 and word2 is at most 3.\n",
    "Given two strings word1 and word2, each of length n, return true if word1 and word2 are almost equivalent, \n",
    "or false otherwise.\n",
    "The frequency of a letter x is the number of times it occurs in the string.\n",
    "Example 1:\n",
    "\n",
    "Input: word1 = \"aaaa\", word2 = \"bccb\"\n",
    "Output: false\n",
    "Explanation: There are 4 'a's in \"aaaa\" but 0 'a's in \"bccb\".\n",
    "The difference is 4, which is more than the allowed 3.\n",
    "Example 2:\n",
    "\n",
    "Input: word1 = \"abcdeef\", word2 = \"abaaacc\"\n",
    "Output: true\n",
    "Explanation: The differences between the frequencies of each letter in word1 and word2 are at most 3:\n",
    "- 'a' appears 1 time in word1 and 4 times in word2. The difference is 3.\n",
    "- 'b' appears 1 time in word1 and 1 time in word2. The difference is 0.\n",
    "- 'c' appears 1 time in word1 and 2 times in word2. The difference is 1.\n",
    "- 'd' appears 1 time in word1 and 0 times in word2. The difference is 1.\n",
    "- 'e' appears 2 times in word1 and 0 times in word2. The difference is 2.\n",
    "- 'f' appears 1 time in word1 and 0 times in word2. The difference is 1.\n",
    "Example 3:\n",
    "\n",
    "Input: word1 = \"cccddabba\", word2 = \"babababab\"\n",
    "Output: true\n",
    "Explanation: The differences between the frequencies of each letter in word1 and word2 are at most 3:\n",
    "- 'a' appears 2 times in word1 and 4 times in word2. The difference is 2.\n",
    "- 'b' appears 2 times in word1 and 5 times in word2. The difference is 3.\n",
    "- 'c' appears 3 times in word1 and 0 times in word2. The difference is 3.\n",
    "- 'd' appears 2 times in word1 and 0 times in word2. The difference is 2.\n",
    "\"\"\"\n",
    "\n",
    "class Solution:\n",
    "    def checkAlmostEquivalent(self, word1: str, word2: str) -> bool:\n",
    "    # Let's create two dictionaries, which will show the occurrence of all combined letters ('word1' + 'word2')\n",
    "    # in both words\n",
    "        all_values = list(set(word1 + word2)) # The merged string with common letters\n",
    "        dict_1 = {} # The first dictionary with occurrences \n",
    "        dict_2 = {} # The second dictionary with occurrences\n",
    "        # We will fill both dictionaries with occurrences of letters from the merged string 'all_values'\n",
    "        for k in all_values:\n",
    "            dict_1[k] = 0 # The initial occurrence is 0\n",
    "            dict_2[k] = 0 # The initial occurrence is 0\n",
    "        # Now we fill the dictionaries with occurrences:\n",
    "        for i in word1:\n",
    "            dict_1[i] += 1\n",
    "        for j in word2:\n",
    "            dict_2[j] += 1\n",
    "        # The final step is the verification of occurrences' differences between two dictionaries \n",
    "        # If the difference > 3 - we return False\n",
    "        for i in word1:\n",
    "            occurrence1 = dict_1[i]\n",
    "            occurrence2 = dict_2[i]\n",
    "            if abs(occurrence1 - occurrence2) > 3:\n",
    "                return False\n",
    "        for j in word2:\n",
    "            occurrence2 = dict_2[j]\n",
    "            occurrence1 = dict_1[j]\n",
    "            if abs(occurrence1 - occurrence2) > 3:\n",
    "                return False\n",
    "        # If all differences are within the envisaged requirement - finally, we return True\n",
    "        return True\n",
    "    \n",
    "a = Solution()\n",
    "a.checkAlmostEquivalent(\"zzzyyy\", \"iiiiii\")"
   ]
  }
 ],
 "metadata": {
  "kernelspec": {
   "display_name": "Python 3 (ipykernel)",
   "language": "python",
   "name": "python3"
  },
  "language_info": {
   "codemirror_mode": {
    "name": "ipython",
    "version": 3
   },
   "file_extension": ".py",
   "mimetype": "text/x-python",
   "name": "python",
   "nbconvert_exporter": "python",
   "pygments_lexer": "ipython3",
   "version": "3.9.7"
  }
 },
 "nbformat": 4,
 "nbformat_minor": 5
}
