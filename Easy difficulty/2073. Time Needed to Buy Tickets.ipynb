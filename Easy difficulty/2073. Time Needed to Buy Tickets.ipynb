{
 "cells": [
  {
   "cell_type": "markdown",
   "id": "fd32dec8",
   "metadata": {},
   "source": [
    "### 2073. Time Needed to Buy Tickets"
   ]
  },
  {
   "cell_type": "code",
   "execution_count": 7,
   "id": "e47c3ceb",
   "metadata": {},
   "outputs": [
    {
     "data": {
      "text/plain": [
       "6"
      ]
     },
     "execution_count": 7,
     "metadata": {},
     "output_type": "execute_result"
    }
   ],
   "source": [
    "\"\"\"\n",
    "There are n people in a line queuing to buy tickets, where the 0th person is at the front of the line and \n",
    "the (n - 1)th person is at the back of the line.\n",
    "You are given a 0-indexed integer array tickets of length n where the number of tickets that the ith \n",
    "person would like to buy is tickets[i].\n",
    "Each person takes exactly 1 second to buy a ticket. A person can only buy 1 ticket at a time and has to \n",
    "go back to the end of the line (which happens instantaneously) in order to buy more tickets. If a person \n",
    "does not have any tickets left to buy, the person will leave the line.\n",
    "Return the time taken for the person at position k (0-indexed) to finish buying tickets.\n",
    "Example 1:\n",
    "\n",
    "Input: tickets = [2,3,2], k = 2\n",
    "Output: 6\n",
    "Explanation: \n",
    "- In the first pass, everyone in the line buys a ticket and the line becomes [1, 2, 1].\n",
    "- In the second pass, everyone in the line buys a ticket and the line becomes [0, 1, 0].\n",
    "The person at position 2 has successfully bought 2 tickets and it took 3 + 3 = 6 seconds.\n",
    "Example 2:\n",
    "\n",
    "Input: tickets = [5,1,1,1], k = 0\n",
    "Output: 8\n",
    "Explanation:\n",
    "- In the first pass, everyone in the line buys a ticket and the line becomes [4, 0, 0, 0].\n",
    "- In the next 4 passes, only the person in position 0 is buying tickets.\n",
    "The person at position 0 has successfully bought 5 tickets and it took 4 + 1 + 1 + 1 + 1 = 8 seconds.\n",
    "\"\"\"\n",
    "\n",
    "from collections import deque # Let's import a double-ended queue for the problem's simulation\n",
    "\n",
    "class Solution:\n",
    "    def timeRequiredToBuy(self, tickets: List[int], k: int) -> int:\n",
    "        final = [] # The list container, which will store lists with elements and their indices\n",
    "        # Such a list container is important, because it helps to monitor the value of the 'k' variable\n",
    "        time = 0 # The variable, which will store seconds for the final result\n",
    "        for i, j in enumerate(tickets): # The nested list with elements and their indices is created\n",
    "            iterable = [i, j]\n",
    "            final.append(iterable)\n",
    "        final = deque(final) # The list is a double-ended queue right now\n",
    "        # The major operation is the implementation of the 'while loop' - we pop the front iterable, \n",
    "        # transform the content and append it to the rear of the deque list\n",
    "        # And it is executed while the element within an iterable with 'k' != 0\n",
    "        while True:\n",
    "            curElement = final.popleft()\n",
    "            curElement[1] = curElement[1] - 1\n",
    "            time += 1\n",
    "            if curElement[1] == 0:\n",
    "                if curElement[0] == k:\n",
    "                    return time\n",
    "            else:\n",
    "                final.append(curElement)\n",
    "                \n",
    "a = Solution()\n",
    "a.timeRequiredToBuy([2,3,2], 2)"
   ]
  }
 ],
 "metadata": {
  "kernelspec": {
   "display_name": "Python 3 (ipykernel)",
   "language": "python",
   "name": "python3"
  },
  "language_info": {
   "codemirror_mode": {
    "name": "ipython",
    "version": 3
   },
   "file_extension": ".py",
   "mimetype": "text/x-python",
   "name": "python",
   "nbconvert_exporter": "python",
   "pygments_lexer": "ipython3",
   "version": "3.9.7"
  }
 },
 "nbformat": 4,
 "nbformat_minor": 5
}
