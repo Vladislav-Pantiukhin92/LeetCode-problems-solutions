{
 "cells": [
  {
   "cell_type": "markdown",
   "id": "031be915",
   "metadata": {},
   "source": [
    "### 2085. Count Common Words With One Occurrence"
   ]
  },
  {
   "cell_type": "code",
   "execution_count": 7,
   "id": "ef353fc2",
   "metadata": {},
   "outputs": [
    {
     "data": {
      "text/plain": [
       "2"
      ]
     },
     "execution_count": 7,
     "metadata": {},
     "output_type": "execute_result"
    }
   ],
   "source": [
    "\"\"\"\n",
    "Given two string arrays words1 and words2, return the number of strings that appear exactly \n",
    "once in each of the two arrays.\n",
    "Example 1:\n",
    "\n",
    "Input: words1 = [\"leetcode\",\"is\",\"amazing\",\"as\",\"is\"], words2 = [\"amazing\",\"leetcode\",\"is\"]\n",
    "Output: 2\n",
    "Explanation:\n",
    "- \"leetcode\" appears exactly once in each of the two arrays. We count this string.\n",
    "- \"amazing\" appears exactly once in each of the two arrays. We count this string.\n",
    "- \"is\" appears in each of the two arrays, but there are 2 occurrences of it in words1. We do not count this string.\n",
    "- \"as\" appears once in words1, but does not appear in words2. We do not count this string.\n",
    "Thus, there are 2 strings that appear exactly once in each of the two arrays.\n",
    "Example 2:\n",
    "\n",
    "Input: words1 = [\"b\",\"bb\",\"bbb\"], words2 = [\"a\",\"aa\",\"aaa\"]\n",
    "Output: 0\n",
    "Explanation: There are no strings that appear in each of the two arrays.\n",
    "Example 3:\n",
    "\n",
    "Input: words1 = [\"a\",\"ab\"], words2 = [\"a\",\"a\",\"a\",\"ab\"]\n",
    "Output: 1\n",
    "Explanation: The only string that appears exactly once in each of the two arrays is \"ab\".\n",
    "\"\"\"\n",
    "\n",
    "from collections import Counter # 'collections.Counter' creates the dictionary, where keys are elements and values \n",
    "# are their occurrences within lists\n",
    "\n",
    "class Solution:\n",
    "    def countWords(self, words1: List[str], words2: List[str]) -> int:\n",
    "        # Two dictionaries are created\n",
    "        myDict1 = dict(Counter(words1)) # The dictionary for the first list of words\n",
    "        # As a result of 'filter' function only keys with the occurrences == 1 will remain \n",
    "        filtered_lst1 = list(filter(lambda x: x[1] == 1, list(myDict1.items())))\n",
    "        unique_elems1 = list(map(lambda x: x[0], filtered_lst1))\n",
    "        myDict2 = dict(Counter(words2)) # The dictionary for the second list of words\n",
    "        # As a result of 'filter' function only keys with the occurrences == 1 will remain\n",
    "        filtered_lst2 = list(filter(lambda x: x[1] == 1, list(myDict2.items())))\n",
    "        unique_elems2 = list(map(lambda x: x[0], filtered_lst2))\n",
    "        # Eventually, each list contains only 1-occurrence elements \n",
    "        # The final step is to figire out the overlapping elements through the specific set intersection method\n",
    "        return len(set(unique_elems1).intersection(set(unique_elems2)))\n",
    "        \n",
    "a = Solution()\n",
    "a.countWords([\"leetcode\",\"is\",\"amazing\",\"as\",\"is\"], [\"amazing\",\"leetcode\",\"is\"])"
   ]
  }
 ],
 "metadata": {
  "kernelspec": {
   "display_name": "Python 3 (ipykernel)",
   "language": "python",
   "name": "python3"
  },
  "language_info": {
   "codemirror_mode": {
    "name": "ipython",
    "version": 3
   },
   "file_extension": ".py",
   "mimetype": "text/x-python",
   "name": "python",
   "nbconvert_exporter": "python",
   "pygments_lexer": "ipython3",
   "version": "3.9.7"
  }
 },
 "nbformat": 4,
 "nbformat_minor": 5
}
