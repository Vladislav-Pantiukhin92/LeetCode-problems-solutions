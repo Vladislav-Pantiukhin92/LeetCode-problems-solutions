{
 "cells": [
  {
   "cell_type": "markdown",
   "id": "7e3f5be6",
   "metadata": {},
   "source": [
    "### 2089. Find Target Indices After Sorting Array"
   ]
  },
  {
   "cell_type": "code",
   "execution_count": 18,
   "id": "589b9a3f",
   "metadata": {},
   "outputs": [
    {
     "data": {
      "text/plain": [
       "[1, 2]"
      ]
     },
     "execution_count": 18,
     "metadata": {},
     "output_type": "execute_result"
    }
   ],
   "source": [
    "\"\"\"\n",
    "You are given a 0-indexed integer array nums and a target element target.\n",
    "A target index is an index i such that nums[i] == target.\n",
    "Return a list of the target indices of nums after sorting nums in non-decreasing order. \n",
    "If there are no target indices, return an empty list. \n",
    "The returned list must be sorted in increasing order.\n",
    "\n",
    "Example 1:\n",
    "\n",
    "Input: nums = [1,2,5,2,3], target = 2\n",
    "Output: [1,2]\n",
    "Explanation: After sorting, nums is [1,2,2,3,5].\n",
    "The indices where nums[i] == 2 are 1 and 2.\n",
    "Example 2:\n",
    "\n",
    "Input: nums = [1,2,5,2,3], target = 3\n",
    "Output: [3]\n",
    "Explanation: After sorting, nums is [1,2,2,3,5].\n",
    "The index where nums[i] == 3 is 3.\n",
    "Example 3:\n",
    "\n",
    "Input: nums = [1,2,5,2,3], target = 5\n",
    "Output: [4]\n",
    "Explanation: After sorting, nums is [1,2,2,3,5].\n",
    "The index where nums[i] == 5 is 4.\n",
    "\"\"\"\n",
    "\n",
    "from math import * # 'sqrt' function is needed\n",
    "\n",
    "# The jump search algorithm is utilized to find the relevant indices of elements\n",
    "# To execute the efficient search the range of numbers is used \n",
    "# The search is implemented within the certain, specific slice, named 'step'\n",
    "# First of all, we find the slice, within which the sought-after element can be located\n",
    "# After that we execute the simple linear search to find the value and return the corresponding index (or indices)\n",
    "\n",
    "class Solution:\n",
    "    def targetIndices(self, nums: List[int], target: int) -> List[int]:\n",
    "        nums = sorted(nums)\n",
    "        def jump_search(array, target, length):\n",
    "            final = []\n",
    "            step = int(sqrt(length))\n",
    "            prev = 0\n",
    "            while array[int(min(step, length) - 1)] < target:\n",
    "                prev = step \n",
    "                step += int(sqrt(length))\n",
    "                if prev >= length:\n",
    "                    return []\n",
    "            while array[prev] < target:\n",
    "                prev += 1\n",
    "                if prev == min(step, length):\n",
    "                    return []\n",
    "            while True:\n",
    "                if prev < len(array) and array[prev] == target:\n",
    "                    final.append(prev)\n",
    "                    prev += 1\n",
    "                else:\n",
    "                    break\n",
    "            return sorted(final)\n",
    "        result = jump_search(nums, target, len(nums))\n",
    "        return result\n",
    "    \n",
    "a = Solution()\n",
    "a.targetIndices([1,2,5,2,3], 2)"
   ]
  }
 ],
 "metadata": {
  "kernelspec": {
   "display_name": "Python 3 (ipykernel)",
   "language": "python",
   "name": "python3"
  },
  "language_info": {
   "codemirror_mode": {
    "name": "ipython",
    "version": 3
   },
   "file_extension": ".py",
   "mimetype": "text/x-python",
   "name": "python",
   "nbconvert_exporter": "python",
   "pygments_lexer": "ipython3",
   "version": "3.9.7"
  }
 },
 "nbformat": 4,
 "nbformat_minor": 5
}
