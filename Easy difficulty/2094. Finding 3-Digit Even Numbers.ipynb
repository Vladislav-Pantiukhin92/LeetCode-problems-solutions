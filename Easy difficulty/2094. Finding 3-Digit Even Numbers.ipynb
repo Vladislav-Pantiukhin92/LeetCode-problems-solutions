{
 "cells": [
  {
   "cell_type": "markdown",
   "id": "604ce942",
   "metadata": {},
   "source": [
    "### 2094. Finding 3-Digit Even Numbers"
   ]
  },
  {
   "cell_type": "code",
   "execution_count": 10,
   "id": "fb68274f",
   "metadata": {},
   "outputs": [
    {
     "data": {
      "text/plain": [
       "[222, 228, 282, 288, 822, 828, 882]"
      ]
     },
     "execution_count": 10,
     "metadata": {},
     "output_type": "execute_result"
    }
   ],
   "source": [
    "\"\"\"\n",
    "You are given an integer array digits, where each element is a digit. The array may contain duplicates.\n",
    "You need to find all the unique integers that follow the given requirements:\n",
    "The integer consists of the concatenation of three elements from digits in any arbitrary order.\n",
    "The integer does not have leading zeros.\n",
    "The integer is even.\n",
    "For example, if the given digits were [1, 2, 3], integers 132 and 312 follow the requirements.\n",
    "Return a sorted array of the unique integers.\n",
    "Example 1:\n",
    "\n",
    "Input: digits = [2,1,3,0]\n",
    "Output: [102,120,130,132,210,230,302,310,312,320]\n",
    "Explanation: All the possible integers that follow the requirements are in the output array. \n",
    "Notice that there are no odd integers or integers with leading zeros.\n",
    "Example 2:\n",
    "\n",
    "Input: digits = [2,2,8,8,2]\n",
    "Output: [222,228,282,288,822,828,882]\n",
    "Explanation: The same digit can be used as many times as it appears in digits. \n",
    "In this example, the digit 8 is used twice each time in 288, 828, and 882. \n",
    "Example 3:\n",
    "\n",
    "Input: digits = [3,7,5]\n",
    "Output: []\n",
    "Explanation: No even integers can be formed using the given digits.\n",
    "\"\"\"\n",
    "\n",
    "from itertools import permutations # 'itertools.permutations' will generate all possible permutations of input elements\n",
    "from itertools import starmap # 'itertools.starmap' will combine, merge elements within each iterable\n",
    "\n",
    "class Solution:\n",
    "    def findEvenNumbers(self, digits: List[int]) -> List[int]:\n",
    "        digits = list(map(str, digits)) # Firstly, we transform integers into strings\n",
    "        digits = list(set(list(permutations(digits, 3)))) # Secondly, we generate permutations\n",
    "        digits = list(starmap(lambda x, y, z: x + y + z, digits)) # Thirdly, we create new elements\n",
    "        digits = list(map(int, digits))\n",
    "        def filter_func(x):\n",
    "            if x > 99 and x % 2 == 0:\n",
    "                return 1\n",
    "            return 0\n",
    "        # To meet the parity requirement as well as to remove elements with leading zeros we use the 'filter'\n",
    "        # function\n",
    "        final = sorted(list(filter(filter_func, digits)))\n",
    "        return final\n",
    "    \n",
    "a = Solution()\n",
    "a.findEvenNumbers([2,2,8,8,2])"
   ]
  }
 ],
 "metadata": {
  "kernelspec": {
   "display_name": "Python 3 (ipykernel)",
   "language": "python",
   "name": "python3"
  },
  "language_info": {
   "codemirror_mode": {
    "name": "ipython",
    "version": 3
   },
   "file_extension": ".py",
   "mimetype": "text/x-python",
   "name": "python",
   "nbconvert_exporter": "python",
   "pygments_lexer": "ipython3",
   "version": "3.9.7"
  }
 },
 "nbformat": 4,
 "nbformat_minor": 5
}
