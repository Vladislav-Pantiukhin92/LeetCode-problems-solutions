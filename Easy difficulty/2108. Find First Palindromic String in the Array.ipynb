{
 "cells": [
  {
   "cell_type": "markdown",
   "id": "3176f56b",
   "metadata": {},
   "source": [
    "### 2108. Find First Palindromic String in the Array"
   ]
  },
  {
   "cell_type": "code",
   "execution_count": 297,
   "id": "d1d2acd3",
   "metadata": {},
   "outputs": [
    {
     "data": {
      "text/plain": [
       "'ada'"
      ]
     },
     "execution_count": 297,
     "metadata": {},
     "output_type": "execute_result"
    }
   ],
   "source": [
    "\"\"\"\n",
    "Given an array of strings words, return the first palindromic string in the array. \n",
    "If there is no such string, return an empty string \"\".\n",
    "A string is palindromic if it reads the same forward and backward.\n",
    "Example 1:\n",
    "\n",
    "Input: words = [\"abc\",\"car\",\"ada\",\"racecar\",\"cool\"]\n",
    "Output: \"ada\"\n",
    "Explanation: The first string that is palindromic is \"ada\".\n",
    "Note that \"racecar\" is also palindromic, but it is not the first.\n",
    "Example 2:\n",
    "\n",
    "Input: words = [\"notapalindrome\",\"racecar\"]\n",
    "Output: \"racecar\"\n",
    "Explanation: The first and only string that is palindromic is \"racecar\".\n",
    "Example 3:\n",
    "\n",
    "Input: words = [\"def\",\"ghi\"]\n",
    "Output: \"\"\n",
    "Explanation: There are no palindromic strings, so the empty string is returned.\n",
    "\"\"\"\n",
    "\n",
    "# SOLUTION №1\n",
    "\n",
    "class Solution:\n",
    "    # The below-underlined function is aimed at identifying the longest palindromes within the input string\n",
    "    def firstPalindrome(self, words) -> str:\n",
    "        def longest_palindrome(string):\n",
    "            maxLength = 0 # The initial maxLength is 0\n",
    "            for i in range(len(string)):\n",
    "                l, r = i, i # The code for odd-numbered palindromes\n",
    "                # We are going in opposite directions while the same letters are faced\n",
    "                while l >= 0 and r < len(string) and string[l] == string[r]:\n",
    "                    if (r - l) + 1 > maxLength: # If necessary, the maxLength is regularly updated\n",
    "                        maxLength = (r - l) + 1\n",
    "                    l -= 1\n",
    "                    r += 1\n",
    "            for i in range(len(string)):\n",
    "                l, r = i, i + 1 # The code for even-numbered palindromes\n",
    "                # We are going in opposite directions while the same letters are faced\n",
    "                while l >= 0 and r < len(string) and string[l] == string[r]:\n",
    "                    if (r - l) + 1 > maxLength: # If necessary, the maxLength is regularly updated\n",
    "                        maxLength = (r - l) + 1\n",
    "                    l -= 1\n",
    "                    r += 1\n",
    "            if maxLength == len(string): # If the longest palindrome within the word is the word itself, then the word is returned\n",
    "                return string\n",
    "            else:\n",
    "                return False\n",
    "        for i in words: # Each word is passed on to the function \n",
    "            result = longest_palindrome(i) # Depending on the result, the string or empty string can be returned\n",
    "            if result:\n",
    "                return i\n",
    "        return \"\"\n",
    "\n",
    "a = Solution()\n",
    "a.firstPalindrome([\"abc\",\"car\",\"ada\",\"racecar\",\"cool\"])"
   ]
  },
  {
   "cell_type": "code",
   "execution_count": 299,
   "id": "89cd9f55",
   "metadata": {},
   "outputs": [
    {
     "data": {
      "text/plain": [
       "'ada'"
      ]
     },
     "execution_count": 299,
     "metadata": {},
     "output_type": "execute_result"
    }
   ],
   "source": [
    "# SOLUTION №2\n",
    "\n",
    "class Solution:\n",
    "    def firstPalindrome(self, words) -> str:\n",
    "        # The following strategy is to reverse all words within the input list and implement element-by-element\n",
    "        # comparisons between the original and reversed lists, using two pointers\n",
    "        reverse_list = list(map(lambda x: x[::-1], words))\n",
    "        i = 0\n",
    "        j = 0\n",
    "        while i < len(words):\n",
    "            if words[i] == reverse_list[j]: # The first case, where the word from the original list equals to the \n",
    "                # word from the reversed list, will be returned\n",
    "                return words[i]\n",
    "            i += 1\n",
    "            j += 1\n",
    "        return \"\"\n",
    "    \n",
    "a = Solution()\n",
    "a.firstPalindrome([\"abc\",\"car\",\"ada\",\"racecar\",\"cool\"])"
   ]
  }
 ],
 "metadata": {
  "kernelspec": {
   "display_name": "Python 3 (ipykernel)",
   "language": "python",
   "name": "python3"
  },
  "language_info": {
   "codemirror_mode": {
    "name": "ipython",
    "version": 3
   },
   "file_extension": ".py",
   "mimetype": "text/x-python",
   "name": "python",
   "nbconvert_exporter": "python",
   "pygments_lexer": "ipython3",
   "version": "3.9.7"
  }
 },
 "nbformat": 4,
 "nbformat_minor": 5
}
