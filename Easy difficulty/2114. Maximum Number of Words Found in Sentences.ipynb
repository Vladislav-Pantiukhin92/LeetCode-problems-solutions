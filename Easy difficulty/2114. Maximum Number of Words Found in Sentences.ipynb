{
 "cells": [
  {
   "cell_type": "markdown",
   "id": "aeb40621",
   "metadata": {},
   "source": [
    "### 2114. Maximum Number of Words Found in Sentences"
   ]
  },
  {
   "cell_type": "code",
   "execution_count": 82,
   "id": "23477892",
   "metadata": {},
   "outputs": [
    {
     "data": {
      "text/plain": [
       "6"
      ]
     },
     "execution_count": 82,
     "metadata": {},
     "output_type": "execute_result"
    }
   ],
   "source": [
    "\"\"\"\n",
    "A sentence is a list of words that are separated by a single space with no leading or trailing spaces.\n",
    "You are given an array of strings sentences, where each sentences[i] represents a single sentence.\n",
    "Return the maximum number of words that appear in a single sentence.\n",
    "\n",
    "Example 1:\n",
    "\n",
    "Input: sentences = [\"alice and bob love leetcode\", \"i think so too\", \"this is great thanks very much\"]\n",
    "Output: 6\n",
    "Explanation: \n",
    "- The first sentence, \"alice and bob love leetcode\", has 5 words in total.\n",
    "- The second sentence, \"i think so too\", has 4 words in total.\n",
    "- The third sentence, \"this is great thanks very much\", has 6 words in total.\n",
    "Thus, the maximum number of words in a single sentence comes from the third sentence, which has 6 words.\n",
    "Example 2:\n",
    "\n",
    "Input: sentences = [\"please wait\", \"continue to fight\", \"continue to win\"]\n",
    "Output: 3\n",
    "Explanation: It is possible that multiple sentences contain the same number of words. \n",
    "In this example, the second and third sentences (underlined) have the same number of words.\n",
    "\"\"\"\n",
    "\n",
    "import re \n",
    "\n",
    "class Solution:\n",
    "    def mostWordsFound(self, sentences: List[str]) -> int:\n",
    "        maxLength = 0\n",
    "        for i in sentences:\n",
    "            # Regular expression will be used to extract words (all chunks of values, except spaces)\n",
    "            maxLength = max(maxLength, len(re.findall(r\"\\S+\", i)))\n",
    "        return maxLength\n",
    "    \n",
    "a = Solution()\n",
    "a.mostWordsFound([\"alice and bob love leetcode\", \"i think so too\", \"this is great thanks very much\"])"
   ]
  }
 ],
 "metadata": {
  "kernelspec": {
   "display_name": "Python 3 (ipykernel)",
   "language": "python",
   "name": "python3"
  },
  "language_info": {
   "codemirror_mode": {
    "name": "ipython",
    "version": 3
   },
   "file_extension": ".py",
   "mimetype": "text/x-python",
   "name": "python",
   "nbconvert_exporter": "python",
   "pygments_lexer": "ipython3",
   "version": "3.9.7"
  }
 },
 "nbformat": 4,
 "nbformat_minor": 5
}
