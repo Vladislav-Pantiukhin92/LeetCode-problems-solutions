{
 "cells": [
  {
   "cell_type": "markdown",
   "id": "28dfd69f",
   "metadata": {},
   "source": [
    "### 2119. A Number After a Double Reversal"
   ]
  },
  {
   "cell_type": "code",
   "execution_count": 42,
   "id": "6803dad4",
   "metadata": {},
   "outputs": [
    {
     "data": {
      "text/plain": [
       "False"
      ]
     },
     "execution_count": 42,
     "metadata": {},
     "output_type": "execute_result"
    }
   ],
   "source": [
    "\"\"\"\n",
    "Reversing an integer means to reverse all its digits.\n",
    "For example, reversing 2021 gives 1202. Reversing 12300 gives 321 as the leading zeros are not retained.\n",
    "Given an integer num, reverse num to get reversed1, then reverse reversed1 to get reversed2. \n",
    "Return true if reversed2 equals num. Otherwise return false.\n",
    "Example 1:\n",
    "\n",
    "Input: num = 526\n",
    "Output: true\n",
    "Explanation: Reverse num to get 625, then reverse 625 to get 526, which equals num.\n",
    "Example 2:\n",
    "\n",
    "Input: num = 1800\n",
    "Output: false\n",
    "Explanation: Reverse num to get 81, then reverse 81 to get 18, which does not equal num.\n",
    "Example 3:\n",
    "\n",
    "Input: num = 0\n",
    "Output: true\n",
    "Explanation: Reverse num to get 0, then reverse 0 to get 0, which equals num.\n",
    "\"\"\"\n",
    "\n",
    "class Solution:\n",
    "    def isSameAfterReversals(self, num: int) -> bool:\n",
    "        # The chain of steps: transformation into the string type -> reversal -> transformation into the integer \n",
    "        # type again\n",
    "        reversed1 = int(str(num)[::-1])\n",
    "        reversed2 = int(str(reversed1)[::-1]) # The similar operation is repeated\n",
    "        if num - reversed2 == 0: # Two numbers are the same if their difference equals to 0\n",
    "            return True\n",
    "        return False\n",
    "    \n",
    "a = Solution()\n",
    "a.isSameAfterReversals(1800)"
   ]
  }
 ],
 "metadata": {
  "kernelspec": {
   "display_name": "Python 3 (ipykernel)",
   "language": "python",
   "name": "python3"
  },
  "language_info": {
   "codemirror_mode": {
    "name": "ipython",
    "version": 3
   },
   "file_extension": ".py",
   "mimetype": "text/x-python",
   "name": "python",
   "nbconvert_exporter": "python",
   "pygments_lexer": "ipython3",
   "version": "3.9.7"
  }
 },
 "nbformat": 4,
 "nbformat_minor": 5
}
