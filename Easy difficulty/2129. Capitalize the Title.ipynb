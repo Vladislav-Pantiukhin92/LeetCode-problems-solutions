{
 "cells": [
  {
   "cell_type": "markdown",
   "id": "7d2b7cb9",
   "metadata": {},
   "source": [
    "### 2129. Capitalize the Title"
   ]
  },
  {
   "cell_type": "code",
   "execution_count": 9,
   "id": "7f2bd5eb",
   "metadata": {},
   "outputs": [
    {
     "data": {
      "text/plain": [
       "'i Love Leetcode'"
      ]
     },
     "execution_count": 9,
     "metadata": {},
     "output_type": "execute_result"
    }
   ],
   "source": [
    "\"\"\"\n",
    "You are given a string title consisting of one or more words separated by a single space, \n",
    "where each word consists of English letters. Capitalize the string by changing the capitalization of each word such that:\n",
    "If the length of the word is 1 or 2 letters, change all letters to lowercase.\n",
    "Otherwise, change the first letter to uppercase and the remaining letters to lowercase.\n",
    "Return the capitalized title.\n",
    "Example 1:\n",
    "\n",
    "Input: title = \"capiTalIze tHe titLe\"\n",
    "Output: \"Capitalize The Title\"\n",
    "Explanation:\n",
    "Since all the words have a length of at least 3, the first letter of each word is uppercase, and the remaining letters are lowercase.\n",
    "Example 2:\n",
    "\n",
    "Input: title = \"First leTTeR of EACH Word\"\n",
    "Output: \"First Letter of Each Word\"\n",
    "Explanation:\n",
    "The word \"of\" has length 2, so it is all lowercase.\n",
    "The remaining words have a length of at least 3, so the first letter of each remaining word is uppercase, and the remaining letters are lowercase.\n",
    "Example 3:\n",
    "\n",
    "Input: title = \"i lOve leetcode\"\n",
    "Output: \"i Love Leetcode\"\n",
    "Explanation:\n",
    "The word \"i\" has length 1, so it is lowercase.\n",
    "The remaining words have a length of at least 3, so the first letter of each remaining word is uppercase, and the remaining letters are lowercase.\n",
    "\"\"\"\n",
    "\n",
    "class Solution:\n",
    "    def capitalizeTitle(self, title: str) -> str:\n",
    "        # The first step is the lowercase convertion of all letters (str.casefold())\n",
    "        # The second step is the string being divided into independent lowercase words (str.split())\n",
    "        # The third step is the capitalization of words, which are longer than 2 characters (str.capitalize())\n",
    "        # The final step is to convert the list of strings into the whole string output\n",
    "        return \" \".join([i if len(i) < 3 else i.capitalize() for i in title.casefold().split()])\n",
    "    \n",
    "a = Solution()\n",
    "a.capitalizeTitle(\"i lOve leetcode\")"
   ]
  }
 ],
 "metadata": {
  "kernelspec": {
   "display_name": "Python 3 (ipykernel)",
   "language": "python",
   "name": "python3"
  },
  "language_info": {
   "codemirror_mode": {
    "name": "ipython",
    "version": 3
   },
   "file_extension": ".py",
   "mimetype": "text/x-python",
   "name": "python",
   "nbconvert_exporter": "python",
   "pygments_lexer": "ipython3",
   "version": "3.9.7"
  }
 },
 "nbformat": 4,
 "nbformat_minor": 5
}
