{
 "cells": [
  {
   "cell_type": "markdown",
   "id": "cd8256a8",
   "metadata": {},
   "source": [
    "### 2148. Count Elements With Strictly Smaller and Greater Elements"
   ]
  },
  {
   "cell_type": "code",
   "execution_count": 13,
   "id": "87d8da5f",
   "metadata": {},
   "outputs": [
    {
     "data": {
      "text/plain": [
       "2"
      ]
     },
     "execution_count": 13,
     "metadata": {},
     "output_type": "execute_result"
    }
   ],
   "source": [
    "\"\"\"\n",
    "Given an integer array nums, return the number of elements that have both a strictly smaller and a strictly greater element appear in nums.\n",
    "Example 1:\n",
    "\n",
    "Input: nums = [11,7,2,15]\n",
    "Output: 2\n",
    "Explanation: The element 7 has the element 2 strictly smaller than it and the element 11 strictly greater than it.\n",
    "Element 11 has element 7 strictly smaller than it and element 15 strictly greater than it.\n",
    "In total there are 2 elements having both a strictly smaller and a strictly greater element appear in nums.\n",
    "Example 2:\n",
    "\n",
    "Input: nums = [-3,3,3,90]\n",
    "Output: 2\n",
    "Explanation: The element 3 has the element -3 strictly smaller than it and the element 90 strictly greater than it.\n",
    "Since there are two elements with the value 3, in total there are 2 elements having both a strictly smaller and a strictly greater element appear in nums.\n",
    "\"\"\"\n",
    "\n",
    "class Solution:\n",
    "    def countElements(self, nums: List[int]) -> int:\n",
    "        sortedArr = sorted(nums) # Let's sort the input list and find the minValue (index[0]) and maxValue (index[-1])\n",
    "        minValue = sortedArr[0]\n",
    "        maxValue = sortedArr[-1]\n",
    "        if minValue == maxValue: # If the minValue and the maxValue are the same numbers, there is nothing to return\n",
    "            return 0\n",
    "        # If it is not the case, then, it is important to eliminate both the maxValue and the minValue and return \n",
    "        # the length of the remaining list\n",
    "        for _ in range(sortedArr.count(minValue)):\n",
    "            sortedArr.remove(minValue)\n",
    "        if not sortedArr: # In the meantime, we need to verify the existence of elements in the list, following the \n",
    "            # eradication of maxElements (including its duplicates) and minElements (including its duplicates as well)\n",
    "            return 0\n",
    "        for _ in range(sortedArr.count(maxValue)):\n",
    "            sortedArr.remove(maxValue)\n",
    "        if not sortedArr:\n",
    "            return 0\n",
    "        return len(sortedArr) # The final result is the length of the list with remaining elements\n",
    "    \n",
    "a = Solution()\n",
    "a.countElements([-3,3,3,90])"
   ]
  }
 ],
 "metadata": {
  "kernelspec": {
   "display_name": "Python 3 (ipykernel)",
   "language": "python",
   "name": "python3"
  },
  "language_info": {
   "codemirror_mode": {
    "name": "ipython",
    "version": 3
   },
   "file_extension": ".py",
   "mimetype": "text/x-python",
   "name": "python",
   "nbconvert_exporter": "python",
   "pygments_lexer": "ipython3",
   "version": "3.9.7"
  }
 },
 "nbformat": 4,
 "nbformat_minor": 5
}
