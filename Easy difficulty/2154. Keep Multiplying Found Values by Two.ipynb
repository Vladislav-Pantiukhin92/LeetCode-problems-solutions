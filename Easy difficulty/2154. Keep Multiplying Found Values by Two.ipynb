{
 "cells": [
  {
   "cell_type": "markdown",
   "id": "982e77eb",
   "metadata": {},
   "source": [
    "### 2154. Keep Multiplying Found Values by Two"
   ]
  },
  {
   "cell_type": "code",
   "execution_count": 303,
   "id": "7c9d46a1",
   "metadata": {},
   "outputs": [
    {
     "data": {
      "text/plain": [
       "4"
      ]
     },
     "execution_count": 303,
     "metadata": {},
     "output_type": "execute_result"
    }
   ],
   "source": [
    "\"\"\"\n",
    "You are given an array of integers nums. You are also given an integer original which is \n",
    "the first number that needs to be searched for in nums.\n",
    "You then do the following steps:\n",
    "\n",
    "If original is found in nums, multiply it by two (i.e., set original = 2 * original).\n",
    "Otherwise, stop the process.\n",
    "Repeat this process with the new number as long as you keep finding the number.\n",
    "Return the final value of original.\n",
    "Example 1:\n",
    "\n",
    "Input: nums = [5,3,6,1,12], original = 3\n",
    "Output: 24\n",
    "Explanation: \n",
    "- 3 is found in nums. 3 is multiplied by 2 to obtain 6.\n",
    "- 6 is found in nums. 6 is multiplied by 2 to obtain 12.\n",
    "- 12 is found in nums. 12 is multiplied by 2 to obtain 24.\n",
    "- 24 is not found in nums. Thus, 24 is returned.\n",
    "Example 2:\n",
    "\n",
    "Input: nums = [2,7,9], original = 4\n",
    "Output: 4\n",
    "Explanation:\n",
    "- 4 is not found in nums. Thus, 4 is returned.\n",
    "\"\"\"\n",
    "\n",
    "# The below-underlined solution is implemented through the Jump Search algorithm \n",
    "\n",
    "class Solution:\n",
    "    def findFinalValue(self, nums, original: int) -> int:\n",
    "        if len(nums) < 2: # The specific case, where the list contains only one element\n",
    "            if nums[0] == original:\n",
    "                return original * 2\n",
    "            else:\n",
    "                return original\n",
    "        # In other cases, the input list will be sorted\n",
    "        sorted_array = sorted(nums)\n",
    "        # After that, the target value is found through the Jump Search algorithm\n",
    "        # The list is subdivided into steps (that is, slices)\n",
    "        # When the slice with the target value's location is found, the Linear Search algorithm is executed\n",
    "        def jumpSearch(array, target):\n",
    "            length = len(array)\n",
    "            step = int(sqrt(length))\n",
    "            prev = 0\n",
    "            while array[int(min(step, length) - 1)] < target:\n",
    "                prev = step\n",
    "                step += int(sqrt(length))\n",
    "                if step >= length:\n",
    "                    break\n",
    "            while prev < len(array) and array[prev] < target:\n",
    "                prev += 1\n",
    "                if prev == min(step, length):\n",
    "                    return False\n",
    "            if array[prev] == target:\n",
    "                return True\n",
    "            return False\n",
    "        # The Jump Search algorithm is passed on to the variable 'result'\n",
    "        result = jumpSearch(sorted_array, original)\n",
    "        if result is False: # If the target index wasn't found - return the original value\n",
    "            return original\n",
    "        else:\n",
    "            while result: # Otherwise, repeatedly, in case of 'True' response, the original value will be doubled\n",
    "                original *= 2\n",
    "                result = jumpSearch(sorted_array, original)\n",
    "            else:\n",
    "                return original\n",
    "a = Solution()\n",
    "a.findFinalValue([2,7,9], 4)"
   ]
  }
 ],
 "metadata": {
  "kernelspec": {
   "display_name": "Python 3 (ipykernel)",
   "language": "python",
   "name": "python3"
  },
  "language_info": {
   "codemirror_mode": {
    "name": "ipython",
    "version": 3
   },
   "file_extension": ".py",
   "mimetype": "text/x-python",
   "name": "python",
   "nbconvert_exporter": "python",
   "pygments_lexer": "ipython3",
   "version": "3.9.7"
  }
 },
 "nbformat": 4,
 "nbformat_minor": 5
}
