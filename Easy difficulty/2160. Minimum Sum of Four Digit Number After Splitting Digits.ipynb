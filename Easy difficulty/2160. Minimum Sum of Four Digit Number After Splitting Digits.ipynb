{
 "cells": [
  {
   "cell_type": "markdown",
   "id": "583442df",
   "metadata": {},
   "source": [
    "### 2160. Minimum Sum of Four Digit Number After Splitting Digits"
   ]
  },
  {
   "cell_type": "code",
   "execution_count": 85,
   "id": "63bf9908",
   "metadata": {},
   "outputs": [
    {
     "data": {
      "text/plain": [
       "52"
      ]
     },
     "execution_count": 85,
     "metadata": {},
     "output_type": "execute_result"
    }
   ],
   "source": [
    "\"\"\"\n",
    "You are given a positive integer num consisting of exactly four digits. \n",
    "Split num into two new integers new1 and new2 by using the digits found in num. Leading zeros are allowed \n",
    "in new1 and new2, and all the digits found in num must be used.\n",
    "For example, given num = 2932, you have the following digits: two 2's, one 9 and one 3. \n",
    "Some of the possible pairs [new1, new2] are [22, 93], [23, 92], [223, 9] and [2, 329].\n",
    "Return the minimum possible sum of new1 and new2.\n",
    "\n",
    "Example 1:\n",
    "Input: num = 2932\n",
    "Output: 52\n",
    "Explanation: Some possible pairs [new1, new2] are [29, 23], [223, 9], etc.\n",
    "The minimum sum can be obtained by the pair [29, 23]: 29 + 23 = 52.\n",
    "Example 2:\n",
    "\n",
    "Input: num = 4009\n",
    "Output: 13\n",
    "Explanation: Some possible pairs [new1, new2] are [0, 49], [490, 0], etc. \n",
    "The minimum sum can be obtained by the pair [4, 9]: 4 + 9 = 13.\n",
    "\"\"\"\n",
    "\n",
    "from itertools import permutations # 'itertools.permutations' will return all the appropriate letters combinations\n",
    "from operator import * # 'operator.add' will replicate the internal work of Python addition function\n",
    "\n",
    "\n",
    "class Solution:\n",
    "    def minimumSum(self, num: int) -> int:\n",
    "        addition_options = [] # The list will store all addition results\n",
    "        combinationList = list(permutations(str(num), 4))\n",
    "        for i in combinationList:\n",
    "            index = 0\n",
    "            while index < len(i) - 1:\n",
    "                # We will combine different digit slices and their sum\n",
    "                curSum = add(int(\"\".join(i[:index + 1])), int(\"\".join(i[index + 1:])))\n",
    "                addition_options.append(curSum)\n",
    "                index += 1\n",
    "        return min(addition_options) # We will return the minResult from the array\n",
    "    \n",
    "a = Solution()\n",
    "a.minimumSum(2932)"
   ]
  }
 ],
 "metadata": {
  "kernelspec": {
   "display_name": "Python 3 (ipykernel)",
   "language": "python",
   "name": "python3"
  },
  "language_info": {
   "codemirror_mode": {
    "name": "ipython",
    "version": 3
   },
   "file_extension": ".py",
   "mimetype": "text/x-python",
   "name": "python",
   "nbconvert_exporter": "python",
   "pygments_lexer": "ipython3",
   "version": "3.9.7"
  }
 },
 "nbformat": 4,
 "nbformat_minor": 5
}
