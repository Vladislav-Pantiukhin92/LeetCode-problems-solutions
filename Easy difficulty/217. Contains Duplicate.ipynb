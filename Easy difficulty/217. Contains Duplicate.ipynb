{
 "cells": [
  {
   "cell_type": "markdown",
   "id": "e5999068",
   "metadata": {},
   "source": [
    "### 217. Contains Duplicate"
   ]
  },
  {
   "cell_type": "code",
   "execution_count": 1,
   "id": "4641f6f0",
   "metadata": {},
   "outputs": [
    {
     "data": {
      "text/plain": [
       "True"
      ]
     },
     "execution_count": 1,
     "metadata": {},
     "output_type": "execute_result"
    }
   ],
   "source": [
    "\"\"\"\n",
    "Given an integer array nums, return true if any value appears at least twice in the array, \n",
    "and return false if every element is distinct.\n",
    "Example 1:\n",
    "\n",
    "Input: nums = [1,2,3,1]\n",
    "Output: true\n",
    "Example 2:\n",
    "\n",
    "Input: nums = [1,2,3,4]\n",
    "Output: false\n",
    "Example 3:\n",
    "\n",
    "Input: nums = [1,1,1,3,3,4,3,2,4,2]\n",
    "Output: true\n",
    "\"\"\"\n",
    "\n",
    "class Solution:\n",
    "    def containsDuplicate(self, nums: List[int]) -> bool:\n",
    "        # Set structure removes duplicates, as a result, only unique elements remain\n",
    "        # So if the set length != the length of the initial input list - it means that there were some duplicates \n",
    "        return len(set(nums)) != len(nums)\n",
    "    \n",
    "a = Solution()\n",
    "a.containsDuplicate([1,1,1,3,3,4,3,2,4,2])"
   ]
  }
 ],
 "metadata": {
  "kernelspec": {
   "display_name": "Python 3 (ipykernel)",
   "language": "python",
   "name": "python3"
  },
  "language_info": {
   "codemirror_mode": {
    "name": "ipython",
    "version": 3
   },
   "file_extension": ".py",
   "mimetype": "text/x-python",
   "name": "python",
   "nbconvert_exporter": "python",
   "pygments_lexer": "ipython3",
   "version": "3.9.7"
  }
 },
 "nbformat": 4,
 "nbformat_minor": 5
}
