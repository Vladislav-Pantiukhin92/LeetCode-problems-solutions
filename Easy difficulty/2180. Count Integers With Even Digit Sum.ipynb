{
 "cells": [
  {
   "cell_type": "markdown",
   "id": "aba84616",
   "metadata": {},
   "source": [
    "### 2180. Count Integers With Even Digit Sum"
   ]
  },
  {
   "cell_type": "code",
   "execution_count": 5,
   "id": "dfb42162",
   "metadata": {},
   "outputs": [
    {
     "data": {
      "text/plain": [
       "14"
      ]
     },
     "execution_count": 5,
     "metadata": {},
     "output_type": "execute_result"
    }
   ],
   "source": [
    "\"\"\"\n",
    "Given a positive integer num, return the number of positive integers less than or equal to num whose \n",
    "digit sums are even.\n",
    "The digit sum of a positive integer is the sum of all its digits.\n",
    "Example 1:\n",
    "\n",
    "Input: num = 4\n",
    "Output: 2\n",
    "Explanation:\n",
    "The only integers less than or equal to 4 whose digit sums are even are 2 and 4.    \n",
    "Example 2:\n",
    "\n",
    "Input: num = 30\n",
    "Output: 14\n",
    "Explanation:\n",
    "The 14 integers less than or equal to 30 whose digit sums are even are\n",
    "2, 4, 6, 8, 11, 13, 15, 17, 19, 20, 22, 24, 26, and 28.\n",
    "\"\"\"\n",
    "\n",
    "class Solution:\n",
    "    def countEven(self, num: int) -> int:\n",
    "        # The range of numbers from 1 to num inclusively is generated\n",
    "        numArray = list(map(str, list(range(1, num + 1))))\n",
    "        # The 'filter' function helps to remove numbers without even digits sum\n",
    "        def filter_func(x): # It is the function to remove numbers without even digits sum\n",
    "            if sum(list(map(int, list(x)))) % 2 == 0:\n",
    "                return 1\n",
    "            return 0\n",
    "        final = list(filter(filter_func, numArray))\n",
    "        return len(final) # The final result is the length of the filtered array\n",
    "    \n",
    "a = Solution()\n",
    "a.countEven(30)"
   ]
  }
 ],
 "metadata": {
  "kernelspec": {
   "display_name": "Python 3 (ipykernel)",
   "language": "python",
   "name": "python3"
  },
  "language_info": {
   "codemirror_mode": {
    "name": "ipython",
    "version": 3
   },
   "file_extension": ".py",
   "mimetype": "text/x-python",
   "name": "python",
   "nbconvert_exporter": "python",
   "pygments_lexer": "ipython3",
   "version": "3.9.7"
  }
 },
 "nbformat": 4,
 "nbformat_minor": 5
}
