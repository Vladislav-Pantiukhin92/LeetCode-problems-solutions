{
 "cells": [
  {
   "cell_type": "markdown",
   "id": "cafd8ac6",
   "metadata": {},
   "source": [
    "### 2190. Most Frequent Number Following Key In an Array"
   ]
  },
  {
   "cell_type": "code",
   "execution_count": 2,
   "id": "993ef5e9",
   "metadata": {},
   "outputs": [
    {
     "data": {
      "text/plain": [
       "2"
      ]
     },
     "execution_count": 2,
     "metadata": {},
     "output_type": "execute_result"
    }
   ],
   "source": [
    "\"\"\"\n",
    "You are given a 0-indexed integer array nums. You are also given an integer key, which is present in nums.\n",
    "For every unique integer target in nums, count the number of times target immediately follows an \n",
    "occurrence of key in nums. In other words, count the number of indices i such that:\n",
    "\n",
    "0 <= i <= nums.length - 2,\n",
    "nums[i] == key and,\n",
    "nums[i + 1] == target.\n",
    "Return the target with the maximum count. The test cases will be generated such that the target with \n",
    "maximum count is unique.\n",
    "Example 1:\n",
    "\n",
    "Input: nums = [1,100,200,1,100], key = 1\n",
    "Output: 100\n",
    "Explanation: For target = 100, there are 2 occurrences at indices 1 and 4 which follow an occurrence \n",
    "of key.\n",
    "No other integers follow an occurrence of key, so we return 100.\n",
    "Example 2:\n",
    "\n",
    "Input: nums = [2,2,2,2,3], key = 2\n",
    "Output: 2\n",
    "Explanation: For target = 2, there are 3 occurrences at indices 1, 2, and 3 which follow an occurrence of key.\n",
    "For target = 3, there is only one occurrence at index 4 which follows an occurrence of key.\n",
    "target = 2 has the maximum number of occurrences following an occurrence of key, so we return 2.\n",
    "\"\"\"\n",
    "\n",
    "from operator import * # 'operator.eq' will be used to compare the key element and the current number\n",
    "\n",
    "class Solution:\n",
    "    def mostFrequent(self, nums: List[int], key: int) -> int:\n",
    "        occurrence_dict = {} # The dictionary will count the occurrence of elements, which follow the key element\n",
    "        # We are going to utilize two pointers for taking into consideration the key element and an element, which \n",
    "        # follows the key element:\n",
    "        i = 0\n",
    "        j = 1\n",
    "        length = len(nums) # The length of the given input list\n",
    "        while j < length:\n",
    "            if eq(nums[i], key): # If an encountered element is the key element, we need to store the occurrence of an \n",
    "                # element, which follows the key element:\n",
    "                if nums[j] not in occurrence_dict:\n",
    "                    occurrence_dict[nums[j]] = 1\n",
    "                else:\n",
    "                    occurrence_dict[nums[j]] += 1\n",
    "            i += 1\n",
    "            j += 1\n",
    "        # Now we have the completed dictionary with occurrences, we have to extract the key with the largest \n",
    "        # corresponding value:\n",
    "        target_number = sorted(list(occurrence_dict.items()), key=lambda x: x[1])[-1][0]\n",
    "        return target_number # The key with the largest corresponding value is returned\n",
    "    \n",
    "a = Solution()\n",
    "a.mostFrequent([2,2,2,2,3], key = 2)"
   ]
  }
 ],
 "metadata": {
  "kernelspec": {
   "display_name": "Python 3 (ipykernel)",
   "language": "python",
   "name": "python3"
  },
  "language_info": {
   "codemirror_mode": {
    "name": "ipython",
    "version": 3
   },
   "file_extension": ".py",
   "mimetype": "text/x-python",
   "name": "python",
   "nbconvert_exporter": "python",
   "pygments_lexer": "ipython3",
   "version": "3.9.7"
  }
 },
 "nbformat": 4,
 "nbformat_minor": 5
}
