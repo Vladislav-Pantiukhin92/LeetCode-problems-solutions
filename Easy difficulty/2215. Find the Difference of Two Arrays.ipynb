{
 "cells": [
  {
   "cell_type": "markdown",
   "id": "e8869ed0",
   "metadata": {},
   "source": [
    "### 2215. Find the Difference of Two Arrays"
   ]
  },
  {
   "cell_type": "code",
   "execution_count": 139,
   "id": "91b8d27d",
   "metadata": {},
   "outputs": [
    {
     "data": {
      "text/plain": [
       "[[1, 3], [4, 6]]"
      ]
     },
     "execution_count": 139,
     "metadata": {},
     "output_type": "execute_result"
    }
   ],
   "source": [
    "\"\"\"\n",
    "Given two 0-indexed integer arrays nums1 and nums2, return a list answer of size 2 where:\n",
    "answer[0] is a list of all distinct integers in nums1 which are not present in nums2.\n",
    "answer[1] is a list of all distinct integers in nums2 which are not present in nums1.\n",
    "Note that the integers in the lists may be returned in any order.\n",
    "Example 1:\n",
    "\n",
    "Input: nums1 = [1,2,3], nums2 = [2,4,6]\n",
    "Output: [[1,3],[4,6]]\n",
    "Explanation:\n",
    "For nums1, nums1[1] = 2 is present at index 0 of nums2, whereas nums1[0] = 1 and nums1[2] = 3 are not present in nums2. Therefore, answer[0] = [1,3].\n",
    "For nums2, nums2[0] = 2 is present at index 1 of nums1, whereas nums2[1] = 4 and nums2[2] = 6 are not present in nums2. Therefore, answer[1] = [4,6].\n",
    "Example 2:\n",
    "\n",
    "Input: nums1 = [1,2,3,3], nums2 = [1,1,2,2]\n",
    "Output: [[3],[]]\n",
    "Explanation:\n",
    "For nums1, nums1[2] and nums1[3] are not present in nums2. Since nums1[2] == nums1[3], their value is only included once and answer[0] = [3].\n",
    "Every integer in nums2 is present in nums1. Therefore, answer[1] = [].\n",
    "\"\"\"\n",
    "\n",
    "class Solution:\n",
    "    # To solve this problem it is relevant to use the set method (set1.difference.set2)\n",
    "    def findDifference(self, nums1: List[int], nums2: List[int]) -> List[List[int]]:\n",
    "        first = list(set(nums1).difference(set(nums2))) # To find unique elements exclusively for set1\n",
    "        second = list(set(nums2).difference(set(nums1))) # To find unique elements exclusively for set2\n",
    "        return [first, second]\n",
    "    \n",
    "a = Solution()\n",
    "a.findDifference([1,2,3], [2,4,6])"
   ]
  }
 ],
 "metadata": {
  "kernelspec": {
   "display_name": "Python 3 (ipykernel)",
   "language": "python",
   "name": "python3"
  },
  "language_info": {
   "codemirror_mode": {
    "name": "ipython",
    "version": 3
   },
   "file_extension": ".py",
   "mimetype": "text/x-python",
   "name": "python",
   "nbconvert_exporter": "python",
   "pygments_lexer": "ipython3",
   "version": "3.9.7"
  }
 },
 "nbformat": 4,
 "nbformat_minor": 5
}
