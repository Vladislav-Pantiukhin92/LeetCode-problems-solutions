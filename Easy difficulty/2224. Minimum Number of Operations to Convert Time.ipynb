{
 "cells": [
  {
   "cell_type": "markdown",
   "id": "68c372e3",
   "metadata": {},
   "source": [
    "### 2224. Minimum Number of Operations to Convert Time"
   ]
  },
  {
   "cell_type": "code",
   "execution_count": 12,
   "id": "b6836c31",
   "metadata": {},
   "outputs": [
    {
     "data": {
      "text/plain": [
       "3"
      ]
     },
     "execution_count": 12,
     "metadata": {},
     "output_type": "execute_result"
    }
   ],
   "source": [
    "\"\"\"\n",
    "You are given two strings current and correct representing two 24-hour times.\n",
    "24-hour times are formatted as \"HH:MM\", where HH is between 00 and 23, and MM is between 00 and 59. \n",
    "The earliest 24-hour time is 00:00, and the latest is 23:59.\n",
    "In one operation you can increase the time current by 1, 5, 15, or 60 minutes. You can perform this \n",
    "operation any number of times.\n",
    "Return the minimum number of operations needed to convert current to correct.\n",
    "Example 1:\n",
    "\n",
    "Input: current = \"02:30\", correct = \"04:35\"\n",
    "Output: 3\n",
    "Explanation:\n",
    "We can convert current to correct in 3 operations as follows:\n",
    "- Add 60 minutes to current. current becomes \"03:30\".\n",
    "- Add 60 minutes to current. current becomes \"04:30\".\n",
    "- Add 5 minutes to current. current becomes \"04:35\".\n",
    "It can be proven that it is not possible to convert current to correct in fewer than 3 operations.\n",
    "Example 2:\n",
    "\n",
    "Input: current = \"11:00\", correct = \"11:01\"\n",
    "Output: 1\n",
    "Explanation: We only have to add one minute to current, so the minimum number of operations needed is 1.\n",
    "\"\"\"\n",
    "\n",
    "import re # With the help of regular expressions we can be able to extract digits from two input strings\n",
    "\n",
    "class Solution:\n",
    "    def convertTime(self, current: str, correct: str) -> int:\n",
    "        result_1 = list(map(int, re.findall(r\"\\d+\", current))) # Let's extract digits (hours and minutes)\n",
    "        # from the first input string\n",
    "        result_2 = list(map(int, re.findall(r\"\\d+\", correct))) # Let's extract digits (hours and minutes)\n",
    "        # from the second input string\n",
    "        # The second step is to convert the current and correct time into minutes\n",
    "        current_min = result_1[0] * 60 + result_1[1]\n",
    "        correct_min = result_2[0] * 60 + result_2[1]\n",
    "        operations = [1, 5, 15, 60]\n",
    "        count = 0\n",
    "        # The final step is to gradually add minutes, starting from the largest number - 60 minutes as well as\n",
    "        # ending with the smallest number - 1 minute\n",
    "        # Simultaneously we are going to count operations \n",
    "        while True:\n",
    "            curOper = operations.pop()\n",
    "            while current_min < correct_min:\n",
    "                current_min += curOper\n",
    "                count += 1\n",
    "            if current_min == correct_min:\n",
    "                return count\n",
    "            else:\n",
    "                current_min -= curOper # If the number is too large at a certain point, we choose another number - smaller one\n",
    "                count -= 1\n",
    "                \n",
    "a = Solution()\n",
    "a.convertTime(\"02:30\", \"04:35\")"
   ]
  }
 ],
 "metadata": {
  "kernelspec": {
   "display_name": "Python 3 (ipykernel)",
   "language": "python",
   "name": "python3"
  },
  "language_info": {
   "codemirror_mode": {
    "name": "ipython",
    "version": 3
   },
   "file_extension": ".py",
   "mimetype": "text/x-python",
   "name": "python",
   "nbconvert_exporter": "python",
   "pygments_lexer": "ipython3",
   "version": "3.9.7"
  }
 },
 "nbformat": 4,
 "nbformat_minor": 5
}
