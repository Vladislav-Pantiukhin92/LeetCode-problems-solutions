{
 "cells": [
  {
   "cell_type": "markdown",
   "id": "b400a189",
   "metadata": {},
   "source": [
    "### 2231. Largest Number After Digit Swaps by Parity"
   ]
  },
  {
   "cell_type": "code",
   "execution_count": 120,
   "id": "f1b49c59",
   "metadata": {},
   "outputs": [
    {
     "data": {
      "text/plain": [
       "3412"
      ]
     },
     "execution_count": 120,
     "metadata": {},
     "output_type": "execute_result"
    }
   ],
   "source": [
    "\"\"\"\n",
    "You are given a positive integer num. You may swap any two digits of num that have the same parity \n",
    "(i.e. both odd digits or both even digits).\n",
    "Return the largest possible value of num after any number of swaps.\n",
    "Example 1:\n",
    "\n",
    "Input: num = 1234\n",
    "Output: 3412\n",
    "Explanation: Swap the digit 3 with the digit 1, this results in the number 3214.\n",
    "Swap the digit 2 with the digit 4, this results in the number 3412.\n",
    "Note that there may be other sequences of swaps but it can be shown that 3412 is the largest possible number.\n",
    "Also note that we may not swap the digit 4 with the digit 1 since they are of different parities.\n",
    "Example 2:\n",
    "\n",
    "Input: num = 65875\n",
    "Output: 87655\n",
    "Explanation: Swap the digit 8 with the digit 6, this results in the number 85675.\n",
    "Swap the first digit 5 with the digit 7, this results in the number 87655.\n",
    "Note that there may be other sequences of swaps but it can be shown that 87655 is the largest possible number.\n",
    "\"\"\"\n",
    "\n",
    "class Solution:\n",
    "    def largestInteger(self, num: int) -> int:\n",
    "        num = list(str(num))\n",
    "        result = [0] * len(num) # We create the future output list, which is initially filled with 0s\n",
    "    # Through the 'filter' function let's extract even and odd integers separately (these lists wil be sorted\n",
    "    # in reverse order for having the largest elements at the beginning of the list)\n",
    "    # The step is necessary, because the major solution principle envisages that the front digits are the largest \n",
    "    # ones (should be placed at the beginning of the future output integer), as well as the rear digits are \n",
    "    # the smallest ones (should be put at the end of the future output integer)\n",
    "        even_nums = sorted(list(filter(lambda x: int(x) % 2 == 0, num)), reverse=True)\n",
    "        odd_nums = sorted(list(filter(lambda y: int(y) % 2 != 0, num)), reverse=True)\n",
    "        i = 0\n",
    "        j = 0\n",
    "        # With the help of the 'enumerate' function we determine the location of even and odd numbers (from the \n",
    "        # largest ones to the smallest ones) within the output list\n",
    "        for ind, val in enumerate(num):\n",
    "            if int(val) % 2 == 0:\n",
    "                result[ind] = even_nums[i]\n",
    "                i += 1\n",
    "            elif int(val) % 2 != 0:\n",
    "                result[ind] = odd_nums[j]\n",
    "                j += 1\n",
    "        # Now we have the list in proper order\n",
    "        return int(\"\".join(result)) # The final result should be presented as an integer\n",
    "    \n",
    "a = Solution()\n",
    "a.largestInteger(1234)"
   ]
  }
 ],
 "metadata": {
  "kernelspec": {
   "display_name": "Python 3 (ipykernel)",
   "language": "python",
   "name": "python3"
  },
  "language_info": {
   "codemirror_mode": {
    "name": "ipython",
    "version": 3
   },
   "file_extension": ".py",
   "mimetype": "text/x-python",
   "name": "python",
   "nbconvert_exporter": "python",
   "pygments_lexer": "ipython3",
   "version": "3.9.7"
  }
 },
 "nbformat": 4,
 "nbformat_minor": 5
}
