{
 "cells": [
  {
   "cell_type": "markdown",
   "id": "d3277649",
   "metadata": {},
   "source": [
    "### 2235. Add Two Integers"
   ]
  },
  {
   "cell_type": "code",
   "execution_count": 81,
   "id": "38165a7d",
   "metadata": {},
   "outputs": [
    {
     "data": {
      "text/plain": [
       "17"
      ]
     },
     "execution_count": 81,
     "metadata": {},
     "output_type": "execute_result"
    }
   ],
   "source": [
    "\"\"\"\n",
    "Given two integers num1 and num2, return the sum of the two integers.\n",
    "Example 1:\n",
    "\n",
    "Input: num1 = 12, num2 = 5\n",
    "Output: 17\n",
    "Explanation: num1 is 12, num2 is 5, and their sum is 12 + 5 = 17, so 17 is returned.\n",
    "Example 2:\n",
    "\n",
    "Input: num1 = -10, num2 = 4\n",
    "Output: -6\n",
    "Explanation: num1 + num2 = -6, so -6 is returned.\n",
    "\"\"\"\n",
    "\n",
    "from operator import * # 'add.operator' replicates the internal work of Python addition function\n",
    "\n",
    "class Solution:\n",
    "    def sum(self, num1: int, num2: int) -> int:\n",
    "        return add(num1, num2)\n",
    "    \n",
    "a = Solution()\n",
    "a.sum(12, 5)"
   ]
  }
 ],
 "metadata": {
  "kernelspec": {
   "display_name": "Python 3 (ipykernel)",
   "language": "python",
   "name": "python3"
  },
  "language_info": {
   "codemirror_mode": {
    "name": "ipython",
    "version": 3
   },
   "file_extension": ".py",
   "mimetype": "text/x-python",
   "name": "python",
   "nbconvert_exporter": "python",
   "pygments_lexer": "ipython3",
   "version": "3.9.7"
  }
 },
 "nbformat": 4,
 "nbformat_minor": 5
}
