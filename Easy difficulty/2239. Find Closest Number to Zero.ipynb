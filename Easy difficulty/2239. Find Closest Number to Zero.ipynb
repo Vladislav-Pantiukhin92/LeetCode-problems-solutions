{
 "cells": [
  {
   "cell_type": "markdown",
   "id": "51c51882",
   "metadata": {},
   "source": [
    "### 2239. Find Closest Number to Zero"
   ]
  },
  {
   "cell_type": "code",
   "execution_count": 160,
   "id": "0618ba49",
   "metadata": {},
   "outputs": [
    {
     "data": {
      "text/plain": [
       "1"
      ]
     },
     "execution_count": 160,
     "metadata": {},
     "output_type": "execute_result"
    }
   ],
   "source": [
    "\"\"\"\n",
    "Given an integer array nums of size n, return the number with the value closest to 0 in nums. \n",
    "If there are multiple answers, return the number with the largest value.\n",
    "Example 1:\n",
    "\n",
    "Input: nums = [-4,-2,1,4,8]\n",
    "Output: 1\n",
    "Explanation:\n",
    "The distance from -4 to 0 is |-4| = 4.\n",
    "The distance from -2 to 0 is |-2| = 2.\n",
    "The distance from 1 to 0 is |1| = 1.\n",
    "The distance from 4 to 0 is |4| = 4.\n",
    "The distance from 8 to 0 is |8| = 8.\n",
    "Thus, the closest number to 0 in the array is 1.\n",
    "Example 2:\n",
    "\n",
    "Input: nums = [2,-1,1]\n",
    "Output: 1\n",
    "Explanation: 1 and -1 are both the closest numbers to 0, so 1 being larger is returned.\n",
    "\"\"\"\n",
    "\n",
    "class Solution:\n",
    "    def findClosestNumber(self, nums: List[int]) -> int:\n",
    "        if 0 in nums: # The special case - when the input list contains 0\n",
    "            return 0\n",
    "        # We form two lists:\n",
    "        positive = sorted(list(filter(lambda x: x > 0, nums))) # The first list only with positive numbers\n",
    "        negative = sorted(list(filter(lambda x: x < 0, nums))) # The second list only with negative numbers\n",
    "        if positive and negative: # The case when two lists contain elements\n",
    "            pos = positive[0] # The first element within the sorted list with positive numbers is the\n",
    "            # closest value to 0\n",
    "            neg = negative[-1] # The last element within the sorted list with negative numbers \n",
    "            # is the closest value to 0\n",
    "            # Calculation of the smallest gap/difference\n",
    "            diff1 = pos - 0\n",
    "            diff2 = 0 - neg\n",
    "            if diff1 > diff2:\n",
    "                return neg\n",
    "            else:\n",
    "                return pos\n",
    "        else:\n",
    "            if not positive: # The case when the list with positive numbers is empty\n",
    "                neg = negative[-1] # The last element within the sorted list with negative numbers is returned\n",
    "                return neg\n",
    "            else: # The case when the list with negative numbers is empty\n",
    "                pos = positive[0] # The first element within the sorted list with positive numbers is returned\n",
    "                return pos\n",
    "            \n",
    "a = Solution()\n",
    "a.findClosestNumber([2,-1,1])"
   ]
  }
 ],
 "metadata": {
  "kernelspec": {
   "display_name": "Python 3 (ipykernel)",
   "language": "python",
   "name": "python3"
  },
  "language_info": {
   "codemirror_mode": {
    "name": "ipython",
    "version": 3
   },
   "file_extension": ".py",
   "mimetype": "text/x-python",
   "name": "python",
   "nbconvert_exporter": "python",
   "pygments_lexer": "ipython3",
   "version": "3.9.7"
  }
 },
 "nbformat": 4,
 "nbformat_minor": 5
}
