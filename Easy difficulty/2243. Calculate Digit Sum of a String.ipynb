{
 "cells": [
  {
   "cell_type": "markdown",
   "id": "c66f965f",
   "metadata": {},
   "source": [
    "### 2243. Calculate Digit Sum of a String"
   ]
  },
  {
   "cell_type": "code",
   "execution_count": 14,
   "id": "6714b01b",
   "metadata": {},
   "outputs": [
    {
     "data": {
      "text/plain": [
       "'135'"
      ]
     },
     "execution_count": 14,
     "metadata": {},
     "output_type": "execute_result"
    }
   ],
   "source": [
    "\"\"\"\n",
    "You are given a string s consisting of digits and an integer k.\n",
    "A round can be completed if the length of s is greater than k. In one round, do the following:\n",
    "\n",
    "Divide s into consecutive groups of size k such that the first k characters are in the first group, \n",
    "the next k characters are in the second group, and so on. Note that the size of the last group can be \n",
    "smaller than k.\n",
    "Replace each group of s with a string representing the sum of all its digits. For example, \"346\" is \n",
    "replaced with \"13\" because 3 + 4 + 6 = 13.\n",
    "Merge consecutive groups together to form a new string. If the length of the string is greater than k, \n",
    "repeat from step 1.\n",
    "Return s after all rounds have been completed.\n",
    "\n",
    "Example 1:\n",
    "\n",
    "Input: s = \"11111222223\", k = 3\n",
    "Output: \"135\"\n",
    "Explanation: \n",
    "- For the first round, we divide s into groups of size 3: \"111\", \"112\", \"222\", and \"23\".\n",
    "  Then we calculate the digit sum of each group: 1 + 1 + 1 = 3, 1 + 1 + 2 = 4, 2 + 2 + 2 = 6, and 2 + 3 = 5. \n",
    "  So, s becomes \"3\" + \"4\" + \"6\" + \"5\" = \"3465\" after the first round.\n",
    "- For the second round, we divide s into \"346\" and \"5\".\n",
    "  Then we calculate the digit sum of each group: 3 + 4 + 6 = 13, 5 = 5. \n",
    "  So, s becomes \"13\" + \"5\" = \"135\" after second round. \n",
    "Now, s.length <= k, so we return \"135\" as the answer.\n",
    "Example 2:\n",
    "\n",
    "Input: s = \"00000000\", k = 3\n",
    "Output: \"000\"\n",
    "Explanation: \n",
    "We divide s into \"000\", \"000\", and \"00\".\n",
    "Then we calculate the digit sum of each group: 0 + 0 + 0 = 0, 0 + 0 + 0 = 0, and 0 + 0 = 0. \n",
    "s becomes \"0\" + \"0\" + \"0\" = \"000\", whose length is equal to k, so we return \"000\".\n",
    "\"\"\"\n",
    "\n",
    "import re # Regular expression is to be used to split the string into groups of the specific size == k\n",
    "\n",
    "class Solution:\n",
    "    def digitSum(self, s: str, k: int) -> str:\n",
    "        length = len(s) # It is the length of the given input string\n",
    "        while length > k:\n",
    "            # The regular expression splits the string:\n",
    "            result = re.findall(r\"\\d{1,\" + str(k) + \"}\", s)\n",
    "            # The new string is obtained\n",
    "            s = \"\".join(list(map(str, list(map(lambda x: sum(list(map(int, list(x)))), result)))))\n",
    "            length = len(s) # The length of the new string is determined\n",
    "        return s\n",
    "    \n",
    "a = Solution()\n",
    "a.digitSum(\"11111222223\", 3)"
   ]
  }
 ],
 "metadata": {
  "kernelspec": {
   "display_name": "Python 3 (ipykernel)",
   "language": "python",
   "name": "python3"
  },
  "language_info": {
   "codemirror_mode": {
    "name": "ipython",
    "version": 3
   },
   "file_extension": ".py",
   "mimetype": "text/x-python",
   "name": "python",
   "nbconvert_exporter": "python",
   "pygments_lexer": "ipython3",
   "version": "3.9.7"
  }
 },
 "nbformat": 4,
 "nbformat_minor": 5
}
