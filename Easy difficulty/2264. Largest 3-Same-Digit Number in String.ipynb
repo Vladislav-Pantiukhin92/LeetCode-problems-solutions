{
 "cells": [
  {
   "cell_type": "markdown",
   "id": "0512c2c3",
   "metadata": {},
   "source": [
    "### 2264. Largest 3-Same-Digit Number in String"
   ]
  },
  {
   "cell_type": "code",
   "execution_count": 27,
   "id": "ad852106",
   "metadata": {},
   "outputs": [
    {
     "data": {
      "text/plain": [
       "'000'"
      ]
     },
     "execution_count": 27,
     "metadata": {},
     "output_type": "execute_result"
    }
   ],
   "source": [
    "\"\"\"\n",
    "You are given a string num representing a large integer. An integer is good if it meets the following conditions:\n",
    "\n",
    "It is a substring of num with length 3.\n",
    "It consists of only one unique digit.\n",
    "Return the maximum good integer as a string or an empty string \"\" if no such integer exists.\n",
    "Note:\n",
    "A substring is a contiguous sequence of characters within a string.\n",
    "There may be leading zeroes in num or a good integer.\n",
    "Example 1:\n",
    "\n",
    "Input: num = \"6777133339\"\n",
    "Output: \"777\"\n",
    "Explanation: There are two distinct good integers: \"777\" and \"333\".\n",
    "\"777\" is the largest, so we return \"777\".\n",
    "Example 2:\n",
    "\n",
    "Input: num = \"2300019\"\n",
    "Output: \"000\"\n",
    "Explanation: \"000\" is the only good integer.\n",
    "Example 3:\n",
    "\n",
    "Input: num = \"42352338\"\n",
    "Output: \"\"\n",
    "Explanation: No substring of length 3 consists of only one unique digit. Therefore, there are no good integers.\n",
    "\"\"\"\n",
    "\n",
    "import re # With the assistance of regular expressions we find 3-digit patterns, if they exist\n",
    "\n",
    "class Solution:\n",
    "    def largestGoodInteger(self, num: str) -> str:\n",
    "        digits = list(range(0, 10)) # Firstly, we create the range of digits from 0 to 9 inclusively\n",
    "        largest = \"\"\n",
    "        for i in digits:\n",
    "            pattern = str(i) * 3 # The pattern is clear\n",
    "            result = re.findall(pattern, num)\n",
    "            # If such a pattern exists - we store it within the variable 'largest'\n",
    "            if result:\n",
    "                largest = result[0]\n",
    "        return largest # The largest pattern is returned\n",
    "    \n",
    "a = Solution()\n",
    "a.largestGoodInteger(\"2300019\")"
   ]
  }
 ],
 "metadata": {
  "kernelspec": {
   "display_name": "Python 3 (ipykernel)",
   "language": "python",
   "name": "python3"
  },
  "language_info": {
   "codemirror_mode": {
    "name": "ipython",
    "version": 3
   },
   "file_extension": ".py",
   "mimetype": "text/x-python",
   "name": "python",
   "nbconvert_exporter": "python",
   "pygments_lexer": "ipython3",
   "version": "3.9.7"
  }
 },
 "nbformat": 4,
 "nbformat_minor": 5
}
