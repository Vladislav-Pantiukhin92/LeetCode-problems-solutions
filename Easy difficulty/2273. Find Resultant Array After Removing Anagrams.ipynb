{
 "cells": [
  {
   "cell_type": "markdown",
   "id": "c9e22911",
   "metadata": {},
   "source": [
    "### 2273. Find Resultant Array After Removing Anagrams"
   ]
  },
  {
   "cell_type": "code",
   "execution_count": 16,
   "id": "b991aa3f",
   "metadata": {},
   "outputs": [
    {
     "data": {
      "text/plain": [
       "['abba', 'cd']"
      ]
     },
     "execution_count": 16,
     "metadata": {},
     "output_type": "execute_result"
    }
   ],
   "source": [
    "\"\"\"\n",
    "You are given a 0-indexed string array words, where words[i] consists of lowercase English letters.\n",
    "In one operation, select any index i such that 0 < i < words.length and words[i - 1] and words[i] are \n",
    "anagrams, and delete words[i] from words. Keep performing this operation as long as you can select an \n",
    "index that satisfies the conditions.\n",
    "Return words after performing all operations. It can be shown that selecting the indices for each \n",
    "operation in any arbitrary order will lead to the same result.\n",
    "An Anagram is a word or phrase formed by rearranging the letters of a different word or phrase using \n",
    "all the original letters exactly once. For example, \"dacb\" is an anagram of \"abdc\".\n",
    "Example 1:\n",
    "\n",
    "Input: words = [\"abba\",\"baba\",\"bbaa\",\"cd\",\"cd\"]\n",
    "Output: [\"abba\",\"cd\"]\n",
    "Explanation:\n",
    "One of the ways we can obtain the resultant array is by using the following operations:\n",
    "- Since words[2] = \"bbaa\" and words[1] = \"baba\" are anagrams, we choose index 2 and delete words[2].\n",
    "  Now words = [\"abba\",\"baba\",\"cd\",\"cd\"].\n",
    "- Since words[1] = \"baba\" and words[0] = \"abba\" are anagrams, we choose index 1 and delete words[1].\n",
    "  Now words = [\"abba\",\"cd\",\"cd\"].\n",
    "- Since words[2] = \"cd\" and words[1] = \"cd\" are anagrams, we choose index 2 and delete words[2].\n",
    "  Now words = [\"abba\",\"cd\"].\n",
    "We can no longer perform any operations, so [\"abba\",\"cd\"] is the final answer.\n",
    "Example 2:\n",
    "\n",
    "Input: words = [\"a\",\"b\",\"c\",\"d\",\"e\"]\n",
    "Output: [\"a\",\"b\",\"c\",\"d\",\"e\"]\n",
    "Explanation:\n",
    "No two adjacent strings in words are anagrams of each other, so no operations are performed.\n",
    "\"\"\"\n",
    "\n",
    "class Solution:\n",
    "    def removeAnagrams(self, words: List[str]) -> List[str]:\n",
    "        while True:\n",
    "            remove = False\n",
    "        # We are going to take two elements with indices: [index] and [index - 1] and compare it \n",
    "            for i in range(1, len(words)):\n",
    "        # It is possible to compare the sorted combinations of letters:\n",
    "        # If sorted combinations of letters are equal, it means that we deal with anagrams\n",
    "                first = sorted(words[i])\n",
    "                second = sorted(words[i - 1])\n",
    "                if first == second: # If two elements are anagrams - we should remove the second one \n",
    "                    del words[i]\n",
    "                    remove = True # The flag is True (the deletion fact is True)\n",
    "                    break\n",
    "            if not remove: # If the deletion fact is False, there is nothing to delete anymore, so we return \n",
    "                # the obtained list of elements\n",
    "                return words\n",
    "            \n",
    "a = Solution()\n",
    "a.removeAnagrams([\"abba\",\"baba\",\"bbaa\",\"cd\",\"cd\"])"
   ]
  }
 ],
 "metadata": {
  "kernelspec": {
   "display_name": "Python 3 (ipykernel)",
   "language": "python",
   "name": "python3"
  },
  "language_info": {
   "codemirror_mode": {
    "name": "ipython",
    "version": 3
   },
   "file_extension": ".py",
   "mimetype": "text/x-python",
   "name": "python",
   "nbconvert_exporter": "python",
   "pygments_lexer": "ipython3",
   "version": "3.9.7"
  }
 },
 "nbformat": 4,
 "nbformat_minor": 5
}
