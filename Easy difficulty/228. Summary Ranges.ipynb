{
 "cells": [
  {
   "cell_type": "markdown",
   "id": "08c55b4c",
   "metadata": {},
   "source": [
    "### 228. Summary Ranges"
   ]
  },
  {
   "cell_type": "code",
   "execution_count": 23,
   "id": "2e8cb74d",
   "metadata": {},
   "outputs": [
    {
     "data": {
      "text/plain": [
       "['0', '2->4', '6', '8->9']"
      ]
     },
     "execution_count": 23,
     "metadata": {},
     "output_type": "execute_result"
    }
   ],
   "source": [
    "\"\"\"\n",
    "You are given a sorted unique integer array nums.\n",
    "A range [a,b] is the set of all integers from a to b (inclusive).\n",
    "Return the smallest sorted list of ranges that cover all the numbers in the array exactly. \n",
    "That is, each element of nums is covered by exactly one of the ranges, and there is no integer x such \n",
    "that x is in one of the ranges but not in nums.\n",
    "Each range [a,b] in the list should be output as:\n",
    "\n",
    "\"a->b\" if a != b\n",
    "\"a\" if a == b\n",
    " \n",
    "Example 1:\n",
    "\n",
    "Input: nums = [0,1,2,4,5,7]\n",
    "Output: [\"0->2\",\"4->5\",\"7\"]\n",
    "Explanation: The ranges are:\n",
    "[0,2] --> \"0->2\"\n",
    "[4,5] --> \"4->5\"\n",
    "[7,7] --> \"7\"\n",
    "Example 2:\n",
    "\n",
    "Input: nums = [0,2,3,4,6,8,9]\n",
    "Output: [\"0\",\"2->4\",\"6\",\"8->9\"]\n",
    "Explanation: The ranges are:\n",
    "[0,0] --> \"0\"\n",
    "[2,4] --> \"2->4\"\n",
    "[6,6] --> \"6\"\n",
    "[8,9] --> \"8->9\"\n",
    "\"\"\"\n",
    "\n",
    "class Solution:\n",
    "    def summaryRanges(self, nums: List[int]) -> List[str]:\n",
    "    # The main principle of the solution is to monitor the sequence of numbers\n",
    "    # If the sequence of numbers is not full (that is, some numbers are omitted) we temporarily stop the \n",
    "    # iteration and add the alleged string sequence (\"start point -> end point\") to the list \n",
    "        final = []\n",
    "        curList = []\n",
    "        for i in range(len(nums)):\n",
    "            if not curList:\n",
    "                curList.append(nums[i])\n",
    "            else:\n",
    "                if curList[-1] + 1 == nums[i]:\n",
    "                    curList.append(nums[i])\n",
    "                else:\n",
    "                    if len(curList) == 1:\n",
    "                        final.append(str(curList[0]))\n",
    "                    else:\n",
    "                        expression = f\"{curList[0]}->{curList[-1]}\"\n",
    "                        final.append(expression)\n",
    "                    curList = []\n",
    "                    curList.append(nums[i])\n",
    "        if not curList:\n",
    "            return final\n",
    "        else:\n",
    "            if len(curList) == 1:\n",
    "                final.append(str(curList[0]))\n",
    "            else:\n",
    "                expression = f\"{curList[0]}->{curList[-1]}\"\n",
    "                final.append(expression)\n",
    "        return final\n",
    "    \n",
    "a = Solution()\n",
    "a.summaryRanges([0,2,3,4,6,8,9])"
   ]
  }
 ],
 "metadata": {
  "kernelspec": {
   "display_name": "Python 3 (ipykernel)",
   "language": "python",
   "name": "python3"
  },
  "language_info": {
   "codemirror_mode": {
    "name": "ipython",
    "version": 3
   },
   "file_extension": ".py",
   "mimetype": "text/x-python",
   "name": "python",
   "nbconvert_exporter": "python",
   "pygments_lexer": "ipython3",
   "version": "3.9.7"
  }
 },
 "nbformat": 4,
 "nbformat_minor": 5
}
