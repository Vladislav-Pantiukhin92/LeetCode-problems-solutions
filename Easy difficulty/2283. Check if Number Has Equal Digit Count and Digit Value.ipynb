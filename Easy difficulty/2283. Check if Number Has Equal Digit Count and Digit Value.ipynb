{
 "cells": [
  {
   "cell_type": "markdown",
   "id": "a84f4e36",
   "metadata": {},
   "source": [
    "### 2283. Check if Number Has Equal Digit Count and Digit Value"
   ]
  },
  {
   "cell_type": "code",
   "execution_count": 178,
   "id": "86928da5",
   "metadata": {},
   "outputs": [
    {
     "data": {
      "text/plain": [
       "False"
      ]
     },
     "execution_count": 178,
     "metadata": {},
     "output_type": "execute_result"
    }
   ],
   "source": [
    "\"\"\"\n",
    "You are given a 0-indexed string num of length n consisting of digits.\n",
    "Return true if for every index i in the range 0 <= i < n, the digit i occurs num[i] \n",
    "times in num, otherwise return false.\n",
    "Example 1:\n",
    "\n",
    "Input: num = \"1210\"\n",
    "Output: true\n",
    "Explanation:\n",
    "num[0] = '1'. The digit 0 occurs once in num.\n",
    "num[1] = '2'. The digit 1 occurs twice in num.\n",
    "num[2] = '1'. The digit 2 occurs once in num.\n",
    "num[3] = '0'. The digit 3 occurs zero times in num.\n",
    "The condition holds true for every index in \"1210\", so return true.\n",
    "Example 2:\n",
    "\n",
    "Input: num = \"030\"\n",
    "Output: false\n",
    "Explanation:\n",
    "num[0] = '0'. The digit 0 should occur zero times, but actually occurs twice in num.\n",
    "num[1] = '3'. The digit 1 should occur three times, but actually occurs zero times in num.\n",
    "num[2] = '0'. The digit 2 occurs zero times in num.\n",
    "The indices 0 and 1 both violate the condition, so return false.\n",
    "\"\"\"\n",
    "\n",
    "class Solution:\n",
    "    def digitCount(self, num: str) -> bool:\n",
    "        # We are going to create two dictionaries:\n",
    "        hashTable_1 = {} # The first dictionary will be aimed at counting all occurrences of characters\n",
    "        for i in num:\n",
    "            if i not in hashTable_1:\n",
    "                hashTable_1[i] = \"1\"\n",
    "            else:\n",
    "                hashTable_1[i] = str(int(hashTable_1[i]) + 1) # We should follow the pertinent data type\n",
    "                # of dict_values\n",
    "        hashTable_2 = {}\n",
    "        # The second dictionary will abide by the rules, envisaged in the problem's description\n",
    "        for i, j in enumerate(num): # 'enumerate' function will iterate over both indices and characters of \n",
    "            # the input string\n",
    "            hashTable_2[str(i)] = j\n",
    "        # If there is disparities between two hashTables (in keys and/or values) - we return False\n",
    "        for i in hashTable_1:\n",
    "            if i not in hashTable_2:\n",
    "                return False\n",
    "            if hashTable_1[i] != hashTable_2[i]:\n",
    "                return False\n",
    "        return True # Otherwise, we return True\n",
    "    \n",
    "a = Solution()\n",
    "a.digitCount(\"030\")"
   ]
  }
 ],
 "metadata": {
  "kernelspec": {
   "display_name": "Python 3 (ipykernel)",
   "language": "python",
   "name": "python3"
  },
  "language_info": {
   "codemirror_mode": {
    "name": "ipython",
    "version": 3
   },
   "file_extension": ".py",
   "mimetype": "text/x-python",
   "name": "python",
   "nbconvert_exporter": "python",
   "pygments_lexer": "ipython3",
   "version": "3.9.7"
  }
 },
 "nbformat": 4,
 "nbformat_minor": 5
}
