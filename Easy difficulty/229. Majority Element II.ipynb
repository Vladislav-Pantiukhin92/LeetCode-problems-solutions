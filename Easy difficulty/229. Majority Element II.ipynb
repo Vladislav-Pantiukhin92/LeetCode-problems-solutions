{
 "cells": [
  {
   "cell_type": "markdown",
   "id": "84c77cd2",
   "metadata": {},
   "source": [
    "### 229. Majority Element II"
   ]
  },
  {
   "cell_type": "code",
   "execution_count": 7,
   "id": "f5f83afb",
   "metadata": {},
   "outputs": [
    {
     "data": {
      "text/plain": [
       "[3]"
      ]
     },
     "execution_count": 7,
     "metadata": {},
     "output_type": "execute_result"
    }
   ],
   "source": [
    "from collections import Counter # 'collection.Counter' will return the specific dictionary, where keys are elements,\n",
    "# and values are the number of elements' occurences in the array\n",
    "\n",
    "class Solution:\n",
    "    def majorityElement(self, nums: List[int]) -> List[int]:\n",
    "        length = len(nums)\n",
    "        threshold = length / 3\n",
    "        myDict = dict(Counter(nums))\n",
    "        # We are trying to iterate over keys, if the values are bigger than the threshold, then we return the key in the list\n",
    "        # Implementation of list comprehension\n",
    "        return sorted([i for i in myDict if myDict[i] > threshold])\n",
    "    \n",
    "a = Solution()\n",
    "a.majorityElement([3, 2, 3])"
   ]
  }
 ],
 "metadata": {
  "kernelspec": {
   "display_name": "Python 3 (ipykernel)",
   "language": "python",
   "name": "python3"
  },
  "language_info": {
   "codemirror_mode": {
    "name": "ipython",
    "version": 3
   },
   "file_extension": ".py",
   "mimetype": "text/x-python",
   "name": "python",
   "nbconvert_exporter": "python",
   "pygments_lexer": "ipython3",
   "version": "3.9.7"
  }
 },
 "nbformat": 4,
 "nbformat_minor": 5
}
