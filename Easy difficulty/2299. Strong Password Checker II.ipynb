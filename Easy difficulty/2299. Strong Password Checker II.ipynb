{
 "cells": [
  {
   "cell_type": "markdown",
   "id": "c8e5a427",
   "metadata": {},
   "source": [
    "### 2299. Strong Password Checker II"
   ]
  },
  {
   "cell_type": "code",
   "execution_count": 4,
   "id": "d67982eb",
   "metadata": {},
   "outputs": [
    {
     "data": {
      "text/plain": [
       "True"
      ]
     },
     "execution_count": 4,
     "metadata": {},
     "output_type": "execute_result"
    }
   ],
   "source": [
    "\"\"\"\n",
    "A password is said to be strong if it satisfies all the following criteria:\n",
    "It has at least 8 characters.\n",
    "It contains at least one lowercase letter.\n",
    "It contains at least one uppercase letter.\n",
    "It contains at least one digit.\n",
    "It contains at least one special character. The special characters are the characters in the following \n",
    "string: \"!@#$%^&*()-+\".\n",
    "It does not contain 2 of the same character in adjacent positions (i.e., \"aab\" violates this condition, \n",
    "but \"aba\" does not).\n",
    "Given a string password, return true if it is a strong password. Otherwise, return false.\n",
    "Example 1:\n",
    "\n",
    "Input: password = \"IloveLe3tcode!\"\n",
    "Output: true\n",
    "Explanation: The password meets all the requirements. Therefore, we return true.\n",
    "Example 2:\n",
    "\n",
    "Input: password = \"Me+You--IsMyDream\"\n",
    "Output: false\n",
    "Explanation: The password does not contain a digit and also contains 2 of the same character in adjacent positions. Therefore, we return false.\n",
    "Example 3:\n",
    "\n",
    "Input: password = \"1aB!\"\n",
    "Output: false\n",
    "Explanation: The password does not meet the length requirement. Therefore, we return false.\n",
    "\"\"\"\n",
    "\n",
    "import re # Regular expressions will check requirements for the strong password\n",
    "import string # We will be able to import the lowercase and uppercase English alphabet from the 'string module'\n",
    "\n",
    "class Solution:\n",
    "    def strongPasswordCheckerII(self, password: str) -> bool:\n",
    "        alphabet_lower = string.ascii_lowercase # Lowercase English letters\n",
    "        alphabet_upper = string.ascii_uppercase # Uppercase English letters\n",
    "        digits = list(range(0, 10)) # The 0-9 range of numbers\n",
    "        digits = list(map(str, digits)) # The string representation of the aforementioned numeric range\n",
    "        length = len(password) # Verification of the length\n",
    "        if length < 8:\n",
    "            return False\n",
    "        lowercase = re.findall(r\"[a-z]\", password) # The existence of lowercase letters is checked\n",
    "        if not lowercase:\n",
    "            return False\n",
    "        uppercase = re.findall(r\"[A-Z]\", password) # The existence of uppercase letters is checked\n",
    "        if not uppercase:\n",
    "            return False\n",
    "        digit = re.findall(r\"\\d\", password) # The existence of digits is checked\n",
    "        if not digit:\n",
    "            return False\n",
    "        special_chars = re.findall(r\"[\\!\\@\\#\\$\\%\\^\\&\\*\\(\\)\\-\\+]\", password) # The existence of special characters \n",
    "        # is checked\n",
    "        if not special_chars:\n",
    "            return False\n",
    "        for i in alphabet_lower: # The existence of the same adjacent lowercase letters is checked\n",
    "            pattern = i * 2\n",
    "            result = re.findall(pattern, password)\n",
    "            if result:\n",
    "                return False\n",
    "        for i in alphabet_upper: # The existence of the same adjacent uppercase letters is checked\n",
    "            pattern = i * 2\n",
    "            result = re.findall(pattern, password)\n",
    "            if result:\n",
    "                return False\n",
    "        for i in digits: # The existence of the same adjacent digits is checked\n",
    "            pattern = i * 2\n",
    "            result = re.findall(pattern, password)\n",
    "            if result:\n",
    "                return False\n",
    "        special = \"\\!@#$%^&*()-+\" # The existence of the same adjacent special characters is checked\n",
    "        for i in special:\n",
    "            pattern = i * 2\n",
    "            if pattern in password:\n",
    "                return False\n",
    "        return True\n",
    "    \n",
    "a = Solution()\n",
    "a.strongPasswordCheckerII(\"IloveLe3tcode!\")"
   ]
  }
 ],
 "metadata": {
  "kernelspec": {
   "display_name": "Python 3 (ipykernel)",
   "language": "python",
   "name": "python3"
  },
  "language_info": {
   "codemirror_mode": {
    "name": "ipython",
    "version": 3
   },
   "file_extension": ".py",
   "mimetype": "text/x-python",
   "name": "python",
   "nbconvert_exporter": "python",
   "pygments_lexer": "ipython3",
   "version": "3.9.7"
  }
 },
 "nbformat": 4,
 "nbformat_minor": 5
}
