{
 "cells": [
  {
   "cell_type": "markdown",
   "id": "fc6ca6dd",
   "metadata": {},
   "source": [
    "### 2309. Greatest English Letter in Upper and Lower Case"
   ]
  },
  {
   "cell_type": "code",
   "execution_count": 3,
   "id": "0e17b537",
   "metadata": {},
   "outputs": [
    {
     "data": {
      "text/plain": [
       "'R'"
      ]
     },
     "execution_count": 3,
     "metadata": {},
     "output_type": "execute_result"
    }
   ],
   "source": [
    "\"\"\"\n",
    "Given a string of English letters s, return the greatest English letter which occurs as both a lowercase \n",
    "and uppercase letter in s. The returned letter should be in uppercase. If no such letter exists, return an empty string.\n",
    "An English letter b is greater than another letter a if b appears after a in the English alphabet.\n",
    "Example 1:\n",
    "\n",
    "Input: s = \"lEeTcOdE\"\n",
    "Output: \"E\"\n",
    "Explanation:\n",
    "The letter 'E' is the only letter to appear in both lower and upper case.\n",
    "Example 2:\n",
    "\n",
    "Input: s = \"arRAzFif\"\n",
    "Output: \"R\"\n",
    "Explanation:\n",
    "The letter 'R' is the greatest letter to appear in both lower and upper case.\n",
    "Note that 'A' and 'F' also appear in both lower and upper case, but 'R' is greater than 'F' or 'A'.\n",
    "\"\"\"\n",
    "\n",
    "import string # Let's import the 'string module' to have the lowercase and uppercase English alphabet\n",
    "\n",
    "class Solution:\n",
    "    def greatestLetter(self, s: str) -> str:\n",
    "        lowercase = string.ascii_lowercase # The lowercase English letters\n",
    "        uppercase = string.ascii_uppercase  # The uppercase English letters\n",
    "        # We are going to iterate simultaneously over the lowercase and uppercase English letters\n",
    "        # The letter, which has both the uppercase and lowercase manifestation in the input \n",
    "        # string, will be returned\n",
    "        i = 0\n",
    "        j = 0\n",
    "        greatest = \"\"\n",
    "        while i < len(lowercase):\n",
    "            if lowercase[i] in s and uppercase[j] in s: # We verify the uppercase and lowercase existence of each letter\n",
    "                # in the input string\n",
    "                greatest = uppercase[j] # The first positive case is returned\n",
    "            i += 1\n",
    "            j += 1\n",
    "        return greatest\n",
    "    \n",
    "a = Solution()\n",
    "a.greatestLetter(\"arRAzFif\")"
   ]
  }
 ],
 "metadata": {
  "kernelspec": {
   "display_name": "Python 3 (ipykernel)",
   "language": "python",
   "name": "python3"
  },
  "language_info": {
   "codemirror_mode": {
    "name": "ipython",
    "version": 3
   },
   "file_extension": ".py",
   "mimetype": "text/x-python",
   "name": "python",
   "nbconvert_exporter": "python",
   "pygments_lexer": "ipython3",
   "version": "3.9.7"
  }
 },
 "nbformat": 4,
 "nbformat_minor": 5
}
