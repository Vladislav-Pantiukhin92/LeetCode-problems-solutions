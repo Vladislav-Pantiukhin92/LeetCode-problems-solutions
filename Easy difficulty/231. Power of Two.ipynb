{
 "cells": [
  {
   "cell_type": "markdown",
   "id": "892df76c",
   "metadata": {},
   "source": [
    "### 231. Power of Two"
   ]
  },
  {
   "cell_type": "code",
   "execution_count": 14,
   "id": "66e66d1a",
   "metadata": {},
   "outputs": [
    {
     "data": {
      "text/plain": [
       "True"
      ]
     },
     "execution_count": 14,
     "metadata": {},
     "output_type": "execute_result"
    }
   ],
   "source": [
    "\"\"\"\n",
    "Given an integer n, return true if it is a power of two. Otherwise, return false.\n",
    "An integer n is a power of two, if there exists an integer x such that n == 2x.\n",
    "Example 1:\n",
    "\n",
    "Input: n = 1\n",
    "Output: true\n",
    "Explanation: 20 = 1\n",
    "Example 2:\n",
    "\n",
    "Input: n = 16\n",
    "Output: true\n",
    "Explanation: 24 = 16\n",
    "Example 3:\n",
    "\n",
    "Input: n = 3\n",
    "Output: false\n",
    "\"\"\"\n",
    "\n",
    "class Solution:\n",
    "    def isPowerOfTwo(self, n: int) -> bool:\n",
    "        if n <= 0: # If 'n' is a negative number - we always return False\n",
    "            return False\n",
    "        elif n < 3: # If 'n' is 1 or 2 - we return True\n",
    "            return True\n",
    "        else:\n",
    "        # In other case, we will use the 'while loop' to divide the 'n' by 2 - while the 'n' parameter is \n",
    "        # larger than 2\n",
    "            while n > 2:\n",
    "                n /= 2\n",
    "            if n < 2: # When the 'while loop' is broken, we have only two cases: if 'n' equals to 2 (we return True)\n",
    "            # or smaller than 2 (we return False)\n",
    "                return False\n",
    "            return True\n",
    "        \n",
    "a = Solution()\n",
    "a.isPowerOfTwo(16)"
   ]
  }
 ],
 "metadata": {
  "kernelspec": {
   "display_name": "Python 3 (ipykernel)",
   "language": "python",
   "name": "python3"
  },
  "language_info": {
   "codemirror_mode": {
    "name": "ipython",
    "version": 3
   },
   "file_extension": ".py",
   "mimetype": "text/x-python",
   "name": "python",
   "nbconvert_exporter": "python",
   "pygments_lexer": "ipython3",
   "version": "3.9.7"
  }
 },
 "nbformat": 4,
 "nbformat_minor": 5
}
