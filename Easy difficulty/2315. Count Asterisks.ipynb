{
 "cells": [
  {
   "cell_type": "markdown",
   "id": "5b61547c",
   "metadata": {},
   "source": [
    "### 2315. Count Asterisks"
   ]
  },
  {
   "cell_type": "code",
   "execution_count": 49,
   "id": "7a984afb",
   "metadata": {},
   "outputs": [
    {
     "data": {
      "text/plain": [
       "5"
      ]
     },
     "execution_count": 49,
     "metadata": {},
     "output_type": "execute_result"
    }
   ],
   "source": [
    "\"\"\"\n",
    "You are given a string s, where every two consecutive vertical bars '|' are grouped into a pair. In other \n",
    "words, the 1st and 2nd '|' make a pair, the 3rd and 4th '|' make a pair, and so forth.\n",
    "Return the number of '*' in s, excluding the '*' between each pair of '|'.\n",
    "Note that each '|' will belong to exactly one pair.\n",
    "Example 1:\n",
    "\n",
    "Input: s = \"l|*e*et|c**o|*de|\"\n",
    "Output: 2\n",
    "Explanation: The considered characters are underlined: \"l|*e*et|c**o|*de|\".\n",
    "The characters between the first and second '|' are excluded from the answer.\n",
    "Also, the characters between the third and fourth '|' are excluded from the answer.\n",
    "There are 2 asterisks considered. Therefore, we return 2.\n",
    "Example 2:\n",
    "\n",
    "Input: s = \"iamprogrammer\"\n",
    "Output: 0\n",
    "Explanation: In this example, there are no asterisks in s. Therefore, we return 0.\n",
    "Example 3:\n",
    "\n",
    "Input: s = \"yo|uar|e**|b|e***au|tifu|l\"\n",
    "Output: 5\n",
    "Explanation: The considered characters are underlined: \"yo|uar|e**|b|e***au|tifu|l\". \n",
    "There are 5 asterisks considered. Therefore, we return 5.\n",
    "\"\"\"\n",
    "\n",
    "import re # Regular expressions will be used to remove pairs of vertical bars with the content within\n",
    "\n",
    "class Solution:\n",
    "    def countAsterisks(self, s: str) -> int:\n",
    "        if not \"*\" in s: # For starters, if asterisks don't exist within the string input at all - we return 0\n",
    "            return 0\n",
    "    # Otherwise, we will use re.sub() to remove vertical bars with the content within\n",
    "        remove_pairs = re.sub(r\"\\|[^|]*\\|\", \"\", s)\n",
    "        if not remove_pairs: # If, following the above-mentioned operation, the string is empty - we return 0 as well\n",
    "            return 0\n",
    "        # In other case, we check (through the regular expression again) the exact number of \"*\" within the \n",
    "        # transformed string\n",
    "        asterisks = re.findall(r\"\\*\", remove_pairs)\n",
    "        return len(asterisks) # Finally, the exact number of \"*\" is returned\n",
    "    \n",
    "a = Solution()\n",
    "a.countAsterisks(\"yo|uar|e**|b|e***au|tifu|l\")"
   ]
  }
 ],
 "metadata": {
  "kernelspec": {
   "display_name": "Python 3 (ipykernel)",
   "language": "python",
   "name": "python3"
  },
  "language_info": {
   "codemirror_mode": {
    "name": "ipython",
    "version": 3
   },
   "file_extension": ".py",
   "mimetype": "text/x-python",
   "name": "python",
   "nbconvert_exporter": "python",
   "pygments_lexer": "ipython3",
   "version": "3.9.7"
  }
 },
 "nbformat": 4,
 "nbformat_minor": 5
}
