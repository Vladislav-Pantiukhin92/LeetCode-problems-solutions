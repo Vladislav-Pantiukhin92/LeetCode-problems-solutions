{
 "cells": [
  {
   "cell_type": "markdown",
   "id": "58ba4af1",
   "metadata": {},
   "source": [
    "### 2325. Decode the Message"
   ]
  },
  {
   "cell_type": "code",
   "execution_count": 1,
   "id": "ca9ad6cf",
   "metadata": {},
   "outputs": [
    {
     "data": {
      "text/plain": [
       "'the five boxing wizards jump quickly'"
      ]
     },
     "execution_count": 1,
     "metadata": {},
     "output_type": "execute_result"
    }
   ],
   "source": [
    "\"\"\"\n",
    "You are given the strings key and message, which represent a cipher key and a secret message, respectively. The steps to decode message are as follows:\n",
    "\n",
    "Use the first appearance of all 26 lowercase English letters in key as the order of the substitution table.\n",
    "Align the substitution table with the regular English alphabet.\n",
    "Each letter in message is then substituted using the table.\n",
    "Spaces ' ' are transformed to themselves.\n",
    "For example, given key = \"happy boy\" (actual key would have at least one instance of each letter in the \n",
    "alphabet), we have the partial substitution table of ('h' -> 'a', 'a' -> 'b', 'p' -> 'c', 'y' -> 'd', \n",
    "'b' -> 'e', 'o' -> 'f').\n",
    "Return the decoded message.\n",
    "Example 1:\n",
    "\n",
    "Input: key = \"the quick brown fox jumps over the lazy dog\", message = \"vkbs bs t suepuv\"\n",
    "Output: \"this is a secret\"\n",
    "Explanation: The diagram above shows the substitution table.\n",
    "It is obtained by taking the first appearance of each letter in \"the quick brown fox jumps over the lazy dog\".\n",
    "Example 2:\n",
    "\n",
    "Input: key = \"eljuxhpwnyrdgtqkviszcfmabo\", message = \"zwx hnfx lqantp mnoeius ycgk vcnjrdb\"\n",
    "Output: \"the five boxing wizards jump quickly\"\n",
    "Explanation: The diagram above shows the substitution table.\n",
    "It is obtained by taking the first appearance of each letter in \"eljuxhpwnyrdgtqkviszcfmabo\".\n",
    "\"\"\"\n",
    "\n",
    "import string # We are going to import the lowercase English alphabet\n",
    "\n",
    "class Solution:\n",
    "    def decodeMessage(self, key: str, message: str) -> str:\n",
    "        alphabet = string.ascii_lowercase # The lowercase English letters are imported. This alphabet is the \n",
    "        # second part of the future substitution table\n",
    "    # The next step is to extract the first appearance of 26 lowercase English letters\n",
    "    # It can be implemented through the dictionary. Let's create the first part of the substitution table:\n",
    "        myString = \"\" # The string will store letters for the first part of the substitution table:\n",
    "        myDict = {} # The dictionary will monitor the first appearance of letters\n",
    "        for i in key:\n",
    "            if i.isalpha() and i not in myDict: # Verification of the first appearance\n",
    "                myDict[i] = 1\n",
    "                myString += i\n",
    "                if len(myString) == 26: \n",
    "                    break\n",
    "        table = str.maketrans(myString, alphabet) # Using the calculated substitution table, the conversion \n",
    "        # procedure is implemented\n",
    "        final = message.translate(table)\n",
    "        return final # The converted string is returned\n",
    "    \n",
    "a = Solution()\n",
    "a.decodeMessage(\"eljuxhpwnyrdgtqkviszcfmabo\", \"zwx hnfx lqantp mnoeius ycgk vcnjrdb\")"
   ]
  }
 ],
 "metadata": {
  "kernelspec": {
   "display_name": "Python 3 (ipykernel)",
   "language": "python",
   "name": "python3"
  },
  "language_info": {
   "codemirror_mode": {
    "name": "ipython",
    "version": 3
   },
   "file_extension": ".py",
   "mimetype": "text/x-python",
   "name": "python",
   "nbconvert_exporter": "python",
   "pygments_lexer": "ipython3",
   "version": "3.9.7"
  }
 },
 "nbformat": 4,
 "nbformat_minor": 5
}
