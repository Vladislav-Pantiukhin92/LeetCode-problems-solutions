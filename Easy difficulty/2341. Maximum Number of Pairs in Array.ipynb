{
 "cells": [
  {
   "cell_type": "markdown",
   "id": "cafd8ac6",
   "metadata": {},
   "source": [
    "### 2341. Maximum Number of Pairs in Array"
   ]
  },
  {
   "cell_type": "code",
   "execution_count": 2,
   "id": "919f7916",
   "metadata": {},
   "outputs": [
    {
     "data": {
      "text/plain": [
       "[3, 1]"
      ]
     },
     "execution_count": 2,
     "metadata": {},
     "output_type": "execute_result"
    }
   ],
   "source": [
    "\"\"\"\n",
    "You are given a 0-indexed integer array nums. In one operation, you may do the following:\n",
    "Choose two integers in nums that are equal.\n",
    "Remove both integers from nums, forming a pair.\n",
    "The operation is done on nums as many times as possible.\n",
    "\n",
    "Return a 0-indexed integer array answer of size 2 where answer[0] is the number of pairs that are formed \n",
    "and answer[1] is the number of leftover integers in nums after doing the operation as many times as \n",
    "possible.\n",
    "\n",
    "Example 1:\n",
    "\n",
    "Input: nums = [1,3,2,1,3,2,2]\n",
    "Output: [3,1]\n",
    "Explanation:\n",
    "Form a pair with nums[0] and nums[3] and remove them from nums. Now, nums = [3,2,3,2,2].\n",
    "Form a pair with nums[0] and nums[2] and remove them from nums. Now, nums = [2,2,2].\n",
    "Form a pair with nums[0] and nums[1] and remove them from nums. Now, nums = [2].\n",
    "No more pairs can be formed. A total of 3 pairs have been formed, and there is 1 number leftover in nums.\n",
    "Example 2:\n",
    "\n",
    "Input: nums = [1,1]\n",
    "Output: [1,0]\n",
    "Explanation: Form a pair with nums[0] and nums[1] and remove them from nums. Now, nums = [].\n",
    "No more pairs can be formed. A total of 1 pair has been formed, and there are 0 numbers leftover in nums.\n",
    "Example 3:\n",
    "\n",
    "Input: nums = [0]\n",
    "Output: [0,1]\n",
    "Explanation: No pairs can be formed, and there is 1 number leftover in nums.\n",
    "\"\"\"\n",
    "\n",
    "class Solution:\n",
    "    def numberOfPairs(self, nums: List[int]) -> List[int]:\n",
    "        myDict = {} # The dictionary is created\n",
    "        pairs = 0 # The initial number of pairs is 0\n",
    "        for i in nums: # We are going to count the occurrence of values within the given input list\n",
    "            if i not in myDict: # If the value is not within the dictionary - we add it and the default occurrence is 1\n",
    "                myDict[i] = 1\n",
    "            else:\n",
    "            # If the value is already within the dictionary - we increase its occurrence by 1\n",
    "                myDict[i] += 1\n",
    "            if myDict[i] == 2: # If the occurrence is 2, the number of pairs is increased by 1, the occurrence itself is \n",
    "                # erased\n",
    "                pairs += 1\n",
    "                myDict[i] = 0\n",
    "        leftover = sum(list(myDict.values())) # Through the dictionary method 'dict.values()' we are going \n",
    "        # to count values without pairs\n",
    "        return [pairs, leftover] # The list with the total amount of pairs and the remaining values is returned\n",
    "    \n",
    "a = Solution()\n",
    "a.numberOfPairs([1,3,2,1,3,2,2])"
   ]
  }
 ],
 "metadata": {
  "kernelspec": {
   "display_name": "Python 3 (ipykernel)",
   "language": "python",
   "name": "python3"
  },
  "language_info": {
   "codemirror_mode": {
    "name": "ipython",
    "version": 3
   },
   "file_extension": ".py",
   "mimetype": "text/x-python",
   "name": "python",
   "nbconvert_exporter": "python",
   "pygments_lexer": "ipython3",
   "version": "3.9.7"
  }
 },
 "nbformat": 4,
 "nbformat_minor": 5
}
