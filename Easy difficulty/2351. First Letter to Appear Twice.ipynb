{
 "cells": [
  {
   "cell_type": "markdown",
   "id": "5ec49363",
   "metadata": {},
   "source": [
    "### 2351. First Letter to Appear Twice"
   ]
  },
  {
   "cell_type": "code",
   "execution_count": 13,
   "id": "a5fa6d31",
   "metadata": {},
   "outputs": [
    {
     "data": {
      "text/plain": [
       "'d'"
      ]
     },
     "execution_count": 13,
     "metadata": {},
     "output_type": "execute_result"
    }
   ],
   "source": [
    "\"\"\"\n",
    "Given a string s consisting of lowercase English letters, return the first letter to appear twice.\n",
    "Note:\n",
    "A letter a appears twice before another letter b if the second occurrence of a is before the second \n",
    "occurrence of b.\n",
    "s will contain at least one letter that appears twice.\n",
    "Example 1:\n",
    "\n",
    "Input: s = \"abccbaacz\"\n",
    "Output: \"c\"\n",
    "Explanation:\n",
    "The letter 'a' appears on the indexes 0, 5 and 6.\n",
    "The letter 'b' appears on the indexes 1 and 4.\n",
    "The letter 'c' appears on the indexes 2, 3 and 7.\n",
    "The letter 'z' appears on the index 8.\n",
    "The letter 'c' is the first letter to appear twice, because out of all the letters the index of its \n",
    "second occurrence is the smallest.\n",
    "Example 2:\n",
    "\n",
    "Input: s = \"abcdd\"\n",
    "Output: \"d\"\n",
    "Explanation:\n",
    "The only letter that appears twice is 'd' so we return 'd'.\n",
    "\"\"\"\n",
    "\n",
    "class Solution:\n",
    "    def repeatedCharacter(self, s: str) -> str:\n",
    "        myDict = {} # The dictionary is created\n",
    "        for i in s:\n",
    "        # While looping over elements of the given input string, we verify the existence of each character \n",
    "        # within the dictionary. If such a character doesn't exist within the dictionary - we add it as a key\n",
    "        # If the letter already exists - we return the letter, because it appeared the second time\n",
    "            if i not in myDict: \n",
    "                myDict[i] = 1\n",
    "            else:\n",
    "                return i\n",
    "a = Solution()\n",
    "a.repeatedCharacter(\"abcdd\")"
   ]
  }
 ],
 "metadata": {
  "kernelspec": {
   "display_name": "Python 3 (ipykernel)",
   "language": "python",
   "name": "python3"
  },
  "language_info": {
   "codemirror_mode": {
    "name": "ipython",
    "version": 3
   },
   "file_extension": ".py",
   "mimetype": "text/x-python",
   "name": "python",
   "nbconvert_exporter": "python",
   "pygments_lexer": "ipython3",
   "version": "3.9.7"
  }
 },
 "nbformat": 4,
 "nbformat_minor": 5
}
