{
 "cells": [
  {
   "cell_type": "markdown",
   "id": "e3fb5c68",
   "metadata": {},
   "source": [
    "### 2357. Make Array Zero by Subtracting Equal Amounts"
   ]
  },
  {
   "cell_type": "code",
   "execution_count": 11,
   "id": "36bd5b62",
   "metadata": {},
   "outputs": [
    {
     "data": {
      "text/plain": [
       "3"
      ]
     },
     "execution_count": 11,
     "metadata": {},
     "output_type": "execute_result"
    }
   ],
   "source": [
    "\"\"\"\n",
    "You are given a non-negative integer array nums. In one operation, you must:\n",
    "Choose a positive integer x such that x is less than or equal to the smallest non-zero element in nums.\n",
    "Subtract x from every positive element in nums.\n",
    "Return the minimum number of operations to make every element in nums equal to 0.\n",
    "\n",
    "Example 1:\n",
    "\n",
    "Input: nums = [1,5,0,3,5]\n",
    "Output: 3\n",
    "Explanation:\n",
    "In the first operation, choose x = 1. Now, nums = [0,4,0,2,4].\n",
    "In the second operation, choose x = 2. Now, nums = [0,2,0,0,2].\n",
    "In the third operation, choose x = 2. Now, nums = [0,0,0,0,0].\n",
    "Example 2:\n",
    "\n",
    "Input: nums = [0]\n",
    "Output: 0\n",
    "Explanation: Each element in nums is already 0 so no operations are needed.\n",
    "\"\"\"\n",
    "\n",
    "import numpy as np # The 'numpy' library will be used to execute the subtraction operation (all elements of \n",
    "# the list  - the smallest number of the list)\n",
    "\n",
    "class Solution:\n",
    "    def minimumOperations(self, nums: List[int]) -> int:\n",
    "        operations = 0 # The initial number of operations equals to 0\n",
    "        while True:\n",
    "            for _ in range(nums.count(0)): # We will eradicate zeros\n",
    "                nums.remove(0)\n",
    "            if not nums: # If, following the eradication of zeros, the given input list is empty, - we return \n",
    "                # the total amount of accumulated operations\n",
    "                return operations\n",
    "            minElem = min(nums) # The minElement is found\n",
    "            nums = np.array(nums) # The 'numpy' structure is initialized\n",
    "            nums -= minElem # All the elements from the array - the minElement (the subtraction operation)\n",
    "            operations += 1 # The total number of operations is increased by 1\n",
    "            nums = list(nums) # The 'numpy' structure is transformed into the simple list again\n",
    "            \n",
    "a = Solution()\n",
    "a.minimumOperations([1,5,0,3,5])"
   ]
  }
 ],
 "metadata": {
  "kernelspec": {
   "display_name": "Python 3 (ipykernel)",
   "language": "python",
   "name": "python3"
  },
  "language_info": {
   "codemirror_mode": {
    "name": "ipython",
    "version": 3
   },
   "file_extension": ".py",
   "mimetype": "text/x-python",
   "name": "python",
   "nbconvert_exporter": "python",
   "pygments_lexer": "ipython3",
   "version": "3.9.7"
  }
 },
 "nbformat": 4,
 "nbformat_minor": 5
}
