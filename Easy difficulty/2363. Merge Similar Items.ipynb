{
 "cells": [
  {
   "cell_type": "markdown",
   "id": "cafd8ac6",
   "metadata": {},
   "source": [
    "### 2363. Merge Similar Items"
   ]
  },
  {
   "cell_type": "code",
   "execution_count": 6,
   "id": "74a5acd0",
   "metadata": {},
   "outputs": [
    {
     "data": {
      "text/plain": [
       "[(1, 6), (3, 9), (4, 5)]"
      ]
     },
     "execution_count": 6,
     "metadata": {},
     "output_type": "execute_result"
    }
   ],
   "source": [
    "\"\"\"\n",
    "You are given two 2D integer arrays, items1 and items2, representing two sets of items. Each array items \n",
    "has the following properties:\n",
    "items[i] = [valuei, weighti] where valuei represents the value and weighti represents the weight of the \n",
    "ith item.\n",
    "The value of each item in items is unique.\n",
    "Return a 2D integer array ret where ret[i] = [valuei, weighti], with weighti being the sum of weights \n",
    "of all items with value valuei.\n",
    "Note: ret should be returned in ascending order by value.\n",
    "Example:\n",
    "\n",
    "Input: items1 = [[1,1],[4,5],[3,8]], items2 = [[3,1],[1,5]]\n",
    "Output: [[1,6],[3,9],[4,5]]\n",
    "Explanation: \n",
    "The item with value = 1 occurs in items1 with weight = 1 and in items2 with weight = 5, \n",
    "total weight = 1 + 5 = 6.\n",
    "The item with value = 3 occurs in items1 with weight = 8 and in items2 with weight = 1, \n",
    "total weight = 8 + 1 = 9.\n",
    "The item with value = 4 occurs in items1 with weight = 5, total weight = 5.  \n",
    "Therefore, we return [[1,6],[3,9],[4,5]].\n",
    "\"\"\"\n",
    "\n",
    "from itertools import chain # 'itertools.chain' will merge two given input lists together\n",
    "\n",
    "class Solution:\n",
    "    def mergeSimilarItems(self, items1: List[List[int]], items2: List[List[int]]) -> List[List[int]]:\n",
    "        items3 = list(chain(items1, items2)) # Two given input lists are merged together\n",
    "        myDict = {} # Let's create the dictionary, which will store value-weight pairs (in some cases, adding \n",
    "        # weights together)\n",
    "        for i, j in items3:\n",
    "            if i not in myDict:\n",
    "                myDict[i] = j # The new key is created\n",
    "            else:\n",
    "                myDict[i] += j # When the key already exists within the dictionary\n",
    "        final = sorted(list(myDict.items())) # Finally, we need to sort the obtained list of tuples, which is \n",
    "        # to be returned\n",
    "        return final\n",
    "    \n",
    "a = Solution()\n",
    "a.mergeSimilarItems([[1,1],[4,5],[3,8]], [[3,1],[1,5]])"
   ]
  }
 ],
 "metadata": {
  "kernelspec": {
   "display_name": "Python 3 (ipykernel)",
   "language": "python",
   "name": "python3"
  },
  "language_info": {
   "codemirror_mode": {
    "name": "ipython",
    "version": 3
   },
   "file_extension": ".py",
   "mimetype": "text/x-python",
   "name": "python",
   "nbconvert_exporter": "python",
   "pygments_lexer": "ipython3",
   "version": "3.9.7"
  }
 },
 "nbformat": 4,
 "nbformat_minor": 5
}
