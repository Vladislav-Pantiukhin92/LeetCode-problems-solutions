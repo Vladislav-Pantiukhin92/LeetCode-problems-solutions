{
 "cells": [
  {
   "cell_type": "markdown",
   "id": "5a91bd49",
   "metadata": {},
   "source": [
    "### 2395. Find Subarrays With Equal Sum"
   ]
  },
  {
   "cell_type": "code",
   "execution_count": 12,
   "id": "98a7f644",
   "metadata": {},
   "outputs": [
    {
     "data": {
      "text/plain": [
       "True"
      ]
     },
     "execution_count": 12,
     "metadata": {},
     "output_type": "execute_result"
    }
   ],
   "source": [
    "\"\"\"\n",
    "Given a 0-indexed integer array nums, determine whether there exist two subarrays of length 2 with \n",
    "equal sum. Note that the two subarrays must begin at different indices.\n",
    "Return true if these subarrays exist, and false otherwise.\n",
    "A subarray is a contiguous non-empty sequence of elements within an array.\n",
    "\n",
    "Example 1:\n",
    "\n",
    "Input: nums = [4,2,4]\n",
    "Output: true\n",
    "Explanation: The subarrays with elements [4,2] and [2,4] have the same sum of 6.\n",
    "Example 2:\n",
    "\n",
    "Input: nums = [1,2,3,4,5]\n",
    "Output: false\n",
    "Explanation: No two subarrays of size 2 have the same sum.\n",
    "Example 3:\n",
    "\n",
    "Input: nums = [0,0,0]\n",
    "Output: true\n",
    "Explanation: The subarrays [nums[0],nums[1]] and [nums[1],nums[2]] have the same sum of 0. \n",
    "Note that even though the subarrays have the same content, the two subarrays are considered different \n",
    "because they are in different positions in the original array.\n",
    "\"\"\"\n",
    "\n",
    "class Solution:\n",
    "    def findSubarrays(self, nums: List[int]) -> bool:\n",
    "        length = len(nums) # The length of the given input array\n",
    "        if length < 3: # If the length of the given input array < 3 - we return False\n",
    "            return False\n",
    "        final = [] # It is the list container, which will store sums of subarrays\n",
    "    # Through the 'while loop' we are going to find all sums of all possible subarrays\n",
    "        i = 0\n",
    "        j = 1\n",
    "        while j < len(nums):\n",
    "            curSum = sum(nums[i:j + 1])\n",
    "            final.append(curSum) # The sums are stored within the list container\n",
    "            i += 1\n",
    "            j += 1\n",
    "        if len(final) != len(set(final)): # If the list contains duplicates (that is, the same sums) - we \n",
    "            # return True\n",
    "            return True\n",
    "        return False # Alternatively, we return False\n",
    "    \n",
    "a = Solution()\n",
    "a.findSubarrays([4,2,4])"
   ]
  }
 ],
 "metadata": {
  "kernelspec": {
   "display_name": "Python 3 (ipykernel)",
   "language": "python",
   "name": "python3"
  },
  "language_info": {
   "codemirror_mode": {
    "name": "ipython",
    "version": 3
   },
   "file_extension": ".py",
   "mimetype": "text/x-python",
   "name": "python",
   "nbconvert_exporter": "python",
   "pygments_lexer": "ipython3",
   "version": "3.9.7"
  }
 },
 "nbformat": 4,
 "nbformat_minor": 5
}
