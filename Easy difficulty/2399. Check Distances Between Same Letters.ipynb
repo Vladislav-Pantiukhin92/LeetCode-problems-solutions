{
 "cells": [
  {
   "cell_type": "markdown",
   "id": "2f69b1a6",
   "metadata": {},
   "source": [
    "### 2399. Check Distances Between Same Letters"
   ]
  },
  {
   "cell_type": "code",
   "execution_count": 9,
   "id": "bca0c840",
   "metadata": {},
   "outputs": [
    {
     "data": {
      "text/plain": [
       "False"
      ]
     },
     "execution_count": 9,
     "metadata": {},
     "output_type": "execute_result"
    }
   ],
   "source": [
    "\"\"\"\n",
    "You are given a 0-indexed string s consisting of only lowercase English letters, where each letter in s \n",
    "appears exactly twice. You are also given a 0-indexed integer array distance of length 26.\n",
    "Each letter in the alphabet is numbered from 0 to 25 (i.e. 'a' -> 0, 'b' -> 1, 'c' -> 2, ... , 'z' -> 25).\n",
    "In a well-spaced string, the number of letters between the two occurrences of the ith letter is \n",
    "distance[i]. If the ith letter does not appear in s, then distance[i] can be ignored.\n",
    "Return true if s is a well-spaced string, otherwise return false.\n",
    "\n",
    "Example 1:\n",
    "\n",
    "Input: s = \"abaccb\", distance = [1,3,0,5,0,0,0,0,0,0,0,0,0,0,0,0,0,0,0,0,0,0,0,0,0,0]\n",
    "Output: true\n",
    "Explanation:\n",
    "- 'a' appears at indices 0 and 2 so it satisfies distance[0] = 1.\n",
    "- 'b' appears at indices 1 and 5 so it satisfies distance[1] = 3.\n",
    "- 'c' appears at indices 3 and 4 so it satisfies distance[2] = 0.\n",
    "Note that distance[3] = 5, but since 'd' does not appear in s, it can be ignored.\n",
    "Return true because s is a well-spaced string.\n",
    "Example 2:\n",
    "\n",
    "Input: s = \"aa\", distance = [1,0,0,0,0,0,0,0,0,0,0,0,0,0,0,0,0,0,0,0,0,0,0,0,0,0]\n",
    "Output: false\n",
    "Explanation:\n",
    "- 'a' appears at indices 0 and 1 so there are zero letters between them.\n",
    "Because distance[0] = 1, s is not a well-spaced string.\n",
    "\"\"\"\n",
    "\n",
    "import string # We are going to import the lowercase English letters (in total, 26 letters)\n",
    "\n",
    "class Solution:\n",
    "    def checkDistances(self, s: str, distance: List[int]) -> bool:\n",
    "        alphabet = string.ascii_lowercase # The lowercase English alphabet is imported\n",
    "        myDistance = [0 for _ in range(26)] # Let's generate our own distance, which is initially filled with 0s\n",
    "        for ind, i in enumerate(alphabet):\n",
    "        # The string methods 'str.find()' and 'str.rfind()' will be used to find the location of letters, as well \n",
    "        # as the distance between them (if these letters exist within the given input string at all)\n",
    "            if s.find(i) != -1:\n",
    "            # The distance is found and recorded\n",
    "            # 'str.find()' - the first location of the letter\n",
    "            # 'str.rfind()' - the final location of the letter\n",
    "                curDist = (s.rfind(i) - s.find(i)) - 1\n",
    "                myDistance[ind] = curDist \n",
    "            else:\n",
    "                myDistance[ind] = \"Ignore\" # If the specific letter doesn't exist - we place \"Ignore\"\n",
    "        i = 0\n",
    "        j = 0\n",
    "        # The final step is to compare two distance arrays:\n",
    "        while i < len(distance):\n",
    "            if myDistance[j] == \"Ignore\": # The \"Ignore\" location is to be omitted\n",
    "                i += 1\n",
    "                j += 1\n",
    "            else:\n",
    "                if distance[i] != myDistance[j]: # If the disparity of locations - we return False\n",
    "                    return False\n",
    "                else:\n",
    "                    i += 1\n",
    "                    j += 1\n",
    "        return True # We return True, following all the comparison processes\n",
    "    \n",
    "a = Solution()\n",
    "a.checkDistances(\"aa\", [1,0,0,0,0,0,0,0,0,0,0,0,0,0,0,0,0,0,0,0,0,0,0,0,0,0])"
   ]
  }
 ],
 "metadata": {
  "kernelspec": {
   "display_name": "Python 3 (ipykernel)",
   "language": "python",
   "name": "python3"
  },
  "language_info": {
   "codemirror_mode": {
    "name": "ipython",
    "version": 3
   },
   "file_extension": ".py",
   "mimetype": "text/x-python",
   "name": "python",
   "nbconvert_exporter": "python",
   "pygments_lexer": "ipython3",
   "version": "3.9.7"
  }
 },
 "nbformat": 4,
 "nbformat_minor": 5
}
