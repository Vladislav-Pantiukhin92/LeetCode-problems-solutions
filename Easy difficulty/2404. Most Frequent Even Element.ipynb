{
 "cells": [
  {
   "cell_type": "markdown",
   "id": "bef2404c",
   "metadata": {},
   "source": [
    "### 2404. Most Frequent Even Element"
   ]
  },
  {
   "cell_type": "code",
   "execution_count": 19,
   "id": "72a4b335",
   "metadata": {},
   "outputs": [
    {
     "data": {
      "text/plain": [
       "2"
      ]
     },
     "execution_count": 19,
     "metadata": {},
     "output_type": "execute_result"
    }
   ],
   "source": [
    "\"\"\"\n",
    "Given an integer array nums, return the most frequent even element.\n",
    "If there is a tie, return the smallest one. If there is no such element, return -1.\n",
    "\n",
    "Example 1:\n",
    "\n",
    "Input: nums = [0,1,2,2,4,4,1]\n",
    "Output: 2\n",
    "Explanation:\n",
    "The even elements are 0, 2, and 4. Of these, 2 and 4 appear the most.\n",
    "We return the smallest one, which is 2.\n",
    "Example 2:\n",
    "\n",
    "Input: nums = [4,4,4,9,2,4]\n",
    "Output: 4\n",
    "Explanation: 4 is the even element appears the most.\n",
    "Example 3:\n",
    "\n",
    "Input: nums = [29,47,21,41,13,37,25,7]\n",
    "Output: -1\n",
    "Explanation: There is no even element.\n",
    "\"\"\"\n",
    "\n",
    "from itertools import groupby # 'itertools.groupby' will return the chunk of elements with the most frequent number\n",
    "from operator import * # 'operator.eq' will compare the numbers\n",
    "\n",
    "class Solution:\n",
    "    def mostFrequentEven(self, nums: List[int]) -> int:\n",
    "        # Through the 'filter' function we return the list with only even numbers (the list is sorted)\n",
    "        only_even = sorted(list(filter(lambda x: x % 2 == 0, nums)))\n",
    "        if not only_even: # If the list with only even numbers is empty - we return -1\n",
    "            return -1\n",
    "        minElem = float(\"inf\") # The initial minElement is the maxInfinity\n",
    "        maxOccur = 0 # The initial maxOccurrence is 0\n",
    "        # Let's utilize the 'itertools.groupby':\n",
    "        for key, group in groupby(only_even):\n",
    "            length = len(list(group))\n",
    "            if length > maxOccur:\n",
    "                maxOccur = length\n",
    "                minElem = key\n",
    "            elif eq(length, maxOccur):\n",
    "                if key < minElem:\n",
    "                    minElem = key\n",
    "        return minElem # The final result is returned\n",
    "    \n",
    "a = Solution()\n",
    "a.mostFrequentEven([0,1,2,2,4,4,1])"
   ]
  }
 ],
 "metadata": {
  "kernelspec": {
   "display_name": "Python 3 (ipykernel)",
   "language": "python",
   "name": "python3"
  },
  "language_info": {
   "codemirror_mode": {
    "name": "ipython",
    "version": 3
   },
   "file_extension": ".py",
   "mimetype": "text/x-python",
   "name": "python",
   "nbconvert_exporter": "python",
   "pygments_lexer": "ipython3",
   "version": "3.9.7"
  }
 },
 "nbformat": 4,
 "nbformat_minor": 5
}
