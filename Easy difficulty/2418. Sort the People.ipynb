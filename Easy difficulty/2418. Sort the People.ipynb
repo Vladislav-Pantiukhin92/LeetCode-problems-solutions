{
 "cells": [
  {
   "cell_type": "markdown",
   "id": "ce59784b",
   "metadata": {},
   "source": [
    "### 2418. Sort the People"
   ]
  },
  {
   "cell_type": "code",
   "execution_count": 10,
   "id": "6b9e4323",
   "metadata": {},
   "outputs": [
    {
     "data": {
      "text/plain": [
       "['Mary', 'Emma', 'John']"
      ]
     },
     "execution_count": 10,
     "metadata": {},
     "output_type": "execute_result"
    }
   ],
   "source": [
    "\"\"\"\n",
    "You are given an array of strings names, and an array heights that consists of distinct positive integers. \n",
    "Both arrays are of length n.\n",
    "For each index i, names[i] and heights[i] denote the name and height of the ith person.\n",
    "Return names sorted in descending order by the people's heights.\n",
    "\n",
    "Example 1:\n",
    "\n",
    "Input: names = [\"Mary\",\"John\",\"Emma\"], heights = [180,165,170]\n",
    "Output: [\"Mary\",\"Emma\",\"John\"]\n",
    "Explanation: Mary is the tallest, followed by Emma and John.\n",
    "Example 2:\n",
    "\n",
    "Input: names = [\"Alice\",\"Bob\",\"Bob\"], heights = [155,185,150]\n",
    "Output: [\"Bob\",\"Alice\",\"Bob\"]\n",
    "Explanation: The first Bob is the tallest, followed by Alice and the second Bob.\n",
    "\"\"\"\n",
    "\n",
    "class Solution:\n",
    "    def sortPeople(self, names: List[str], heights: List[int]) -> List[str]:\n",
    "# We are going to create the zip_list ('names' and 'heights' are to be merged together.)\n",
    "# The zip_list is sorted in descending order (with the main focus on the second argument - [1])\n",
    "        zip_list = sorted(list(zip(names, heights)), key=lambda x: x[1], reverse=True)\n",
    "# Finally, the list with only names is returned\n",
    "        return list(map(lambda x: x[0], zip_list))\n",
    "    \n",
    "a = Solution()\n",
    "a.sortPeople([\"Mary\",\"John\",\"Emma\"], [180,165,170])"
   ]
  }
 ],
 "metadata": {
  "kernelspec": {
   "display_name": "Python 3 (ipykernel)",
   "language": "python",
   "name": "python3"
  },
  "language_info": {
   "codemirror_mode": {
    "name": "ipython",
    "version": 3
   },
   "file_extension": ".py",
   "mimetype": "text/x-python",
   "name": "python",
   "nbconvert_exporter": "python",
   "pygments_lexer": "ipython3",
   "version": "3.9.7"
  }
 },
 "nbformat": 4,
 "nbformat_minor": 5
}
