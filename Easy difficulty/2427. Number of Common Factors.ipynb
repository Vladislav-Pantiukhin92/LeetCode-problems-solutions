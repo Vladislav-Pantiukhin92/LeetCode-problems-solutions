{
 "cells": [
  {
   "cell_type": "markdown",
   "id": "ccad8471",
   "metadata": {},
   "source": [
    "### 2427. Number of Common Factors"
   ]
  },
  {
   "cell_type": "code",
   "execution_count": 2,
   "id": "549c125b",
   "metadata": {},
   "outputs": [
    {
     "data": {
      "text/plain": [
       "4"
      ]
     },
     "execution_count": 2,
     "metadata": {},
     "output_type": "execute_result"
    }
   ],
   "source": [
    "\"\"\"\n",
    "Given two positive integers a and b, return the number of common factors of a and b.\n",
    "An integer x is a common factor of a and b if x divides both a and b.\n",
    "\n",
    "Example 1:\n",
    "\n",
    "Input: a = 12, b = 6\n",
    "Output: 4\n",
    "Explanation: The common factors of 12 and 6 are 1, 2, 3, 6.\n",
    "Example 2:\n",
    "\n",
    "Input: a = 25, b = 30\n",
    "Output: 2\n",
    "Explanation: The common factors of 25 and 30 are 1, 5.\n",
    "\"\"\"\n",
    "\n",
    "class Solution:\n",
    "    def commonFactors(self, a: int, b: int) -> int:\n",
    "# For starters, let's figure out the threshold - the greatest common divisor through the implementation of the \n",
    "# the Euclidean algorithm:\n",
    "        def gcd(x, y): # The Greatest Common Divisor algorithm\n",
    "            while x > 0 and y > 0:\n",
    "                if x > y:\n",
    "                    x %= y\n",
    "                else:\n",
    "                    y %= x\n",
    "            return x + y\n",
    "        i = gcd(a, b) - 1\n",
    "        cfactors = 1 # The greatest common divisor is found, so we have, at least, 1 common factor\n",
    "        while i >= 1: # Through the 'while loop' - we find all other common factors, including 1\n",
    "            if a % i == 0 and b % i == 0:\n",
    "                cfactors += 1\n",
    "            i -= 1\n",
    "        return cfactors # The final number of common factors is returned\n",
    "    \n",
    "a = Solution()\n",
    "a.commonFactors(12, 6)"
   ]
  }
 ],
 "metadata": {
  "kernelspec": {
   "display_name": "Python 3 (ipykernel)",
   "language": "python",
   "name": "python3"
  },
  "language_info": {
   "codemirror_mode": {
    "name": "ipython",
    "version": 3
   },
   "file_extension": ".py",
   "mimetype": "text/x-python",
   "name": "python",
   "nbconvert_exporter": "python",
   "pygments_lexer": "ipython3",
   "version": "3.9.7"
  }
 },
 "nbformat": 4,
 "nbformat_minor": 5
}
