{
 "cells": [
  {
   "cell_type": "markdown",
   "id": "60b0eec1",
   "metadata": {},
   "source": [
    "### 2432. The Employee That Worked on the Longest Task"
   ]
  },
  {
   "cell_type": "code",
   "execution_count": 8,
   "id": "ca6a660a",
   "metadata": {},
   "outputs": [
    {
     "data": {
      "text/plain": [
       "0"
      ]
     },
     "execution_count": 8,
     "metadata": {},
     "output_type": "execute_result"
    }
   ],
   "source": [
    "\"\"\"\n",
    "There are n employees, each with a unique id from 0 to n - 1.\n",
    "You are given a 2D integer array logs where logs[i] = [idi, leaveTimei] where:\n",
    "\n",
    "idi is the id of the employee that worked on the ith task, and\n",
    "leaveTimei is the time at which the employee finished the ith task. All the values leaveTimei are unique.\n",
    "Note that the ith task starts the moment right after the (i - 1)th task ends, and the 0th task starts at time 0.\n",
    "Return the id of the employee that worked the task with the longest time. If there is a tie between \n",
    "two or more employees, return the smallest id among them.\n",
    "\n",
    "Example 1:\n",
    "\n",
    "Input: n = 10, logs = [[0,3],[2,5],[0,9],[1,15]]\n",
    "Output: 1\n",
    "Explanation: \n",
    "Task 0 started at 0 and ended at 3 with 3 units of times.\n",
    "Task 1 started at 3 and ended at 5 with 2 units of times.\n",
    "Task 2 started at 5 and ended at 9 with 4 units of times.\n",
    "Task 3 started at 9 and ended at 15 with 6 units of times.\n",
    "The task with the longest time is task 3 and the employee with id 1 is the one that worked on it, so we return 1.\n",
    "Example 2:\n",
    "\n",
    "Input: n = 26, logs = [[1,1],[3,7],[2,12],[7,17]]\n",
    "Output: 3\n",
    "Explanation: \n",
    "Task 0 started at 0 and ended at 1 with 1 unit of times.\n",
    "Task 1 started at 1 and ended at 7 with 6 units of times.\n",
    "Task 2 started at 7 and ended at 12 with 5 units of times.\n",
    "Task 3 started at 12 and ended at 17 with 5 units of times.\n",
    "The tasks with the longest time is task 1. The employees that worked on it is 3, so we return 3.\n",
    "Example 3:\n",
    "\n",
    "Input: n = 2, logs = [[0,10],[1,20]]\n",
    "Output: 0\n",
    "Explanation: \n",
    "Task 0 started at 0 and ended at 10 with 10 units of times.\n",
    "Task 1 started at 10 and ended at 20 with 10 units of times.\n",
    "The tasks with the longest time are tasks 0 and 1. The employees that worked on them are 0 and 1, so we return the smallest id 0.\n",
    "\"\"\"\n",
    "\n",
    "class Solution:\n",
    "    def hardestWorker(self, n: int, logs: List[List[int]]) -> int:\n",
    "        startTime = 0 # The initial startTime is 0\n",
    "        longestTime = -float(\"inf\") # The initial longest Time is the negative infinity\n",
    "        idDict = {} # The dictionary will store ids as keys and their longest time as values\n",
    "        ids = [] # If necessary, the list will store several ids with the longest time. As a result, finally \n",
    "        # we are going to return the minValue from this list\n",
    "        for i, j in logs:\n",
    "            curTime = abs(startTime - j) # The current time is calculated\n",
    "            if i not in idDict:\n",
    "                idDict[i] = curTime\n",
    "                # The longest time (value) is updated (if necessary)\n",
    "                longestTime = max(longestTime, idDict[i])\n",
    "            else:\n",
    "                idDict[i] = max(curTime, idDict[i])\n",
    "                # The longest time (value) is updated (if necessary)\n",
    "                longestTime = max(longestTime, idDict[i])\n",
    "            startTime = j\n",
    "        for i in idDict:\n",
    "            if idDict[i] == longestTime:\n",
    "                ids.append(i) # The list will contain elements (ids) with the longest time\n",
    "        return min(ids) # The minElement is finally returned\n",
    "    \n",
    "a = Solution()\n",
    "a.hardestWorker(2, [[0,10],[1,20]])"
   ]
  }
 ],
 "metadata": {
  "kernelspec": {
   "display_name": "Python 3 (ipykernel)",
   "language": "python",
   "name": "python3"
  },
  "language_info": {
   "codemirror_mode": {
    "name": "ipython",
    "version": 3
   },
   "file_extension": ".py",
   "mimetype": "text/x-python",
   "name": "python",
   "nbconvert_exporter": "python",
   "pygments_lexer": "ipython3",
   "version": "3.9.7"
  }
 },
 "nbformat": 4,
 "nbformat_minor": 5
}
