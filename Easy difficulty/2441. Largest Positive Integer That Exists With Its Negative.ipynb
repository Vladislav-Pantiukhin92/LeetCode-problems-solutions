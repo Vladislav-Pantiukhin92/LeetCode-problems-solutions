{
 "cells": [
  {
   "cell_type": "markdown",
   "id": "7b06f0c0",
   "metadata": {},
   "source": [
    "### 2441. Largest Positive Integer That Exists With Its Negative"
   ]
  },
  {
   "cell_type": "code",
   "execution_count": 2,
   "id": "ec58f289",
   "metadata": {},
   "outputs": [
    {
     "data": {
      "text/plain": [
       "7"
      ]
     },
     "execution_count": 2,
     "metadata": {},
     "output_type": "execute_result"
    }
   ],
   "source": [
    "\"\"\"\n",
    "Given an integer array nums that does not contain any zeros, find the largest positive integer k such \n",
    "that -k also exists in the array.\n",
    "Return the positive integer k. If there is no such integer, return -1.\n",
    "\n",
    "Example 1:\n",
    "\n",
    "Input: nums = [-1,2,-3,3]\n",
    "Output: 3\n",
    "Explanation: 3 is the only valid k we can find in the array.\n",
    "Example 2:\n",
    "\n",
    "Input: nums = [-1,10,6,7,-7,1]\n",
    "Output: 7\n",
    "Explanation: Both 1 and 7 have their corresponding negative values in the array. 7 has a larger value.\n",
    "Example 3:\n",
    "\n",
    "Input: nums = [-10,8,6,7,-2,-3]\n",
    "Output: -1\n",
    "Explanation: There is no a single valid k, we return -1.\n",
    "\"\"\"\n",
    "\n",
    "from operator import * # 'operator.neg' is aimed at making the number negative\n",
    "\n",
    "class Solution:\n",
    "    def findMaxK(self, nums: List[int]) -> int:\n",
    "# With the help of the 'filter' function we are going to extract only positive numbers (the list with only \n",
    "# positive numbers). This list will be sorted in descending order, that is, the maxNumber is the first element \n",
    "# within the list\n",
    "        only_pos = sorted(list(filter(lambda x: x > 0, nums)), reverse=True)\n",
    "        i = 0\n",
    "# Through the 'while loop' we are planning to iterate over elements and find the same element, but with the \"-\"\n",
    "        while i < len(only_pos):\n",
    "            if neg(only_pos[i]) in nums:\n",
    "                return only_pos[i]\n",
    "            i += 1\n",
    "        return -1 # If the pertinent element is not found - we return -1\n",
    "    \n",
    "a = Solution()\n",
    "a.findMaxK([-1,10,6,7,-7,1])"
   ]
  },
  {
   "cell_type": "code",
   "execution_count": null,
   "id": "477e8bd6",
   "metadata": {},
   "outputs": [],
   "source": []
  }
 ],
 "metadata": {
  "kernelspec": {
   "display_name": "Python 3 (ipykernel)",
   "language": "python",
   "name": "python3"
  },
  "language_info": {
   "codemirror_mode": {
    "name": "ipython",
    "version": 3
   },
   "file_extension": ".py",
   "mimetype": "text/x-python",
   "name": "python",
   "nbconvert_exporter": "python",
   "pygments_lexer": "ipython3",
   "version": "3.9.7"
  }
 },
 "nbformat": 4,
 "nbformat_minor": 5
}
