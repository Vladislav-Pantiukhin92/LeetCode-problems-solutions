{
 "cells": [
  {
   "cell_type": "markdown",
   "id": "b3df396f",
   "metadata": {},
   "source": [
    "### 2446. Determine if Two Events Have Conflict"
   ]
  },
  {
   "cell_type": "code",
   "execution_count": 1,
   "id": "4b21410b",
   "metadata": {},
   "outputs": [
    {
     "data": {
      "text/plain": [
       "False"
      ]
     },
     "execution_count": 1,
     "metadata": {},
     "output_type": "execute_result"
    }
   ],
   "source": [
    "\"\"\"\n",
    "You are given two arrays of strings that represent two inclusive events that happened on the same day, \n",
    "event1 and event2, where:\n",
    "\n",
    "event1 = [startTime1, endTime1] and\n",
    "event2 = [startTime2, endTime2].\n",
    "Event times are valid 24 hours format in the form of HH:MM.\n",
    "\n",
    "A conflict happens when two events have some non-empty intersection (i.e., some moment is common to \n",
    "both events).\n",
    "Return true if there is a conflict between two events. Otherwise, return false.\n",
    "Example 1:\n",
    "\n",
    "Input: event1 = [\"01:15\",\"02:00\"], event2 = [\"02:00\",\"03:00\"]\n",
    "Output: true\n",
    "Explanation: The two events intersect at time 2:00.\n",
    "Example 2:\n",
    "\n",
    "Input: event1 = [\"01:00\",\"02:00\"], event2 = [\"01:20\",\"03:00\"]\n",
    "Output: true\n",
    "Explanation: The two events intersect starting from 01:20 to 02:00.\n",
    "Example 3:\n",
    "\n",
    "Input: event1 = [\"10:00\",\"11:00\"], event2 = [\"14:00\",\"15:00\"]\n",
    "Output: false\n",
    "Explanation: The two events do not intersect.\n",
    "\"\"\"\n",
    "\n",
    "class Solution:\n",
    "    def haveConflict(self, event1: List[str], event2: List[str]) -> bool:\n",
    "# We are going to create two set structures and find their intersection degree. If the intersection takes place - \n",
    "# we return True, alternatively - we return False\n",
    "        start1 = int(event1[0].split(\":\")[0]) * 60 + int(event1[0].split(\":\")[1]) # The start time (in minutes) of \n",
    "    # the first set sequence\n",
    "        end1 = int(event1[1].split(\":\")[0]) * 60 + int(event1[1].split(\":\")[1]) # The end time (in minutes) of the\n",
    "        # first set sequence\n",
    "        start2 = int(event2[0].split(\":\")[0]) * 60 + int(event2[0].split(\":\")[1]) # The start time (in minutes) of the \n",
    "        # second set sequence\n",
    "        end2 = int(event2[1].split(\":\")[0]) * 60 + int(event2[1].split(\":\")[1]) # The end time (in minutes) of the second\n",
    "        # set sequence\n",
    "        if set(range(start1, end1 + 1)).intersection(set(range(start2, end2 + 1))): # Calculation of the intersection degree\n",
    "            return True # If the intersection takes place - we return True\n",
    "        return False # If the intersection doesn't take place - we return False\n",
    "    \n",
    "a = Solution()\n",
    "a.haveConflict([\"10:00\",\"11:00\"], [\"14:00\",\"15:00\"])"
   ]
  }
 ],
 "metadata": {
  "kernelspec": {
   "display_name": "Python 3 (ipykernel)",
   "language": "python",
   "name": "python3"
  },
  "language_info": {
   "codemirror_mode": {
    "name": "ipython",
    "version": 3
   },
   "file_extension": ".py",
   "mimetype": "text/x-python",
   "name": "python",
   "nbconvert_exporter": "python",
   "pygments_lexer": "ipython3",
   "version": "3.9.7"
  }
 },
 "nbformat": 4,
 "nbformat_minor": 5
}
