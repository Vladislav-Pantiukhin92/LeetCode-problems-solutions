{
 "cells": [
  {
   "cell_type": "markdown",
   "id": "9ae83e5f",
   "metadata": {},
   "source": [
    "### 2455. Average Value of Even Numbers That Are Divisible by Three"
   ]
  },
  {
   "cell_type": "code",
   "execution_count": 1,
   "id": "1cc1fbdc",
   "metadata": {},
   "outputs": [
    {
     "data": {
      "text/plain": [
       "9"
      ]
     },
     "execution_count": 1,
     "metadata": {},
     "output_type": "execute_result"
    }
   ],
   "source": [
    "\"\"\"\n",
    "Given an integer array nums of positive integers, return the average value of all even integers that are \n",
    "divisible by 3.\n",
    "Note that the average of n elements is the sum of the n elements divided by n and rounded down to the \n",
    "nearest integer.\n",
    "\n",
    "Example 1:\n",
    "\n",
    "Input: nums = [1,3,6,10,12,15]\n",
    "Output: 9\n",
    "Explanation: 6 and 12 are even numbers that are divisible by 3. (6 + 12) / 2 = 9.\n",
    "Example 2:\n",
    "\n",
    "Input: nums = [1,2,4,7,10]\n",
    "Output: 0\n",
    "Explanation: There is no single number that satisfies the requirement, so return 0.\n",
    "\"\"\"\n",
    "\n",
    "from statistics import mean # We are going to find the mean/average value through the 'statistics.mean' module\n",
    "\n",
    "class Solution:\n",
    "    def averageValue(self, nums: List[int]) -> int:\n",
    "# With the use of the 'filter' function - we remove all the elements, which are not divisible by 2 and 3 at the same time\n",
    "        target_list = list(filter(lambda x: x % 6 == 0, nums))\n",
    "        if not target_list: # If the obtained list is empty - we return 0\n",
    "            return 0\n",
    "        return int(mean(target_list)) # If the obtained list contains elements - we return the mean integer\n",
    "    \n",
    "a = Solution()\n",
    "a.averageValue([1,3,6,10,12,15])"
   ]
  }
 ],
 "metadata": {
  "kernelspec": {
   "display_name": "Python 3 (ipykernel)",
   "language": "python",
   "name": "python3"
  },
  "language_info": {
   "codemirror_mode": {
    "name": "ipython",
    "version": 3
   },
   "file_extension": ".py",
   "mimetype": "text/x-python",
   "name": "python",
   "nbconvert_exporter": "python",
   "pygments_lexer": "ipython3",
   "version": "3.9.7"
  }
 },
 "nbformat": 4,
 "nbformat_minor": 5
}
