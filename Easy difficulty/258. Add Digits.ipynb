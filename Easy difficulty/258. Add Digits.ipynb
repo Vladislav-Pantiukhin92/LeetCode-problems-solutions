{
 "cells": [
  {
   "cell_type": "markdown",
   "id": "a497f345",
   "metadata": {},
   "source": [
    "### 258. Add Digits"
   ]
  },
  {
   "cell_type": "code",
   "execution_count": 2,
   "id": "3d38a3ca",
   "metadata": {},
   "outputs": [
    {
     "data": {
      "text/plain": [
       "2"
      ]
     },
     "execution_count": 2,
     "metadata": {},
     "output_type": "execute_result"
    }
   ],
   "source": [
    "\"\"\"\n",
    "Given an integer num, repeatedly add all its digits until the result has only one digit, and return it.\n",
    "Example 1:\n",
    "\n",
    "Input: num = 38\n",
    "Output: 2\n",
    "Explanation: The process is\n",
    "38 --> 3 + 8 --> 11\n",
    "11 --> 1 + 1 --> 2 \n",
    "Since 2 has only one digit, return it.\n",
    "Example 2:\n",
    "\n",
    "Input: num = 0\n",
    "Output: 0\n",
    "\"\"\"\n",
    "\n",
    "class Solution:\n",
    "    def addDigits(self, num: int) -> int:\n",
    "        # To solve the problem the input integer should be transformed, firstly, into the string type and, after that,\n",
    "        # into the list of string numbers\n",
    "        string_number = str(num)\n",
    "        while len(string_number) > 1:\n",
    "            # To figure out the current sum it is necessary for the list of string numbers to be transformed into the list of integers\n",
    "            curList = list(map(int, list(string_number)))\n",
    "            curSum = sum(curList) # We obtained the sum value\n",
    "            string_number = str(curSum) # To find the length (the loop works while the length > 1) it is important\n",
    "            # to have the string type of integers again\n",
    "        return int(string_number) # Finally, when the length equals to 1, the integer form is returned\n",
    "    \n",
    "a = Solution()\n",
    "a. addDigits(38)"
   ]
  }
 ],
 "metadata": {
  "kernelspec": {
   "display_name": "Python 3 (ipykernel)",
   "language": "python",
   "name": "python3"
  },
  "language_info": {
   "codemirror_mode": {
    "name": "ipython",
    "version": 3
   },
   "file_extension": ".py",
   "mimetype": "text/x-python",
   "name": "python",
   "nbconvert_exporter": "python",
   "pygments_lexer": "ipython3",
   "version": "3.9.7"
  }
 },
 "nbformat": 4,
 "nbformat_minor": 5
}
