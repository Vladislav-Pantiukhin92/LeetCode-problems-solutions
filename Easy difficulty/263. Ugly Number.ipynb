{
 "cells": [
  {
   "cell_type": "markdown",
   "id": "2605a452",
   "metadata": {},
   "source": [
    "### 263. Ugly Number"
   ]
  },
  {
   "cell_type": "code",
   "execution_count": 156,
   "id": "f0e98c03",
   "metadata": {},
   "outputs": [
    {
     "data": {
      "text/plain": [
       "True"
      ]
     },
     "execution_count": 156,
     "metadata": {},
     "output_type": "execute_result"
    }
   ],
   "source": [
    "\"\"\"\n",
    "An ugly number is a positive integer whose prime factors are limited to 2, 3, and 5.\n",
    "Given an integer n, return true if n is an ugly number.\n",
    "Example 1:\n",
    "\n",
    "Input: n = 6\n",
    "Output: true\n",
    "Explanation: 6 = 2 × 3\n",
    "Example 2:\n",
    "\n",
    "Input: n = 1\n",
    "Output: true\n",
    "Explanation: 1 has no prime factors, therefore all of its prime factors are limited to 2, 3, and 5.\n",
    "Example 3:\n",
    "\n",
    "Input: n = 14\n",
    "Output: false\n",
    "Explanation: 14 is not ugly since it includes the prime factor 7.\n",
    "\"\"\"\n",
    "\n",
    "class Solution:\n",
    "    def isUgly(self, n: int) -> bool:\n",
    "        if n == 0: # The special case should be taken into account - when 'n' equals to 0\n",
    "            return False\n",
    "        elif n == 1: # The special case should be taken into account - when 'n' equals to 1\n",
    "            return True\n",
    "        # In other cases, we are going to execute modulo operation while the input number != 2 or 3 or 5\n",
    "        while n != 2 and n != 3 and n != 5:\n",
    "            if n % 2 == 0:\n",
    "                n //= 2\n",
    "            elif n % 3 == 0:\n",
    "                n //= 3\n",
    "            elif n % 5 == 0:\n",
    "                n //= 5\n",
    "            else:\n",
    "                return False # Otherwise, when the input number doesn't meet the requirement, concerning \n",
    "            # prime factors, we return False\n",
    "        return True\n",
    "    \n",
    "a = Solution()\n",
    "a.isUgly(6)"
   ]
  }
 ],
 "metadata": {
  "kernelspec": {
   "display_name": "Python 3 (ipykernel)",
   "language": "python",
   "name": "python3"
  },
  "language_info": {
   "codemirror_mode": {
    "name": "ipython",
    "version": 3
   },
   "file_extension": ".py",
   "mimetype": "text/x-python",
   "name": "python",
   "nbconvert_exporter": "python",
   "pygments_lexer": "ipython3",
   "version": "3.9.7"
  }
 },
 "nbformat": 4,
 "nbformat_minor": 5
}
