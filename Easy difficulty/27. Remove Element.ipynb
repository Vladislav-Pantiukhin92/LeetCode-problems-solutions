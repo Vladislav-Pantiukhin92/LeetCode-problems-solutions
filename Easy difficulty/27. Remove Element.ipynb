{
 "cells": [
  {
   "cell_type": "markdown",
   "id": "959c4fa1",
   "metadata": {},
   "source": [
    "### 27. Remove Element"
   ]
  },
  {
   "cell_type": "code",
   "execution_count": 49,
   "id": "c33458f0",
   "metadata": {},
   "outputs": [
    {
     "data": {
      "text/plain": [
       "5"
      ]
     },
     "execution_count": 49,
     "metadata": {},
     "output_type": "execute_result"
    }
   ],
   "source": [
    "\"\"\"\n",
    "Given an integer array nums and an integer val, remove all occurrences of val in nums in-place. \n",
    "The relative order of the elements may be changed.\n",
    "Since it is impossible to change the length of the array in some languages, you must instead have \n",
    "the result be placed in the first part of the array nums. More formally, if there are k elements after \n",
    "removing the duplicates, then the first k elements of nums should hold the final result. \n",
    "It does not matter what you leave beyond the first k elements.\n",
    "Return k after placing the final result in the first k slots of nums.\n",
    "Do not allocate extra space for another array. You must do this by modifying the input array \n",
    "in-place with O(1) extra memory.\n",
    "Custom Judge:\n",
    "The judge will test your solution with the following code:\n",
    "\n",
    "int[] nums = [...]; // Input array\n",
    "int val = ...; // Value to remove\n",
    "int[] expectedNums = [...]; // The expected answer with correct length.\n",
    "                            // It is sorted with no values equaling val.\n",
    "\n",
    "int k = removeElement(nums, val); // Calls your implementation\n",
    "\n",
    "assert k == expectedNums.length;\n",
    "sort(nums, 0, k); // Sort the first k elements of nums\n",
    "for (int i = 0; i < actualLength; i++) {\n",
    "    assert nums[i] == expectedNums[i];\n",
    "}\n",
    "If all assertions pass, then your solution will be accepted.\n",
    "Example 1:\n",
    "Input: nums = [3,2,2,3], val = 3\n",
    "Output: 2, nums = [2,2,_,_]\n",
    "Explanation: Your function should return k = 2, with the first two elements of nums being 2.\n",
    "It does not matter what you leave beyond the returned k (hence they are underscores).\n",
    "Example 2:\n",
    "Input: nums = [0,1,2,2,3,0,4,2], val = 2\n",
    "Output: 5, nums = [0,1,4,0,3,_,_,_]\n",
    "Explanation: Your function should return k = 5, with the first five elements of nums containing 0, 0, 1, 3, and 4.\n",
    "Note that the five elements can be returned in any order.\n",
    "It does not matter what you leave beyond the returned k (hence they are underscores).\n",
    "\"\"\"\n",
    "\n",
    "class Solution:\n",
    "    def removeElement(self, nums: List[int], val: int) -> int:\n",
    "        # We are going to utilize the swapping principle of the Bubble Sort algorithm, when the envisaged values \n",
    "        # are shifted to the right \n",
    "        # At the same time other values are shifted to the left\n",
    "        for i in range(len(nums)):\n",
    "            for j in range(len(nums) - i - 1):\n",
    "                if nums[j] == val:\n",
    "                    nums[j], nums[j + 1] = nums[j + 1], nums[j]\n",
    "        count = 0\n",
    "        # After that, all values, which were shifted to the right, are replaced with None values\n",
    "        for j in range(len(nums) - 1, -1, -1):\n",
    "            if nums[j] == val:\n",
    "                nums[j] = None\n",
    "            else:\n",
    "                count += 1\n",
    "        return count # The final result is returned\n",
    "    \n",
    "a = Solution()\n",
    "a.removeElement([0,1,2,2,3,0,4,2], 2)"
   ]
  }
 ],
 "metadata": {
  "kernelspec": {
   "display_name": "Python 3 (ipykernel)",
   "language": "python",
   "name": "python3"
  },
  "language_info": {
   "codemirror_mode": {
    "name": "ipython",
    "version": 3
   },
   "file_extension": ".py",
   "mimetype": "text/x-python",
   "name": "python",
   "nbconvert_exporter": "python",
   "pygments_lexer": "ipython3",
   "version": "3.9.7"
  }
 },
 "nbformat": 4,
 "nbformat_minor": 5
}
