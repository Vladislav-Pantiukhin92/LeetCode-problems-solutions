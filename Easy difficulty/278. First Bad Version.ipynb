{
 "cells": [
  {
   "cell_type": "markdown",
   "id": "38607f63",
   "metadata": {},
   "source": [
    "### 278. First Bad Version"
   ]
  },
  {
   "cell_type": "code",
   "execution_count": null,
   "id": "8aeed74f",
   "metadata": {},
   "outputs": [],
   "source": [
    "\"\"\"\n",
    "You are a product manager and currently leading a team to develop a new product. \n",
    "Unfortunately, the latest version of your product fails the quality check. \n",
    "Since each version is developed based on the previous version, \n",
    "all the versions after a bad version are also bad.\n",
    "Suppose you have n versions [1, 2, ..., n] and you want to find out the first bad one, \n",
    "which causes all the following ones to be bad.\n",
    "You are given an API bool isBadVersion(version) which returns whether version is bad. \n",
    "Implement a function to find the first bad version. You should minimize the number of calls to the API.\n",
    "\n",
    "Example 1:\n",
    "\n",
    "Input: n = 5, bad = 4\n",
    "Output: 4\n",
    "Explanation:\n",
    "call isBadVersion(3) -> false\n",
    "call isBadVersion(5) -> true\n",
    "call isBadVersion(4) -> true\n",
    "Then 4 is the first bad version.\n",
    "Example 2:\n",
    "\n",
    "Input: n = 1, bad = 1\n",
    "Output: 1\n",
    "\"\"\"\n",
    "\n",
    "# The isBadVersion API is already defined for you.\n",
    "# def isBadVersion(version: int) -> bool:\n",
    "\n",
    "from math import *\n",
    "\n",
    "# To solve this problem the Jump Search algorithm is implemented\n",
    "# The slice, where the first bad version is situated, is being constantly identified\n",
    "# Finally, we successfully narrowed down the possibilities for the first bad version of the product\n",
    "\n",
    "class Solution:\n",
    "    def firstBadVersion(self, n: int) -> int:\n",
    "        step = int(sqrt(n))\n",
    "        prev = 0\n",
    "        while not isBadVersion(step):\n",
    "            prev = step\n",
    "            step += int(sqrt(n))\n",
    "        # When the slice is identified we use the simple Linear Search algorithm to figiure out the specific location\n",
    "        while not isBadVersion(prev):\n",
    "            prev += 1\n",
    "        return prev"
   ]
  }
 ],
 "metadata": {
  "kernelspec": {
   "display_name": "Python 3 (ipykernel)",
   "language": "python",
   "name": "python3"
  },
  "language_info": {
   "codemirror_mode": {
    "name": "ipython",
    "version": 3
   },
   "file_extension": ".py",
   "mimetype": "text/x-python",
   "name": "python",
   "nbconvert_exporter": "python",
   "pygments_lexer": "ipython3",
   "version": "3.9.7"
  }
 },
 "nbformat": 4,
 "nbformat_minor": 5
}
