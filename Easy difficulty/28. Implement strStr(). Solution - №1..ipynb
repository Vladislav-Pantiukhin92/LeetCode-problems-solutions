{
 "cells": [
  {
   "cell_type": "markdown",
   "id": "e79be824",
   "metadata": {},
   "source": [
    "### 28. Implement strStr(). Solution - №1."
   ]
  },
  {
   "cell_type": "code",
   "execution_count": 262,
   "id": "fff39a67",
   "metadata": {},
   "outputs": [
    {
     "data": {
      "text/plain": [
       "2"
      ]
     },
     "execution_count": 262,
     "metadata": {},
     "output_type": "execute_result"
    }
   ],
   "source": [
    "\"\"\"\n",
    "Implement strStr().\n",
    "Given two strings needle and haystack, return the index of \n",
    "the first occurrence of needle in haystack, or -1 if needle is not part of haystack.\n",
    "Clarification:\n",
    "\n",
    "What should we return when needle is an empty string? \n",
    "This is a great question to ask during an interview.\n",
    "For the purpose of this problem, we will return 0 when needle is an empty string. \n",
    "This is consistent to C's strstr() and Java's indexOf().\n",
    "\n",
    "Example 1:\n",
    "\n",
    "Input: haystack = \"hello\", needle = \"ll\"\n",
    "Output: 2\n",
    "Example 2:\n",
    "\n",
    "Input: haystack = \"aaaaa\", needle = \"bba\"\n",
    "Output: -1\n",
    "\"\"\"\n",
    "\n",
    "# Non-algorithmic solution \n",
    "class Solution:\n",
    "    def strStr(self, haystack: str, needle: str) -> int:\n",
    "        return haystack.find(needle) # Solution through the string method str.find()\n",
    "        \n",
    "a = Solution()\n",
    "a.strStr(\"hello\", \"ll\")"
   ]
  }
 ],
 "metadata": {
  "kernelspec": {
   "display_name": "Python 3 (ipykernel)",
   "language": "python",
   "name": "python3"
  },
  "language_info": {
   "codemirror_mode": {
    "name": "ipython",
    "version": 3
   },
   "file_extension": ".py",
   "mimetype": "text/x-python",
   "name": "python",
   "nbconvert_exporter": "python",
   "pygments_lexer": "ipython3",
   "version": "3.9.7"
  }
 },
 "nbformat": 4,
 "nbformat_minor": 5
}
