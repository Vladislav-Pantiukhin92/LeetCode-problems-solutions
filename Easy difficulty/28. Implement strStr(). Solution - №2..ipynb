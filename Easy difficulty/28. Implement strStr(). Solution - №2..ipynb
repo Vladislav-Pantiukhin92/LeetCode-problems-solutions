{
 "cells": [
  {
   "cell_type": "markdown",
   "id": "e02696b7",
   "metadata": {},
   "source": [
    "### 28. Implement strStr(). Solution - №2."
   ]
  },
  {
   "cell_type": "code",
   "execution_count": 267,
   "id": "ee2191b2",
   "metadata": {},
   "outputs": [
    {
     "data": {
      "text/plain": [
       "4"
      ]
     },
     "execution_count": 267,
     "metadata": {},
     "output_type": "execute_result"
    }
   ],
   "source": [
    "\"\"\"\n",
    "Implement strStr().\n",
    "Given two strings needle and haystack, return the index of \n",
    "the first occurrence of needle in haystack, or -1 if needle is not part of haystack.\n",
    "Clarification:\n",
    "\n",
    "What should we return when needle is an empty string? \n",
    "This is a great question to ask during an interview.\n",
    "For the purpose of this problem, we will return 0 when needle is an empty string. \n",
    "This is consistent to C's strstr() and Java's indexOf().\n",
    "\n",
    "Example 1:\n",
    "\n",
    "Input: haystack = \"hello\", needle = \"ll\"\n",
    "Output: 2\n",
    "Example 2:\n",
    "\n",
    "Input: haystack = \"aaaaa\", needle = \"bba\"\n",
    "Output: -1\n",
    "\"\"\"\n",
    "\n",
    "class Solution:\n",
    "    def strStr(self, haystack: str, needle: str) -> int:\n",
    "        i = 0\n",
    "        j = 0\n",
    "        index = 0\n",
    "        while i < len(haystack):\n",
    "            # If values are the same, we are moving in the same direction \n",
    "            if haystack[i] == needle[j]:\n",
    "                i += 1 \n",
    "                j += 1\n",
    "            else:\n",
    "                if j == 0: # If the pointer of the pattern hasn't moved yet, we shift the pointer of the string\n",
    "                    i += 1\n",
    "                else:\n",
    "                    # If letters are different, then we start from 0 again in the needle\n",
    "                    # Besides, we increase the index by 1 in the haystack\n",
    "                    index += 1\n",
    "                    if index >= len(haystack):\n",
    "                        return -1\n",
    "                    i = index\n",
    "                    j = 0\n",
    "                \n",
    "            if j == len(needle):\n",
    "                return i - j\n",
    "        return -1\n",
    "                  \n",
    "a = Solution()\n",
    "a.strStr(\"mississippi\", \"issip\")"
   ]
  }
 ],
 "metadata": {
  "kernelspec": {
   "display_name": "Python 3 (ipykernel)",
   "language": "python",
   "name": "python3"
  },
  "language_info": {
   "codemirror_mode": {
    "name": "ipython",
    "version": 3
   },
   "file_extension": ".py",
   "mimetype": "text/x-python",
   "name": "python",
   "nbconvert_exporter": "python",
   "pygments_lexer": "ipython3",
   "version": "3.9.7"
  }
 },
 "nbformat": 4,
 "nbformat_minor": 5
}
