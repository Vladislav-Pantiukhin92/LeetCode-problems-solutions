{
 "cells": [
  {
   "cell_type": "markdown",
   "id": "18753945",
   "metadata": {},
   "source": [
    "### 290. Word Pattern"
   ]
  },
  {
   "cell_type": "code",
   "execution_count": 16,
   "id": "9689339b",
   "metadata": {},
   "outputs": [
    {
     "data": {
      "text/plain": [
       "True"
      ]
     },
     "execution_count": 16,
     "metadata": {},
     "output_type": "execute_result"
    }
   ],
   "source": [
    "\"\"\"\n",
    "Given a pattern and a string s, find if s follows the same pattern.\n",
    "Here follow means a full match, such that there is a bijection between \n",
    "a letter in pattern and a non-empty word in s.\n",
    "\n",
    "Example 1:\n",
    "\n",
    "Input: pattern = \"abba\", s = \"dog cat cat dog\"\n",
    "Output: true\n",
    "Example 2:\n",
    "\n",
    "Input: pattern = \"abba\", s = \"dog cat cat fish\"\n",
    "Output: false\n",
    "Example 3:\n",
    "\n",
    "Input: pattern = \"aaaa\", s = \"dog cat cat dog\"\n",
    "Output: false\n",
    "\"\"\"\n",
    "\n",
    "class Solution:\n",
    "    def wordPattern(self, pattern: str, s: str) -> bool:\n",
    "        # We are going to create the dictionary to verify the proper convertion of keys to values\n",
    "        my_list = s.split()\n",
    "        my_dict = {} # Let's initialize the dictionary\n",
    "        # It is quite obvious to suggest that strings of different length are not relatable \n",
    "        if len(pattern) != len(my_list):\n",
    "            return False\n",
    "        index = 0\n",
    "        while index < len(pattern):\n",
    "            # If the key is not added to the dictionary yet, the key is added\n",
    "            if pattern[index] not in my_dict:\n",
    "                my_dict[pattern[index]] = my_list[index]\n",
    "            else:\n",
    "                # If the key exists within the dictionary, we check the corresponding value\n",
    "                # If the value doesn't coresspond to the key - return False\n",
    "                if my_dict[pattern[index]] != my_list[index]:\n",
    "                    return False\n",
    "            index += 1\n",
    "        # For 'True' result it is necessary for unique keys to have different values\n",
    "        for i in my_dict:\n",
    "            for j in my_dict:\n",
    "                if i != j and my_dict[i] == my_dict[j]:\n",
    "                    return False\n",
    "        return True\n",
    "    \n",
    "a = Solution()\n",
    "a.wordPattern(\"abba\", \"dog cat cat dog\")"
   ]
  }
 ],
 "metadata": {
  "kernelspec": {
   "display_name": "Python 3 (ipykernel)",
   "language": "python",
   "name": "python3"
  },
  "language_info": {
   "codemirror_mode": {
    "name": "ipython",
    "version": 3
   },
   "file_extension": ".py",
   "mimetype": "text/x-python",
   "name": "python",
   "nbconvert_exporter": "python",
   "pygments_lexer": "ipython3",
   "version": "3.9.7"
  }
 },
 "nbformat": 4,
 "nbformat_minor": 5
}
