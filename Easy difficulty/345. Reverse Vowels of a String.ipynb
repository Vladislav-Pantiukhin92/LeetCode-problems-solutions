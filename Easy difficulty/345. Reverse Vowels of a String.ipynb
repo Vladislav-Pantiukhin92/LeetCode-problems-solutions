{
 "cells": [
  {
   "cell_type": "markdown",
   "id": "4aee7edc",
   "metadata": {},
   "source": [
    "### 345. Reverse Vowels of a String"
   ]
  },
  {
   "cell_type": "code",
   "execution_count": 27,
   "id": "9b1f7e34",
   "metadata": {},
   "outputs": [
    {
     "data": {
      "text/plain": [
       "'holle'"
      ]
     },
     "execution_count": 27,
     "metadata": {},
     "output_type": "execute_result"
    }
   ],
   "source": [
    "\"\"\"\n",
    "Given a string s, reverse only all the vowels in the string and return it.\n",
    "The vowels are 'a', 'e', 'i', 'o', and 'u', and they can appear in both cases.\n",
    "Example 1:\n",
    "\n",
    "Input: s = \"hello\"\n",
    "Output: \"holle\"\n",
    "Example 2:\n",
    "\n",
    "Input: s = \"leetcode\"\n",
    "Output: \"leotcede\"\n",
    "\"\"\"\n",
    "\n",
    "import re # Regular expressions\n",
    "\n",
    "class Solution:\n",
    "    def reverseVowels(self, s: str) -> str:\n",
    "        # All vowels (both lowercase and uppercase) are extracted with the help of regexp patterns\n",
    "        reversed_vowels = re.findall(r\"[aeiouAEIOU]\", s)[::-1]\n",
    "        vowels = \"aeiouAEIOU\"\n",
    "        index = 0\n",
    "        s = list(s) # The input string is transformed into the mutable structure - list\n",
    "        while index < len(s):\n",
    "            # During the iteration, when the vowel is encountered, it is replaced with another vowel from the \n",
    "            # list, which was reversed (it is used as a stack to extract the first element)\n",
    "            if s[index] in vowels:\n",
    "                curVowel = reversed_vowels.pop(0)\n",
    "                s[index] = curVowel\n",
    "            index += 1\n",
    "        return \"\".join(s) # Again the string is returned\n",
    "    \n",
    "a = Solution()\n",
    "a.reverseVowels(\"hello\")"
   ]
  }
 ],
 "metadata": {
  "kernelspec": {
   "display_name": "Python 3 (ipykernel)",
   "language": "python",
   "name": "python3"
  },
  "language_info": {
   "codemirror_mode": {
    "name": "ipython",
    "version": 3
   },
   "file_extension": ".py",
   "mimetype": "text/x-python",
   "name": "python",
   "nbconvert_exporter": "python",
   "pygments_lexer": "ipython3",
   "version": "3.9.7"
  }
 },
 "nbformat": 4,
 "nbformat_minor": 5
}
