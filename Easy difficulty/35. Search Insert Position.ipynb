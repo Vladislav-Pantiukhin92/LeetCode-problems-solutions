{
 "cells": [
  {
   "cell_type": "markdown",
   "id": "6b724d84",
   "metadata": {},
   "source": [
    "### 35. Search Insert Position"
   ]
  },
  {
   "cell_type": "code",
   "execution_count": 282,
   "id": "29c034cf",
   "metadata": {},
   "outputs": [
    {
     "data": {
      "text/plain": [
       "2"
      ]
     },
     "execution_count": 282,
     "metadata": {},
     "output_type": "execute_result"
    }
   ],
   "source": [
    "\"\"\"\n",
    "Given a sorted array of distinct integers and a target value, return the index \n",
    "if the target is found. If not, return the index where it would be if it were inserted in order.\n",
    "You must write an algorithm with O(log n) runtime complexity.\n",
    "\n",
    "Example 1:\n",
    "\n",
    "Input: nums = [1,3,5,6], target = 5\n",
    "Output: 2\n",
    "Example 2:\n",
    "\n",
    "Input: nums = [1,3,5,6], target = 2\n",
    "Output: 1\n",
    "Example 3:\n",
    "\n",
    "Input: nums = [1,3,5,6], target = 7\n",
    "Output: 4\n",
    "\"\"\"\n",
    "\n",
    "from math import *\n",
    "\n",
    "# To solve the problem the jump search algorithm is used\n",
    "# The algorithm utlizes steps (sqrt(length)) to figure out the range where the target element can be\n",
    "class Solution:\n",
    "    def searchInsert(self, nums: List[int], target: int) -> int:\n",
    "        def jump_search(array, number, length):\n",
    "            step = int(sqrt(length)) # Steps equal to sqrt(length)\n",
    "            prev = 0\n",
    "            while array[int(min(step, length) - 1)] < number: # We use the step-by-step procedure to identify the borders\n",
    "                # within which the sought-after element is located\n",
    "                prev = step\n",
    "                step += int(sqrt(length))\n",
    "                if prev >= length: # If the element is not found and the element is bigger than the last element, we return the length as the index\n",
    "                    return length\n",
    "            while array[prev] < number:\n",
    "                prev += 1 # Otherwiser, we return prev (index of the found element)\n",
    "                if prev == min(step, length):\n",
    "                    return length\n",
    "            return prev\n",
    "        result = jump_search(nums, target, len(nums))\n",
    "        return result\n",
    "    \n",
    "a = Solution()\n",
    "a.searchInsert([1,3,5,6], 5)"
   ]
  }
 ],
 "metadata": {
  "kernelspec": {
   "display_name": "Python 3 (ipykernel)",
   "language": "python",
   "name": "python3"
  },
  "language_info": {
   "codemirror_mode": {
    "name": "ipython",
    "version": 3
   },
   "file_extension": ".py",
   "mimetype": "text/x-python",
   "name": "python",
   "nbconvert_exporter": "python",
   "pygments_lexer": "ipython3",
   "version": "3.9.7"
  }
 },
 "nbformat": 4,
 "nbformat_minor": 5
}
