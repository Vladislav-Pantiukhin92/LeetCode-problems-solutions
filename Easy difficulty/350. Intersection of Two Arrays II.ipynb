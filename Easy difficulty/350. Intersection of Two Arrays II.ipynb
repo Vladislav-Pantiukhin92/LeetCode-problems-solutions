{
 "cells": [
  {
   "cell_type": "markdown",
   "id": "f5e0b17b",
   "metadata": {},
   "source": [
    "### 350. Intersection of Two Arrays II"
   ]
  },
  {
   "cell_type": "code",
   "execution_count": 142,
   "id": "f638b1c8",
   "metadata": {},
   "outputs": [
    {
     "data": {
      "text/plain": [
       "[2, 2]"
      ]
     },
     "execution_count": 142,
     "metadata": {},
     "output_type": "execute_result"
    }
   ],
   "source": [
    "\"\"\"\n",
    "Given two integer arrays nums1 and nums2, return an array of their intersection. \n",
    "Each element in the result must appear as many times as it shows in both arrays and you may return \n",
    "the result in any order.\n",
    "Example 1:\n",
    "\n",
    "Input: nums1 = [1,2,2,1], nums2 = [2,2]\n",
    "Output: [2,2]\n",
    "Example 2:\n",
    "\n",
    "Input: nums1 = [4,9,5], nums2 = [9,4,9,8,4]\n",
    "Output: [4,9]\n",
    "Explanation: [9,4] is also accepted.\n",
    "\"\"\"\n",
    "\n",
    "class Solution:\n",
    "    def intersect(self, nums1: List[int], nums2: List[int]) -> List[int]:\n",
    "        # First of all, we use the set1.intersection(set2) method again to find the overlapping elements\n",
    "        uniqueValues = list(set(nums1).intersection(set(nums2)))\n",
    "        final = []\n",
    "        # If the occurrence of overlapping elements doesn't differ - we use the 'for loop' to add the\n",
    "        # specific amount of elements\n",
    "        for i in uniqueValues:\n",
    "            if nums1.count(i) == nums2.count(i):\n",
    "                for _ in range(nums1.count(i)):\n",
    "                    final.append(i)\n",
    "            else:\n",
    "        # If the occurrence of overlapping elements does differ - we use the 'for loop' to add the minimin amount \n",
    "        # Thus, we focus on smaller occurrences, rather than on bigger occurrences \n",
    "                if nums1.count(i) > nums2.count(i):\n",
    "                    for _ in range(nums2.count(i)):\n",
    "                        final.append(i)\n",
    "                else:\n",
    "                    for _ in range(nums1.count(i)):\n",
    "                        final.append(i)\n",
    "        return final\n",
    "    \n",
    "a = Solution()\n",
    "a.intersect([1,2,2,1], [2,2])"
   ]
  }
 ],
 "metadata": {
  "kernelspec": {
   "display_name": "Python 3 (ipykernel)",
   "language": "python",
   "name": "python3"
  },
  "language_info": {
   "codemirror_mode": {
    "name": "ipython",
    "version": 3
   },
   "file_extension": ".py",
   "mimetype": "text/x-python",
   "name": "python",
   "nbconvert_exporter": "python",
   "pygments_lexer": "ipython3",
   "version": "3.9.7"
  }
 },
 "nbformat": 4,
 "nbformat_minor": 5
}
