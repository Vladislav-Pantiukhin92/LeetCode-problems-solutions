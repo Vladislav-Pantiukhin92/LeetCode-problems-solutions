{
 "cells": [
  {
   "cell_type": "markdown",
   "id": "3f67c34c",
   "metadata": {},
   "source": [
    "### 383. Ransom Note"
   ]
  },
  {
   "cell_type": "code",
   "execution_count": 31,
   "id": "b2cde44b",
   "metadata": {},
   "outputs": [
    {
     "data": {
      "text/plain": [
       "True"
      ]
     },
     "execution_count": 31,
     "metadata": {},
     "output_type": "execute_result"
    }
   ],
   "source": [
    "\"\"\"\n",
    "Given two strings ransomNote and magazine, return true if ransomNote can be constructed \n",
    "from magazine and false otherwise.\n",
    "Each letter in magazine can only be used once in ransomNote.\n",
    "Example 1:\n",
    "\n",
    "Input: ransomNote = \"a\", magazine = \"b\"\n",
    "Output: false\n",
    "Example 2:\n",
    "\n",
    "Input: ransomNote = \"aa\", magazine = \"ab\"\n",
    "Output: false\n",
    "Example 3:\n",
    "\n",
    "Input: ransomNote = \"aa\", magazine = \"aab\"\n",
    "Output: true\n",
    "\"\"\"\n",
    "\n",
    "from collections import Counter # The dictionary, where keys are letters and values are their occurrences\n",
    "\n",
    "class Solution:\n",
    "    def canConstruct(self, ransomNote: str, magazine: str) -> bool:\n",
    "        # Let's create two dictionaries with occurrences\n",
    "        ransomDict = dict(Counter(ransomNote)) # The first one for the ransomNote\n",
    "        magazineDict = dict(Counter(magazine)) # The second one for the magazine\n",
    "        ransomUnique = list(set(ransomNote))\n",
    "        # Magazine's dictionary should have equal or bigger occurrences across all letters in the ransomNote\n",
    "        # Otherwise, each case will return 'False'\n",
    "        for i in ransomUnique:\n",
    "            if i in magazineDict:\n",
    "                if magazineDict[i] < ransomDict[i]:\n",
    "                    return False\n",
    "            else:\n",
    "                return False\n",
    "        return True\n",
    "    \n",
    "a = Solution()\n",
    "a.canConstruct(\"aa\", \"aab\")"
   ]
  }
 ],
 "metadata": {
  "kernelspec": {
   "display_name": "Python 3 (ipykernel)",
   "language": "python",
   "name": "python3"
  },
  "language_info": {
   "codemirror_mode": {
    "name": "ipython",
    "version": 3
   },
   "file_extension": ".py",
   "mimetype": "text/x-python",
   "name": "python",
   "nbconvert_exporter": "python",
   "pygments_lexer": "ipython3",
   "version": "3.9.7"
  }
 },
 "nbformat": 4,
 "nbformat_minor": 5
}
