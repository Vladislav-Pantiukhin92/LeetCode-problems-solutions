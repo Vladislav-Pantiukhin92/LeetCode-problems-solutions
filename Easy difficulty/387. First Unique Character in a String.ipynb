{
 "cells": [
  {
   "cell_type": "markdown",
   "id": "59aedab6",
   "metadata": {},
   "source": [
    "### 387. First Unique Character in a String"
   ]
  },
  {
   "cell_type": "code",
   "execution_count": 29,
   "id": "1f4aa6a8",
   "metadata": {},
   "outputs": [
    {
     "data": {
      "text/plain": [
       "2"
      ]
     },
     "execution_count": 29,
     "metadata": {},
     "output_type": "execute_result"
    }
   ],
   "source": [
    "\"\"\"\n",
    "Given a string s, find the first non-repeating character in it and return its index. \n",
    "If it does not exist, return -1.\n",
    "Example 1:\n",
    "\n",
    "Input: s = \"leetcode\"\n",
    "Output: 0\n",
    "Example 2:\n",
    "\n",
    "Input: s = \"loveleetcode\"\n",
    "Output: 2\n",
    "Example 3:\n",
    "\n",
    "Input: s = \"aabb\"\n",
    "Output: -1\n",
    "\"\"\"\n",
    "\n",
    "class Solution:\n",
    "    def firstUniqChar(self, s: str) -> int:\n",
    "        hashTable = {} # The dictionary is created\n",
    "        # This dictionary preserves all the occurrences of elements\n",
    "        for i in s:\n",
    "            if i not in hashTable:\n",
    "                hashTable[i] = 1\n",
    "            else:\n",
    "                hashTable[i] += 1\n",
    "        # After that it is possible to iterate over the string input again with 'while loop' and indices\n",
    "        # The first key with the value, equaling to 1, will be returned\n",
    "        j = 0 \n",
    "        while j < len(s):\n",
    "            if hashTable[s[j]] == 1:\n",
    "                return j\n",
    "            j += 1\n",
    "        return -1\n",
    "    \n",
    "a = Solution()\n",
    "a.firstUniqChar(\"loveleetcode\")"
   ]
  }
 ],
 "metadata": {
  "kernelspec": {
   "display_name": "Python 3 (ipykernel)",
   "language": "python",
   "name": "python3"
  },
  "language_info": {
   "codemirror_mode": {
    "name": "ipython",
    "version": 3
   },
   "file_extension": ".py",
   "mimetype": "text/x-python",
   "name": "python",
   "nbconvert_exporter": "python",
   "pygments_lexer": "ipython3",
   "version": "3.9.7"
  }
 },
 "nbformat": 4,
 "nbformat_minor": 5
}
