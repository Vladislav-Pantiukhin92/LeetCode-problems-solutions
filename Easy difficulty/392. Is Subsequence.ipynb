{
 "cells": [
  {
   "cell_type": "markdown",
   "id": "01383ead",
   "metadata": {},
   "source": [
    "### 392. Is Subsequence"
   ]
  },
  {
   "cell_type": "code",
   "execution_count": 97,
   "id": "a2a7e914",
   "metadata": {},
   "outputs": [
    {
     "data": {
      "text/plain": [
       "True"
      ]
     },
     "execution_count": 97,
     "metadata": {},
     "output_type": "execute_result"
    }
   ],
   "source": [
    "\"\"\"\n",
    "Given two strings s and t, return true if s is a subsequence of t, or false otherwise.\n",
    "A subsequence of a string is a new string that is formed from the original string by \n",
    "deleting some (can be none) of the characters without disturbing the relative positions of the \n",
    "remaining characters. (i.e., \"ace\" is a subsequence of \"abcde\" while \"aec\" is not).\n",
    "Example 1:\n",
    "\n",
    "Input: s = \"abc\", t = \"ahbgdc\"\n",
    "Output: true\n",
    "Example 2:\n",
    "\n",
    "Input: s = \"axc\", t = \"ahbgdc\"\n",
    "Output: false\n",
    "\"\"\"\n",
    "import numpy as np # 'numpy' will be used to create the matrix, 2-D array, size of which is 'm x n' ('m' is the \n",
    "# length of the first input string + 1, 'n' is the length of the second input string + 1)\n",
    "\n",
    "class Solution:\n",
    "    def isSubsequence(self, s: str, t: str) -> bool:\n",
    "        matrix = np.zeros((len(s) + 1, len(t) + 1)) # Initially, the matrix will contain only 0s\n",
    "        for i in range(1, len(s) + 1): # The nested loop is launched, each 'for loop' will iterate over its own string input\n",
    "            # If characters of two string inputs are the same, then we increase the relevant matrix cell by 1\n",
    "            for j in range(1, len(t) + 1): \n",
    "                if s[i - 1] == t[j - 1]:\n",
    "                    matrix[i][j] = matrix[i - 1][j - 1] + 1\n",
    "                else: # Otherwise, we insert the minElement from the following dimension:\n",
    "                    matrix[i][j] = max(matrix[i][j - 1], matrix[i - 1][j])\n",
    "        if int(matrix[-1][-1]) == len(s):\n",
    "            return True\n",
    "        return False\n",
    "    \n",
    "a = Solution()\n",
    "a.isSubsequence(\"abc\", \"ahbgdc\")"
   ]
  }
 ],
 "metadata": {
  "kernelspec": {
   "display_name": "Python 3 (ipykernel)",
   "language": "python",
   "name": "python3"
  },
  "language_info": {
   "codemirror_mode": {
    "name": "ipython",
    "version": 3
   },
   "file_extension": ".py",
   "mimetype": "text/x-python",
   "name": "python",
   "nbconvert_exporter": "python",
   "pygments_lexer": "ipython3",
   "version": "3.9.7"
  }
 },
 "nbformat": 4,
 "nbformat_minor": 5
}
