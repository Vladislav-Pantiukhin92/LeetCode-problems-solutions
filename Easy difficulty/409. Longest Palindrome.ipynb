{
 "cells": [
  {
   "cell_type": "markdown",
   "id": "503ca35e",
   "metadata": {},
   "source": [
    "### 409. Longest Palindrome"
   ]
  },
  {
   "cell_type": "code",
   "execution_count": 25,
   "id": "42e993f7",
   "metadata": {},
   "outputs": [
    {
     "data": {
      "text/plain": [
       "7"
      ]
     },
     "execution_count": 25,
     "metadata": {},
     "output_type": "execute_result"
    }
   ],
   "source": [
    "\"\"\"\n",
    "Given a string s which consists of lowercase or uppercase letters, return the length \n",
    "of the longest palindrome that can be built with those letters.\n",
    "Letters are case sensitive, for example, \"Aa\" is not considered a palindrome here.\n",
    "\n",
    "Example 1:\n",
    "Input: s = \"abccccdd\"\n",
    "Output: 7\n",
    "Explanation:\n",
    "One longest palindrome that can be built is \"dccaccd\", whose length is 7.\n",
    "Example 2:\n",
    "\n",
    "Input: s = \"a\"\n",
    "Output: 1\n",
    "Example 3:\n",
    "\n",
    "Input: s = \"bb\"\n",
    "Output: 2\n",
    "\"\"\"\n",
    "\n",
    "class Solution:\n",
    "    def longestPalindrome(self, s: str) -> int:\n",
    "        maxLength = 0\n",
    "        uniqueValues = list(set(s)) # All duplicates are removed and only unique values remain\n",
    "        # If the number of occurrences of the value is even we add all these occurrences to maxLength\n",
    "        for i in uniqueValues:\n",
    "            amount = s.count(i)\n",
    "            if amount % 2 == 0:\n",
    "                maxLength += amount\n",
    "            else:\n",
    "                maxLength += (amount - 1) # If the number of occurrences is odd, to avoid imbalance we add all occurrences - 1\n",
    "        if maxLength < len(s):\n",
    "            # In view of the fact that palindromes can be both even-numbered and odd-numbered, the longest palindrome is\n",
    "            # an odd-numbered palindrome, so we have to increase maxLength by 1\n",
    "            return maxLength + 1\n",
    "        return maxLength\n",
    "    \n",
    "a = Solution()\n",
    "a.longestPalindrome(\"abccccdd\")"
   ]
  }
 ],
 "metadata": {
  "kernelspec": {
   "display_name": "Python 3 (ipykernel)",
   "language": "python",
   "name": "python3"
  },
  "language_info": {
   "codemirror_mode": {
    "name": "ipython",
    "version": 3
   },
   "file_extension": ".py",
   "mimetype": "text/x-python",
   "name": "python",
   "nbconvert_exporter": "python",
   "pygments_lexer": "ipython3",
   "version": "3.9.7"
  }
 },
 "nbformat": 4,
 "nbformat_minor": 5
}
