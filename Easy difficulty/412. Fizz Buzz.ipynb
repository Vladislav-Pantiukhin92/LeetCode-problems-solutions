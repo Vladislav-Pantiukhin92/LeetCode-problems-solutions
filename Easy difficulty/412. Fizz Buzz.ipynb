{
 "cells": [
  {
   "cell_type": "markdown",
   "id": "58f6e1c2",
   "metadata": {},
   "source": [
    "### 412. Fizz Buzz"
   ]
  },
  {
   "cell_type": "code",
   "execution_count": 32,
   "id": "a3e6e2ca",
   "metadata": {},
   "outputs": [
    {
     "data": {
      "text/plain": [
       "['1',\n",
       " '2',\n",
       " 'Fizz',\n",
       " '4',\n",
       " 'Buzz',\n",
       " 'Fizz',\n",
       " '7',\n",
       " '8',\n",
       " 'Fizz',\n",
       " 'Buzz',\n",
       " '11',\n",
       " 'Fizz',\n",
       " '13',\n",
       " '14',\n",
       " 'FizzBuzz']"
      ]
     },
     "execution_count": 32,
     "metadata": {},
     "output_type": "execute_result"
    }
   ],
   "source": [
    "\"\"\"\n",
    "Given an integer n, return a string array answer (1-indexed) where:\n",
    "answer[i] == \"FizzBuzz\" if i is divisible by 3 and 5.\n",
    "answer[i] == \"Fizz\" if i is divisible by 3.\n",
    "answer[i] == \"Buzz\" if i is divisible by 5.\n",
    "answer[i] == i (as a string) if none of the above conditions are true.\n",
    "Example 1:\n",
    "\n",
    "Input: n = 3\n",
    "Output: [\"1\",\"2\",\"Fizz\"]\n",
    "Example 2:\n",
    "\n",
    "Input: n = 5\n",
    "Output: [\"1\",\"2\",\"Fizz\",\"4\",\"Buzz\"]\n",
    "Example 3:\n",
    "\n",
    "Input: n = 15\n",
    "Output: [\"1\",\"2\",\"Fizz\",\"4\",\"Buzz\",\"Fizz\",\"7\",\"8\",\"Fizz\",\"Buzz\",\"11\",\"Fizz\",\"13\",\"14\",\"FizzBuzz\"]\n",
    "\"\"\"\n",
    "\n",
    "class Solution:\n",
    "    def fizzBuzz(self, n: int) -> List[str]:\n",
    "        myArray = list(range(1, n + 1)) # We are creating the numeric array from 1 to n inclusively\n",
    "        myArray = list(map(str, myArray)) # Elements of the array are transformed into integers\n",
    "        # The next step is the major verification\n",
    "        for i in range(len(myArray)):\n",
    "            if (int(myArray[i]) / 15).is_integer():\n",
    "                myArray[i] = \"FizzBuzz\"\n",
    "            else:\n",
    "                if (int(myArray[i]) / 3).is_integer():\n",
    "                    myArray[i] = \"Fizz\"\n",
    "                elif (int(myArray[i]) / 5).is_integer():\n",
    "                    myArray[i] = \"Buzz\"\n",
    "        return myArray\n",
    "    \n",
    "    \n",
    "a = Solution()\n",
    "a.fizzBuzz(15)"
   ]
  }
 ],
 "metadata": {
  "kernelspec": {
   "display_name": "Python 3 (ipykernel)",
   "language": "python",
   "name": "python3"
  },
  "language_info": {
   "codemirror_mode": {
    "name": "ipython",
    "version": 3
   },
   "file_extension": ".py",
   "mimetype": "text/x-python",
   "name": "python",
   "nbconvert_exporter": "python",
   "pygments_lexer": "ipython3",
   "version": "3.9.7"
  }
 },
 "nbformat": 4,
 "nbformat_minor": 5
}
