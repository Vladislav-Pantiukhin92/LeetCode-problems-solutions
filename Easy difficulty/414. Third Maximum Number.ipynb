{
 "cells": [
  {
   "cell_type": "markdown",
   "id": "83aef1a3",
   "metadata": {},
   "source": [
    "### 414. Third Maximum Number"
   ]
  },
  {
   "cell_type": "code",
   "execution_count": 1,
   "id": "c14e2d75",
   "metadata": {},
   "outputs": [
    {
     "data": {
      "text/plain": [
       "1"
      ]
     },
     "execution_count": 1,
     "metadata": {},
     "output_type": "execute_result"
    }
   ],
   "source": [
    "\"\"\"\n",
    "Given an integer array nums, return the third distinct maximum number in this array. \n",
    "If the third maximum does not exist, return the maximum number.\n",
    "\n",
    "Example 1:\n",
    "Input: nums = [3,2,1]\n",
    "Output: 1\n",
    "Explanation:\n",
    "The first distinct maximum is 3.\n",
    "The second distinct maximum is 2.\n",
    "The third distinct maximum is 1.\n",
    "Example 2:\n",
    "\n",
    "Input: nums = [1,2]\n",
    "Output: 2\n",
    "Explanation:\n",
    "The first distinct maximum is 2.\n",
    "The second distinct maximum is 1.\n",
    "The third distinct maximum does not exist, so the maximum (2) is returned instead.\n",
    "Example 3:\n",
    "\n",
    "Input: nums = [2,2,3,1]\n",
    "Output: 1\n",
    "Explanation:\n",
    "The first distinct maximum is 3.\n",
    "The second distinct maximum is 2 (both 2's are counted together since they have the same value).\n",
    "The third distinct maximum is 1.\n",
    "\"\"\"\n",
    "\n",
    "class Solution:\n",
    "    def thirdMax(self, nums: List[int]) -> int:\n",
    "# If the input list will be sorted as well as will contain only unique elements (it is achieved through set structure)\n",
    "# the return result should be the third element from the end\n",
    "        sortedArray = sorted(list(set(nums))) \n",
    "        if len(sortedArray) < 3: # If the input list contains less than 3 elements - we return just the maxElement\n",
    "            return max(sortedArray)\n",
    "        return sortedArray[-3]\n",
    "    \n",
    "a = Solution()\n",
    "a.thirdMax([2,2,3,1])"
   ]
  }
 ],
 "metadata": {
  "kernelspec": {
   "display_name": "Python 3 (ipykernel)",
   "language": "python",
   "name": "python3"
  },
  "language_info": {
   "codemirror_mode": {
    "name": "ipython",
    "version": 3
   },
   "file_extension": ".py",
   "mimetype": "text/x-python",
   "name": "python",
   "nbconvert_exporter": "python",
   "pygments_lexer": "ipython3",
   "version": "3.9.7"
  }
 },
 "nbformat": 4,
 "nbformat_minor": 5
}
