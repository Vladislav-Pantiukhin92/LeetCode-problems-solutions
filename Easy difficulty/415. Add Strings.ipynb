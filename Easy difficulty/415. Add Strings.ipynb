{
 "cells": [
  {
   "cell_type": "markdown",
   "id": "fa1e975e",
   "metadata": {},
   "source": [
    "### 415. Add Strings"
   ]
  },
  {
   "cell_type": "code",
   "execution_count": 3,
   "id": "ba82e974",
   "metadata": {},
   "outputs": [
    {
     "name": "stdout",
     "output_type": "stream",
     "text": [
      "134\n"
     ]
    }
   ],
   "source": [
    "\"\"\"\n",
    "Given two non-negative integers, num1 and num2 represented as string, return the sum of num1 and num2 as a string.\n",
    "You must solve the problem without using any built-in library for handling large integers \n",
    "(such as BigInteger). You must also not convert the inputs to integers directly.\n",
    "\n",
    "Example 1:\n",
    "Input: num1 = \"11\", num2 = \"123\"\n",
    "Output: \"134\"\n",
    "Example 2:\n",
    "\n",
    "Input: num1 = \"456\", num2 = \"77\"\n",
    "Output: \"533\"\n",
    "Example 3:\n",
    "\n",
    "Input: num1 = \"0\", num2 = \"0\"\n",
    "Output: \"0\"\n",
    "\"\"\"\n",
    "\n",
    "class Solution:\n",
    "    def addStrings(self, num1: str, num2: str) -> str:\n",
    "        length1 = len(num1)\n",
    "        length2 = len(num2)\n",
    "        string1 = \"\"\n",
    "        string2 = \"\"\n",
    "        i = 0\n",
    "        j = 0\n",
    "        # We are going to iterate over each digit of two input numbers \n",
    "        while i < length1:\n",
    "            count = 0 # While count != each digit of two numbers, the count will be increased by 1 (from 1 - 9)\n",
    "            # when the digit is attained, the count in the string type is added to the variable (string1 or string2)\n",
    "            while str(count) != num1[i]:\n",
    "                count += 1\n",
    "            string1 += str(count)\n",
    "            i += 1\n",
    "            \n",
    "        while j < length2:\n",
    "            count = 0 \n",
    "            while str(count) != num2[j]:\n",
    "                count += 1\n",
    "            string2 += str(count)\n",
    "            j += 1\n",
    "            \n",
    "        return str(int(string1) + int(string2)) # Finally, the strings in the integer form are added together\n",
    "    # and the string output is returned\n",
    "    \n",
    "a = Solution()\n",
    "print(a.addStrings(\"11\", \"123\"))"
   ]
  }
 ],
 "metadata": {
  "kernelspec": {
   "display_name": "Python 3 (ipykernel)",
   "language": "python",
   "name": "python3"
  },
  "language_info": {
   "codemirror_mode": {
    "name": "ipython",
    "version": 3
   },
   "file_extension": ".py",
   "mimetype": "text/x-python",
   "name": "python",
   "nbconvert_exporter": "python",
   "pygments_lexer": "ipython3",
   "version": "3.9.7"
  }
 },
 "nbformat": 4,
 "nbformat_minor": 5
}
