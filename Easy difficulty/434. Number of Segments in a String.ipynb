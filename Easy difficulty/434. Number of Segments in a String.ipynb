{
 "cells": [
  {
   "cell_type": "markdown",
   "id": "deacb8b2",
   "metadata": {},
   "source": [
    "### 434. Number of Segments in a String"
   ]
  },
  {
   "cell_type": "code",
   "execution_count": 88,
   "id": "91eef345",
   "metadata": {},
   "outputs": [
    {
     "data": {
      "text/plain": [
       "5"
      ]
     },
     "execution_count": 88,
     "metadata": {},
     "output_type": "execute_result"
    }
   ],
   "source": [
    "\"\"\"\n",
    "Given a string s, return the number of segments in the string.\n",
    "A segment is defined to be a contiguous sequence of non-space characters.\n",
    "Example 1:\n",
    "\n",
    "Input: s = \"Hello, my name is John\"\n",
    "Output: 5\n",
    "Explanation: The five segments are [\"Hello,\", \"my\", \"name\", \"is\", \"John\"]\n",
    "Example 2:\n",
    "\n",
    "Input: s = \"Hello\"\n",
    "Output: 1\n",
    "\"\"\"\n",
    "\n",
    "import re\n",
    "\n",
    "class Solution:\n",
    "    def countSegments(self, s: str) -> int:\n",
    "        # Regular expression, which means that all values, except spaces, will be extracted\n",
    "        result = re.findall(r\"\\S+\", s) \n",
    "        return len(result)\n",
    "    \n",
    "a = Solution()\n",
    "a.countSegments(\"Hello, my name is John\")"
   ]
  }
 ],
 "metadata": {
  "kernelspec": {
   "display_name": "Python 3 (ipykernel)",
   "language": "python",
   "name": "python3"
  },
  "language_info": {
   "codemirror_mode": {
    "name": "ipython",
    "version": 3
   },
   "file_extension": ".py",
   "mimetype": "text/x-python",
   "name": "python",
   "nbconvert_exporter": "python",
   "pygments_lexer": "ipython3",
   "version": "3.9.7"
  }
 },
 "nbformat": 4,
 "nbformat_minor": 5
}
