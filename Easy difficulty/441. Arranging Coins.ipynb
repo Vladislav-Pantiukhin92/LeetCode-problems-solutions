{
 "cells": [
  {
   "cell_type": "markdown",
   "id": "ccad8471",
   "metadata": {},
   "source": [
    "### 441. Arranging Coins"
   ]
  },
  {
   "cell_type": "code",
   "execution_count": 10,
   "id": "fb7c7b3a",
   "metadata": {},
   "outputs": [
    {
     "data": {
      "text/plain": [
       "3"
      ]
     },
     "execution_count": 10,
     "metadata": {},
     "output_type": "execute_result"
    }
   ],
   "source": [
    "\"\"\"\n",
    "You have n coins and you want to build a staircase with these coins. The staircase consists of k rows \n",
    "where the ith row has exactly i coins. The last row of the staircase may be incomplete.\n",
    "Given the integer n, return the number of complete rows of the staircase you will build.\n",
    "\n",
    "Example 1:\n",
    "\n",
    "Input: n = 5\n",
    "Output: 2\n",
    "Explanation: Because the 3rd row is incomplete, we return 2.\n",
    "\n",
    "Example 2:\n",
    "\n",
    "Input: n = 8\n",
    "Output: 3\n",
    "Explanation: Because the 4th row is incomplete, we return 3.\n",
    "\"\"\"\n",
    "\n",
    "class Solution:\n",
    "    def arrangeCoins(self, n: int) -> int:\n",
    "        if n < 1: # If the given input integer is 0, the number of rows is 0 respectively\n",
    "            return 0\n",
    "        rows = 1 # The initial number of valid rows is 1\n",
    "        while n - rows >= 0: # While the subtraction result >= 0, it is possible to complete the specific row\n",
    "            n -= rows\n",
    "            rows += 1\n",
    "        return rows - 1 # The final return result is the number of rows - 1\n",
    "    \n",
    "a = Solution()\n",
    "a.arrangeCoins(8)"
   ]
  }
 ],
 "metadata": {
  "kernelspec": {
   "display_name": "Python 3 (ipykernel)",
   "language": "python",
   "name": "python3"
  },
  "language_info": {
   "codemirror_mode": {
    "name": "ipython",
    "version": 3
   },
   "file_extension": ".py",
   "mimetype": "text/x-python",
   "name": "python",
   "nbconvert_exporter": "python",
   "pygments_lexer": "ipython3",
   "version": "3.9.7"
  }
 },
 "nbformat": 4,
 "nbformat_minor": 5
}
