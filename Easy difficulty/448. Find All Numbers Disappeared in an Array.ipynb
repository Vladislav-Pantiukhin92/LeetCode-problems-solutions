{
 "cells": [
  {
   "cell_type": "markdown",
   "id": "31c4b71f",
   "metadata": {},
   "source": [
    "### 448. Find All Numbers Disappeared in an Array"
   ]
  },
  {
   "cell_type": "code",
   "execution_count": 5,
   "id": "1d036281",
   "metadata": {},
   "outputs": [
    {
     "data": {
      "text/plain": [
       "[5, 6]"
      ]
     },
     "execution_count": 5,
     "metadata": {},
     "output_type": "execute_result"
    }
   ],
   "source": [
    "\"\"\"\n",
    "Given an array nums of n integers where nums[i] is in the range [1, n], \n",
    "return an array of all the integers in the range [1, n] that do not appear in nums.\n",
    "Example 1:\n",
    "\n",
    "Input: nums = [4,3,2,7,8,2,3,1]\n",
    "Output: [5,6]\n",
    "Example 2:\n",
    "\n",
    "Input: nums = [1,1]\n",
    "Output: [2]\n",
    "\"\"\"\n",
    "\n",
    "class Solution:\n",
    "    def findDisappearedNumbers(self, nums: List[int]) -> List[int]:\n",
    "        length = len(nums)\n",
    "        newArray = list(range(1, length + 1)) # Let's initialize the 'ideal' array, the full sequence \n",
    "        # After that, we will use the set method - set1.difference(set2), meaning that only elements,\n",
    "        # which exist exclusively within the 'ideal' array, will remain\n",
    "        return list(set(newArray).difference(set(nums)))\n",
    "    \n",
    "a = Solution()\n",
    "a.findDisappearedNumbers([4,3,2,7,8,2,3,1])"
   ]
  }
 ],
 "metadata": {
  "kernelspec": {
   "display_name": "Python 3 (ipykernel)",
   "language": "python",
   "name": "python3"
  },
  "language_info": {
   "codemirror_mode": {
    "name": "ipython",
    "version": 3
   },
   "file_extension": ".py",
   "mimetype": "text/x-python",
   "name": "python",
   "nbconvert_exporter": "python",
   "pygments_lexer": "ipython3",
   "version": "3.9.7"
  }
 },
 "nbformat": 4,
 "nbformat_minor": 5
}
