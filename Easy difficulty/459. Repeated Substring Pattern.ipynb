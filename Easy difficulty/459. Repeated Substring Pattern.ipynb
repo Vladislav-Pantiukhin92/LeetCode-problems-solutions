{
 "cells": [
  {
   "cell_type": "markdown",
   "id": "36678464",
   "metadata": {},
   "source": [
    "### 459. Repeated Substring Pattern"
   ]
  },
  {
   "cell_type": "code",
   "execution_count": 98,
   "id": "6eb43c53",
   "metadata": {},
   "outputs": [
    {
     "data": {
      "text/plain": [
       "True"
      ]
     },
     "execution_count": 98,
     "metadata": {},
     "output_type": "execute_result"
    }
   ],
   "source": [
    "\"\"\"\n",
    "Given a string s, check if it can be constructed by taking a substring of it and appending \n",
    "multiple copies of the substring together.\n",
    "Example 1:\n",
    "\n",
    "Input: s = \"abab\"\n",
    "Output: true\n",
    "Explanation: It is the substring \"ab\" twice.\n",
    "Example 2:\n",
    "\n",
    "Input: s = \"aba\"\n",
    "Output: false\n",
    "Example 3:\n",
    "\n",
    "Input: s = \"abcabcabcabc\"\n",
    "Output: true\n",
    "Explanation: It is the substring \"abc\" four times or the substring \"abcabc\" twice.\n",
    "\"\"\"\n",
    "\n",
    "class Solution:\n",
    "    def repeatedSubstringPattern(self, s: str) -> bool:\n",
    "        # The major principle of the problem's solution is that while moving forward (from left to right)\n",
    "        # we check the compatibility of each substring (while moving forward the length of the substring increases)\n",
    "        # by multiplying it by the number, which is obtained through the division: length of 's / high index\n",
    "        \n",
    "        low = 0\n",
    "        high = 1\n",
    "        length = len(s)\n",
    "        # It is not necessary to iterate till the end of the string 's' - just 50% of the string length is enough\n",
    "        while high < length // 2 + 1:\n",
    "            len_pattern = len(s) / high\n",
    "            if len_pattern.is_integer():\n",
    "                if s[low:high] * int(len_pattern) == s:\n",
    "                    return True\n",
    "            high += 1\n",
    "        return False\n",
    "    \n",
    "a = Solution()\n",
    "a.repeatedSubstringPattern(\"abcabcabcabc\")"
   ]
  }
 ],
 "metadata": {
  "kernelspec": {
   "display_name": "Python 3 (ipykernel)",
   "language": "python",
   "name": "python3"
  },
  "language_info": {
   "codemirror_mode": {
    "name": "ipython",
    "version": 3
   },
   "file_extension": ".py",
   "mimetype": "text/x-python",
   "name": "python",
   "nbconvert_exporter": "python",
   "pygments_lexer": "ipython3",
   "version": "3.9.7"
  }
 },
 "nbformat": 4,
 "nbformat_minor": 5
}
