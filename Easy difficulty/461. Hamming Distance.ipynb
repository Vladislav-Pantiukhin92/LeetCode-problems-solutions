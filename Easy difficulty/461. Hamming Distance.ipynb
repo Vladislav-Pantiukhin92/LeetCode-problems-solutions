{
 "cells": [
  {
   "cell_type": "markdown",
   "id": "0f2e0756",
   "metadata": {},
   "source": [
    "### 461. Hamming Distance"
   ]
  },
  {
   "cell_type": "code",
   "execution_count": 6,
   "id": "87d063a9",
   "metadata": {},
   "outputs": [
    {
     "data": {
      "text/plain": [
       "1"
      ]
     },
     "execution_count": 6,
     "metadata": {},
     "output_type": "execute_result"
    }
   ],
   "source": [
    "\"\"\"\n",
    "The Hamming distance between two integers is the number of positions at which the corresponding bits are different.\n",
    "Given two integers x and y, return the Hamming distance between them.\n",
    "Example 1:\n",
    "\n",
    "Input: x = 1, y = 4\n",
    "Output: 2\n",
    "Explanation:\n",
    "1   (0 0 0 1)\n",
    "4   (0 1 0 0)\n",
    "       ↑   ↑\n",
    "The above arrows point to positions where the corresponding bits are different.\n",
    "Example 2:\n",
    "\n",
    "Input: x = 3, y = 1\n",
    "Output: 1\n",
    "\"\"\"\n",
    "\n",
    "class Solution:\n",
    "    def hammingDistance(self, x: int, y: int) -> int:\n",
    "        # First of all, let's create the function, which will return the total hamming distance between two strings\n",
    "        def hamming_distance(string1, string2):\n",
    "            # The hamming distance can be calculated exclusively between strings of equal length\n",
    "            i = 0 \n",
    "            j = 0\n",
    "            dist = 0\n",
    "            while i < len(string1):\n",
    "                if string1[i] != string2[j]:\n",
    "                    dist += 1 # The hamming distance will be increased by 1 every time when there is a disparity between \n",
    "                    # parallel values of two strings\n",
    "                i += 1\n",
    "                j += 1\n",
    "            return dist\n",
    "        # The second step is to calculate the binary representation of two integers\n",
    "        binary_x = bin(x).lstrip(\"0b\")\n",
    "        binary_y = bin(y).lstrip(\"0b\")\n",
    "        # In view of the fact that binary representation of two integers can be of different length,\n",
    "        # it is necessary to add some zeros at the beginning of the smaller binary representation\n",
    "        if len(binary_x) > len(binary_y):\n",
    "            binary_y = binary_y.zfill(len(binary_y) + (len(binary_x) - len(binary_y)))\n",
    "        else:\n",
    "            binary_x = binary_x.zfill(len(binary_x) + (len(binary_y) - len(binary_x)))\n",
    "        # Finally, two equal binary arguments are passed on to the function, which returns the target result\n",
    "        result = hamming_distance(binary_x, binary_y) \n",
    "        return result\n",
    "    \n",
    "a = Solution()\n",
    "a.hammingDistance(3, 1)"
   ]
  }
 ],
 "metadata": {
  "kernelspec": {
   "display_name": "Python 3 (ipykernel)",
   "language": "python",
   "name": "python3"
  },
  "language_info": {
   "codemirror_mode": {
    "name": "ipython",
    "version": 3
   },
   "file_extension": ".py",
   "mimetype": "text/x-python",
   "name": "python",
   "nbconvert_exporter": "python",
   "pygments_lexer": "ipython3",
   "version": "3.9.7"
  }
 },
 "nbformat": 4,
 "nbformat_minor": 5
}
