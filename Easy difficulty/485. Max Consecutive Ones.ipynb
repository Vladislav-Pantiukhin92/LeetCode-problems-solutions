{
 "cells": [
  {
   "cell_type": "markdown",
   "id": "2ac51afe",
   "metadata": {},
   "source": [
    "### 485. Max Consecutive Ones"
   ]
  },
  {
   "cell_type": "code",
   "execution_count": 39,
   "id": "4da35df1",
   "metadata": {},
   "outputs": [
    {
     "data": {
      "text/plain": [
       "2"
      ]
     },
     "execution_count": 39,
     "metadata": {},
     "output_type": "execute_result"
    }
   ],
   "source": [
    "\"\"\"\n",
    "Given a binary array nums, return the maximum number of consecutive 1's in the array.\n",
    "Example 1:\n",
    "\n",
    "Input: nums = [1,1,0,1,1,1]\n",
    "Output: 3\n",
    "Explanation: The first two digits or the last three digits are consecutive 1s. \n",
    "The maximum number of consecutive 1s is 3.\n",
    "Example 2:\n",
    "\n",
    "Input: nums = [1,0,1,1,0,1]\n",
    "Output: 2\n",
    "\"\"\"\n",
    "\n",
    "import re # Regular expressions will be used for extracting 1s from the numeric string\n",
    "from functools import reduce # 'functools.reduce' will be used for transforming the list of numbers\n",
    "# into the string (it is achieved through the addition lambda function, applied to the string numeric elements)\n",
    "\n",
    "\n",
    "class Solution:\n",
    "    def findMaxConsecutiveOnes(self, nums: List[int]) -> int:\n",
    "        myString = reduce(lambda x, y: x + y, list(map(str, nums)))\n",
    "        result = sorted(re.findall(r\"[1]+\", myString), key=len) # Regular expressions extract chunks of 1s, \n",
    "        # so it is relevant to return the biggest/longest of them (the sort through 'key=len' can be utilized),\n",
    "        if not result: # If the input list contained only 0s, we return 0\n",
    "            return 0\n",
    "        return len(result[-1]) # As a result of all sorting procedures, the longest element is the last element,\n",
    "    # so we return its length\n",
    "    \n",
    "a = Solution()\n",
    "a.findMaxConsecutiveOnes([1,0,1,1,0,1])"
   ]
  }
 ],
 "metadata": {
  "kernelspec": {
   "display_name": "Python 3 (ipykernel)",
   "language": "python",
   "name": "python3"
  },
  "language_info": {
   "codemirror_mode": {
    "name": "ipython",
    "version": 3
   },
   "file_extension": ".py",
   "mimetype": "text/x-python",
   "name": "python",
   "nbconvert_exporter": "python",
   "pygments_lexer": "ipython3",
   "version": "3.9.7"
  }
 },
 "nbformat": 4,
 "nbformat_minor": 5
}
