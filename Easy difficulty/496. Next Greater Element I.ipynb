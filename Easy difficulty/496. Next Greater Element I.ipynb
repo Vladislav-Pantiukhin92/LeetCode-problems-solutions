{
 "cells": [
  {
   "cell_type": "markdown",
   "id": "cafd8ac6",
   "metadata": {},
   "source": [
    "### 496. Next Greater Element I"
   ]
  },
  {
   "cell_type": "code",
   "execution_count": 13,
   "id": "92fb5aeb",
   "metadata": {},
   "outputs": [
    {
     "data": {
      "text/plain": [
       "[3, -1]"
      ]
     },
     "execution_count": 13,
     "metadata": {},
     "output_type": "execute_result"
    }
   ],
   "source": [
    "\"\"\"\n",
    "The next greater element of some element x in an array is the first greater element that is to the right \n",
    "of x in the same array.\n",
    "You are given two distinct 0-indexed integer arrays nums1 and nums2, where nums1 is a subset of nums2.\n",
    "For each 0 <= i < nums1.length, find the index j such that nums1[i] == nums2[j] and determine the next \n",
    "greater element of nums2[j] in nums2. If there is no next greater element, then the answer for this query is -1.\n",
    "Return an array ans of length nums1.length such that ans[i] is the next greater element as described above.\n",
    "\n",
    "Example 1:\n",
    "Input: nums1 = [4,1,2], nums2 = [1,3,4,2]\n",
    "Output: [-1,3,-1]\n",
    "Explanation: The next greater element for each value of nums1 is as follows:\n",
    "- 4 is underlined in nums2 = [1,3,4,2]. There is no next greater element, so the answer is -1.\n",
    "- 1 is underlined in nums2 = [1,3,4,2]. The next greater element is 3.\n",
    "- 2 is underlined in nums2 = [1,3,4,2]. There is no next greater element, so the answer is -1.\n",
    "\n",
    "Example 2:\n",
    "Input: nums1 = [2,4], nums2 = [1,2,3,4]\n",
    "Output: [3,-1]\n",
    "Explanation: The next greater element for each value of nums1 is as follows:\n",
    "- 2 is underlined in nums2 = [1,2,3,4]. The next greater element is 3.\n",
    "- 4 is underlined in nums2 = [1,2,3,4]. There is no next greater element, so the answer is -1.\n",
    "\"\"\"\n",
    "\n",
    "class Solution:\n",
    "    def nextGreaterElement(self, nums1: List[int], nums2: List[int]) -> List[int]:\n",
    "        final = [] # The list container, which will store greater elements (or -1, if the next greater element\n",
    "        # doesn't exist at all)\n",
    "        for i in nums1:\n",
    "            j = nums2.index(i) # This way, the required index is found, as regards the second given input list\n",
    "            j += 1\n",
    "            greater = False\n",
    "            while j < len(nums2):\n",
    "                if nums2[j] > i:\n",
    "                    final.append(nums2[j])\n",
    "                    greater = True\n",
    "                    break # If the next greater element is found, the 'while loop' is broken, and we go to the \n",
    "                    # next iteration of the 'for loop', if necessary\n",
    "                j += 1\n",
    "            if not greater: # -1, if the required element doesn't exist\n",
    "                final.append(-1)\n",
    "        return final # The list with the next greater elements is finally returned\n",
    "    \n",
    "a = Solution()\n",
    "a.nextGreaterElement([2,4], [1,2,3,4])"
   ]
  }
 ],
 "metadata": {
  "kernelspec": {
   "display_name": "Python 3 (ipykernel)",
   "language": "python",
   "name": "python3"
  },
  "language_info": {
   "codemirror_mode": {
    "name": "ipython",
    "version": 3
   },
   "file_extension": ".py",
   "mimetype": "text/x-python",
   "name": "python",
   "nbconvert_exporter": "python",
   "pygments_lexer": "ipython3",
   "version": "3.9.7"
  }
 },
 "nbformat": 4,
 "nbformat_minor": 5
}
