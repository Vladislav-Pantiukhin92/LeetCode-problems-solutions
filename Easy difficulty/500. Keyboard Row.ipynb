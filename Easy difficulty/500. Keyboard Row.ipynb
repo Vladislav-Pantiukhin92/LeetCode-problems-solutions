{
 "cells": [
  {
   "cell_type": "markdown",
   "id": "d7d25598",
   "metadata": {},
   "source": [
    "### 500. Keyboard Row"
   ]
  },
  {
   "cell_type": "code",
   "execution_count": 95,
   "id": "daf939ea",
   "metadata": {},
   "outputs": [
    {
     "data": {
      "text/plain": [
       "['Alaska', 'Dad']"
      ]
     },
     "execution_count": 95,
     "metadata": {},
     "output_type": "execute_result"
    }
   ],
   "source": [
    "\"\"\"\n",
    "Given an array of strings words, return the words that can be typed using letters \n",
    "of the alphabet on only one row of American keyboard like the image below.\n",
    "In the American keyboard:\n",
    "\n",
    "the first row consists of the characters \"qwertyuiop\",\n",
    "the second row consists of the characters \"asdfghjkl\", and\n",
    "the third row consists of the characters \"zxcvbnm\".\n",
    "Example 1:\n",
    "\n",
    "Input: words = [\"Hello\",\"Alaska\",\"Dad\",\"Peace\"]\n",
    "Output: [\"Alaska\",\"Dad\"]\n",
    "Example 2:\n",
    "\n",
    "Input: words = [\"omk\"]\n",
    "Output: []\n",
    "Example 3:\n",
    "\n",
    "Input: words = [\"adsdf\",\"sfd\"]\n",
    "Output: [\"adsdf\",\"sfd\"]\n",
    "\"\"\"\n",
    "\n",
    "class Solution:\n",
    "    def findWords(self, words: List[str]) -> List[str]:\n",
    "        final = [] # The list will store all pertinent words\n",
    "        lowercase_ = list(map(lambda x: x.casefold(), words)) # Let's make all words lowercase for better convenience\n",
    "        # The major principle of the solution is that, taking letters of each keyboard row, we try to erase as many characters\n",
    "        # as possible\n",
    "        # If all characters of a word were replaced with whitespaces - this word will be added to the final list\n",
    "        # We are going to use letters of each keyboard row for that:\n",
    "        first_row = list(map(lambda x: x.translate(str.maketrans(\"qwertyuiop\", \"          \")), lowercase_))\n",
    "        for i, j in enumerate(first_row):\n",
    "            if j.isspace():\n",
    "                final.append(words[i])\n",
    "        second_row = list(map(lambda x: x.translate(str.maketrans(\"asdfghjkl\", \"         \")), lowercase_))\n",
    "        for i, j in enumerate(second_row):\n",
    "            if j.isspace():\n",
    "                final.append(words[i])\n",
    "        third_row = list(map(lambda x: x.translate(str.maketrans(\"zxcvbnm\", \"       \")), lowercase_))\n",
    "        for i, j in enumerate(third_row):\n",
    "            if j.isspace():\n",
    "                final.append(words[i])\n",
    "        return final\n",
    "    \n",
    "a = Solution()\n",
    "a.findWords([\"Hello\",\"Alaska\",\"Dad\",\"Peace\"])"
   ]
  }
 ],
 "metadata": {
  "kernelspec": {
   "display_name": "Python 3 (ipykernel)",
   "language": "python",
   "name": "python3"
  },
  "language_info": {
   "codemirror_mode": {
    "name": "ipython",
    "version": 3
   },
   "file_extension": ".py",
   "mimetype": "text/x-python",
   "name": "python",
   "nbconvert_exporter": "python",
   "pygments_lexer": "ipython3",
   "version": "3.9.7"
  }
 },
 "nbformat": 4,
 "nbformat_minor": 5
}
