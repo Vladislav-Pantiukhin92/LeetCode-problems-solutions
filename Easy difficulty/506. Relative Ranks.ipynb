{
 "cells": [
  {
   "cell_type": "markdown",
   "id": "dc11ebe3",
   "metadata": {},
   "source": [
    "### 506. Relative Ranks"
   ]
  },
  {
   "cell_type": "code",
   "execution_count": 87,
   "id": "ccc08ee0",
   "metadata": {},
   "outputs": [
    {
     "data": {
      "text/plain": [
       "['Gold Medal', '5', 'Bronze Medal', 'Silver Medal', '4']"
      ]
     },
     "execution_count": 87,
     "metadata": {},
     "output_type": "execute_result"
    }
   ],
   "source": [
    "\"\"\"\n",
    "You are given an integer array score of size n, where score[i] is the score of the ith athlete \n",
    "in a competition. All the scores are guaranteed to be unique.\n",
    "The athletes are placed based on their scores, where the 1st place athlete has \n",
    "the highest score, the 2nd place athlete has the 2nd highest score, and so on. \n",
    "The placement of each athlete determines their rank:\n",
    "\n",
    "The 1st place athlete's rank is \"Gold Medal\".\n",
    "The 2nd place athlete's rank is \"Silver Medal\".\n",
    "The 3rd place athlete's rank is \"Bronze Medal\".\n",
    "For the 4th place to the nth place athlete, their rank is their placement number (i.e., the xth place athlete's rank is \"x\").\n",
    "Return an array answer of size n where answer[i] is the rank of the ith athlete.\n",
    "Example 1:\n",
    "\n",
    "Input: score = [5,4,3,2,1]\n",
    "Output: [\"Gold Medal\",\"Silver Medal\",\"Bronze Medal\",\"4\",\"5\"]\n",
    "Explanation: The placements are [1st, 2nd, 3rd, 4th, 5th].\n",
    "Example 2:\n",
    "\n",
    "Input: score = [10,3,8,9,4]\n",
    "Output: [\"Gold Medal\",\"5\",\"Bronze Medal\",\"Silver Medal\",\"4\"]\n",
    "Explanation: The placements are [1st, 5th, 3rd, 2nd, 4th].\n",
    "\"\"\"\n",
    "\n",
    "class Solution:\n",
    "    def findRelativeRanks(self, score: List[int]) -> List[str]:\n",
    "        # The strategy is to sort the array (replica of the original list), which will be used as a stack\n",
    "        # Each time the maxValue will be the first element for extraction (taking into account the fact that \n",
    "        # the array is sorted in ascending order)\n",
    "        curList = (list(map(str, score)))\n",
    "        extraction_list = score.copy()\n",
    "        extraction_list = sorted(extraction_list)\n",
    "        count = 1 # Simultaneously each time we will increase the count variable by 1. The count variable will show\n",
    "        # the position of the element\n",
    "        while extraction_list:\n",
    "            maxValue = extraction_list.pop()\n",
    "            curIndex = score.index(maxValue)\n",
    "            if count == 1:\n",
    "                curList[curIndex] = \"Gold Medal\"\n",
    "            elif count == 2:\n",
    "                curList[curIndex] = \"Silver Medal\"\n",
    "            elif count == 3:\n",
    "                curList[curIndex] = \"Bronze Medal\"\n",
    "            else:\n",
    "                curList[curIndex] = str(count)\n",
    "            count += 1\n",
    "        return curList\n",
    "    \n",
    "a = Solution()\n",
    "a.findRelativeRanks([10,3,8,9,4])"
   ]
  }
 ],
 "metadata": {
  "kernelspec": {
   "display_name": "Python 3 (ipykernel)",
   "language": "python",
   "name": "python3"
  },
  "language_info": {
   "codemirror_mode": {
    "name": "ipython",
    "version": 3
   },
   "file_extension": ".py",
   "mimetype": "text/x-python",
   "name": "python",
   "nbconvert_exporter": "python",
   "pygments_lexer": "ipython3",
   "version": "3.9.7"
  }
 },
 "nbformat": 4,
 "nbformat_minor": 5
}
