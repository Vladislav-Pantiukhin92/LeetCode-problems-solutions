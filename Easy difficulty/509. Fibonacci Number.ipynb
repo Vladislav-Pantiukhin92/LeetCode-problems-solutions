{
 "cells": [
  {
   "cell_type": "markdown",
   "id": "06f99404",
   "metadata": {},
   "source": [
    "### 509. Fibonacci Number"
   ]
  },
  {
   "cell_type": "code",
   "execution_count": 281,
   "id": "ddfc566c",
   "metadata": {},
   "outputs": [
    {
     "data": {
      "text/plain": [
       "3"
      ]
     },
     "execution_count": 281,
     "metadata": {},
     "output_type": "execute_result"
    }
   ],
   "source": [
    "\"\"\"\n",
    "The Fibonacci numbers, commonly denoted F(n) form a sequence, called the Fibonacci sequence, \n",
    "such that each number is the sum of the two preceding ones, starting from 0 and 1. That is,\n",
    "\n",
    "F(0) = 0, F(1) = 1\n",
    "F(n) = F(n - 1) + F(n - 2), for n > 1.\n",
    "Given n, calculate F(n).\n",
    "Example 1:\n",
    "\n",
    "Input: n = 2\n",
    "Output: 1\n",
    "Explanation: F(2) = F(1) + F(0) = 1 + 0 = 1.\n",
    "Example 2:\n",
    "\n",
    "Input: n = 3\n",
    "Output: 2\n",
    "Explanation: F(3) = F(2) + F(1) = 1 + 1 = 2.\n",
    "Example 3:\n",
    "\n",
    "Input: n = 4\n",
    "Output: 3\n",
    "Explanation: F(4) = F(3) + F(2) = 2 + 1 = 3.\n",
    "\"\"\"\n",
    "\n",
    "class Solution:\n",
    "    def fib(self, n: int) -> int:\n",
    "# If necessary, it is possible to return two first results as quickly as possible (two basic fundamental numbers)\n",
    "        if n == 0:\n",
    "            return 0\n",
    "        elif n == 1:\n",
    "            return 1\n",
    "        else:\n",
    "# Otherwise, the solution for the problem can be found through the Dynamic Programming Bottom-Up Tabulation\n",
    "            fib_sequence = [0 for _ in range(n + 1)]\n",
    "            fib_sequence[0], fib_sequence[1] = 0, 1\n",
    "            for i in range(2, n + 1):\n",
    "                fib_sequence[i] = fib_sequence[i - 1] + fib_sequence[i - 2]\n",
    "        return fib_sequence[n]\n",
    "\n",
    "a = Solution()\n",
    "a.fib(4)"
   ]
  }
 ],
 "metadata": {
  "kernelspec": {
   "display_name": "Python 3 (ipykernel)",
   "language": "python",
   "name": "python3"
  },
  "language_info": {
   "codemirror_mode": {
    "name": "ipython",
    "version": 3
   },
   "file_extension": ".py",
   "mimetype": "text/x-python",
   "name": "python",
   "nbconvert_exporter": "python",
   "pygments_lexer": "ipython3",
   "version": "3.9.7"
  }
 },
 "nbformat": 4,
 "nbformat_minor": 5
}
