{
 "cells": [
  {
   "cell_type": "markdown",
   "id": "2ac4127b",
   "metadata": {},
   "source": [
    "### 520. Detect Capital"
   ]
  },
  {
   "cell_type": "code",
   "execution_count": 10,
   "id": "1bdb336e",
   "metadata": {},
   "outputs": [
    {
     "data": {
      "text/plain": [
       "True"
      ]
     },
     "execution_count": 10,
     "metadata": {},
     "output_type": "execute_result"
    }
   ],
   "source": [
    "\"\"\"\n",
    "We define the usage of capitals in a word to be right when one of the following cases holds:\n",
    "All letters in this word are capitals, like \"USA\".\n",
    "All letters in this word are not capitals, like \"leetcode\".\n",
    "Only the first letter in this word is capital, like \"Google\".\n",
    "Given a string word, return true if the usage of capitals in it is right.\n",
    "Example 1:\n",
    "\n",
    "Input: word = \"USA\"\n",
    "Output: true\n",
    "Example 2:\n",
    "\n",
    "Input: word = \"FlaG\"\n",
    "Output: false\n",
    "\"\"\"\n",
    "\n",
    "class Solution:\n",
    "    def detectCapitalUse(self, word: str) -> bool:\n",
    "        if word.isupper(): # str.isupper() returns 'True' in case of the fully uppercase string input\n",
    "            return True\n",
    "        elif word.islower(): # str.islower() returns 'True' in case of the fully lowercase string input\n",
    "            return True\n",
    "        elif word.istitle(): # str.istitle() returns 'True' in case of the uppercase first letter (just the first letter)\n",
    "            return True\n",
    "        else: # In other cases, 'False' will be returned\n",
    "            return False\n",
    "        \n",
    "a = Solution()\n",
    "a.detectCapitalUse(\"USA\")"
   ]
  }
 ],
 "metadata": {
  "kernelspec": {
   "display_name": "Python 3 (ipykernel)",
   "language": "python",
   "name": "python3"
  },
  "language_info": {
   "codemirror_mode": {
    "name": "ipython",
    "version": 3
   },
   "file_extension": ".py",
   "mimetype": "text/x-python",
   "name": "python",
   "nbconvert_exporter": "python",
   "pygments_lexer": "ipython3",
   "version": "3.9.7"
  }
 },
 "nbformat": 4,
 "nbformat_minor": 5
}
