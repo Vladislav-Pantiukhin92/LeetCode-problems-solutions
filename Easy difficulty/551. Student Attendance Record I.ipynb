{
 "cells": [
  {
   "cell_type": "markdown",
   "id": "7e39f314",
   "metadata": {},
   "source": [
    "### 551. Student Attendance Record I"
   ]
  },
  {
   "cell_type": "code",
   "execution_count": 24,
   "id": "07d2aaf1",
   "metadata": {},
   "outputs": [
    {
     "data": {
      "text/plain": [
       "True"
      ]
     },
     "execution_count": 24,
     "metadata": {},
     "output_type": "execute_result"
    }
   ],
   "source": [
    "\"\"\"\n",
    "You are given a string s representing an attendance record for a student where each character signifies \n",
    "whether the student was absent, late, or present on that day. The record only contains the following \n",
    "three characters:\n",
    "\n",
    "'A': Absent.\n",
    "'L': Late.\n",
    "'P': Present.\n",
    "The student is eligible for an attendance award if they meet both of the following criteria:\n",
    "\n",
    "The student was absent ('A') for strictly fewer than 2 days total.\n",
    "The student was never late ('L') for 3 or more consecutive days.\n",
    "Return true if the student is eligible for an attendance award, or false otherwise.\n",
    "Example 1:\n",
    "\n",
    "Input: s = \"PPALLP\"\n",
    "Output: true\n",
    "Explanation: The student has fewer than 2 absences and was never late 3 or more consecutive days.\n",
    "Example 2:\n",
    "\n",
    "Input: s = \"PPALLL\"\n",
    "Output: false\n",
    "Explanation: The student was late 3 consecutive days in the last 3 days, so is not eligible for the award.\n",
    "\"\"\"\n",
    "\n",
    "import re # Regular expressions will be used to identify the final result - True or False\n",
    "\n",
    "class Solution:\n",
    "    def checkRecord(self, s: str) -> bool:\n",
    "        absent_res = re.findall(r\"[A]\", s) # If more than 1 \"A\" will be returned within the list - the final \n",
    "        # result is False\n",
    "        late_res = re.findall(r\"[L]{3,}\", s) # If 1 or more patterns will be found - the final result is False\n",
    "        # as well\n",
    "        if len(absent_res) <= 1 and not late_res:\n",
    "            return True\n",
    "        return False\n",
    "    \n",
    "a = Solution()\n",
    "a.checkRecord(\"PPALLP\")"
   ]
  }
 ],
 "metadata": {
  "kernelspec": {
   "display_name": "Python 3 (ipykernel)",
   "language": "python",
   "name": "python3"
  },
  "language_info": {
   "codemirror_mode": {
    "name": "ipython",
    "version": 3
   },
   "file_extension": ".py",
   "mimetype": "text/x-python",
   "name": "python",
   "nbconvert_exporter": "python",
   "pygments_lexer": "ipython3",
   "version": "3.9.7"
  }
 },
 "nbformat": 4,
 "nbformat_minor": 5
}
