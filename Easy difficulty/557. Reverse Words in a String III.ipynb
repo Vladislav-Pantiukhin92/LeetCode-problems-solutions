{
 "cells": [
  {
   "cell_type": "markdown",
   "id": "9c5d6d04",
   "metadata": {},
   "source": [
    "### 557. Reverse Words in a String III"
   ]
  },
  {
   "cell_type": "code",
   "execution_count": 304,
   "id": "854b7aea",
   "metadata": {},
   "outputs": [
    {
     "data": {
      "text/plain": [
       "\"s'teL ekat edoCteeL tsetnoc\""
      ]
     },
     "execution_count": 304,
     "metadata": {},
     "output_type": "execute_result"
    }
   ],
   "source": [
    "\"\"\"\n",
    "Given a string s, reverse the order of characters in each word within \n",
    "a sentence while still preserving whitespace and initial word order.\n",
    "Example 1:\n",
    "\n",
    "Input: s = \"Let's take LeetCode contest\"\n",
    "Output: \"s'teL ekat edoCteeL tsetnoc\"\n",
    "Example 2:\n",
    "\n",
    "Input: s = \"God Ding\"\n",
    "Output: \"doG gniD\"\n",
    "\"\"\"\n",
    "\n",
    "# SOLUTION №1\n",
    "\n",
    "import re # Regular expressions \n",
    "\n",
    "class Solution:\n",
    "    def reverseWords(self, s: str) -> str:\n",
    "        curList = re.findall(r\"\\S+\", s) # With the help of the regexp pattern all values, except spaces, are extracted\n",
    "        # After that each extracted string chunk is reversed\n",
    "        final = list(map(lambda x: x[::-1], curList))\n",
    "        # Finally, the list of strings is transformed into the string output\n",
    "        return \" \".join(final)\n",
    "    \n",
    "a = Solution()\n",
    "a.reverseWords(\"Let's take LeetCode contest\")"
   ]
  },
  {
   "cell_type": "code",
   "execution_count": 305,
   "id": "35e4aa8d",
   "metadata": {},
   "outputs": [
    {
     "data": {
      "text/plain": [
       "\"s'teL ekat edoCteeL tsetnoc\""
      ]
     },
     "execution_count": 305,
     "metadata": {},
     "output_type": "execute_result"
    }
   ],
   "source": [
    "# SOLUTION №2\n",
    "\n",
    "class Solution:\n",
    "    def reverseWords(self, s: str) -> str:\n",
    "        reversed_lst = s[::-1].split() # The entire string is reversed and after that divided into string elements \n",
    "        # within the list\n",
    "        reversed_lst.reverse()\n",
    "        # The final result is returned as a string again\n",
    "        return \" \".join(reversed_lst)\n",
    "    \n",
    "a = Solution()\n",
    "a.reverseWords(\"Let's take LeetCode contest\")"
   ]
  }
 ],
 "metadata": {
  "kernelspec": {
   "display_name": "Python 3 (ipykernel)",
   "language": "python",
   "name": "python3"
  },
  "language_info": {
   "codemirror_mode": {
    "name": "ipython",
    "version": 3
   },
   "file_extension": ".py",
   "mimetype": "text/x-python",
   "name": "python",
   "nbconvert_exporter": "python",
   "pygments_lexer": "ipython3",
   "version": "3.9.7"
  }
 },
 "nbformat": 4,
 "nbformat_minor": 5
}
