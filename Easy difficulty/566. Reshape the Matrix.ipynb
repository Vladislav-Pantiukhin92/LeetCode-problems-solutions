{
 "cells": [
  {
   "cell_type": "markdown",
   "id": "ccad8471",
   "metadata": {},
   "source": [
    "### 566. Reshape the Matrix"
   ]
  },
  {
   "cell_type": "code",
   "execution_count": 2,
   "id": "5cc518f6",
   "metadata": {},
   "outputs": [
    {
     "data": {
      "text/plain": [
       "[[1, 2], [3, 4]]"
      ]
     },
     "execution_count": 2,
     "metadata": {},
     "output_type": "execute_result"
    }
   ],
   "source": [
    "\"\"\"\n",
    "In MATLAB, there is a handy function called reshape which can reshape an m x n matrix into a new one with \n",
    "a different size r x c keeping its original data.\n",
    "You are given an m x n matrix mat and two integers r and c representing the number of rows and the number \n",
    "of columns of the wanted reshaped matrix.\n",
    "The reshaped matrix should be filled with all the elements of the original matrix in the same \n",
    "row-traversing order as they were.\n",
    "If the reshape operation with given parameters is possible and legal, output the new reshaped matrix; \n",
    "Otherwise, output the original matrix.\n",
    "\n",
    "Example 1:\n",
    "Input: mat = [[1,2],[3,4]], r = 1, c = 4\n",
    "Output: [[1,2,3,4]]\n",
    "\n",
    "Example 2:\n",
    "Input: mat = [[1,2],[3,4]], r = 2, c = 4\n",
    "Output: [[1,2],[3,4]]\n",
    "\"\"\"\n",
    "\n",
    "import numpy as np # 'Numpy' library will be used to reshape the matrix structure\n",
    "\n",
    "class Solution:\n",
    "    def matrixReshape(self, mat: List[List[int]], r: int, c: int) -> List[List[int]]:\n",
    "        try:\n",
    "            matrix = np.array(mat).reshape((r, c)) # The 'numpy' library is to be used to reshape the matrix structure\n",
    "            return matrix.tolist() # The 'numpy array' is transformed into the simple Python list and finally returned\n",
    "        except ValueError: # If it is impossible to reshape the matrix structure - the original matrix is returned\n",
    "            return mat\n",
    "        \n",
    "a = Solution()\n",
    "a.matrixReshape([[1,2],[3,4]], 2, 4)"
   ]
  }
 ],
 "metadata": {
  "kernelspec": {
   "display_name": "Python 3 (ipykernel)",
   "language": "python",
   "name": "python3"
  },
  "language_info": {
   "codemirror_mode": {
    "name": "ipython",
    "version": 3
   },
   "file_extension": ".py",
   "mimetype": "text/x-python",
   "name": "python",
   "nbconvert_exporter": "python",
   "pygments_lexer": "ipython3",
   "version": "3.9.7"
  }
 },
 "nbformat": 4,
 "nbformat_minor": 5
}
