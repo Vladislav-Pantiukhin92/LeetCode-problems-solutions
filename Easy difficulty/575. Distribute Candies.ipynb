{
 "cells": [
  {
   "cell_type": "markdown",
   "id": "b12f48a7",
   "metadata": {},
   "source": [
    "### 575. Distribute Candies"
   ]
  },
  {
   "cell_type": "code",
   "execution_count": 23,
   "id": "7aec11d5",
   "metadata": {},
   "outputs": [
    {
     "data": {
      "text/plain": [
       "3"
      ]
     },
     "execution_count": 23,
     "metadata": {},
     "output_type": "execute_result"
    }
   ],
   "source": [
    "\"\"\"\n",
    "Alice has n candies, where the ith candy is of type candyType[i]. Alice noticed that she started to gain \n",
    "weight, so she visited a doctor.\n",
    "The doctor advised Alice to only eat n / 2 of the candies she has (n is always even). Alice likes her \n",
    "candies very much, and she wants to eat the maximum number of different types of candies while still \n",
    "following the doctor's advice.\n",
    "Given the integer array candyType of length n, return the maximum number of different types of candies \n",
    "she can eat if she only eats n / 2 of them.\n",
    "Example 1:\n",
    "\n",
    "Input: candyType = [1,1,2,2,3,3]\n",
    "Output: 3\n",
    "Explanation: Alice can only eat 6 / 2 = 3 candies. Since there are only 3 types, she can eat one of each type.\n",
    "Example 2:\n",
    "\n",
    "Input: candyType = [1,1,2,3]\n",
    "Output: 2\n",
    "Explanation: Alice can only eat 4 / 2 = 2 candies. Whether she eats types [1,2], [1,3], or [2,3], she \n",
    "still can only eat 2 different types.\n",
    "Example 3:\n",
    "\n",
    "Input: candyType = [6,6,6,6]\n",
    "Output: 1\n",
    "Explanation: Alice can only eat 4 / 2 = 2 candies. Even though she can eat 2 candies, she only has 1 type.\n",
    "\"\"\"\n",
    "\n",
    "from collections import Counter # 'collections.Counter' will be used to count the number of different candy types\n",
    "\n",
    "class Solution:\n",
    "    def distributeCandies(self, candyType: List[int]) -> int:\n",
    "        length = len(candyType) # Initially, let's find the length of the input list\n",
    "        candies_to_Eat = length // 2 # The maxAmount of candies, that can be eaten, is the length // 2\n",
    "        myDict = dict(Counter(candyType)) # Creation of the above-mentioned dictionary\n",
    "        # If it is allowed to eat more candies, than the length of the dictionary - we return the length of the \n",
    "        # dictionary (the same case, when the number of allowed candies == the length of the dictionary)\n",
    "        if candies_to_Eat <= len(myDict): # If it is allowed to eat less candies, than the length of the dictionary - \n",
    "            # we return this amount of candies\n",
    "            return candies_to_Eat\n",
    "        return len(myDict)\n",
    "    \n",
    "a = Solution()\n",
    "a.distributeCandies([1,1,2,2,3,3])"
   ]
  }
 ],
 "metadata": {
  "kernelspec": {
   "display_name": "Python 3 (ipykernel)",
   "language": "python",
   "name": "python3"
  },
  "language_info": {
   "codemirror_mode": {
    "name": "ipython",
    "version": 3
   },
   "file_extension": ".py",
   "mimetype": "text/x-python",
   "name": "python",
   "nbconvert_exporter": "python",
   "pygments_lexer": "ipython3",
   "version": "3.9.7"
  }
 },
 "nbformat": 4,
 "nbformat_minor": 5
}
