{
 "cells": [
  {
   "cell_type": "markdown",
   "id": "a934b533",
   "metadata": {},
   "source": [
    "### 58. Length of Last Word"
   ]
  },
  {
   "cell_type": "code",
   "execution_count": 178,
   "id": "355b3aa5",
   "metadata": {},
   "outputs": [
    {
     "data": {
      "text/plain": [
       "4"
      ]
     },
     "execution_count": 178,
     "metadata": {},
     "output_type": "execute_result"
    }
   ],
   "source": [
    "\"\"\"\n",
    "Given a string s consisting of some words separated by some number of spaces, \n",
    "return the length of the last word in the string.\n",
    "A word is a maximal substring consisting of non-space characters only.\n",
    "\n",
    "Example 1:\n",
    "\n",
    "Input: s = \"Hello World\"\n",
    "Output: 5\n",
    "Explanation: The last word is \"World\" with length 5.\n",
    "Example 2:\n",
    "\n",
    "Input: s = \"   fly me   to   the moon  \"\n",
    "Output: 4\n",
    "Explanation: The last word is \"moon\" with length 4.\n",
    "Example 3:\n",
    "\n",
    "Input: s = \"luffy is still joyboy\"\n",
    "Output: 6\n",
    "Explanation: The last word is \"joyboy\" with length 6.\n",
    "\"\"\"\n",
    "\n",
    "import re # Regular expressions\n",
    "\n",
    "class Solution:\n",
    "    def lengthOfLastWord(self, s: str) -> int:\n",
    "        result = re.findall(r\"\\S+\", s) # Regular expression pattern extracts all the values, except spaces\n",
    "        return len(result[-1]) # The index -1 returns the last element\n",
    "        \n",
    "a = Solution()\n",
    "a.lengthOfLastWord(\"   fly me   to   the moon  \")"
   ]
  }
 ],
 "metadata": {
  "kernelspec": {
   "display_name": "Python 3 (ipykernel)",
   "language": "python",
   "name": "python3"
  },
  "language_info": {
   "codemirror_mode": {
    "name": "ipython",
    "version": 3
   },
   "file_extension": ".py",
   "mimetype": "text/x-python",
   "name": "python",
   "nbconvert_exporter": "python",
   "pygments_lexer": "ipython3",
   "version": "3.9.7"
  }
 },
 "nbformat": 4,
 "nbformat_minor": 5
}
