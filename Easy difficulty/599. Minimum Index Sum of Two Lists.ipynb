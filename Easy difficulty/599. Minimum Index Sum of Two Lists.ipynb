{
 "cells": [
  {
   "cell_type": "markdown",
   "id": "46cde933",
   "metadata": {},
   "source": [
    "### 599. Minimum Index Sum of Two Lists"
   ]
  },
  {
   "cell_type": "code",
   "execution_count": 24,
   "id": "f01c9e27",
   "metadata": {},
   "outputs": [
    {
     "data": {
      "text/plain": [
       "{'Shogun'}"
      ]
     },
     "execution_count": 24,
     "metadata": {},
     "output_type": "execute_result"
    }
   ],
   "source": [
    "\"\"\"\n",
    "Suppose Andy and Doris want to choose a restaurant for dinner, and they both have a list of favorite \n",
    "restaurants represented by strings.\n",
    "You need to help them find out their common interest with the least list index sum. If there is a choice \n",
    "tie between answers, output all of them with no order requirement. You could assume there always exists an answer.\n",
    "Example 1:\n",
    "\n",
    "Input: list1 = [\"Shogun\",\"Tapioca Express\",\"Burger King\",\"KFC\"], list2 = [\"Piatti\",\"The Grill at Torrey Pines\",\"Hungry Hunter Steakhouse\",\"Shogun\"]\n",
    "Output: [\"Shogun\"]\n",
    "Explanation: The only restaurant they both like is \"Shogun\".\n",
    "Example 2:\n",
    "\n",
    "Input: list1 = [\"Shogun\",\"Tapioca Express\",\"Burger King\",\"KFC\"], list2 = [\"KFC\",\"Shogun\",\"Burger King\"]\n",
    "Output: [\"Shogun\"]\n",
    "Explanation: The restaurant they both like and have the least index sum is \"Shogun\" with index sum 1 (0+1).\n",
    "\"\"\"\n",
    "\n",
    "class Solution:\n",
    "    def findRestaurant(self, list1: List[str], list2: List[str]) -> List[str]:\n",
    "        # First of all, it is easy to find the common interest through the set method set1.intersection(set2)\n",
    "        result = set(list1).intersection(set(list2))\n",
    "        # As a result of the aforementioned set method, we have the list of common interests\n",
    "        if len(result) == 1: # If the length of this list is 1 - we simply return the obtained result\n",
    "            return result\n",
    "        else:\n",
    "            # Otherwise, we do the following:\n",
    "            final = [] # The new list container is initialized\n",
    "            # We are going to loop over common interests, summarize their indices from two lists and add\n",
    "            # the sum result to the final list\n",
    "            for i in result:\n",
    "                curSum = list1.index(i) + list2.index(i)\n",
    "                final.append([i, curSum])\n",
    "        # The final step is to sort the array and extract the minResults\n",
    "        minSum = min(final, key=itemgetter(1))\n",
    "        final_lst = list(filter(lambda x: x[1] == minSum[1], final))\n",
    "        final_lst = list(map(lambda x: x[0], final_lst))\n",
    "        return final_lst\n",
    "    \n",
    "a = Solution()\n",
    "a.findRestaurant([\"Shogun\",\"Tapioca Express\",\"Burger King\",\"KFC\"], [\"Piatti\",\"The Grill at Torrey Pines\",\"Hungry Hunter Steakhouse\",\"Shogun\"])"
   ]
  }
 ],
 "metadata": {
  "kernelspec": {
   "display_name": "Python 3 (ipykernel)",
   "language": "python",
   "name": "python3"
  },
  "language_info": {
   "codemirror_mode": {
    "name": "ipython",
    "version": 3
   },
   "file_extension": ".py",
   "mimetype": "text/x-python",
   "name": "python",
   "nbconvert_exporter": "python",
   "pygments_lexer": "ipython3",
   "version": "3.9.7"
  }
 },
 "nbformat": 4,
 "nbformat_minor": 5
}
