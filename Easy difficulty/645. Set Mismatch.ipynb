{
 "cells": [
  {
   "cell_type": "markdown",
   "id": "4aec3f17",
   "metadata": {},
   "source": [
    "### 645. Set Mismatch"
   ]
  },
  {
   "cell_type": "code",
   "execution_count": 7,
   "id": "674e47b0",
   "metadata": {},
   "outputs": [
    {
     "data": {
      "text/plain": [
       "[1, 2]"
      ]
     },
     "execution_count": 7,
     "metadata": {},
     "output_type": "execute_result"
    }
   ],
   "source": [
    "\"\"\"\n",
    "You have a set of integers s, which originally contains all the numbers from 1 to n. \n",
    "Unfortunately, due to some error, one of the numbers in s got duplicated to another number in the set, \n",
    "which results in repetition of one number and loss of another number.\n",
    "You are given an integer array nums representing the data status of this set after the error.\n",
    "Find the number that occurs twice and the number that is missing and return them in the form of an array.\n",
    "Example 1:\n",
    "\n",
    "Input: nums = [1,2,2,4]\n",
    "Output: [2,3]\n",
    "Example 2:\n",
    "\n",
    "Input: nums = [1,1]\n",
    "Output: [1,2]\n",
    "\"\"\"\n",
    "\n",
    "class Solution:\n",
    "    def findErrorNums(self, nums: List[int]) -> List[int]:\n",
    "        hashTable = {} # The dictionary is created\n",
    "        length = len(nums)\n",
    "        count = 1\n",
    "        # Firstly, it is important to add all the keys from 1 to length of the input array with the default value = 0\n",
    "        while count <= length:\n",
    "            hashTable[count] = 0\n",
    "            count += 1\n",
    "        # During the iteration over the input array, in case of occurrence we increase the value by 1\n",
    "        for i in nums:\n",
    "            hashTable[i] += 1\n",
    "        final = []\n",
    "        # During the iteration over keys of the hashTable, if values equal to 0 or 2, we add these keys to the final list\n",
    "        for j in hashTable:\n",
    "            if hashTable[j] == 2:\n",
    "                first = j \n",
    "            elif hashTable[j] == 0:\n",
    "                second = j \n",
    "        final.extend([first, second])\n",
    "        return final\n",
    "    \n",
    "a = Solution()\n",
    "a.findErrorNums([1,1])"
   ]
  }
 ],
 "metadata": {
  "kernelspec": {
   "display_name": "Python 3 (ipykernel)",
   "language": "python",
   "name": "python3"
  },
  "language_info": {
   "codemirror_mode": {
    "name": "ipython",
    "version": 3
   },
   "file_extension": ".py",
   "mimetype": "text/x-python",
   "name": "python",
   "nbconvert_exporter": "python",
   "pygments_lexer": "ipython3",
   "version": "3.9.7"
  }
 },
 "nbformat": 4,
 "nbformat_minor": 5
}
