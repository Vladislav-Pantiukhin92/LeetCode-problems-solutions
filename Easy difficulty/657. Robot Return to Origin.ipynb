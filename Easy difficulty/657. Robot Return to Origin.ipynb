{
 "cells": [
  {
   "cell_type": "markdown",
   "id": "ccad8471",
   "metadata": {},
   "source": [
    "### 657. Robot Return to Origin"
   ]
  },
  {
   "cell_type": "code",
   "execution_count": 3,
   "id": "01d80306",
   "metadata": {},
   "outputs": [
    {
     "data": {
      "text/plain": [
       "True"
      ]
     },
     "execution_count": 3,
     "metadata": {},
     "output_type": "execute_result"
    }
   ],
   "source": [
    "\"\"\"\n",
    "There is a robot starting at the position (0, 0), the origin, on a 2D plane. Given a sequence of its \n",
    "moves, judge if this robot ends up at (0, 0) after it completes its moves.\n",
    "You are given a string moves that represents the move sequence of the robot where moves[i] represents \n",
    "its ith move. Valid moves are 'R' (right), 'L' (left), 'U' (up), and 'D' (down).\n",
    "Return true if the robot returns to the origin after it finishes all of its moves, or false otherwise.\n",
    "Note: The way that the robot is \"facing\" is irrelevant. 'R' will always make the robot move to the \n",
    "right once, 'L' will always make it move left, etc. Also, assume that the magnitude of the robot's \n",
    "movement is the same for each move.\n",
    "\n",
    "Example 1:\n",
    "\n",
    "Input: moves = \"UD\"\n",
    "Output: true\n",
    "Explanation: The robot moves up once, and then down once. All moves have the same magnitude, so it \n",
    "ended up at the origin where it started. Therefore, we return true.\n",
    "Example 2:\n",
    "\n",
    "Input: moves = \"LL\"\n",
    "Output: false\n",
    "Explanation: The robot moves left twice. It ends up two \"moves\" to the left of the origin. We return \n",
    "false because it is not at the origin at the end of its moves.\n",
    "\"\"\"\n",
    "\n",
    "class Solution:\n",
    "    def judgeCircle(self, moves: str) -> bool:\n",
    "        origin = [0, 0] # The original location ('x' and 'y' coordinates)\n",
    "        for i in moves:\n",
    "            if i in [\"U\"]: # It means 'y' is up\n",
    "                origin[1] += 1\n",
    "            elif i in [\"D\"]: # It means 'y' is down\n",
    "                origin[1] -= 1\n",
    "            elif i in [\"R\"]: # The right move of 'x'\n",
    "                origin[0] += 1\n",
    "            else: # The left move of 'x'\n",
    "                origin[0] -= 1      \n",
    "        if origin == [0, 0]: # If, following the code implementation, the location is still [0, 0] - we return True\n",
    "            return True\n",
    "        return False # Otherwise, we return False\n",
    "    \n",
    "a = Solution()\n",
    "a.judgeCircle(\"UD\")"
   ]
  }
 ],
 "metadata": {
  "kernelspec": {
   "display_name": "Python 3 (ipykernel)",
   "language": "python",
   "name": "python3"
  },
  "language_info": {
   "codemirror_mode": {
    "name": "ipython",
    "version": 3
   },
   "file_extension": ".py",
   "mimetype": "text/x-python",
   "name": "python",
   "nbconvert_exporter": "python",
   "pygments_lexer": "ipython3",
   "version": "3.9.7"
  }
 },
 "nbformat": 4,
 "nbformat_minor": 5
}
