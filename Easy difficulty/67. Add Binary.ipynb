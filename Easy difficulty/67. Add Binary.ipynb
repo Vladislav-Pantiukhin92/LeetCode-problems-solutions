{
 "cells": [
  {
   "cell_type": "markdown",
   "id": "df2a6904",
   "metadata": {},
   "source": [
    "### 67. Add Binary"
   ]
  },
  {
   "cell_type": "code",
   "execution_count": 270,
   "id": "50ec87e9",
   "metadata": {},
   "outputs": [
    {
     "name": "stdout",
     "output_type": "stream",
     "text": [
      "1\n"
     ]
    }
   ],
   "source": [
    "\"\"\"\n",
    "Given two binary strings a and b, return their sum as a binary string.\n",
    "\n",
    "Example 1:\n",
    "\n",
    "Input: a = \"11\", b = \"1\"\n",
    "Output: \"100\"\n",
    "Example 2:\n",
    "\n",
    "Input: a = \"1010\", b = \"1011\"\n",
    "Output: \"10101\"\n",
    "\"\"\"\n",
    "\n",
    "class Solution:\n",
    "    def addBinary(self, a: str, b: str) -> str:\n",
    "        # We are going to utilize the decimal representation of two inputs, initial arguments\n",
    "        # The major step is to sum up these two decimal numbers and transform the final result into the binary code\n",
    "        if int(a, 2) + int(b, 2) == 0:\n",
    "            return \"0\"\n",
    "        return bin(int(a, 2) + int(b, 2)).lstrip(\"0b\")\n",
    "\n",
    "a = Solution()\n",
    "print(a.addBinary(\"0\", \"1\"))"
   ]
  }
 ],
 "metadata": {
  "kernelspec": {
   "display_name": "Python 3 (ipykernel)",
   "language": "python",
   "name": "python3"
  },
  "language_info": {
   "codemirror_mode": {
    "name": "ipython",
    "version": 3
   },
   "file_extension": ".py",
   "mimetype": "text/x-python",
   "name": "python",
   "nbconvert_exporter": "python",
   "pygments_lexer": "ipython3",
   "version": "3.9.7"
  }
 },
 "nbformat": 4,
 "nbformat_minor": 5
}
