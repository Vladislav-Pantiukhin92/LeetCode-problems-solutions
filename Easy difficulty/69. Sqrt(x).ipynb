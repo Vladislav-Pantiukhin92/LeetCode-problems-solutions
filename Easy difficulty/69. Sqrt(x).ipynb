{
 "cells": [
  {
   "cell_type": "markdown",
   "id": "527fef57",
   "metadata": {},
   "source": [
    "### 69. Sqrt(x)"
   ]
  },
  {
   "cell_type": "code",
   "execution_count": 3,
   "id": "7fbbb780",
   "metadata": {},
   "outputs": [
    {
     "data": {
      "text/plain": [
       "2"
      ]
     },
     "execution_count": 3,
     "metadata": {},
     "output_type": "execute_result"
    }
   ],
   "source": [
    "\"\"\"\n",
    "Given a non-negative integer x, compute and return the square root of x.\n",
    "Since the return type is an integer, the decimal digits are truncated, \n",
    "and only the integer part of the result is returned.\n",
    "Note: You are not allowed to use any built-in exponent function or operator, \n",
    "such as pow(x, 0.5) or x ** 0.5.\n",
    "\n",
    "Example 1:\n",
    "\n",
    "Input: x = 4\n",
    "Output: 2\n",
    "Example 2:\n",
    "\n",
    "Input: x = 8\n",
    "Output: 2\n",
    "Explanation: The square root of 8 is 2.82842..., and since the decimal part is truncated, 2 is returned.\n",
    "\"\"\"\n",
    "\n",
    "class Solution:\n",
    "    def mySqrt(self, x: int) -> int:\n",
    "        # This time we are going to use the brute-force approach to find the relevant number\n",
    "        # There are only two cases while increasing the value (when the current value equals to the input)\n",
    "        # or when the current value is bigger than the input number, so the return value will be index - 1\n",
    "        \n",
    "        index = 0\n",
    "        result = index * index \n",
    "        while result < x:\n",
    "            index += 1\n",
    "            result = index * index\n",
    "        if result == x:\n",
    "            return index\n",
    "        else:\n",
    "            return index - 1\n",
    "        \n",
    "a = Solution()\n",
    "a.mySqrt(8)"
   ]
  }
 ],
 "metadata": {
  "kernelspec": {
   "display_name": "Python 3 (ipykernel)",
   "language": "python",
   "name": "python3"
  },
  "language_info": {
   "codemirror_mode": {
    "name": "ipython",
    "version": 3
   },
   "file_extension": ".py",
   "mimetype": "text/x-python",
   "name": "python",
   "nbconvert_exporter": "python",
   "pygments_lexer": "ipython3",
   "version": "3.9.7"
  }
 },
 "nbformat": 4,
 "nbformat_minor": 5
}
