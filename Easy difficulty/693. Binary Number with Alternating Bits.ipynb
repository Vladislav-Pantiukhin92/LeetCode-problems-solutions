{
 "cells": [
  {
   "cell_type": "markdown",
   "id": "00f617ad",
   "metadata": {},
   "source": [
    "### 693. Binary Number with Alternating Bits"
   ]
  },
  {
   "cell_type": "code",
   "execution_count": 6,
   "id": "cca29e72",
   "metadata": {},
   "outputs": [
    {
     "data": {
      "text/plain": [
       "False"
      ]
     },
     "execution_count": 6,
     "metadata": {},
     "output_type": "execute_result"
    }
   ],
   "source": [
    "\"\"\"\n",
    "Given a positive integer, check whether it has alternating bits: namely, \n",
    "if two adjacent bits will always have different values.\n",
    "Example 1:\n",
    "\n",
    "Input: n = 5\n",
    "Output: true\n",
    "Explanation: The binary representation of 5 is: 101\n",
    "Example 2:\n",
    "\n",
    "Input: n = 7\n",
    "Output: false\n",
    "Explanation: The binary representation of 7 is: 111.\n",
    "Example 3:\n",
    "\n",
    "Input: n = 11\n",
    "Output: false\n",
    "Explanation: The binary representation of 11 is: 1011.\n",
    "\"\"\"\n",
    "\n",
    "import re # Regular expressions\n",
    "\n",
    "class Solution:\n",
    "    def hasAlternatingBits(self, n: int) -> bool:\n",
    "        binary_repr = bin(n).lstrip(\"0b\") # Binary representation of the input integer\n",
    "        i = 0\n",
    "        # The priority is to monitor all alternating bits, so in case of alternating errors - we return False\n",
    "        while i < len(binary_repr): # Depending on the index (even or odd) we will compare the value with 1 or 0\n",
    "            # If the disparity is found - return False\n",
    "            if i % 2 == 0:\n",
    "                curBit = \"1\"\n",
    "                if binary_repr[i] != curBit:\n",
    "                    return False\n",
    "            else:\n",
    "                curBit = \"0\"\n",
    "                if binary_repr[i] != curBit:\n",
    "                    return False\n",
    "            i += 1\n",
    "        # If disparity cases were not encountered at all within the 'for loop'- return True\n",
    "        return True\n",
    "    \n",
    "a = Solution()\n",
    "a.hasAlternatingBits(7)"
   ]
  }
 ],
 "metadata": {
  "kernelspec": {
   "display_name": "Python 3 (ipykernel)",
   "language": "python",
   "name": "python3"
  },
  "language_info": {
   "codemirror_mode": {
    "name": "ipython",
    "version": 3
   },
   "file_extension": ".py",
   "mimetype": "text/x-python",
   "name": "python",
   "nbconvert_exporter": "python",
   "pygments_lexer": "ipython3",
   "version": "3.9.7"
  }
 },
 "nbformat": 4,
 "nbformat_minor": 5
}
