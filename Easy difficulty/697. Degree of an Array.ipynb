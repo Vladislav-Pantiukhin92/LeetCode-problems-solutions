{
 "cells": [
  {
   "cell_type": "markdown",
   "id": "cafd8ac6",
   "metadata": {},
   "source": [
    "### 697. Degree of an Array"
   ]
  },
  {
   "cell_type": "code",
   "execution_count": 4,
   "id": "4c6efcc2",
   "metadata": {},
   "outputs": [
    {
     "data": {
      "text/plain": [
       "6"
      ]
     },
     "execution_count": 4,
     "metadata": {},
     "output_type": "execute_result"
    }
   ],
   "source": [
    "\"\"\"\n",
    "Given a non-empty array of non-negative integers nums, the degree of this array is defined as the maximum \n",
    "frequency of any one of its elements.\n",
    "Your task is to find the smallest possible length of a (contiguous) subarray of nums, that has the same \n",
    "degree as nums.\n",
    "Example 1:\n",
    "\n",
    "Input: nums = [1,2,2,3,1]\n",
    "Output: 2\n",
    "Explanation: \n",
    "The input array has a degree of 2 because both elements 1 and 2 appear twice.\n",
    "Of the subarrays that have the same degree:\n",
    "[1, 2, 2, 3, 1], [1, 2, 2, 3], [2, 2, 3, 1], [1, 2, 2], [2, 2, 3], [2, 2]\n",
    "The shortest length is 2. So return 2.\n",
    "Example 2:\n",
    "\n",
    "Input: nums = [1,2,2,3,1,4,2]\n",
    "Output: 6\n",
    "Explanation: \n",
    "The degree is 3 because the element 2 is repeated 3 times.\n",
    "So [2,2,3,1,4,2] is the shortest subarray, therefore returning 6.\n",
    "\"\"\"\n",
    "\n",
    "from collections import Counter # 'collections.Counter' is to be used to count the occurrence of elements within \n",
    "# the given input list 'nums'\n",
    "from operator import * # 'operator.itemgetter()' will sort the list in a specific manner\n",
    "\n",
    "class Solution:\n",
    "    def findShortestSubArray(self, nums: List[int]) -> int:\n",
    "        tuple_list = list(dict(Counter(nums)).items()) # The tuple list with 'key-value' iterables\n",
    "        # This way we are going to find the maxDegree of the list (the maxOccurrence of an element)\n",
    "        degree_number = sorted(tuple_list, key=itemgetter(1))[-1][1]\n",
    "        # This way we are going to find all elements with the corresponding occurrence == 'maxDegree':\n",
    "        iterables = list(filter(lambda x: x[1] == degree_number, tuple_list))\n",
    "        minLength = len(nums) # The default minimum length equals to the length of the given input list\n",
    "        # Through the 'for loop' as well as the 'enumerate' function the start and end indices of key elements \n",
    "        # are found. As a result, we find the length of the relevant slice:\n",
    "        for i in iterables:\n",
    "            indices = []\n",
    "            relevant_num = i[0]\n",
    "            for ind, elem in enumerate(nums):\n",
    "                if elem == relevant_num:\n",
    "                    indices.append(ind)\n",
    "            start = indices[0]\n",
    "            end = indices[-1]\n",
    "            curLength = len(nums[start: end + 1]) # The length of the relevant slice is found. \n",
    "            if curLength < minLength: # The minLength, if necessary, is updated\n",
    "                minLength = curLength\n",
    "        return minLength # The final minLength is returned\n",
    "    \n",
    "a = Solution()\n",
    "a.findShortestSubArray([1,2,2,3,1,4,2])"
   ]
  }
 ],
 "metadata": {
  "kernelspec": {
   "display_name": "Python 3 (ipykernel)",
   "language": "python",
   "name": "python3"
  },
  "language_info": {
   "codemirror_mode": {
    "name": "ipython",
    "version": 3
   },
   "file_extension": ".py",
   "mimetype": "text/x-python",
   "name": "python",
   "nbconvert_exporter": "python",
   "pygments_lexer": "ipython3",
   "version": "3.9.7"
  }
 },
 "nbformat": 4,
 "nbformat_minor": 5
}
