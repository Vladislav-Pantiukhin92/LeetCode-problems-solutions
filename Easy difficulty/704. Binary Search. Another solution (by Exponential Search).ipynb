{
 "cells": [
  {
   "cell_type": "markdown",
   "id": "fafc91c5",
   "metadata": {},
   "source": [
    "### 704. Binary Search. Another solution (by Exponential Search)"
   ]
  },
  {
   "cell_type": "code",
   "execution_count": 21,
   "id": "1fca395b",
   "metadata": {},
   "outputs": [
    {
     "data": {
      "text/plain": [
       "4"
      ]
     },
     "execution_count": 21,
     "metadata": {},
     "output_type": "execute_result"
    }
   ],
   "source": [
    "\"\"\"\n",
    "Given an array of integers nums which is sorted in ascending order, and an integer target, \n",
    "write a function to search target in nums. If target exists, then return its index. Otherwise, return -1.\n",
    "You must write an algorithm with O(log n) runtime complexity.\n",
    "\n",
    "Example 1:\n",
    "\n",
    "Input: nums = [-1,0,3,5,9,12], target = 9\n",
    "Output: 4\n",
    "Explanation: 9 exists in nums and its index is 4\n",
    "Example 2:\n",
    "\n",
    "Input: nums = [-1,0,3,5,9,12], target = 2\n",
    "Output: -1\n",
    "Explanation: 2 does not exist in nums so return -1\n",
    "\"\"\"\n",
    "\n",
    "# Implementation of the Exponential Search algorithm\n",
    "# Firstly, we find the range, where the relevant element can be located (through constant index *= 2)\n",
    "# When the range is found, we execute the binary search within the underlined slice\n",
    "\n",
    "class Solution:\n",
    "    def search(self, nums: List[int], target: int) -> int:\n",
    "        def binary_search(array, target, low, high):\n",
    "            if low > high:\n",
    "                return -1\n",
    "            else:\n",
    "                mid = (low + high) // 2\n",
    "                if array[mid] == target:\n",
    "                    return mid\n",
    "                else:\n",
    "                    if target > array[mid]:\n",
    "                        return binary_search(array, target, mid + 1, high)\n",
    "                    else:\n",
    "                        return binary_search(array, target, low, mid - 1)\n",
    "                    \n",
    "        if len(nums) == 1:\n",
    "            if nums[0] == target:\n",
    "                return 0\n",
    "            return -1\n",
    "        else:\n",
    "            index = 1\n",
    "            while index < len(nums) and nums[index] < target:\n",
    "                index *= 2\n",
    "            return binary_search(nums, target, index // 2, min(index, len(nums) - 1))\n",
    "        \n",
    "a = Solution()\n",
    "a. search([-1,0,3,5,9,12], 9)"
   ]
  }
 ],
 "metadata": {
  "kernelspec": {
   "display_name": "Python 3 (ipykernel)",
   "language": "python",
   "name": "python3"
  },
  "language_info": {
   "codemirror_mode": {
    "name": "ipython",
    "version": 3
   },
   "file_extension": ".py",
   "mimetype": "text/x-python",
   "name": "python",
   "nbconvert_exporter": "python",
   "pygments_lexer": "ipython3",
   "version": "3.9.7"
  }
 },
 "nbformat": 4,
 "nbformat_minor": 5
}
