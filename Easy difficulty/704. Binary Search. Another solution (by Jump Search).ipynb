{
 "cells": [
  {
   "cell_type": "markdown",
   "id": "3ab539b5",
   "metadata": {},
   "source": [
    "### 704. Binary Search. Another solution (by Jump Search)"
   ]
  },
  {
   "cell_type": "code",
   "execution_count": 272,
   "id": "5c11a320",
   "metadata": {},
   "outputs": [
    {
     "data": {
      "text/plain": [
       "4"
      ]
     },
     "execution_count": 272,
     "metadata": {},
     "output_type": "execute_result"
    }
   ],
   "source": [
    "\"\"\"\n",
    "Given an array of integers nums which is sorted in ascending order, and an integer target, \n",
    "write a function to search target in nums. If target exists, then return its index. Otherwise, return -1.\n",
    "You must write an algorithm with O(log n) runtime complexity.\n",
    "Example 1:\n",
    "\n",
    "Input: nums = [-1,0,3,5,9,12], target = 9\n",
    "Output: 4\n",
    "Explanation: 9 exists in nums and its index is 4\n",
    "Example 2:\n",
    "\n",
    "Input: nums = [-1,0,3,5,9,12], target = 2\n",
    "Output: -1\n",
    "Explanation: 2 does not exist in nums so return -1\n",
    "\"\"\"\n",
    "\n",
    "from math import *\n",
    "\n",
    "# Implementation of the Jump Search algorithm\n",
    "# The major principle is that the array is divided into a number of subarrays (steps), which are obtained\n",
    "# through sqrt(len(nums))\n",
    "\n",
    "\n",
    "class Solution:\n",
    "    def search(self, nums: List[int], target: int) -> int:\n",
    "        if nums[-1] < target:\n",
    "            return -1\n",
    "        # In other words, we jump across the array\n",
    "        def jumpSearch(array, target):\n",
    "            length = len(array)\n",
    "            step = int(sqrt(length))\n",
    "            prev = 0\n",
    "            while array[int(min(step, length - 1))] < target:\n",
    "                prev = step\n",
    "                step += int(sqrt(length))\n",
    "                if step >= length:\n",
    "                    break\n",
    "# When it is identified that the relevant number is located within the specific range/slice, the linear search \n",
    "# algorithm is executed\n",
    "            while array[prev] < target:\n",
    "                prev += 1\n",
    "                if prev == min(step + 1, length):\n",
    "                    return -1\n",
    "            if array[prev] == target:\n",
    "                return prev\n",
    "            return -1\n",
    "        result = jumpSearch(nums, target)\n",
    "        return result\n",
    "    \n",
    "a = Solution()\n",
    "a.search([-1,0,3,5,9,12], 9)"
   ]
  }
 ],
 "metadata": {
  "kernelspec": {
   "display_name": "Python 3 (ipykernel)",
   "language": "python",
   "name": "python3"
  },
  "language_info": {
   "codemirror_mode": {
    "name": "ipython",
    "version": 3
   },
   "file_extension": ".py",
   "mimetype": "text/x-python",
   "name": "python",
   "nbconvert_exporter": "python",
   "pygments_lexer": "ipython3",
   "version": "3.9.7"
  }
 },
 "nbformat": 4,
 "nbformat_minor": 5
}
