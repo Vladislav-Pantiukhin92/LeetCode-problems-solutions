{
 "cells": [
  {
   "cell_type": "markdown",
   "id": "2f095542",
   "metadata": {},
   "source": [
    "### 704. Binary Search. Another solution (by Recursive Binary Search)"
   ]
  },
  {
   "cell_type": "code",
   "execution_count": 267,
   "id": "db90e527",
   "metadata": {},
   "outputs": [
    {
     "data": {
      "text/plain": [
       "4"
      ]
     },
     "execution_count": 267,
     "metadata": {},
     "output_type": "execute_result"
    }
   ],
   "source": [
    "\"\"\"\n",
    "Given an array of integers nums which is sorted in ascending order, and an integer target, \n",
    "write a function to search target in nums. If target exists, then return its index. Otherwise, return -1.\n",
    "You must write an algorithm with O(log n) runtime complexity.\n",
    "Example 1:\n",
    "\n",
    "Input: nums = [-1,0,3,5,9,12], target = 9\n",
    "Output: 4\n",
    "Explanation: 9 exists in nums and its index is 4\n",
    "Example 2:\n",
    "\n",
    "Input: nums = [-1,0,3,5,9,12], target = 2\n",
    "Output: -1\n",
    "Explanation: 2 does not exist in nums so return -1\n",
    "\"\"\"\n",
    "\n",
    "class Solution:\n",
    "    def search(self, nums: List[int], target: int) -> int:\n",
    "        # The implementation of the Recursive Binary Search\n",
    "        # The major difference is that new 'low' or 'high' parameter is changed through recursive calls\n",
    "        def binary_search_recursive(array, target, low, high):\n",
    "            if low > high:\n",
    "                return -1\n",
    "            else:\n",
    "                mid = (low + high) // 2\n",
    "                if array[mid] == target:\n",
    "                    return mid\n",
    "                else:\n",
    "                    if target > array[mid]:\n",
    "                        return binary_search_recursive(array, target, mid + 1, high)\n",
    "                    else:\n",
    "                        return binary_search_recursive(array, target, low, mid - 1)\n",
    "        result = binary_search_recursive(nums, target, 0, len(nums) - 1)\n",
    "        return result\n",
    "    \n",
    "a = Solution()\n",
    "a.search([-1,0,3,5,9,12], 9)"
   ]
  }
 ],
 "metadata": {
  "kernelspec": {
   "display_name": "Python 3 (ipykernel)",
   "language": "python",
   "name": "python3"
  },
  "language_info": {
   "codemirror_mode": {
    "name": "ipython",
    "version": 3
   },
   "file_extension": ".py",
   "mimetype": "text/x-python",
   "name": "python",
   "nbconvert_exporter": "python",
   "pygments_lexer": "ipython3",
   "version": "3.9.7"
  }
 },
 "nbformat": 4,
 "nbformat_minor": 5
}
