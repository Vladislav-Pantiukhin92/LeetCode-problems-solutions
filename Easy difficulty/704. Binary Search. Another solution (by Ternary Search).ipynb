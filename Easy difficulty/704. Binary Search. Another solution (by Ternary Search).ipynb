{
 "cells": [
  {
   "cell_type": "markdown",
   "id": "8e778b0e",
   "metadata": {},
   "source": [
    "### 704. Binary Search. Another solution (by Ternary Search)"
   ]
  },
  {
   "cell_type": "code",
   "execution_count": 268,
   "id": "5e745ebe",
   "metadata": {},
   "outputs": [
    {
     "data": {
      "text/plain": [
       "4"
      ]
     },
     "execution_count": 268,
     "metadata": {},
     "output_type": "execute_result"
    }
   ],
   "source": [
    "\"\"\"\n",
    "Given an array of integers nums which is sorted in ascending order, and an integer target, \n",
    "write a function to search target in nums. If target exists, then return its index. Otherwise, return -1.\n",
    "You must write an algorithm with O(log n) runtime complexity.\n",
    "Example 1:\n",
    "\n",
    "Input: nums = [-1,0,3,5,9,12], target = 9\n",
    "Output: 4\n",
    "Explanation: 9 exists in nums and its index is 4\n",
    "Example 2:\n",
    "\n",
    "Input: nums = [-1,0,3,5,9,12], target = 2\n",
    "Output: -1\n",
    "Explanation: 2 does not exist in nums so return -1\n",
    "\"\"\"\n",
    "\n",
    "# Implementation of the Ternary Search algorithm\n",
    "# The major difference from the Binary Search algorithm is that the input array is divided into three parts\n",
    "# (not two parts)\n",
    "class Solution:\n",
    "    def search(self, nums: List[int], target: int) -> int:\n",
    "        def ternarySearch(array, target):\n",
    "            low = 0\n",
    "            high = len(array) - 1\n",
    "            while high >= low:\n",
    "                mid1 = low + (high - low) // 3\n",
    "                mid2 = high - (high - low) // 3\n",
    "                # There will be two middle elements\n",
    "                if array[mid1] == target:\n",
    "                    return mid1\n",
    "                elif array[mid2] == target:\n",
    "                    return mid2\n",
    "                else:\n",
    "                    # Besides, the comparison takes place not between two elements (right and left subarrays), \n",
    "                    # but three elements\n",
    "                    if array[mid2] > target > array[mid1]:\n",
    "                        low = mid1 + 1\n",
    "                        high = mid2 - 1\n",
    "                    elif target > array[mid2]:\n",
    "                        low = mid2 + 1\n",
    "                    else:\n",
    "                        high = mid1 - 1\n",
    "            return -1\n",
    "        result = ternarySearch(nums, target)\n",
    "        return result\n",
    "a = Solution()\n",
    "a.search([-1,0,3,5,9,12], 9)"
   ]
  }
 ],
 "metadata": {
  "kernelspec": {
   "display_name": "Python 3 (ipykernel)",
   "language": "python",
   "name": "python3"
  },
  "language_info": {
   "codemirror_mode": {
    "name": "ipython",
    "version": 3
   },
   "file_extension": ".py",
   "mimetype": "text/x-python",
   "name": "python",
   "nbconvert_exporter": "python",
   "pygments_lexer": "ipython3",
   "version": "3.9.7"
  }
 },
 "nbformat": 4,
 "nbformat_minor": 5
}
