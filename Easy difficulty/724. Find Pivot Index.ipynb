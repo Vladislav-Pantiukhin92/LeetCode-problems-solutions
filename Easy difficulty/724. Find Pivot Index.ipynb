{
 "cells": [
  {
   "cell_type": "markdown",
   "id": "ccad8471",
   "metadata": {},
   "source": [
    "### 724. Find Pivot Index"
   ]
  },
  {
   "cell_type": "code",
   "execution_count": 11,
   "id": "901fa246",
   "metadata": {},
   "outputs": [
    {
     "data": {
      "text/plain": [
       "3"
      ]
     },
     "execution_count": 11,
     "metadata": {},
     "output_type": "execute_result"
    }
   ],
   "source": [
    "\"\"\"\n",
    "Given an array of integers nums, calculate the pivot index of this array.\n",
    "The pivot index is the index where the sum of all the numbers strictly to the left of the index is equal \n",
    "to the sum of all the numbers strictly to the index's right.\n",
    "\n",
    "If the index is on the left edge of the array, then the left sum is 0 because there are no elements \n",
    "to the left. This also applies to the right edge of the array.\n",
    "Return the leftmost pivot index. If no such index exists, return -1.\n",
    "\n",
    "Example 1:\n",
    "\n",
    "Input: nums = [1,7,3,6,5,6]\n",
    "Output: 3\n",
    "Explanation:\n",
    "The pivot index is 3.\n",
    "Left sum = nums[0] + nums[1] + nums[2] = 1 + 7 + 3 = 11\n",
    "Right sum = nums[4] + nums[5] = 5 + 6 = 11\n",
    "Example 2:\n",
    "\n",
    "Input: nums = [1,2,3]\n",
    "Output: -1\n",
    "Explanation:\n",
    "There is no index that satisfies the conditions in the problem statement.\n",
    "Example 3:\n",
    "\n",
    "Input: nums = [2,1,-1]\n",
    "Output: 0\n",
    "Explanation:\n",
    "The pivot index is 0.\n",
    "Left sum = 0 (no elements to the left of index 0)\n",
    "Right sum = nums[1] + nums[2] = 1 + -1 = 0\n",
    "\"\"\"\n",
    "\n",
    "from functools import reduce # 'functools.reduce' will execute the summation operation\n",
    "from operator import * # 'operator.eq' will compare elements/values\n",
    "\n",
    "class Solution:\n",
    "    def pivotIndex(self, nums: List[int]) -> int:\n",
    "        if len(nums) < 2: # If the length of the given input list < 2 - we return 0\n",
    "            return 0\n",
    "        right_sum = reduce(lambda x, y: x + y, nums[1:]) # We can calculate the initial sum of the right side - \n",
    "        # the sum of the overall list - the first element\n",
    "        left_sum = 0 # The initial sum of the left side is 0\n",
    "        if eq(left_sum, right_sum): # If two sides are already equal - we return 0\n",
    "            return 0\n",
    "        i = 1\n",
    "        while i < len(nums): # During all the iterations, each time the value is subtracted from the right side, \n",
    "            # as well as added to the left side\n",
    "            right_sum -= nums[i]\n",
    "            left_sum += nums[i - 1]\n",
    "            if eq(left_sum, right_sum): # The subsequent comparison of the obtained side values\n",
    "                return i\n",
    "            i += 1\n",
    "        return -1 # If, following the code implementation, the equality is not attained - we return -1\n",
    "    \n",
    "a = Solution()\n",
    "a.pivotIndex([1,7,3,6,5,6])"
   ]
  }
 ],
 "metadata": {
  "kernelspec": {
   "display_name": "Python 3 (ipykernel)",
   "language": "python",
   "name": "python3"
  },
  "language_info": {
   "codemirror_mode": {
    "name": "ipython",
    "version": 3
   },
   "file_extension": ".py",
   "mimetype": "text/x-python",
   "name": "python",
   "nbconvert_exporter": "python",
   "pygments_lexer": "ipython3",
   "version": "3.9.7"
  }
 },
 "nbformat": 4,
 "nbformat_minor": 5
}
