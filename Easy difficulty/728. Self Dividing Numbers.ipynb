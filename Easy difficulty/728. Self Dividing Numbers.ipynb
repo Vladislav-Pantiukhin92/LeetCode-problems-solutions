{
 "cells": [
  {
   "cell_type": "markdown",
   "id": "cd103e5b",
   "metadata": {},
   "source": [
    "### 728. Self Dividing Numbers"
   ]
  },
  {
   "cell_type": "code",
   "execution_count": 180,
   "id": "11fa4272",
   "metadata": {},
   "outputs": [
    {
     "data": {
      "text/plain": [
       "[48, 55, 66, 77]"
      ]
     },
     "execution_count": 180,
     "metadata": {},
     "output_type": "execute_result"
    }
   ],
   "source": [
    "\"\"\"\n",
    "A self-dividing number is a number that is divisible by every digit it contains.\n",
    "For example, 128 is a self-dividing number because 128 % 1 == 0, 128 % 2 == 0, and 128 % 8 == 0.\n",
    "A self-dividing number is not allowed to contain the digit zero.\n",
    "Given two integers left and right, return a list of all the self-dividing numbers in the range [left, right].\n",
    "Example 1:\n",
    "\n",
    "Input: left = 1, right = 22\n",
    "Output: [1,2,3,4,5,6,7,8,9,11,12,15,22]\n",
    "Example 2:\n",
    "\n",
    "Input: left = 47, right = 85\n",
    "Output: [48,55,66,77]\n",
    "\"\"\"\n",
    "\n",
    "class Solution:\n",
    "    def selfDividingNumbers(self, left: int, right: int) -> List[int]:\n",
    "        # First of all, we are going to generate the inclusive range of numbers (the numbers, which contain \n",
    "        # zeros, will be omitted)\n",
    "        my_list = list(filter(lambda x: \"0\" not in str(x), list(range(left, right + 1))))\n",
    "        # Let's implement the customized filter_function, aimed at removing not self-dividing numbers\n",
    "        def filter_func(x):\n",
    "            divisors = list(map(int, list(str(x))))\n",
    "            for i in divisors:\n",
    "                if x % i != 0:\n",
    "                    return False\n",
    "            return True\n",
    "        return list(filter(filter_func, my_list)) # Integration of the filter_function and the final return result\n",
    "    \n",
    "a = Solution()\n",
    "a.selfDividingNumbers(47, 85)"
   ]
  }
 ],
 "metadata": {
  "kernelspec": {
   "display_name": "Python 3 (ipykernel)",
   "language": "python",
   "name": "python3"
  },
  "language_info": {
   "codemirror_mode": {
    "name": "ipython",
    "version": 3
   },
   "file_extension": ".py",
   "mimetype": "text/x-python",
   "name": "python",
   "nbconvert_exporter": "python",
   "pygments_lexer": "ipython3",
   "version": "3.9.7"
  }
 },
 "nbformat": 4,
 "nbformat_minor": 5
}
