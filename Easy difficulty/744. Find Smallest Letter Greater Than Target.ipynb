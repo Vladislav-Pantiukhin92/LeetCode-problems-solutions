{
 "cells": [
  {
   "cell_type": "markdown",
   "id": "ac2261f1",
   "metadata": {},
   "source": [
    "### 744. Find Smallest Letter Greater Than Target"
   ]
  },
  {
   "cell_type": "code",
   "execution_count": 12,
   "id": "0ae1bb44",
   "metadata": {},
   "outputs": [
    {
     "data": {
      "text/plain": [
       "'c'"
      ]
     },
     "execution_count": 12,
     "metadata": {},
     "output_type": "execute_result"
    }
   ],
   "source": [
    "\"\"\"\n",
    "Given a characters array letters that is sorted in non-decreasing order and a character target, \n",
    "return the smallest character in the array that is larger than target.\n",
    "Note that the letters wrap around.\n",
    "For example, if target == 'z' and letters == ['a', 'b'], the answer is 'a'.\n",
    "Example 1:\n",
    "\n",
    "Input: letters = [\"c\",\"f\",\"j\"], target = \"a\"\n",
    "Output: \"c\"\n",
    "Example 2:\n",
    "\n",
    "Input: letters = [\"c\",\"f\",\"j\"], target = \"c\"\n",
    "Output: \"f\"\n",
    "Example 3:\n",
    "\n",
    "Input: letters = [\"c\",\"f\",\"j\"], target = \"d\"\n",
    "Output: \"f\"\n",
    "\"\"\"\n",
    "\n",
    "import string\n",
    "\n",
    "class Solution:\n",
    "    def nextGreatestLetter(self, letters: List[str], target: str) -> str:\n",
    "        lowercase_ = string.ascii_lowercase * 2 # Circular alphabet structure can be replicated through\n",
    "        # doubling of the lowercase English alphabet\n",
    "        curIndex = lowercase_.index(target) # We find the address/index of the target letter\n",
    "        alphabet = lowercase_[curIndex + 1:] # After that, we create the target slice without the target letter\n",
    "        for i in alphabet: # The final step is to search the first letter from 'letters', which will be returned\n",
    "            if i in letters:\n",
    "                return i\n",
    "            \n",
    "a = Solution()\n",
    "a.nextGreatestLetter([\"c\",\"f\",\"j\"], \"a\")"
   ]
  }
 ],
 "metadata": {
  "kernelspec": {
   "display_name": "Python 3 (ipykernel)",
   "language": "python",
   "name": "python3"
  },
  "language_info": {
   "codemirror_mode": {
    "name": "ipython",
    "version": 3
   },
   "file_extension": ".py",
   "mimetype": "text/x-python",
   "name": "python",
   "nbconvert_exporter": "python",
   "pygments_lexer": "ipython3",
   "version": "3.9.7"
  }
 },
 "nbformat": 4,
 "nbformat_minor": 5
}
