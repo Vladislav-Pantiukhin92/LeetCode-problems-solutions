{
 "cells": [
  {
   "cell_type": "markdown",
   "id": "10d56f66",
   "metadata": {},
   "source": [
    "### 747. Largest Number At Least Twice of Others"
   ]
  },
  {
   "cell_type": "code",
   "execution_count": 41,
   "id": "b48e76db",
   "metadata": {},
   "outputs": [
    {
     "data": {
      "text/plain": [
       "1"
      ]
     },
     "execution_count": 41,
     "metadata": {},
     "output_type": "execute_result"
    }
   ],
   "source": [
    "\"\"\"\n",
    "You are given an integer array nums where the largest integer is unique.\n",
    "Determine whether the largest element in the array is at least twice as much as every other number \n",
    "in the array. If it is, return the index of the largest element, or return -1 otherwise.\n",
    "Example 1:\n",
    "\n",
    "Input: nums = [3,6,1,0]\n",
    "Output: 1\n",
    "Explanation: 6 is the largest integer.\n",
    "For every other number in the array x, 6 is at least twice as big as x.\n",
    "The index of value 6 is 1, so we return 1.\n",
    "Example 2:\n",
    "\n",
    "Input: nums = [1,2,3,4]\n",
    "Output: -1\n",
    "Explanation: 4 is less than twice the value of 3, so we return -1.\n",
    "Example 3:\n",
    "\n",
    "Input: nums = [1]\n",
    "Output: 0\n",
    "Explanation: 1 is trivially at least twice the value as any other number because there are no other numbers.\n",
    "\"\"\"\n",
    "\n",
    "from heapq import nlargest # 'heapq.nlargest' will be needed to extract two the biggest elements in the input list\n",
    "\n",
    "class Solution:\n",
    "    def dominantIndex(self, nums: List[int]) -> int:\n",
    "        if len(nums) < 2: # The special case - when there is 0 or 1 element in the input list - return 0\n",
    "            return 0\n",
    "        # Two the biggest elements will be extracted as well as sorted in ascending order (in this case, the \n",
    "        # first element will be smaller and the second one will be greater among two the biggest elements in the input list)\n",
    "        two_largest = sorted(nlargest(2, nums)) \n",
    "        if two_largest[0] * 2 <= two_largest[1]: # The condition should be inspected\n",
    "            return nums.index(two_largest[1])\n",
    "        return -1\n",
    "    \n",
    "a = Solution()\n",
    "a.dominantIndex([3,6,1,0])"
   ]
  }
 ],
 "metadata": {
  "kernelspec": {
   "display_name": "Python 3 (ipykernel)",
   "language": "python",
   "name": "python3"
  },
  "language_info": {
   "codemirror_mode": {
    "name": "ipython",
    "version": 3
   },
   "file_extension": ".py",
   "mimetype": "text/x-python",
   "name": "python",
   "nbconvert_exporter": "python",
   "pygments_lexer": "ipython3",
   "version": "3.9.7"
  }
 },
 "nbformat": 4,
 "nbformat_minor": 5
}
