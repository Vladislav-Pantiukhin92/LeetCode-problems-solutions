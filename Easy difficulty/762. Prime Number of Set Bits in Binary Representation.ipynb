{
 "cells": [
  {
   "cell_type": "markdown",
   "id": "0c5428af",
   "metadata": {},
   "source": [
    "### 762. Prime Number of Set Bits in Binary Representation"
   ]
  },
  {
   "cell_type": "code",
   "execution_count": 36,
   "id": "e53e0823",
   "metadata": {},
   "outputs": [
    {
     "data": {
      "text/plain": [
       "5"
      ]
     },
     "execution_count": 36,
     "metadata": {},
     "output_type": "execute_result"
    }
   ],
   "source": [
    "\"\"\"\n",
    "Given two integers left and right, return the count of numbers in the inclusive range [left, right] \n",
    "having a prime number of set bits in their binary representation.\n",
    "Recall that the number of set bits an integer has is the number of 1's present when written in binary.\n",
    "For example, 21 written in binary is 10101, which has 3 set bits.\n",
    "Example 1:\n",
    "\n",
    "Input: left = 6, right = 10\n",
    "Output: 4\n",
    "Explanation:\n",
    "6  -> 110 (2 set bits, 2 is prime)\n",
    "7  -> 111 (3 set bits, 3 is prime)\n",
    "8  -> 1000 (1 set bit, 1 is not prime)\n",
    "9  -> 1001 (2 set bits, 2 is prime)\n",
    "10 -> 1010 (2 set bits, 2 is prime)\n",
    "4 numbers have a prime number of set bits.\n",
    "Example 2:\n",
    "\n",
    "Input: left = 10, right = 15\n",
    "Output: 5\n",
    "Explanation:\n",
    "10 -> 1010 (2 set bits, 2 is prime)\n",
    "11 -> 1011 (3 set bits, 3 is prime)\n",
    "12 -> 1100 (2 set bits, 2 is prime)\n",
    "13 -> 1101 (3 set bits, 3 is prime)\n",
    "14 -> 1110 (3 set bits, 3 is prime)\n",
    "15 -> 1111 (4 set bits, 4 is not prime)\n",
    "5 numbers have a prime number of set bits.\n",
    "\"\"\"\n",
    "\n",
    "class Solution:\n",
    "    def countPrimeSetBits(self, left: int, right: int) -> int:\n",
    "        range_lst = list(range(left, right + 1)) # The relevant range_list is generated\n",
    "        # We need to understand prime numbers, so it is important to have the list of prime numbers from 1 to 100\n",
    "        prime_nums = [2,3,5,7,11,13,17,19,23,29,31,37,41,43,47,53,59,61,67,71,73,79,83,89,97]\n",
    "        countRes = 0 # The count variable will accumulate the number of prime set bits\n",
    "        for i in range_lst:\n",
    "            binRepr = bin(i).lstrip(\"0b\") # Binary transformation \n",
    "            binRepr = binRepr.replace(\"0\", \"\") # Zeros are removed\n",
    "            # 1s are counted\n",
    "            if binRepr.count(\"1\") in prime_nums: # If the count is within the prime numbers list, the count will be taken into \n",
    "                # consideration\n",
    "                countRes += 1\n",
    "        return countRes\n",
    "    \n",
    "a = Solution()\n",
    "a.countPrimeSetBits(10, 15)"
   ]
  }
 ],
 "metadata": {
  "kernelspec": {
   "display_name": "Python 3 (ipykernel)",
   "language": "python",
   "name": "python3"
  },
  "language_info": {
   "codemirror_mode": {
    "name": "ipython",
    "version": 3
   },
   "file_extension": ".py",
   "mimetype": "text/x-python",
   "name": "python",
   "nbconvert_exporter": "python",
   "pygments_lexer": "ipython3",
   "version": "3.9.7"
  }
 },
 "nbformat": 4,
 "nbformat_minor": 5
}
