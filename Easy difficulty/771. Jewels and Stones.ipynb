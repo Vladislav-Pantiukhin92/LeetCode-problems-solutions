{
 "cells": [
  {
   "cell_type": "markdown",
   "id": "b72f4b6e",
   "metadata": {},
   "source": [
    "### 771. Jewels and Stones"
   ]
  },
  {
   "cell_type": "code",
   "execution_count": 32,
   "id": "fd126ec1",
   "metadata": {},
   "outputs": [
    {
     "data": {
      "text/plain": [
       "3"
      ]
     },
     "execution_count": 32,
     "metadata": {},
     "output_type": "execute_result"
    }
   ],
   "source": [
    "\"\"\"\n",
    "You're given strings jewels representing the types of stones that are jewels, and stones representing \n",
    "the stones you have. Each character in stones is a type of stone you have. \n",
    "You want to know how many of the stones you have are also jewels.\n",
    "Letters are case sensitive, so \"a\" is considered a different type of stone from \"A\".\n",
    "Example 1:\n",
    "\n",
    "Input: jewels = \"aA\", stones = \"aAAbbbb\"\n",
    "Output: 3\n",
    "Example 2:\n",
    "\n",
    "Input: jewels = \"z\", stones = \"ZZ\"\n",
    "Output: 0\n",
    "\"\"\"\n",
    "\n",
    "import re # Regular expressions\n",
    "\n",
    "class Solution:\n",
    "    def numJewelsInStones(self, jewels: str, stones: str) -> int:\n",
    "        final = [] # The list will store all patterns, which are jewels\n",
    "        for i in jewels: # Each letter in 'jewels' is a jewel, so we are going to find existing patterns within \n",
    "            # 'stones' with the help of regular expressions\n",
    "            result = re.findall(i, stones)\n",
    "            # All patterns are stored within the final list\n",
    "            final += result \n",
    "        return len(final) # The return result is the length of the final list\n",
    "    \n",
    "a = Solution()\n",
    "a.numJewelsInStones(\"aA\", \"aAAbbbb\")"
   ]
  }
 ],
 "metadata": {
  "kernelspec": {
   "display_name": "Python 3 (ipykernel)",
   "language": "python",
   "name": "python3"
  },
  "language_info": {
   "codemirror_mode": {
    "name": "ipython",
    "version": 3
   },
   "file_extension": ".py",
   "mimetype": "text/x-python",
   "name": "python",
   "nbconvert_exporter": "python",
   "pygments_lexer": "ipython3",
   "version": "3.9.7"
  }
 },
 "nbformat": 4,
 "nbformat_minor": 5
}
