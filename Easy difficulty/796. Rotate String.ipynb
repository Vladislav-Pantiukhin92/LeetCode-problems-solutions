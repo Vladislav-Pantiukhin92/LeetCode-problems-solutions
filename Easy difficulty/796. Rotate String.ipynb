{
 "cells": [
  {
   "cell_type": "markdown",
   "id": "37867e3f",
   "metadata": {},
   "source": [
    "### 796. Rotate String"
   ]
  },
  {
   "cell_type": "code",
   "execution_count": 44,
   "id": "4c942599",
   "metadata": {},
   "outputs": [
    {
     "data": {
      "text/plain": [
       "True"
      ]
     },
     "execution_count": 44,
     "metadata": {},
     "output_type": "execute_result"
    }
   ],
   "source": [
    "\"\"\"\n",
    "Given two strings s and goal, return true if and only if s can become goal after some number of shifts on s.\n",
    "A shift on s consists of moving the leftmost character of s to the rightmost position.\n",
    "For example, if s = \"abcde\", then it will be \"bcdea\" after one shift. \n",
    "Example 1:\n",
    "\n",
    "Input: s = \"abcde\", goal = \"cdeab\"\n",
    "Output: true\n",
    "Example 2:\n",
    "\n",
    "Input: s = \"abcde\", goal = \"abced\"\n",
    "Output: false\n",
    "\"\"\"\n",
    "\n",
    "from collections import deque # 'collections.deque' will be used for a double-ended queue\n",
    "\n",
    "class Solution:\n",
    "    def rotateString(self, s: str, goal: str) -> bool:\n",
    "        theDeque = deque(str(s))\n",
    "        length = len(s)\n",
    "        for _ in range(length): # The maximum amount of iterations to determine the final result equals to\n",
    "            # the length of the input string. In case of more iterations, the verification doesn't make sense\n",
    "            if \"\".join(list(theDeque)) == goal:\n",
    "                return True\n",
    "            else:\n",
    "                # Implementation of a double-ended queue - the leftmost element is extracted\n",
    "                leftmost = theDeque.popleft()\n",
    "                # And after that it is added as the rightmost element\n",
    "                theDeque.append(leftmost)\n",
    "        return False\n",
    "    \n",
    "a = Solution()\n",
    "a.rotateString(\"abcde\", \"cdeab\")"
   ]
  }
 ],
 "metadata": {
  "kernelspec": {
   "display_name": "Python 3 (ipykernel)",
   "language": "python",
   "name": "python3"
  },
  "language_info": {
   "codemirror_mode": {
    "name": "ipython",
    "version": 3
   },
   "file_extension": ".py",
   "mimetype": "text/x-python",
   "name": "python",
   "nbconvert_exporter": "python",
   "pygments_lexer": "ipython3",
   "version": "3.9.7"
  }
 },
 "nbformat": 4,
 "nbformat_minor": 5
}
