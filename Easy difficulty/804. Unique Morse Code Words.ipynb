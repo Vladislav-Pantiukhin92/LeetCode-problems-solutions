{
 "cells": [
  {
   "cell_type": "markdown",
   "id": "f5357b75",
   "metadata": {},
   "source": [
    "### 804. Unique Morse Code Words"
   ]
  },
  {
   "cell_type": "code",
   "execution_count": 19,
   "id": "60f05fa0",
   "metadata": {},
   "outputs": [
    {
     "data": {
      "text/plain": [
       "2"
      ]
     },
     "execution_count": 19,
     "metadata": {},
     "output_type": "execute_result"
    }
   ],
   "source": [
    "\"\"\"\n",
    "International Morse Code defines a standard encoding where each letter is mapped to a series of dots and \n",
    "dashes, as follows:\n",
    "\n",
    "'a' maps to \".-\",\n",
    "'b' maps to \"-...\",\n",
    "'c' maps to \"-.-.\", and so on.\n",
    "For convenience, the full table for the 26 letters of the English alphabet is given below:\n",
    "\n",
    "[\".-\",\"-...\",\"-.-.\",\"-..\",\".\",\"..-.\",\"--.\",\"....\",\"..\",\".---\",\"-.-\",\".-..\",\"--\",\"-.\",\"---\",\".--.\",\"--.-\",\n",
    "\".-.\",\"...\",\"-\",\"..-\",\"...-\",\".--\",\"-..-\",\"-.--\",\"--..\"]\n",
    "Given an array of strings words where each word can be written as a concatenation of the Morse code of each letter.\n",
    "For example, \"cab\" can be written as \"-.-..--...\", which is the concatenation of \"-.-.\", \".-\", and \"-...\". \n",
    "We will call such a concatenation the transformation of a word.\n",
    "Return the number of different transformations among all words we have.\n",
    "Example 1:\n",
    "\n",
    "Input: words = [\"gin\",\"zen\",\"gig\",\"msg\"]\n",
    "Output: 2\n",
    "Explanation: The transformation of each word is:\n",
    "\"gin\" -> \"--...-.\"\n",
    "\"zen\" -> \"--...-.\"\n",
    "\"gig\" -> \"--...--.\"\n",
    "\"msg\" -> \"--...--.\"\n",
    "There are 2 different transformations: \"--...-.\" and \"--...--.\".\n",
    "Example 2:\n",
    "\n",
    "Input: words = [\"a\"]\n",
    "Output: 1\n",
    "\"\"\"\n",
    "\n",
    "import string # With the help of the 'string module' we will create the dictionary, where keys are English \n",
    "# letters and values are represented by the corresponding Morse code\n",
    "\n",
    "class Solution:\n",
    "    def uniqueMorseRepresentations(self, words: List[str]) -> int:\n",
    "        # The following list of characters is the representation of English letters by the Morse code\n",
    "        morse_range = [\".-\",\"-...\",\"-.-.\",\"-..\",\".\",\"..-.\",\"--.\",\"....\",\"..\",\".---\",\"-.-\",\".-..\",\"--\",\"-.\",\n",
    "                       \"---\",\".--.\",\"--.-\",\".-.\",\"...\",\"-\",\"..-\",\"...-\",\".--\",\"-..-\",\"-.--\",\"--..\"]\n",
    "        lowercase = string.ascii_lowercase # Let's import the English alphabet from the 'string module'\n",
    "        morse_dict = dict(list(zip(lowercase, morse_range))) # The next step is to build the above-mentioned \n",
    "        # dictionary\n",
    "        def func_transform(x): # It is the function, aimed at transforming the letters of words into the Morse code\n",
    "            result = \"\".join(list(map(lambda x: morse_dict[x], list(x))))\n",
    "            return result\n",
    "        final = list(set(list(map(func_transform, words)))) # Using the aforementioned function and the 'map' \n",
    "        # function we obtain the list of the Morse code representations\n",
    "        return len(final) # The final result is represented by the length of this list\n",
    "    \n",
    "a = Solution()\n",
    "a.uniqueMorseRepresentations([\"gin\",\"zen\",\"gig\",\"msg\"])"
   ]
  }
 ],
 "metadata": {
  "kernelspec": {
   "display_name": "Python 3 (ipykernel)",
   "language": "python",
   "name": "python3"
  },
  "language_info": {
   "codemirror_mode": {
    "name": "ipython",
    "version": 3
   },
   "file_extension": ".py",
   "mimetype": "text/x-python",
   "name": "python",
   "nbconvert_exporter": "python",
   "pygments_lexer": "ipython3",
   "version": "3.9.7"
  }
 },
 "nbformat": 4,
 "nbformat_minor": 5
}
