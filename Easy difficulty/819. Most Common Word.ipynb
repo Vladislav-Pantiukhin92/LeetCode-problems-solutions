{
 "cells": [
  {
   "cell_type": "markdown",
   "id": "eea240fb",
   "metadata": {},
   "source": [
    "### 819. Most Common Word"
   ]
  },
  {
   "cell_type": "code",
   "execution_count": 29,
   "id": "92cf00ff",
   "metadata": {},
   "outputs": [
    {
     "data": {
      "text/plain": [
       "'ball'"
      ]
     },
     "execution_count": 29,
     "metadata": {},
     "output_type": "execute_result"
    }
   ],
   "source": [
    "\"\"\"\n",
    "Given a string paragraph and a string array of the banned words banned, return the most frequent \n",
    "word that is not banned. It is guaranteed there is at least one word that is not banned, and that the answer is unique.\n",
    "The words in paragraph are case-insensitive and the answer should be returned in lowercase.\n",
    "Example 1:\n",
    "\n",
    "Input: paragraph = \"Bob hit a ball, the hit BALL flew far after it was hit.\", banned = [\"hit\"]\n",
    "Output: \"ball\"\n",
    "Explanation: \n",
    "\"hit\" occurs 3 times, but it is a banned word.\n",
    "\"ball\" occurs twice (and no other word does), so it is the most frequent non-banned word in the paragraph. \n",
    "Note that words in the paragraph are not case sensitive,\n",
    "that punctuation is ignored (even if adjacent to words, such as \"ball,\"), \n",
    "and that \"hit\" isn't the answer even though it occurs more because it is banned.\n",
    "Example 2:\n",
    "\n",
    "Input: paragraph = \"a.\", banned = []\n",
    "Output: \"a\"\n",
    "\"\"\"\n",
    "\n",
    "from collections import Counter # Creation of the dictionary, where keys are words and values are their occcurences\n",
    "from operator import * # 'operator.itemgetter' to sort the array properly\n",
    "import re # Regular expressions \n",
    "\n",
    "class Solution:\n",
    "    def mostCommonWord(self, paragraph: str, banned: List[str]) -> str:\n",
    "        paragraph = paragraph.casefold() # Lowercase words convertion\n",
    "        for i in banned: # With the help of str.replace() all banned words will be deleted from the string\n",
    "            paragraph = paragraph.replace(i, \"\")\n",
    "        all_words = re.findall(r\"[a-z]+\", paragraph) # Regular expressions help to extract remaining words (just letters)\n",
    "        # The dictionary of occurrences is transformed into the list of tuples with key-value pairs\n",
    "        # The list is sorted with regard to the second argument (that is, occurrences) and the first argument of \n",
    "        # the last tuple is returned (because it is the most frequent word)\n",
    "        final = sorted(list(dict(Counter(all_words)).items()), key=itemgetter(1))\n",
    "        return final[-1][0]\n",
    "    \n",
    "a = Solution()\n",
    "a.mostCommonWord(\"Bob hit a ball, the hit BALL flew far after it was hit.\", [\"hit\"])"
   ]
  }
 ],
 "metadata": {
  "kernelspec": {
   "display_name": "Python 3 (ipykernel)",
   "language": "python",
   "name": "python3"
  },
  "language_info": {
   "codemirror_mode": {
    "name": "ipython",
    "version": 3
   },
   "file_extension": ".py",
   "mimetype": "text/x-python",
   "name": "python",
   "nbconvert_exporter": "python",
   "pygments_lexer": "ipython3",
   "version": "3.9.7"
  }
 },
 "nbformat": 4,
 "nbformat_minor": 5
}
