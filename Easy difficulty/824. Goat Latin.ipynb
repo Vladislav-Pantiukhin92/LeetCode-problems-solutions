{
 "cells": [
  {
   "cell_type": "markdown",
   "id": "8c3b8c21",
   "metadata": {},
   "source": [
    "### 824. Goat Latin"
   ]
  },
  {
   "cell_type": "code",
   "execution_count": 11,
   "id": "c6136545",
   "metadata": {},
   "outputs": [
    {
     "data": {
      "text/plain": [
       "'Imaa peaksmaaa oatGmaaaa atinLmaaaaa'"
      ]
     },
     "execution_count": 11,
     "metadata": {},
     "output_type": "execute_result"
    }
   ],
   "source": [
    "\"\"\"\n",
    "You are given a string sentence that consist of words separated by spaces. Each word consists of \n",
    "lowercase and uppercase letters only.\n",
    "We would like to convert the sentence to \"Goat Latin\" (a made-up language similar to Pig Latin.) \n",
    "The rules of Goat Latin are as follows:\n",
    "If a word begins with a vowel ('a', 'e', 'i', 'o', or 'u'), append \"ma\" to the end of the word.\n",
    "For example, the word \"apple\" becomes \"applema\".\n",
    "If a word begins with a consonant (i.e., not a vowel), remove the first letter and append it to the end, then add \"ma\".\n",
    "For example, the word \"goat\" becomes \"oatgma\".\n",
    "Add one letter 'a' to the end of each word per its word index in the sentence, starting with 1.\n",
    "For example, the first word gets \"a\" added to the end, the second word gets \"aa\" added to the end, and so on.\n",
    "Return the final sentence representing the conversion from sentence to Goat Latin.\n",
    "Example 1:\n",
    "\n",
    "Input: sentence = \"I speak Goat Latin\"\n",
    "Output: \"Imaa peaksmaaa oatGmaaaa atinLmaaaaa\"\n",
    "Example 2:\n",
    "\n",
    "Input: sentence = \"The quick brown fox jumped over the lazy dog\"\n",
    "Output: \"heTmaa uickqmaaa rownbmaaaa oxfmaaaaa umpedjmaaaaaa overmaaaaaaa hetmaaaaaaaa azylmaaaaaaaaa ogdmaaaaaaaaaa\"\n",
    "\"\"\"\n",
    "\n",
    "class Solution:\n",
    "    def toGoatLatin(self, sentence: str) -> str:\n",
    "        my_list = sentence.split() # To work separately with each word it is necessary to split the sentence into \n",
    "        # the number of strings\n",
    "        final = [] # This list container will store the transformed string words\n",
    "        vowels = [\"a\",\"e\",\"i\",\"o\",\"u\",\"A\",\"E\",\"I\",\"O\",\"U\"] # Let's create the list of lowercase and uppercase vowels, \n",
    "        # which are to be taken into account, while iterating over words\n",
    "        for i, j in enumerate(my_list, 1): # To implement all the problem's requirements it is important to know \n",
    "            # the index. It is facilitated by the 'enumerate' function \n",
    "            if j[0] in vowels: # The case, when the first letter is among uppercase or lowercase vowels\n",
    "                j += \"ma\"\n",
    "                extra = i * \"a\" # The case, when the 'enumerate' function is useful\n",
    "                word = j + extra\n",
    "            else:\n",
    "                curList = list(j) # The case, when the first letter is among uppercase or lowercase consonants\n",
    "                elem = curList.pop(0)\n",
    "                curList.append(elem)\n",
    "                curList.append(\"ma\")\n",
    "                extra = i * \"a\"\n",
    "                word = \"\".join(curList) + extra\n",
    "            final.append(word)\n",
    "        return \" \".join(final) # The string is returned again\n",
    "    \n",
    "a = Solution()\n",
    "a.toGoatLatin(\"I speak Goat Latin\")"
   ]
  }
 ],
 "metadata": {
  "kernelspec": {
   "display_name": "Python 3 (ipykernel)",
   "language": "python",
   "name": "python3"
  },
  "language_info": {
   "codemirror_mode": {
    "name": "ipython",
    "version": 3
   },
   "file_extension": ".py",
   "mimetype": "text/x-python",
   "name": "python",
   "nbconvert_exporter": "python",
   "pygments_lexer": "ipython3",
   "version": "3.9.7"
  }
 },
 "nbformat": 4,
 "nbformat_minor": 5
}
