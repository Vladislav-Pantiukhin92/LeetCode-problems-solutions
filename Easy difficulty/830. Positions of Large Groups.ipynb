{
 "cells": [
  {
   "cell_type": "markdown",
   "id": "d3ef7c56",
   "metadata": {},
   "source": [
    "### 830. Positions of Large Groups"
   ]
  },
  {
   "cell_type": "code",
   "execution_count": 71,
   "id": "d49adb5b",
   "metadata": {},
   "outputs": [
    {
     "data": {
      "text/plain": [
       "[]"
      ]
     },
     "execution_count": 71,
     "metadata": {},
     "output_type": "execute_result"
    }
   ],
   "source": [
    "\"\"\"\n",
    "In a string s of lowercase letters, these letters form consecutive groups of the same character.\n",
    "For example, a string like s = \"abbxxxxzyy\" has the groups \"a\", \"bb\", \"xxxx\", \"z\", and \"yy\".\n",
    "A group is identified by an interval [start, end], where start and end denote the start and end \n",
    "indices (inclusive) of the group. In the above example, \"xxxx\" has the interval [3,6].\n",
    "A group is considered large if it has 3 or more characters.\n",
    "Return the intervals of every large group sorted in increasing order by start index.\n",
    "Example 1:\n",
    "\n",
    "Input: s = \"abbxxxxzzy\"\n",
    "Output: [[3,6]]\n",
    "Explanation: \"xxxx\" is the only large group with start index 3 and end index 6.\n",
    "Example 2:\n",
    "\n",
    "Input: s = \"abc\"\n",
    "Output: []\n",
    "Explanation: We have groups \"a\", \"b\", and \"c\", none of which are large groups.\n",
    "Example 3:\n",
    "\n",
    "Input: s = \"abcdddeeeeaabbbcd\"\n",
    "Output: [[3,5],[6,9],[12,14]]\n",
    "Explanation: The large groups are \"ddd\", \"eeee\", and \"bbb\".\n",
    "\"\"\"\n",
    "\n",
    "from itertools import groupby # 'itertools.groupby' will group unique values, while creating the list of duplicates\n",
    "from itertools import count # 'itertools.groupby' will help to create the list of tuples, where each tuple contains\n",
    "# the unique letter and its index\n",
    "\n",
    "class Solution:\n",
    "    def largeGroupPositions(self, s: str) -> List[List[int]]:\n",
    "        final = [] # The list container, which will store lists of indices\n",
    "        my_list = list(zip(s, count())) # Zip_list with letters and their indices\n",
    "        key_func = lambda x: x[0]\n",
    "        for key, group in groupby(my_list, key=key_func):\n",
    "            curList = list(group)\n",
    "            length = len(curList)\n",
    "            if length >= 3: # We will include only indices of those letters' chunks, the length of which\n",
    "                # equals to or is longer than 3\n",
    "                start = curList[0][1]\n",
    "                end = curList[-1][1]\n",
    "                final.append([start, end])\n",
    "        return final # The final result is returned\n",
    "    \n",
    "a = Solution()\n",
    "a.largeGroupPositions(\"abc\")"
   ]
  }
 ],
 "metadata": {
  "kernelspec": {
   "display_name": "Python 3 (ipykernel)",
   "language": "python",
   "name": "python3"
  },
  "language_info": {
   "codemirror_mode": {
    "name": "ipython",
    "version": 3
   },
   "file_extension": ".py",
   "mimetype": "text/x-python",
   "name": "python",
   "nbconvert_exporter": "python",
   "pygments_lexer": "ipython3",
   "version": "3.9.7"
  }
 },
 "nbformat": 4,
 "nbformat_minor": 5
}
