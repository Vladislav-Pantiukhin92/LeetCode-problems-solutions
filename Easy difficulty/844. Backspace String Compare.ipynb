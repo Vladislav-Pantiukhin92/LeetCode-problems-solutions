{
 "cells": [
  {
   "cell_type": "markdown",
   "id": "01ca4165",
   "metadata": {},
   "source": [
    "### 844. Backspace String Compare"
   ]
  },
  {
   "cell_type": "code",
   "execution_count": 4,
   "id": "86bbd2a9",
   "metadata": {},
   "outputs": [
    {
     "data": {
      "text/plain": [
       "True"
      ]
     },
     "execution_count": 4,
     "metadata": {},
     "output_type": "execute_result"
    }
   ],
   "source": [
    "\"\"\"\n",
    "Given two strings s and t, return true if they are equal when both are typed into empty text editors. \n",
    "'#' means a backspace character.\n",
    "Note that after backspacing an empty text, the text will continue empty.\n",
    "Example 1:\n",
    "\n",
    "Input: s = \"ab#c\", t = \"ad#c\"\n",
    "Output: true\n",
    "Explanation: Both s and t become \"ac\".\n",
    "Example 2:\n",
    "\n",
    "Input: s = \"ab##\", t = \"c#d#\"\n",
    "Output: true\n",
    "Explanation: Both s and t become \"\".\n",
    "Example 3:\n",
    "\n",
    "Input: s = \"a#c\", t = \"b\"\n",
    "Output: false\n",
    "Explanation: s becomes \"c\" while t becomes \"b\".\n",
    "\"\"\"\n",
    "\n",
    "import re # Regular expressions will replace relevant patterns (exactly a lowercase letter + \"#\") with an empty \n",
    "# string\n",
    "\n",
    "class Solution:\n",
    "    def backspaceCompare(self, s: str, t: str) -> bool:\n",
    "        # First of all, let's count the number of \"#\" in two input strings \n",
    "        num1 = s.count(\"#\") # The number of \"#\" in the first input string\n",
    "        num2 = t.count(\"#\") # The number of \"#\" in the second input string\n",
    "        # This specific number determines the duration of the 'for loop', while replacing the aforementioned \n",
    "        # regexp pattern with an empty string\n",
    "        for _ in range(num1):\n",
    "            s = re.sub(r\"[a-z]\\#\", \"\", s)\n",
    "        for _ in range(num2):\n",
    "            t = re.sub(r\"[a-z]\\#\", \"\", t)\n",
    "        # Additionally we will try to remove the simple \"#\" without any characters before that\n",
    "        s = s.replace(\"#\", \"\")\n",
    "        t = t.replace(\"#\", \"\")\n",
    "        result = re.fullmatch(s, t) # 're.fullmatch' will compare two transformed strings\n",
    "        # If two strings are identical - we return True, if not - we return False\n",
    "        if result:\n",
    "            return True\n",
    "        return False\n",
    "    \n",
    "a = Solution()\n",
    "a.backspaceCompare(\"ab##\", \"c#d#\")"
   ]
  }
 ],
 "metadata": {
  "kernelspec": {
   "display_name": "Python 3 (ipykernel)",
   "language": "python",
   "name": "python3"
  },
  "language_info": {
   "codemirror_mode": {
    "name": "ipython",
    "version": 3
   },
   "file_extension": ".py",
   "mimetype": "text/x-python",
   "name": "python",
   "nbconvert_exporter": "python",
   "pygments_lexer": "ipython3",
   "version": "3.9.7"
  }
 },
 "nbformat": 4,
 "nbformat_minor": 5
}
