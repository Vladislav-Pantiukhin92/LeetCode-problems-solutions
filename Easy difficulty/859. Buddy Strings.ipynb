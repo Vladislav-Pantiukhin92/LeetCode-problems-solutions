{
 "cells": [
  {
   "cell_type": "markdown",
   "id": "cafd8ac6",
   "metadata": {},
   "source": [
    "### 859. Buddy Strings"
   ]
  },
  {
   "cell_type": "code",
   "execution_count": 11,
   "id": "96e702c9",
   "metadata": {},
   "outputs": [
    {
     "data": {
      "text/plain": [
       "True"
      ]
     },
     "execution_count": 11,
     "metadata": {},
     "output_type": "execute_result"
    }
   ],
   "source": [
    "\"\"\"\n",
    "Given two strings s and goal, return true if you can swap two letters in s so the result is equal to \n",
    "goal, otherwise, return false.\n",
    "Swapping letters is defined as taking two indices i and j (0-indexed) such that i != j and swapping \n",
    "the characters at s[i] and s[j].\n",
    "For example, swapping at indices 0 and 2 in \"abcd\" results in \"cbad\".\n",
    "\n",
    "Example 1:\n",
    "Input: s = \"ab\", goal = \"ba\"\n",
    "Output: true\n",
    "Explanation: You can swap s[0] = 'a' and s[1] = 'b' to get \"ba\", which is equal to goal.\n",
    "\n",
    "Example 2:\n",
    "Input: s = \"ab\", goal = \"ab\"\n",
    "Output: false\n",
    "Explanation: The only letters you can swap are s[0] = 'a' and s[1] = 'b', which results in \"ba\" != goal.\n",
    "Example 3:\n",
    "\n",
    "Input: s = \"aa\", goal = \"aa\"\n",
    "Output: true\n",
    "Explanation: You can swap s[0] = 'a' and s[1] = 'a' to get \"aa\", which is equal to goal.\n",
    "\"\"\"\n",
    "\n",
    "from collections import Counter # 'collections.Counter' is aimed at creating the dictionary structure of \n",
    "# the given input strings\n",
    "from operator import * # 'operator.eq' will compare strings\n",
    "\n",
    "class Solution:\n",
    "    def buddyStrings(self, s: str, goal: str) -> bool:\n",
    "        dict1 = dict(Counter(s)) # It is the dictionary structure of the first given input string\n",
    "        dict2 = dict(Counter(goal)) # It is the dictionary structure of the second given input string\n",
    "        if not eq(dict1, dict2): # If these dictionary structures are not equal - we return False immediately \n",
    "            return False\n",
    "        if eq(s, goal): # If these dictionary structures are absolutely equal, but the given input strings contain \n",
    "            # no duplicates - we return False, if duplicates exist - we return True\n",
    "            for i in dict1:\n",
    "                if dict1[i] > 1:\n",
    "                    return True\n",
    "            return False \n",
    "        required_dissimilarity = 2 # The required dissimilarity is 2 (strictly two characters are out of place)\n",
    "        def find_dissimilarity(string1, string2): # The function, which calculates the number of characters, which \n",
    "            # are out of place/location\n",
    "            i = 0\n",
    "            j = 0\n",
    "            count = 0\n",
    "            while i < len(string1): # Element-by-element comparison, using two pointers:\n",
    "                if string1[i] != string2[j]: \n",
    "                    count += 1\n",
    "                i += 1\n",
    "                j += 1\n",
    "            return count # The number of 'out-of-place' characters is returned\n",
    "        calc_discrepancy = find_dissimilarity(s, goal)\n",
    "        if eq(required_dissimilarity, calc_discrepancy): # If the number of 'out-of-place' characters equals to 2 - \n",
    "            # we return True\n",
    "            return True\n",
    "        return False # Otherwise, we return False\n",
    "    \n",
    "a = Solution()\n",
    "a.buddyStrings(\"aa\", \"aa\")"
   ]
  }
 ],
 "metadata": {
  "kernelspec": {
   "display_name": "Python 3 (ipykernel)",
   "language": "python",
   "name": "python3"
  },
  "language_info": {
   "codemirror_mode": {
    "name": "ipython",
    "version": 3
   },
   "file_extension": ".py",
   "mimetype": "text/x-python",
   "name": "python",
   "nbconvert_exporter": "python",
   "pygments_lexer": "ipython3",
   "version": "3.9.7"
  }
 },
 "nbformat": 4,
 "nbformat_minor": 5
}
