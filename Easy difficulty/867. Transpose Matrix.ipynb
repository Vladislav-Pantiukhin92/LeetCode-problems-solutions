{
 "cells": [
  {
   "cell_type": "markdown",
   "id": "06a33b54",
   "metadata": {},
   "source": [
    "### 867. Transpose Matrix"
   ]
  },
  {
   "cell_type": "code",
   "execution_count": 155,
   "id": "2cacefb2",
   "metadata": {},
   "outputs": [
    {
     "data": {
      "text/plain": [
       "array([[1, 4, 7],\n",
       "       [2, 5, 8],\n",
       "       [3, 6, 9]])"
      ]
     },
     "execution_count": 155,
     "metadata": {},
     "output_type": "execute_result"
    }
   ],
   "source": [
    "\"\"\"\n",
    "Given a 2D integer array matrix, return the transpose of matrix.\n",
    "The transpose of a matrix is the matrix flipped over its main diagonal, \n",
    "switching the matrix's row and column indices.\n",
    "Example 1:\n",
    "\n",
    "Input: matrix = [[1,2,3],[4,5,6],[7,8,9]]\n",
    "Output: [[1,4,7],[2,5,8],[3,6,9]]\n",
    "Example 2:\n",
    "\n",
    "Input: matrix = [[1,2,3],[4,5,6]]\n",
    "Output: [[1,4],[2,5],[3,6]]\n",
    "\"\"\"\n",
    "\n",
    "import numpy as np # It is possible to transpose the matrix (rows -> columns and columns -> rows) with the\n",
    "# help of 'numpy' library\n",
    "\n",
    "class Solution:\n",
    "    def transpose(self, matrix: List[List[int]]) -> List[List[int]]:\n",
    "        return np.array(matrix).transpose()\n",
    "    \n",
    "a = Solution()\n",
    "a.transpose([[1,2,3],[4,5,6],[7,8,9]])"
   ]
  }
 ],
 "metadata": {
  "kernelspec": {
   "display_name": "Python 3 (ipykernel)",
   "language": "python",
   "name": "python3"
  },
  "language_info": {
   "codemirror_mode": {
    "name": "ipython",
    "version": 3
   },
   "file_extension": ".py",
   "mimetype": "text/x-python",
   "name": "python",
   "nbconvert_exporter": "python",
   "pygments_lexer": "ipython3",
   "version": "3.9.7"
  }
 },
 "nbformat": 4,
 "nbformat_minor": 5
}
