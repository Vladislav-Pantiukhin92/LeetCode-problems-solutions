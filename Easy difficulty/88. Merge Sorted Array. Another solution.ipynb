{
 "cells": [
  {
   "cell_type": "markdown",
   "id": "dab3ec1f",
   "metadata": {},
   "source": [
    "### 88. Merge Sorted Array. Another solution"
   ]
  },
  {
   "cell_type": "code",
   "execution_count": 11,
   "id": "2f5f5976",
   "metadata": {},
   "outputs": [
    {
     "data": {
      "text/plain": [
       "[1, 2, 2, 3, 5, 6]"
      ]
     },
     "execution_count": 11,
     "metadata": {},
     "output_type": "execute_result"
    }
   ],
   "source": [
    "\"\"\"\n",
    "You are given two integer arrays nums1 and nums2, sorted in non-decreasing order, \n",
    "and two integers m and n, representing the number of elements in nums1 and nums2 respectively.\n",
    "Merge nums1 and nums2 into a single array sorted in non-decreasing order.\n",
    "The final sorted array should not be returned by the function, but instead be stored \n",
    "inside the array nums1. To accommodate this, nums1 has a length of m + n, where the first m elements \n",
    "denote the elements that should be merged, and the last n elements are set to 0 and should be ignored. \n",
    "nums2 has a length of n.\n",
    "Example 1:\n",
    "\n",
    "Input: nums1 = [1,2,3,0,0,0], m = 3, nums2 = [2,5,6], n = 3\n",
    "Output: [1,2,2,3,5,6]\n",
    "Explanation: The arrays we are merging are [1,2,3] and [2,5,6].\n",
    "The result of the merge is [1,2,2,3,5,6] with the underlined elements coming from nums1.\n",
    "Example 2:\n",
    "\n",
    "Input: nums1 = [1], m = 1, nums2 = [], n = 0\n",
    "Output: [1]\n",
    "Explanation: The arrays we are merging are [1] and [].\n",
    "The result of the merge is [1].\n",
    "Example 3:\n",
    "\n",
    "Input: nums1 = [0], m = 0, nums2 = [1], n = 1\n",
    "Output: [1]\n",
    "Explanation: The arrays we are merging are [] and [1].\n",
    "The result of the merge is [1].\n",
    "Note that because m = 0, there are no elements in nums1. The 0 is only there to ensure the merge result can fit in nums1.\n",
    "\"\"\"\n",
    "\n",
    "class Solution:\n",
    "    def merge(self, nums1: List[int], m: int, nums2: List[int], n: int) -> None:  \n",
    "        if not nums1 or not nums2: # If one of the input lists is empty, then we just use concatenation to return the result\n",
    "            return nums1 + nums2\n",
    "        replica = nums1.copy() # Let's copy the array \n",
    "        replica = replica[:m] # We need the replicated array without trailing zeros\n",
    "        # Right now we have two sorted arrays, so it is convenient to use the Merge_Sort algorithm (the second part of the \n",
    "        # algorithm, which is aimed at merging two sorted lists together)\n",
    "        # The second part of the Merge_Sort algorithm is following:\n",
    "        # With each iteration over two sorted arrays we add the smallest element to nums1\n",
    "        i = 0\n",
    "        k = 0\n",
    "        j = 0\n",
    "        while i < len(replica) and k < len(nums2):\n",
    "            if replica[i] > nums2[k]:\n",
    "                nums1[j] = nums2[k]\n",
    "                j += 1\n",
    "                k += 1\n",
    "            else:\n",
    "                nums1[j] = replica[i]\n",
    "                j += 1\n",
    "                i += 1\n",
    "        while i < len(replica):\n",
    "            nums1[j] = replica[i]\n",
    "            j += 1\n",
    "            i += 1\n",
    "        while k < len(nums2):\n",
    "            nums1[j] = nums2[k]\n",
    "            j += 1\n",
    "            k += 1\n",
    "        \n",
    "a = Solution()\n",
    "a.merge([1,2,3,0,0,0], 3,  [2,5,6], 3)"
   ]
  }
 ],
 "metadata": {
  "kernelspec": {
   "display_name": "Python 3 (ipykernel)",
   "language": "python",
   "name": "python3"
  },
  "language_info": {
   "codemirror_mode": {
    "name": "ipython",
    "version": 3
   },
   "file_extension": ".py",
   "mimetype": "text/x-python",
   "name": "python",
   "nbconvert_exporter": "python",
   "pygments_lexer": "ipython3",
   "version": "3.9.7"
  }
 },
 "nbformat": 4,
 "nbformat_minor": 5
}
