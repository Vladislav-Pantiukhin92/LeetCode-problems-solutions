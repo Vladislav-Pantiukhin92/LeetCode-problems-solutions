{
 "cells": [
  {
   "cell_type": "markdown",
   "id": "1dc5be8d",
   "metadata": {},
   "source": [
    "### 88. Merge Sorted Array"
   ]
  },
  {
   "cell_type": "code",
   "execution_count": 11,
   "id": "0e016b99",
   "metadata": {},
   "outputs": [
    {
     "data": {
      "text/plain": [
       "[1, 2, 2, 3, 5, 6]"
      ]
     },
     "execution_count": 11,
     "metadata": {},
     "output_type": "execute_result"
    }
   ],
   "source": [
    "\"\"\"\n",
    "You are given two integer arrays nums1 and nums2, sorted in non-decreasing order, \n",
    "and two integers m and n, representing the number of elements in nums1 and nums2 respectively.\n",
    "Merge nums1 and nums2 into a single array sorted in non-decreasing order.\n",
    "The final sorted array should not be returned by the function, but instead be stored \n",
    "inside the array nums1. To accommodate this, nums1 has a length of m + n, where the first m elements \n",
    "denote the elements that should be merged, and the last n elements are set to 0 and should be ignored. \n",
    "nums2 has a length of n.\n",
    "Example 1:\n",
    "\n",
    "Input: nums1 = [1,2,3,0,0,0], m = 3, nums2 = [2,5,6], n = 3\n",
    "Output: [1,2,2,3,5,6]\n",
    "Explanation: The arrays we are merging are [1,2,3] and [2,5,6].\n",
    "The result of the merge is [1,2,2,3,5,6] with the underlined elements coming from nums1.\n",
    "Example 2:\n",
    "\n",
    "Input: nums1 = [1], m = 1, nums2 = [], n = 0\n",
    "Output: [1]\n",
    "Explanation: The arrays we are merging are [1] and [].\n",
    "The result of the merge is [1].\n",
    "Example 3:\n",
    "\n",
    "Input: nums1 = [0], m = 0, nums2 = [1], n = 1\n",
    "Output: [1]\n",
    "Explanation: The arrays we are merging are [] and [1].\n",
    "The result of the merge is [1].\n",
    "Note that because m = 0, there are no elements in nums1. The 0 is only there to ensure the merge result can fit in nums1.\n",
    "\"\"\"\n",
    "\n",
    "class Solution:\n",
    "    def merge(self, nums1: List[int], m: int, nums2: List[int], n: int) -> None:  \n",
    "        if not nums1 or not nums2: # If one of the input lists is empty, then we just use concatenation to return the result\n",
    "            return nums1 + nums2\n",
    "        i = 0\n",
    "        # Otherwise, we copy the content of the second list -> all 0s in the first list are replaced with \n",
    "        # the corresponding elements from the second list\n",
    "        for _ in range(n):\n",
    "            nums1[m] = nums2[i]\n",
    "            m += 1\n",
    "            i += 1\n",
    "            \n",
    "        # The final step is to simply sort the obtained array \n",
    "        # For instance, the Shell Sort algorithm can be chosen for this procedure\n",
    "        def shellSort(array):\n",
    "            gap = len(array) // 2\n",
    "            while gap > 0:\n",
    "                for i in range(gap, len(array)):\n",
    "                    j = i \n",
    "                    while j >= gap and array[j - gap] > array[j]:\n",
    "                        array[j - gap], array[j] = array[j], array[j - gap]\n",
    "                        j -= gap \n",
    "                gap //= 2\n",
    "            return array \n",
    "        nums1 = shellSort(nums1)\n",
    "        return nums1\n",
    "        \n",
    "a = Solution()\n",
    "a.merge([1,2,3,0,0,0], 3,  [2,5,6], 3)"
   ]
  }
 ],
 "metadata": {
  "kernelspec": {
   "display_name": "Python 3 (ipykernel)",
   "language": "python",
   "name": "python3"
  },
  "language_info": {
   "codemirror_mode": {
    "name": "ipython",
    "version": 3
   },
   "file_extension": ".py",
   "mimetype": "text/x-python",
   "name": "python",
   "nbconvert_exporter": "python",
   "pygments_lexer": "ipython3",
   "version": "3.9.7"
  }
 },
 "nbformat": 4,
 "nbformat_minor": 5
}
