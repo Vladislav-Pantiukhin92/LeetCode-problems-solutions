{
 "cells": [
  {
   "cell_type": "markdown",
   "id": "91c2cebd",
   "metadata": {},
   "source": [
    "### 884. Uncommon Words from Two Sentences"
   ]
  },
  {
   "cell_type": "code",
   "execution_count": 8,
   "id": "1d4cb6b4",
   "metadata": {},
   "outputs": [
    {
     "data": {
      "text/plain": [
       "['sweet', 'sour']"
      ]
     },
     "execution_count": 8,
     "metadata": {},
     "output_type": "execute_result"
    }
   ],
   "source": [
    "\"\"\"\n",
    "A sentence is a string of single-space separated words where each word consists only of lowercase letters.\n",
    "A word is uncommon if it appears exactly once in one of the sentences, and does not appear in the other sentence.\n",
    "Given two sentences s1 and s2, return a list of all the uncommon words. You may return the answer in any order.\n",
    "Example 1:\n",
    "\n",
    "Input: s1 = \"this apple is sweet\", s2 = \"this apple is sour\"\n",
    "Output: [\"sweet\",\"sour\"]\n",
    "Example 2:\n",
    "\n",
    "Input: s1 = \"apple apple\", s2 = \"banana\"\n",
    "Output: [\"banana\"]\n",
    "\"\"\"\n",
    "\n",
    "from collections import Counter # 'collections.Counter' creates the dictionary, where keys are elements and values \n",
    "# are their occurrences in the list, string, etc.\n",
    "\n",
    "class Solution:\n",
    "    def uncommonFromSentences(self, s1: str, s2: str) -> List[str]:\n",
    "        s1 = s1.split() # Let's split the string into the array of strings \n",
    "        s2 = s2.split() # Let's split the string into the array of strings\n",
    "        # Through the set method (set1.difference(set2)) we find elements, which are exclusively unique, by turn, for\n",
    "        # the first list and the second list\n",
    "        only_in_s1 = list(set(s1).difference(set(s2))) # Unique elements just for the first list\n",
    "        only_in_s2 = list(set(s2).difference(set(s1))) # Unique elements just for the second list\n",
    "        result = only_in_s1 + only_in_s2 # Unique elements are merged together\n",
    "        final = [] # The list will store the final result\n",
    "        # After that, let's find out the occurrences with regard to the above-mentioned unique elements\n",
    "        myDict1 = dict(Counter(s1))\n",
    "        myDict2 = dict(Counter(s2))\n",
    "        # Finally, if the occurrence of unique elements is 1, it is added to the final list\n",
    "        for i in result:\n",
    "            if i in myDict1:\n",
    "                if myDict1[i] == 1:\n",
    "                    final.append(i)\n",
    "            else:\n",
    "                if myDict2[i] == 1:\n",
    "                    final.append(i)\n",
    "        return final \n",
    "    \n",
    "a = Solution()\n",
    "a.uncommonFromSentences(\"this apple is sweet\", \"this apple is sour\")"
   ]
  }
 ],
 "metadata": {
  "kernelspec": {
   "display_name": "Python 3 (ipykernel)",
   "language": "python",
   "name": "python3"
  },
  "language_info": {
   "codemirror_mode": {
    "name": "ipython",
    "version": 3
   },
   "file_extension": ".py",
   "mimetype": "text/x-python",
   "name": "python",
   "nbconvert_exporter": "python",
   "pygments_lexer": "ipython3",
   "version": "3.9.7"
  }
 },
 "nbformat": 4,
 "nbformat_minor": 5
}
