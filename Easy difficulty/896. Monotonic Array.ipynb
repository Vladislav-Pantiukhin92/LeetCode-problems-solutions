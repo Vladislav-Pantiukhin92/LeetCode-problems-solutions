{
 "cells": [
  {
   "cell_type": "markdown",
   "id": "dc1f943a",
   "metadata": {},
   "source": [
    "### 896. Monotonic Array"
   ]
  },
  {
   "cell_type": "code",
   "execution_count": 68,
   "id": "eb2a994b",
   "metadata": {},
   "outputs": [
    {
     "data": {
      "text/plain": [
       "True"
      ]
     },
     "execution_count": 68,
     "metadata": {},
     "output_type": "execute_result"
    }
   ],
   "source": [
    "\"\"\"\n",
    "An array is monotonic if it is either monotone increasing or monotone decreasing.\n",
    "An array nums is monotone increasing if for all i <= j, nums[i] <= nums[j]. \n",
    "An array nums is monotone decreasing if for all i <= j, nums[i] >= nums[j].\n",
    "Given an integer array nums, return true if the given array is monotonic, or false otherwise.\n",
    "Example 1:\n",
    "\n",
    "Input: nums = [1,2,2,3]\n",
    "Output: true\n",
    "Example 2:\n",
    "\n",
    "Input: nums = [6,5,4,4]\n",
    "Output: true\n",
    "Example 3:\n",
    "\n",
    "Input: nums = [1,3,2]\n",
    "Output: false\n",
    "\"\"\"\n",
    "\n",
    "class Solution:\n",
    "    def isMonotonic(self, nums: List[int]) -> bool:\n",
    "    # To determine the prospective type of the monotonic array let's find the first element and the last element\n",
    "        first = nums[0] # The first element of the array\n",
    "        last = nums[-1] # The last element of the array\n",
    "        if first <= last: # If the first element is equal to or smaller than the last element we can assume\n",
    "            # that the monotonic array can be a monotone increasing\n",
    "            # Through the 'for loop' we can check that - the next element should always be larger than the \n",
    "            # previous one\n",
    "            for i in range(len(nums) - 1):\n",
    "                j = i\n",
    "                if nums[j] > nums[j + 1]: # If we face the error - we return False immediately \n",
    "                    return False\n",
    "        else:\n",
    "            # Otherwise, we can assume that the monotonic array can be a monotone decreasing\n",
    "            # Through the 'for loop' we can check that - the next element should always be smaller than the \n",
    "            # previous one\n",
    "            for i in range(len(nums) - 1):\n",
    "                j = i\n",
    "                if nums[j] < nums[j + 1]: # If we face the error - we return False immediately \n",
    "                    return False\n",
    "        return True # If no errors are faced within the 'for loop' we return True\n",
    "    \n",
    "a = Solution()\n",
    "a.isMonotonic([1,2,2,3])"
   ]
  }
 ],
 "metadata": {
  "kernelspec": {
   "display_name": "Python 3 (ipykernel)",
   "language": "python",
   "name": "python3"
  },
  "language_info": {
   "codemirror_mode": {
    "name": "ipython",
    "version": 3
   },
   "file_extension": ".py",
   "mimetype": "text/x-python",
   "name": "python",
   "nbconvert_exporter": "python",
   "pygments_lexer": "ipython3",
   "version": "3.9.7"
  }
 },
 "nbformat": 4,
 "nbformat_minor": 5
}
