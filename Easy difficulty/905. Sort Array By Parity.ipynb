{
 "cells": [
  {
   "cell_type": "markdown",
   "id": "1821abae",
   "metadata": {},
   "source": [
    "### 905. Sort Array By Parity"
   ]
  },
  {
   "cell_type": "code",
   "execution_count": 277,
   "id": "83bd4ecf",
   "metadata": {},
   "outputs": [
    {
     "data": {
      "text/plain": [
       "[2, 4, 1, 3]"
      ]
     },
     "execution_count": 277,
     "metadata": {},
     "output_type": "execute_result"
    }
   ],
   "source": [
    "\"\"\"\n",
    "Given an integer array nums, move all the even integers at the beginning of the array followed \n",
    "by all the odd integers.\n",
    "Return any array that satisfies this condition.\n",
    "Example 1:\n",
    "\n",
    "Input: nums = [3,1,2,4]\n",
    "Output: [2,4,3,1]\n",
    "Explanation: The outputs [4,2,3,1], [2,4,1,3], and [4,2,1,3] would also be accepted.\n",
    "Example 2:\n",
    "\n",
    "Input: nums = [0]\n",
    "Output: [0]\n",
    "\"\"\"\n",
    "\n",
    "# SOLUTION №1\n",
    "class Solution:\n",
    "    def sortArrayByParity(self, nums: List[int]) -> List[int]:\n",
    "        # To solve the problem the Bubble Sort algorithm can be used\n",
    "        # The swapping process is executed between even and odd numbers\n",
    "        for i in range(len(nums)):\n",
    "            for j in range(len(nums) - i - 1):\n",
    "                if nums[j] % 2 != 0:\n",
    "                    nums[j], nums[j + 1] = nums[j + 1], nums[j]\n",
    "        return nums\n",
    "    \n",
    "a = Solution()\n",
    "a.sortArrayByParity([3,1,2,4])"
   ]
  },
  {
   "cell_type": "code",
   "execution_count": 278,
   "id": "2225a0d0",
   "metadata": {},
   "outputs": [
    {
     "data": {
      "text/plain": [
       "[2, 4, 3, 1]"
      ]
     },
     "execution_count": 278,
     "metadata": {},
     "output_type": "execute_result"
    }
   ],
   "source": [
    "# SOLUTION №2\n",
    "class Solution:\n",
    "    def sortArrayByParity(self, nums: List[int]) -> List[int]:\n",
    "        # Through 'filter' function two lists are created:\n",
    "        # The first one with even numbers\n",
    "        # The second one with odd numbers\n",
    "        evenNums = list(filter(lambda x: x % 2 == 0, nums))\n",
    "        oddNums = list(filter(lambda y: y % 2 != 0, nums))\n",
    "        # The final step is the concatenation of two lists in proper order\n",
    "        return evenNums + oddNums\n",
    "    \n",
    "a = Solution()\n",
    "a.sortArrayByParity([3,1,2,4])"
   ]
  }
 ],
 "metadata": {
  "kernelspec": {
   "display_name": "Python 3 (ipykernel)",
   "language": "python",
   "name": "python3"
  },
  "language_info": {
   "codemirror_mode": {
    "name": "ipython",
    "version": 3
   },
   "file_extension": ".py",
   "mimetype": "text/x-python",
   "name": "python",
   "nbconvert_exporter": "python",
   "pygments_lexer": "ipython3",
   "version": "3.9.7"
  }
 },
 "nbformat": 4,
 "nbformat_minor": 5
}
