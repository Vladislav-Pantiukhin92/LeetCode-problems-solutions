{
 "cells": [
  {
   "cell_type": "markdown",
   "id": "70de2913",
   "metadata": {},
   "source": [
    "### 917. Reverse Only Letters"
   ]
  },
  {
   "cell_type": "code",
   "execution_count": 15,
   "id": "c1f5c8f8",
   "metadata": {},
   "outputs": [
    {
     "data": {
      "text/plain": [
       "'j-Ih-gfE-dCba'"
      ]
     },
     "execution_count": 15,
     "metadata": {},
     "output_type": "execute_result"
    }
   ],
   "source": [
    "\"\"\"\n",
    "Given a string s, reverse the string according to the following rules:\n",
    "All the characters that are not English letters remain in the same position.\n",
    "All the English letters (lowercase or uppercase) should be reversed.\n",
    "Return s after reversing it.\n",
    "Example 1:\n",
    "\n",
    "Input: s = \"ab-cd\"\n",
    "Output: \"dc-ba\"\n",
    "Example 2:\n",
    "\n",
    "Input: s = \"a-bC-dEf-ghIj\"\n",
    "Output: \"j-Ih-gfE-dCba\"\n",
    "Example 3:\n",
    "\n",
    "Input: s = \"Test1ng-Leet=code-Q!\"\n",
    "Output: \"Qedo1ct-eeLg=ntse-T!\"\n",
    "\"\"\"\n",
    "\n",
    "class Solution:\n",
    "    def reverseOnlyLetters(self, s: str) -> str:\n",
    "        s = list(s) # Let's create the list of values. The list is a mutable structure, so it will be possible \n",
    "        # to implement the swapping operations, if necessary\n",
    "    # We are going to iterate over the created list from both the first and the last positions.\n",
    "    # Two variables will move towards each other through the execution of the 'while loop'\n",
    "    # The above-mentioned loop is underway, while the first index (variable) < the second index (variable)\n",
    "    # Within these operations two English letters will be swapped\n",
    "\n",
    "        i = 0 # The first variable \n",
    "        j = len(s) - 1 # The second variable\n",
    "        while True:\n",
    "            # We need two English letters, other characters are being omitted\n",
    "            while i < j and not s[i].isalpha(): # Verification of an English letter\n",
    "                i += 1\n",
    "            while i < j and not s[j].isalpha(): # Verification of an English letter\n",
    "                j -= 1\n",
    "            if i >= j:\n",
    "                break\n",
    "            else:\n",
    "                s[i], s[j] = s[j], s[i] # If two English letters are encountered, letters are swapped\n",
    "                i += 1\n",
    "                j -= 1\n",
    "        return \"\".join(s) # The string type of the reversed structure is returned\n",
    "    \n",
    "a = Solution()\n",
    "a.reverseOnlyLetters(\"a-bC-dEf-ghIj\")"
   ]
  }
 ],
 "metadata": {
  "kernelspec": {
   "display_name": "Python 3 (ipykernel)",
   "language": "python",
   "name": "python3"
  },
  "language_info": {
   "codemirror_mode": {
    "name": "ipython",
    "version": 3
   },
   "file_extension": ".py",
   "mimetype": "text/x-python",
   "name": "python",
   "nbconvert_exporter": "python",
   "pygments_lexer": "ipython3",
   "version": "3.9.7"
  }
 },
 "nbformat": 4,
 "nbformat_minor": 5
}
