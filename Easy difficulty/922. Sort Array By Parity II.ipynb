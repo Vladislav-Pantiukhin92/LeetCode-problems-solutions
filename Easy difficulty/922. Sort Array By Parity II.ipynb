{
 "cells": [
  {
   "cell_type": "markdown",
   "id": "9b9afa80",
   "metadata": {},
   "source": [
    "### 922. Sort Array By Parity II"
   ]
  },
  {
   "cell_type": "code",
   "execution_count": 85,
   "id": "d8cf805c",
   "metadata": {},
   "outputs": [
    {
     "data": {
      "text/plain": [
       "[2, 7, 4, 5]"
      ]
     },
     "execution_count": 85,
     "metadata": {},
     "output_type": "execute_result"
    }
   ],
   "source": [
    "\"\"\"\n",
    "Given an array of integers nums, half of the integers in nums are odd, and the other half are even.\n",
    "Sort the array so that whenever nums[i] is odd, i is odd, and whenever nums[i] is even, i is even.\n",
    "Return any answer array that satisfies this condition.\n",
    "Example 1:\n",
    "\n",
    "Input: nums = [4,2,5,7]\n",
    "Output: [4,5,2,7]\n",
    "Explanation: [4,7,2,5], [2,5,4,7], [2,7,4,5] would also have been accepted.\n",
    "Example 2:\n",
    "\n",
    "Input: nums = [2,3]\n",
    "Output: [2,3]\n",
    "\"\"\"\n",
    "\n",
    "class Solution:\n",
    "    def sortArrayByParityII(self, nums: List[int]) -> List[int]:\n",
    "        # The 'filter' function is going to be used to split the input array into two lists\n",
    "        even_numbers = list(filter(lambda x: x % 2 == 0, nums)) # The first list contains only even numbers\n",
    "        odd_numbers = list(filter(lambda x: x % 2 != 0, nums)) # The second list contains only odd numbers\n",
    "        # We are not going to create the new array, just elements of the input array are to be rearranged in proper order\n",
    "        k = 0 \n",
    "        while odd_numbers:\n",
    "            curElement = even_numbers.pop() # List with even numbers will be used as a stack structure\n",
    "            nums[k] = curElement\n",
    "            k += 1\n",
    "            curElement = odd_numbers.pop() # List with odd numbers will be used as a stack structure as well\n",
    "            nums[k] = curElement\n",
    "            k += 1\n",
    "        # After that, we begin to extract elements from two stacks by turn \n",
    "        # (but in view of the fact that the first index is 0, we should start from the even-numbered stack)\n",
    "        return nums\n",
    "    \n",
    "a = Solution()\n",
    "a.sortArrayByParityII([4,2,5,7])"
   ]
  }
 ],
 "metadata": {
  "kernelspec": {
   "display_name": "Python 3 (ipykernel)",
   "language": "python",
   "name": "python3"
  },
  "language_info": {
   "codemirror_mode": {
    "name": "ipython",
    "version": 3
   },
   "file_extension": ".py",
   "mimetype": "text/x-python",
   "name": "python",
   "nbconvert_exporter": "python",
   "pygments_lexer": "ipython3",
   "version": "3.9.7"
  }
 },
 "nbformat": 4,
 "nbformat_minor": 5
}
