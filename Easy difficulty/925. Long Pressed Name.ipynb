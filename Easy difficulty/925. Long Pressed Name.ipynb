{
 "cells": [
  {
   "cell_type": "markdown",
   "id": "dcac00aa",
   "metadata": {},
   "source": [
    "### 925. Long Pressed Name"
   ]
  },
  {
   "cell_type": "code",
   "execution_count": 7,
   "id": "0c35b842",
   "metadata": {},
   "outputs": [
    {
     "data": {
      "text/plain": [
       "False"
      ]
     },
     "execution_count": 7,
     "metadata": {},
     "output_type": "execute_result"
    }
   ],
   "source": [
    "\"\"\"\n",
    "Your friend is typing his name into a keyboard. Sometimes, when typing a character c, the key might get \n",
    "long pressed, and the character will be typed 1 or more times.\n",
    "You examine the typed characters of the keyboard. Return True if it is possible that it was your friends \n",
    "name, with some characters (possibly none) being long pressed.\n",
    "\n",
    "Example 1:\n",
    "\n",
    "Input: name = \"alex\", typed = \"aaleex\"\n",
    "Output: true\n",
    "Explanation: 'a' and 'e' in 'alex' were long pressed.\n",
    "Example 2:\n",
    "\n",
    "Input: name = \"saeed\", typed = \"ssaaedd\"\n",
    "Output: false\n",
    "Explanation: 'e' must have been pressed twice, but it was not in the typed output.\n",
    "\"\"\"\n",
    "\n",
    "from itertools import groupby # 'itertools.groupby' will extract all the element groups\n",
    "from operator import * # 'operator.eq' will compare elements\n",
    "\n",
    "class Solution:\n",
    "    def isLongPressedName(self, name: str, typed: str) -> bool:\n",
    "        name_list = [list(group) for key, group in groupby(name)] # Element groups within the 'name' input\n",
    "        typed_list = [list(group) for key, group in groupby(typed)] # Element groups within the 'typed' input\n",
    "        if not eq(len(name_list), len(typed_list)): # If the length of these groups is varied - we return False\n",
    "            # right off the bat\n",
    "            return False\n",
    "        # Two pointers to iterate over both group lists\n",
    "        i = 0 # The pointer for the first element group\n",
    "        j = 0 # The pointer for the second element group\n",
    "        # To return True it is important for the 'name' input to have element groups, the length of which is \n",
    "        # smaller or equal to all the groups of the 'typed' input, otherwise we return False immediately\n",
    "        while i < len(name_list):\n",
    "            if len(name_list[i]) > len(typed_list[j]) or not eq(name_list[i][0], typed_list[j][0]):\n",
    "                return False\n",
    "            i += 1\n",
    "            j += 1\n",
    "        return True\n",
    "    \n",
    "a = Solution()\n",
    "a.isLongPressedName(\"saeed\", \"ssaaedd\")"
   ]
  }
 ],
 "metadata": {
  "kernelspec": {
   "display_name": "Python 3 (ipykernel)",
   "language": "python",
   "name": "python3"
  },
  "language_info": {
   "codemirror_mode": {
    "name": "ipython",
    "version": 3
   },
   "file_extension": ".py",
   "mimetype": "text/x-python",
   "name": "python",
   "nbconvert_exporter": "python",
   "pygments_lexer": "ipython3",
   "version": "3.9.7"
  }
 },
 "nbformat": 4,
 "nbformat_minor": 5
}
