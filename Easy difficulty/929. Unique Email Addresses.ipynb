{
 "cells": [
  {
   "cell_type": "markdown",
   "id": "cafd8ac6",
   "metadata": {},
   "source": [
    "### 929. Unique Email Addresses"
   ]
  },
  {
   "cell_type": "code",
   "execution_count": 1,
   "id": "76117cbe",
   "metadata": {},
   "outputs": [
    {
     "data": {
      "text/plain": [
       "2"
      ]
     },
     "execution_count": 1,
     "metadata": {},
     "output_type": "execute_result"
    }
   ],
   "source": [
    "\"\"\"\n",
    "Every valid email consists of a local name and a domain name, separated by the '@' sign. Besides \n",
    "lowercase letters, the email may contain one or more '.' or '+'.\n",
    "For example, in \"alice@leetcode.com\", \"alice\" is the local name, and \"leetcode.com\" is the domain name.\n",
    "If you add periods '.' between some characters in the local name part of an email address, mail sent there \n",
    "will be forwarded to the same address without dots in the local name. Note that this rule does not apply \n",
    "to domain names.\n",
    "\n",
    "For example, \"alice.z@leetcode.com\" and \"alicez@leetcode.com\" forward to the same email address.\n",
    "If you add a plus '+' in the local name, everything after the first plus sign will be ignored. \n",
    "This allows certain emails to be filtered. Note that this rule does not apply to domain names.\n",
    "\n",
    "For example, \"m.y+name@email.com\" will be forwarded to \"my@email.com\".\n",
    "It is possible to use both of these rules at the same time.\n",
    "Given an array of strings emails where we send one email to each emails[i], return the number of different \n",
    "addresses that actually receive mails.\n",
    "Example 1:\n",
    "\n",
    "Input: emails = [\"test.email+alex@leetcode.com\",\"test.e.mail+bob.cathy@leetcode.com\",\n",
    "\"testemail+david@lee.tcode.com\"]\n",
    "Output: 2\n",
    "Explanation: \"testemail@leetcode.com\" and \"testemail@lee.tcode.com\" actually receive mails.\n",
    "\"\"\"\n",
    "\n",
    "import re # Regular expressions are to be used for changing the string data within e-mails\n",
    "from collections import Counter # 'collections.Counter' will count the number of valid/distinct e-mails\n",
    "\n",
    "class Solution:\n",
    "    def numUniqueEmails(self, emails: List[str]) -> int:\n",
    "        corrected_emails = [] # The list container, which will store the corrected/amended e-mails\n",
    "        for i in emails: # Through the 'for loop' iterations we are going to modify the local name\n",
    "            curEmail = i.split(\"@\") # We need to single out the local name\n",
    "        # The local name is being modified in a below-underlined manner:\n",
    "            curEmail[0] = curEmail[0].replace(\".\", \"\")\n",
    "            if \"+\" not in curEmail[0]:\n",
    "                corrected_emails.append(\"@\".join(curEmail))\n",
    "            else: # With the help of the below-underlined regex pattern we are going to throw out the part of the \n",
    "                # local name, which is preceded by the \"+\":\n",
    "                result = \"\".join(re.findall(r\"(^[a-zA-Z.]+)\\+\", curEmail[0]))\n",
    "                corrected_emails.append(\"@\".join([result, curEmail[1]]))\n",
    "        # Now we have the amended e-mails, which are stored within the list. To count distinct e-mails it is \n",
    "        # necessary to create the occurrence dictionary through the 'collections.Counter':\n",
    "        emails_dict = dict(Counter(corrected_emails))\n",
    "        return len(emails_dict) # We should return the dictionary length (it is the number of valid e-mails)\n",
    "    \n",
    "a = Solution()\n",
    "a.numUniqueEmails([\"test.email+alex@leetcode.com\",\"test.e.mail+bob.cathy@leetcode.com\",\n",
    "\"testemail+david@lee.tcode.com\"])"
   ]
  }
 ],
 "metadata": {
  "kernelspec": {
   "display_name": "Python 3 (ipykernel)",
   "language": "python",
   "name": "python3"
  },
  "language_info": {
   "codemirror_mode": {
    "name": "ipython",
    "version": 3
   },
   "file_extension": ".py",
   "mimetype": "text/x-python",
   "name": "python",
   "nbconvert_exporter": "python",
   "pygments_lexer": "ipython3",
   "version": "3.9.7"
  }
 },
 "nbformat": 4,
 "nbformat_minor": 5
}
