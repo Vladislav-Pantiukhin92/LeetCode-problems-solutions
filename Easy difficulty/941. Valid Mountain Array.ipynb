{
 "cells": [
  {
   "cell_type": "markdown",
   "id": "dcac00aa",
   "metadata": {},
   "source": [
    "### 941. Valid Mountain Array"
   ]
  },
  {
   "cell_type": "code",
   "execution_count": 6,
   "id": "dd06f005",
   "metadata": {},
   "outputs": [
    {
     "data": {
      "text/plain": [
       "True"
      ]
     },
     "execution_count": 6,
     "metadata": {},
     "output_type": "execute_result"
    }
   ],
   "source": [
    "\"\"\"\n",
    "Given an array of integers arr, return true if and only if it is a valid mountain array.\n",
    "Recall that arr is a mountain array if and only if:\n",
    "\n",
    "arr.length >= 3\n",
    "There exists some i with 0 < i < arr.length - 1 such that:\n",
    "arr[0] < arr[1] < ... < arr[i - 1] < arr[i] \n",
    "arr[i] > arr[i + 1] > ... > arr[arr.length - 1]\n",
    "\n",
    "Example 1:\n",
    "\n",
    "Input: arr = [2,1]\n",
    "Output: false\n",
    "\n",
    "Example 2:\n",
    "Input: arr = [3,5,5]\n",
    "Output: false\n",
    "\n",
    "Example 3:\n",
    "Input: arr = [0,3,2,1]\n",
    "Output: true\n",
    "\"\"\"\n",
    "\n",
    "from operator import * # 'operator.eq' will compare elements (it returns True if values are equal, otherwise - False)\n",
    "\n",
    "class Solution:\n",
    "    def validMountainArray(self, arr: List[int]) -> bool:\n",
    "        if len(arr) < 3: # If the given input array contains less than 3 elements - we return False (in this case, \n",
    "            # it is just impossible to create the mountain structure)\n",
    "            return False\n",
    "        max_elem = max(arr) # The maxElement is found\n",
    "        peak_index = arr.index(max_elem) # The index location of the maxElement is identified\n",
    "        left_side = arr[0:peak_index] # The left-side subarray, excl. the peak element\n",
    "        right_side = arr[peak_index + 1:] # The right-side subarray, excl. the peak element\n",
    "        if not left_side or not right_side: # If the right-side subarray is empty or the left_side subarray is empty -\n",
    "            # we return False, because it is impossible to create the mountain structure\n",
    "            return False\n",
    "        # If the below-underlined condition is met - we return True, otherwise - we return False\n",
    "        if (left_side[-1] < max_elem and eq(sorted(list(set(left_side))), left_side) and right_side[0] < max_elem and\n",
    "        eq(sorted(list(set(right_side)), reverse=True), right_side)):\n",
    "            return True\n",
    "        return False\n",
    "    \n",
    "a = Solution()\n",
    "a.validMountainArray([0,3,2,1])"
   ]
  }
 ],
 "metadata": {
  "kernelspec": {
   "display_name": "Python 3 (ipykernel)",
   "language": "python",
   "name": "python3"
  },
  "language_info": {
   "codemirror_mode": {
    "name": "ipython",
    "version": 3
   },
   "file_extension": ".py",
   "mimetype": "text/x-python",
   "name": "python",
   "nbconvert_exporter": "python",
   "pygments_lexer": "ipython3",
   "version": "3.9.7"
  }
 },
 "nbformat": 4,
 "nbformat_minor": 5
}
