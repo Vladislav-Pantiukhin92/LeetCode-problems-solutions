{
 "cells": [
  {
   "cell_type": "markdown",
   "id": "fa510dcf",
   "metadata": {},
   "source": [
    "### 961. N-Repeated Element in Size 2N Array"
   ]
  },
  {
   "cell_type": "code",
   "execution_count": 148,
   "id": "a2df3af0",
   "metadata": {},
   "outputs": [
    {
     "data": {
      "text/plain": [
       "5"
      ]
     },
     "execution_count": 148,
     "metadata": {},
     "output_type": "execute_result"
    }
   ],
   "source": [
    "\"\"\"\n",
    "You are given an integer array nums with the following properties:\n",
    "nums.length == 2 * n.\n",
    "nums contains n + 1 unique elements.\n",
    "Exactly one element of nums is repeated n times.\n",
    "Return the element that is repeated n times.\n",
    "Example 1:\n",
    "\n",
    "Input: nums = [1,2,3,3]\n",
    "Output: 3\n",
    "Example 2:\n",
    "\n",
    "Input: nums = [2,1,2,5,3,2]\n",
    "Output: 2\n",
    "Example 3:\n",
    "\n",
    "Input: nums = [5,1,5,2,5,3,5,4]\n",
    "Output: 5\n",
    "\"\"\"\n",
    "\n",
    "from collections import Counter # 'collections.Counter' is aimed at creating the dictionary with numbers as \n",
    "# keys and their occurrences in the input list as values\n",
    "\n",
    "class Solution:\n",
    "    def repeatedNTimes(self, nums: List[int]) -> int:\n",
    "        n = len(nums) // 2 # First of all, let's return the 'n'\n",
    "        myDict = dict(Counter(nums)) # Creation of the dictionary\n",
    "        for i in myDict: # The first appropriate key is returned\n",
    "            if myDict[i] == n:\n",
    "                return i\n",
    "            \n",
    "a = Solution()\n",
    "a.repeatedNTimes([5,1,5,2,5,3,5,4])"
   ]
  }
 ],
 "metadata": {
  "kernelspec": {
   "display_name": "Python 3 (ipykernel)",
   "language": "python",
   "name": "python3"
  },
  "language_info": {
   "codemirror_mode": {
    "name": "ipython",
    "version": 3
   },
   "file_extension": ".py",
   "mimetype": "text/x-python",
   "name": "python",
   "nbconvert_exporter": "python",
   "pygments_lexer": "ipython3",
   "version": "3.9.7"
  }
 },
 "nbformat": 4,
 "nbformat_minor": 5
}
