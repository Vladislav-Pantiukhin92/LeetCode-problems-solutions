{
 "cells": [
  {
   "cell_type": "markdown",
   "id": "a1634a33",
   "metadata": {},
   "source": [
    "### 977. Squares of a Sorted Array"
   ]
  },
  {
   "cell_type": "code",
   "execution_count": 2,
   "id": "1d4b7030",
   "metadata": {},
   "outputs": [
    {
     "data": {
      "text/plain": [
       "[0, 1, 9, 16, 100]"
      ]
     },
     "execution_count": 2,
     "metadata": {},
     "output_type": "execute_result"
    }
   ],
   "source": [
    "\"\"\"\n",
    "Given an integer array nums sorted in non-decreasing order, return an array \n",
    "of the squares of each number sorted in non-decreasing order.\n",
    "Example 1:\n",
    "\n",
    "Input: nums = [-4,-1,0,3,10]\n",
    "Output: [0,1,9,16,100]\n",
    "Explanation: After squaring, the array becomes [16,1,0,9,100].\n",
    "After sorting, it becomes [0,1,9,16,100].\n",
    "Example 2:\n",
    "\n",
    "Input: nums = [-7,-3,2,3,11]\n",
    "Output: [4,9,9,49,121]\n",
    "\"\"\"\n",
    "\n",
    "class Solution:\n",
    "    def sortedSquares(self, nums: List[int]) -> List[int]:\n",
    "        # Through the 'map' function squares of all numbers are obtained at once\n",
    "        # Finally, we return the sorted result\n",
    "        return sorted(list(map(lambda x: pow(x, 2), nums)))\n",
    "    \n",
    "a = Solution()\n",
    "a.sortedSquares([-4,-1,0,3,10])"
   ]
  }
 ],
 "metadata": {
  "kernelspec": {
   "display_name": "Python 3 (ipykernel)",
   "language": "python",
   "name": "python3"
  },
  "language_info": {
   "codemirror_mode": {
    "name": "ipython",
    "version": 3
   },
   "file_extension": ".py",
   "mimetype": "text/x-python",
   "name": "python",
   "nbconvert_exporter": "python",
   "pygments_lexer": "ipython3",
   "version": "3.9.7"
  }
 },
 "nbformat": 4,
 "nbformat_minor": 5
}
