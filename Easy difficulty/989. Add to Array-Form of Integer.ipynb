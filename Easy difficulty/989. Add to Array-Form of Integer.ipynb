{
 "cells": [
  {
   "cell_type": "markdown",
   "id": "51c7223e",
   "metadata": {},
   "source": [
    "### 989. Add to Array-Form of Integer"
   ]
  },
  {
   "cell_type": "code",
   "execution_count": null,
   "id": "433937c5",
   "metadata": {},
   "outputs": [],
   "source": [
    "\"\"\"\n",
    "The array-form of an integer num is an array representing its digits in left to right order.\n",
    "For example, for num = 1321, the array form is [1,3,2,1].\n",
    "Given num, the array-form of an integer, and an integer k, return the array-form of the integer num + k.\n",
    "Example 1:\n",
    "\n",
    "Input: num = [1,2,0,0], k = 34\n",
    "Output: [1,2,3,4]\n",
    "Explanation: 1200 + 34 = 1234\n",
    "Example 2:\n",
    "\n",
    "Input: num = [2,7,4], k = 181\n",
    "Output: [4,5,5]\n",
    "Explanation: 274 + 181 = 455\n",
    "Example 3:\n",
    "\n",
    "Input: num = [2,1,5], k = 806\n",
    "Output: [1,0,2,1]\n",
    "Explanation: 215 + 806 = 1021\n",
    "\"\"\"\n",
    "\n",
    "class Solution:\n",
    "    def addToArrayForm(self, num: List[int], k: int) -> List[int]:\n",
    "        # The chain of steps is the following: \n",
    "        # list of integers -> list of string numbers -> convertion to string number -> convertion to integer \n",
    "        # -> addition operation -> convertion to string number -> convertion to the list of string numbers -> \n",
    "        # -> convertion to the list of integers\n",
    "        change_to_int = int(\"\".join(list(map(str, num))))\n",
    "        return list(map(int, list(str(change_to_int + k))))\n",
    "    \n",
    "a = Solution()\n",
    "a.addToArrayForm([2,1,5], 806)"
   ]
  }
 ],
 "metadata": {
  "kernelspec": {
   "display_name": "Python 3 (ipykernel)",
   "language": "python",
   "name": "python3"
  },
  "language_info": {
   "codemirror_mode": {
    "name": "ipython",
    "version": 3
   },
   "file_extension": ".py",
   "mimetype": "text/x-python",
   "name": "python",
   "nbconvert_exporter": "python",
   "pygments_lexer": "ipython3",
   "version": "3.9.7"
  }
 },
 "nbformat": 4,
 "nbformat_minor": 5
}
