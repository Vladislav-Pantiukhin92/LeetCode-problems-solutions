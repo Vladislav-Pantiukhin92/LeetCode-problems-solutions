{
 "cells": [
  {
   "cell_type": "markdown",
   "id": "b5c67bd8",
   "metadata": {},
   "source": [
    "### 164. Maximum Gap"
   ]
  },
  {
   "cell_type": "code",
   "execution_count": 76,
   "id": "ee5f1f93",
   "metadata": {},
   "outputs": [
    {
     "data": {
      "text/plain": [
       "3"
      ]
     },
     "execution_count": 76,
     "metadata": {},
     "output_type": "execute_result"
    }
   ],
   "source": [
    "\"\"\"\n",
    "Given an integer array nums, return the maximum difference between two successive \n",
    "elements in its sorted form. If the array contains less than two elements, return 0.\n",
    "You must write an algorithm that runs in linear time and uses linear extra space.\n",
    "\n",
    "Example 1:\n",
    "\n",
    "Input: nums = [3,6,9,1]\n",
    "Output: 3\n",
    "Explanation: The sorted form of the array is [1,3,6,9], either (3,6) or (6,9) has the maximum difference 3.\n",
    "Example 2:\n",
    "\n",
    "Input: nums = [10]\n",
    "Output: 0\n",
    "Explanation: The array contains less than 2 elements, therefore return 0.\n",
    "\"\"\"\n",
    "\n",
    "from itertools import starmap # 'itertools.starmap' will help to find the difference (gap) between successive elements\n",
    "\n",
    "class Solution:\n",
    "    def maximumGap(self, nums: List[int]) -> int:\n",
    "        if len(nums) < 2: # If the input list contains 0 or 1 element, the problem doesn't make sense - return 0\n",
    "            return 0\n",
    "        # To sort the array the QuickSort Algorithm was chosen\n",
    "        def pivot_place(array, start, end): # The part, which determines the pivot location\n",
    "            left = start + 1\n",
    "            right = end\n",
    "            while True:\n",
    "                while right >= left and array[left] <= array[start]:\n",
    "                    left += 1\n",
    "                while right >= left and array[right] > array[start]:\n",
    "                    right -= 1\n",
    "                if left > right:\n",
    "                    break\n",
    "                else:\n",
    "                    array[left], array[right] = array[right], array[left]\n",
    "            array[start], array[right] = array[right], array[start]\n",
    "            return right\n",
    "\n",
    "        def quick_sort(array, start, end): # The QuickSort algorithm with recursion\n",
    "            if start > end:\n",
    "                return\n",
    "            p = pivot_place(array, start, end)\n",
    "            quick_sort(array, start, p - 1)\n",
    "            quick_sort(array, p + 1, end)\n",
    "            return array\n",
    "\n",
    "        sortedArray = quick_sort(nums, 0, len(nums) - 1)\n",
    "        zipList = list(starmap(lambda x, y: y - x, list(zip(sortedArray, sortedArray[1:]))))\n",
    "        return max(zipList) # The final result is the maxValue inside the array\n",
    "\n",
    "a = Solution()\n",
    "a.maximumGap([3,6,9,1])"
   ]
  }
 ],
 "metadata": {
  "kernelspec": {
   "display_name": "Python 3 (ipykernel)",
   "language": "python",
   "name": "python3"
  },
  "language_info": {
   "codemirror_mode": {
    "name": "ipython",
    "version": 3
   },
   "file_extension": ".py",
   "mimetype": "text/x-python",
   "name": "python",
   "nbconvert_exporter": "python",
   "pygments_lexer": "ipython3",
   "version": "3.9.7"
  }
 },
 "nbformat": 4,
 "nbformat_minor": 5
}
