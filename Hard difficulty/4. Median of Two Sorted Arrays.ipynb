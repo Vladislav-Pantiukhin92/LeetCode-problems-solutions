{
 "cells": [
  {
   "cell_type": "markdown",
   "id": "405bef16",
   "metadata": {},
   "source": [
    "### 4. Median of Two Sorted Arrays"
   ]
  },
  {
   "cell_type": "code",
   "execution_count": 10,
   "id": "2606f4ab",
   "metadata": {},
   "outputs": [
    {
     "data": {
      "text/plain": [
       "2"
      ]
     },
     "execution_count": 10,
     "metadata": {},
     "output_type": "execute_result"
    }
   ],
   "source": [
    "\"\"\"\n",
    "Given two sorted arrays nums1 and nums2 of size m and n respectively, \n",
    "return the median of the two sorted arrays.\n",
    "\n",
    "The overall run time complexity should be O(log (m+n)).\n",
    "\n",
    "Example 1:\n",
    "\n",
    "Input: nums1 = [1,3], nums2 = [2]\n",
    "Output: 2.00000\n",
    "Explanation: merged array = [1,2,3] and median is 2.\n",
    "Example 2:\n",
    "\n",
    "Input: nums1 = [1,2], nums2 = [3,4]\n",
    "Output: 2.50000\n",
    "Explanation: merged array = [1,2,3,4] and median is (2 + 3) / 2 = 2.5.\n",
    "\"\"\"\n",
    "\n",
    "from statistics import median # Used to calculate the median value of the list\n",
    "\n",
    "# The procedure from the merge_sort algorithm will be used to combine already sorted lists\n",
    "class Solution:\n",
    "    def findMedianSortedArrays(self, nums1: List[int], nums2: List[int]) -> float:\n",
    "        # First of all, the container is created (it will preserve numbers from sorted lists)\n",
    "        final = []\n",
    "        # And two pointers for each sorted list\n",
    "        i = 0 \n",
    "        k = 0\n",
    "        # With each iteration we will add the smallest value from the lists to the container\n",
    "        while i < len(nums1) and k < len(nums2):\n",
    "            if nums1[i] > nums2[k]:\n",
    "                final.append(nums2[k])\n",
    "                k += 1\n",
    "            else:\n",
    "                final.append(nums1[i])\n",
    "                i += 1\n",
    "        # The first 'while loop' comes to an end when all the values from a list will be within the container     \n",
    "        # As the exhausted list is unknown to us, we can add another 'while loop' to deal with the second, still non-empty list\n",
    "        # One of these 'while loops' will be useless, but in these circumstances it doesn't matter\n",
    "        while i < len(nums1):\n",
    "            final.append(nums1[i])\n",
    "            i += 1\n",
    "        while k < len(nums2):\n",
    "            final.append(nums2[k])\n",
    "            k += 1\n",
    "            \n",
    "        return median(final)\n",
    "          \n",
    "a = Solution()\n",
    "a.findMedianSortedArrays([1, 3], [2])"
   ]
  }
 ],
 "metadata": {
  "kernelspec": {
   "display_name": "Python 3 (ipykernel)",
   "language": "python",
   "name": "python3"
  },
  "language_info": {
   "codemirror_mode": {
    "name": "ipython",
    "version": 3
   },
   "file_extension": ".py",
   "mimetype": "text/x-python",
   "name": "python",
   "nbconvert_exporter": "python",
   "pygments_lexer": "ipython3",
   "version": "3.9.7"
  }
 },
 "nbformat": 4,
 "nbformat_minor": 5
}
