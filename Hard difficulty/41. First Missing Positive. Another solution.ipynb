{
 "cells": [
  {
   "cell_type": "markdown",
   "id": "721306eb",
   "metadata": {},
   "source": [
    "### 41. First Missing Positive"
   ]
  },
  {
   "cell_type": "code",
   "execution_count": 8,
   "id": "cb4cb8e4",
   "metadata": {},
   "outputs": [
    {
     "data": {
      "text/plain": [
       "2"
      ]
     },
     "execution_count": 8,
     "metadata": {},
     "output_type": "execute_result"
    }
   ],
   "source": [
    "\"\"\"\n",
    "Given an unsorted integer array nums, return the smallest missing positive integer.\n",
    "You must implement an algorithm that runs in O(n) time and uses constant extra space.\n",
    "Example 1:\n",
    "\n",
    "Input: nums = [1,2,0]\n",
    "Output: 3\n",
    "Example 2:\n",
    "\n",
    "Input: nums = [3,4,-1,1]\n",
    "Output: 2\n",
    "Example 3:\n",
    "\n",
    "Input: nums = [7,8,9,11,12]\n",
    "Output: 1\n",
    "\"\"\"\n",
    "\n",
    "class Solution:\n",
    "    def firstMissingPositive(self, nums: List[int]) -> int:\n",
    "        # We are going to set the low border (the initial position is 1) and each time, - if the element equals to\n",
    "        # the low border, - the low border should be increased by 1\n",
    "        # Otherwise, if the element > low border - we add it to the list ('high' variable)\n",
    "        # Finally, following the 'for loop' the 'while loop' will increase gradually the low border by 1, so if the new value\n",
    "        # won't be among values within the list, then, we return exactly this value\n",
    "        \n",
    "        low = 1\n",
    "        high = []\n",
    "        for i in nums:\n",
    "            if i > 0:\n",
    "                if i == low:\n",
    "                    low += 1\n",
    "                else:\n",
    "                    if i > low:\n",
    "                        high.append(i)\n",
    "        while low in high:\n",
    "            low += 1\n",
    "        return low\n",
    "    \n",
    "a = Solution()\n",
    "a.firstMissingPositive([3,4,-1,1])"
   ]
  }
 ],
 "metadata": {
  "kernelspec": {
   "display_name": "Python 3 (ipykernel)",
   "language": "python",
   "name": "python3"
  },
  "language_info": {
   "codemirror_mode": {
    "name": "ipython",
    "version": 3
   },
   "file_extension": ".py",
   "mimetype": "text/x-python",
   "name": "python",
   "nbconvert_exporter": "python",
   "pygments_lexer": "ipython3",
   "version": "3.9.7"
  }
 },
 "nbformat": 4,
 "nbformat_minor": 5
}
