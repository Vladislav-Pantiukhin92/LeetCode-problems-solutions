{
 "cells": [
  {
   "cell_type": "markdown",
   "id": "bb1285af",
   "metadata": {},
   "source": [
    "### 41. First Missing Positive"
   ]
  },
  {
   "cell_type": "code",
   "execution_count": 285,
   "id": "760edb06",
   "metadata": {},
   "outputs": [
    {
     "name": "stdout",
     "output_type": "stream",
     "text": [
      "2\n"
     ]
    }
   ],
   "source": [
    "\"\"\"\n",
    "Given an unsorted integer array nums, return the smallest missing positive integer.\n",
    "You must implement an algorithm that runs in O(n) time and uses constant extra space.\n",
    "\n",
    "Example 1:\n",
    "\n",
    "Input: nums = [1,2,0]\n",
    "Output: 3\n",
    "Example 2:\n",
    "\n",
    "Input: nums = [3,4,-1,1]\n",
    "Output: 2\n",
    "Example 3:\n",
    "\n",
    "Input: nums = [7,8,9,11,12]\n",
    "Output: 1\n",
    "\"\"\"\n",
    "\n",
    "class Solution:\n",
    "    def firstMissingPositive(self, nums: List[int]) -> int:\n",
    "        nums = sorted(list(set((list(filter(lambda x: x > 0, nums))))))\n",
    "        if not nums: # If nums is empty, it means that the first positive integer is 1\n",
    "            return 1\n",
    "        # Let's create the 'ideal' sorted full sequence, where integers are in full order\n",
    "        # Two initialized pointers will compare the numbers\n",
    "        # And if in the input list the number is different, the element from an 'ideal' sequence will be returned\n",
    "        lst = list(range(1, len(nums) + 1))\n",
    "        i = 0\n",
    "        j = 0\n",
    "        while i < len(nums) and nums[i] == lst[j]:\n",
    "            i += 1\n",
    "            j += 1\n",
    "        # If there are no missed values, then the next element (beyond the array) should be returned (the last element + 1)\n",
    "        if i >= len(nums):\n",
    "            return nums[-1] + 1\n",
    "        else:\n",
    "            return lst[j]\n",
    "\n",
    "a = Solution()\n",
    "print(a.firstMissingPositive([1,1000]))"
   ]
  }
 ],
 "metadata": {
  "kernelspec": {
   "display_name": "Python 3 (ipykernel)",
   "language": "python",
   "name": "python3"
  },
  "language_info": {
   "codemirror_mode": {
    "name": "ipython",
    "version": 3
   },
   "file_extension": ".py",
   "mimetype": "text/x-python",
   "name": "python",
   "nbconvert_exporter": "python",
   "pygments_lexer": "ipython3",
   "version": "3.9.7"
  }
 },
 "nbformat": 4,
 "nbformat_minor": 5
}
