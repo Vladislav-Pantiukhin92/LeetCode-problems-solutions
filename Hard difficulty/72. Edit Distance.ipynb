{
 "cells": [
  {
   "cell_type": "markdown",
   "id": "8c4ae4d4",
   "metadata": {},
   "source": [
    "### 72. Edit Distance"
   ]
  },
  {
   "cell_type": "code",
   "execution_count": 6,
   "id": "c7ec4934",
   "metadata": {},
   "outputs": [
    {
     "data": {
      "text/plain": [
       "3"
      ]
     },
     "execution_count": 6,
     "metadata": {},
     "output_type": "execute_result"
    }
   ],
   "source": [
    "\"\"\"\n",
    "Given two strings word1 and word2, return the minimum number of operations \n",
    "required to convert word1 to word2.\n",
    "You have the following three operations permitted on a word:\n",
    "\n",
    "Insert a character\n",
    "Delete a character\n",
    "Replace a character\n",
    "\n",
    "Example 1:\n",
    "\n",
    "Input: word1 = \"horse\", word2 = \"ros\"\n",
    "Output: 3\n",
    "Explanation: \n",
    "horse -> rorse (replace 'h' with 'r')\n",
    "rorse -> rose (remove 'r')\n",
    "rose -> ros (remove 'e')\n",
    "Example 2:\n",
    "\n",
    "Input: word1 = \"intention\", word2 = \"execution\"\n",
    "Output: 5\n",
    "Explanation: \n",
    "intention -> inention (remove 't')\n",
    "inention -> enention (replace 'i' with 'e')\n",
    "enention -> exention (replace 'n' with 'x')\n",
    "exention -> exection (replace 'n' with 'c')\n",
    "exection -> execution (insert 'u')\n",
    "\"\"\"\n",
    "\n",
    "import numpy as np\n",
    "# Numpy will be used to create the 2-D array, matrix, dimension - m х n, where m - is the length of the first\n",
    "# word( + 1) and n - is the length of the second word( + 1)\n",
    "\n",
    "class Solution:\n",
    "    def minDistance(self, word1: str, word2: str) -> int:\n",
    "        # To solve this problem the Levenshtein distance algorithm will be used\n",
    "        matrix = np.zeros((len(word1) + 1, len(word2) + 1))\n",
    "        for i in range(1, len(word1) + 1):\n",
    "            matrix[i][0] = i # Enumeration of rows\n",
    "        for j in range(1, len(word2) + 1):\n",
    "            matrix[0][j] = j # Enumeration of columns\n",
    "        for x in range(1, len(word1) + 1):\n",
    "            for y in range(1, len(word2) + 1):\n",
    "                # In case of letters' similarity we just preserve the previous result (distance)\n",
    "                if word1[x - 1] == word2[y - 1]:\n",
    "                    matrix[x][y] = matrix[x - 1][y - 1]\n",
    "                else:\n",
    "                # In case of letters' disparity we increase the distance by 1 (using the minimum value ) in the \n",
    "                # nearest dimension 2 х 2\n",
    "                    a = matrix[x - 1][y - 1]\n",
    "                    b = matrix[x][y - 1]\n",
    "                    c = matrix[x - 1][y]\n",
    "                    if a <= b and a <= c:\n",
    "                        matrix[x][y] = a + 1\n",
    "                    elif b <= c and b <= a:\n",
    "                        matrix[x][y] = b + 1\n",
    "                    else:\n",
    "                        matrix[x][y] = c + 1\n",
    "        return int(matrix[len(word1)][len(word2)])\n",
    "    \n",
    "a = Solution()\n",
    "a.minDistance(\"horse\", \"ros\")"
   ]
  }
 ],
 "metadata": {
  "kernelspec": {
   "display_name": "Python 3 (ipykernel)",
   "language": "python",
   "name": "python3"
  },
  "language_info": {
   "codemirror_mode": {
    "name": "ipython",
    "version": 3
   },
   "file_extension": ".py",
   "mimetype": "text/x-python",
   "name": "python",
   "nbconvert_exporter": "python",
   "pygments_lexer": "ipython3",
   "version": "3.9.7"
  }
 },
 "nbformat": 4,
 "nbformat_minor": 5
}
