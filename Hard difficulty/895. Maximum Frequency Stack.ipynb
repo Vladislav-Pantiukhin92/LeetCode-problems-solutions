{
 "cells": [
  {
   "cell_type": "markdown",
   "id": "54008ed9",
   "metadata": {},
   "source": [
    "### 895. Maximum Frequency Stack"
   ]
  },
  {
   "cell_type": "code",
   "execution_count": null,
   "id": "3dd5388f",
   "metadata": {},
   "outputs": [],
   "source": [
    "\"\"\"\n",
    "Design a stack-like data structure to push elements to the stack and pop the most frequent \n",
    "element from the stack.\n",
    "Implement the FreqStack class:\n",
    "\n",
    "FreqStack() constructs an empty frequency stack.\n",
    "void push(int val) pushes an integer val onto the top of the stack.\n",
    "int pop() removes and returns the most frequent element in the stack.\n",
    "If there is a tie for the most frequent element, the element closest to the stack's top is removed and returned.\n",
    "Example 1:\n",
    "\n",
    "Input\n",
    "[\"FreqStack\", \"push\", \"push\", \"push\", \"push\", \"push\", \"push\", \"pop\", \"pop\", \"pop\", \"pop\"]\n",
    "[[], [5], [7], [5], [7], [4], [5], [], [], [], []]\n",
    "Output\n",
    "[null, null, null, null, null, null, null, 5, 7, 5, 4]\n",
    "\n",
    "Explanation\n",
    "FreqStack freqStack = new FreqStack();\n",
    "freqStack.push(5); // The stack is [5]\n",
    "freqStack.push(7); // The stack is [5,7]\n",
    "freqStack.push(5); // The stack is [5,7,5]\n",
    "freqStack.push(7); // The stack is [5,7,5,7]\n",
    "freqStack.push(4); // The stack is [5,7,5,7,4]\n",
    "freqStack.push(5); // The stack is [5,7,5,7,4,5]\n",
    "freqStack.pop();   // return 5, as 5 is the most frequent. The stack becomes [5,7,5,7,4].\n",
    "freqStack.pop();   // return 7, as 5 and 7 is the most frequent, but 7 is closest to the top. The stack becomes [5,7,5,4].\n",
    "freqStack.pop();   // return 5, as 5 is the most frequent. The stack becomes [5,7,4].\n",
    "freqStack.pop();   // return 4, as 4, 5 and 7 is the most frequent, but 4 is closest to the top. The stack becomes [5,7].\n",
    "\"\"\"\n",
    "\n",
    "class FreqStack:\n",
    "\n",
    "    def __init__(self):\n",
    "        self.myStack = [] # We are going to initialize the stack structure\n",
    "        self.hashTable = {} # hashTable will be used to count occurrences of elements\n",
    "        self.maxFrequency = [] # Each time the list will store the frequency \n",
    "\n",
    "    def push(self, val: int) -> None:\n",
    "        self.myStack.append(val) # We add the new element to our stack\n",
    "        if val not in self.hashTable: # If the new element is not among the keys of the hashTable, we add the new key\n",
    "            self.hashTable[val] = 1 # Occurrence of the new key \n",
    "        else:\n",
    "            self.hashTable[val] += 1 # Occurrence of the key, which is already within the hashTable\n",
    "        self.maxFrequency.append(self.hashTable[val]) # All frequences are added to the list\n",
    "        self.maxFrequency = sorted(self.maxFrequency) # The list with frequences is to be sorted\n",
    "\n",
    "    def pop(self):\n",
    "        # We are going to use the 'for loop' not from the beginning of the array, but from its end\n",
    "        for i in range(len(self.myStack) - 1, -1, -1):\n",
    "            # The main point is that if the occurrence of the element in the hashTable equals to the frequency in the list\n",
    "            # then, we should remove exactly this element\n",
    "            if self.hashTable[self.myStack[i]] == self.maxFrequency[-1]:\n",
    "                self.hashTable[self.myStack[i]] -= 1 # Occurrence in the hashTable is decreased by 1\n",
    "                self.maxFrequency.pop() # The frequency element is removed as well\n",
    "                return self.myStack.pop(i)"
   ]
  }
 ],
 "metadata": {
  "kernelspec": {
   "display_name": "Python 3 (ipykernel)",
   "language": "python",
   "name": "python3"
  },
  "language_info": {
   "codemirror_mode": {
    "name": "ipython",
    "version": 3
   },
   "file_extension": ".py",
   "mimetype": "text/x-python",
   "name": "python",
   "nbconvert_exporter": "python",
   "pygments_lexer": "ipython3",
   "version": "3.9.7"
  }
 },
 "nbformat": 4,
 "nbformat_minor": 5
}
