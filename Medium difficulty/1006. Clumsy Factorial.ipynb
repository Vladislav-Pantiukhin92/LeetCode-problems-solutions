{
 "cells": [
  {
   "cell_type": "markdown",
   "id": "50c6ae71",
   "metadata": {},
   "source": [
    "### 1006. Clumsy Factorial"
   ]
  },
  {
   "cell_type": "code",
   "execution_count": 7,
   "id": "274df49c",
   "metadata": {},
   "outputs": [
    {
     "data": {
      "text/plain": [
       "12"
      ]
     },
     "execution_count": 7,
     "metadata": {},
     "output_type": "execute_result"
    }
   ],
   "source": [
    "\"\"\"\n",
    "The factorial of a positive integer n is the product of all positive integers less than or equal to n.\n",
    "For example, factorial(10) = 10 * 9 * 8 * 7 * 6 * 5 * 4 * 3 * 2 * 1.\n",
    "We make a clumsy factorial using the integers in decreasing order by swapping out the multiply operations \n",
    "for a fixed rotation of operations with multiply '*', divide '/', add '+', and subtract '-' in this order.\n",
    "For example, clumsy(10) = 10 * 9 / 8 + 7 - 6 * 5 / 4 + 3 - 2 * 1.\n",
    "However, these operations are still applied using the usual order of operations of arithmetic. \n",
    "We do all multiplication and division steps before any addition or subtraction steps, and multiplication \n",
    "and division steps are processed left to right.\n",
    "Additionally, the division that we use is floor division such that 10 * 9 / 8 = 90 / 8 = 11.\n",
    "Given an integer n, return the clumsy factorial of n.\n",
    "Example 1:\n",
    "\n",
    "Input: n = 4\n",
    "Output: 7\n",
    "Explanation: 7 = 4 * 3 / 2 + 1\n",
    "Example 2:\n",
    "\n",
    "Input: n = 10\n",
    "Output: 12\n",
    "Explanation: 12 = 10 * 9 / 8 + 7 - 6 * 5 / 4 + 3 - 2 * 1\n",
    "\"\"\"\n",
    "\n",
    "class Solution:\n",
    "    def clumsy(self, n: int) -> int:\n",
    "        string = [] # The container, which will store math expressions\n",
    "        max_operation = [\"*\", \"//\", \"+\", \"-\"]  # Let's create the list with different-priority math operators, \n",
    "        # where the product is the first-priority max operation and subtraction is the last priority math operation\n",
    "        while n != 0: # We are going to add numbers with the corresponding math operator to the container one-by-one, \n",
    "            # while the factorial number != 0\n",
    "            string += [str(n)]\n",
    "            curOperation = max_operation.pop(0)\n",
    "            string += [curOperation]\n",
    "            max_operation.append(curOperation)\n",
    "            n -= 1\n",
    "        if not string[-1].isdigit(): # The last element of the container can be a non-digit character. If this is the case,\n",
    "            # we should remove it. If the last element is a digit character - we preserve it within the container\n",
    "            string.pop()\n",
    "        return eval(\"\".join(string)) # We are going to use the 'eval' function to run the accumulated \n",
    "    # math expression and return the final result\n",
    "    \n",
    "a = Solution()\n",
    "a.clumsy(10)"
   ]
  }
 ],
 "metadata": {
  "kernelspec": {
   "display_name": "Python 3 (ipykernel)",
   "language": "python",
   "name": "python3"
  },
  "language_info": {
   "codemirror_mode": {
    "name": "ipython",
    "version": 3
   },
   "file_extension": ".py",
   "mimetype": "text/x-python",
   "name": "python",
   "nbconvert_exporter": "python",
   "pygments_lexer": "ipython3",
   "version": "3.9.7"
  }
 },
 "nbformat": 4,
 "nbformat_minor": 5
}
