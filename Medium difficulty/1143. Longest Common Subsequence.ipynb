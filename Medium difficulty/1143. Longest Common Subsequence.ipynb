{
 "cells": [
  {
   "cell_type": "markdown",
   "id": "b50d7c6f",
   "metadata": {},
   "source": [
    "### 1143. Longest Common Subsequence"
   ]
  },
  {
   "cell_type": "code",
   "execution_count": 2,
   "id": "a3ce9978",
   "metadata": {},
   "outputs": [
    {
     "data": {
      "text/plain": [
       "3"
      ]
     },
     "execution_count": 2,
     "metadata": {},
     "output_type": "execute_result"
    }
   ],
   "source": [
    "\"\"\"\n",
    "Given two strings text1 and text2, return the length of their longest common subsequence. \n",
    "If there is no common subsequence, return 0.\n",
    "A subsequence of a string is a new string generated from the original string with some characters \n",
    "(can be none) deleted without changing the relative order of the remaining characters.\n",
    "For example, \"ace\" is a subsequence of \"abcde\".\n",
    "A common subsequence of two strings is a subsequence that is common to both strings.\n",
    "Example 1:\n",
    "\n",
    "Input: text1 = \"abcde\", text2 = \"ace\" \n",
    "Output: 3  \n",
    "Explanation: The longest common subsequence is \"ace\" and its length is 3.\n",
    "Example 2:\n",
    "\n",
    "Input: text1 = \"abc\", text2 = \"abc\"\n",
    "Output: 3\n",
    "Explanation: The longest common subsequence is \"abc\" and its length is 3.\n",
    "Example 3:\n",
    "\n",
    "Input: text1 = \"abc\", text2 = \"def\"\n",
    "Output: 0\n",
    "Explanation: There is no such common subsequence, so the result is 0.\n",
    "\"\"\"\n",
    "\n",
    "# The algorithm to find the longest common subsequence\n",
    "\n",
    "import numpy as np # 'numpy' will be used to create the 2-D array, matrix\n",
    "\n",
    "class Solution:\n",
    "    def longestCommonSubsequence(self, text1: str, text2: str) -> int:\n",
    "        matrix = np.zeros((len(text1) + 1, len(text2) + 1)) # Initially the matrix is filled only with zeros\n",
    "        for i in range(1, len(text1) + 1):\n",
    "            for j in range(1, len(text2) + 1):\n",
    "                if text1[i - 1] == text2[j - 1]: # If parallel values of two input texts are the same, then \n",
    "                    # the value in the corresponding matrix square will be increased by 1\n",
    "                    matrix[i][j] = matrix[i - 1][j - 1] + 1\n",
    "                else:\n",
    "                    # Otherwise, the relevant value for the current matrix square should be found within the \n",
    "                    # below-mentioned squares (the maxValue)\n",
    "                    matrix[i][j] = max(matrix[i - 1][j], matrix[i][j - 1])\n",
    "        return int(matrix[-1][-1])\n",
    "    \n",
    "a = Solution()\n",
    "a.longestCommonSubsequence(\"abcde\", \"ace\")"
   ]
  }
 ],
 "metadata": {
  "kernelspec": {
   "display_name": "Python 3 (ipykernel)",
   "language": "python",
   "name": "python3"
  },
  "language_info": {
   "codemirror_mode": {
    "name": "ipython",
    "version": 3
   },
   "file_extension": ".py",
   "mimetype": "text/x-python",
   "name": "python",
   "nbconvert_exporter": "python",
   "pygments_lexer": "ipython3",
   "version": "3.9.7"
  }
 },
 "nbformat": 4,
 "nbformat_minor": 5
}
