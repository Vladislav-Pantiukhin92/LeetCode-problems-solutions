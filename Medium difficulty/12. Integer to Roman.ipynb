{
 "cells": [
  {
   "cell_type": "markdown",
   "id": "82f7243e",
   "metadata": {},
   "source": [
    "### 12. Integer to Roman"
   ]
  },
  {
   "cell_type": "code",
   "execution_count": 201,
   "id": "6561325b",
   "metadata": {},
   "outputs": [
    {
     "data": {
      "text/plain": [
       "'MCMXCIV'"
      ]
     },
     "execution_count": 201,
     "metadata": {},
     "output_type": "execute_result"
    }
   ],
   "source": [
    "\"\"\"\n",
    "Roman numerals are represented by seven different symbols: I, V, X, L, C, D and M.\n",
    "\n",
    "Symbol       Value\n",
    "I             1\n",
    "V             5\n",
    "X             10\n",
    "L             50\n",
    "C             100\n",
    "D             500\n",
    "M             1000\n",
    "For example, 2 is written as II in Roman numeral, just two one's added together. \n",
    "12 is written as XII, which is simply X + II. The number 27 is written as XXVII, which is XX + V + II.\n",
    "\n",
    "Roman numerals are usually written largest to smallest from left to right. However, \n",
    "the numeral for four is not IIII. Instead, the number four is written as IV. \n",
    "Because the one is before the five we subtract it making four. \n",
    "The same principle applies to the number nine, which is written as IX. \n",
    "There are six instances where subtraction is used:\n",
    "\n",
    "I can be placed before V (5) and X (10) to make 4 and 9. \n",
    "X can be placed before L (50) and C (100) to make 40 and 90. \n",
    "C can be placed before D (500) and M (1000) to make 400 and 900.\n",
    "Given an integer, convert it to a roman numeral.\n",
    "\n",
    "Example 1:\n",
    "\n",
    "Input: num = 3\n",
    "Output: \"III\"\n",
    "Explanation: 3 is represented as 3 ones.\n",
    "Example 2:\n",
    "\n",
    "Input: num = 58\n",
    "Output: \"LVIII\"\n",
    "Explanation: L = 50, V = 5, III = 3.\n",
    "Example 3:\n",
    "\n",
    "Input: num = 1994\n",
    "Output: \"MCMXCIV\"\n",
    "Explanation: M = 1000, CM = 900, XC = 90 and IV = 4.\n",
    "\"\"\"\n",
    "\n",
    "class Solution:\n",
    "    def intToRoman(self, num: int) -> str:\n",
    "        # Let's create the dictionary, where keys are decimal numbers and values are roman integers\n",
    "        my_dict = {\n",
    "            1: \"I\",\n",
    "            4: \"IV\",\n",
    "            5: \"V\",\n",
    "            9: \"IX\",\n",
    "            10: \"X\",\n",
    "            40: \"XL\",\n",
    "            50: \"L\",\n",
    "            90: \"XC\",\n",
    "            100: \"C\",\n",
    "            400: \"CD\",\n",
    "            500: \"D\",\n",
    "            900: \"CM\",\n",
    "            1000: \"M\"\n",
    "        }\n",
    "        string = \"\"  \n",
    "        relevant = \"\"\n",
    "        while True:\n",
    "            # The minResult variable will preserve the minumum division result\n",
    "            # This result will help identify the appropriate roman integer\n",
    "            minResult = float(\"inf\") \n",
    "            for i in my_dict: # Iteration over dictionary keys\n",
    "                # The result should not be 0, as it means that 'i' is bigger number than the input\n",
    "                if number // i <= minResult and number // i != 0: nput\n",
    "                    minResult = number // i\n",
    "                    curKey = i\n",
    "            number -= curKey # if the roman integer is determined, the relevant decimal number is subtracted from the input\n",
    "            string += my_dict[curKey] # The string stores the appropriate dictionary values - roman integers\n",
    "            if number == 0: # As long as the number != 0, 'while True' loop continues\n",
    "                break\n",
    "        return string\n",
    "                \n",
    "                    \n",
    "a = Solution()\n",
    "a.intToRoman(1994)"
   ]
  }
 ],
 "metadata": {
  "kernelspec": {
   "display_name": "Python 3 (ipykernel)",
   "language": "python",
   "name": "python3"
  },
  "language_info": {
   "codemirror_mode": {
    "name": "ipython",
    "version": 3
   },
   "file_extension": ".py",
   "mimetype": "text/x-python",
   "name": "python",
   "nbconvert_exporter": "python",
   "pygments_lexer": "ipython3",
   "version": "3.9.7"
  }
 },
 "nbformat": 4,
 "nbformat_minor": 5
}
