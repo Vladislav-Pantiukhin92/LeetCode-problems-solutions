{
 "cells": [
  {
   "cell_type": "markdown",
   "id": "d88383ee",
   "metadata": {},
   "source": [
    "### 1209. Remove All Adjacent Duplicates in String II"
   ]
  },
  {
   "cell_type": "code",
   "execution_count": 95,
   "id": "6d31cc81",
   "metadata": {},
   "outputs": [
    {
     "data": {
      "text/plain": [
       "'ps'"
      ]
     },
     "execution_count": 95,
     "metadata": {},
     "output_type": "execute_result"
    }
   ],
   "source": [
    "\"\"\"\n",
    "You are given a string s and an integer k, a k duplicate removal consists of choosing k adjacent and \n",
    "equal letters from s and removing them, causing the left and the right side of the deleted substring to concatenate together.\n",
    "We repeatedly make k duplicate removals on s until we no longer can.\n",
    "Return the final string after all such duplicate removals have been made. It is guaranteed that the answer is unique.\n",
    "Example 1:\n",
    "\n",
    "Input: s = \"abcd\", k = 2\n",
    "Output: \"abcd\"\n",
    "Explanation: There's nothing to delete.\n",
    "Example 2:\n",
    "\n",
    "Input: s = \"deeedbbcccbdaa\", k = 3\n",
    "Output: \"aa\"\n",
    "Explanation: \n",
    "First delete \"eee\" and \"ccc\", get \"ddbbbdaa\"\n",
    "Then delete \"bbb\", get \"dddaa\"\n",
    "Finally delete \"ddd\", get \"aa\"\n",
    "Example 3:\n",
    "\n",
    "Input: s = \"pbbcggttciiippooaais\", k = 2\n",
    "Output: \"ps\"\n",
    "\"\"\"\n",
    "\n",
    "class Solution:\n",
    "    def removeDuplicates(self, s: str, k: int) -> str:\n",
    "        alphabet = set(s) # Through the initialized set structure we extract unique values of the input string\n",
    "        # Through the first iteration we can remove the obvious, visible adjacent letters\n",
    "        for i in alphabet:\n",
    "            s = s.replace(i * k, \"\")\n",
    "        # After that the stack structure is created as well as the dictionary, where keys are elements and values are \n",
    "        # their occurrences within the string input\n",
    "        myStack = []\n",
    "        hashTable = {}\n",
    "        for i in s:\n",
    "            myStack.append(i) # While adding elements to the stack structure, we count all occurrences through the hashTable\n",
    "            if i not in hashTable:\n",
    "                hashTable[i] = 1\n",
    "            else:\n",
    "                hashTable[i] += 1\n",
    "            # Finally, if a dict_value attained the occurrence, equaling to the target number 'k', we check \n",
    "            # whether these elements are duplicates. It is verified through the set structure, where duplicates, \n",
    "            # vice versa, are removed. If the set length is 1, it means that the k duplicates have been encountered\n",
    "            if hashTable[i] >= k: \n",
    "                if len(set(myStack[-k:])) == 1:\n",
    "                    # When duplicates were identified they are removed and the key-value pairs in the hashTable are amended\n",
    "                    for _ in range(k):\n",
    "                        myStack.pop()\n",
    "                    if hashTable[i] == k:\n",
    "                        del hashTable[i]\n",
    "                    else:\n",
    "                        hashTable[i] -= k\n",
    "\n",
    "        return \"\".join(myStack) # The stack in the string form is returned\n",
    "    \n",
    "a = Solution()\n",
    "a.removeDuplicates(\"pbbcggttciiippooaais\", 2)"
   ]
  }
 ],
 "metadata": {
  "kernelspec": {
   "display_name": "Python 3 (ipykernel)",
   "language": "python",
   "name": "python3"
  },
  "language_info": {
   "codemirror_mode": {
    "name": "ipython",
    "version": 3
   },
   "file_extension": ".py",
   "mimetype": "text/x-python",
   "name": "python",
   "nbconvert_exporter": "python",
   "pygments_lexer": "ipython3",
   "version": "3.9.7"
  }
 },
 "nbformat": 4,
 "nbformat_minor": 5
}
