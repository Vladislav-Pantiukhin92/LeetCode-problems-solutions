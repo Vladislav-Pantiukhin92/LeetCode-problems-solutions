{
 "cells": [
  {
   "cell_type": "markdown",
   "id": "6272293b",
   "metadata": {},
   "source": [
    "### 128. Longest Consecutive Sequence"
   ]
  },
  {
   "cell_type": "code",
   "execution_count": 26,
   "id": "8fb010d0",
   "metadata": {},
   "outputs": [
    {
     "data": {
      "text/plain": [
       "4"
      ]
     },
     "execution_count": 26,
     "metadata": {},
     "output_type": "execute_result"
    }
   ],
   "source": [
    "\"\"\"\n",
    "Given an unsorted array of integers nums, return the length of the longest consecutive \n",
    "elements sequence.\n",
    "You must write an algorithm that runs in O(n) time.\n",
    "\n",
    "Example 1:\n",
    "\n",
    "Input: nums = [100,4,200,1,3,2]\n",
    "Output: 4\n",
    "Explanation: The longest consecutive elements sequence is [1, 2, 3, 4]. Therefore its length is 4.\n",
    "Example 2:\n",
    "\n",
    "Input: nums = [0,3,7,2,5,8,4,6,0,1]\n",
    "Output: 9\n",
    "\"\"\"\n",
    "\n",
    "class Solution:\n",
    "    def longestConsecutive(self, nums: List[int]) -> int:\n",
    "        if not nums: # If nums is empty we return 0 \n",
    "            return 0\n",
    "        maxLength = 0\n",
    "        curLength = 0\n",
    "        sortedArray = sorted(list(set(nums))) # To find the longest consecutive sequence we are going to sort the array\n",
    "        i = sortedArray[0]\n",
    "        r = 0\n",
    "        # While the consecutive trend is taking place, we increase the counter by 1\n",
    "        # As soon as this consecutive trend comes to an end, we stop the counter\n",
    "        # If the counter contains the maxValue we pass this maxValue on to the maxLength variable\n",
    "        # After that the counter is annulled and the counting process starts again\n",
    "        \n",
    "        while r < len(sortedArray):\n",
    "            if sortedArray[r] == i:\n",
    "                curLength += 1\n",
    "                r += 1\n",
    "                i += 1\n",
    "            else:\n",
    "                i = sortedArray[r]\n",
    "                if curLength > maxLength:\n",
    "                    maxLength = curLength\n",
    "                curLength = 0\n",
    "        if maxLength > curLength:\n",
    "            return maxLength\n",
    "        return curLength\n",
    "    \n",
    "a = Solution()\n",
    "a.longestConsecutive([100,4,200,1,3,2])"
   ]
  }
 ],
 "metadata": {
  "kernelspec": {
   "display_name": "Python 3 (ipykernel)",
   "language": "python",
   "name": "python3"
  },
  "language_info": {
   "codemirror_mode": {
    "name": "ipython",
    "version": 3
   },
   "file_extension": ".py",
   "mimetype": "text/x-python",
   "name": "python",
   "nbconvert_exporter": "python",
   "pygments_lexer": "ipython3",
   "version": "3.9.7"
  }
 },
 "nbformat": 4,
 "nbformat_minor": 5
}
