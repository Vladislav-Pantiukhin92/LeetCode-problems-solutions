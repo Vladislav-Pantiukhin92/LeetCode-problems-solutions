{
 "cells": [
  {
   "cell_type": "markdown",
   "id": "c2c854a1",
   "metadata": {},
   "source": [
    "### 137. Single Number II"
   ]
  },
  {
   "cell_type": "code",
   "execution_count": 74,
   "id": "ae690534",
   "metadata": {},
   "outputs": [
    {
     "data": {
      "text/plain": [
       "3"
      ]
     },
     "execution_count": 74,
     "metadata": {},
     "output_type": "execute_result"
    }
   ],
   "source": [
    "\"\"\"\n",
    "Given an integer array nums where every element appears three times except for one, \n",
    "which appears exactly once. Find the single element and return it.\n",
    "You must implement a solution with a linear runtime complexity and use only constant extra space.\n",
    "\n",
    "Example 1:\n",
    "\n",
    "Input: nums = [2,2,3,2]\n",
    "Output: 3\n",
    "Example 2:\n",
    "\n",
    "Input: nums = [0,1,0,1,0,1,99]\n",
    "Output: 99\n",
    "\"\"\"\n",
    "\n",
    "class Solution:\n",
    "    def singleNumber(self, nums: List[int]) -> int:\n",
    "    # Let's create the hashTable (dictionary), where keys are elements within the array and values are their occurences    \n",
    "        hashTable = {}\n",
    "        for i in nums:\n",
    "            if i not in hashTable:\n",
    "                hashTable[i] = 1 # If the key is not within the array, we add the key with the occurence = 1\n",
    "            else:\n",
    "                hashTable[i] += 1 # If the key is already within the array, we just increase the occurence by 1\n",
    "        for j in hashTable:\n",
    "            if hashTable[j] == 1:\n",
    "                return j # Finally we return the key, equaling to 1\n",
    "            \n",
    "a = Solution()\n",
    "a.singleNumber([2,2,3,2])"
   ]
  }
 ],
 "metadata": {
  "kernelspec": {
   "display_name": "Python 3 (ipykernel)",
   "language": "python",
   "name": "python3"
  },
  "language_info": {
   "codemirror_mode": {
    "name": "ipython",
    "version": 3
   },
   "file_extension": ".py",
   "mimetype": "text/x-python",
   "name": "python",
   "nbconvert_exporter": "python",
   "pygments_lexer": "ipython3",
   "version": "3.9.7"
  }
 },
 "nbformat": 4,
 "nbformat_minor": 5
}
