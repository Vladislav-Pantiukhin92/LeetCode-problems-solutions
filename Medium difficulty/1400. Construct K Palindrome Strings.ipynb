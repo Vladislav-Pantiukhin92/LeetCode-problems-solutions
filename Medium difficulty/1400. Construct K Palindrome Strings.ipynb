{
 "cells": [
  {
   "cell_type": "markdown",
   "id": "4a7f0d9c",
   "metadata": {},
   "source": [
    "### 1400. Construct K Palindrome Strings"
   ]
  },
  {
   "cell_type": "code",
   "execution_count": 100,
   "id": "c10153e9",
   "metadata": {},
   "outputs": [
    {
     "data": {
      "text/plain": [
       "True"
      ]
     },
     "execution_count": 100,
     "metadata": {},
     "output_type": "execute_result"
    }
   ],
   "source": [
    "\"\"\"\n",
    "Given a string s and an integer k, return true if you can use all the characters \n",
    "in s to construct k palindrome strings or false otherwise.\n",
    "Example 1:\n",
    "\n",
    "Input: s = \"annabelle\", k = 2\n",
    "Output: true\n",
    "Explanation: You can construct two palindromes using all characters in s.\n",
    "Some possible constructions \"anna\" + \"elble\", \"anbna\" + \"elle\", \"anellena\" + \"b\"\n",
    "Example 2:\n",
    "\n",
    "Input: s = \"leetcode\", k = 3\n",
    "Output: false\n",
    "Explanation: It is impossible to construct 3 palindromes using all the characters of s.\n",
    "Example 3:\n",
    "\n",
    "Input: s = \"true\", k = 4\n",
    "Output: true\n",
    "Explanation: The only possible solution is to put each character in a separate string.\n",
    "\"\"\"\n",
    "\n",
    "from collections import deque # 'collections.deque' is necessary for removing last elements and adding new elements at the beginning of the list\n",
    "from collections import Counter # 'collections.Counter' is used to create the dictionary, where keys are characters\n",
    "# and values are their occurrences\n",
    "\n",
    "class Solution:\n",
    "    def canConstruct(self, s: str, k: int) -> bool:\n",
    "        if len(s) == k: # If the string length equals to the 'k' value, it means that each letter can be a palindrome\n",
    "            return True\n",
    "        elif k > len(s): # If the string length is bigger than the 'k' value, it is impossible to create more palindromes \n",
    "            # than letters\n",
    "            return False\n",
    "        else:\n",
    "            # As the dictionary with occurrences is created, we can transform it into the list of elements (dict_values)\n",
    "            myValues = list(dict(Counter(s)).values())\n",
    "            # Besides, let's create two lists: the first one with even occurrences, the second one with odd occurrences\n",
    "            evenNums = list(filter(lambda x: x % 2 == 0, myValues))\n",
    "            oddNums = list(filter(lambda y: y % 2 != 0, myValues)) \n",
    "            odd_ = len(oddNums)\n",
    "            # The stack is created, even occurrences will be at the beginning of the list, odd occurrences \n",
    "            # will be at the end of the list\n",
    "            myStack = deque(evenNums + oddNums)\n",
    "            # Each time we are going to extract the last element, decreased by 1 (one letter for each 'k' value)\n",
    "            # if after subtraction the element is even we insert it at the beginning of the list, otherwise \n",
    "            # we return it to its original position\n",
    "            for _ in range(k - 1):\n",
    "                curElement = myStack.pop()\n",
    "                curElement = curElement - 1\n",
    "                if curElement > 0 and curElement % 2 == 0:\n",
    "                    myStack.appendleft(curElement)\n",
    "                    odd_ -= 1\n",
    "                elif curElement > 0 and curElement % 2 != 0:\n",
    "                    myStack.append(curElement)\n",
    "                    odd_ += 1\n",
    "                else:\n",
    "                    odd_ -= 1\n",
    "        # Finally, for the last 'k' (palindrome combination) the stack with only even numbers or with only 1 \n",
    "        # odd number return True, otherwise it returns False\n",
    "        if odd_ > 1:\n",
    "            return False\n",
    "        return True\n",
    "a = Solution()\n",
    "a.canConstruct(\"annabelle\", 2)"
   ]
  }
 ],
 "metadata": {
  "kernelspec": {
   "display_name": "Python 3 (ipykernel)",
   "language": "python",
   "name": "python3"
  },
  "language_info": {
   "codemirror_mode": {
    "name": "ipython",
    "version": 3
   },
   "file_extension": ".py",
   "mimetype": "text/x-python",
   "name": "python",
   "nbconvert_exporter": "python",
   "pygments_lexer": "ipython3",
   "version": "3.9.7"
  }
 },
 "nbformat": 4,
 "nbformat_minor": 5
}
