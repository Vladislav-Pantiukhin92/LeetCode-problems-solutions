{
 "cells": [
  {
   "cell_type": "markdown",
   "id": "cbeee812",
   "metadata": {},
   "source": [
    "### 1404. Number of Steps to Reduce a Number in Binary Representation to One"
   ]
  },
  {
   "cell_type": "code",
   "execution_count": 10,
   "id": "8bcabcba",
   "metadata": {},
   "outputs": [
    {
     "data": {
      "text/plain": [
       "6"
      ]
     },
     "execution_count": 10,
     "metadata": {},
     "output_type": "execute_result"
    }
   ],
   "source": [
    "\"\"\"\n",
    "Given the binary representation of an integer as a string s, return the number of steps to reduce \n",
    "it to 1 under the following rules:\n",
    "If the current number is even, you have to divide it by 2.\n",
    "If the current number is odd, you have to add 1 to it.\n",
    "It is guaranteed that you can always reach one for all test cases.\n",
    "Example 1:\n",
    "\n",
    "Input: s = \"1101\"\n",
    "Output: 6\n",
    "Explanation: \"1101\" corressponds to number 13 in their decimal representation.\n",
    "Step 1) 13 is odd, add 1 and obtain 14. \n",
    "Step 2) 14 is even, divide by 2 and obtain 7.\n",
    "Step 3) 7 is odd, add 1 and obtain 8.\n",
    "Step 4) 8 is even, divide by 2 and obtain 4.  \n",
    "Step 5) 4 is even, divide by 2 and obtain 2. \n",
    "Step 6) 2 is even, divide by 2 and obtain 1.  \n",
    "Example 2:\n",
    "\n",
    "Input: s = \"10\"\n",
    "Output: 1\n",
    "Explanation: \"10\" corressponds to number 2 in their decimal representation.\n",
    "Step 1) 2 is even, divide by 2 and obtain 1.  \n",
    "Example 3:\n",
    "\n",
    "Input: s = \"1\"\n",
    "Output: 0\n",
    "\"\"\"\n",
    "\n",
    "class Solution:\n",
    "    def numSteps(self, s: str) -> int:\n",
    "        curInteger = int(s, 2) # Decimal convertion\n",
    "        steps = 0 # The initial number of steps equals to 0\n",
    "        while curInteger != 1:\n",
    "            if curInteger % 2 == 0: # Case for even numbers\n",
    "                curInteger //= 2\n",
    "            else: # Case for odd numbers\n",
    "                curInteger += 1\n",
    "            steps += 1\n",
    "        return steps\n",
    "    \n",
    "a = Solution()\n",
    "a.numSteps(\"1101\")"
   ]
  }
 ],
 "metadata": {
  "kernelspec": {
   "display_name": "Python 3 (ipykernel)",
   "language": "python",
   "name": "python3"
  },
  "language_info": {
   "codemirror_mode": {
    "name": "ipython",
    "version": 3
   },
   "file_extension": ".py",
   "mimetype": "text/x-python",
   "name": "python",
   "nbconvert_exporter": "python",
   "pygments_lexer": "ipython3",
   "version": "3.9.7"
  }
 },
 "nbformat": 4,
 "nbformat_minor": 5
}
