{
 "cells": [
  {
   "cell_type": "markdown",
   "id": "65e7e068",
   "metadata": {},
   "source": [
    "### 151. Reverse Words in a String"
   ]
  },
  {
   "cell_type": "code",
   "execution_count": null,
   "id": "3a7d83da",
   "metadata": {},
   "outputs": [],
   "source": [
    "\"\"\"\n",
    "Given an input string s, reverse the order of the words.\n",
    "A word is defined as a sequence of non-space characters. \n",
    "The words in s will be separated by at least one space.\n",
    "Return a string of the words in reverse order concatenated by a single space.\n",
    "Note that s may contain leading or trailing spaces or multiple spaces between two words.\n",
    "The returned string should only have a single space separating the words. Do not include any extra spaces.\n",
    "\n",
    "Example 1:\n",
    "\n",
    "Input: s = \"the sky is blue\"\n",
    "Output: \"blue is sky the\"\n",
    "Example 2:\n",
    "\n",
    "Input: s = \"  hello world  \"\n",
    "Output: \"world hello\"\n",
    "Explanation: Your reversed string should not contain leading or trailing spaces.\n",
    "Example 3:\n",
    "\n",
    "Input: s = \"a good   example\"\n",
    "Output: \"example good a\"\n",
    "Explanation: You need to reduce multiple spaces between two words to a single space in the reversed string.\n",
    "\"\"\"\n",
    "\n",
    "import re # Regular expressions are used to extract all chunks of values, except spaces\n",
    "\n",
    "class Solution:\n",
    "    def reverseWords(self, s: str):\n",
    "        result = re.findall(r\"\\S+\", s)[::-1] # All values, excluding spaces, will be found\n",
    "        return \" \".join(result)\n",
    "\n",
    "a = Solution()\n",
    "print(a.reverseWords(\"the sky is blue\"))"
   ]
  }
 ],
 "metadata": {
  "kernelspec": {
   "display_name": "Python 3 (ipykernel)",
   "language": "python",
   "name": "python3"
  },
  "language_info": {
   "codemirror_mode": {
    "name": "ipython",
    "version": 3
   },
   "file_extension": ".py",
   "mimetype": "text/x-python",
   "name": "python",
   "nbconvert_exporter": "python",
   "pygments_lexer": "ipython3",
   "version": "3.9.7"
  }
 },
 "nbformat": 4,
 "nbformat_minor": 5
}
