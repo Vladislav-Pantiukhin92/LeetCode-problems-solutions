{
 "cells": [
  {
   "cell_type": "markdown",
   "id": "dbebbcce",
   "metadata": {},
   "source": [
    "### 1525. Number of Good Ways to Split a String"
   ]
  },
  {
   "cell_type": "code",
   "execution_count": 89,
   "id": "2fe52136",
   "metadata": {},
   "outputs": [
    {
     "data": {
      "text/plain": [
       "2"
      ]
     },
     "execution_count": 89,
     "metadata": {},
     "output_type": "execute_result"
    }
   ],
   "source": [
    "\"\"\"\n",
    "You are given a string s.\n",
    "A split is called good if you can split s into two non-empty strings sleft \n",
    "and sright where their concatenation is equal to s (i.e., sleft + sright = s) \n",
    "and the number of distinct letters in sleft and sright is the same.\n",
    "Return the number of good splits you can make in s.\n",
    "Example 1:\n",
    "\n",
    "Input: s = \"aacaba\"\n",
    "Output: 2\n",
    "Explanation: There are 5 ways to split \"aacaba\" and 2 of them are good. \n",
    "(\"a\", \"acaba\") Left string and right string contains 1 and 3 different letters respectively.\n",
    "(\"aa\", \"caba\") Left string and right string contains 1 and 3 different letters respectively.\n",
    "(\"aac\", \"aba\") Left string and right string contains 2 and 2 different letters respectively (good split).\n",
    "(\"aaca\", \"ba\") Left string and right string contains 2 and 2 different letters respectively (good split).\n",
    "(\"aacab\", \"a\") Left string and right string contains 3 and 1 different letters respectively.\n",
    "Example 2:\n",
    "\n",
    "Input: s = \"abcd\"\n",
    "Output: 1\n",
    "Explanation: Split the string as follows (\"ab\", \"cd\").\n",
    "\"\"\"\n",
    "\n",
    "from collections import Counter # 'collections.Counter' will create the hashTable, where keys are characters and \n",
    "# values are their occurrences\n",
    "\n",
    "class Solution:\n",
    "    def numSplits(self, s: str) -> int:\n",
    "        # Two dictionaries will be used\n",
    "        # The first one is the dictionary of all occurrences \n",
    "        # The second one is the new, still empty dictionary for adding occurrences later\n",
    "        inputDict = dict(Counter(s))\n",
    "        curDict = {}\n",
    "        good_splits = 0\n",
    "        # We are going to iterate over the input string, while the keys and occurrences are added to the \n",
    "        # second dictionary and, vice versa, removed from the first dictionary \n",
    "        for i in s:\n",
    "            if i not in curDict:\n",
    "                curDict[i] = 1\n",
    "            else:\n",
    "                curDict[i] += 1\n",
    "            if inputDict[i] == 1:\n",
    "                del inputDict[i]\n",
    "            else:\n",
    "                inputDict[i] -= 1\n",
    "            # Each time we will compare the number of keys within two dictionaries\n",
    "            # If the number is equal -> the good split has been encountered\n",
    "            if len(curDict) == len(inputDict):\n",
    "                good_splits += 1\n",
    "        return good_splits\n",
    "    \n",
    "a = Solution()\n",
    "a.numSplits(\"aacaba\")"
   ]
  }
 ],
 "metadata": {
  "kernelspec": {
   "display_name": "Python 3 (ipykernel)",
   "language": "python",
   "name": "python3"
  },
  "language_info": {
   "codemirror_mode": {
    "name": "ipython",
    "version": 3
   },
   "file_extension": ".py",
   "mimetype": "text/x-python",
   "name": "python",
   "nbconvert_exporter": "python",
   "pygments_lexer": "ipython3",
   "version": "3.9.7"
  }
 },
 "nbformat": 4,
 "nbformat_minor": 5
}
