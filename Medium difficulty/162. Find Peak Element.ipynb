{
 "cells": [
  {
   "cell_type": "markdown",
   "id": "da3340b6",
   "metadata": {},
   "source": [
    "### 162. Find Peak Element"
   ]
  },
  {
   "cell_type": "code",
   "execution_count": 300,
   "id": "22f9fa36",
   "metadata": {},
   "outputs": [
    {
     "data": {
      "text/plain": [
       "2"
      ]
     },
     "execution_count": 300,
     "metadata": {},
     "output_type": "execute_result"
    }
   ],
   "source": [
    "\"\"\"\n",
    "A peak element is an element that is strictly greater than its neighbors.\n",
    "Given an integer array nums, find a peak element, and return its index. \n",
    "If the array contains multiple peaks, return the index to any of the peaks.\n",
    "You may imagine that nums[-1] = nums[n] = -∞.\n",
    "You must write an algorithm that runs in O(log n) time.\n",
    "\n",
    "Example 1:\n",
    "\n",
    "Input: nums = [1,2,3,1]\n",
    "Output: 2\n",
    "Explanation: 3 is a peak element and your function should return the index number 2.\n",
    "Example 2:\n",
    "\n",
    "Input: nums = [1,2,1,3,5,6,4]\n",
    "Output: 5\n",
    "Explanation: Your function can return either index number 1 where the peak element is 2, or index number 5 where the peak element is 6.\n",
    "\"\"\"\n",
    "\n",
    "from itertools import count # makes it possible to create a combined list with elements and their indices\n",
    "from operator import * # 'itemgetter(1)' to sort the array with indices\n",
    "\n",
    "class Solution:\n",
    "    def findPeakElement(self, nums: List[int]) -> int:\n",
    "        # The major point is that the final element is the biggest element within the sorted array\n",
    "        # So it is necessary to return its index\n",
    "        final = sorted(list(zip(nums, count())), key=itemgetter(0))\n",
    "        return final[-1][1]\n",
    "    \n",
    "a = Solution()\n",
    "a.findPeakElement([1,2,3,1])"
   ]
  }
 ],
 "metadata": {
  "kernelspec": {
   "display_name": "Python 3 (ipykernel)",
   "language": "python",
   "name": "python3"
  },
  "language_info": {
   "codemirror_mode": {
    "name": "ipython",
    "version": 3
   },
   "file_extension": ".py",
   "mimetype": "text/x-python",
   "name": "python",
   "nbconvert_exporter": "python",
   "pygments_lexer": "ipython3",
   "version": "3.9.7"
  }
 },
 "nbformat": 4,
 "nbformat_minor": 5
}
