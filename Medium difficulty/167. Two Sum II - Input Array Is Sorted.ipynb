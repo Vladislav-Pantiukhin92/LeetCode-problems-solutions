{
 "cells": [
  {
   "cell_type": "markdown",
   "id": "bbe22e74",
   "metadata": {},
   "source": [
    "### 167. Two Sum II - Input Array Is Sorted"
   ]
  },
  {
   "cell_type": "code",
   "execution_count": 29,
   "id": "7da9eadb",
   "metadata": {},
   "outputs": [
    {
     "data": {
      "text/plain": [
       "[1, 2]"
      ]
     },
     "execution_count": 29,
     "metadata": {},
     "output_type": "execute_result"
    }
   ],
   "source": [
    "\"\"\"\n",
    "Given a 1-indexed array of integers numbers that is already sorted in non-decreasing order, \n",
    "find two numbers such that they add up to a specific target number. Let these two numbers \n",
    "be numbers[index1] and numbers[index2] where 1 <= index1 < index2 <= numbers.length.\n",
    "Return the indices of the two numbers, index1 and index2, added by one as an integer array \n",
    "[index1, index2] of length 2.\n",
    "The tests are generated such that there is exactly one solution. You may not use the same \n",
    "element twice.\n",
    "Your solution must use only constant extra space.\n",
    "\n",
    "Example 1:\n",
    "\n",
    "Input: numbers = [2,7,11,15], target = 9\n",
    "Output: [1,2]\n",
    "Explanation: The sum of 2 and 7 is 9. Therefore, index1 = 1, index2 = 2. We return [1, 2].\n",
    "Example 2:\n",
    "\n",
    "Input: numbers = [2,3,4], target = 6\n",
    "Output: [1,3]\n",
    "Explanation: The sum of 2 and 4 is 6. Therefore index1 = 1, index2 = 3. We return [1, 3].\n",
    "Example 3:\n",
    "\n",
    "Input: numbers = [-1,0], target = -1\n",
    "Output: [1,2]\n",
    "Explanation: The sum of -1 and 0 is -1. Therefore index1 = 1, index2 = 2. We return [1, 2].\n",
    "\"\"\"\n",
    "\n",
    "class Solution:\n",
    "    def twoSum(self, numbers: List[int], target: int) -> List[int]:\n",
    "        hashTable = {} # We are going to use the hashTable and key-value connections to find the pertinent index\n",
    "        # as quickly as possible\n",
    "        # Simultaneously we fill out the dictionary and verify whether the appropriate number already exists within the dictionary\n",
    "        for i, j in enumerate(numbers):\n",
    "            if target - j in hashTable:\n",
    "                final = [i + 1, hashTable[target - j] + 1]\n",
    "                return sorted(final)\n",
    "            hashTable[j] = i\n",
    "            \n",
    "a = Solution()\n",
    "a.twoSum([2,7,11,15], 9)"
   ]
  }
 ],
 "metadata": {
  "kernelspec": {
   "display_name": "Python 3 (ipykernel)",
   "language": "python",
   "name": "python3"
  },
  "language_info": {
   "codemirror_mode": {
    "name": "ipython",
    "version": 3
   },
   "file_extension": ".py",
   "mimetype": "text/x-python",
   "name": "python",
   "nbconvert_exporter": "python",
   "pygments_lexer": "ipython3",
   "version": "3.9.7"
  }
 },
 "nbformat": 4,
 "nbformat_minor": 5
}
