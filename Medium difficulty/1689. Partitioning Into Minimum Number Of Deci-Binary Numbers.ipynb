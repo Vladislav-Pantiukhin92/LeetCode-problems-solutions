{
 "cells": [
  {
   "cell_type": "markdown",
   "id": "b3f98bcf",
   "metadata": {},
   "source": [
    "### 1689. Partitioning Into Minimum Number Of Deci-Binary Numbers"
   ]
  },
  {
   "cell_type": "code",
   "execution_count": 87,
   "id": "53251a0c",
   "metadata": {},
   "outputs": [
    {
     "data": {
      "text/plain": [
       "9"
      ]
     },
     "execution_count": 87,
     "metadata": {},
     "output_type": "execute_result"
    }
   ],
   "source": [
    "\"\"\"\n",
    "A decimal number is called deci-binary if each of its digits is either 0 or 1 without any leading zeros. \n",
    "For example, 101 and 1100 are deci-binary, while 112 and 3001 are not.\n",
    "Given a string n that represents a positive decimal integer, \n",
    "return the minimum number of positive deci-binary numbers needed so that they sum up to n.\n",
    "\n",
    "Example 1:\n",
    "Input: n = \"32\"\n",
    "Output: 3\n",
    "Explanation: 10 + 11 + 11 = 32\n",
    "Example 2:\n",
    "\n",
    "Input: n = \"82734\"\n",
    "Output: 8\n",
    "Example 3:\n",
    "\n",
    "Input: n = \"27346209830709182346\"\n",
    "Output: 9\n",
    "\"\"\"\n",
    "\n",
    "class Solution:\n",
    "    # The main idea is to return the maxNumber within the string of numbers\n",
    "    def minPartitions(self, n: str) -> int:\n",
    "        return max(list(map(int, list(n))))\n",
    "    \n",
    "a = Solution()\n",
    "a.minPartitions(\"27346209830709182346\")"
   ]
  }
 ],
 "metadata": {
  "kernelspec": {
   "display_name": "Python 3 (ipykernel)",
   "language": "python",
   "name": "python3"
  },
  "language_info": {
   "codemirror_mode": {
    "name": "ipython",
    "version": 3
   },
   "file_extension": ".py",
   "mimetype": "text/x-python",
   "name": "python",
   "nbconvert_exporter": "python",
   "pygments_lexer": "ipython3",
   "version": "3.9.7"
  }
 },
 "nbformat": 4,
 "nbformat_minor": 5
}
