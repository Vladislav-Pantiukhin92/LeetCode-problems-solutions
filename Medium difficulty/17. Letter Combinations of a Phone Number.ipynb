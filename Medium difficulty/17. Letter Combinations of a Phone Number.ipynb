{
 "cells": [
  {
   "cell_type": "markdown",
   "id": "f5a83412",
   "metadata": {},
   "source": [
    "### 17. Letter Combinations of a Phone Number"
   ]
  },
  {
   "cell_type": "code",
   "execution_count": 260,
   "id": "8e008177",
   "metadata": {},
   "outputs": [
    {
     "data": {
      "text/plain": [
       "['adj',\n",
       " 'adk',\n",
       " 'adl',\n",
       " 'aej',\n",
       " 'aek',\n",
       " 'ael',\n",
       " 'afj',\n",
       " 'afk',\n",
       " 'afl',\n",
       " 'bdj',\n",
       " 'bdk',\n",
       " 'bdl',\n",
       " 'bej',\n",
       " 'bek',\n",
       " 'bel',\n",
       " 'bfj',\n",
       " 'bfk',\n",
       " 'bfl',\n",
       " 'cdj',\n",
       " 'cdk',\n",
       " 'cdl',\n",
       " 'cej',\n",
       " 'cek',\n",
       " 'cel',\n",
       " 'cfj',\n",
       " 'cfk',\n",
       " 'cfl']"
      ]
     },
     "execution_count": 260,
     "metadata": {},
     "output_type": "execute_result"
    }
   ],
   "source": [
    "\"\"\"\n",
    "Given a string containing digits from 2-9 inclusive, return all possible letter combinations \n",
    "that the number could represent. Return the answer in any order.\n",
    "A mapping of digit to letters (just like on the telephone buttons) is given. \n",
    "Note that 1 does not map to any letters.\n",
    "\n",
    "Example 1:\n",
    "\n",
    "Input: digits = \"23\"\n",
    "Output: [\"ad\",\"ae\",\"af\",\"bd\",\"be\",\"bf\",\"cd\",\"ce\",\"cf\"]\n",
    "Example 2:\n",
    "\n",
    "Input: digits = \"\"\n",
    "Output: []\n",
    "Example 3:\n",
    "\n",
    "Input: digits = \"2\"\n",
    "Output: [\"a\",\"b\",\"c\"]\n",
    "\"\"\"\n",
    "\n",
    "from itertools import product # 'Cartesian product' to generate the suitable combinations of letters\n",
    "from itertools import starmap # 'Starmap' to merge letters within combinations together\n",
    "\n",
    "class Solution:\n",
    "    def letterCombinations(self, digits: str) -> List[str]:\n",
    "        if not digits: # If the string is empty, return []\n",
    "            return []\n",
    "        # As \"1\" does not contain any letters, this value is removed in advance\n",
    "        digits = digits.replace(\"1\", \"\")\n",
    "        phone_dict = {\"2\": \"abc\",  # To return the proper letter sequence, the dictionary is created\n",
    "                      \"3\": \"def\",\n",
    "                      \"4\": \"ghi\",\n",
    "                      \"5\": \"jkl\",\n",
    "                      \"6\": \"mno\",\n",
    "                      \"7\": \"pqrs\",\n",
    "                      \"8\": \"tuv\",\n",
    "                      \"9\": \"wxyz\"}\n",
    "        final = []\n",
    "        # Given the constraints (4 >= digits >= 0) we have only 4 cases:\n",
    "        # If the string contains only one digit --> just the initial combination is returned \n",
    "        if len(digits) < 2:\n",
    "            return list(phone_dict[digits])\n",
    "        # If the string contains over 1 element, we use the cartesian product combination and starmap\n",
    "        elif len(digits) < 3:\n",
    "            lst = [phone_dict[i] for i in digits]\n",
    "            # When 2 digits within the string\n",
    "            return sorted(list(starmap(lambda x, y: x + y, list(product(lst[0], lst[1])))))\n",
    "        elif len(digits) < 4:\n",
    "            lst = [phone_dict[i] for i in digits]\n",
    "            # When 3 digits within the string\n",
    "            return sorted(list(starmap(lambda x, y, z: x + y + z, list(product(lst[0], lst[1], lst[2])))))\n",
    "        else:\n",
    "            lst = [phone_dict[i] for i in digits]\n",
    "            # When 4 digits within the string\n",
    "            return sorted(list(starmap(lambda x, y, z, w: x + y + z + w, list(product(lst[0], lst[1], lst[2], lst[3])))))\n",
    "            \n",
    "a = Solution()\n",
    "a.letterCombinations(\"235\")"
   ]
  }
 ],
 "metadata": {
  "kernelspec": {
   "display_name": "Python 3 (ipykernel)",
   "language": "python",
   "name": "python3"
  },
  "language_info": {
   "codemirror_mode": {
    "name": "ipython",
    "version": 3
   },
   "file_extension": ".py",
   "mimetype": "text/x-python",
   "name": "python",
   "nbconvert_exporter": "python",
   "pygments_lexer": "ipython3",
   "version": "3.9.7"
  }
 },
 "nbformat": 4,
 "nbformat_minor": 5
}
