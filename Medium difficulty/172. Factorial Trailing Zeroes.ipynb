{
 "cells": [
  {
   "cell_type": "markdown",
   "id": "f965da27",
   "metadata": {},
   "source": [
    "### 172. Factorial Trailing Zeroes"
   ]
  },
  {
   "cell_type": "code",
   "execution_count": 30,
   "id": "202c9467",
   "metadata": {},
   "outputs": [
    {
     "data": {
      "text/plain": [
       "1"
      ]
     },
     "execution_count": 30,
     "metadata": {},
     "output_type": "execute_result"
    }
   ],
   "source": [
    "\"\"\"\n",
    "Given an integer n, return the number of trailing zeroes in n!.\n",
    "Note that n! = n * (n - 1) * (n - 2) * ... * 3 * 2 * 1.\n",
    "Example 1:\n",
    "\n",
    "Input: n = 3\n",
    "Output: 0\n",
    "Explanation: 3! = 6, no trailing zero.\n",
    "Example 2:\n",
    "\n",
    "Input: n = 5\n",
    "Output: 1\n",
    "Explanation: 5! = 120, one trailing zero.\n",
    "Example 3:\n",
    "\n",
    "Input: n = 0\n",
    "Output: 0\n",
    "\"\"\"\n",
    "\n",
    "import re # Regular expressions\n",
    "\n",
    "class Solution:\n",
    "    def trailingZeroes(self, n: int) -> int:\n",
    "        factorial_lst = [0] * (n + 1) # The array, filled initially with zeros, is created\n",
    "        # Let's specify two cases, where the below-underlined algorithm won't work\n",
    "        if n == 0:\n",
    "            return 0 \n",
    "        elif n == 1:\n",
    "            return 0\n",
    "        factorial_lst[0], factorial_lst[1] = 0, 1\n",
    "        # After that, we are going to fill the previously initialized array with true factorial numbers\n",
    "        for i in range(2, n + 1):\n",
    "            factorial_lst[i] = i * factorial_lst[i - 1]\n",
    "        # Factorial number is returned through the corresponding array index\n",
    "        string_number = str(factorial_lst[n])\n",
    "        # As we already have the number, trailing zeros will be counted through the string type and regexp pattern\n",
    "        return len(\"\".join(re.findall(r\"0+$\", string_number)))\n",
    "    \n",
    "a = Solution()\n",
    "a.trailingZeroes(5)"
   ]
  }
 ],
 "metadata": {
  "kernelspec": {
   "display_name": "Python 3 (ipykernel)",
   "language": "python",
   "name": "python3"
  },
  "language_info": {
   "codemirror_mode": {
    "name": "ipython",
    "version": 3
   },
   "file_extension": ".py",
   "mimetype": "text/x-python",
   "name": "python",
   "nbconvert_exporter": "python",
   "pygments_lexer": "ipython3",
   "version": "3.9.7"
  }
 },
 "nbformat": 4,
 "nbformat_minor": 5
}
