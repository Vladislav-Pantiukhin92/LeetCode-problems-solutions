{
 "cells": [
  {
   "cell_type": "markdown",
   "id": "1113ab7d",
   "metadata": {},
   "source": [
    "### 1781. Sum of Beauty of All Substrings"
   ]
  },
  {
   "cell_type": "code",
   "execution_count": 230,
   "id": "248e2445",
   "metadata": {},
   "outputs": [
    {
     "data": {
      "text/plain": [
       "5"
      ]
     },
     "execution_count": 230,
     "metadata": {},
     "output_type": "execute_result"
    }
   ],
   "source": [
    "\"\"\"\n",
    "The beauty of a string is the difference in frequencies between the most frequent \n",
    "and least frequent characters.\n",
    "For example, the beauty of \"abaacc\" is 3 - 1 = 2.\n",
    "Given a string s, return the sum of beauty of all of its substrings.\n",
    "Example 1:\n",
    "\n",
    "Input: s = \"aabcb\"\n",
    "Output: 5\n",
    "Explanation: The substrings with non-zero beauty are [\"aab\",\"aabc\",\"aabcb\",\"abcb\",\"bcb\"], \n",
    "each with beauty equal to 1.\n",
    "Example 2:\n",
    "\n",
    "Input: s = \"aabcbaa\"\n",
    "Output: 17\n",
    "\"\"\"\n",
    "\n",
    "from collections import Counter # 'collections.Counter' counts all characters' occurrences within the input \n",
    "# string and initializes the relevant dictionary, based upon these occurrences \n",
    "\n",
    "class Solution:\n",
    "    def beautySum(self, s: str) -> int:\n",
    "        final = [] # The container, which will store beauty\n",
    "        for i in range(len(s) - 2):\n",
    "            # We are not going to verify the substrings with the length of 2 and less, because in this case the difference \n",
    "            # (beauty) will be 0 or won't exist at all\n",
    "            for j in range(len(s), i + 1, -1):\n",
    "                # Each time when the new substring is encountered, 'collections.Counter' is launched\n",
    "                curDict = dict(Counter(s[i:j]))\n",
    "                # Each time values will be extracted from the dictionary, the maxElement, the minElement as well as\n",
    "                # their difference will be found\n",
    "                beauty = max(list(curDict.values())) - min(list(curDict.values()))\n",
    "                final.append(beauty)\n",
    "\n",
    "        return sum(final) # Eventually, the sum is returned\n",
    "    \n",
    "a = Solution()\n",
    "a.beautySum(\"aabcb\")"
   ]
  }
 ],
 "metadata": {
  "kernelspec": {
   "display_name": "Python 3 (ipykernel)",
   "language": "python",
   "name": "python3"
  },
  "language_info": {
   "codemirror_mode": {
    "name": "ipython",
    "version": 3
   },
   "file_extension": ".py",
   "mimetype": "text/x-python",
   "name": "python",
   "nbconvert_exporter": "python",
   "pygments_lexer": "ipython3",
   "version": "3.9.7"
  }
 },
 "nbformat": 4,
 "nbformat_minor": 5
}
