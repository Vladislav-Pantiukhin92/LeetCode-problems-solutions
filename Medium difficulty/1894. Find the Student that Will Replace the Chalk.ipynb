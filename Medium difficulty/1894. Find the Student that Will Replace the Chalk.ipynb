{
 "cells": [
  {
   "cell_type": "markdown",
   "id": "d7e91ec9",
   "metadata": {},
   "source": [
    "### 1894. Find the Student that Will Replace the Chalk"
   ]
  },
  {
   "cell_type": "code",
   "execution_count": 20,
   "id": "38f01312",
   "metadata": {},
   "outputs": [
    {
     "data": {
      "text/plain": [
       "1"
      ]
     },
     "execution_count": 20,
     "metadata": {},
     "output_type": "execute_result"
    }
   ],
   "source": [
    "\"\"\"\n",
    "There are n students in a class numbered from 0 to n - 1. The teacher will give each student a problem \n",
    "starting with the student number 0, then the student number 1, and so on until the teacher reaches the \n",
    "student number n - 1. After that, the teacher will restart the process, starting with the student number 0 again.\n",
    "You are given a 0-indexed integer array chalk and an integer k. There are initially k pieces of chalk. \n",
    "When the student number i is given a problem to solve, they will use chalk[i] pieces of chalk to solve \n",
    "that problem. However, if the current number of chalk pieces is strictly less than chalk[i], then the \n",
    "student number i will be asked to replace the chalk.\n",
    "Return the index of the student that will replace the chalk.\n",
    "Example 1:\n",
    "\n",
    "Input: chalk = [5,1,5], k = 22\n",
    "Output: 0\n",
    "Explanation: The students go in turns as follows:\n",
    "- Student number 0 uses 5 chalk, so k = 17.\n",
    "- Student number 1 uses 1 chalk, so k = 16.\n",
    "- Student number 2 uses 5 chalk, so k = 11.\n",
    "- Student number 0 uses 5 chalk, so k = 6.\n",
    "- Student number 1 uses 1 chalk, so k = 5.\n",
    "- Student number 2 uses 5 chalk, so k = 0.\n",
    "Student number 0 does not have enough chalk, so they will have to replace it.\n",
    "Example 2:\n",
    "\n",
    "Input: chalk = [3,4,1,2], k = 25\n",
    "Output: 1\n",
    "Explanation: The students go in turns as follows:\n",
    "- Student number 0 uses 3 chalk so k = 22.\n",
    "- Student number 1 uses 4 chalk so k = 18.\n",
    "- Student number 2 uses 1 chalk so k = 17.\n",
    "- Student number 3 uses 2 chalk so k = 15.\n",
    "- Student number 0 uses 3 chalk so k = 12.\n",
    "- Student number 1 uses 4 chalk so k = 8.\n",
    "- Student number 2 uses 1 chalk so k = 7.\n",
    "- Student number 3 uses 2 chalk so k = 5.\n",
    "- Student number 0 uses 3 chalk so k = 2.\n",
    "Student number 1 does not have enough chalk, so they will have to replace it.\n",
    "\"\"\"\n",
    "\n",
    "class Solution:\n",
    "    def chalkReplacer(self, chalk: List[int], k: int) -> int:\n",
    "        if len(chalk) == 1: # If the length of the input list is only 1, it is obvious that the result is index 0\n",
    "            return 0\n",
    "        # If the 'k' variable is bigger then the total sum of elements within the input list, it is convenient \n",
    "        # to cut all prospective loops around the input list\n",
    "        curSum = sum(chalk)\n",
    "        loops = k // curSum # We can cut the 'k' variable while it is larger than the total sum of the input list\n",
    "        k -= (curSum * loops)\n",
    "        if k == 0:\n",
    "            return 0\n",
    "        else:\n",
    "            # When the 'k' variable is already smaller - we are going to iterate over elements with the 'enumerate'\n",
    "            # function to find the relevant element/index of a student, who have no chalk anymore\n",
    "            for i, j in enumerate(chalk):\n",
    "                if k - j > 0:\n",
    "                    k -= j\n",
    "                elif k - j == 0:\n",
    "                    return i + 1\n",
    "                else:\n",
    "                    return i\n",
    "                \n",
    "a = Solution()\n",
    "a.chalkReplacer([3,4,1,2], 25)"
   ]
  }
 ],
 "metadata": {
  "kernelspec": {
   "display_name": "Python 3 (ipykernel)",
   "language": "python",
   "name": "python3"
  },
  "language_info": {
   "codemirror_mode": {
    "name": "ipython",
    "version": 3
   },
   "file_extension": ".py",
   "mimetype": "text/x-python",
   "name": "python",
   "nbconvert_exporter": "python",
   "pygments_lexer": "ipython3",
   "version": "3.9.7"
  }
 },
 "nbformat": 4,
 "nbformat_minor": 5
}
