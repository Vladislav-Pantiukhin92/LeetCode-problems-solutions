{
 "cells": [
  {
   "cell_type": "markdown",
   "id": "0ec708a2",
   "metadata": {},
   "source": [
    "### 1910. Remove All Occurrences of a Substring"
   ]
  },
  {
   "cell_type": "code",
   "execution_count": 12,
   "id": "0363cd95",
   "metadata": {},
   "outputs": [
    {
     "data": {
      "text/plain": [
       "'dab'"
      ]
     },
     "execution_count": 12,
     "metadata": {},
     "output_type": "execute_result"
    }
   ],
   "source": [
    "\"\"\"\n",
    "Given two strings s and part, perform the following operation on s until all occurrences of the substring \n",
    "part are removed:\n",
    "Find the leftmost occurrence of the substring part and remove it from s.\n",
    "Return s after removing all occurrences of part.\n",
    "A substring is a contiguous sequence of characters in a string.\n",
    "Example 1:\n",
    "\n",
    "Input: s = \"daabcbaabcbc\", part = \"abc\"\n",
    "Output: \"dab\"\n",
    "Explanation: The following operations are done:\n",
    "- s = \"daabcbaabcbc\", remove \"abc\" starting at index 2, so s = \"dabaabcbc\".\n",
    "- s = \"dabaabcbc\", remove \"abc\" starting at index 4, so s = \"dababc\".\n",
    "- s = \"dababc\", remove \"abc\" starting at index 3, so s = \"dab\".\n",
    "Now s has no occurrences of \"abc\".\n",
    "Example 2:\n",
    "\n",
    "Input: s = \"axxxxyyyyb\", part = \"xy\"\n",
    "Output: \"ab\"\n",
    "Explanation: The following operations are done:\n",
    "- s = \"axxxxyyyyb\", remove \"xy\" starting at index 4 so s = \"axxxyyyb\".\n",
    "- s = \"axxxyyyb\", remove \"xy\" starting at index 3 so s = \"axxyyb\".\n",
    "- s = \"axxyyb\", remove \"xy\" starting at index 2 so s = \"axyb\".\n",
    "- s = \"axyb\", remove \"xy\" starting at index 1 so s = \"ab\".\n",
    "Now s has no occurrences of \"xy\".\n",
    "\"\"\"\n",
    "\n",
    "class Solution:\n",
    "    def removeOccurrences(self, s: str, part: str) -> str:\n",
    "    # To solve the problem we will use the string method str.replace()\n",
    "    # The major task is to identify when it is necessary to break the 'while loop'\n",
    "        while True:\n",
    "            # The necessity to break the 'while loop' can be determined through the length of the 's' before \n",
    "            # and after the implementation of str.replace()\n",
    "            length1 = len(s)\n",
    "            s = s.replace(part, \"\", 1) \n",
    "            length2 = len(s) # If two lengths are different - we replaced a pattern, so the loop continues\n",
    "            if length1 == length2: # If two lengths are equal - there are no patterns anymore, so it is time\n",
    "                # to return the transformed string\n",
    "                return s\n",
    "            \n",
    "a = Solution()\n",
    "a.removeOccurrences(\"daabcbaabcbc\", \"abc\")"
   ]
  }
 ],
 "metadata": {
  "kernelspec": {
   "display_name": "Python 3 (ipykernel)",
   "language": "python",
   "name": "python3"
  },
  "language_info": {
   "codemirror_mode": {
    "name": "ipython",
    "version": 3
   },
   "file_extension": ".py",
   "mimetype": "text/x-python",
   "name": "python",
   "nbconvert_exporter": "python",
   "pygments_lexer": "ipython3",
   "version": "3.9.7"
  }
 },
 "nbformat": 4,
 "nbformat_minor": 5
}
