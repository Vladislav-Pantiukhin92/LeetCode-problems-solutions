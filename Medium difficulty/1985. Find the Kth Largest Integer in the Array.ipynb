{
 "cells": [
  {
   "cell_type": "markdown",
   "id": "0e218d3a",
   "metadata": {},
   "source": [
    "### 1985. Find the Kth Largest Integer in the Array"
   ]
  },
  {
   "cell_type": "code",
   "execution_count": 301,
   "id": "9b4f564f",
   "metadata": {},
   "outputs": [
    {
     "data": {
      "text/plain": [
       "'3'"
      ]
     },
     "execution_count": 301,
     "metadata": {},
     "output_type": "execute_result"
    }
   ],
   "source": [
    "\"\"\"\n",
    "You are given an array of strings nums and an integer k. Each string in nums represents an integer without leading zeros.\n",
    "Return the string that represents the kth largest integer in nums.\n",
    "Note: Duplicate numbers should be counted distinctly. For example, if nums is [\"1\",\"2\",\"2\"], \n",
    "\"2\" is the first largest integer, \"2\" is the second-largest integer, and \"1\" is the third-largest integer.\n",
    "Example 1:\n",
    "\n",
    "Input: nums = [\"3\",\"6\",\"7\",\"10\"], k = 4\n",
    "Output: \"3\"\n",
    "Explanation:\n",
    "The numbers in nums sorted in non-decreasing order are [\"3\",\"6\",\"7\",\"10\"].\n",
    "The 4th largest integer in nums is \"3\".\n",
    "Example 2:\n",
    "\n",
    "Input: nums = [\"2\",\"21\",\"12\",\"1\"], k = 3\n",
    "Output: \"2\"\n",
    "Explanation:\n",
    "The numbers in nums sorted in non-decreasing order are [\"1\",\"2\",\"12\",\"21\"].\n",
    "The 3rd largest integer in nums is \"2\".\n",
    "Example 3:\n",
    "\n",
    "Input: nums = [\"0\",\"0\"], k = 2\n",
    "Output: \"0\"\n",
    "Explanation:\n",
    "The numbers in nums sorted in non-decreasing order are [\"0\",\"0\"].\n",
    "The 2nd largest integer in nums is \"0\".\n",
    "\"\"\"\n",
    "\n",
    "from collections import deque\n",
    "\n",
    "class Solution:\n",
    "    def kthLargestNumber(self, nums: List[str], k: int) -> str:\n",
    "        # The first step is to transform all strings within the list into integers\n",
    "        integer_lst = list(map(int, nums))\n",
    "        # The second step is to sort the array in ascending order\n",
    "        # In order to do that it is possible to use the Merge Sort algorithm\n",
    "        # The major principle of the Merge Sort algorithm is that the array is divided into two subarrays, which are \n",
    "        # sorted independently and afterwards merged together\n",
    "        def merge_sort(array): # It is the part that sorts subarrays independently\n",
    "            if len(array) < 2:\n",
    "                return array\n",
    "            else:\n",
    "                middle = len(array) // 2\n",
    "                left = array[:middle]\n",
    "                right = array[middle:]\n",
    "                left = merge_sort(left)\n",
    "                right = merge_sort(right)\n",
    "                return merge(left, right)\n",
    "        def merge(array1, array2): # It is the part, that merges sorted subarrays into the one sorted array\n",
    "            i = 0\n",
    "            k = 0\n",
    "            final = []\n",
    "            while i < len(array1) and k < len(array2):\n",
    "                if array1[i] > array2[k]:\n",
    "                    final.append(array2[k])\n",
    "                    k += 1\n",
    "                else:\n",
    "                    final.append(array1[i])\n",
    "                    i += 1\n",
    "            while i < len(array1):\n",
    "                final.append(array1[i])\n",
    "                i += 1\n",
    "            while k < len(array2):\n",
    "                final.append(array2[k])\n",
    "                k += 1\n",
    "            return final\n",
    "        sortedArray = merge_sort(integer_lst)\n",
    "        sortedArray = deque(sortedArray)\n",
    "        # After that the sorted array can be utilized as a stack structure\n",
    "        # As long as 'k' is bigger than 0, the last element is being extracted from the stack\n",
    "        while k > 0:\n",
    "            curElement = sortedArray.pop()\n",
    "            k -= 1\n",
    "        return str(curElement) # The last extracted element will be returned as a string\n",
    "    \n",
    "a = Solution()\n",
    "a.kthLargestNumber([\"3\",\"6\",\"7\",\"10\"], 4)"
   ]
  }
 ],
 "metadata": {
  "kernelspec": {
   "display_name": "Python 3 (ipykernel)",
   "language": "python",
   "name": "python3"
  },
  "language_info": {
   "codemirror_mode": {
    "name": "ipython",
    "version": 3
   },
   "file_extension": ".py",
   "mimetype": "text/x-python",
   "name": "python",
   "nbconvert_exporter": "python",
   "pygments_lexer": "ipython3",
   "version": "3.9.7"
  }
 },
 "nbformat": 4,
 "nbformat_minor": 5
}
