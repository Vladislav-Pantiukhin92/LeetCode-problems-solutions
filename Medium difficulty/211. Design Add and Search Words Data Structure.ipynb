{
 "cells": [
  {
   "cell_type": "markdown",
   "id": "3f254c69",
   "metadata": {},
   "source": [
    "### 211. Design Add and Search Words Data Structure"
   ]
  },
  {
   "cell_type": "code",
   "execution_count": null,
   "id": "64b98d17",
   "metadata": {},
   "outputs": [],
   "source": [
    "\"\"\"\n",
    "Design a data structure that supports adding new words and finding if a string matches any previously added string.\n",
    "Implement the WordDictionary class:\n",
    "WordDictionary() Initializes the object.\n",
    "void addWord(word) Adds word to the data structure, it can be matched later.\n",
    "bool search(word) Returns true if there is any string in the data structure that matches word or false \n",
    "otherwise. word may contain dots '.' where dots can be matched with any letter.\n",
    " \n",
    "Example:\n",
    "\n",
    "Input\n",
    "[\"WordDictionary\",\"addWord\",\"addWord\",\"addWord\",\"search\",\"search\",\"search\",\"search\"]\n",
    "[[],[\"bad\"],[\"dad\"],[\"mad\"],[\"pad\"],[\"bad\"],[\".ad\"],[\"b..\"]]\n",
    "Output\n",
    "[null,null,null,null,false,true,true,true]\n",
    "\n",
    "Explanation\n",
    "WordDictionary wordDictionary = new WordDictionary();\n",
    "wordDictionary.addWord(\"bad\");\n",
    "wordDictionary.addWord(\"dad\");\n",
    "wordDictionary.addWord(\"mad\");\n",
    "wordDictionary.search(\"pad\"); // return False\n",
    "wordDictionary.search(\"bad\"); // return True\n",
    "wordDictionary.search(\".ad\"); // return True\n",
    "wordDictionary.search(\"b..\"); // return True\n",
    "\"\"\"\n",
    "\n",
    "import re # Regular expressions are aimed at identifying the input pattern 'word' with dots\n",
    "\n",
    "class WordDictionary:\n",
    "\n",
    "    def __init__(self):\n",
    "        self.myDict = {} # The special dictionary will be created, where keys are the length of each word, which\n",
    "        # is added within the dictionary and values are the concatenated string of added words with '\\n' as a whitespace\n",
    "        # between them\n",
    "\n",
    "    def addWord(self, word: str) -> None:\n",
    "        length = len(word) # The length is determined and initialized as a key within the dictionary\n",
    "        if length not in self.myDict:\n",
    "            self.myDict[length] = word + \"\\n\" # The dictionary value is a concatenated string with a \"\\n\" space\n",
    "        else:\n",
    "            self.myDict[length] += word + \"\\n\"\n",
    "\n",
    "    def search(self, word: str) -> bool:\n",
    "        length = len(word) # To find the relevant pattern (and determine its existence within the created dictionary), \n",
    "        # first of all, we measure the length of the sought-after word\n",
    "        if length not in self.myDict: # If the length is not among keys of the dictionary - we return False\n",
    "            return False\n",
    "        else:\n",
    "            myString = self.myDict[length] # If the length is among keys of the dictionary, the regular expression \n",
    "            # is utilized to find the specific pattern\n",
    "            result = re.findall(word, myString)\n",
    "            if result: # If the result contains something  - return True, if the result contains nothing - \n",
    "                # we return False\n",
    "                return True\n",
    "            return False\n",
    "\n",
    "# Your WordDictionary object will be instantiated and called as such:\n",
    "# obj = WordDictionary()\n",
    "# obj.addWord(word)\n",
    "# param_2 = obj.search(word)"
   ]
  }
 ],
 "metadata": {
  "kernelspec": {
   "display_name": "Python 3 (ipykernel)",
   "language": "python",
   "name": "python3"
  },
  "language_info": {
   "codemirror_mode": {
    "name": "ipython",
    "version": 3
   },
   "file_extension": ".py",
   "mimetype": "text/x-python",
   "name": "python",
   "nbconvert_exporter": "python",
   "pygments_lexer": "ipython3",
   "version": "3.9.7"
  }
 },
 "nbformat": 4,
 "nbformat_minor": 5
}
