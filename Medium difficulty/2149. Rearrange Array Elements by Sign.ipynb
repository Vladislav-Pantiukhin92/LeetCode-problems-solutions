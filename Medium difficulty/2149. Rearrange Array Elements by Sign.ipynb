{
 "cells": [
  {
   "cell_type": "markdown",
   "id": "8404c205",
   "metadata": {},
   "source": [
    "### 2149. Rearrange Array Elements by Sign"
   ]
  },
  {
   "cell_type": "code",
   "execution_count": 86,
   "id": "12a54a59",
   "metadata": {},
   "outputs": [
    {
     "data": {
      "text/plain": [
       "[3, -2, 1, -5, 2, -4]"
      ]
     },
     "execution_count": 86,
     "metadata": {},
     "output_type": "execute_result"
    }
   ],
   "source": [
    "\"\"\"\n",
    "You are given a 0-indexed integer array nums of even length consisting of an equal number of \n",
    "positive and negative integers.\n",
    "\n",
    "You should rearrange the elements of nums such that the modified array follows the given conditions:\n",
    "Every consecutive pair of integers have opposite signs.\n",
    "For all integers with the same sign, the order in which they were present in nums is preserved.\n",
    "The rearranged array begins with a positive integer.\n",
    "Return the modified array after rearranging the elements to satisfy the aforementioned conditions.\n",
    "Example 1:\n",
    "\n",
    "Input: nums = [3,1,-2,-5,2,-4]\n",
    "Output: [3,-2,1,-5,2,-4]\n",
    "Explanation:\n",
    "The positive integers in nums are [3,1,2]. The negative integers are [-2,-5,-4].\n",
    "The only possible way to rearrange them such that they satisfy all conditions is [3,-2,1,-5,2,-4].\n",
    "Other ways such as [1,-2,2,-5,3,-4], [3,1,2,-2,-5,-4], [-2,3,-5,1,-4,2] are incorrect because they do not satisfy one or more conditions.  \n",
    "Example 2:\n",
    "\n",
    "Input: nums = [-1,1]\n",
    "Output: [1,-1]\n",
    "Explanation:\n",
    "1 is the only positive integer and -1 the only negative integer in nums.\n",
    "So nums is rearranged to [1,-1].\n",
    "\"\"\"\n",
    "\n",
    "from collections import deque # 'collections.deque' will be used to extract elements from the left (popleft)\n",
    "\n",
    "class Solution:\n",
    "    def rearrangeArray(self, nums: List[int]) -> List[int]:\n",
    "        # 'Filter' function is utilized to form two new filtered arrays\n",
    "        positive = deque(list(filter(lambda x: x > 0, nums))) # List with positive values\n",
    "        negative = deque(list(filter(lambda x: x < 0, nums))) # List with negative values\n",
    "        final = []\n",
    "        \n",
    "        # Lists with positive and negative numbers will be utilized as stack structures\n",
    "        # We will extract values by turn from stacks with positive and negative values, while preserving the \n",
    "        # original order\n",
    "        while negative: # As the final element is to be taken from the stack with negative values, the loop \n",
    "        # will continue working while the stack with negative values is not empty\n",
    "            curElement = positive.popleft()\n",
    "            final.append(curElement)\n",
    "            curElement = negative.popleft()\n",
    "            final.append(curElement)\n",
    "        return final\n",
    "    \n",
    "a = Solution()\n",
    "a.rearrangeArray([3,1,-2,-5,2,-4])"
   ]
  }
 ],
 "metadata": {
  "kernelspec": {
   "display_name": "Python 3 (ipykernel)",
   "language": "python",
   "name": "python3"
  },
  "language_info": {
   "codemirror_mode": {
    "name": "ipython",
    "version": 3
   },
   "file_extension": ".py",
   "mimetype": "text/x-python",
   "name": "python",
   "nbconvert_exporter": "python",
   "pygments_lexer": "ipython3",
   "version": "3.9.7"
  }
 },
 "nbformat": 4,
 "nbformat_minor": 5
}
