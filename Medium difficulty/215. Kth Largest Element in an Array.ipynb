{
 "cells": [
  {
   "cell_type": "markdown",
   "id": "d731039b",
   "metadata": {},
   "source": [
    "### 215. Kth Largest Element in an Array"
   ]
  },
  {
   "cell_type": "code",
   "execution_count": 27,
   "id": "6b921a97",
   "metadata": {},
   "outputs": [
    {
     "name": "stdout",
     "output_type": "stream",
     "text": [
      "5\n"
     ]
    }
   ],
   "source": [
    "\"\"\"\n",
    "Given an integer array nums and an integer k, return the kth largest element in the array.\n",
    "Note that it is the kth largest element in the sorted order, not the kth distinct element.\n",
    "\n",
    "Example 1:\n",
    "\n",
    "Input: nums = [3,2,1,5,6,4], k = 2\n",
    "Output: 5\n",
    "Example 2:\n",
    "\n",
    "Input: nums = [3,2,3,1,2,4,5,5,6], k = 4\n",
    "Output: 4\n",
    "\"\"\"\n",
    "\n",
    "from queue import LifoQueue # Launch of the stack data structure\n",
    "\n",
    "class Solution:\n",
    "    def findKthLargest(self, nums: List[int], k: int) -> int:\n",
    "        # To work with the input array it is relevant to sort it\n",
    "        # The Shell Sort algorithm can be used for that\n",
    "        # The special feature of this algorithm is that the comparison and possible swapping process\n",
    "        # take place between elements, which are at a certain distance within the array\n",
    "        \n",
    "        def shellSort(array): # Implementation of the Shell Sort algorithm (improved version of the Insertion Sort algorithm)\n",
    "            gap = len(array) // 2\n",
    "            while gap > 0:\n",
    "                for i in range(gap, len(array)):\n",
    "                    j = i \n",
    "                    while j >= gap and array[j - gap] > array[j]:\n",
    "                        array[j - gap], array[j] = array[j], array[j - gap]\n",
    "                        j -= gap \n",
    "                gap //= 2\n",
    "            return array\n",
    "        \n",
    "        sortedArray = shellSort(nums)\n",
    "        # To find the current maxElement we use the data structure - stack\n",
    "        # Each time we remove the maxElement from the sorted array and put it inside the stack\n",
    "        # The final result is the first element within the stack for extraction\n",
    "        \n",
    "        myStack = LifoQueue()\n",
    "        for i in range(k):\n",
    "            curValue = sortedArray.pop()\n",
    "            myStack.put(curValue)\n",
    "        return myStack.get()\n",
    "    \n",
    "a = Solution()\n",
    "print(a.findKthLargest([3,2,1,5,6,4], 2))"
   ]
  }
 ],
 "metadata": {
  "kernelspec": {
   "display_name": "Python 3 (ipykernel)",
   "language": "python",
   "name": "python3"
  },
  "language_info": {
   "codemirror_mode": {
    "name": "ipython",
    "version": 3
   },
   "file_extension": ".py",
   "mimetype": "text/x-python",
   "name": "python",
   "nbconvert_exporter": "python",
   "pygments_lexer": "ipython3",
   "version": "3.9.7"
  }
 },
 "nbformat": 4,
 "nbformat_minor": 5
}
