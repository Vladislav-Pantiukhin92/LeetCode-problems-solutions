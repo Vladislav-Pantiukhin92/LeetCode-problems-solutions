{
 "cells": [
  {
   "cell_type": "markdown",
   "id": "7cd9b49a",
   "metadata": {},
   "source": [
    "### 2150. Find All Lonely Numbers in the Array"
   ]
  },
  {
   "cell_type": "code",
   "execution_count": 133,
   "id": "bee7d42c",
   "metadata": {},
   "outputs": [
    {
     "data": {
      "text/plain": [
       "[35, 59, 84, 38, 87, 82]"
      ]
     },
     "execution_count": 133,
     "metadata": {},
     "output_type": "execute_result"
    }
   ],
   "source": [
    "\"\"\"\n",
    "You are given an integer array nums. A number x is lonely when it appears only once, \n",
    "and no adjacent numbers (i.e. x + 1 and x - 1) appear in the array.\n",
    "Return all lonely numbers in nums. You may return the answer in any order.\n",
    "\n",
    "Example 1:\n",
    "Input: nums = [10,6,5,8]\n",
    "Output: [10,8]\n",
    "Explanation: \n",
    "- 10 is a lonely number since it appears exactly once and 9 and 11 does not appear in nums.\n",
    "- 8 is a lonely number since it appears exactly once and 7 and 9 does not appear in nums.\n",
    "- 5 is not a lonely number since 6 appears in nums and vice versa.\n",
    "Hence, the lonely numbers in nums are [10, 8].\n",
    "Note that [8, 10] may also be returned.\n",
    "Example 2:\n",
    "\n",
    "Input: nums = [1,3,5,3]\n",
    "Output: [1,5]\n",
    "Explanation: \n",
    "- 1 is a lonely number since it appears exactly once and 0 and 2 does not appear in nums.\n",
    "- 5 is a lonely number since it appears exactly once and 4 and 6 does not appear in nums.\n",
    "- 3 is not a lonely number since it appears twice.\n",
    "Hence, the lonely numbers in nums are [1, 5].\n",
    "Note that [5, 1] may also be returned.\n",
    "\"\"\"\n",
    "\n",
    "class Solution:\n",
    "    def findLonely(self, nums: List[int]) -> List[int]:\n",
    "        final = []\n",
    "        hashTable = {} # The hashTable will store all occurrences of elements in the list\n",
    "        for i in nums:\n",
    "            # If the element is not within the hashTable, the new key is added to the dictionary\n",
    "            if i not in hashTable:\n",
    "                hashTable[i] = 1\n",
    "            else:\n",
    "            # Otherwise, the occurrence of the element (key) is simply increased by 1\n",
    "                hashTable[i] += 1\n",
    "        # The next step is to verify whether the element meets all the requirements to be the 'lonely number'\n",
    "        for j in hashTable:\n",
    "            if hashTable[j] < 2 and j - 1 not in hashTable and j + 1 not in hashTable:\n",
    "                final.append(j)\n",
    "        return final \n",
    "                  \n",
    "a = Solution()\n",
    "a.findLonely([62,35,59,55,84,61,38,87,55,82])"
   ]
  }
 ],
 "metadata": {
  "kernelspec": {
   "display_name": "Python 3 (ipykernel)",
   "language": "python",
   "name": "python3"
  },
  "language_info": {
   "codemirror_mode": {
    "name": "ipython",
    "version": 3
   },
   "file_extension": ".py",
   "mimetype": "text/x-python",
   "name": "python",
   "nbconvert_exporter": "python",
   "pygments_lexer": "ipython3",
   "version": "3.9.7"
  }
 },
 "nbformat": 4,
 "nbformat_minor": 5
}
