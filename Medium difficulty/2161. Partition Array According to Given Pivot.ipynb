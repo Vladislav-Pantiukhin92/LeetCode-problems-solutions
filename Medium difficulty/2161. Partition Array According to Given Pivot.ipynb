{
 "cells": [
  {
   "cell_type": "markdown",
   "id": "1a0ca071",
   "metadata": {},
   "source": [
    "### 2161. Partition Array According to Given Pivot"
   ]
  },
  {
   "cell_type": "code",
   "execution_count": 48,
   "id": "2d9e5cd9",
   "metadata": {},
   "outputs": [
    {
     "data": {
      "text/plain": [
       "[9, 5, 3, 10, 10, 12, 14]"
      ]
     },
     "execution_count": 48,
     "metadata": {},
     "output_type": "execute_result"
    }
   ],
   "source": [
    "\"\"\"\n",
    "You are given a 0-indexed integer array nums and an integer pivot. Rearrange nums such that the following conditions are satisfied:\n",
    "Every element less than pivot appears before every element greater than pivot.\n",
    "Every element equal to pivot appears in between the elements less than and greater than pivot.\n",
    "The relative order of the elements less than pivot and the elements greater than pivot is maintained.\n",
    "More formally, consider every pi, pj where pi is the new position of the ith element and pj is the new position of the jth element. For elements less than pivot, if i < j and nums[i] < pivot and nums[j] < pivot, then pi < pj. Similarly for elements greater than pivot, if i < j and nums[i] > pivot and nums[j] > pivot, then pi < pj.\n",
    "Return nums after the rearrangement.\n",
    "\n",
    "Example 1:\n",
    "\n",
    "Input: nums = [9,12,5,10,14,3,10], pivot = 10\n",
    "Output: [9,5,3,10,10,12,14]\n",
    "Explanation: \n",
    "The elements 9, 5, and 3 are less than the pivot so they are on the left side of the array.\n",
    "The elements 12 and 14 are greater than the pivot so they are on the right side of the array.\n",
    "The relative ordering of the elements less than and greater than pivot is also maintained. [9, 5, 3] and [12, 14] are the respective orderings.\n",
    "Example 2:\n",
    "\n",
    "Input: nums = [-3,4,3,2], pivot = 2\n",
    "Output: [-3,2,4,3]\n",
    "Explanation: \n",
    "The element -3 is less than the pivot so it is on the left side of the array.\n",
    "The elements 4 and 3 are greater than the pivot so they are on the right side of the array.\n",
    "The relative ordering of the elements less than and greater than pivot is also maintained. [-3] and [4, 3] are the respective orderings.\n",
    "\"\"\"\n",
    "\n",
    "class Solution:\n",
    "    def pivotArray(self, nums: List[int], pivot: int) -> List[int]:\n",
    "    # Through the list comprehension let's create three lists:\n",
    "        smaller = [i for i in nums if i < pivot] # The first list with elements, which are smaller than the pivot element\n",
    "        equal = [i for i in nums if i == pivot] # The second list with elements, which are equal to the pivot element\n",
    "        greater = [i for i in nums if i > pivot] # The third list with elements, which are larger than the pivot element\n",
    "        # The final operation is the concatenation of all three lists\n",
    "        final = smaller + equal + greater\n",
    "        return final # The final concatenated list is returned\n",
    "    \n",
    "a = Solution()\n",
    "a.pivotArray([9,12,5,10,14,3,10], 10)"
   ]
  }
 ],
 "metadata": {
  "kernelspec": {
   "display_name": "Python 3 (ipykernel)",
   "language": "python",
   "name": "python3"
  },
  "language_info": {
   "codemirror_mode": {
    "name": "ipython",
    "version": 3
   },
   "file_extension": ".py",
   "mimetype": "text/x-python",
   "name": "python",
   "nbconvert_exporter": "python",
   "pygments_lexer": "ipython3",
   "version": "3.9.7"
  }
 },
 "nbformat": 4,
 "nbformat_minor": 5
}
