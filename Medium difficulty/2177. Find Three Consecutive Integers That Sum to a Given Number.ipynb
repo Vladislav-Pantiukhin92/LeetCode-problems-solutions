{
 "cells": [
  {
   "cell_type": "markdown",
   "id": "09346bcd",
   "metadata": {},
   "source": [
    "### 2177. Find Three Consecutive Integers That Sum to a Given Number"
   ]
  },
  {
   "cell_type": "code",
   "execution_count": 162,
   "id": "b35170ca",
   "metadata": {},
   "outputs": [
    {
     "data": {
      "text/plain": [
       "[10, 11, 12]"
      ]
     },
     "execution_count": 162,
     "metadata": {},
     "output_type": "execute_result"
    }
   ],
   "source": [
    "\"\"\"\n",
    "Given an integer num, return three consecutive integers (as a sorted array) that sum to num. \n",
    "If num cannot be expressed as the sum of three consecutive integers, return an empty array.\n",
    "Example 1:\n",
    "\n",
    "Input: num = 33\n",
    "Output: [10,11,12]\n",
    "Explanation: 33 can be expressed as 10 + 11 + 12 = 33.\n",
    "10, 11, 12 are 3 consecutive integers, so we return [10, 11, 12].\n",
    "Example 2:\n",
    "\n",
    "Input: num = 4\n",
    "Output: []\n",
    "Explanation: There is no way to express 4 as the sum of 3 consecutive integers.\n",
    "\"\"\"\n",
    "\n",
    "class Solution:\n",
    "    def sumOfThree(self, num: int) -> List[int]:\n",
    "        # To be sure regarding the existence of three consecutive numbers it is relevant to use modular operation\n",
    "        if num % 3 == 0: # If this is the case, then, the final result includes the result itself, the result - 1\n",
    "            # as well as the result + 1\n",
    "            middle = num // 3\n",
    "            return [middle - 1, middle, middle + 1]\n",
    "        else:\n",
    "            # Otherwise, the empty list is returned\n",
    "            return []\n",
    "        \n",
    "a = Solution()\n",
    "a.sumOfThree(33)"
   ]
  }
 ],
 "metadata": {
  "kernelspec": {
   "display_name": "Python 3 (ipykernel)",
   "language": "python",
   "name": "python3"
  },
  "language_info": {
   "codemirror_mode": {
    "name": "ipython",
    "version": 3
   },
   "file_extension": ".py",
   "mimetype": "text/x-python",
   "name": "python",
   "nbconvert_exporter": "python",
   "pygments_lexer": "ipython3",
   "version": "3.9.7"
  }
 },
 "nbformat": 4,
 "nbformat_minor": 5
}
