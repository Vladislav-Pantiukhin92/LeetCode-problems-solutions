{
 "cells": [
  {
   "cell_type": "markdown",
   "id": "e5a858b5",
   "metadata": {},
   "source": [
    "### 2186. Minimum Number of Steps to Make Two Strings Anagram II"
   ]
  },
  {
   "cell_type": "code",
   "execution_count": 59,
   "id": "eda52880",
   "metadata": {},
   "outputs": [
    {
     "data": {
      "text/plain": [
       "7"
      ]
     },
     "execution_count": 59,
     "metadata": {},
     "output_type": "execute_result"
    }
   ],
   "source": [
    "\"\"\"\n",
    "You are given two strings s and t. In one step, you can append any character to either s or t.\n",
    "Return the minimum number of steps to make s and t anagrams of each other.\n",
    "An anagram of a string is a string that contains the same characters with a different (or the same) \n",
    "ordering.\n",
    "Example 1:\n",
    "\n",
    "Input: s = \"leetcode\", t = \"coats\"\n",
    "Output: 7\n",
    "Explanation: \n",
    "- In 2 steps, we can append the letters in \"as\" onto s = \"leetcode\", forming s = \"leetcodeas\".\n",
    "- In 5 steps, we can append the letters in \"leede\" onto t = \"coats\", forming t = \"coatsleede\".\n",
    "\"leetcodeas\" and \"coatsleede\" are now anagrams of each other.\n",
    "We used a total of 2 + 5 = 7 steps.\n",
    "It can be shown that there is no way to make them anagrams of each other with less than 7 steps.\n",
    "Example 2:\n",
    "\n",
    "Input: s = \"night\", t = \"thing\"\n",
    "Output: 0\n",
    "Explanation: The given strings are already anagrams of each other. Thus, we do not need any further steps.\n",
    "\"\"\"\n",
    "\n",
    "from collections import Counter # 'collections.Counter' creates dictionaries with occurrencies of letters \n",
    "# within two input strings\n",
    "\n",
    "class Solution:\n",
    "    def minSteps(self, s: str, t: str) -> int:\n",
    "        dict_s = dict(Counter(s)) # The dictionary for the first input string\n",
    "        dict_t = dict(Counter(t)) # The dictionary for the second input string\n",
    "        steps = 0 # The initial number of steps equals to 0\n",
    "        if dict_s == dict_t: # If two dictionaries are equal, two strings are already anagrams - the return result is 0\n",
    "            return 0\n",
    "        # If two dictionaries are not equal - we count letters in two strings, their difference (if letters are common \n",
    "        # for both input strings)\n",
    "        # If some letters are not included in an input string at all, the number of steps is increased by the length \n",
    "        # of this letters' chunk\n",
    "        for i in dict_s:\n",
    "            if i not in dict_t: # If some letters exist only within one string - we count the number of these unique \n",
    "                # letters as the number of steps\n",
    "                steps += dict_s[i]\n",
    "            else:\n",
    "                diff = abs(dict_s[i] - dict_t[i]) # If some letters are common for both strings - we count their absolute difference\n",
    "                steps += diff # The absolute difference is also counted as the number of steps\n",
    "        for j in dict_t:\n",
    "            if j not in dict_s:\n",
    "                steps += dict_t[j]\n",
    "        return steps # Finally, the total amount of steps is returned\n",
    "\n",
    "a = Solution()\n",
    "a.minSteps(\"leetcode\", \"coats\")"
   ]
  }
 ],
 "metadata": {
  "kernelspec": {
   "display_name": "Python 3 (ipykernel)",
   "language": "python",
   "name": "python3"
  },
  "language_info": {
   "codemirror_mode": {
    "name": "ipython",
    "version": 3
   },
   "file_extension": ".py",
   "mimetype": "text/x-python",
   "name": "python",
   "nbconvert_exporter": "python",
   "pygments_lexer": "ipython3",
   "version": "3.9.7"
  }
 },
 "nbformat": 4,
 "nbformat_minor": 5
}
