{
 "cells": [
  {
   "cell_type": "markdown",
   "id": "5d872564",
   "metadata": {},
   "source": [
    "### 2284. Sender With Largest Word Count"
   ]
  },
  {
   "cell_type": "code",
   "execution_count": 17,
   "id": "4928f2a9",
   "metadata": {},
   "outputs": [
    {
     "data": {
      "text/plain": [
       "'Charlie'"
      ]
     },
     "execution_count": 17,
     "metadata": {},
     "output_type": "execute_result"
    }
   ],
   "source": [
    "\"\"\"\n",
    "You have a chat log of n messages. You are given two string arrays messages and senders where messages[i] \n",
    "is a message sent by senders[i].\n",
    "A message is list of words that are separated by a single space with no leading or trailing spaces. \n",
    "The word count of a sender is the total number of words sent by the sender. Note that a sender may send \n",
    "more than one message.\n",
    "Return the sender with the largest word count. If there is more than one sender with the largest word \n",
    "count, return the one with the lexicographically largest name.\n",
    "Note:\n",
    "Uppercase letters come before lowercase letters in lexicographical order.\n",
    "\"Alice\" and \"alice\" are distinct.\n",
    "Example 1:\n",
    "\n",
    "Input: messages = [\"Hello userTwooo\",\"Hi userThree\",\"Wonderful day Alice\",\"Nice day userThree\"], \n",
    "senders = [\"Alice\",\"userTwo\",\"userThree\",\"Alice\"]\n",
    "Output: \"Alice\"\n",
    "Explanation: Alice sends a total of 2 + 3 = 5 words.\n",
    "userTwo sends a total of 2 words.\n",
    "userThree sends a total of 3 words.\n",
    "Since Alice has the largest word count, we return \"Alice\".\n",
    "Example 2:\n",
    "\n",
    "Input: messages = [\"How is leetcode for everyone\",\"Leetcode is useful for practice\"], \n",
    "senders = [\"Bob\",\"Charlie\"]\n",
    "Output: \"Charlie\"\n",
    "Explanation: Bob sends a total of 5 words.\n",
    "Charlie sends a total of 5 words.\n",
    "Since there is a tie for the largest word count, we return the sender with the lexicographically \n",
    "larger name, Charlie.\n",
    "\"\"\"\n",
    "\n",
    "from operator import * # 'operator.itemgetter' will help to sort the array with regard to the first or the \n",
    "# second argument\n",
    "\n",
    "class Solution:\n",
    "    def largestWordCount(self, messages: List[str], senders: List[str]) -> str:\n",
    "        # We are going to create the dictionary, where keys are senders and values are the total number of words\n",
    "        # in their messages (the total length of all their messages)\n",
    "        myDict = {}\n",
    "        i = 0\n",
    "        j = 0\n",
    "        # Through the 'while loop' the relevant dictionary with the aforementioned key-value pairs is created\n",
    "        while i < len(messages):\n",
    "            if senders[j] not in myDict:\n",
    "                myDict[senders[j]] = len(messages[i].split())\n",
    "            else:\n",
    "                myDict[senders[j]] += len(messages[i].split())\n",
    "            i += 1\n",
    "            j += 1\n",
    "        # The following step is to transform the obtained dictionary into the list of tuples with key-value pairs\n",
    "        # The list of tuples should be sorted in accordance with the length of messages\n",
    "        my_list = sorted(list(myDict.items()), key=itemgetter(1))\n",
    "        max_length = my_list[-1][1] # We find the maxLength of messages and through the 'filter' function all tuples\n",
    "        # with the length < maxLength are removed\n",
    "        filter_lst = list(filter(lambda x: x[1] == max_length, my_list))\n",
    "        if len(filter_lst) == 1: # If after that the list contains only one element - we return the first argument\n",
    "            return filter_lst[0][0]\n",
    "        else: # If after that the list contains over 1 element - we use the lexicographical sort, so the the first argument \n",
    "            # of the final element/tuple is returned\n",
    "            filter_lst = sorted(filter_lst, key=itemgetter(0))\n",
    "            return filter_lst[-1][0]\n",
    "        \n",
    "a = Solution()\n",
    "a.largestWordCount([\"How is leetcode for everyone\",\"Leetcode is useful for practice\"], [\"Bob\",\"Charlie\"])"
   ]
  }
 ],
 "metadata": {
  "kernelspec": {
   "display_name": "Python 3 (ipykernel)",
   "language": "python",
   "name": "python3"
  },
  "language_info": {
   "codemirror_mode": {
    "name": "ipython",
    "version": 3
   },
   "file_extension": ".py",
   "mimetype": "text/x-python",
   "name": "python",
   "nbconvert_exporter": "python",
   "pygments_lexer": "ipython3",
   "version": "3.9.7"
  }
 },
 "nbformat": 4,
 "nbformat_minor": 5
}
