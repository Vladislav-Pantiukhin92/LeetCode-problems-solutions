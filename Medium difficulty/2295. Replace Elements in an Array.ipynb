{
 "cells": [
  {
   "cell_type": "markdown",
   "id": "d9c3eb92",
   "metadata": {},
   "source": [
    "### 2295. Replace Elements in an Array"
   ]
  },
  {
   "cell_type": "code",
   "execution_count": 13,
   "id": "ba7316d8",
   "metadata": {},
   "outputs": [
    {
     "data": {
      "text/plain": [
       "[2, 1]"
      ]
     },
     "execution_count": 13,
     "metadata": {},
     "output_type": "execute_result"
    }
   ],
   "source": [
    "\"\"\"\n",
    "You are given a 0-indexed array nums that consists of n distinct positive integers. \n",
    "Apply m operations to this array, where in the ith operation you replace the number operations[i][0] \n",
    "with operations[i][1].\n",
    "It is guaranteed that in the ith operation:\n",
    "operations[i][0] exists in nums.\n",
    "operations[i][1] does not exist in nums.\n",
    "Return the array obtained after applying all the operations.\n",
    "Example 1:\n",
    "\n",
    "Input: nums = [1,2,4,6], operations = [[1,3],[4,7],[6,1]]\n",
    "Output: [3,2,7,1]\n",
    "Explanation: We perform the following operations on nums:\n",
    "- Replace the number 1 with 3. nums becomes [3,2,4,6].\n",
    "- Replace the number 4 with 7. nums becomes [3,2,7,6].\n",
    "- Replace the number 6 with 1. nums becomes [3,2,7,1].\n",
    "We return the final array [3,2,7,1].\n",
    "Example 2:\n",
    "\n",
    "Input: nums = [1,2], operations = [[1,3],[2,1],[3,2]]\n",
    "Output: [2,1]\n",
    "Explanation: We perform the following operations to nums:\n",
    "- Replace the number 1 with 3. nums becomes [3,2].\n",
    "- Replace the number 2 with 1. nums becomes [3,1].\n",
    "- Replace the number 3 with 2. nums becomes [2,1].\n",
    "We return the array [2,1].\n",
    "\"\"\"\n",
    "\n",
    "class Solution:\n",
    "    def arrayChange(self, nums: List[int], operations: List[List[int]]) -> List[int]:\n",
    "        myDict = {} # Let's create the dictionary, where keys are elements of the input list, which should be \n",
    "        # changed and values are elements' indices within the input list, which should be changed\n",
    "        for i, j in enumerate(nums):\n",
    "            myDict[j] = i\n",
    "        # Using the created dictionary, we change elements:   \n",
    "        for m, n in operations:\n",
    "            if m in myDict:\n",
    "                curIndex = myDict[m]\n",
    "                nums[curIndex] = n\n",
    "                del myDict[m] # Simultaneously, while replacing elements within the input list, the key-value\n",
    "                # pair is updated as well\n",
    "                myDict[n] = curIndex\n",
    "        return nums # After that, the transformed list is returned\n",
    "        \n",
    "a = Solution()\n",
    "a.arrayChange([1,2], [[1,3],[2,1],[3,2]])"
   ]
  }
 ],
 "metadata": {
  "kernelspec": {
   "display_name": "Python 3 (ipykernel)",
   "language": "python",
   "name": "python3"
  },
  "language_info": {
   "codemirror_mode": {
    "name": "ipython",
    "version": 3
   },
   "file_extension": ".py",
   "mimetype": "text/x-python",
   "name": "python",
   "nbconvert_exporter": "python",
   "pygments_lexer": "ipython3",
   "version": "3.9.7"
  }
 },
 "nbformat": 4,
 "nbformat_minor": 5
}
