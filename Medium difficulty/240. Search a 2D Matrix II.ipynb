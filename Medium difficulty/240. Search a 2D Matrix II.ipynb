{
 "cells": [
  {
   "cell_type": "markdown",
   "id": "737b6701",
   "metadata": {},
   "source": [
    "### 240. Search a 2D Matrix II"
   ]
  },
  {
   "cell_type": "code",
   "execution_count": 28,
   "id": "339dfbfa",
   "metadata": {},
   "outputs": [
    {
     "data": {
      "text/plain": [
       "True"
      ]
     },
     "execution_count": 28,
     "metadata": {},
     "output_type": "execute_result"
    }
   ],
   "source": [
    "\"\"\"\n",
    "Write an efficient algorithm that searches for a value target in an m x n integer matrix matrix. \n",
    "This matrix has the following properties:\n",
    "Integers in each row are sorted in ascending from left to right.\n",
    "Integers in each column are sorted in ascending from top to bottom.\n",
    "Example 1:\n",
    "\n",
    "Input: matrix = [[1,4,7,11,15],[2,5,8,12,19],[3,6,9,16,22],[10,13,14,17,24],[18,21,23,26,30]], target = 5\n",
    "Output: true\n",
    "Example 2:\n",
    "\n",
    "Input: matrix = [[1,4,7,11,15],[2,5,8,12,19],[3,6,9,16,22],[10,13,14,17,24],[18,21,23,26,30]], target = 20\n",
    "Output: false\n",
    "\"\"\"\n",
    "\n",
    "from itertools import chain # 'chain.from_iterable' makes it possible to transform the input matrix into the 1-D array\n",
    "from math import * # 'sqrt' function will be useful with regard to the Jump Search algorithm \n",
    "\n",
    "class Solution:\n",
    "    def searchMatrix(self, matrix, target: int) -> bool:\n",
    "        # The first step is to make the sorted 1-D array\n",
    "        myArray = sorted(list(chain.from_iterable(matrix)))\n",
    "        # The next step is to implement the Jump Search algorithm to figure out whether the target element \n",
    "        # is located within the input array or not\n",
    "        def jump_search(array, number, length): # Initially, the range, where the target element can be, is determined\n",
    "            step = int(sqrt(length))\n",
    "            prev = 0\n",
    "            while array[int(min(step, length) - 1)] < number:\n",
    "                prev = step \n",
    "                step += int(sqrt(length))\n",
    "                if prev >= length:\n",
    "                    return False\n",
    "            while array[prev] < number: # Following the identification of the slice, the linear search algorithm is executed\n",
    "                prev += 1\n",
    "                if prev == min(step, length):\n",
    "                    return False\n",
    "            if array[prev] == number:\n",
    "                return True\n",
    "            return False\n",
    "        result = jump_search(myArray, target, len(myArray))\n",
    "        return result\n",
    "    \n",
    "a = Solution()\n",
    "a.searchMatrix([[1,4,7,11,15],[2,5,8,12,19],[3,6,9,16,22],[10,13,14,17,24],[18,21,23,26,30]], 5)"
   ]
  }
 ],
 "metadata": {
  "kernelspec": {
   "display_name": "Python 3 (ipykernel)",
   "language": "python",
   "name": "python3"
  },
  "language_info": {
   "codemirror_mode": {
    "name": "ipython",
    "version": 3
   },
   "file_extension": ".py",
   "mimetype": "text/x-python",
   "name": "python",
   "nbconvert_exporter": "python",
   "pygments_lexer": "ipython3",
   "version": "3.9.7"
  }
 },
 "nbformat": 4,
 "nbformat_minor": 5
}
