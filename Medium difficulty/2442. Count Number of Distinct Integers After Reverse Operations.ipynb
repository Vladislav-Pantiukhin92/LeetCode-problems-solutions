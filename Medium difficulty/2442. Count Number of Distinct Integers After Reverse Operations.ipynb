{
 "cells": [
  {
   "cell_type": "markdown",
   "id": "f36785fa",
   "metadata": {},
   "source": [
    "### 2442. Count Number of Distinct Integers After Reverse Operations"
   ]
  },
  {
   "cell_type": "code",
   "execution_count": 6,
   "id": "60872e1b",
   "metadata": {},
   "outputs": [
    {
     "data": {
      "text/plain": [
       "6"
      ]
     },
     "execution_count": 6,
     "metadata": {},
     "output_type": "execute_result"
    }
   ],
   "source": [
    "\"\"\"\n",
    "You are given an array nums consisting of positive integers.\n",
    "You have to take each integer in the array, reverse its digits, and add it to the end of the array. \n",
    "You should apply this operation to the original integers in nums.\n",
    "Return the number of distinct integers in the final array.\n",
    "\n",
    "Example 1:\n",
    "\n",
    "Input: nums = [1,13,10,12,31]\n",
    "Output: 6\n",
    "Explanation: After including the reverse of each number, the resulting array is [1,13,10,12,31,1,31,1,21,13].\n",
    "The reversed integers that were added to the end of the array are underlined. Note that for the integer \n",
    "10, after reversing it, it becomes 01 which is just 1.\n",
    "The number of distinct integers in this array is 6 (The numbers 1, 10, 12, 13, 21, and 31).\n",
    "Example 2:\n",
    "\n",
    "Input: nums = [2,2,2]\n",
    "Output: 1\n",
    "Explanation: After including the reverse of each number, the resulting array is [2,2,2,2,2,2].\n",
    "The number of distinct integers in this array is 1 (The number 2).\n",
    "\"\"\"\n",
    "\n",
    "class Solution:\n",
    "    def countDistinctIntegers(self, nums: List[int]) -> int:\n",
    "        copy_list = nums.copy() # Let's copy the original given input array\n",
    "        # Let's transform the original given input array into the list with reversed digits of elements\n",
    "        nums = list(map(lambda x: int(\"\".join(list(str(x))[::-1])), nums))\n",
    "    # The final result is the length of the set structure of the two concatenated lists (the set structure is \n",
    "    # aimed at removing duplicates)\n",
    "        return len(set(copy_list + nums))\n",
    "    \n",
    "a = Solution()\n",
    "a.countDistinctIntegers([1,13,10,12,31])"
   ]
  }
 ],
 "metadata": {
  "kernelspec": {
   "display_name": "Python 3 (ipykernel)",
   "language": "python",
   "name": "python3"
  },
  "language_info": {
   "codemirror_mode": {
    "name": "ipython",
    "version": 3
   },
   "file_extension": ".py",
   "mimetype": "text/x-python",
   "name": "python",
   "nbconvert_exporter": "python",
   "pygments_lexer": "ipython3",
   "version": "3.9.7"
  }
 },
 "nbformat": 4,
 "nbformat_minor": 5
}
