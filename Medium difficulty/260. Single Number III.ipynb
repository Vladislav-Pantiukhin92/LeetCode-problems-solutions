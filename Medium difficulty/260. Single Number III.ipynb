{
 "cells": [
  {
   "cell_type": "markdown",
   "id": "7c51f404",
   "metadata": {},
   "source": [
    "### 260. Single Number III"
   ]
  },
  {
   "cell_type": "code",
   "execution_count": 61,
   "id": "02ba1f91",
   "metadata": {},
   "outputs": [
    {
     "data": {
      "text/plain": [
       "[3, 5]"
      ]
     },
     "execution_count": 61,
     "metadata": {},
     "output_type": "execute_result"
    }
   ],
   "source": [
    "\"\"\"\n",
    "Given an integer array nums, in which exactly two elements appear only once and all the other elements \n",
    "appear exactly twice. Find the two elements that appear only once. You can return the answer in any order.\n",
    "You must write an algorithm that runs in linear runtime complexity and uses only constant extra space.\n",
    "\n",
    "Example 1:\n",
    "\n",
    "Input: nums = [1,2,1,3,2,5]\n",
    "Output: [3,5]\n",
    "Explanation:  [5, 3] is also a valid answer.\n",
    "Example 2:\n",
    "\n",
    "Input: nums = [-1,0]\n",
    "Output: [-1,0]\n",
    "Example 3:\n",
    "\n",
    "Input: nums = [0,1]\n",
    "Output: [1,0]\n",
    "\"\"\"\n",
    "\n",
    "class Solution:\n",
    "    def singleNumber(self, nums: List[int]) -> List[int]:\n",
    "# Let's initialize the hashTable, dictionary, where keys are unique elements within the array and values - their occurences\n",
    "        hashTable = {} \n",
    "        final = []\n",
    "        for i in nums:\n",
    "            # If the key is not inside the dictionary, we add the new key with the occurence = 1\n",
    "            if i not in hashTable:\n",
    "                hashTable[i] = 1\n",
    "            # If the key is already inside the dictionary, we increase its occurence by 1\n",
    "            else:\n",
    "                hashTable[i] += 1\n",
    "        # Finally, we return the keys with the same value = 1\n",
    "        return [j for j in hashTable if hashTable[j] == 1]\n",
    "\n",
    "a = Solution()\n",
    "a.singleNumber([1,2,1,3,2,5])"
   ]
  }
 ],
 "metadata": {
  "kernelspec": {
   "display_name": "Python 3 (ipykernel)",
   "language": "python",
   "name": "python3"
  },
  "language_info": {
   "codemirror_mode": {
    "name": "ipython",
    "version": 3
   },
   "file_extension": ".py",
   "mimetype": "text/x-python",
   "name": "python",
   "nbconvert_exporter": "python",
   "pygments_lexer": "ipython3",
   "version": "3.9.7"
  }
 },
 "nbformat": 4,
 "nbformat_minor": 5
}
