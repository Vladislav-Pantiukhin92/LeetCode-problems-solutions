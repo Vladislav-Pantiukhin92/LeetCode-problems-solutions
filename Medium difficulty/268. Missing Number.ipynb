{
 "cells": [
  {
   "cell_type": "markdown",
   "id": "0edff9e6",
   "metadata": {},
   "source": [
    "### 268. Missing Number"
   ]
  },
  {
   "cell_type": "code",
   "execution_count": 21,
   "id": "6798176b",
   "metadata": {},
   "outputs": [
    {
     "data": {
      "text/plain": [
       "2"
      ]
     },
     "execution_count": 21,
     "metadata": {},
     "output_type": "execute_result"
    }
   ],
   "source": [
    "\"\"\"\n",
    "Given an array nums containing n distinct numbers in the range [0, n], \n",
    "return the only number in the range that is missing from the array.\n",
    "Example 1:\n",
    "\n",
    "Input: nums = [3,0,1]\n",
    "Output: 2\n",
    "Explanation: n = 3 since there are 3 numbers, so all numbers are in the range [0,3]. \n",
    "2 is the missing number in the range since it does not appear in nums.\n",
    "Example 2:\n",
    "\n",
    "Input: nums = [0,1]\n",
    "Output: 2\n",
    "Explanation: n = 2 since there are 2 numbers, so all numbers are in the range [0,2]. \n",
    "2 is the missing number in the range since it does not appear in nums.\n",
    "Example 3:\n",
    "\n",
    "Input: nums = [9,6,4,2,3,5,7,0,1]\n",
    "Output: 8\n",
    "Explanation: n = 9 since there are 9 numbers, so all numbers are in the range [0,9]. \n",
    "8 is the missing number in the range since it does not appear in nums.\n",
    "\"\"\"\n",
    "\n",
    "class Solution:\n",
    "    def missingNumber(self, nums: List[int]) -> int:\n",
    "        # We generate the new array with the full-fledged sequence between 0 and the length\n",
    "        length = len(list(set(nums)))\n",
    "        lst_range = list(range(0, length + 1))\n",
    "        # If some disparity occurs between the 'ideal' sequence and the input array - we return the element from the 'ideal' list\n",
    "        for i in lst_range:\n",
    "            if i not in nums:\n",
    "                return i\n",
    "a = Solution()\n",
    "a.missingNumber([0, 1])"
   ]
  }
 ],
 "metadata": {
  "kernelspec": {
   "display_name": "Python 3 (ipykernel)",
   "language": "python",
   "name": "python3"
  },
  "language_info": {
   "codemirror_mode": {
    "name": "ipython",
    "version": 3
   },
   "file_extension": ".py",
   "mimetype": "text/x-python",
   "name": "python",
   "nbconvert_exporter": "python",
   "pygments_lexer": "ipython3",
   "version": "3.9.7"
  }
 },
 "nbformat": 4,
 "nbformat_minor": 5
}
