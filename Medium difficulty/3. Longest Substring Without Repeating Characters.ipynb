{
 "cells": [
  {
   "cell_type": "markdown",
   "id": "9c65a9e6",
   "metadata": {},
   "source": [
    "### 3. Longest Substring Without Repeating Characters"
   ]
  },
  {
   "cell_type": "code",
   "execution_count": 394,
   "id": "2f0f7296",
   "metadata": {},
   "outputs": [
    {
     "data": {
      "text/plain": [
       "4"
      ]
     },
     "execution_count": 394,
     "metadata": {},
     "output_type": "execute_result"
    }
   ],
   "source": [
    "\"\"\"\n",
    "Given a string s, find the length of the longest substring without repeating characters.\n",
    "\n",
    "Example 1:\n",
    "\n",
    "Input: s = \"abcabcbb\"\n",
    "Output: 3\n",
    "Explanation: The answer is \"abc\", with the length of 3.\n",
    "Example 2:\n",
    "\n",
    "Input: s = \"bbbbb\"\n",
    "Output: 1\n",
    "Explanation: The answer is \"b\", with the length of 1.\n",
    "Example 3:\n",
    "\n",
    "Input: s = \"pwwkew\"\n",
    "Output: 3\n",
    "Explanation: The answer is \"wke\", with the length of 3.\n",
    "Notice that the answer must be a substring, \"pwke\" is a subsequence and not a substring.\n",
    "\"\"\"\n",
    "\n",
    "class Solution:\n",
    "    def lengthOfLongestSubstring(self, s: str) -> int:\n",
    "        if not s: # If 's' is an empty string - we return 0\n",
    "            return 0\n",
    "        finalLength = 1\n",
    "        # We are using the nested list\n",
    "        for i in range(0, len(s)): # The first 'for loop' is used as the starting border of the longest substring\n",
    "            # The starting conditions - the maxlength is 1 and the longest substring is 1 symbol\n",
    "            longestSubstring = s[i]  \n",
    "            maxLength = 1\n",
    "            # The second 'for loop' is used to verify the uniqueness of values\n",
    "            for j in range(i + 1, len(s)):\n",
    "                if s[j] not in longestSubstring: \n",
    "                    # If the new value is unique, it is added to the old string\n",
    "                    longestSubstring = longestSubstring + s[j]\n",
    "                    # If the length of the updated string is bigger than the old length parameter, \n",
    "                    # the maxLength is updated as well\n",
    "                    if len(longestSubstring) > maxLength:\n",
    "                        maxLength = len(longestSubstring)\n",
    "                else:\n",
    "                    break\n",
    "            # Each time the finalLength is updated, if necessary          \n",
    "            if maxLength > finalLength:\n",
    "                finalLength = maxLength     \n",
    "        return finalLength\n",
    "        \n",
    "a = Solution()\n",
    "a.lengthOfLongestSubstring(\"jbpnbwwd\")"
   ]
  }
 ],
 "metadata": {
  "kernelspec": {
   "display_name": "Python 3 (ipykernel)",
   "language": "python",
   "name": "python3"
  },
  "language_info": {
   "codemirror_mode": {
    "name": "ipython",
    "version": 3
   },
   "file_extension": ".py",
   "mimetype": "text/x-python",
   "name": "python",
   "nbconvert_exporter": "python",
   "pygments_lexer": "ipython3",
   "version": "3.9.7"
  }
 },
 "nbformat": 4,
 "nbformat_minor": 5
}
