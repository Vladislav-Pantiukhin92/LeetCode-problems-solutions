{
 "cells": [
  {
   "cell_type": "markdown",
   "id": "6ebe2629",
   "metadata": {},
   "source": [
    "### 322. Coin Change"
   ]
  },
  {
   "cell_type": "code",
   "execution_count": 9,
   "id": "eee93da4",
   "metadata": {},
   "outputs": [
    {
     "data": {
      "text/plain": [
       "3"
      ]
     },
     "execution_count": 9,
     "metadata": {},
     "output_type": "execute_result"
    }
   ],
   "source": [
    "\"\"\"\n",
    "You are given an integer array coins representing coins of different \n",
    "denominations and an integer amount representing a total amount of money.\n",
    "Return the fewest number of coins that you need to make up that amount. \n",
    "If that amount of money cannot be made up by any combination of the coins, return -1.\n",
    "You may assume that you have an infinite number of each kind of coin.\n",
    "\n",
    "Example 1:\n",
    "\n",
    "Input: coins = [1,2,5], amount = 11\n",
    "Output: 3\n",
    "Explanation: 11 = 5 + 5 + 1\n",
    "Example 2:\n",
    "\n",
    "Input: coins = [2], amount = 3\n",
    "Output: -1\n",
    "Example 3:\n",
    "\n",
    "Input: coins = [1], amount = 0\n",
    "Output: 0\n",
    "\"\"\"\n",
    "\n",
    "class Solution:\n",
    "    # To solve this problem the dynamic programming approach is used\n",
    "    def coinChange(self, coins: List[int], amount: int) -> int:\n",
    "        # First of all, we create the list (length == amount + 1), where all the elements are infinite\n",
    "        coinChanges = [float(\"inf\") for _ in range(amount + 1)]\n",
    "        # Each index of the array is the manifestation of the 'amount' variable\n",
    "        coinChanges[0] = 0 # Index 0 - it means that 0 coins are necessary to form this amount\n",
    "        # Let's iterate over other indices (split the problem into smaller parts)\n",
    "        for i in range(1, amount + 1):\n",
    "            for j in coins:\n",
    "                if i - j >= 0:\n",
    "                    coinChanges[i] = min(coinChanges[i], coinChanges[i - j] + 1)\n",
    "        if coinChanges[amount] == float(\"inf\"):\n",
    "            return -1 # If float(\"inf\") wasn't replaced with something else - it means that it is impossible\n",
    "        # to form the amount from the coins denominations in the input\n",
    "        return coinChanges[amount] # Otherwise, we return the real value\n",
    "    \n",
    "a = Solution()\n",
    "a.coinChange([1, 2, 5], 11)"
   ]
  }
 ],
 "metadata": {
  "kernelspec": {
   "display_name": "Python 3 (ipykernel)",
   "language": "python",
   "name": "python3"
  },
  "language_info": {
   "codemirror_mode": {
    "name": "ipython",
    "version": 3
   },
   "file_extension": ".py",
   "mimetype": "text/x-python",
   "name": "python",
   "nbconvert_exporter": "python",
   "pygments_lexer": "ipython3",
   "version": "3.9.7"
  }
 },
 "nbformat": 4,
 "nbformat_minor": 5
}
