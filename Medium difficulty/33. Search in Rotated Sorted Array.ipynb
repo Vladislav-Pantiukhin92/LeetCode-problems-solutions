{
 "cells": [
  {
   "cell_type": "markdown",
   "id": "ddc7b5c7",
   "metadata": {},
   "source": [
    "### 33. Search in Rotated Sorted Array"
   ]
  },
  {
   "cell_type": "code",
   "execution_count": 4,
   "id": "bd47e79a",
   "metadata": {},
   "outputs": [
    {
     "data": {
      "text/plain": [
       "4"
      ]
     },
     "execution_count": 4,
     "metadata": {},
     "output_type": "execute_result"
    }
   ],
   "source": [
    "\"\"\"\n",
    "There is an integer array nums sorted in ascending order (with distinct values).\n",
    "Prior to being passed to your function, \n",
    "nums is possibly rotated at an unknown pivot index k (1 <= k < nums.length) \n",
    "such that the resulting array is [nums[k], nums[k+1], ..., nums[n-1], \n",
    "nums[0], nums[1], ..., nums[k-1]] (0-indexed). For example, [0,1,2,4,5,6,7] \n",
    "might be rotated at pivot index 3 and become [4,5,6,7,0,1,2].\n",
    "Given the array nums after the possible rotation and an integer target, \n",
    "return the index of target if it is in nums, or -1 if it is not in nums.\n",
    "You must write an algorithm with O(log n) runtime complexity.\n",
    "\n",
    "Example 1:\n",
    "\n",
    "Input: nums = [4,5,6,7,0,1,2], target = 0\n",
    "Output: 4\n",
    "Example 2:\n",
    "\n",
    "Input: nums = [4,5,6,7,0,1,2], target = 3\n",
    "Output: -1\n",
    "Example 3:\n",
    "\n",
    "Input: nums = [1], target = 0\n",
    "Output: -1\n",
    "\"\"\"\n",
    "\n",
    "from itertools import count\n",
    "\n",
    "class Solution:\n",
    "    def search(self, nums: List[int], target: int) -> int:\n",
    "        # If the list doesn't contain the element - return -1\n",
    "        if target not in nums: \n",
    "            return -1\n",
    "        if target in nums: # If the list contains the element and the length is 1, it is obvious to suggest \n",
    "            # that it is our element at index 0\n",
    "            if len(nums) == 1:\n",
    "                return 0\n",
    "        nums = sorted(list(zip(nums, count()))) # 'itertools.count' creates the list of tuples, within which \n",
    "        # the values and their indices are placed\n",
    "        def interpolation_search(array, target, low, high):\n",
    "            if low > high:\n",
    "                return -1\n",
    "            else:\n",
    "                # To find the sought-after element we utilize the interpolation function to calculate the\n",
    "                # specific location of the element\n",
    "                mid = low + ((high - low) * (target - array[low][0])) // (array[high][0] - array[low][0])\n",
    "                if mid >= len(array):\n",
    "                    return -1 # If the location goes beyond the array's borders, we return -1\n",
    "                if target == array[mid][0]:\n",
    "                    return array[mid][1] # As we deal with the tuple structure, we compare the number with the \n",
    "                # first element of the tuple and, if necessary, we return the second element, meaning the index\n",
    "                else:\n",
    "                    # Recursion function, where the low and high array's borders constantly change\n",
    "                    if target > array[mid][0]:\n",
    "                        return interpolation_search(array, target, mid + 1, high)\n",
    "                    else:\n",
    "                        return interpolation_search(array, target, low, mid - 1)\n",
    "\n",
    "        result = interpolation_search(nums, target, 0, len(nums) - 1)\n",
    "        return result\n",
    "    \n",
    "a = Solution()\n",
    "a.search([4,5,6,7,0,1,2], 0)"
   ]
  }
 ],
 "metadata": {
  "kernelspec": {
   "display_name": "Python 3 (ipykernel)",
   "language": "python",
   "name": "python3"
  },
  "language_info": {
   "codemirror_mode": {
    "name": "ipython",
    "version": 3
   },
   "file_extension": ".py",
   "mimetype": "text/x-python",
   "name": "python",
   "nbconvert_exporter": "python",
   "pygments_lexer": "ipython3",
   "version": "3.9.7"
  }
 },
 "nbformat": 4,
 "nbformat_minor": 5
}
