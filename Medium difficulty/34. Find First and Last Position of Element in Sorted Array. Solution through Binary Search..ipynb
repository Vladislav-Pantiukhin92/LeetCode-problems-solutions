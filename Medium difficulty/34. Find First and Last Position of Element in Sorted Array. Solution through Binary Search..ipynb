{
 "cells": [
  {
   "cell_type": "markdown",
   "id": "93372d8f",
   "metadata": {},
   "source": [
    "### 34. Find First and Last Position of Element in Sorted Array. Solution through Binary Search."
   ]
  },
  {
   "cell_type": "code",
   "execution_count": 272,
   "id": "c94b3d61",
   "metadata": {},
   "outputs": [
    {
     "data": {
      "text/plain": [
       "[3, 4]"
      ]
     },
     "execution_count": 272,
     "metadata": {},
     "output_type": "execute_result"
    }
   ],
   "source": [
    "\"\"\"\n",
    "Given an array of integers nums sorted in non-decreasing order, \n",
    "find the starting and ending position of a given target value.\n",
    "If target is not found in the array, return [-1, -1].\n",
    "You must write an algorithm with O(log n) runtime complexity.\n",
    "\n",
    "Example 1:\n",
    "\n",
    "Input: nums = [5,7,7,8,8,10], target = 8\n",
    "Output: [3,4]\n",
    "Example 2:\n",
    "\n",
    "Input: nums = [5,7,7,8,8,10], target = 6\n",
    "Output: [-1,-1]\n",
    "Example 3:\n",
    "\n",
    "Input: nums = [], target = 0\n",
    "Output: [-1,-1]\n",
    "\"\"\"\n",
    "\n",
    "class Solution:\n",
    "    def searchRange(self, nums: List[int], target: int) -> List[int]:\n",
    "        if not nums:\n",
    "            return [-1, -1]\n",
    "        # We are going to find the relevant indices through the implementation of Binary Search algorithm\n",
    "        def binarySearch(array, target):\n",
    "            low = 0\n",
    "            high = len(array) - 1\n",
    "            mid = (low + high) // 2\n",
    "            while high >= low and array[mid] != target:\n",
    "                if target > array[mid]:\n",
    "                    low = mid + 1\n",
    "                else:\n",
    "                    high = mid - 1\n",
    "                mid = (low + high) // 2\n",
    "            if low > high:\n",
    "                return None\n",
    "            else:\n",
    "                return mid\n",
    "        result = binarySearch(nums, target) # The variable 'result' will preserve the index of the first sought-after element \n",
    "        if result is None: # If the sought-after element wasn't found - we return None\n",
    "            return [-1, -1]\n",
    "        else:\n",
    "            # If there are duplicates of the sought-after element, we are going to use two pointers, which will\n",
    "            # move in opposite directions to find out where the duplicate sequence starts and ends\n",
    "            if nums.count(target) > 1: \n",
    "                i = j = result\n",
    "                while nums[i] == nums[result] and i >= 0:\n",
    "                    i -= 1\n",
    "                while nums[j] == nums[result] and j < len(nums):\n",
    "                    j += 1\n",
    "                return [i + 1, j - 1]\n",
    "            else:\n",
    "                return [result, result]\n",
    "            \n",
    "a = Solution()\n",
    "a.searchRange([5,7,7,8,8,10], 8)"
   ]
  }
 ],
 "metadata": {
  "kernelspec": {
   "display_name": "Python 3 (ipykernel)",
   "language": "python",
   "name": "python3"
  },
  "language_info": {
   "codemirror_mode": {
    "name": "ipython",
    "version": 3
   },
   "file_extension": ".py",
   "mimetype": "text/x-python",
   "name": "python",
   "nbconvert_exporter": "python",
   "pygments_lexer": "ipython3",
   "version": "3.9.7"
  }
 },
 "nbformat": 4,
 "nbformat_minor": 5
}
