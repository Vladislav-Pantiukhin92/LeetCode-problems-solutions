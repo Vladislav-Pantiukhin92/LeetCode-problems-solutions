{
 "cells": [
  {
   "cell_type": "markdown",
   "id": "bef157b4",
   "metadata": {},
   "source": [
    "### 371. Sum of Two Integers"
   ]
  },
  {
   "cell_type": "code",
   "execution_count": 159,
   "id": "865ec932",
   "metadata": {},
   "outputs": [
    {
     "data": {
      "text/plain": [
       "3"
      ]
     },
     "execution_count": 159,
     "metadata": {},
     "output_type": "execute_result"
    }
   ],
   "source": [
    "\"\"\"\n",
    "Given two integers a and b, return the sum of the two integers without using the operators + and -.\n",
    "Example 1:\n",
    "\n",
    "Input: a = 1, b = 2\n",
    "Output: 3\n",
    "Example 2:\n",
    "\n",
    "Input: a = 2, b = 3\n",
    "Output: 5\n",
    "\"\"\"\n",
    "\n",
    "from operator import * # Through this tool the positive number can be transformed into the negative one\n",
    "\n",
    "class Solution:\n",
    "    def getSum(self, a: int, b: int) -> int:\n",
    "        # The special case - it is obvious that when one of two numbers equals to 0, we should return the second one\n",
    "        if a == 0: # The case when the first number is 0\n",
    "            return b\n",
    "        elif b == 0: # The case when the second number is 0\n",
    "            return a\n",
    "        else:\n",
    "            if a > 0 and b > 0: # The case when both numbers are positive\n",
    "            # In this case, the number of zeros equals to 'a' and 'b'\n",
    "            # Following the concatenation of two lists, we should return the length of the obtained combined list\n",
    "                list_a = [0] * a\n",
    "                list_b = [0] * b\n",
    "                list_a.extend(list_b)\n",
    "                return len(list_a)\n",
    "            elif a < 0 and b < 0: # The case when both numbers are negative\n",
    "                # The same principle takes place (the only exception is that the absolute value is taken)\n",
    "                list_a = [0] * abs(a)\n",
    "                list_b = [0] * abs(b)\n",
    "                list_a.extend(list_b)\n",
    "                return neg(len(list_a))\n",
    "            else:\n",
    "                if a > 0 and b < 0: # The case when the first number is positive and the second one is negative\n",
    "                    list_a = [0] * a # Manifestation of the positive number\n",
    "                    for _ in range(abs(b)):\n",
    "                        list_a.remove(0) # Manifestation of the negative number\n",
    "                    return len(list_a) # The final length is returned\n",
    "                else:\n",
    "                    list_b = [0] * b # Manifestation of the positive number\n",
    "                    for _ in range(abs(a)):\n",
    "                        list_b.remove(0) # Manifestation of the negative number\n",
    "                    return len(list_b) # The final length is returned\n",
    "                \n",
    "a = Solution()\n",
    "a.getSum(1, 2)"
   ]
  }
 ],
 "metadata": {
  "kernelspec": {
   "display_name": "Python 3 (ipykernel)",
   "language": "python",
   "name": "python3"
  },
  "language_info": {
   "codemirror_mode": {
    "name": "ipython",
    "version": 3
   },
   "file_extension": ".py",
   "mimetype": "text/x-python",
   "name": "python",
   "nbconvert_exporter": "python",
   "pygments_lexer": "ipython3",
   "version": "3.9.7"
  }
 },
 "nbformat": 4,
 "nbformat_minor": 5
}
