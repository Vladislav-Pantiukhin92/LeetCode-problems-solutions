{
 "cells": [
  {
   "cell_type": "markdown",
   "id": "e3caf756",
   "metadata": {},
   "source": [
    "### 378. Kth Smallest Element in a Sorted Matrix"
   ]
  },
  {
   "cell_type": "code",
   "execution_count": 77,
   "id": "235b1e53",
   "metadata": {},
   "outputs": [
    {
     "data": {
      "text/plain": [
       "13"
      ]
     },
     "execution_count": 77,
     "metadata": {},
     "output_type": "execute_result"
    }
   ],
   "source": [
    "\"\"\"\n",
    "Given an n x n matrix where each of the rows and columns is sorted in ascending order, \n",
    "return the kth smallest element in the matrix.\n",
    "Note that it is the kth smallest element in the sorted order, not the kth distinct element.\n",
    "You must find a solution with a memory complexity better than O(n2).\n",
    "Example 1:\n",
    "\n",
    "Input: matrix = [[1,5,9],[10,11,13],[12,13,15]], k = 8\n",
    "Output: 13\n",
    "Explanation: The elements in the matrix are [1,5,9,10,11,12,13,13,15], and the 8th smallest number is 13\n",
    "Example 2:\n",
    "\n",
    "Input: matrix = [[-5]], k = 1\n",
    "Output: -5\n",
    "\"\"\"\n",
    "\n",
    "from itertools import chain\n",
    "\n",
    "class Solution:\n",
    "    # The strategy is to, first of all, transform the matrix (that is, 2-D array) into 1-D array through \n",
    "    # the implementation of 'itertools.chain'\n",
    "    def kthSmallest(self, matrix: List[List[int]], k: int) -> int:\n",
    "        newArray = list(chain.from_iterable(matrix))\n",
    "        # Secondly, the new array should be sorted\n",
    "        # For that the Shell Sort algorithm can be utilized (comparison of elements, which are at a certain distance)\n",
    "        def shellSort(array):\n",
    "            gap = len(array) // 2\n",
    "            while gap > 0:\n",
    "                for i in range(gap, len(array)):\n",
    "                    j = i \n",
    "                    while j >= gap and array[j - gap] > array[j]:\n",
    "                        array[j - gap], array[j] = array[j], array[j - gap]\n",
    "                        j -= gap\n",
    "                gap //= 2\n",
    "            return array \n",
    "        sortedArray = shellSort(newArray)\n",
    "        return sortedArray[k - 1] # After that, the final step is to return the index - 1\n",
    "    \n",
    "a = Solution()\n",
    "a.kthSmallest([[1,5,9],[10,11,13],[12,13,15]], 8)"
   ]
  }
 ],
 "metadata": {
  "kernelspec": {
   "display_name": "Python 3 (ipykernel)",
   "language": "python",
   "name": "python3"
  },
  "language_info": {
   "codemirror_mode": {
    "name": "ipython",
    "version": 3
   },
   "file_extension": ".py",
   "mimetype": "text/x-python",
   "name": "python",
   "nbconvert_exporter": "python",
   "pygments_lexer": "ipython3",
   "version": "3.9.7"
  }
 },
 "nbformat": 4,
 "nbformat_minor": 5
}
