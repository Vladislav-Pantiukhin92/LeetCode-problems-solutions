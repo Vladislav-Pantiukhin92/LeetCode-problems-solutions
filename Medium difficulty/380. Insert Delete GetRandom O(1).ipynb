{
 "cells": [
  {
   "cell_type": "markdown",
   "id": "bae1d632",
   "metadata": {},
   "source": [
    "### 380. Insert Delete GetRandom O(1)"
   ]
  },
  {
   "cell_type": "code",
   "execution_count": null,
   "id": "bd128910",
   "metadata": {},
   "outputs": [],
   "source": [
    "\"\"\"\n",
    "Implement the RandomizedSet class:\n",
    "RandomizedSet() Initializes the RandomizedSet object.\n",
    "bool insert(int val) Inserts an item val into the set if not present. Returns true if the item was not \n",
    "present, false otherwise.\n",
    "bool remove(int val) Removes an item val from the set if present. Returns true if the item was present, false otherwise.\n",
    "int getRandom() Returns a random element from the current set of elements (it's guaranteed that at least \n",
    "one element exists when this method is called). Each element must have the same probability of being returned.\n",
    "You must implement the functions of the class such that each function works in average O(1) time complexity.\n",
    "Example 1:\n",
    "\n",
    "Input\n",
    "[\"RandomizedSet\", \"insert\", \"remove\", \"insert\", \"getRandom\", \"remove\", \"insert\", \"getRandom\"]\n",
    "[[], [1], [2], [2], [], [1], [2], []]\n",
    "Output\n",
    "[null, true, false, true, 2, true, false, 2]\n",
    "\n",
    "Explanation\n",
    "RandomizedSet randomizedSet = new RandomizedSet();\n",
    "randomizedSet.insert(1); // Inserts 1 to the set. Returns true as 1 was inserted successfully.\n",
    "randomizedSet.remove(2); // Returns false as 2 does not exist in the set.\n",
    "randomizedSet.insert(2); // Inserts 2 to the set, returns true. Set now contains [1,2].\n",
    "randomizedSet.getRandom(); // getRandom() should return either 1 or 2 randomly.\n",
    "randomizedSet.remove(1); // Removes 1 from the set, returns true. Set now contains [2].\n",
    "randomizedSet.insert(2); // 2 was already in the set, so return false.\n",
    "randomizedSet.getRandom(); // Since 2 is the only number in the set, getRandom() will always return 2.\n",
    "\"\"\"\n",
    "\n",
    "import random # 'random module' will make it possible to get random elements\n",
    "\n",
    "class RandomizedSet:\n",
    "\n",
    "    def __init__(self):\n",
    "        self.mySet = set() # Set structure to store elements\n",
    "        self.myDict = {} # The dictionary will verify the existence of the element within the set container\n",
    "        \n",
    "\n",
    "    def insert(self, val: int) -> bool:\n",
    "        if val not in self.myDict: # If the element doesn't exist within the set container - we add it both \n",
    "            # to the dictionary as well as to the set container - so we return True\n",
    "            self.myDict[val] = 1\n",
    "            self.mySet.add(val)\n",
    "            return True\n",
    "        else:\n",
    "            return False # Otherwise, we return False\n",
    "\n",
    "    def remove(self, val: int) -> bool: # To remove the element it should be already stored within the dictionary \n",
    "        if val in self.myDict:\n",
    "            del self.myDict[val] # If the element already exists within the dictionary - we remove it from the \n",
    "            # dictionary as well as from the set container - so we return True\n",
    "            self.mySet.discard(val)\n",
    "            return True\n",
    "        else:\n",
    "            return False # Otherwise, we return False\n",
    "\n",
    "    def getRandom(self) -> int: # The method, which uses the functionality of the 'random module'\n",
    "        self.mySet = list(self.mySet)\n",
    "        result = random.choice(self.mySet)\n",
    "        self.mySet = set(self.mySet)\n",
    "        return result\n",
    "\n",
    "\n",
    "# Your RandomizedSet object will be instantiated and called as such:\n",
    "# obj = RandomizedSet()\n",
    "# param_1 = obj.insert(val)\n",
    "# param_2 = obj.remove(val)\n",
    "# param_3 = obj.getRandom()"
   ]
  }
 ],
 "metadata": {
  "kernelspec": {
   "display_name": "Python 3 (ipykernel)",
   "language": "python",
   "name": "python3"
  },
  "language_info": {
   "codemirror_mode": {
    "name": "ipython",
    "version": 3
   },
   "file_extension": ".py",
   "mimetype": "text/x-python",
   "name": "python",
   "nbconvert_exporter": "python",
   "pygments_lexer": "ipython3",
   "version": "3.9.7"
  }
 },
 "nbformat": 4,
 "nbformat_minor": 5
}
