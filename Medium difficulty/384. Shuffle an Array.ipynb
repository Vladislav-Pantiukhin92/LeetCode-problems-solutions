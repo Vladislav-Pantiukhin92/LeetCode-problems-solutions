{
 "cells": [
  {
   "cell_type": "markdown",
   "id": "50095a65",
   "metadata": {},
   "source": [
    "### 384. Shuffle an Array"
   ]
  },
  {
   "cell_type": "code",
   "execution_count": null,
   "id": "c06eaabc",
   "metadata": {},
   "outputs": [],
   "source": [
    "\"\"\"\n",
    "Given an integer array nums, design an algorithm to randomly shuffle the array. \n",
    "All permutations of the array should be equally likely as a result of the shuffling.\n",
    "Implement the Solution class:\n",
    "\n",
    "Solution(int[] nums) Initializes the object with the integer array nums.\n",
    "int[] reset() Resets the array to its original configuration and returns it.\n",
    "int[] shuffle() Returns a random shuffling of the array.\n",
    "Example 1:\n",
    "\n",
    "Input\n",
    "[\"Solution\", \"shuffle\", \"reset\", \"shuffle\"]\n",
    "[[[1, 2, 3]], [], [], []]\n",
    "Output\n",
    "[null, [3, 1, 2], [1, 2, 3], [1, 3, 2]]\n",
    "\n",
    "Explanation\n",
    "Solution solution = new Solution([1, 2, 3]);\n",
    "solution.shuffle();    // Shuffle the array [1,2,3] and return its result.\n",
    "                       // Any permutation of [1,2,3] must be equally likely to be returned.\n",
    "                       // Example: return [3, 1, 2]\n",
    "solution.reset();      // Resets the array back to its original configuration [1,2,3]. Return [1, 2, 3]\n",
    "solution.shuffle();    // Returns the random shuffling of array [1,2,3]. Example: return [1, 3, 2]\n",
    "\"\"\"\n",
    "\n",
    "import random # To solve this problem let's import the random module\n",
    "\n",
    "class Solution:\n",
    "\n",
    "    def __init__(self, nums: List[int]):\n",
    "        self.myArray = [i for i in nums] # Firstly, we create the array itself\n",
    "        # Secondly, the array is replicated for further implementation of 'reset' function\n",
    "        self.replica = self.myArray.copy() \n",
    "\n",
    "    def reset(self) -> List[int]:\n",
    "        # As the original array has already been shuffled, the shuffled content of the array is replaced with the \n",
    "        # content of the earlier initialized replica\n",
    "        for i in range(len(self.replica)):\n",
    "            self.myArray[i] = self.replica[i]\n",
    "        return self.myArray\n",
    "\n",
    "    def shuffle(self) -> List[int]:\n",
    "        random.shuffle(self.myArray) # 'random.shuffle' will be used to shuffle the elements\n",
    "        return self.myArray"
   ]
  }
 ],
 "metadata": {
  "kernelspec": {
   "display_name": "Python 3 (ipykernel)",
   "language": "python",
   "name": "python3"
  },
  "language_info": {
   "codemirror_mode": {
    "name": "ipython",
    "version": 3
   },
   "file_extension": ".py",
   "mimetype": "text/x-python",
   "name": "python",
   "nbconvert_exporter": "python",
   "pygments_lexer": "ipython3",
   "version": "3.9.7"
  }
 },
 "nbformat": 4,
 "nbformat_minor": 5
}
