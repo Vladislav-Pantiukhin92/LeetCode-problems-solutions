{
 "cells": [
  {
   "cell_type": "markdown",
   "id": "b2de6a07",
   "metadata": {},
   "source": [
    "### 386. Lexicographical Numbers"
   ]
  },
  {
   "cell_type": "code",
   "execution_count": 16,
   "id": "5386d04e",
   "metadata": {},
   "outputs": [
    {
     "data": {
      "text/plain": [
       "['1', '10', '11', '12', '13', '2', '3', '4', '5', '6', '7', '8', '9']"
      ]
     },
     "execution_count": 16,
     "metadata": {},
     "output_type": "execute_result"
    }
   ],
   "source": [
    "\"\"\"\n",
    "Given an integer n, return all the numbers in the range [1, n] sorted in lexicographical order.\n",
    "You must write an algorithm that runs in O(n) time and uses O(1) extra space. \n",
    "\n",
    "Example 1:\n",
    "\n",
    "Input: n = 13\n",
    "Output: [1,10,11,12,13,2,3,4,5,6,7,8,9]\n",
    "Example 2:\n",
    "\n",
    "Input: n = 2\n",
    "Output: [1,2]\n",
    "\"\"\"\n",
    "\n",
    "class Solution:\n",
    "# We need to generate the list of numbers from 1 to 'n' inclusively with the help of the 'range' function\n",
    "    def lexicalOrder(self, n: int) -> List[int]:\n",
    "# All integers are transformed into the list of string numbers. \n",
    "# The lexicographical order is set through the 'key=str'\n",
    "        return sorted(list(map(str, list(range(1, n + 1)))), key=str)\n",
    "    \n",
    "a = Solution()\n",
    "a.lexicalOrder(13)"
   ]
  }
 ],
 "metadata": {
  "kernelspec": {
   "display_name": "Python 3 (ipykernel)",
   "language": "python",
   "name": "python3"
  },
  "language_info": {
   "codemirror_mode": {
    "name": "ipython",
    "version": 3
   },
   "file_extension": ".py",
   "mimetype": "text/x-python",
   "name": "python",
   "nbconvert_exporter": "python",
   "pygments_lexer": "ipython3",
   "version": "3.9.7"
  }
 },
 "nbformat": 4,
 "nbformat_minor": 5
}
