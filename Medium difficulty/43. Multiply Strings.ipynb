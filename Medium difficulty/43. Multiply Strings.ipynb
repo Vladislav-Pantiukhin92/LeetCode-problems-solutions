{
 "cells": [
  {
   "cell_type": "markdown",
   "id": "24109f8d",
   "metadata": {},
   "source": [
    "### 43. Multiply Strings"
   ]
  },
  {
   "cell_type": "code",
   "execution_count": 46,
   "id": "1781b507",
   "metadata": {},
   "outputs": [
    {
     "data": {
      "text/plain": [
       "'56088'"
      ]
     },
     "execution_count": 46,
     "metadata": {},
     "output_type": "execute_result"
    }
   ],
   "source": [
    "\"\"\"\n",
    "Given two non-negative integers num1 and num2 represented as strings, return the product of num1 \n",
    "and num2, also represented as a string.\n",
    "Note: You must not use any built-in BigInteger library or convert the inputs to integer directly.\n",
    "Example 1:\n",
    "\n",
    "Input: num1 = \"2\", num2 = \"3\"\n",
    "Output: \"6\"\n",
    "Example 2:\n",
    "\n",
    "Input: num1 = \"123\", num2 = \"456\"\n",
    "Output: \"56088\"\n",
    "\"\"\"\n",
    "\n",
    "class Solution:\n",
    "    def multiply(self, num1: str, num2: str) -> str: # 'eval()' function makes it possible to calculate the \n",
    "        # string-based input (in this case it is unnecessary to have integers or floats as arguments)\n",
    "        return str(eval(f\"{num1} * {num2}\"))\n",
    "    \n",
    "a = Solution()\n",
    "a.multiply(\"123\", \"456\")"
   ]
  }
 ],
 "metadata": {
  "kernelspec": {
   "display_name": "Python 3 (ipykernel)",
   "language": "python",
   "name": "python3"
  },
  "language_info": {
   "codemirror_mode": {
    "name": "ipython",
    "version": 3
   },
   "file_extension": ".py",
   "mimetype": "text/x-python",
   "name": "python",
   "nbconvert_exporter": "python",
   "pygments_lexer": "ipython3",
   "version": "3.9.7"
  }
 },
 "nbformat": 4,
 "nbformat_minor": 5
}
