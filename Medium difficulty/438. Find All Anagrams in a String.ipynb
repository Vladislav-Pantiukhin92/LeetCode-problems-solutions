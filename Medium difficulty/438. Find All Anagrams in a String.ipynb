{
 "cells": [
  {
   "cell_type": "markdown",
   "id": "36aa3638",
   "metadata": {},
   "source": [
    "### 438. Find All Anagrams in a String"
   ]
  },
  {
   "cell_type": "code",
   "execution_count": 105,
   "id": "1ccfc552",
   "metadata": {},
   "outputs": [
    {
     "data": {
      "text/plain": [
       "[0, 6]"
      ]
     },
     "execution_count": 105,
     "metadata": {},
     "output_type": "execute_result"
    }
   ],
   "source": [
    "\"\"\"\n",
    "Given two strings s and p, return an array of all the start indices of p's anagrams in s. \n",
    "You may return the answer in any order.\n",
    "An Anagram is a word or phrase formed by rearranging the letters of a different word or phrase, \n",
    "typically using all the original letters exactly once.\n",
    "Example 1:\n",
    "\n",
    "Input: s = \"cbaebabacd\", p = \"abc\"\n",
    "Output: [0,6]\n",
    "Explanation:\n",
    "The substring with start index = 0 is \"cba\", which is an anagram of \"abc\".\n",
    "The substring with start index = 6 is \"bac\", which is an anagram of \"abc\".\n",
    "Example 2:\n",
    "\n",
    "Input: s = \"abab\", p = \"ab\"\n",
    "Output: [0,1,2]\n",
    "Explanation:\n",
    "The substring with start index = 0 is \"ab\", which is an anagram of \"ab\".\n",
    "The substring with start index = 1 is \"ba\", which is an anagram of \"ab\".\n",
    "The substring with start index = 2 is \"ab\", which is an anagram of \"ab\".\n",
    "\"\"\"\n",
    "\n",
    "from collections import Counter # 'collections.Counter' will create the dictionary, where keys are letters and \n",
    "# values are their occurrences\n",
    "\n",
    "class Solution:\n",
    "    def findAnagrams(self, s: str, p: str) -> List[int]:\n",
    "        # The major solution principle is the comparison between the dictionary of 'p' (with letters' coccurrences)\n",
    "        # and the dictionary of each slice (substring) with the length of 'p'\n",
    "        patternDict = dict(Counter(p))\n",
    "        final = []\n",
    "        length = len(p)\n",
    "        i = 0\n",
    "        j = i + length\n",
    "        curDict = dict(Counter(s[i:j]))\n",
    "        # While moving forward we change the composition of slices, simultaneously changing the composition of the \n",
    "        # dictionary with occurrences of letters, which are within the current slice\n",
    "        while j < len(s) + 1:\n",
    "            if patternDict == curDict:\n",
    "                final.append(i)\n",
    "            if j == len(s):\n",
    "                return final\n",
    "            prev_i = s[i]\n",
    "            prev_j = s[j]\n",
    "            i += 1\n",
    "            j += 1\n",
    "            curDict[prev_i] -= 1\n",
    "            if curDict[prev_i] == 0:\n",
    "                del curDict[prev_i]\n",
    "            if prev_j not in curDict or curDict[prev_j] == 0:\n",
    "                curDict[prev_j] = 1\n",
    "            else:\n",
    "                curDict[prev_j] += 1\n",
    "a = Solution()\n",
    "a.findAnagrams(\"cbaebabacd\", \"abc\")"
   ]
  }
 ],
 "metadata": {
  "kernelspec": {
   "display_name": "Python 3 (ipykernel)",
   "language": "python",
   "name": "python3"
  },
  "language_info": {
   "codemirror_mode": {
    "name": "ipython",
    "version": 3
   },
   "file_extension": ".py",
   "mimetype": "text/x-python",
   "name": "python",
   "nbconvert_exporter": "python",
   "pygments_lexer": "ipython3",
   "version": "3.9.7"
  }
 },
 "nbformat": 4,
 "nbformat_minor": 5
}
