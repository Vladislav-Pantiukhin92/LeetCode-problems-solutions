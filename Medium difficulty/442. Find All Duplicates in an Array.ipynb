{
 "cells": [
  {
   "cell_type": "markdown",
   "id": "9215ebf0",
   "metadata": {},
   "source": [
    "### 442. Find All Duplicates in an Array"
   ]
  },
  {
   "cell_type": "code",
   "execution_count": 4,
   "id": "ca2b0f9c",
   "metadata": {},
   "outputs": [
    {
     "data": {
      "text/plain": [
       "[2, 3]"
      ]
     },
     "execution_count": 4,
     "metadata": {},
     "output_type": "execute_result"
    }
   ],
   "source": [
    "\"\"\"\n",
    "Given an integer array nums of length n where all the integers of nums are in the range [1, n] \n",
    "and each integer appears once or twice, return an array of all the integers that appears twice.\n",
    "You must write an algorithm that runs in O(n) time and uses only constant extra space.\n",
    "Example 1:\n",
    "\n",
    "Input: nums = [4,3,2,7,8,2,3,1]\n",
    "Output: [2,3]\n",
    "Example 2:\n",
    "\n",
    "Input: nums = [1,1,2]\n",
    "Output: [1]\n",
    "Example 3:\n",
    "\n",
    "Input: nums = [1]\n",
    "Output: []\n",
    "\"\"\"\n",
    "\n",
    "class Solution:\n",
    "    def findDuplicates(self, nums: List[int]) -> List[int]:\n",
    "        hashTable = {} # The hashTable is created\n",
    "        final = [] # The container, which will return the final result\n",
    "        # If the element as a key is not within the hashTable - we add this key to the dictionary\n",
    "        for j in nums:\n",
    "            if j not in hashTable:\n",
    "                hashTable[j] = 1\n",
    "            else: # If the key is already within the hashTable, it means that the element was met \n",
    "                # the second time, so it should be added to the final list\n",
    "                final.append(j)\n",
    "        return final\n",
    "    \n",
    "a = Solution()\n",
    "a.findDuplicates([4,3,2,7,8,2,3,1])"
   ]
  }
 ],
 "metadata": {
  "kernelspec": {
   "display_name": "Python 3 (ipykernel)",
   "language": "python",
   "name": "python3"
  },
  "language_info": {
   "codemirror_mode": {
    "name": "ipython",
    "version": 3
   },
   "file_extension": ".py",
   "mimetype": "text/x-python",
   "name": "python",
   "nbconvert_exporter": "python",
   "pygments_lexer": "ipython3",
   "version": "3.9.7"
  }
 },
 "nbformat": 4,
 "nbformat_minor": 5
}
