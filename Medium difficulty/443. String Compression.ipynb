{
 "cells": [
  {
   "cell_type": "markdown",
   "id": "a8e73375",
   "metadata": {},
   "source": [
    "### 443. String Compression"
   ]
  },
  {
   "cell_type": "code",
   "execution_count": 38,
   "id": "562efdf0",
   "metadata": {},
   "outputs": [
    {
     "data": {
      "text/plain": [
       "4"
      ]
     },
     "execution_count": 38,
     "metadata": {},
     "output_type": "execute_result"
    }
   ],
   "source": [
    "\"\"\"\n",
    "Given an array of characters chars, compress it using the following algorithm:\n",
    "Begin with an empty string s. For each group of consecutive repeating characters in chars:\n",
    "If the group's length is 1, append the character to s.\n",
    "Otherwise, append the character followed by the group's length.\n",
    "The compressed string s should not be returned separately, but instead, be stored in the input character array chars. Note that group lengths that are 10 or longer will be split into multiple characters in chars.\n",
    "After you are done modifying the input array, return the new length of the array.\n",
    "You must write an algorithm that uses only constant extra space.\n",
    "Example 1:\n",
    "\n",
    "Input: chars = [\"a\",\"a\",\"b\",\"b\",\"c\",\"c\",\"c\"]\n",
    "Output: Return 6, and the first 6 characters of the input array should be: [\"a\",\"2\",\"b\",\"2\",\"c\",\"3\"]\n",
    "Explanation: The groups are \"aa\", \"bb\", and \"ccc\". This compresses to \"a2b2c3\".\n",
    "Example 2:\n",
    "\n",
    "Input: chars = [\"a\"]\n",
    "Output: Return 1, and the first character of the input array should be: [\"a\"]\n",
    "Explanation: The only group is \"a\", which remains uncompressed since it's a single character.\n",
    "Example 3:\n",
    "\n",
    "Input: chars = [\"a\",\"b\",\"b\",\"b\",\"b\",\"b\",\"b\",\"b\",\"b\",\"b\",\"b\",\"b\",\"b\"]\n",
    "Output: Return 4, and the first 4 characters of the input array should be: [\"a\",\"b\",\"1\",\"2\"].\n",
    "Explanation: The groups are \"a\" and \"bbbbbbbbbbbb\". This compresses to \"ab12\".\n",
    "\"\"\"\n",
    "\n",
    "from itertools import groupby # 'itertools.groupby' will group the values according to the key (unique value)\n",
    "# and the group (the number of occurrences/the list of occurrences)\n",
    "\n",
    "class Solution:\n",
    "    def compress(self, chars: List[str]) -> int:\n",
    "        myString = \"\"\n",
    "        for key, group in groupby(chars):\n",
    "            curList = list(group)\n",
    "            if len(curList) == 1: # If the list of occurrences (group) contains only one value - we add only the character\n",
    "                myString += key\n",
    "            else:\n",
    "                # If the list of occurrences (group) contains more than 1 value, the character as well as its occurrence are added\n",
    "                myString += key + str(len(curList))\n",
    "        # The final step is to modify the original array, replicating the updated values\n",
    "        for i in range(len(myString)):\n",
    "            chars[i] = myString[i]\n",
    "        return len(myString) # The length of the updated values is returned\n",
    "    \n",
    "a = Solution()\n",
    "a.compress([\"a\",\"b\",\"b\",\"b\",\"b\",\"b\",\"b\",\"b\",\"b\",\"b\",\"b\",\"b\",\"b\"])"
   ]
  }
 ],
 "metadata": {
  "kernelspec": {
   "display_name": "Python 3 (ipykernel)",
   "language": "python",
   "name": "python3"
  },
  "language_info": {
   "codemirror_mode": {
    "name": "ipython",
    "version": 3
   },
   "file_extension": ".py",
   "mimetype": "text/x-python",
   "name": "python",
   "nbconvert_exporter": "python",
   "pygments_lexer": "ipython3",
   "version": "3.9.7"
  }
 },
 "nbformat": 4,
 "nbformat_minor": 5
}
