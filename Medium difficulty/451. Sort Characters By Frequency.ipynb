{
 "cells": [
  {
   "cell_type": "markdown",
   "id": "3c925899",
   "metadata": {},
   "source": [
    "### 451. Sort Characters By Frequency"
   ]
  },
  {
   "cell_type": "code",
   "execution_count": 30,
   "id": "31879f19",
   "metadata": {},
   "outputs": [
    {
     "data": {
      "text/plain": [
       "'eetr'"
      ]
     },
     "execution_count": 30,
     "metadata": {},
     "output_type": "execute_result"
    }
   ],
   "source": [
    "\"\"\"\n",
    "Given a string s, sort it in decreasing order based on the frequency of the characters. \n",
    "The frequency of a character is the number of times it appears in the string.\n",
    "Return the sorted string. If there are multiple answers, return any of them.\n",
    "Example 1:\n",
    "\n",
    "Input: s = \"tree\"\n",
    "Output: \"eert\"\n",
    "Explanation: 'e' appears twice while 'r' and 't' both appear once.\n",
    "So 'e' must appear before both 'r' and 't'. Therefore \"eetr\" is also a valid answer.\n",
    "Example 2:\n",
    "\n",
    "Input: s = \"cccaaa\"\n",
    "Output: \"aaaccc\"\n",
    "Explanation: Both 'c' and 'a' appear three times, so both \"cccaaa\" and \"aaaccc\" are valid answers.\n",
    "Note that \"cacaca\" is incorrect, as the same characters must be together.\n",
    "Example 3:\n",
    "\n",
    "Input: s = \"Aabb\"\n",
    "Output: \"bbAa\"\n",
    "Explanation: \"bbaA\" is also a valid answer, but \"Aabb\" is incorrect.\n",
    "Note that 'A' and 'a' are treated as two different characters.\n",
    "\"\"\"\n",
    "\n",
    "from operator import * # 'operator.itemgetter' will help to sort the input array in proper order\n",
    "\n",
    "class Solution:\n",
    "    def frequencySort(self, s: str) -> str:\n",
    "        hashTable = {} # The dictionary is created \n",
    "        finalString = \"\" # The variable will store string characters in descending order\n",
    "        # The next step is to store all the occurrences of values within the hashTable\n",
    "        for i in s:\n",
    "            if i not in hashTable:\n",
    "                hashTable[i] = 1\n",
    "            else:\n",
    "                hashTable[i] += 1\n",
    "        # After that, it is possible to utilize the dictionary method - dict.items(), which returns the list of tuples with key-value pairs\n",
    "        # This list is sorted with the focus on the second argument (the number of occurrences)\n",
    "        # As a result, the argument is taken within each tuple of the list, as well as it is added to the finalString\n",
    "        frequencyList = sorted(hashTable.items(), key=itemgetter(1), reverse=True)\n",
    "        for k, v in frequencyList:\n",
    "            finalString += k * v # It is necessary to take into account the fact that each character (the first argument of the tuple)\n",
    "            # should be multiplied by occurrences (the second argument of the tuple)\n",
    "        return finalString\n",
    "\n",
    "a = Solution()\n",
    "a.frequencySort(\"tree\")"
   ]
  }
 ],
 "metadata": {
  "kernelspec": {
   "display_name": "Python 3 (ipykernel)",
   "language": "python",
   "name": "python3"
  },
  "language_info": {
   "codemirror_mode": {
    "name": "ipython",
    "version": 3
   },
   "file_extension": ".py",
   "mimetype": "text/x-python",
   "name": "python",
   "nbconvert_exporter": "python",
   "pygments_lexer": "ipython3",
   "version": "3.9.7"
  }
 },
 "nbformat": 4,
 "nbformat_minor": 5
}
