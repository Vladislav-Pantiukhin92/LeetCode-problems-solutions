{
 "cells": [
  {
   "cell_type": "markdown",
   "id": "418cf6dc",
   "metadata": {},
   "source": [
    "### 49. Group Anagrams"
   ]
  },
  {
   "cell_type": "code",
   "execution_count": 275,
   "id": "83dbe121",
   "metadata": {},
   "outputs": [
    {
     "data": {
      "text/plain": [
       "[['bat'], ['eat', 'tea', 'ate'], ['tan', 'nat']]"
      ]
     },
     "execution_count": 275,
     "metadata": {},
     "output_type": "execute_result"
    }
   ],
   "source": [
    "from itertools import groupby # 'groupby' will be used to form groups of keys (patterns)\n",
    "from operator import * # 'itemgetter()' will be used to sort the array\n",
    "\n",
    "class Solution:\n",
    "    def groupAnagrams(self, strs: List[str]) -> List[List[str]]:\n",
    "        lst = []\n",
    "        final = [] # Container, which will preserve the final result\n",
    "        # Firstly, it is necessary to store in the list the similar combinations to identify patterns in the future\n",
    "        for i in strs:\n",
    "            # It is achievable through the sort_function\n",
    "            lst.append(\"\".join(sorted(list(i))))\n",
    "        result = sorted(list(zip(strs, lst)), key=itemgetter(1))\n",
    "        key_func = lambda x: x[1] # The obtained array will be sorted with regard to the second argument - [1]\n",
    "        for key, group in groupby(result, key=key_func):\n",
    "            my_list = []\n",
    "            for j in list(group):\n",
    "                my_list.append(j[0])\n",
    "            final.append(my_list)\n",
    "        return final\n",
    "    \n",
    "a = Solution()\n",
    "a.groupAnagrams([\"eat\",\"tea\",\"tan\",\"ate\",\"nat\",\"bat\"])"
   ]
  }
 ],
 "metadata": {
  "kernelspec": {
   "display_name": "Python 3 (ipykernel)",
   "language": "python",
   "name": "python3"
  },
  "language_info": {
   "codemirror_mode": {
    "name": "ipython",
    "version": 3
   },
   "file_extension": ".py",
   "mimetype": "text/x-python",
   "name": "python",
   "nbconvert_exporter": "python",
   "pygments_lexer": "ipython3",
   "version": "3.9.7"
  }
 },
 "nbformat": 4,
 "nbformat_minor": 5
}
