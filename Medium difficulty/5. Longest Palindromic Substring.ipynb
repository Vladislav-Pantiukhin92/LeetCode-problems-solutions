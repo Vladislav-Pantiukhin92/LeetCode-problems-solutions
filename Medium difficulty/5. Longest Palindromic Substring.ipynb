{
 "cells": [
  {
   "cell_type": "markdown",
   "id": "3fde057c",
   "metadata": {},
   "source": [
    "### 5. Longest Palindromic Substring"
   ]
  },
  {
   "cell_type": "code",
   "execution_count": 179,
   "id": "482540e9",
   "metadata": {},
   "outputs": [
    {
     "data": {
      "text/plain": [
       "'bb'"
      ]
     },
     "execution_count": 179,
     "metadata": {},
     "output_type": "execute_result"
    }
   ],
   "source": [
    "\"\"\"\n",
    "Given a string s, return the longest palindromic substring in s.\n",
    "\n",
    "Example 1:\n",
    "\n",
    "Input: s = \"babad\"\n",
    "Output: \"bab\"\n",
    "Explanation: \"aba\" is also a valid answer.\n",
    "Example 2:\n",
    "\n",
    "Input: s = \"cbbd\"\n",
    "Output: \"bb\"\n",
    "\"\"\"\n",
    "\n",
    "class Solution:\n",
    "    def longestPalindrome(self, s: str) -> str:\n",
    "        maxLength = 0 # The variable will preserve the maxlength of the current palindrome\n",
    "        maxPal = \"\" # The variable will preserve the palindrome itself with the maxLength\n",
    "        # The algorithm for odd-numbered palindromes\n",
    "        for i in range(len(s)): \n",
    "            l, r = i, i \n",
    "            # Within the borders of the array two pointers are moving in opposite directions while letters are the same\n",
    "            while l >= 0 and r < len(s) and s[l] == s[r]:\n",
    "                if (r - l) + 1 > maxLength:\n",
    "                    # If necessary, maxLength and palindromic slice are updated\n",
    "                    maxLength = (r - l) + 1\n",
    "                    maxPal = s[l:r + 1]\n",
    "                l -= 1\n",
    "                r += 1\n",
    "        # The algorithm for even-numbered palindromes\n",
    "        for i in range(len(s)):\n",
    "            l, r = i, i + 1\n",
    "        # Within the borders of the array two pointers are moving in opposite directions while letters are the same\n",
    "            while l >= 0 and r < len(s) and s[l] == s[r]:\n",
    "                if (r - l) + 1 > maxLength:\n",
    "                    # If necessary, maxLength and palindromic slice are updated\n",
    "                    maxLength = (r - l) + 1\n",
    "                    maxPal = s[l:r + 1]\n",
    "                l -= 1\n",
    "                r += 1\n",
    "                \n",
    "        return maxPal\n",
    "               \n",
    "a = Solution()\n",
    "a.longestPalindrome(\"cbbd\")"
   ]
  }
 ],
 "metadata": {
  "kernelspec": {
   "display_name": "Python 3 (ipykernel)",
   "language": "python",
   "name": "python3"
  },
  "language_info": {
   "codemirror_mode": {
    "name": "ipython",
    "version": 3
   },
   "file_extension": ".py",
   "mimetype": "text/x-python",
   "name": "python",
   "nbconvert_exporter": "python",
   "pygments_lexer": "ipython3",
   "version": "3.9.7"
  }
 },
 "nbformat": 4,
 "nbformat_minor": 5
}
