{
 "cells": [
  {
   "cell_type": "markdown",
   "id": "f4589713",
   "metadata": {},
   "source": [
    "### 540. Single Element in a Sorted Array"
   ]
  },
  {
   "cell_type": "code",
   "execution_count": 1,
   "id": "298bd679",
   "metadata": {},
   "outputs": [
    {
     "data": {
      "text/plain": [
       "10"
      ]
     },
     "execution_count": 1,
     "metadata": {},
     "output_type": "execute_result"
    }
   ],
   "source": [
    "\"\"\"\n",
    "You are given a sorted array consisting of only integers where every element appears exactly twice, \n",
    "except for one element which appears exactly once.\n",
    "Return the single element that appears only once.\n",
    "Your solution must run in O(log n) time and O(1) space.\n",
    "Example 1:\n",
    "\n",
    "Input: nums = [1,1,2,3,3,4,4,8,8]\n",
    "Output: 2\n",
    "Example 2:\n",
    "\n",
    "Input: nums = [3,3,7,7,10,11,11]\n",
    "Output: 10\n",
    "\"\"\"\n",
    "\n",
    "class Solution:\n",
    "    def singleNonDuplicate(self, nums: List[int]) -> int:\n",
    "        # We are going to write the algorithm, based upon the Binary Search algorithm\n",
    "        # We have the following logic behind the algorithm:\n",
    "        # 1 - The input array is divided into two approximately equal parts, the middle element is found\n",
    "        # 2 - The part with the even amount of elements is eliminated (the even amount means that there are full pairs)\n",
    "        # 3 - The part with the odd amount of elements is divided into two parts and comparison executed again \n",
    "\n",
    "        def binarySearch(array):\n",
    "            low = 0\n",
    "            high = len(array) - 1\n",
    "            while high > low:\n",
    "                mid = (low + high) // 2\n",
    "                # During all the iterations simultaneously we verify the uniqueness of the middle element\n",
    "                if array[mid - 1] != array[mid] and array[mid] != array[mid + 1]:\n",
    "                    return mid\n",
    "                else:\n",
    "                    # It is necessary to shift indices if we need balanced comparison (when the pair is located fully within the one part)\n",
    "                    if array[mid] == array[mid - 1]:\n",
    "                        mid += 1\n",
    "                if len(array[low:mid]) % 2 == 0:\n",
    "                    low = mid\n",
    "                else:\n",
    "                    high = mid - 1\n",
    "            return high\n",
    "\n",
    "        index = binarySearch(nums)\n",
    "        return nums[index] # Within the algorithm only index was found, so it is necessary to return the element itself\n",
    "    \n",
    "a = Solution()\n",
    "a.singleNonDuplicate([3,3,7,7,10,11,11])"
   ]
  }
 ],
 "metadata": {
  "kernelspec": {
   "display_name": "Python 3 (ipykernel)",
   "language": "python",
   "name": "python3"
  },
  "language_info": {
   "codemirror_mode": {
    "name": "ipython",
    "version": 3
   },
   "file_extension": ".py",
   "mimetype": "text/x-python",
   "name": "python",
   "nbconvert_exporter": "python",
   "pygments_lexer": "ipython3",
   "version": "3.9.7"
  }
 },
 "nbformat": 4,
 "nbformat_minor": 5
}
