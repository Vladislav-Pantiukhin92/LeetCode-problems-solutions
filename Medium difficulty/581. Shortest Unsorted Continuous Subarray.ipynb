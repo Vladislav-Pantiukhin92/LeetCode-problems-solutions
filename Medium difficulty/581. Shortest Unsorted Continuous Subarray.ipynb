{
 "cells": [
  {
   "cell_type": "markdown",
   "id": "362527c6",
   "metadata": {},
   "source": [
    "### 581. Shortest Unsorted Continuous Subarray"
   ]
  },
  {
   "cell_type": "code",
   "execution_count": 26,
   "id": "50588f29",
   "metadata": {},
   "outputs": [
    {
     "data": {
      "text/plain": [
       "5"
      ]
     },
     "execution_count": 26,
     "metadata": {},
     "output_type": "execute_result"
    }
   ],
   "source": [
    "\"\"\"\n",
    "Given an integer array nums, you need to find one continuous subarray \n",
    "that if you only sort this subarray in ascending order, then the whole array will be sorted in \n",
    "ascending order.\n",
    "Return the shortest such subarray and output its length.\n",
    "Example 1:\n",
    "\n",
    "Input: nums = [2,6,4,8,10,9,15]\n",
    "Output: 5\n",
    "Explanation: You need to sort [6, 4, 8, 10, 9] in ascending order to make the whole array sorted in ascending order.\n",
    "Example 2:\n",
    "\n",
    "Input: nums = [1,2,3,4]\n",
    "Output: 0\n",
    "Example 3:\n",
    "\n",
    "Input: nums = [1]\n",
    "Output: 0\n",
    "\"\"\"\n",
    "\n",
    "class Solution:\n",
    "    def findUnsortedSubarray(self, nums: List[int]) -> int:\n",
    "        sortedArray = sorted(nums) # Let's create the sorted array from elements in the input list\n",
    "        # The main idea behind the solution is the element-by-element comparison between the input list and the \n",
    "        # obtained sorted array\n",
    "        i = 0 \n",
    "        j = 0\n",
    "        final = []\n",
    "        while i < len(nums):\n",
    "            if nums[i] != sortedArray[j]: # When the disparity is encountered, the element's index is added to the final list\n",
    "                final.append(i)\n",
    "            i += 1\n",
    "            j += 1\n",
    "        if len(final) < 1: # If the list with indices is empty, it means that the input list was already sorted\n",
    "            # so we have nothing to return (in this case 0 is returned)\n",
    "            return 0\n",
    "        else:\n",
    "            # In other cases, the output is the difference between the first and the last disparity indices + 1\n",
    "            return (final[-1] - final[0]) + 1\n",
    "        \n",
    "a = Solution()\n",
    "a.findUnsortedSubarray([2,6,4,8,10,9,15])"
   ]
  }
 ],
 "metadata": {
  "kernelspec": {
   "display_name": "Python 3 (ipykernel)",
   "language": "python",
   "name": "python3"
  },
  "language_info": {
   "codemirror_mode": {
    "name": "ipython",
    "version": 3
   },
   "file_extension": ".py",
   "mimetype": "text/x-python",
   "name": "python",
   "nbconvert_exporter": "python",
   "pygments_lexer": "ipython3",
   "version": "3.9.7"
  }
 },
 "nbformat": 4,
 "nbformat_minor": 5
}
