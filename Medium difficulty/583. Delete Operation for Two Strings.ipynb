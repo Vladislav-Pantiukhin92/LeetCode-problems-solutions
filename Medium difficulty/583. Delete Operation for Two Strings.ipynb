{
 "cells": [
  {
   "cell_type": "markdown",
   "id": "02c18ba1",
   "metadata": {},
   "source": [
    "### 583. Delete Operation for Two Strings"
   ]
  },
  {
   "cell_type": "code",
   "execution_count": 1,
   "id": "3df8fc79",
   "metadata": {},
   "outputs": [
    {
     "data": {
      "text/plain": [
       "4"
      ]
     },
     "execution_count": 1,
     "metadata": {},
     "output_type": "execute_result"
    }
   ],
   "source": [
    "\"\"\"\n",
    "Given two strings word1 and word2, return the minimum number of steps required to make word1 and word2 the same.\n",
    "In one step, you can delete exactly one character in either string.\n",
    "Example 1:\n",
    "\n",
    "Input: word1 = \"sea\", word2 = \"eat\"\n",
    "Output: 2\n",
    "Explanation: You need one step to make \"sea\" to \"ea\" and another step to make \"eat\" to \"ea\".\n",
    "Example 2:\n",
    "\n",
    "Input: word1 = \"leetcode\", word2 = \"etco\"\n",
    "Output: 4\n",
    "\"\"\"\n",
    "\n",
    "# The algorithm to solve such kind of problem is similar to the algorithm to find the longest common subsequence \n",
    "# with the help of the Dynamic Programming approach\n",
    "import numpy as np # 'numpy' will be used to initialize the 2-D array, matrix\n",
    "\n",
    "class Solution:\n",
    "    def minDistance(self, word1: str, word2: str) -> int:\n",
    "        matrix = np.zeros((len(word1) + 1, len(word2) + 1)) # Initially, the matrix is filled only with zeros\n",
    "        for i in range(1, len(word1) + 1):\n",
    "            for j in range(1, len(word2) + 1):\n",
    "                if word1[i - 1] == word2[j - 1]: # If parallel characters in two words are the same, we increase \n",
    "                    # the value of the matrix square by 1\n",
    "                    matrix[i][j] = matrix[i - 1][j - 1] + 1\n",
    "                else:\n",
    "                    # Otherwise, we try to find the maxValue in the following squares:\n",
    "                    matrix[i][j] = max(matrix[i][j - 1], matrix[i - 1][j])\n",
    "        longest_common_sub = int(matrix[-1][-1])\n",
    "        # The final result is the length of both arguments (word1 and word2) without the length of the longest \n",
    "        # common subsequence\n",
    "        return (len(word1) - longest_common_sub) + (len(word2) - longest_common_sub)\n",
    "    \n",
    "a = Solution()\n",
    "a.minDistance(\"leetcode\", \"etco\")"
   ]
  }
 ],
 "metadata": {
  "kernelspec": {
   "display_name": "Python 3 (ipykernel)",
   "language": "python",
   "name": "python3"
  },
  "language_info": {
   "codemirror_mode": {
    "name": "ipython",
    "version": 3
   },
   "file_extension": ".py",
   "mimetype": "text/x-python",
   "name": "python",
   "nbconvert_exporter": "python",
   "pygments_lexer": "ipython3",
   "version": "3.9.7"
  }
 },
 "nbformat": 4,
 "nbformat_minor": 5
}
