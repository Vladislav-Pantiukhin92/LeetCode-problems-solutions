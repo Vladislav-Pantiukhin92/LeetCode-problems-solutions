{
 "cells": [
  {
   "cell_type": "markdown",
   "id": "acee4802",
   "metadata": {},
   "source": [
    "### 647. Palindromic Substrings"
   ]
  },
  {
   "cell_type": "code",
   "execution_count": 182,
   "id": "c2c1463b",
   "metadata": {},
   "outputs": [
    {
     "data": {
      "text/plain": [
       "6"
      ]
     },
     "execution_count": 182,
     "metadata": {},
     "output_type": "execute_result"
    }
   ],
   "source": [
    "\"\"\"\n",
    "Given a string s, return the number of palindromic substrings in it.\n",
    "A string is a palindrome when it reads the same backward as forward.\n",
    "A substring is a contiguous sequence of characters within the string.\n",
    "\n",
    "Example 1:\n",
    "\n",
    "Input: s = \"abc\"\n",
    "Output: 3\n",
    "Explanation: Three palindromic strings: \"a\", \"b\", \"c\".\n",
    "Example 2:\n",
    "\n",
    "Input: s = \"aaa\"\n",
    "Output: 6\n",
    "Explanation: Six palindromic strings: \"a\", \"a\", \"a\", \"aa\", \"aa\", \"aaa\".\n",
    "\"\"\"\n",
    "\n",
    "class Solution:\n",
    "    def countSubstrings(self, s: str) -> int:\n",
    "        # The container, which will preserve all the identified palindromes\n",
    "        # The container will comprise all the possible palindromic substrings, including palindromes, which \n",
    "        # consist of only 1 letter\n",
    "        list_of_palindromes = [] \n",
    "        # The algorithm for odd-numbered palindromes\n",
    "        for i in range(len(s)):\n",
    "            l, r = i, i\n",
    "            # Within the borders of the array two pointers are moving in opposite directions while letters are the same\n",
    "            while l >= 0 and r < len(s) and s[l] == s[r]:\n",
    "                list_of_palindromes.append(s[l:r + 1])\n",
    "                l -= 1\n",
    "                r += 1\n",
    "        # The algorithm for even-numbered palindromes\n",
    "        for i in range(len(s)):\n",
    "            l, r = i, i + 1\n",
    "            # Within the borders of the array two pointers are moving in opposite directions while letters are the same\n",
    "            while l >= 0 and r < len(s) and s[l] == s[r]:\n",
    "                list_of_palindromes.append(s[l:r + 1])\n",
    "                l -= 1\n",
    "                r += 1\n",
    "                \n",
    "        return len(list_of_palindromes) # The answer is the length of the container\n",
    "    \n",
    "a = Solution()\n",
    "a.countSubstrings(\"aaa\")"
   ]
  }
 ],
 "metadata": {
  "kernelspec": {
   "display_name": "Python 3 (ipykernel)",
   "language": "python",
   "name": "python3"
  },
  "language_info": {
   "codemirror_mode": {
    "name": "ipython",
    "version": 3
   },
   "file_extension": ".py",
   "mimetype": "text/x-python",
   "name": "python",
   "nbconvert_exporter": "python",
   "pygments_lexer": "ipython3",
   "version": "3.9.7"
  }
 },
 "nbformat": 4,
 "nbformat_minor": 5
}
