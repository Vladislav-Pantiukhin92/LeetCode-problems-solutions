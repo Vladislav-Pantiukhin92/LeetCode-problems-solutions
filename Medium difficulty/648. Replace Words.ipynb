{
 "cells": [
  {
   "cell_type": "markdown",
   "id": "073d8440",
   "metadata": {},
   "source": [
    "### 648. Replace Words"
   ]
  },
  {
   "cell_type": "code",
   "execution_count": 28,
   "id": "9743deb8",
   "metadata": {},
   "outputs": [
    {
     "data": {
      "text/plain": [
       "'the cat was rat by the bat'"
      ]
     },
     "execution_count": 28,
     "metadata": {},
     "output_type": "execute_result"
    }
   ],
   "source": [
    "\"\"\"\n",
    "In English, we have a concept called root, which can be followed by some other word to form another \n",
    "longer word - let's call this word successor. For example, when the root \"an\" is followed by the successor \n",
    "word \"other\", we can form a new word \"another\".\n",
    "Given a dictionary consisting of many roots and a sentence consisting of words separated by spaces, \n",
    "replace all the successors in the sentence with the root forming it. If a successor can be replaced \n",
    "by more than one root, replace it with the root that has the shortest length.\n",
    "Return the sentence after the replacement.\n",
    "Example 1:\n",
    "\n",
    "Input: dictionary = [\"cat\",\"bat\",\"rat\"], sentence = \"the cattle was rattled by the battery\"\n",
    "Output: \"the cat was rat by the bat\"\n",
    "Example 2:\n",
    "\n",
    "Input: dictionary = [\"a\",\"b\",\"c\"], sentence = \"aadsfasf absbs bbab cadsfafs\"\n",
    "Output: \"a a b c\"\n",
    "\"\"\"\n",
    "\n",
    "class Solution:\n",
    "    def replaceWords(self, dictionary: List[str], sentence: str) -> str:\n",
    "        myList = sentence.split() # 'Sentence' is split into words within the list\n",
    "        final = myList.copy()\n",
    "        # It would be better to sort the dictionary in such a way as to have the shortest strings at the end\n",
    "        # The shortest words will update the sentence at the end of the algorithm, thus, we can be sure that\n",
    "        # the word is replaced with the shortest pattern from the dictionary\n",
    "        dictionary = sorted(dictionary, key=len, reverse=True)\n",
    "        index1 = 0\n",
    "        while index1 < len(dictionary):\n",
    "            index2 = 0\n",
    "            while index2 < len(myList):\n",
    "                if myList[index2].startswith(dictionary[index1]):\n",
    "                    final[index2] = dictionary[index1]\n",
    "                index2 += 1\n",
    "            index1 += 1\n",
    "        return \" \".join(final)\n",
    "    \n",
    "a = Solution()\n",
    "a.replaceWords([\"cat\",\"bat\",\"rat\"], \"the cattle was rattled by the battery\")"
   ]
  }
 ],
 "metadata": {
  "kernelspec": {
   "display_name": "Python 3 (ipykernel)",
   "language": "python",
   "name": "python3"
  },
  "language_info": {
   "codemirror_mode": {
    "name": "ipython",
    "version": 3
   },
   "file_extension": ".py",
   "mimetype": "text/x-python",
   "name": "python",
   "nbconvert_exporter": "python",
   "pygments_lexer": "ipython3",
   "version": "3.9.7"
  }
 },
 "nbformat": 4,
 "nbformat_minor": 5
}
