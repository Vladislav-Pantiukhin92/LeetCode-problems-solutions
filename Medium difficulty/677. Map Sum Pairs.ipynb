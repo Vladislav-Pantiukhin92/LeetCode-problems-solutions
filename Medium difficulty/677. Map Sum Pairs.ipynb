{
 "cells": [
  {
   "cell_type": "markdown",
   "id": "ccad8471",
   "metadata": {},
   "source": [
    "### 677. Map Sum Pairs"
   ]
  },
  {
   "cell_type": "code",
   "execution_count": null,
   "id": "5a5ea0a9",
   "metadata": {},
   "outputs": [],
   "source": [
    "\"\"\"\n",
    "Design a map that allows you to do the following:\n",
    "\n",
    "Maps a string key to a given value.\n",
    "Returns the sum of the values that have a key with a prefix equal to a given string.\n",
    "Implement the MapSum class:\n",
    "\n",
    "MapSum() Initializes the MapSum object.\n",
    "void insert(String key, int val) Inserts the key-val pair into the map. If the key already existed, \n",
    "the original key-value pair will be overridden to the new one.\n",
    "int sum(string prefix) Returns the sum of all the pairs' value whose key starts with the prefix.\n",
    " \n",
    "\n",
    "Example 1:\n",
    "\n",
    "Input\n",
    "[\"MapSum\", \"insert\", \"sum\", \"insert\", \"sum\"]\n",
    "[[], [\"apple\", 3], [\"ap\"], [\"app\", 2], [\"ap\"]]\n",
    "Output\n",
    "[null, null, 3, null, 5]\n",
    "\n",
    "Explanation\n",
    "MapSum mapSum = new MapSum();\n",
    "mapSum.insert(\"apple\", 3);  \n",
    "mapSum.sum(\"ap\");           // return 3 (apple = 3)\n",
    "mapSum.insert(\"app\", 2);    \n",
    "mapSum.sum(\"ap\");           // return 5 (apple + app = 3 + 2 = 5)\n",
    "\"\"\"\n",
    "\n",
    "class MapSum:\n",
    "\n",
    "    def __init__(self):\n",
    "        self.myDict = {} # The hashTable (dictionary) is created\n",
    "\n",
    "    def insert(self, key: str, val: int) -> None:\n",
    "        self.myDict[key] = val # The 'key-value' pair is added or updated within the created dictionary\n",
    "        \n",
    "    def sum(self, prefix: str) -> int: # Calculation of the overall sum\n",
    "        finalSum = 0 # The initial sum equals to 0\n",
    "        for i in self.myDict:\n",
    "            if i.startswith(prefix): # The case, when the dictionary key starts with the corresponding prefix\n",
    "                finalSum += self.myDict[i] # In this case the sum is increased\n",
    "        return finalSum # The final sum is returned"
   ]
  }
 ],
 "metadata": {
  "kernelspec": {
   "display_name": "Python 3 (ipykernel)",
   "language": "python",
   "name": "python3"
  },
  "language_info": {
   "codemirror_mode": {
    "name": "ipython",
    "version": 3
   },
   "file_extension": ".py",
   "mimetype": "text/x-python",
   "name": "python",
   "nbconvert_exporter": "python",
   "pygments_lexer": "ipython3",
   "version": "3.9.7"
  }
 },
 "nbformat": 4,
 "nbformat_minor": 5
}
