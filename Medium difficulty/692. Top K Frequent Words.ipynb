{
 "cells": [
  {
   "cell_type": "markdown",
   "id": "232d9097",
   "metadata": {},
   "source": [
    "### 692. Top K Frequent Words"
   ]
  },
  {
   "cell_type": "code",
   "execution_count": 99,
   "id": "d1bfe99c",
   "metadata": {},
   "outputs": [
    {
     "data": {
      "text/plain": [
       "['the', 'is', 'sunny', 'day']"
      ]
     },
     "execution_count": 99,
     "metadata": {},
     "output_type": "execute_result"
    }
   ],
   "source": [
    "\"\"\"\n",
    "Given an array of strings words and an integer k, return the k most frequent strings.\n",
    "Return the answer sorted by the frequency from highest to lowest. Sort the words with the same \n",
    "frequency by their lexicographical order.\n",
    "Example 1:\n",
    "\n",
    "Input: words = [\"i\",\"love\",\"leetcode\",\"i\",\"love\",\"coding\"], k = 2\n",
    "Output: [\"i\",\"love\"]\n",
    "Explanation: \"i\" and \"love\" are the two most frequent words.\n",
    "Note that \"i\" comes before \"love\" due to a lower alphabetical order.\n",
    "Example 2:\n",
    "\n",
    "Input: words = [\"the\",\"day\",\"is\",\"sunny\",\"the\",\"the\",\"the\",\"sunny\",\"is\",\"is\"], k = 4\n",
    "Output: [\"the\",\"is\",\"sunny\",\"day\"]\n",
    "Explanation: \"the\", \"is\", \"sunny\" and \"day\" are the four most frequent words, with the number of occurrence being 4, 3, 2 and 1 respectively.\n",
    "\"\"\"\n",
    "\n",
    "from collections import Counter # 'collections.Counter' will create the dictionary, where keys are words and \n",
    "# values are their occurrences within the input list\n",
    "from operator import * # 'operator.itemgetter' will help to sort the array in proper order\n",
    "from itertools import groupby # 'itertools.groupby' will group values in accordance with unique keys\n",
    "\n",
    "class Solution:\n",
    "    def topKFrequent(self, words, k: int):\n",
    "        final = [] # The container will preserve the ordered list of words in accordance with the 'k' value\n",
    "        myDict = sorted(list(dict(Counter(words)).items()), key=itemgetter(1), reverse=True)\n",
    "        key_func = lambda x: x[1]\n",
    "        for key, group in groupby(myDict, key=key_func):\n",
    "            for i in sorted(list(group)):\n",
    "                final.append(i[0])\n",
    "                if len(final) == k:\n",
    "                    return final\n",
    "                \n",
    "a = Solution()\n",
    "a.topKFrequent([\"the\",\"day\",\"is\",\"sunny\",\"the\",\"the\",\"the\",\"sunny\",\"is\",\"is\"], 4)"
   ]
  }
 ],
 "metadata": {
  "kernelspec": {
   "display_name": "Python 3 (ipykernel)",
   "language": "python",
   "name": "python3"
  },
  "language_info": {
   "codemirror_mode": {
    "name": "ipython",
    "version": 3
   },
   "file_extension": ".py",
   "mimetype": "text/x-python",
   "name": "python",
   "nbconvert_exporter": "python",
   "pygments_lexer": "ipython3",
   "version": "3.9.7"
  }
 },
 "nbformat": 4,
 "nbformat_minor": 5
}
