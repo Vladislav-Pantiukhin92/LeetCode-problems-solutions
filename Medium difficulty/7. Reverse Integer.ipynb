{
 "cells": [
  {
   "cell_type": "markdown",
   "id": "d27305f3",
   "metadata": {},
   "source": [
    "### 7. Reverse Integer"
   ]
  },
  {
   "cell_type": "code",
   "execution_count": 40,
   "id": "569df6b8",
   "metadata": {},
   "outputs": [
    {
     "data": {
      "text/plain": [
       "21"
      ]
     },
     "execution_count": 40,
     "metadata": {},
     "output_type": "execute_result"
    }
   ],
   "source": [
    "\"\"\"\n",
    "Given a signed 32-bit integer x, return x with its digits reversed. If reversing x causes \n",
    "the value to go outside the signed 32-bit integer range [-231, 231 - 1], then return 0.\n",
    "Assume the environment does not allow you to store 64-bit integers (signed or unsigned).\n",
    "Example 1:\n",
    "\n",
    "Input: x = 123\n",
    "Output: 321\n",
    "Example 2:\n",
    "\n",
    "Input: x = -123\n",
    "Output: -321\n",
    "Example 3:\n",
    "\n",
    "Input: x = 120\n",
    "Output: 21\n",
    "\"\"\"\n",
    "\n",
    "\n",
    "class Solution:\n",
    "    def reverse(self, x: int) -> int:\n",
    "        # Let's turn the integer number into the string number\n",
    "        number = str(x)\n",
    "        if number.startswith(\"-\"): # If the number is negative, then, the string will start with \"-\"\n",
    "            # The next step is to reverse the string number, remove the \"-\" at the beginning of the string \n",
    "            # After that the string number will be turned into the integer type again as well as the negativity\n",
    "            # will be restored again (if necessary)\n",
    "            number = neg(int(number.lstrip(\"-\")[::-1]))\n",
    "            if number < (-2 ** 31): # Besides, some numeric limitations should be taken into account\n",
    "                return 0\n",
    "            return number\n",
    "\n",
    "        else:\n",
    "            # If the number is not negative, the similar steps will be repeated, except operations with regart to the \n",
    "            # negative sign\n",
    "            number = int(number[::-1])\n",
    "            if number > (2 ** 31 - 1): # Besides, some numeric limitations should be taken into account\n",
    "                return 0\n",
    "            return number\n",
    "        \n",
    "a = Solution()\n",
    "a.reverse(120)"
   ]
  }
 ],
 "metadata": {
  "kernelspec": {
   "display_name": "Python 3 (ipykernel)",
   "language": "python",
   "name": "python3"
  },
  "language_info": {
   "codemirror_mode": {
    "name": "ipython",
    "version": 3
   },
   "file_extension": ".py",
   "mimetype": "text/x-python",
   "name": "python",
   "nbconvert_exporter": "python",
   "pygments_lexer": "ipython3",
   "version": "3.9.7"
  }
 },
 "nbformat": 4,
 "nbformat_minor": 5
}
