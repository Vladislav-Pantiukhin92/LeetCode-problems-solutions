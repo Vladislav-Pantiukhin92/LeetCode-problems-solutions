{
 "cells": [
  {
   "cell_type": "markdown",
   "id": "0f9451c3",
   "metadata": {},
   "source": [
    "### 74. Search a 2D Matrix"
   ]
  },
  {
   "cell_type": "code",
   "execution_count": 19,
   "id": "1f2c4657",
   "metadata": {},
   "outputs": [
    {
     "data": {
      "text/plain": [
       "False"
      ]
     },
     "execution_count": 19,
     "metadata": {},
     "output_type": "execute_result"
    }
   ],
   "source": [
    "\"\"\"\n",
    "Write an efficient algorithm that searches for a value target in an m x n integer matrix matrix. \n",
    "This matrix has the following properties:\n",
    "Integers in each row are sorted from left to right.\n",
    "The first integer of each row is greater than the last integer of the previous row.\n",
    "\n",
    "Example 1:\n",
    "\n",
    "Input: matrix = [[1,3,5,7],[10,11,16,20],[23,30,34,60]], target = 3\n",
    "Output: true\n",
    "Example 2:\n",
    "\n",
    "Input: matrix = [[1,3,5,7],[10,11,16,20],[23,30,34,60]], target = 13\n",
    "Output: false\n",
    "\"\"\"\n",
    "\n",
    "from itertools import chain # 'itertools.chain' will transform the nested list (2-D array) into the 1-D array\n",
    "\n",
    "class Solution:\n",
    "    def searchMatrix(self, matrix: List[List[int]], target: int) -> bool:\n",
    "        array = sorted(list(chain.from_iterable(matrix))) # The simple list should be sorted to execute the search algorithm\n",
    "        # Implementation of the ternary search (it is similar to the binary search algorith, but division by 3, not by 2)\n",
    "        def ternary_search(array, target, low, high):\n",
    "            while high >= low:\n",
    "                mid1 = low + (high - low) // 3\n",
    "                mid2 = high - (high - low) // 3\n",
    "                if array[mid1] == target:\n",
    "                    return True\n",
    "                elif array[mid2] == target:\n",
    "                    return True\n",
    "                else:\n",
    "                    if array[mid2] > target > array[mid1]:\n",
    "                        low = mid1 + 1\n",
    "                        high = mid2 - 1\n",
    "                    elif target > array[mid2]:\n",
    "                        low = mid2 + 1\n",
    "                    else:\n",
    "                        high = mid1 - 1\n",
    "            return False\n",
    "        result = ternary_search(array, target, 0, len(array) - 1)\n",
    "        return result\n",
    "    \n",
    "a = Solution()\n",
    "a.searchMatrix([[1,3,5,7],[10,11,16,20],[23,30,34,60]], 13)"
   ]
  }
 ],
 "metadata": {
  "kernelspec": {
   "display_name": "Python 3 (ipykernel)",
   "language": "python",
   "name": "python3"
  },
  "language_info": {
   "codemirror_mode": {
    "name": "ipython",
    "version": 3
   },
   "file_extension": ".py",
   "mimetype": "text/x-python",
   "name": "python",
   "nbconvert_exporter": "python",
   "pygments_lexer": "ipython3",
   "version": "3.9.7"
  }
 },
 "nbformat": 4,
 "nbformat_minor": 5
}
