{
 "cells": [
  {
   "cell_type": "markdown",
   "id": "9b56ba63",
   "metadata": {},
   "source": [
    "### 75. Sort Colors"
   ]
  },
  {
   "cell_type": "code",
   "execution_count": 13,
   "id": "20703321",
   "metadata": {},
   "outputs": [
    {
     "data": {
      "text/plain": [
       "[0, 0, 1, 1, 2, 2]"
      ]
     },
     "execution_count": 13,
     "metadata": {},
     "output_type": "execute_result"
    }
   ],
   "source": [
    "\"\"\"\n",
    "Given an array nums with n objects colored red, white, or blue, sort them in-place so that objects \n",
    "of the same color are adjacent, with the colors in the order red, white, and blue.\n",
    "We will use the integers 0, 1, and 2 to represent the color red, white, and blue, respectively.\n",
    "You must solve this problem without using the library's sort function.\n",
    "Example 1:\n",
    "\n",
    "Input: nums = [2,0,2,1,1,0]\n",
    "Output: [0,0,1,1,2,2]\n",
    "Example 2:\n",
    "\n",
    "Input: nums = [2,0,1]\n",
    "Output: [0,1,2]\n",
    "\"\"\"\n",
    "\n",
    "class Solution:\n",
    "    # The conditions of the problem envisage that it is necessary to carry out just the sorting procedure\n",
    "    # in ascending order (taking into account the parallel order of colors and corresponding numbers)\n",
    "    \n",
    "    def sortColors(self, nums: List[int]) -> None:\n",
    "        # For instance, the QuickSort Algorithm can be implemented:\n",
    "        # The first part is to find the specific location of the pivot number\n",
    "        def pivot_place(array, start, end):\n",
    "            left = start + 1\n",
    "            right = end\n",
    "            while True:\n",
    "                while right >= left and array[left] <= array[start]:\n",
    "                    left += 1\n",
    "                while right >= left and array[right] > array[start]:\n",
    "                    right -= 1\n",
    "                if right < left:\n",
    "                    break\n",
    "                else:\n",
    "                    array[left], array[right] = array[right], array[left]\n",
    "            array[start], array[right] = array[right], array[start]\n",
    "            return right \n",
    "        \n",
    "        # The second part is the sorting procedure itself\n",
    "        def quick_sort(array, start, end):\n",
    "            if end < start:\n",
    "                return -1\n",
    "            p = pivot_place(array, start, end)\n",
    "            quick_sort(array, start, p - 1)\n",
    "            quick_sort(array, p + 1, end)\n",
    "            return array \n",
    "        result = quick_sort(nums, 0, len(nums) - 1)\n",
    "        return result\n",
    "    \n",
    "a = Solution()\n",
    "a.sortColors([2,0,2,1,1,0])"
   ]
  }
 ],
 "metadata": {
  "kernelspec": {
   "display_name": "Python 3 (ipykernel)",
   "language": "python",
   "name": "python3"
  },
  "language_info": {
   "codemirror_mode": {
    "name": "ipython",
    "version": 3
   },
   "file_extension": ".py",
   "mimetype": "text/x-python",
   "name": "python",
   "nbconvert_exporter": "python",
   "pygments_lexer": "ipython3",
   "version": "3.9.7"
  }
 },
 "nbformat": 4,
 "nbformat_minor": 5
}
