{
 "cells": [
  {
   "cell_type": "markdown",
   "id": "e37354da",
   "metadata": {},
   "source": [
    "### 77. Combinations"
   ]
  },
  {
   "cell_type": "code",
   "execution_count": 94,
   "id": "b18d81f7",
   "metadata": {},
   "outputs": [
    {
     "data": {
      "text/plain": [
       "[(1, 2), (1, 3), (1, 4), (2, 3), (2, 4), (3, 4)]"
      ]
     },
     "execution_count": 94,
     "metadata": {},
     "output_type": "execute_result"
    }
   ],
   "source": [
    "\"\"\"\n",
    "Given two integers n and k, return all possible combinations of k numbers out of the range [1, n].\n",
    "You may return the answer in any order.\n",
    "Example 1:\n",
    "\n",
    "Input: n = 4, k = 2\n",
    "Output:\n",
    "[\n",
    "  [2,4],\n",
    "  [3,4],\n",
    "  [2,3],\n",
    "  [1,2],\n",
    "  [1,3],\n",
    "  [1,4],\n",
    "]\n",
    "Example 2:\n",
    "\n",
    "Input: n = 1, k = 1\n",
    "Output: [[1]]\n",
    "\"\"\"\n",
    "\n",
    "from itertools import combinations # 'itertools.combinations' will create all possible combinations of the certain length\n",
    "\n",
    "class Solution:\n",
    "    def combine(self, n: int, k: int) -> List[List[int]]:\n",
    "        range_lst = list(range(1, n + 1)) # Let's create the range of numbers from 1 to n inclusively\n",
    "        return sorted(list(set(list(combinations(range_lst, k))))) # Creation of combinations without duplicates\n",
    "    \n",
    "a = Solution()\n",
    "a.combine(4, 2)"
   ]
  }
 ],
 "metadata": {
  "kernelspec": {
   "display_name": "Python 3 (ipykernel)",
   "language": "python",
   "name": "python3"
  },
  "language_info": {
   "codemirror_mode": {
    "name": "ipython",
    "version": 3
   },
   "file_extension": ".py",
   "mimetype": "text/x-python",
   "name": "python",
   "nbconvert_exporter": "python",
   "pygments_lexer": "ipython3",
   "version": "3.9.7"
  }
 },
 "nbformat": 4,
 "nbformat_minor": 5
}
