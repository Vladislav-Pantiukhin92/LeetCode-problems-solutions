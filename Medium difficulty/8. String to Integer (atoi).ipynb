{
 "cells": [
  {
   "cell_type": "markdown",
   "id": "58dd7faf",
   "metadata": {},
   "source": [
    "### 8. String to Integer (atoi)"
   ]
  },
  {
   "cell_type": "code",
   "execution_count": 13,
   "id": "2375341a",
   "metadata": {},
   "outputs": [
    {
     "data": {
      "text/plain": [
       "42"
      ]
     },
     "execution_count": 13,
     "metadata": {},
     "output_type": "execute_result"
    }
   ],
   "source": [
    "\"\"\"\n",
    "Implement the myAtoi(string s) function, which converts a string \n",
    "to a 32-bit signed integer (similar to C/C++'s atoi function).\n",
    "The algorithm for myAtoi(string s) is as follows:\n",
    "\n",
    "Read in and ignore any leading whitespace.\n",
    "Check if the next character (if not already at the end of the string) is '-' or '+'. Read this character \n",
    "in if it is either. This determines if the final result is negative or positive respectively. \n",
    "Assume the result is positive if neither is present.\n",
    "Read in next the characters until the next non-digit character or the end of the input is reached. The rest of the string is ignored.\n",
    "Convert these digits into an integer (i.e. \"123\" -> 123, \"0032\" -> 32). If no digits were read, then the integer is 0. Change the sign as necessary (from step 2).\n",
    "If the integer is out of the 32-bit signed integer range [-231, 231 - 1], then clamp the integer \n",
    "so that it remains in the range. Specifically, integers less than -231 should be clamped to -231, \n",
    "and integers greater than 231 - 1 should be clamped to 231 - 1.\n",
    "Return the integer as the final result.\n",
    "Note:\n",
    "Only the space character ' ' is considered a whitespace character.\n",
    "Do not ignore any characters other than the leading whitespace or the rest of the string after the digits.\n",
    "\n",
    "Example:\n",
    "\n",
    "Input: s = \"42\"\n",
    "Output: 42\n",
    "Explanation: The underlined characters are what is read in, the caret is the current reader position.\n",
    "Step 1: \"42\" (no characters read because there is no leading whitespace)\n",
    "         ^\n",
    "Step 2: \"42\" (no characters read because there is neither a '-' nor '+')\n",
    "         ^\n",
    "Step 3: \"42\" (\"42\" is read in)\n",
    "           ^\n",
    "The parsed integer is 42.\n",
    "Since 42 is in the range [-231, 231 - 1], the final result is 42.\n",
    "\"\"\"\n",
    "from operator import *\n",
    "\n",
    "class Solution:\n",
    "    def myAtoi(self, s: str) -> int:\n",
    "        s = s.lstrip() # string method 'str.lstrip' will remove leading whitespaces\n",
    "        myString = \"\"\n",
    "        positive = True # The input number is positive by default\n",
    "        if s.startswith(\"-\"): # Another string method 'str.startswith()' will show the next symbol in the string\n",
    "            index = 1\n",
    "            positive = False # So if the next character is \"-\", it means that we deal with the negative number\n",
    "        # Another option is if the string input starts with the \"+\" or without these characters at all\n",
    "        # It means that the input number is positive\n",
    "        elif s.startswith(\"+\"):\n",
    "            index = 1\n",
    "        else:\n",
    "            index = 0\n",
    "        # If the input string has \"-\" or \"+\" we should start iteration from index 1, not index 0\n",
    "        # Otherwise, we start from index 0\n",
    "        while index < len(s) and s[index].isdigit():\n",
    "            myString += s[index] # The variable stores numeric values\n",
    "            index += 1\n",
    "        if not myString: # If the variable doesn't have stored numeric values - we have nothing to return, so we return 0\n",
    "            return 0\n",
    "        else:\n",
    "            # Otherwise, we return the stored values in the integer form\n",
    "            if positive:\n",
    "                final_number = int(myString)\n",
    "            else:\n",
    "                final_number = neg(int(myString)) # operator.neg helps transform the positive number into the negative one\n",
    "        # As was envisaged by the problem itself, we should set some limits as well\n",
    "        if final_number > 2 ** 31 - 1:\n",
    "            return 2 ** 31 - 1\n",
    "        elif final_number < -2 ** 31:\n",
    "            return -2 ** 31\n",
    "        else:\n",
    "            return final_number\n",
    "        \n",
    "a = Solution()\n",
    "a.myAtoi(\"42\")"
   ]
  }
 ],
 "metadata": {
  "kernelspec": {
   "display_name": "Python 3 (ipykernel)",
   "language": "python",
   "name": "python3"
  },
  "language_info": {
   "codemirror_mode": {
    "name": "ipython",
    "version": 3
   },
   "file_extension": ".py",
   "mimetype": "text/x-python",
   "name": "python",
   "nbconvert_exporter": "python",
   "pygments_lexer": "ipython3",
   "version": "3.9.7"
  }
 },
 "nbformat": 4,
 "nbformat_minor": 5
}
