{
 "cells": [
  {
   "cell_type": "markdown",
   "id": "67553a05",
   "metadata": {},
   "source": [
    "### 80. Remove Duplicates from Sorted Array II"
   ]
  },
  {
   "cell_type": "code",
   "execution_count": 22,
   "id": "15200b9d",
   "metadata": {},
   "outputs": [
    {
     "data": {
      "text/plain": [
       "5"
      ]
     },
     "execution_count": 22,
     "metadata": {},
     "output_type": "execute_result"
    }
   ],
   "source": [
    "\"\"\"\n",
    "Given an integer array nums sorted in non-decreasing order, remove some duplicates in-place such that \n",
    "each unique element appears at most twice. The relative order of the elements should be kept the same.\n",
    "Since it is impossible to change the length of the array in some languages, you must instead have the \n",
    "result be placed in the first part of the array nums. More formally, if there are k elements after \n",
    "removing the duplicates, then the first k elements of nums should hold the final result. It does not \n",
    "matter what you leave beyond the first k elements.\n",
    "Return k after placing the final result in the first k slots of nums.\n",
    "Do not allocate extra space for another array. You must do this by modifying the input array in-place \n",
    "with O(1) extra memory.\n",
    "Custom Judge:\n",
    "\n",
    "The judge will test your solution with the following code:\n",
    "\n",
    "int[] nums = [...]; // Input array\n",
    "int[] expectedNums = [...]; // The expected answer with correct length\n",
    "\n",
    "int k = removeDuplicates(nums); // Calls your implementation\n",
    "\n",
    "assert k == expectedNums.length;\n",
    "for (int i = 0; i < k; i++) {\n",
    "    assert nums[i] == expectedNums[i];\n",
    "}\n",
    "If all assertions pass, then your solution will be accepted.\n",
    "Example 1:\n",
    "\n",
    "Input: nums = [1,1,1,2,2,3]\n",
    "Output: 5, nums = [1,1,2,2,3,_]\n",
    "Explanation: Your function should return k = 5, with the first five elements of nums being 1, 1, 2, 2 and 3 respectively.\n",
    "It does not matter what you leave beyond the returned k (hence they are underscores).\n",
    "Example 2:\n",
    "\n",
    "Input: nums = [0,0,1,1,1,1,2,3,3]\n",
    "Output: 7, nums = [0,0,1,1,2,3,3,_,_]\n",
    "Explanation: Your function should return k = 7, with the first seven elements of nums being 0, 0, 1, 1, 2, 3 and 3 respectively.\n",
    "It does not matter what you leave beyond the returned k (hence they are underscores).\n",
    "\"\"\"\n",
    "\n",
    "from collections import Counter # With the help of 'collections.Counter' we will be able to count the total \n",
    "# occurrence of elements/numbers within the input list. If the occurrence is bigger than 2 - we try to replace\n",
    "# redundant occurrences with some other values, for instance - \"_\"\n",
    "\n",
    "class Solution:\n",
    "    def removeDuplicates(self, nums: List[int]) -> int:\n",
    "        while True: # This code is aimed at finding redundant duplicates of elements and replacing them with \"_\"\n",
    "            duplicate = False\n",
    "            myDict = dict(Counter(nums))\n",
    "            count = 0\n",
    "            for i in range(len(nums)):\n",
    "                if myDict[nums[i]] > 2 and nums[i] != \"_\":\n",
    "                    nums[i] = \"_\"\n",
    "                    duplicate = True\n",
    "                    break\n",
    "                elif nums[i] != \"_\": # At the same time we count the number of real values without redundant \n",
    "                    # duplicates\n",
    "                    count += 1\n",
    "            if not duplicate:\n",
    "                break\n",
    "        # When all redundant duplicates are replaced with \"_\" - the final step is to place non-numeric values \n",
    "        # in the second part of the modified array\n",
    "        # To implement that it is feasible to use the Bubble Sort algorithm\n",
    "        for i in range(len(nums)):\n",
    "            for j in range(len(nums) - i - 1):\n",
    "                if nums[j] == \"_\":\n",
    "                    nums[j], nums[j + 1] = nums[j + 1], nums[j]\n",
    "        return count # Finally, it is necessary to return the count of real values\n",
    "    \n",
    "a = Solution()\n",
    "a.removeDuplicates([1,1,1,2,2,3])"
   ]
  }
 ],
 "metadata": {
  "kernelspec": {
   "display_name": "Python 3 (ipykernel)",
   "language": "python",
   "name": "python3"
  },
  "language_info": {
   "codemirror_mode": {
    "name": "ipython",
    "version": 3
   },
   "file_extension": ".py",
   "mimetype": "text/x-python",
   "name": "python",
   "nbconvert_exporter": "python",
   "pygments_lexer": "ipython3",
   "version": "3.9.7"
  }
 },
 "nbformat": 4,
 "nbformat_minor": 5
}
