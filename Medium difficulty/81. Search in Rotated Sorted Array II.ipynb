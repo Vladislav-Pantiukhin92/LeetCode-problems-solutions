{
 "cells": [
  {
   "cell_type": "markdown",
   "id": "81e5645f",
   "metadata": {},
   "source": [
    "### 81. Search in Rotated Sorted Array II"
   ]
  },
  {
   "cell_type": "code",
   "execution_count": 4,
   "id": "10a790ee",
   "metadata": {},
   "outputs": [
    {
     "data": {
      "text/plain": [
       "True"
      ]
     },
     "execution_count": 4,
     "metadata": {},
     "output_type": "execute_result"
    }
   ],
   "source": [
    "\"\"\"\n",
    "There is an integer array nums sorted in non-decreasing order (not necessarily with distinct values).\n",
    "Before being passed to your function, nums is rotated at an unknown pivot index k (0 <= k < nums.length) \n",
    "such that the resulting array is [nums[k], nums[k+1], ..., nums[n-1], nums[0], nums[1], ..., nums[k-1]] \n",
    "(0-indexed). For example, [0,1,2,4,4,4,5,6,6,7] might be rotated at pivot index 5 and become \n",
    "[4,5,6,6,7,0,1,2,4,4].\n",
    "Given the array nums after the rotation and an integer target, return true if target is in nums, \n",
    "or false if it is not in nums.\n",
    "You must decrease the overall operation steps as much as possible.\n",
    "\n",
    "Example 1:\n",
    "\n",
    "Input: nums = [2,5,6,0,0,1,2], target = 0\n",
    "Output: true\n",
    "Example 2:\n",
    "\n",
    "Input: nums = [2,5,6,0,0,1,2], target = 3\n",
    "Output: false\n",
    "\"\"\"\n",
    "\n",
    "class Solution:\n",
    "    def search(self, nums: List[int], target: int) -> bool:\n",
    "        # The solution of this problem can be divided into two stages:\n",
    "        # The first stage - is to sort the input array (for instance, in the ascending order)\n",
    "        # The second stage - is to utilize the efficient search algorithm O(log n) to find the element or be certain\n",
    "        # that the element is missed within the input array\n",
    "        \n",
    "        # To execute the first stage, the Insertion Sort algorithm can be utilized\n",
    "        def insertion_sort(array):\n",
    "            for i in range(1, len(array)):\n",
    "                j = i\n",
    "                while j > 0 and array[j - 1] > array[j]:\n",
    "                    array[j - 1], array[j] = array[j], array[j - 1]\n",
    "                    j -= 1\n",
    "            return array\n",
    "        sorted_array = insertion_sort(nums)\n",
    "        # The above-mentioned variable preserved the sorted array\n",
    "        # The second stage is implemented through the execution of the Interpolation Search algorithm\n",
    "        # The Interpolation Search uses the term of interpolation function to determine the location of the element\n",
    "        \n",
    "        def interpolation_search(array, target, low, high):\n",
    "            if low > high:\n",
    "                return False\n",
    "            try:\n",
    "                mid = low + ((high - low) * (target - array[low])) // (array[high] - array[low])\n",
    "                \n",
    "            # Sometimes, ZeroDivisionError emerges in case of small arrays\n",
    "            # To avoid such kind of error the 'try-except' expression is initialized\n",
    "            \n",
    "            except ZeroDivisionError:\n",
    "                mid = 0\n",
    "            if mid > high or mid < low:\n",
    "                return False\n",
    "            else:\n",
    "                if array[mid] == target:\n",
    "                    return True\n",
    "                else:\n",
    "                    if target > array[mid]:\n",
    "                        # To find the element the recursion call is used\n",
    "                        return interpolation_search(array, target, mid + 1, high)\n",
    "                    else:\n",
    "                        return interpolation_search(array, target, low, mid - 1)\n",
    "        final = interpolation_search(sorted_array, target, 0, len(sorted_array) - 1)\n",
    "        return final\n",
    "\n",
    "a = Solution()\n",
    "a.search([2,5,6,0,0,1,2], 0)"
   ]
  }
 ],
 "metadata": {
  "kernelspec": {
   "display_name": "Python 3 (ipykernel)",
   "language": "python",
   "name": "python3"
  },
  "language_info": {
   "codemirror_mode": {
    "name": "ipython",
    "version": 3
   },
   "file_extension": ".py",
   "mimetype": "text/x-python",
   "name": "python",
   "nbconvert_exporter": "python",
   "pygments_lexer": "ipython3",
   "version": "3.9.7"
  }
 },
 "nbformat": 4,
 "nbformat_minor": 5
}
