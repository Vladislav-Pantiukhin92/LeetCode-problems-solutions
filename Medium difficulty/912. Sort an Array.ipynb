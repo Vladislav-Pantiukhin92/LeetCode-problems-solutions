{
 "cells": [
  {
   "cell_type": "markdown",
   "id": "e0be7625",
   "metadata": {},
   "source": [
    "### 912. Sort an Array"
   ]
  },
  {
   "cell_type": "code",
   "execution_count": 96,
   "id": "dc08f176",
   "metadata": {},
   "outputs": [
    {
     "data": {
      "text/plain": [
       "[0, 0, 1, 1, 2, 5]"
      ]
     },
     "execution_count": 96,
     "metadata": {},
     "output_type": "execute_result"
    }
   ],
   "source": [
    "\"\"\"\n",
    "Given an array of integers nums, sort the array in ascending order.\n",
    "Example 1:\n",
    "\n",
    "Input: nums = [5,2,3,1]\n",
    "Output: [1,2,3,5]\n",
    "Example 2:\n",
    "\n",
    "Input: nums = [5,1,1,2,0,0]\n",
    "Output: [0,0,1,1,2,5]\n",
    "\"\"\"\n",
    "\n",
    "# The most optimal and the fastest solution is to use the Merge Sort Algorithm\n",
    "class Solution:\n",
    "    def sortArray(self, nums: List[int]) -> List[int]:\n",
    "        def mergeSort(array): # Termination case (when the array should not be sorted anymore)\n",
    "            if len(array) < 2:\n",
    "                return array \n",
    "            else:\n",
    "                # The major principle envisages the division of the input array into two parts, each of which \n",
    "                # is sorted separately through recursion\n",
    "                middle = len(array) // 2\n",
    "                left = array[:middle]\n",
    "                right = array[middle:]\n",
    "                left = mergeSort(left)\n",
    "                right = mergeSort(right)\n",
    "                return merge(left, right)\n",
    "        # The final step is to combine, merge two arrays, which were sorted previously through recursion\n",
    "        def merge(array1, array2):\n",
    "            final = []\n",
    "            # We are going to use two pointers for two sorted arrays respectively\n",
    "            i = 0 \n",
    "            k = 0 \n",
    "            # During the iteration process we will add the smallest element from two sorted array to the final list\n",
    "            while i < len(array1) and k < len(array2):\n",
    "                if array1[i] > array2[k]:\n",
    "                    final.append(array2[k])\n",
    "                    k += 1\n",
    "                else:\n",
    "                    final.append(array1[i])\n",
    "                    i += 1\n",
    "            while i < len(array1):\n",
    "                final.append(array1[i])\n",
    "                i += 1\n",
    "            while k < len(array2):\n",
    "                final.append(array2[k])\n",
    "                k += 1\n",
    "            # Finally, when the traversal of two sorted arrays came to an end, we are able to return the final output\n",
    "            return final \n",
    "        result = mergeSort(nums)\n",
    "        return result\n",
    "a = Solution()\n",
    "a.sortArray([5,1,1,2,0,0])"
   ]
  }
 ],
 "metadata": {
  "kernelspec": {
   "display_name": "Python 3 (ipykernel)",
   "language": "python",
   "name": "python3"
  },
  "language_info": {
   "codemirror_mode": {
    "name": "ipython",
    "version": 3
   },
   "file_extension": ".py",
   "mimetype": "text/x-python",
   "name": "python",
   "nbconvert_exporter": "python",
   "pygments_lexer": "ipython3",
   "version": "3.9.7"
  }
 },
 "nbformat": 4,
 "nbformat_minor": 5
}
